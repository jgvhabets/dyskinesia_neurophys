{
 "cells": [
  {
   "attachments": {},
   "cell_type": "markdown",
   "metadata": {},
   "source": [
    "# Explore extracted BETA-Features based on SSD"
   ]
  },
  {
   "attachments": {},
   "cell_type": "markdown",
   "metadata": {},
   "source": [
    "### 0) Load packages and functions"
   ]
  },
  {
   "cell_type": "code",
   "execution_count": 1,
   "metadata": {},
   "outputs": [],
   "source": [
    "# Importing Python and external packages\n",
    "import os\n",
    "import sys\n",
    "import importlib\n",
    "import json\n",
    "import csv\n",
    "from dataclasses import dataclass, field, fields\n",
    "from itertools import compress\n",
    "import pandas as pd\n",
    "import numpy as np\n",
    "\n",
    "import sklearn as sk\n",
    "from scipy import signal, stats\n",
    "\n",
    "import matplotlib.pyplot as plt\n",
    "\n"
   ]
  },
  {
   "cell_type": "code",
   "execution_count": 2,
   "metadata": {},
   "outputs": [],
   "source": [
    "def get_project_path_in_notebook(\n",
    "    subfolder: str = '',\n",
    "):\n",
    "    \"\"\"\n",
    "    Finds path of projectfolder from Notebook.\n",
    "    Start running this once to correctly find\n",
    "    other modules/functions\n",
    "    \"\"\"\n",
    "    path = os.getcwd()\n",
    "\n",
    "    while path[-20:] != 'dyskinesia_neurophys':\n",
    "\n",
    "        path = os.path.dirname(path)\n",
    "    \n",
    "    return path"
   ]
  },
  {
   "cell_type": "code",
   "execution_count": 3,
   "metadata": {},
   "outputs": [],
   "source": [
    "# define local storage directories\n",
    "projectpath = get_project_path_in_notebook()\n",
    "codepath = os.path.join(projectpath, 'code')\n",
    "figpath = os.path.join(projectpath, 'figures')\n",
    "datapath = os.path.join(projectpath, 'data')\n",
    "feat_path = os.path.join(projectpath, 'results', 'features')"
   ]
  },
  {
   "cell_type": "code",
   "execution_count": 4,
   "metadata": {},
   "outputs": [],
   "source": [
    "os.chdir(codepath)\n",
    "# own utility functions\n",
    "import utils.utils_fileManagement as utilsFiles\n",
    "import utils.utils_windowing as utilsWindows\n",
    "from utils.utils_fileManagement import (get_project_path,\n",
    "                                        load_class_pickle,\n",
    "                                        save_class_pickle,\n",
    "                                        mergedData,\n",
    "                                        correct_acc_class)\n",
    "# own data preprocessing functions\n",
    "import lfpecog_preproc.preproc_data_management as dataMng\n",
    "# own data exploration functions\n",
    "import lfpecog_features.feats_read_proc_data as read_data\n",
    "import lfpecog_plotting.expl_plotting as expl_plot\n",
    "\n",
    "\n",
    "\n",
    "import lfpecog_preproc.preproc_import_scores_annotations as importClin\n",
    "import lfpecog_analysis.import_ephys_results as importResults\n",
    "import lfpecog_analysis.get_acc_derivs as accDerivs\n",
    "\n",
    "\n",
    "from lfpecog_plotting.plotHelpers import remove_duplicate_legend"
   ]
  },
  {
   "attachments": {},
   "cell_type": "markdown",
   "metadata": {},
   "source": [
    "### 1) Define settings"
   ]
  },
  {
   "cell_type": "code",
   "execution_count": 6,
   "metadata": {},
   "outputs": [],
   "source": [
    "SETTINGS = utilsFiles.load_ft_ext_cfg(cfg_fname='ftExtr_spectral_v1.json')\n",
    "\n",
    "ssd_ft_path = os.path.join(feat_path, 'SSD_feats',\n",
    "                           SETTINGS['DATA_VERSION'],\n",
    "                           f\"windows_{SETTINGS['WIN_LEN_sec']}s_\"\n",
    "                           f\"{SETTINGS['WIN_OVERLAP_part']}overlap\")\n",
    "IGNORE_PTS = ['010', '011']  # 011 did not start in OFF, 010: check ECoG\n",
    "\n",
    "SUBS_STUN_EFFECT = ['009', '014', '016']"
   ]
  },
  {
   "cell_type": "code",
   "execution_count": 7,
   "metadata": {},
   "outputs": [],
   "source": [
    "# get all available subs with features \n",
    "SUBS = list(set([name.split('_')[1] for name in os.listdir(ssd_ft_path)]))\n",
    "\n",
    "for sub in IGNORE_PTS:\n",
    "    if sub in SUBS: SUBS.remove(sub)"
   ]
  },
  {
   "attachments": {},
   "cell_type": "markdown",
   "metadata": {},
   "source": [
    "### 1a) Load Clinical Scores\n",
    "\n",
    "OFF definition:\n",
    "    \n",
    "    - up to 15 minutes after L-Dopa intake (max. dopa_time is 15)\n",
    "    \n",
    "    - no CDRS in total (max. CDRS total is 0)\n",
    "\n",
    "    \n",
    "ON definition:\n",
    "    \n",
    "    - at least 45 minutes after L-Dopa intake (min. dopa time is 45)\n",
    "    \n",
    "    - no severe Dyskinesia (max CDRS total is 5)\n",
    "\n",
    "\n",
    "Stun-effect: sub-analysis on patients with significant OFF-reduction after OR versus pre-operative"
   ]
  },
  {
   "cell_type": "code",
   "execution_count": 42,
   "metadata": {},
   "outputs": [
    {
     "data": {
      "text/plain": [
       "array([0, 3.999999999999986, 7.999999999999972, 11.999999999999957,\n",
       "       19.950000000000003, 20.56666666666663, 22.433333333333294, 23,\n",
       "       26.43333333333328, 32.28333333333332], dtype=object)"
      ]
     },
     "execution_count": 42,
     "metadata": {},
     "output_type": "execute_result"
    }
   ],
   "source": [
    "ft_times = fts.sub008.powers.index.values\n",
    "scores_values = fts.sub008.scores.total\n",
    "scores_minutes = fts.sub008.scores.times\n",
    "ft_minutes = ft_times / 60\n",
    "\n",
    "scores_minutes"
   ]
  },
  {
   "cell_type": "code",
   "execution_count": 47,
   "metadata": {},
   "outputs": [
    {
     "data": {
      "text/plain": [
       "array([0.01666667, 0.01944444, 0.02222222, 0.025     , 0.02777778,\n",
       "       0.03055556, 0.03333333, 0.03611111, 0.03888889, 0.04166667,\n",
       "       0.04444444, 0.04722222, 0.05      , 0.05277778, 0.05555556,\n",
       "       0.05833333, 0.06111111, 0.06388889, 0.06666667, 0.06944444,\n",
       "       0.07222222, 0.075     , 0.07777778, 0.08055556, 0.08333333,\n",
       "       0.08611111, 0.08888889, 0.09166667, 0.09444444, 0.09722222,\n",
       "       0.1       , 0.10277778, 0.10555556, 0.10833333, 0.11111111,\n",
       "       0.11388889, 0.11666667, 0.11944444, 0.12222222, 0.125     ,\n",
       "       0.12777778, 0.13055556, 0.13333333, 0.15555556, 0.15833333,\n",
       "       0.16111111, 0.16388889, 0.16666667, 0.16944444, 0.17222222,\n",
       "       0.175     , 0.17777778, 0.18055556, 0.18333333, 0.18611111,\n",
       "       0.18888889, 0.19166667, 0.19444444, 0.19722222, 0.2       ,\n",
       "       0.20277778, 0.20555556, 0.20833333, 0.21111111, 0.21388889,\n",
       "       0.21666667, 0.21944444, 0.22222222, 0.225     , 0.22777778,\n",
       "       0.23055556, 0.23333333, 0.23611111, 0.23888889, 0.24166667,\n",
       "       0.24444444, 0.24722222, 0.25      , 0.25277778, 0.25555556,\n",
       "       0.25833333, 0.26111111, 0.26388889, 0.26666667, 0.26944444,\n",
       "       0.27222222, 0.275     , 0.27777778, 0.28055556, 0.28333333,\n",
       "       0.28611111, 0.28888889, 0.29166667, 0.29444444, 0.29722222,\n",
       "       0.3       , 0.30277778, 0.30555556, 0.30833333, 0.31111111,\n",
       "       0.31388889, 0.31666667, 0.33333333, 0.33611111, 0.33888889,\n",
       "       0.34166667, 0.34444444, 0.34722222, 0.35      , 0.35277778,\n",
       "       0.35555556, 0.35833333, 0.36111111, 0.36388889, 0.36666667,\n",
       "       0.36944444, 0.37222222, 0.375     , 0.37777778, 0.38055556,\n",
       "       0.38333333, 0.38611111, 0.38888889, 0.39166667, 0.39444444,\n",
       "       0.39722222, 0.4       , 0.40277778, 0.40555556, 0.40833333,\n",
       "       0.41111111, 0.41388889, 0.41666667, 0.41944444, 0.42222222,\n",
       "       0.425     , 0.42777778, 0.43055556, 0.43333333, 0.43611111,\n",
       "       0.43888889, 0.44166667, 0.44444444, 0.44722222, 0.45      ,\n",
       "       0.45277778, 0.45555556, 0.45833333, 0.475     , 0.47777778,\n",
       "       0.48055556, 0.48333333, 0.48611111, 0.48888889, 0.49166667,\n",
       "       0.49444444, 0.49722222, 0.5       , 0.50277778, 0.50555556,\n",
       "       0.50833333, 0.51111111, 0.51388889, 0.51666667, 0.51944444,\n",
       "       0.52222222, 0.525     , 0.52777778, 0.53055556, 0.53333333,\n",
       "       0.53611111, 0.53888889, 0.54166667, 0.54444444, 0.54722222,\n",
       "       0.55      , 0.55277778, 0.56944444, 0.57222222, 0.575     ,\n",
       "       0.57777778, 0.58055556, 0.58333333, 0.58611111, 0.58888889,\n",
       "       0.59166667, 0.59444444, 0.59722222, 0.6       , 0.60277778,\n",
       "       0.60555556, 0.60833333, 0.61111111, 0.61388889, 0.61666667,\n",
       "       0.61944444, 0.62222222, 0.625     , 0.62777778, 0.63055556,\n",
       "       0.63333333, 0.63611111, 0.63888889, 0.64166667, 0.64444444,\n",
       "       0.64722222, 0.65      , 0.65277778, 0.65555556, 0.65833333,\n",
       "       0.66111111, 0.66388889, 0.66666667, 0.66944444, 0.67222222,\n",
       "       0.675     , 0.67777778, 0.68055556, 0.68333333, 0.68611111,\n",
       "       0.68888889, 0.69166667, 0.69444444, 0.69722222, 0.7       ,\n",
       "       0.70277778, 0.70555556, 0.70833333, 0.71111111, 0.71388889,\n",
       "       0.71666667, 0.71944444, 0.72222222, 0.725     , 0.72777778,\n",
       "       0.73055556, 0.73333333, 0.73888889, 0.74166667, 0.74444444,\n",
       "       0.74722222, 0.75      , 0.75277778, 0.75555556, 0.75833333,\n",
       "       0.76111111, 0.76388889, 0.76666667, 0.76944444, 0.77222222,\n",
       "       0.775     , 0.77777778, 0.78055556, 0.78333333, 0.78611111,\n",
       "       0.78888889, 0.79166667, 0.79444444, 0.79722222, 0.8       ,\n",
       "       0.80277778, 0.80555556, 0.80833333, 0.81111111, 0.81388889,\n",
       "       0.81666667, 0.81944444, 0.82222222, 0.825     , 0.82777778,\n",
       "       0.83055556, 0.83333333, 0.83611111, 0.83888889, 0.84166667,\n",
       "       0.84444444, 0.84722222, 0.85      , 0.85277778, 0.85555556,\n",
       "       0.85833333, 1.21111111, 1.21388889, 1.21666667, 1.21944444,\n",
       "       1.22222222, 1.225     , 1.22777778, 1.23055556, 1.23333333,\n",
       "       1.23611111, 1.23888889, 1.24166667, 1.24444444, 1.24722222,\n",
       "       1.25      , 1.25277778, 1.25555556, 1.25833333, 1.26111111,\n",
       "       1.26388889, 1.26666667, 1.26944444, 1.27222222, 1.275     ,\n",
       "       1.27777778, 1.28055556, 1.28333333, 1.28611111, 1.28888889,\n",
       "       1.29166667, 1.30833333, 1.31111111, 1.31388889, 1.31666667,\n",
       "       1.31944444, 1.32222222, 1.325     , 1.32777778, 1.33055556,\n",
       "       1.33333333, 1.33611111, 1.33888889, 1.34166667, 1.34444444,\n",
       "       1.34722222, 1.35      , 1.35277778, 1.35555556, 1.35833333,\n",
       "       1.36111111, 1.36388889, 1.36666667, 1.36944444, 1.37222222,\n",
       "       1.375     ])"
      ]
     },
     "execution_count": 47,
     "metadata": {},
     "output_type": "execute_result"
    }
   ],
   "source": [
    "sub_times"
   ]
  },
  {
   "cell_type": "code",
   "execution_count": 51,
   "metadata": {},
   "outputs": [
    {
     "data": {
      "image/png": "[encoded data removed]",
      "text/plain": [
       "<Figure size 640x480 with 1 Axes>"
      ]
     },
     "metadata": {},
     "output_type": "display_data"
    },
    {
     "data": {
      "image/png": "[encoded data removed]",
      "text/plain": [
       "<Figure size 640x480 with 1 Axes>"
      ]
     },
     "metadata": {},
     "output_type": "display_data"
    },
    {
     "data": {
      "image/png": "[encoded data removed]",
      "text/plain": [
       "<Figure size 640x480 with 1 Axes>"
      ]
     },
     "metadata": {},
     "output_type": "display_data"
    },
    {
     "data": {
      "image/png": "[encoded data removed]",
      "text/plain": [
       "<Figure size 640x480 with 1 Axes>"
      ]
     },
     "metadata": {},
     "output_type": "display_data"
    },
    {
     "data": {
      "image/png": "[encoded data removed]",
      "text/plain": [
       "<Figure size 640x480 with 1 Axes>"
      ]
     },
     "metadata": {},
     "output_type": "display_data"
    },
    {
     "data": {
      "image/png": "[encoded data removed]",
      "text/plain": [
       "<Figure size 640x480 with 1 Axes>"
      ]
     },
     "metadata": {},
     "output_type": "display_data"
    }
   ],
   "source": [
    "\n",
    "\n",
    "for sub in SUBS:\n",
    "        \n",
    "    cdrss = {}\n",
    "    for rater in ['Patricia', 'Jeroen']:\n",
    "        cdrss[rater[0]] = importClin.read_clinical_scores(sub=sub, rater=rater)\n",
    "\n",
    "    sub_times = getattr(fts, f'sub{sub}').powers.index.values.copy()\n",
    "    sub_times /= 60\n",
    "\n",
    "    # off_times_sel = \n",
    "\n",
    "    for rater in ['J', 'P']:\n",
    "        plt.scatter(cdrss[rater]['dopa_time'] + .3,\n",
    "                    cdrss[rater]['CDRS_total'],\n",
    "                    label=rater)\n",
    "\n",
    "    plt.scatter(sub_times, [.5] * len(sub_times),\n",
    "                color='gray', alpha=.3, label='fts')\n",
    "    plt.title(sub)\n",
    "    plt.legend()\n",
    "    plt.show()"
   ]
  },
  {
   "cell_type": "code",
   "execution_count": 25,
   "metadata": {},
   "outputs": [],
   "source": [
    "SCORES = {}\n",
    "ECOG_SIDES = {}\n",
    "REMOVE_TIMES = {}  # remove moments with only 'WRONG SIDE' dyskinesia\n",
    "\n",
    "for sub in SUBS:\n",
    "        # # GET UNILATERAL (CONTRA ECOG) CDRS SCORES\n",
    "        # scores_temp = importClin.read_clinical_scores(sub=sub,\n",
    "        #                                               rater='Patricia')\n",
    "        #         # check if scores are present\n",
    "        # if type(scores_temp) == type(None):\n",
    "        #         print(f'None CDRS-scores loaded for sub {sub}')\n",
    "        #         continue\n",
    "\n",
    "        # # get ECoG-side\n",
    "        # ecog_side = importClin.get_ecog_side(sub)\n",
    "        # ECOG_SIDES[sub] = ecog_side\n",
    "        # # define CDRS of body-side to include\n",
    "        # if ecog_side == 'left': LID_side_incl = 'right'\n",
    "        # elif ecog_side == 'right': LID_side_incl = 'left'\n",
    "        \n",
    "        # # identify minutes to remove bcs only Dyskinesia at none-ECoG side\n",
    "        # REMOVE_TIMES[sub] = []\n",
    "        # for i, t in enumerate(scores_temp['dopa_time']):\n",
    "        #         if np.logical_and(scores_temp.iloc[i][f'CDRS_total_{LID_side_incl}'] < 1,\n",
    "        #                           scores_temp.iloc[i][f'CDRS_total_{ecog_side}'] > 0):\n",
    "        #                 REMOVE_TIMES[sub].append(t)\n",
    "\n",
    "        # # include selected CDRS\n",
    "        # SCORES[sub] = scores_temp[['dopa_time', f'CDRS_total_{LID_side_incl}']]\n",
    "        \n",
    "\n",
    "        # GET LID PRESENT OR NOT\n",
    "        temp = importClin.read_clinical_scores(sub=sub, rater='Patricia')\n",
    "        SCORES[sub] = temp[['dopa_time', 'CDRS_total']]\n"
   ]
  },
  {
   "cell_type": "code",
   "execution_count": 26,
   "metadata": {},
   "outputs": [
    {
     "data": {
      "text/plain": [
       "dict_keys(['012', '013', '009', '008', '016', '014'])"
      ]
     },
     "execution_count": 26,
     "metadata": {},
     "output_type": "execute_result"
    }
   ],
   "source": [
    "SCORES.keys()"
   ]
  },
  {
   "attachments": {},
   "cell_type": "markdown",
   "metadata": {},
   "source": [
    "### 1b) Load Features\n",
    "\n",
    "Only include ECoG and ECoG-sided STN-LFP for now"
   ]
  },
  {
   "cell_type": "code",
   "execution_count": 27,
   "metadata": {},
   "outputs": [],
   "source": [
    "import lfpecog_analysis.load_SSD_features as load_ssdFts\n",
    "import lfpecog_features.feats_phases as phaseFts"
   ]
  },
  {
   "cell_type": "code",
   "execution_count": 49,
   "metadata": {},
   "outputs": [
    {
     "name": "stdout",
     "output_type": "stream",
     "text": [
      "\n",
      "load SSDd features for sub-012\n",
      "\n",
      "load SSDd features for sub-013\n",
      "\n",
      "load SSDd features for sub-011\n",
      "\n",
      "load SSDd features for sub-009\n",
      "\n",
      "load SSDd features for sub-008\n",
      "\n",
      "load SSDd features for sub-016\n",
      "\n",
      "load SSDd features for sub-014\n"
     ]
    }
   ],
   "source": [
    "importlib.reload(load_ssdFts)\n",
    "importlib.reload(phaseFts)\n",
    "\n",
    "# load all SSDd features\n",
    "fts = load_ssdFts.ssdFeatures()"
   ]
  },
  {
   "cell_type": "code",
   "execution_count": null,
   "metadata": {},
   "outputs": [],
   "source": [
    "def get_pac_bins_ticks(pac_bins):\n",
    "\n",
    "    ticks = np.arange(-.5, len(pac_bins) + .5 )\n",
    "\n",
    "    ticklabels = np.linspace(pac_bins[0][0],\n",
    "                             pac_bins[-1][1],\n",
    "                             len(pac_bins) + 1)\n",
    "    \n",
    "    return ticks, ticklabels.astype(int)"
   ]
  },
  {
   "cell_type": "code",
   "execution_count": null,
   "metadata": {},
   "outputs": [],
   "source": [
    "temppac = fts.sub009.localPAC['ecog_left_lo_beta_narrow_gamma']\n",
    "i_win = 15\n",
    "\n",
    "plt.imshow(temppac.values[:, :, i_win])\n",
    "\n",
    "ticks, ticklabels = get_pac_bins_ticks(temppac.pha_bins)\n",
    "plt.xticks(ticks, labels=ticklabels,\n",
    "           rotation=0)\n",
    "ticks, ticklabels = get_pac_bins_ticks(temppac.amp_bins)\n",
    "plt.yticks(ticks, labels=ticklabels,)\n",
    "\n",
    "plt.xlabel('Phase frequency (Hz)')\n",
    "plt.ylabel('Ampltitude frequency (Hz)')\n",
    "\n",
    "plt.gca().invert_yaxis()\n",
    "\n",
    "plt.show()\n",
    "\n",
    "temppac.values.shape"
   ]
  },
  {
   "cell_type": "code",
   "execution_count": null,
   "metadata": {},
   "outputs": [],
   "source": [
    "# fts.sub011.coherences.STN_STN.hi_beta.imag_coh"
   ]
  },
  {
   "attachments": {},
   "cell_type": "markdown",
   "metadata": {},
   "source": [
    "### 1c) Prepare Features and Scores"
   ]
  },
  {
   "attachments": {},
   "cell_type": "markdown",
   "metadata": {},
   "source": [
    "Remove features to exclude and get CDRS scores to remaining features"
   ]
  },
  {
   "cell_type": "code",
   "execution_count": null,
   "metadata": {},
   "outputs": [],
   "source": [
    "# REMOVE ROWS DUE TO DYSKINESIA ONLY (!!) IN NONE-ECOG-SIDE\n",
    "for sub in SUBS:\n",
    "  ft_times = FEATS[sub].index\n",
    "  score_times = SCORES[sub]['dopa_time']\n",
    "\n",
    "  remove_ft_idx = []\n",
    "  # select feature-rows which are closest to a CDRS-moments which should be excluded\n",
    "  for ft_row, t in enumerate(ft_times):\n",
    "      t_diffs = abs(score_times - t)\n",
    "      i = np.argmin(t_diffs)\n",
    "\n",
    "      if score_times[i] in REMOVE_TIMES[sub]:\n",
    "        remove_ft_idx.append(ft_times[i])  \n",
    "          \n",
    "  FEATS[sub] = FEATS[sub].drop(remove_ft_idx, axis=0)\n",
    "  print(f'removed {len(remove_ft_idx)} rows in sub-{sub}')"
   ]
  },
  {
   "cell_type": "code",
   "execution_count": null,
   "metadata": {},
   "outputs": [],
   "source": [
    "# DEFINE CDRS LABELS FOR FEATURE WINDOW TIMES\n",
    "FT_LABELS = {}\n",
    "\n",
    "for sub in SUBS:\n",
    "    ft_times = FEATS[sub].index\n",
    "\n",
    "    ft_scores = []\n",
    "\n",
    "    for t in ft_times:\n",
    "        t_diffs = abs(SCORES[sub]['dopa_time'] - t)\n",
    "        i = np.argmin(t_diffs)\n",
    "        ft_scores.append(SCORES[sub].iat[i, 1])  # take column 1, is CDRS score\n",
    "\n",
    "    FT_LABELS[sub] = ft_scores\n",
    "\n",
    "    assert FEATS[sub].shape[0] == len(FT_LABELS[sub]), (\n",
    "        'Feature DataFrame and Ft-Labels must have same length'\n",
    "    )\n",
    "# no_LID_sel = np.array(ft_scores) == 0\n",
    "# LID_sel = np.array(ft_scores) >= LID_SCORE_INCL\n"
   ]
  },
  {
   "attachments": {},
   "cell_type": "markdown",
   "metadata": {},
   "source": [
    "### 2) Explore"
   ]
  },
  {
   "cell_type": "code",
   "execution_count": null,
   "metadata": {},
   "outputs": [],
   "source": [
    "from itertools import product"
   ]
  },
  {
   "cell_type": "code",
   "execution_count": null,
   "metadata": {},
   "outputs": [],
   "source": [
    "import lfpecog_plotting.plotHelpers as pltHelp"
   ]
  },
  {
   "cell_type": "code",
   "execution_count": null,
   "metadata": {},
   "outputs": [],
   "source": [
    "X_total = []\n",
    "y_total_binary = []\n",
    "y_total_scale = []\n",
    "sub_ids_total = []\n",
    "ft_times_total = []\n",
    "\n",
    "EXCL_CODE = 99\n",
    "\n",
    "TO_PLOT = False\n",
    "\n",
    "if TO_PLOT:\n",
    "    fig, axes = plt.subplots(len(SUBS), 1, figsize=(12, 16))\n",
    "    fs = 16\n",
    "\n",
    "\n",
    "for i_s, sub in enumerate(SUBS):\n",
    "    # create lists to store values for boxplotting\n",
    "    bp_LID_values_list = []\n",
    "    bp_noLID_values_list = []\n",
    "    bp_keys = []\n",
    "\n",
    "\n",
    "    ### Create Y-labels based on CDRS (FT_LABELS)\n",
    "    no_LID_sel = np.array(FT_LABELS[sub]) == 0\n",
    "    LID_sel = np.array(FT_LABELS[sub]) >= LID_SCORE_INCL\n",
    "\n",
    "    # create binary y-labels\n",
    "    sub_y_bin = []  # y as binary\n",
    "    for noLID, LID in zip(no_LID_sel, LID_sel):\n",
    "        if noLID: sub_y_bin.append(0)\n",
    "        elif LID: sub_y_bin.append(1)\n",
    "        else: sub_y_bin.append(EXCL_CODE)\n",
    "    # add full scaled y-labels\n",
    "    sub_y_scale = FT_LABELS[sub]\n",
    "\n",
    "    # append sub-codes to sub-id list\n",
    "    sub_ids_total.append([sub] * FEATS[sub].shape[0])  # add subject code, as many times as there are feature rows\n",
    "\n",
    "    # add subjects ft-times to list\n",
    "    ft_times_total.append(FEATS[sub].index.values)\n",
    "\n",
    "    ### Create X with standardised Feature-arrays\n",
    "    sub_X = np.zeros_like((FEATS[sub]))\n",
    "\n",
    "    for n_col, ft in enumerate(FEATS[sub].keys()):\n",
    "        values = FEATS[sub].values[:, n_col]\n",
    "        # split values on Dyskinesia\n",
    "        noLID_values = values[no_LID_sel]\n",
    "        LID_values = values[LID_sel]\n",
    "        \n",
    "        # define mean and std of no-LID for Z-SCORE\n",
    "        m = np.nanmean(noLID_values)\n",
    "        sd = np.nanstd(noLID_values)\n",
    "        # Z-SCORE values\n",
    "        Z_LID_values = (LID_values - m) / sd\n",
    "        Z_noLID_values = (noLID_values - m) / sd\n",
    "        Z_ALL_values = (values - m) / sd\n",
    "\n",
    "        # add feat and z-score values to lists for BOXPLOT (WITHOUT NaNs)\n",
    "        bp_LID_values_list.append(list(Z_LID_values[~np.isnan(LID_values)]))\n",
    "        bp_keys.append(ft)\n",
    "\n",
    "        # store all feats for pred-exploration\n",
    "        sub_X[:, n_col] = Z_ALL_values\n",
    "    \n",
    "    X_total.append(sub_X)\n",
    "    y_total_binary.append(sub_y_bin)\n",
    "    y_total_scale.append(sub_y_scale)\n",
    "\n",
    "    if TO_PLOT:\n",
    "        ##### PLOT BOXPLOT OF FEATURES ######\n",
    "        box = axes[i_s].boxplot(bp_LID_values_list)\n",
    "        plt.setp(box['fliers'], color='gray')\n",
    "        # plt.setp(box['whiskers'], color='red')\n",
    "\n",
    "        axes[i_s].axhline(y=0, xmin=0, xmax=24, color='k', alpha=.3)\n",
    "        for y_line in [-2, 2]: axes[i_s].axhline(y=y_line, xmin=0, xmax=24, color='r', alpha=.3)\n",
    "\n",
    "        axes[i_s].set_ylim(-6, 6)\n",
    "        axes[i_s].set_ylabel(f'z-scores\\nvs no-LID (a.u.)', fontsize=fs)\n",
    "        axes[i_s].set_title(f'Sub-{sub} (mean unilat. CDRS '\n",
    "                            f'{round(np.mean(FT_LABELS[sub]), 2)})',\n",
    "                            weight='bold', fontsize=fs)\n",
    "        axes[i_s].set_xticklabels(['mx', 'mn', 'cv'] * int(len(bp_keys) / 3),\n",
    "                                fontsize=fs,)\n",
    "\n",
    "        for side in ['top','right','bottom']:\n",
    "            axes[i_s].spines[side].set_visible(False)\n",
    "\n",
    "        ### fill colors\n",
    "        colors = {\n",
    "            'alpha': 'yellow',\n",
    "            'lo_beta': 'lightblue',\n",
    "            'hi_beta': 'darkblue',\n",
    "            'midgamma': 'green'\n",
    "        }\n",
    "        hatches = {\n",
    "            'STN': '',\n",
    "            'ECoG': '//'\n",
    "        }\n",
    "\n",
    "        x_fill_list = []\n",
    "        for x1 in np.arange(.5, len(bp_keys) + .5, 3):\n",
    "            x2 = x1 + 3\n",
    "            x_fill_list.append([x1, x2])\n",
    "\n",
    "        for i_x, (src, bw) in  enumerate(product(hatches.keys(), colors.keys())):\n",
    "            axes[i_s].fill_betweenx(\n",
    "                y=np.arange(-6, 6), x1=x_fill_list[i_x][0],\n",
    "                x2=x_fill_list[i_x][1], color=colors[bw], hatch=hatches[src],\n",
    "                label=f'{src} {bw}', alpha=.2, edgecolor='gray',)\n",
    "if TO_PLOT:\n",
    "    leg_content = plt.gca().get_legend_handles_labels()\n",
    "    handles, labels = pltHelp.remove_duplicate_legend(leg_content)\n",
    "    plt.legend(handles, labels, ncol=4, frameon=False,\n",
    "            loc='upper center', bbox_to_anchor=(0.5, -0.2),fancybox=False,\n",
    "            prop={'weight': 'bold', 'size': fs})\n",
    "\n",
    "    plt.suptitle('Individual Feature values during Dyskinesia\\n', weight='bold', fontsize=fs+4)\n",
    "    plt.tight_layout()\n",
    "\n",
    "    figname = 'LID_ssdFeatures_boxplots_indiv'\n",
    "    # plt.savefig(os.path.join(figpath, 'ft_exploration', 'SSD', figname),\n",
    "    #             dpi=300, facecolor='w',)\n",
    "    plt.close()\n",
    "\n",
    "print(f'FEATURES X-AXIS: {bp_keys}')\n"
   ]
  },
  {
   "cell_type": "code",
   "execution_count": null,
   "metadata": {},
   "outputs": [],
   "source": []
  }
 ],
 "metadata": {
  "kernelspec": {
   "display_name": "ecog_dysk",
   "language": "python",
   "name": "python3"
  },
  "language_info": {
   "codemirror_mode": {
    "name": "ipython",
    "version": 3
   },
   "file_extension": ".py",
   "mimetype": "text/x-python",
   "name": "python",
   "nbconvert_exporter": "python",
   "pygments_lexer": "ipython3",
   "version": "3.9.0"
  },
  "orig_nbformat": 4,
  "vscode": {
   "interpreter": {
    "hash": "2b948574b4cc10c9dd8fa8cab55862e7a8500229b4c7ca6593391d5001a62fb2"
   }
  }
 },
 "nbformat": 4,
 "nbformat_minor": 2
}
