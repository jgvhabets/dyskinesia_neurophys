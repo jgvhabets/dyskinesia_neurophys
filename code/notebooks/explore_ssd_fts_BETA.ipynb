{
 "cells": [
  {
   "attachments": {},
   "cell_type": "markdown",
   "metadata": {},
   "source": [
    "# Explore extracted BETA-Features based on SSD"
   ]
  },
  {
   "attachments": {},
   "cell_type": "markdown",
   "metadata": {},
   "source": [
    "### 0) Load packages and functions"
   ]
  },
  {
   "cell_type": "code",
   "execution_count": null,
   "metadata": {},
   "outputs": [],
   "source": [
    "# Importing Python and external packages\n",
    "import os\n",
    "import sys\n",
    "import importlib\n",
    "import json\n",
    "import csv\n",
    "from dataclasses import dataclass, field, fields\n",
    "from itertools import compress, product\n",
    "import pandas as pd\n",
    "import numpy as np\n",
    "\n",
    "import sklearn as sk\n",
    "from scipy import signal, stats\n",
    "\n",
    "import matplotlib.pyplot as plt\n",
    "\n"
   ]
  },
  {
   "cell_type": "code",
   "execution_count": null,
   "metadata": {},
   "outputs": [],
   "source": [
    "def get_project_path_in_notebook(\n",
    "    subfolder: str = '',\n",
    "):\n",
    "    \"\"\"\n",
    "    Finds path of projectfolder from Notebook.\n",
    "    Start running this once to correctly find\n",
    "    other modules/functions\n",
    "    \"\"\"\n",
    "    path = os.getcwd()\n",
    "\n",
    "    while path[-20:] != 'dyskinesia_neurophys':\n",
    "\n",
    "        path = os.path.dirname(path)\n",
    "    \n",
    "    return path"
   ]
  },
  {
   "cell_type": "code",
   "execution_count": null,
   "metadata": {},
   "outputs": [],
   "source": [
    "# define local storage directories\n",
    "projectpath = get_project_path_in_notebook()\n",
    "codepath = os.path.join(projectpath, 'code')\n",
    "figpath = os.path.join(projectpath, 'figures')\n",
    "datapath = os.path.join(projectpath, 'data')\n",
    "feat_path = os.path.join(projectpath, 'results', 'features')"
   ]
  },
  {
   "cell_type": "code",
   "execution_count": null,
   "metadata": {},
   "outputs": [],
   "source": [
    "os.chdir(codepath)\n",
    "# own utility functions\n",
    "import utils.utils_fileManagement as utilsFiles\n",
    "import utils.utils_windowing as utilsWindows\n",
    "from utils.utils_fileManagement import (get_project_path,\n",
    "                                        load_class_pickle,\n",
    "                                        save_class_pickle,\n",
    "                                        mergedData,\n",
    "                                        correct_acc_class)\n",
    "# own data preprocessing functions\n",
    "import lfpecog_preproc.preproc_data_management as dataMng\n",
    "# own data exploration functions\n",
    "import lfpecog_features.feats_read_proc_data as read_data\n",
    "import lfpecog_plotting.phase_plotting as phasePlot\n",
    "\n",
    "\n",
    "\n",
    "import lfpecog_preproc.preproc_import_scores_annotations as importClin\n",
    "import lfpecog_analysis.import_ephys_results as importResults\n",
    "\n",
    "import lfpecog_analysis.load_SSD_features as load_ssdFts\n",
    "import lfpecog_features.feats_phases as phaseFts\n",
    "\n",
    "import lfpecog_analysis.get_acc_task_derivs as importAcc\n",
    "\n",
    "\n",
    "from lfpecog_plotting.plotHelpers import remove_duplicate_legend"
   ]
  },
  {
   "attachments": {},
   "cell_type": "markdown",
   "metadata": {},
   "source": [
    "### 1a) Define settings and Load Features and Acc-data"
   ]
  },
  {
   "cell_type": "code",
   "execution_count": null,
   "metadata": {},
   "outputs": [],
   "source": [
    "SETTINGS = utilsFiles.load_ft_ext_cfg(cfg_fname='ftExtr_spectral_v1.json')\n",
    "\n",
    "ssd_ft_path = os.path.join(feat_path, 'SSD_feats',\n",
    "                           SETTINGS['DATA_VERSION'],\n",
    "                           f\"windows_{SETTINGS['WIN_LEN_sec']}s_\"\n",
    "                           f\"{SETTINGS['WIN_OVERLAP_part']}overlap\")\n",
    "IGNORE_PTS = ['010', '011']  # 011 did not start in OFF, 010: check ECoG\n",
    "\n",
    "SUBS_STUN_EFFECT = ['009', '014', '016']"
   ]
  },
  {
   "cell_type": "code",
   "execution_count": null,
   "metadata": {},
   "outputs": [],
   "source": [
    "# get all available subs with features \n",
    "SUBS = list(set([name.split('_')[1] for name in os.listdir(ssd_ft_path)]))\n",
    "\n",
    "for sub in IGNORE_PTS:\n",
    "    if sub in SUBS: SUBS.remove(sub)"
   ]
  },
  {
   "attachments": {},
   "cell_type": "markdown",
   "metadata": {},
   "source": [
    "Load SSD-features"
   ]
  },
  {
   "cell_type": "code",
   "execution_count": null,
   "metadata": {},
   "outputs": [],
   "source": [
    "importlib.reload(load_ssdFts)\n",
    "importlib.reload(phaseFts)\n",
    "\n",
    "# load all SSDd features\n",
    "fts = load_ssdFts.ssdFeatures()"
   ]
  },
  {
   "attachments": {},
   "cell_type": "markdown",
   "metadata": {},
   "source": [
    "Load acc and task-labels"
   ]
  },
  {
   "cell_type": "code",
   "execution_count": null,
   "metadata": {},
   "outputs": [],
   "source": [
    "importlib.reload(importAcc)\n",
    "accs, labels = {}, {}\n",
    "for sub in fts.sub_list:\n",
    "    print(f'start sub {sub}')\n",
    "    accs[sub], labels[sub] = importAcc.load_acc_and_task(sub=sub, dataversion='v3.0',\n",
    "                                                resample_freq=500)"
   ]
  },
  {
   "cell_type": "code",
   "execution_count": null,
   "metadata": {},
   "outputs": [],
   "source": []
  },
  {
   "cell_type": "code",
   "execution_count": null,
   "metadata": {},
   "outputs": [],
   "source": []
  },
  {
   "attachments": {},
   "cell_type": "markdown",
   "metadata": {},
   "source": [
    "### 1b) Load Clinical Scores and define OFF vs ON\n",
    "\n",
    "OFF definition:\n",
    "    \n",
    "    - up to 15 minutes after L-Dopa intake (max. dopa_time is 15)\n",
    "    \n",
    "    - no CDRS in total (max. CDRS total is 0)\n",
    "\n",
    "    \n",
    "ON definition:\n",
    "    \n",
    "    - at least 45 minutes after L-Dopa intake (min. dopa time is 45)\n",
    "    \n",
    "    - no severe Dyskinesia (max CDRS total is 5)\n",
    "\n",
    "\n",
    "Stun-effect: sub-analysis on patients with significant OFF-reduction after OR versus pre-operative"
   ]
  },
  {
   "cell_type": "code",
   "execution_count": null,
   "metadata": {},
   "outputs": [],
   "source": [
    "find_task_during_time(310000,\n",
    "                      labels['009']['task'].values,\n",
    "                      labels['009'].index.values)    "
   ]
  },
  {
   "cell_type": "code",
   "execution_count": null,
   "metadata": {},
   "outputs": [],
   "source": [
    "def define_OFF_ON_times(\n",
    "    feat_times, cdrs_scores, cdrs_times,\n",
    "    max_OFF_minutes=15,\n",
    "    max_OFF_cdrs=0,\n",
    "    min_ON_minutes=45,\n",
    "    max_ON_CDRS=5,\n",
    "    incl_tasks='all',\n",
    "    labels_df=None\n",
    "):\n",
    "    \n",
    "    # ensure all times are in minutes\n",
    "    if np.nanmax(feat_times) > 200:\n",
    "        feat_times /= 60\n",
    "    if np.nanmax(cdrs_times) > 200:\n",
    "        cdrs_times /= 60\n",
    "    \n",
    "    # get closest cdrs score for every feat-time\n",
    "    ftwin_cdrs_score = [cdrs_scores[np.argmin(abs(cdrs_times - t))]\n",
    "                        for t in feat_times]\n",
    "    \n",
    "    off_times_sel = [np.logical_and(m < max_OFF_minutes,\n",
    "                                    ftwin_cdrs_score[i] == max_OFF_cdrs)\n",
    "                     for i, m in enumerate(feat_times)]\n",
    "    \n",
    "    on_times_sel = [np.logical_and(m > min_ON_minutes,\n",
    "                                   ftwin_cdrs_score[i] <= max_ON_CDRS)\n",
    "                     for i, m in enumerate(feat_times)]\n",
    "    \n",
    "    # perform selection on task\n",
    "    if incl_tasks != 'all':\n",
    "        task_sel = importAcc.select_task_in_features(\n",
    "            ft_times=feat_times, label_df=labels_df,\n",
    "            task=incl_tasks)\n",
    "        # combine selection on on/off moments and included tasks\n",
    "        off_times_sel = np.logical_and(off_times_sel, task_sel)\n",
    "        on_times_sel = np.logical_and(on_times_sel, task_sel)\n",
    "    \n",
    "    return off_times_sel, on_times_sel\n"
   ]
  },
  {
   "attachments": {},
   "cell_type": "markdown",
   "metadata": {},
   "source": [
    "get individual OFF and ON selection"
   ]
  },
  {
   "cell_type": "code",
   "execution_count": null,
   "metadata": {},
   "outputs": [],
   "source": [
    "import lfpecog_analysis.get_acc_task_derivs as importAcc"
   ]
  },
  {
   "cell_type": "code",
   "execution_count": null,
   "metadata": {},
   "outputs": [],
   "source": [
    "importlib.reload(importAcc)\n",
    "\n",
    "INCL_TASKS = ['rest']\n",
    "SHOW_MED_SELECTION = False\n",
    "\n",
    "med_state_select = {}\n",
    "\n",
    "for sub in SUBS:\n",
    "    \n",
    "    med_state_select[sub] = {'OFF': {}, 'ON': {}}\n",
    "    cdrss = {}\n",
    "    for rater in ['Patricia', 'Jeroen']:\n",
    "        cdrss[rater[0]] = importClin.read_clinical_scores(sub=sub, rater=rater)\n",
    "\n",
    "    sub_ft_times = getattr(fts, f'sub{sub}').powers.index.values.copy()\n",
    "    if np.nanmax(sub_ft_times) > 200:\n",
    "        sub_ft_times /= 60  # feature window times in minutes\n",
    "\n",
    "    sub_cdrs_minutes = getattr(fts, f'sub{sub}').scores.times.copy()\n",
    "    sub_cdrs_totals = getattr(fts, f'sub{sub}').scores.total.copy()\n",
    "\n",
    "    off_sel, on_sel = define_OFF_ON_times(\n",
    "        feat_times=getattr(fts, f'sub{sub}').powers.index.values.copy(),\n",
    "        cdrs_scores=getattr(fts, f'sub{sub}').scores.total.copy(),\n",
    "        cdrs_times=getattr(fts, f'sub{sub}').scores.times.copy(),\n",
    "        min_ON_minutes=50,\n",
    "        incl_tasks=INCL_TASKS,\n",
    "        labels_df=labels[sub]\n",
    "    )\n",
    "    med_state_select[sub]['OFF'] = off_sel\n",
    "    med_state_select[sub]['ON'] = on_sel\n",
    "    \n",
    "    if SHOW_MED_SELECTION:\n",
    "        for r, rater in enumerate(['J', 'P']):  \n",
    "            plt.scatter(cdrss[rater]['dopa_time'] + (1*r),\n",
    "                        cdrss[rater]['CDRS_total'],\n",
    "                        label=rater)\n",
    "\n",
    "        plt.scatter(sub_ft_times, [-.5] * len(sub_ft_times),\n",
    "                    color='gray', alpha=.3, label='fts')\n",
    "        \n",
    "        plt.fill_between(x=sub_ft_times, where=off_sel,\n",
    "                        y1=10, y2=15,\n",
    "                        label='OFF-labeled',\n",
    "                        color=pltHelp.get_colors()['turquoise'], alpha=.3,)\n",
    "        \n",
    "        plt.fill_between(x=sub_ft_times, where=on_sel,\n",
    "                        y1=10, y2=15,\n",
    "                        label='ON-labeled',\n",
    "                        color=pltHelp.get_colors()['darkgreen'], alpha=.3,)\n",
    "\n",
    "        plt.title(sub)\n",
    "        plt.legend(ncol=5)\n",
    "        plt.show()"
   ]
  },
  {
   "cell_type": "code",
   "execution_count": null,
   "metadata": {},
   "outputs": [],
   "source": [
    "# fts.sub011.coherences.STN_STN.hi_beta.imag_coh"
   ]
  },
  {
   "cell_type": "code",
   "execution_count": null,
   "metadata": {},
   "outputs": [],
   "source": []
  },
  {
   "attachments": {},
   "cell_type": "markdown",
   "metadata": {},
   "source": [
    "### 2c) Select Features "
   ]
  },
  {
   "cell_type": "code",
   "execution_count": null,
   "metadata": {},
   "outputs": [],
   "source": [
    "fts.sub013.powers.lfp_left_lo_beta_max_psd.shape"
   ]
  },
  {
   "cell_type": "code",
   "execution_count": null,
   "metadata": {},
   "outputs": [],
   "source": []
  },
  {
   "cell_type": "code",
   "execution_count": null,
   "metadata": {},
   "outputs": [],
   "source": [
    "# getattr(fts, f'sub{sub}').coherences.STN_ECOG.hi_beta.imag_coh.index.values"
   ]
  },
  {
   "cell_type": "code",
   "execution_count": null,
   "metadata": {},
   "outputs": [],
   "source": [
    "coh_values = getattr(fts, f'sub{sub}').coherences.STN_ECOG.hi_beta.imag_coh\n",
    "\n",
    "plt.imshow(coh_values.T)\n",
    "xticks = np.linspace(0, coh_values.shape[0]-1, 5).astype(int)\n",
    "plt.xticks(xticks,\n",
    "           labels=coh_values.index.values[xticks])\n",
    "yticks = np.linspace(0, coh_values.shape[1]-1, 5).astype(int)\n",
    "plt.yticks(yticks,\n",
    "           labels=coh_values.index.values[yticks])\n",
    "plt.gca().invert_yaxis()\n",
    "\n",
    "plt.show()"
   ]
  },
  {
   "cell_type": "code",
   "execution_count": null,
   "metadata": {},
   "outputs": [],
   "source": [
    "coh_values = getattr(fts, f'sub{sub}').coherences.STN_ECOG.hi_beta.imag_coh.copy()\n",
    "plt.plot(\n",
    "    coh_values.index,\n",
    "    coh_values.mean(axis=1)\n",
    ")"
   ]
  },
  {
   "cell_type": "code",
   "execution_count": null,
   "metadata": {},
   "outputs": [],
   "source": [
    "sub = '008'\n",
    "\n",
    "# show coherences\n",
    "\n",
    "off_values = []\n",
    "on_values = []\n",
    "\n",
    "sub_coh_values = getattr(fts, f'sub{sub}').coherences\n",
    "\n",
    "coh_df = sub_coh_values.STN_ECOG.lo_beta.sq_coh.copy()\n",
    "coh_values = coh_df.mean(axis=1)\n",
    "coh_times = coh_df.index\n",
    "\n",
    "off_sel, on_sel = define_OFF_ON_times(\n",
    "    feat_times=coh_times,\n",
    "    cdrs_scores=getattr(fts, f'sub{sub}').scores.total.copy(),\n",
    "    cdrs_times=getattr(fts, f'sub{sub}').scores.times.copy()     \n",
    ")\n",
    "\n",
    "off_values = coh_values.values[off_sel]\n",
    "on_values = coh_values.values[on_sel]\n",
    "\n",
    "plt.boxplot([off_values, on_values])\n",
    "plt.show()\n",
    "\n"
   ]
  },
  {
   "cell_type": "code",
   "execution_count": null,
   "metadata": {},
   "outputs": [],
   "source": [
    "np.linspace(0, 5, 3)"
   ]
  },
  {
   "cell_type": "code",
   "execution_count": null,
   "metadata": {},
   "outputs": [],
   "source": [
    "importlib.reload(phasePlot)\n",
    "fsize=14\n",
    "PAC_METRIC = 'mean'\n",
    "\n",
    "for sub in SUBS:\n",
    "\n",
    "\n",
    "    for i_t, TASK in enumerate(['rest', 'tap']):\n",
    "        \n",
    "        fig, axes = plt.subplots(1, 2, figsize=(8, 4))\n",
    "\n",
    "        # show PACs\n",
    "        off_values = []\n",
    "        on_values = []\n",
    "\n",
    "        sub_pac_values = getattr(fts, f'sub{sub}').localPAC\n",
    "\n",
    "        ecog_side = importClin.get_ecog_side(sub)\n",
    "        # src = f'ecog_{ecog_side}'\n",
    "        src = 'lfp_right'\n",
    "        bw = 'hi_beta_broad_gamma'\n",
    "        pac_sel = sub_pac_values[f'{src}_{bw}']\n",
    "\n",
    "        if PAC_METRIC == 'mean':\n",
    "            pac_summary = pac_sel.values.mean(axis=0).mean(axis=0)\n",
    "        elif PAC_METRIC == 'max':\n",
    "            pac_summary = pac_sel.values.max(axis=0).max(axis=0)\n",
    "\n",
    "        pac_arr = pac_sel.values.copy()\n",
    "        pac_times = pac_sel.times.copy()\n",
    "\n",
    "        off_sel, on_sel = define_OFF_ON_times(\n",
    "            feat_times=pac_times,\n",
    "            cdrs_scores=getattr(fts, f'sub{sub}').scores.total.copy(),\n",
    "            cdrs_times=getattr(fts, f'sub{sub}').scores.times.copy(),\n",
    "            incl_tasks=TASK,\n",
    "            labels_df=labels[sub],\n",
    "        )\n",
    "        if sum(off_sel) == 0 and sum(on_sel) == 0:\n",
    "            plt.close()\n",
    "            print(f'sub {sub} skipped, no data OFF and ON for {TASK}')\n",
    "            continue\n",
    "\n",
    "        # off_values = pac_summary[off_sel]\n",
    "        # on_values = pac_summary[on_sel]\n",
    "\n",
    "        # plt.boxplot([off_values, on_values])\n",
    "        # plt.show()\n",
    "\n",
    "\n",
    "\n",
    "        off_pac = np.nanmean(pac_arr[:, :, off_sel], axis=-1)\n",
    "        on_pac = np.nanmean(pac_arr[:, :, on_sel], axis=-1)\n",
    "        sub_max_pac = np.nanmax([np.nanmax(off_pac), np.nanmax(on_pac)])\n",
    "\n",
    "        axes[0] = phasePlot.plot_pac_comodulogram(\n",
    "            pac_arr_2d=off_pac,\n",
    "            pha_bin_tuples=pac_sel.pha_bins,\n",
    "            amp_bin_tuples=pac_sel.amp_bins,\n",
    "            plot_title=f'OFF ({TASK})',\n",
    "            plot_on_ax=axes[0],\n",
    "            fig_axis=fig,\n",
    "            vmax=sub_max_pac)\n",
    "        axes[1] = phasePlot.plot_pac_comodulogram(\n",
    "            pac_arr_2d=on_pac,\n",
    "            pha_bin_tuples=pac_sel.pha_bins,\n",
    "            amp_bin_tuples=pac_sel.amp_bins,\n",
    "            plot_title=f'ON ({TASK})',\n",
    "            plot_on_ax=axes[1],\n",
    "            fig_axis=fig,\n",
    "            vmax=sub_max_pac)\n",
    "        \n",
    "        plt.suptitle(f'PAC - sub {sub} ({bw}, in {src})',\n",
    "                    size=fsize, color='darkgray',\n",
    "                    x=.5, y=.99, ha='center',\n",
    "                    weight='bold')\n",
    "        plt.show()\n"
   ]
  },
  {
   "cell_type": "code",
   "execution_count": null,
   "metadata": {},
   "outputs": [],
   "source": []
  },
  {
   "cell_type": "code",
   "execution_count": null,
   "metadata": {},
   "outputs": [],
   "source": []
  },
  {
   "cell_type": "code",
   "execution_count": null,
   "metadata": {},
   "outputs": [],
   "source": []
  },
  {
   "attachments": {},
   "cell_type": "markdown",
   "metadata": {},
   "source": [
    "### 2) Explore"
   ]
  },
  {
   "cell_type": "code",
   "execution_count": null,
   "metadata": {},
   "outputs": [],
   "source": []
  },
  {
   "cell_type": "code",
   "execution_count": null,
   "metadata": {},
   "outputs": [],
   "source": [
    "import lfpecog_plotting.plotHelpers as pltHelp\n",
    "# pltHelp.get_colors()"
   ]
  },
  {
   "cell_type": "code",
   "execution_count": null,
   "metadata": {},
   "outputs": [],
   "source": [
    "X_total = []\n",
    "y_total_binary = []\n",
    "y_total_scale = []\n",
    "sub_ids_total = []\n",
    "ft_times_total = []\n",
    "\n",
    "EXCL_CODE = 99\n",
    "\n",
    "TO_PLOT = False\n",
    "\n",
    "if TO_PLOT:\n",
    "    fig, axes = plt.subplots(len(SUBS), 1, figsize=(12, 16))\n",
    "    fs = 16\n",
    "\n",
    "\n",
    "for i_s, sub in enumerate(SUBS):\n",
    "    # create lists to store values for boxplotting\n",
    "    bp_LID_values_list = []\n",
    "    bp_noLID_values_list = []\n",
    "    bp_keys = []\n",
    "\n",
    "\n",
    "    ### Create Y-labels based on CDRS (FT_LABELS)\n",
    "    no_LID_sel = np.array(FT_LABELS[sub]) == 0\n",
    "    LID_sel = np.array(FT_LABELS[sub]) >= LID_SCORE_INCL\n",
    "\n",
    "    # create binary y-labels\n",
    "    sub_y_bin = []  # y as binary\n",
    "    for noLID, LID in zip(no_LID_sel, LID_sel):\n",
    "        if noLID: sub_y_bin.append(0)\n",
    "        elif LID: sub_y_bin.append(1)\n",
    "        else: sub_y_bin.append(EXCL_CODE)\n",
    "    # add full scaled y-labels\n",
    "    sub_y_scale = FT_LABELS[sub]\n",
    "\n",
    "    # append sub-codes to sub-id list\n",
    "    sub_ids_total.append([sub] * FEATS[sub].shape[0])  # add subject code, as many times as there are feature rows\n",
    "\n",
    "    # add subjects ft-times to list\n",
    "    ft_times_total.append(FEATS[sub].index.values)\n",
    "\n",
    "    ### Create X with standardised Feature-arrays\n",
    "    sub_X = np.zeros_like((FEATS[sub]))\n",
    "\n",
    "    for n_col, ft in enumerate(FEATS[sub].keys()):\n",
    "        values = FEATS[sub].values[:, n_col]\n",
    "        # split values on Dyskinesia\n",
    "        noLID_values = values[no_LID_sel]\n",
    "        LID_values = values[LID_sel]\n",
    "        \n",
    "        # define mean and std of no-LID for Z-SCORE\n",
    "        m = np.nanmean(noLID_values)\n",
    "        sd = np.nanstd(noLID_values)\n",
    "        # Z-SCORE values\n",
    "        Z_LID_values = (LID_values - m) / sd\n",
    "        Z_noLID_values = (noLID_values - m) / sd\n",
    "        Z_ALL_values = (values - m) / sd\n",
    "\n",
    "        # add feat and z-score values to lists for BOXPLOT (WITHOUT NaNs)\n",
    "        bp_LID_values_list.append(list(Z_LID_values[~np.isnan(LID_values)]))\n",
    "        bp_keys.append(ft)\n",
    "\n",
    "        # store all feats for pred-exploration\n",
    "        sub_X[:, n_col] = Z_ALL_values\n",
    "    \n",
    "    X_total.append(sub_X)\n",
    "    y_total_binary.append(sub_y_bin)\n",
    "    y_total_scale.append(sub_y_scale)\n",
    "\n",
    "    if TO_PLOT:\n",
    "        ##### PLOT BOXPLOT OF FEATURES ######\n",
    "        box = axes[i_s].boxplot(bp_LID_values_list)\n",
    "        plt.setp(box['fliers'], color='gray')\n",
    "        # plt.setp(box['whiskers'], color='red')\n",
    "\n",
    "        axes[i_s].axhline(y=0, xmin=0, xmax=24, color='k', alpha=.3)\n",
    "        for y_line in [-2, 2]: axes[i_s].axhline(y=y_line, xmin=0, xmax=24, color='r', alpha=.3)\n",
    "\n",
    "        axes[i_s].set_ylim(-6, 6)\n",
    "        axes[i_s].set_ylabel(f'z-scores\\nvs no-LID (a.u.)', fontsize=fs)\n",
    "        axes[i_s].set_title(f'Sub-{sub} (mean unilat. CDRS '\n",
    "                            f'{round(np.mean(FT_LABELS[sub]), 2)})',\n",
    "                            weight='bold', fontsize=fs)\n",
    "        axes[i_s].set_xticklabels(['mx', 'mn', 'cv'] * int(len(bp_keys) / 3),\n",
    "                                fontsize=fs,)\n",
    "\n",
    "        for side in ['top','right','bottom']:\n",
    "            axes[i_s].spines[side].set_visible(False)\n",
    "\n",
    "        ### fill colors\n",
    "        colors = {\n",
    "            'alpha': 'yellow',\n",
    "            'lo_beta': 'lightblue',\n",
    "            'hi_beta': 'darkblue',\n",
    "            'midgamma': 'green'\n",
    "        }\n",
    "        hatches = {\n",
    "            'STN': '',\n",
    "            'ECoG': '//'\n",
    "        }\n",
    "\n",
    "        x_fill_list = []\n",
    "        for x1 in np.arange(.5, len(bp_keys) + .5, 3):\n",
    "            x2 = x1 + 3\n",
    "            x_fill_list.append([x1, x2])\n",
    "\n",
    "        for i_x, (src, bw) in  enumerate(product(hatches.keys(), colors.keys())):\n",
    "            axes[i_s].fill_betweenx(\n",
    "                y=np.arange(-6, 6), x1=x_fill_list[i_x][0],\n",
    "                x2=x_fill_list[i_x][1], color=colors[bw], hatch=hatches[src],\n",
    "                label=f'{src} {bw}', alpha=.2, edgecolor='gray',)\n",
    "if TO_PLOT:\n",
    "    leg_content = plt.gca().get_legend_handles_labels()\n",
    "    handles, labels = pltHelp.remove_duplicate_legend(leg_content)\n",
    "    plt.legend(handles, labels, ncol=4, frameon=False,\n",
    "            loc='upper center', bbox_to_anchor=(0.5, -0.2),fancybox=False,\n",
    "            prop={'weight': 'bold', 'size': fs})\n",
    "\n",
    "    plt.suptitle('Individual Feature values during Dyskinesia\\n', weight='bold', fontsize=fs+4)\n",
    "    plt.tight_layout()\n",
    "\n",
    "    figname = 'LID_ssdFeatures_boxplots_indiv'\n",
    "    # plt.savefig(os.path.join(figpath, 'ft_exploration', 'SSD', figname),\n",
    "    #             dpi=300, facecolor='w',)\n",
    "    plt.close()\n",
    "\n",
    "print(f'FEATURES X-AXIS: {bp_keys}')\n"
   ]
  },
  {
   "cell_type": "code",
   "execution_count": null,
   "metadata": {},
   "outputs": [],
   "source": []
  }
 ],
 "metadata": {
  "kernelspec": {
   "display_name": "ecog_dysk",
   "language": "python",
   "name": "python3"
  },
  "language_info": {
   "codemirror_mode": {
    "name": "ipython",
    "version": 3
   },
   "file_extension": ".py",
   "mimetype": "text/x-python",
   "name": "python",
   "nbconvert_exporter": "python",
   "pygments_lexer": "ipython3",
   "version": "3.9.0"
  },
  "orig_nbformat": 4,
  "vscode": {
   "interpreter": {
    "hash": "2b948574b4cc10c9dd8fa8cab55862e7a8500229b4c7ca6593391d5001a62fb2"
   }
  }
 },
 "nbformat": 4,
 "nbformat_minor": 2
}
