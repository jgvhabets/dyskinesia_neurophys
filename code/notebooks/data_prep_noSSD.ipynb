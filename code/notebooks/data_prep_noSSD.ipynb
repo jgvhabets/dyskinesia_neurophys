{
 "cells": [
  {
   "cell_type": "code",
   "execution_count": null,
   "metadata": {},
   "outputs": [],
   "source": [
    "# Importing Python and external packages\n",
    "import os\n",
    "import sys\n",
    "import importlib\n",
    "import json\n",
    "import csv\n",
    "from dataclasses import dataclass, field, fields\n",
    "from collections import namedtuple\n",
    "from typing import Any\n",
    "from itertools import compress\n",
    "from pathlib import Path\n",
    "import pandas as pd\n",
    "import numpy as np\n",
    "import sklearn as sk\n",
    "from scipy.stats import pearsonr, mannwhitneyu\n",
    "\n",
    "import matplotlib.pyplot as plt\n",
    "from  matplotlib import __version__ as plt_version\n",
    "from scipy import signal, stats\n",
    "# from array import array\n",
    "# import datetime as dt\n",
    "# #mne\n",
    "# import mne_bids\n",
    "# import mne\n"
   ]
  },
  {
   "cell_type": "code",
   "execution_count": null,
   "metadata": {},
   "outputs": [],
   "source": [
    "# check some package versions for documentation and reproducability\n",
    "print('Python sys', sys.version)\n",
    "print('pandas', pd.__version__)\n",
    "print('numpy', np.__version__)\n",
    "# print('mne_bids', mne_bids.__version__)\n",
    "# print('mne', mne.__version__)\n",
    "# print('sci-py', scipy.__version__)\n",
    "print('sci-kit learn', sk.__version__)\n",
    "print('matplotlib', plt_version)\n",
    "## FEB 2022:\n",
    "# Python sys 3.9.7 (default, Sep 16 2021, 08:50:36) \n",
    "# [Clang 10.0.0 ]\n",
    "# pandas 1.3.4\n",
    "# numpy 1.20.3\n",
    "# mne_bids 0.9\n",
    "# mne 0.24.1\n",
    "# sci-py 1.7.1\n",
    "# sci-kit learn 1.0.1"
   ]
  },
  {
   "cell_type": "code",
   "execution_count": null,
   "metadata": {},
   "outputs": [],
   "source": [
    "def get_project_path_in_notebook(\n",
    "    subfolder: str = '',\n",
    "):\n",
    "    \"\"\"\n",
    "    Finds path of projectfolder from Notebook.\n",
    "    Start running this once to correctly find\n",
    "    other modules/functions\n",
    "    \"\"\"\n",
    "    path = os.getcwd()\n",
    "\n",
    "    while path[-20:] != 'dyskinesia_neurophys':\n",
    "\n",
    "        path = os.path.dirname(path)\n",
    "    \n",
    "    return path"
   ]
  },
  {
   "cell_type": "code",
   "execution_count": null,
   "metadata": {},
   "outputs": [],
   "source": [
    "# define local storage directories\n",
    "projectpath = get_project_path_in_notebook()\n",
    "codepath = os.path.join(projectpath, 'code')\n",
    "figpath = os.path.join(projectpath, 'figures')\n",
    "datapath = os.path.join(projectpath, 'data')"
   ]
  },
  {
   "cell_type": "code",
   "execution_count": null,
   "metadata": {},
   "outputs": [],
   "source": [
    "os.chdir(codepath)\n",
    "# own utility functions\n",
    "import utils.utils_fileManagement as utilsFiles\n",
    "import utils.utils_windowing as utilsWindows\n",
    "from utils.utils_fileManagement import (get_project_path,\n",
    "                                        load_class_pickle,\n",
    "                                        save_class_pickle,\n",
    "                                        mergedData,\n",
    "                                        correct_acc_class)\n",
    "# own data preprocessing functions\n",
    "import lfpecog_preproc.preproc_data_management as dataMng\n",
    "import lfpecog_preproc.preproc_filters as fltrs\n",
    "# own data exploration functions\n",
    "import lfpecog_features.feats_read_proc_data as read_data\n",
    "import lfpecog_features.feats_spectral_baseline as specBase\n",
    "import lfpecog_features.feats_spectral_features as spectral\n",
    "import lfpecog_features.feats_spectral_helpers as specHelp\n",
    "import lfpecog_features.feats_helper_funcs as ftHelp\n",
    "\n",
    "import lfpecog_preproc.preproc_import_scores_annotations as importClin\n",
    "import lfpecog_analysis.import_ephys_results as importResults\n",
    "# import lfpecog_analysis.get_acc_derivs as accDerivs\n",
    "\n",
    "\n",
    "import lfpecog_plotting.plotHelpers as plotHelp"
   ]
  },
  {
   "cell_type": "code",
   "execution_count": null,
   "metadata": {},
   "outputs": [],
   "source": [
    "import lfpecog_analysis.get_sweetest_channels as get_sweets"
   ]
  },
  {
   "cell_type": "markdown",
   "metadata": {},
   "source": [
    "image based contact finding (paused)"
   ]
  },
  {
   "cell_type": "code",
   "execution_count": null,
   "metadata": {},
   "outputs": [],
   "source": [
    "importlib.reload(get_sweets)\n",
    "\n",
    "\n",
    "sub = '008'\n",
    "chs = ['LFP_L_01', 'LFP_L_02', 'LFP_L_06','LFP_L_08',]\n",
    "# chs = ['ECOG_R_01', 'ECOG_R_02',  'ECOG_R_06']  # 'ECOG_R_05',\n",
    "\n",
    "sandwich = get_sweets.get_sweet_bip_sandwich(sub=sub, ch_names=chs,)\n",
    "\n"
   ]
  },
  {
   "cell_type": "code",
   "execution_count": null,
   "metadata": {},
   "outputs": [],
   "source": [
    "import lfpecog_preproc.tmsi_poly5reader as tmsiReader\n",
    "import lfpecog_preproc.preproc_load_raw as loadRaw\n",
    "import lfpecog_preproc.preproc_get_mne_data as loadData\n",
    "import lfpecog_preproc.preproc_resample as resample\n",
    "import lfpecog_preproc.preproc_filters as filters"
   ]
  },
  {
   "cell_type": "code",
   "execution_count": null,
   "metadata": {},
   "outputs": [],
   "source": [
    "def get_download_folder(user='habetsj'):\n",
    "    path = os.getcwd()\n",
    "    while not path.endswith('habetsj'):\n",
    "        path = os.path.dirname(path)\n",
    "\n",
    "    path = os.path.join(path, 'Downloads')\n",
    "    return path"
   ]
  },
  {
   "cell_type": "code",
   "execution_count": null,
   "metadata": {},
   "outputs": [],
   "source": [
    "filename = '514IL50_M0S0_Rest_test.Poly5'\n",
    "\n",
    "path = os.path.join(get_download_folder(), filename)\n",
    "print(os.path.exists(path))\n",
    "raw = tmsiReader.Poly5Reader(path)\n",
    "\n"
   ]
  },
  {
   "cell_type": "code",
   "execution_count": null,
   "metadata": {},
   "outputs": [],
   "source": [
    "sfreq = raw.sample_rate\n",
    "ch_names = raw.ch_names\n",
    "raw_data = raw.samples[:, sfreq * 10:-sfreq * 10]\n",
    "\n",
    "run_duration = (1 / sfreq) * raw_data.shape[1]\n",
    "run_times = np.arange(0, run_duration, 1 / sfreq)"
   ]
  },
  {
   "cell_type": "code",
   "execution_count": null,
   "metadata": {},
   "outputs": [],
   "source": [
    "\n",
    "\n"
   ]
  },
  {
   "cell_type": "code",
   "execution_count": null,
   "metadata": {},
   "outputs": [],
   "source": [
    "dat_arr = raw_data[:16, :]\n",
    "# correct for unit: microVolt\n",
    "dat_arr /= 1e6\n",
    "\n",
    "print(ch_names[:16])\n",
    "\n",
    "\n",
    "# BandPass-Filtering\n",
    "dat_arr = filters.bp_filter(data=dat_arr, n_timeRows=0, Fs=sfreq,\n",
    "          l_freq=2, h_freq=98, method='iir',)\n",
    "\n",
    "# Notch-Filtering\n",
    "dat_arr = filters.bp_filter(data=dat_arr, n_timeRows=0, Fs=sfreq,\n",
    "          l_freq=2, h_freq=98, method='iir',)\n",
    "dat_arr = filters.notch_filter(data=dat_arr,\n",
    "                                n_timeRows=0,\n",
    "                                Fs=sfreq,\n",
    "                                transBW=10,\n",
    "                                notchW=4,\n",
    "                                method='fir',\n",
    "                                verbose=False,)\n",
    "\n",
    "# Resampling\n",
    "# dat_arr, sfreq_new = resample.resample(\n",
    "#     data=dat_arr,\n",
    "#     n_timeRows=0,\n",
    "#     Fs_orig=sfreq,\n",
    "#     Fs_new=2048,\n",
    "# )"
   ]
  },
  {
   "cell_type": "code",
   "execution_count": null,
   "metadata": {},
   "outputs": [],
   "source": [
    "# %matplotlib qt\n",
    "\n",
    "for i_ch, ch in enumerate(ch_names[:8]):\n",
    "\n",
    "    plt.plot(run_times, dat_arr[i_ch, :], label=ch)\n",
    "\n",
    "plt.legend(loc='upper left', ncol=3)\n",
    "plt.show()\n"
   ]
  },
  {
   "cell_type": "code",
   "execution_count": null,
   "metadata": {},
   "outputs": [],
   "source": [
    "# %matplotlib inline"
   ]
  },
  {
   "cell_type": "markdown",
   "metadata": {},
   "source": [
    "test PSD"
   ]
  },
  {
   "cell_type": "code",
   "execution_count": null,
   "metadata": {},
   "outputs": [],
   "source": [
    "fig, axes = plt.subplots(2, 1, figsize=(8, 8))\n",
    "\n",
    "for i, (chname, chdat) in enumerate(zip(ch_names[:16], dat_arr)):\n",
    "\n",
    "    f, psx = signal.welch(chdat, fs=sfreq, nperseg=sfreq)\n",
    "\n",
    "    if i < 8: i_ax = 0\n",
    "    else: i_ax = 1\n",
    "    axes [i_ax].plot(f, psx, label=chname)\n",
    "\n",
    "for ax in axes:\n",
    "    ax.set_xlim(0, 40)\n",
    "    ax.legend(loc='upper left', ncol=3)\n",
    "    ax.set_ylabel('PSD')\n",
    "    ax.set_xlabel('Freq')\n",
    "\n",
    "plt.show()"
   ]
  }
 ],
 "metadata": {
  "kernelspec": {
   "display_name": "ecog_dysk",
   "language": "python",
   "name": "python3"
  },
  "language_info": {
   "codemirror_mode": {
    "name": "ipython",
    "version": 3
   },
   "file_extension": ".py",
   "mimetype": "text/x-python",
   "name": "python",
   "nbconvert_exporter": "python",
   "pygments_lexer": "ipython3",
   "version": "3.9.0"
  },
  "orig_nbformat": 4
 },
 "nbformat": 4,
 "nbformat_minor": 2
}
