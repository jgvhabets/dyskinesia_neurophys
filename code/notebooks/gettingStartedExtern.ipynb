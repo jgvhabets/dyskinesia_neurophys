{
 "cells": [
  {
   "cell_type": "markdown",
   "metadata": {},
   "source": [
    "## Getting Started with Multi-modal Dyskinesia data\n",
    "\n",
    "Loading DataFrames containing pre-processed ephys-data alligned with pre-processed accelerometer-data"
   ]
  },
  {
   "cell_type": "code",
   "execution_count": null,
   "metadata": {},
   "outputs": [],
   "source": [
    "# Import public packages and functions\n",
    "import os\n",
    "import pandas as pd\n",
    "import numpy as np\n",
    "import sys\n",
    "import json"
   ]
  },
  {
   "cell_type": "markdown",
   "metadata": {},
   "source": [
    "### 1A) Define file location and data details\n",
    "\n",
    "Keep files in the given naming structure and subject folders\n",
    "\n",
    "FOLDER\n",
    "- sub-XXX\n",
    "    - XXX_mergedData_v4.0_lfp_left.P\n",
    "    - XXX_mergedData_v4.0_lfp_right.P\n",
    "    - XXX_mergedData_v4.0_acc_left.P\n",
    "    - etc"
   ]
  },
  {
   "cell_type": "code",
   "execution_count": null,
   "metadata": {},
   "outputs": [],
   "source": [
    "PATH = ('C:\\\\Users\\\\habetsj\\\\OneDrive - Charité - Universitätsmedizin Berlin\\\\Desktop\\\\temp\\\\TEST_AHMET')  # adjust to own location\n",
    "\n",
    "SUB = '016'\n",
    "DAT_SOURCE = 'lfp_left'\n",
    "\n"
   ]
  },
  {
   "cell_type": "markdown",
   "metadata": {},
   "source": [
    "### 1B) Load required scripts\n",
    "\n",
    "- `utils_fileManagement.py` needs to be unchanged present in PATH/code/\n",
    "- `__init__.py` needs to be present"
   ]
  },
  {
   "cell_type": "code",
   "execution_count": null,
   "metadata": {},
   "outputs": [],
   "source": [
    "# set working directory to folder with code\n",
    "os.chdir(os.path.join(PATH, 'code'))\n",
    "\n",
    "from utils.utils_fileManagement import load_class_pickle, mergedData"
   ]
  },
  {
   "cell_type": "code",
   "execution_count": null,
   "metadata": {},
   "outputs": [],
   "source": [
    "def check__and_load_file(PATH, SUB, DAT_SOURCE):\n",
    "\n",
    "    assert os.path.exists(PATH), f'PATH doesnot exist ({PATH})'\n",
    "    \n",
    "    assert DAT_SOURCE in [\n",
    "        'lfp_left', 'lfp_right', 'ecog_left',\n",
    "        'ecog_right', 'acc_left', 'acc_right'\n",
    "    ], f'incorrect DAT_SOURCE ({DAT_SOURCE})'\n",
    "\n",
    "    folder = os.path.join(PATH, 'data', f'sub-{SUB}')\n",
    "    fname = f'{SUB}_mergedData_v4.0_{DAT_SOURCE}.P'\n",
    "\n",
    "    assert fname in os.listdir(folder), (\n",
    "        f'FILE {fname} not in {folder}'\n",
    "    )\n",
    "    \n",
    "    dat = load_class_pickle(os.path.join(folder, fname))\n",
    "\n",
    "    return dat"
   ]
  },
  {
   "cell_type": "markdown",
   "metadata": {},
   "source": [
    "### 1C) Load Data\n",
    "\n",
    "Pickle structure\n",
    "\n",
    "dat\n",
    "- 'sub': str  # subject code (all starting with 0 incl ECoG, starting with 1 excl ECoG)\n",
    "- 'data_version': str  # always v4.0, final version containing bandpass 2 - 98 Hz and notch filter 50 Hz\n",
    "- 'data': np.ndarray  # array in long format, sampled in freq dat.fs\n",
    "- 'colnames': list  # colnames correspond with the columns in the array\n",
    "- 'times': np.ndarray  # times/dopa_times are alligned between subjects across data sources\n",
    "- 'fs': int  # downsampled sampling freq (differs between ephys and acc)"
   ]
  },
  {
   "cell_type": "code",
   "execution_count": null,
   "metadata": {},
   "outputs": [],
   "source": [
    "dat = check__and_load_file(PATH, SUB, DAT_SOURCE)"
   ]
  },
  {
   "cell_type": "code",
   "execution_count": null,
   "metadata": {},
   "outputs": [],
   "source": [
    "dat.data.shape"
   ]
  },
  {
   "cell_type": "code",
   "execution_count": null,
   "metadata": {},
   "outputs": [],
   "source": [
    "dat.colnames"
   ]
  }
 ],
 "metadata": {
  "kernelspec": {
   "display_name": "ecog_dysk",
   "language": "python",
   "name": "python3"
  },
  "language_info": {
   "codemirror_mode": {
    "name": "ipython",
    "version": 3
   },
   "file_extension": ".py",
   "mimetype": "text/x-python",
   "name": "python",
   "nbconvert_exporter": "python",
   "pygments_lexer": "ipython3",
   "version": "3.9.0"
  }
 },
 "nbformat": 4,
 "nbformat_minor": 2
}
