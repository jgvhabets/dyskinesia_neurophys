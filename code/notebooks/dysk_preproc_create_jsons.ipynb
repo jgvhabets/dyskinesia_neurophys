{
 "cells": [
  {
   "cell_type": "markdown",
   "metadata": {},
   "source": [
    "# Preprocessing Neurophysiology Data: Create json-files to Run\n",
    "[ReTune Dyskinesia Project]\n",
    "\n",
    "\n",
    "This notebook contains a step-by-step overview of the preprocessing workflow for ECoG- and LFP-data within the ReTune-Project work package B04. This step-wise structure is provided to understand, visualize, and adjust the single steps. Besides this notebook, another script provides execution of the preprocessing steps at once.\n",
    "\n",
    "\n",
    "<b> Data is required to converted into the BIDS-standard. </b>\n"
   ]
  },
  {
   "cell_type": "markdown",
   "metadata": {},
   "source": [
    "### 0. Loading packages and functions, defining paths\n",
    "\n"
   ]
  },
  {
   "cell_type": "code",
   "execution_count": 198,
   "metadata": {},
   "outputs": [],
   "source": [
    "# Importing Python and external packages\n",
    "import os\n",
    "import json\n"
   ]
  },
  {
   "cell_type": "code",
   "execution_count": 5,
   "metadata": {},
   "outputs": [
    {
     "data": {
      "text/plain": [
       "'/Users/jeroenhabets/Research/CHARITE/projects/dyskinesia_neurophys/code'"
      ]
     },
     "execution_count": 5,
     "metadata": {},
     "output_type": "execute_result"
    }
   ],
   "source": [
    "# define local storage directories\n",
    "projectpath = '/Users/jeroenhabets/Research/CHARITE/projects/dyskinesia_neurophys'\n",
    "codepath = os.path.join(projectpath, 'code')\n",
    "rawdatapath = '/Users/jeroenhabets/OneDrive - Charité - Universitätsmedizin Berlin/BIDS_Berlin_ECOG_LFP/rawdata'\n",
    "json_dir = os.path.join(\n",
    "    projectpath, 'data', 'preprocess', 'preprocess_jsons'\n",
    ")\n",
    "# change working directory to project-code folder\n",
    "os.chdir(codepath)\n",
    "os.getcwd()"
   ]
  },
  {
   "cell_type": "code",
   "execution_count": 3,
   "metadata": {},
   "outputs": [],
   "source": [
    "import lfpecog_preproc.preproc_json_creator as json_creator\n",
    "\n",
    "# import lfpecog_preproc.preproc_data_management as dataMng\n",
    "# import lfpecog_preproc.preproc_reref as reref\n",
    "# import lfpecog_preproc.preproc_artefacts as artefacts\n",
    "# import lfpecog_preproc.preproc_filters as fltrs\n",
    "# import lfpecog_preproc.preproc_resample as resample"
   ]
  },
  {
   "cell_type": "markdown",
   "metadata": {},
   "source": [
    "### 1. Define Settings of Preprocessing and JSON-file"
   ]
  },
  {
   "cell_type": "code",
   "execution_count": 142,
   "metadata": {},
   "outputs": [],
   "source": [
    "def define_settings(\n",
    "    version: str, create: bool, json_dir: str,\n",
    "    ecog_sett_list: list = None, lfp_sett_list: list = None,\n",
    "    plot_figures: bool = False, lfp_reref: str = None\n",
    "):\n",
    "    '''\n",
    "    Function...\n",
    "\n",
    "    Arguments:\n",
    "        - version: name of settings-version\n",
    "        - create: To create new or not (used existing)\n",
    "        - json_dir: path to json-folder\n",
    "        - ecog_sett_list/ lfp_sett_list: Lists with new settings\n",
    "        to make for ecog and lfp preprocessing:\n",
    "        [win_len, artfct_sd_tresh,\n",
    "        (bandpass_f_low, bandpass_f_low), transBW, notchW,\n",
    "        Fs_origin, Fs_resample, settings_version]\n",
    "\n",
    "    '''\n",
    "    f = f'settings_{version}.json'\n",
    "    if create:\n",
    "        # check for already existing\n",
    "        if f in os.listdir(json_dir):\n",
    "                print(f'\\nSettings-JSON {version} does already exist,'\n",
    "                ' define new name for current version')\n",
    "                return\n",
    "        for newlist in [ecog_sett_list, lfp_sett_list]:\n",
    "            if newlist is None:  # check if new list is inserted\n",
    "                print('Enter list(s) with new settings')\n",
    "                return\n",
    "            if (float or str) in [type(s) for s in newlist]:  # only int\n",
    "                print('List with new settings can only contain integers')\n",
    "                return\n",
    "        if lfp_reref not in ['segments', 'levels']:\n",
    "            print('LFP-reref method has to be levels / segments')\n",
    "            return\n",
    "\n",
    "        # if all requirements are met: create new json\n",
    "        dict_settings = {  # dict to write into json\n",
    "            'lfp': lfp_sett_list + [version],\n",
    "            'ecog': ecog_sett_list + [version],\n",
    "            'plot_figs': plot_figures,\n",
    "            'lfp_reref': lfp_reref,\n",
    "        }\n",
    "        with open(os.path.join(json_dir, f), 'w') as jsonfile:\n",
    "            json.dump(dict_settings, jsonfile, indent=4)\n",
    "        return os.path.join(json_dir, f)\n",
    "\n",
    "    if not create:\n",
    "        # Define existing version to use\n",
    "        if f not in os.listdir(json_dir):\n",
    "            print(f'Setting-json {version} does not exist.\\n'\n",
    "                  'Insert existing settings-version!!')\n",
    "            return\n",
    "        else:\n",
    "            print(f'Settings {version} exist, please proceed :)')\n",
    "            return os.path.join(json_dir, f)\n"
   ]
  },
  {
   "cell_type": "code",
   "execution_count": 200,
   "metadata": {},
   "outputs": [],
   "source": [
    "lfp_settings = [1, 4, (1, 120), 10, 2, 4000, 800,]\n",
    "ecog_settings = [1, 4, (1, 120), 10, 2, 4000, 800,]\n",
    "\n",
    "json_settings = define_settings(\n",
    "    'v0.5_Feb22', create=True, json_dir=json_dir,\n",
    "    ecog_sett_list=ecog_settings, lfp_sett_list=lfp_settings,\n",
    "    plot_figures=True, lfp_reref='segments'\n",
    ")"
   ]
  },
  {
   "cell_type": "markdown",
   "metadata": {},
   "source": [
    "### 2. Select Recordings to Preprocess\n",
    "\n",
    "\n"
   ]
  },
  {
   "cell_type": "code",
   "execution_count": 183,
   "metadata": {},
   "outputs": [
    {
     "name": "stdout",
     "output_type": "stream",
     "text": [
      "Available runs for pt 009 in session MedOn02:\n",
      "\n",
      " ['task-SelfpacedHandFlipL', 'acq-StimOffDopa18', 'run-1']\n",
      "\n",
      " ['task-Rest', 'acq-StimOffDopa00', 'run-1']\n",
      "\n",
      " ['task-SelfpacedHandFlipR', 'acq-StimOffDopa40', 'run-1']\n",
      "\n",
      " ['task-Rest', 'acq-StimOffDopa65', 'run-1']\n",
      "\n",
      " ['task-SelfpacedHandFlipR', 'acq-StimOffDopa10', 'run-1']\n",
      "\n",
      " ['task-SelfpacedHandFlipL', 'acq-StimOffDopa50', 'run-1']\n",
      "\n",
      " ['task-Free', 'acq-StimOffDopa55', 'run-1']\n",
      "\n",
      " ['task-Free', 'acq-StimOffDopa25', 'run-1']\n",
      "\n",
      " ['task-SelfpacedHandFlipR', 'acq-StimOffDopa70', 'run-1']\n",
      "\n",
      " ['task-Rest', 'acq-StimOffDopa30', 'run-1']\n"
     ]
    }
   ],
   "source": [
    "# define sub and ses and check available runs\n",
    "sub = '009'\n",
    "ses = 'MedOn02'\n",
    "ses_path = os.path.join(\n",
    "    rawdatapath,\n",
    "    f'sub-{sub}',\n",
    "    f'ses-EcogLfp{ses}/ieeg'\n",
    ")\n",
    "fs = [f for f in os.listdir(ses_path) if f[-4:] == '.eeg']\n",
    "print(f'Available runs for pt {sub} in session {ses}:')\n",
    "for f in fs: print('\\n', f.split('_')[2:5])\n"
   ]
  },
  {
   "cell_type": "code",
   "execution_count": 184,
   "metadata": {},
   "outputs": [
    {
     "name": "stdout",
     "output_type": "stream",
     "text": [
      "Exclusion from Preprocessing:\n"
     ]
    }
   ],
   "source": [
    "print('Exclusion from Preprocessing:')\n",
    "sel_excl = []\n",
    "to_excl = []\n",
    "for f_ex in sel_excl:\n",
    "    to_excl.append(fs[f_ex])\n",
    "    print(f'{fs[2]} added to exclude from preprocessing')"
   ]
  },
  {
   "cell_type": "code",
   "execution_count": 185,
   "metadata": {},
   "outputs": [
    {
     "name": "stdout",
     "output_type": "stream",
     "text": [
      "Files (10) left after exclusion: ['sub-009_ses-EcogLfpMedOn02_task-SelfpacedHandFlipL_acq-StimOffDopa18_run-1_ieeg.eeg', 'sub-009_ses-EcogLfpMedOn02_task-Rest_acq-StimOffDopa00_run-1_ieeg.eeg', 'sub-009_ses-EcogLfpMedOn02_task-SelfpacedHandFlipR_acq-StimOffDopa40_run-1_ieeg.eeg', 'sub-009_ses-EcogLfpMedOn02_task-Rest_acq-StimOffDopa65_run-1_ieeg.eeg', 'sub-009_ses-EcogLfpMedOn02_task-SelfpacedHandFlipR_acq-StimOffDopa10_run-1_ieeg.eeg', 'sub-009_ses-EcogLfpMedOn02_task-SelfpacedHandFlipL_acq-StimOffDopa50_run-1_ieeg.eeg', 'sub-009_ses-EcogLfpMedOn02_task-Free_acq-StimOffDopa55_run-1_ieeg.eeg', 'sub-009_ses-EcogLfpMedOn02_task-Free_acq-StimOffDopa25_run-1_ieeg.eeg', 'sub-009_ses-EcogLfpMedOn02_task-SelfpacedHandFlipR_acq-StimOffDopa70_run-1_ieeg.eeg', 'sub-009_ses-EcogLfpMedOn02_task-Rest_acq-StimOffDopa30_run-1_ieeg.eeg']\n"
     ]
    }
   ],
   "source": [
    "# for f_ex in to_excl: fs.remove(f_ex)\n",
    "print(f'Files ({len(fs)}) left after exclusion: {fs}')"
   ]
  },
  {
   "cell_type": "code",
   "execution_count": 196,
   "metadata": {},
   "outputs": [
    {
     "name": "stdout",
     "output_type": "stream",
     "text": [
      "Check dictionaries of included runs [{'sub': '009', 'ses': 'EcogLfpMedOn02', 'task': 'SelfpacedHandFlipL', 'acq': 'StimOffDopa18', 'run': '1', 'raw_path': '/Users/jeroenhabets/OneDrive - Charité - Universitätsmedizin Berlin/BIDS_Berlin_ECOG_LFP/rawdata', 'project_path': '/Users/jeroenhabets/Research/CHARITE/projects/dyskinesia_neurophys'}, {'sub': '009', 'ses': 'EcogLfpMedOn02', 'task': 'Rest', 'acq': 'StimOffDopa00', 'run': '1', 'raw_path': '/Users/jeroenhabets/OneDrive - Charité - Universitätsmedizin Berlin/BIDS_Berlin_ECOG_LFP/rawdata', 'project_path': '/Users/jeroenhabets/Research/CHARITE/projects/dyskinesia_neurophys'}, {'sub': '009', 'ses': 'EcogLfpMedOn02', 'task': 'SelfpacedHandFlipR', 'acq': 'StimOffDopa40', 'run': '1', 'raw_path': '/Users/jeroenhabets/OneDrive - Charité - Universitätsmedizin Berlin/BIDS_Berlin_ECOG_LFP/rawdata', 'project_path': '/Users/jeroenhabets/Research/CHARITE/projects/dyskinesia_neurophys'}, {'sub': '009', 'ses': 'EcogLfpMedOn02', 'task': 'Rest', 'acq': 'StimOffDopa65', 'run': '1', 'raw_path': '/Users/jeroenhabets/OneDrive - Charité - Universitätsmedizin Berlin/BIDS_Berlin_ECOG_LFP/rawdata', 'project_path': '/Users/jeroenhabets/Research/CHARITE/projects/dyskinesia_neurophys'}, {'sub': '009', 'ses': 'EcogLfpMedOn02', 'task': 'SelfpacedHandFlipR', 'acq': 'StimOffDopa10', 'run': '1', 'raw_path': '/Users/jeroenhabets/OneDrive - Charité - Universitätsmedizin Berlin/BIDS_Berlin_ECOG_LFP/rawdata', 'project_path': '/Users/jeroenhabets/Research/CHARITE/projects/dyskinesia_neurophys'}, {'sub': '009', 'ses': 'EcogLfpMedOn02', 'task': 'SelfpacedHandFlipL', 'acq': 'StimOffDopa50', 'run': '1', 'raw_path': '/Users/jeroenhabets/OneDrive - Charité - Universitätsmedizin Berlin/BIDS_Berlin_ECOG_LFP/rawdata', 'project_path': '/Users/jeroenhabets/Research/CHARITE/projects/dyskinesia_neurophys'}, {'sub': '009', 'ses': 'EcogLfpMedOn02', 'task': 'Free', 'acq': 'StimOffDopa55', 'run': '1', 'raw_path': '/Users/jeroenhabets/OneDrive - Charité - Universitätsmedizin Berlin/BIDS_Berlin_ECOG_LFP/rawdata', 'project_path': '/Users/jeroenhabets/Research/CHARITE/projects/dyskinesia_neurophys'}, {'sub': '009', 'ses': 'EcogLfpMedOn02', 'task': 'Free', 'acq': 'StimOffDopa25', 'run': '1', 'raw_path': '/Users/jeroenhabets/OneDrive - Charité - Universitätsmedizin Berlin/BIDS_Berlin_ECOG_LFP/rawdata', 'project_path': '/Users/jeroenhabets/Research/CHARITE/projects/dyskinesia_neurophys'}, {'sub': '009', 'ses': 'EcogLfpMedOn02', 'task': 'SelfpacedHandFlipR', 'acq': 'StimOffDopa70', 'run': '1', 'raw_path': '/Users/jeroenhabets/OneDrive - Charité - Universitätsmedizin Berlin/BIDS_Berlin_ECOG_LFP/rawdata', 'project_path': '/Users/jeroenhabets/Research/CHARITE/projects/dyskinesia_neurophys'}, {'sub': '009', 'ses': 'EcogLfpMedOn02', 'task': 'Rest', 'acq': 'StimOffDopa30', 'run': '1', 'raw_path': '/Users/jeroenhabets/OneDrive - Charité - Universitätsmedizin Berlin/BIDS_Berlin_ECOG_LFP/rawdata', 'project_path': '/Users/jeroenhabets/Research/CHARITE/projects/dyskinesia_neurophys'}]\n"
     ]
    }
   ],
   "source": [
    "list_dicts = []\n",
    "for f in fs:\n",
    "    list_dicts.append({  # dict to write into json\n",
    "        'sub': f.split('-')[1][:3],\n",
    "        'ses': f.split('-')[2][:-5],\n",
    "        'task': f.split('-')[3][:-4],\n",
    "        'acq': f.split('-')[4][:-4],\n",
    "        'run': f.split('-')[5][0],\n",
    "        'raw_path': rawdatapath,\n",
    "        'project_path': projectpath,\n",
    "    })\n",
    "\n",
    "print('Check dictionaries of included runs', list_dicts)"
   ]
  },
  {
   "cell_type": "code",
   "execution_count": 197,
   "metadata": {},
   "outputs": [],
   "source": [
    "# Write JSON-file with run-dict's\n",
    "fname = 'runinfos_08FEB22.json'\n",
    "f = os.path.join(json_dir, fname)\n",
    "with open(f, 'w') as jsonfile:\n",
    "    json.dump(list_dicts, jsonfile, indent=4)"
   ]
  }
 ],
 "metadata": {
  "interpreter": {
   "hash": "3215b98ba4c40f90b358cffaa32696e7bfbdbe38275c45cfefc4b84b3a964fcf"
  },
  "kernelspec": {
   "display_name": "Python 3.9.7 64-bit ('ecog_dysk': conda)",
   "language": "python",
   "name": "python3"
  },
  "language_info": {
   "codemirror_mode": {
    "name": "ipython",
    "version": 3
   },
   "file_extension": ".py",
   "mimetype": "text/x-python",
   "name": "python",
   "nbconvert_exporter": "python",
   "pygments_lexer": "ipython3",
   "version": "3.9.7"
  },
  "orig_nbformat": 4
 },
 "nbformat": 4,
 "nbformat_minor": 2
}
