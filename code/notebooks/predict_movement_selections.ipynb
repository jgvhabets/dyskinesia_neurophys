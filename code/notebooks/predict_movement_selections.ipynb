{
 "cells": [
  {
   "cell_type": "markdown",
   "metadata": {},
   "source": [
    "## Prediction with Movement dependency\n",
    "\n",
    "\n",
    "Notebook to train and test prediction models that use movement dependent and/or movement independent data / features"
   ]
  },
  {
   "cell_type": "code",
   "execution_count": null,
   "metadata": {},
   "outputs": [],
   "source": [
    "# Importing Python and external packages\n",
    "import os\n",
    "import sys\n",
    "import importlib\n",
    "import json\n",
    "import csv\n",
    "from dataclasses import dataclass, field, fields\n",
    "from itertools import compress, product\n",
    "import pandas as pd\n",
    "import numpy as np\n",
    "import sklearn as sk\n",
    "from scipy import signal, stats\n",
    "\n",
    "import matplotlib.pyplot as plt\n",
    "import seaborn as sns\n"
   ]
  },
  {
   "cell_type": "code",
   "execution_count": null,
   "metadata": {},
   "outputs": [],
   "source": [
    "def get_project_path_in_notebook(\n",
    "    subfolder: str = '',\n",
    "):\n",
    "    \"\"\"\n",
    "    Finds path of projectfolder from Notebook.\n",
    "    Start running this once to correctly find\n",
    "    other modules/functions\n",
    "    \"\"\"\n",
    "    path = os.getcwd()\n",
    "\n",
    "    while path[-20:] != 'dyskinesia_neurophys':\n",
    "\n",
    "        path = os.path.dirname(path)\n",
    "    \n",
    "    return path"
   ]
  },
  {
   "cell_type": "code",
   "execution_count": null,
   "metadata": {},
   "outputs": [],
   "source": [
    "projectpath = get_project_path_in_notebook()\n"
   ]
  },
  {
   "cell_type": "markdown",
   "metadata": {},
   "source": [
    "Import own functions"
   ]
  },
  {
   "cell_type": "code",
   "execution_count": null,
   "metadata": {},
   "outputs": [],
   "source": [
    "os.chdir(os.path.join(projectpath, 'code'))\n",
    "\n",
    "# own utility functions\n",
    "import utils.utils_fileManagement as utilsFiles\n",
    "\n",
    "# own data exploration functions\n",
    "import lfpecog_features.feats_read_proc_data as read_data\n",
    "import lfpecog_preproc.preproc_import_scores_annotations as importClin\n",
    "import lfpecog_analysis.ft_processing_helpers as ftProc\n",
    "import lfpecog_analysis.import_ephys_results as importResults\n",
    "import lfpecog_analysis.stats_fts_lid_corrs as ftLidCorr\n",
    "import lfpecog_analysis.psd_lid_stats as lidStats\n",
    "import lfpecog_analysis.load_SSD_features as load_ssdFts\n",
    "import lfpecog_analysis.ft_processing_helpers as ftProc\n",
    "import lfpecog_features.feats_helper_funcs as ftHelp\n",
    "from lfpecog_features.get_ssd_data import get_subject_SSDs\n",
    "\n",
    "import lfpecog_predict.prepare_predict_arrays as predArrays\n",
    "import lfpecog_features.extract_ssd_features as ssdFeats\n",
    "\n",
    "from lfpecog_plotting.plotHelpers import get_colors\n",
    "import lfpecog_plotting.plotHelpers as pltHelp\n",
    "import lfpecog_plotting.plot_FreqCorr as plotFtCorrs\n",
    "import lfpecog_plotting.plot_SSD_feat_descriptives as plot_ssd_descr"
   ]
  },
  {
   "cell_type": "markdown",
   "metadata": {},
   "source": [
    "check versions"
   ]
  },
  {
   "cell_type": "code",
   "execution_count": null,
   "metadata": {},
   "outputs": [],
   "source": [
    "from  matplotlib import __version__ as plt_version\n",
    "\n",
    "# check some package versions for documentation and reproducability\n",
    "print('Python sys', sys.version)\n",
    "print('pandas', pd.__version__)\n",
    "print('numpy', np.__version__)\n",
    "print('matplotlib', plt_version)\n",
    "# Python sys 3.9.0 (default, Nov 15 2020, 08:30:55) [MSC v.1916 64 bit (AMD64)]\n",
    "# pandas 1.4.4\n",
    "# numpy 1.23.3\n",
    "# matplotlib 3.5.3"
   ]
  },
  {
   "cell_type": "markdown",
   "metadata": {},
   "source": [
    "### Import data\n",
    "\n",
    "imports SSD-band-envelops with parallel CDRS, timestamps, task, movement-coding"
   ]
  },
  {
   "cell_type": "code",
   "execution_count": null,
   "metadata": {},
   "outputs": [],
   "source": [
    "# SET VERSIONS\n",
    "\n",
    "FT_VERSION='v6'\n",
    "SETTINGS = utilsFiles.load_ft_ext_cfg(FT_VERSION=FT_VERSION)\n",
    "\n",
    "SUBS = utilsFiles.get_avail_ssd_subs(\n",
    "    DATA_VERSION=SETTINGS[\"DATA_VERSION\"],\n",
    "    FT_VERSION=FT_VERSION,\n",
    ")"
   ]
  },
  {
   "cell_type": "code",
   "execution_count": null,
   "metadata": {},
   "outputs": [],
   "source": [
    "importlib.reload(predArrays)\n",
    "\n",
    "# get move-selected env arrays\n",
    "DATA = {}\n",
    "\n",
    "for sub in SUBS:\n",
    "    DATA[sub] = predArrays.get_move_selected_env_arrays(\n",
    "        sub=sub, LOAD_SAVE=True\n",
    "    )"
   ]
  },
  {
   "cell_type": "markdown",
   "metadata": {},
   "source": [
    "Extract Spectral Power and Variation in Feature windows\n",
    "\n",
    "TODO:\n",
    "- current gamma: only indiv peak, add sum gamma over 60 - 90"
   ]
  },
  {
   "cell_type": "code",
   "execution_count": null,
   "metadata": {},
   "outputs": [],
   "source": []
  },
  {
   "cell_type": "code",
   "execution_count": null,
   "metadata": {},
   "outputs": [],
   "source": [
    "def indiv_zscoring_feats(X_arr, sub_arr):\n",
    "\n",
    "    for i_f, sub in product(np.arange(X_arr.shape[1]),\n",
    "                            np.unique(sub_arr)):\n",
    "        # loop over all feature and sub combinations\n",
    "        sub_sel = sub_arr == sub\n",
    "        m = np.mean(X_arr[sub_sel, i_f])\n",
    "        sd = np.std(X_arr[sub_sel, i_f])\n",
    "        # z-score values for sub\n",
    "        X_arr[sub_sel, i_f] = (X_arr[sub_sel, i_f] - m) / sd\n",
    "    \n",
    "    return X_arr"
   ]
  },
  {
   "cell_type": "code",
   "execution_count": null,
   "metadata": {},
   "outputs": [],
   "source": [
    "fig_dir = os.path.join(utilsFiles.get_project_path('figures'))"
   ]
  },
  {
   "cell_type": "code",
   "execution_count": null,
   "metadata": {},
   "outputs": [],
   "source": [
    "importlib.reload(ssdFeats)\n",
    "\n",
    "X_arrs, y_arrs, sub_arrs = {}, {}, {}\n",
    "mov_dep_code = {}\n",
    "\n",
    "for i_mov, MOV_SEL in enumerate(['INDEP', 'DEPEND']):\n",
    "    # loading/ creating/ saving in ssdFeats script\n",
    "    (\n",
    "        X_arrs[i_mov], y_arrs[i_mov], sub_arrs[i_mov], feat_names\n",
    "    ) = ssdFeats.get_moveSpec_predArrays(\n",
    "        MOV_SEL=MOV_SEL, LOAD_SOURCES=['STN',],\n",
    "    )\n",
    "    # add movement code\n",
    "    mov_dep_code[i_mov] = np.array([i_mov] * X_arrs[i_mov]['STN'].shape[0]).T\n",
    "\n",
    "# merging for zscoring together\n",
    "stn_X = np.concatenate([X_arrs[0]['STN'], X_arrs[1]['STN']], axis=0)\n",
    "stn_y = np.concatenate([y_arrs[0]['STN'], y_arrs[1]['STN']], axis=0)\n",
    "stn_subids = np.concatenate([sub_arrs[0]['STN'], sub_arrs[1]['STN']], axis=0)\n",
    "\n",
    "mov_dep_code = np.concatenate([mov_dep_code[0], mov_dep_code[1]], axis=0)"
   ]
  },
  {
   "cell_type": "code",
   "execution_count": null,
   "metadata": {},
   "outputs": [],
   "source": [
    "CDRS_categs = {0: 'none', 1: 'mild',\n",
    "               2: 'moderate', 3: 'severe'}\n",
    "\n",
    "X = stn_X.copy()\n",
    "y = stn_y.copy()\n",
    "sub_ids = stn_subids.copy()\n",
    "\n",
    "X = indiv_zscoring_feats(X, sub_arr=sub_ids)\n",
    "\n",
    "for i_ft, ft in enumerate(feat_names['STN']):\n",
    "    fig, axes = plt.subplots(1, 2, figsize=(12, 4))\n",
    "\n",
    "    for i_mov, MOV_SEL in enumerate(['INDEP', 'DEPEND']):\n",
    "        mov_bool = mov_dep_code == i_mov\n",
    "        # define X and groups for feat\n",
    "        ft_temp = X[mov_bool, i_ft]\n",
    "        y_temp = y[mov_bool]\n",
    "        box_categs = [ft_temp[y_temp == cat]\n",
    "                      for cat in CDRS_categs.keys()]\n",
    "        # run LMM\n",
    "        coeff, pval = lidStats.run_mixEff_wGroups(\n",
    "            dep_var=ft_temp,\n",
    "            indep_var=y_temp,\n",
    "            groups=sub_ids[mov_bool],\n",
    "            TO_ZSCORE=False,\n",
    "        )\n",
    "        # plotting\n",
    "        axes[i_mov].boxplot(box_categs)\n",
    "        axes[i_mov].set_title(f'{ft}, mov-{MOV_SEL}\\n'\n",
    "                f'(coeff {round(coeff, 2)}, '\n",
    "                f'p={round(pval, 5)})')\n",
    "        axes[i_mov].set_ylim(-3, 3)\n",
    "    plt.show()"
   ]
  }
 ],
 "metadata": {
  "kernelspec": {
   "display_name": "ecog_dysk",
   "language": "python",
   "name": "python3"
  },
  "language_info": {
   "codemirror_mode": {
    "name": "ipython",
    "version": 3
   },
   "file_extension": ".py",
   "mimetype": "text/x-python",
   "name": "python",
   "nbconvert_exporter": "python",
   "pygments_lexer": "ipython3",
   "version": "3.9.0"
  }
 },
 "nbformat": 4,
 "nbformat_minor": 2
}
