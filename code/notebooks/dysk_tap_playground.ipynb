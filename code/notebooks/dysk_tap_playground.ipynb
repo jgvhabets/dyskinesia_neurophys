{
 "cells": [
  {
   "cell_type": "markdown",
   "metadata": {},
   "source": [
    "# Analyze movement based on Accelerometer Data"
   ]
  },
  {
   "cell_type": "code",
   "execution_count": null,
   "metadata": {},
   "outputs": [],
   "source": [
    "# Importing Python and external packages\n",
    "import os\n",
    "import sys\n",
    "import importlib\n",
    "import json\n",
    "import csv\n",
    "from dataclasses import dataclass, field, fields\n",
    "from collections import namedtuple\n",
    "from itertools import compress, product\n",
    "import pandas as pd\n",
    "import numpy as np\n",
    "\n",
    "\n",
    "import matplotlib.pyplot as plt\n",
    "from  matplotlib import __version__ as plt_version\n",
    "from scipy import signal, stats\n",
    "\n",
    "# import datetime as dt\n",
    "# #mne\n",
    "# import mne_bids\n",
    "# import mne\n"
   ]
  },
  {
   "cell_type": "code",
   "execution_count": null,
   "metadata": {},
   "outputs": [],
   "source": [
    "def get_project_path_in_notebook(\n",
    "    subfolder: str = '',\n",
    "):\n",
    "    \"\"\"\n",
    "    Finds path of projectfolder from Notebook.\n",
    "    Start running this once to correctly find\n",
    "    other modules/functions\n",
    "    \"\"\"\n",
    "    path = os.getcwd()\n",
    "\n",
    "    while path[-20:] != 'dyskinesia_neurophys':\n",
    "\n",
    "        path = os.path.dirname(path)\n",
    "    \n",
    "    return path"
   ]
  },
  {
   "cell_type": "code",
   "execution_count": null,
   "metadata": {},
   "outputs": [],
   "source": [
    "# define local storage directories\n",
    "projectpath = get_project_path_in_notebook()\n",
    "codepath = os.path.join(projectpath, 'code')\n"
   ]
  },
  {
   "cell_type": "code",
   "execution_count": null,
   "metadata": {},
   "outputs": [],
   "source": [
    "os.chdir(codepath)\n",
    "\n",
    "# own functions\n",
    "import lfpecog_features.moveDetection_preprocess as movePrep\n",
    "import lfpecog_features.moveDetection_run as run_tap_detect\n",
    "import lfpecog_features.moveDetection_pausedTapFinder as findTap\n",
    "\n",
    "import lfpecog_analysis.load_SSD_features as load_ssd_fts\n",
    "import lfpecog_analysis.get_acc_task_derivs as accDerivs\n",
    "\n",
    "import utils.utils_fileManagement as utilsFiles\n",
    "from utils.utils_fileManagement import (get_project_path,\n",
    "                                        load_class_pickle,\n",
    "                                        save_class_pickle,\n",
    "                                        mergedData,\n",
    "                                        correct_acc_class)\n",
    "import lfpecog_preproc.preproc_import_scores_annotations as importClin\n",
    "import lfpecog_plotting.plotHelpers as plotHelp"
   ]
  },
  {
   "cell_type": "code",
   "execution_count": null,
   "metadata": {},
   "outputs": [],
   "source": [
    "# check some package versions for documentation and reproducability\n",
    "print('Python sys', sys.version)\n",
    "print('pandas', pd.__version__)\n",
    "print('numpy', np.__version__)\n",
    "print('matplotlib', plt_version)\n",
    "# Python sys 3.9.0 (default, Nov 15 2020, 08:30:55) [MSC v.1916 64 bit (AMD64)]\n",
    "# pandas 1.4.4\n",
    "# numpy 1.23.3\n",
    "# matplotlib 3.5.3\n",
    "\n",
    "# STATS developed with:\n",
    "# Python sys 3.10.8 (main, Nov  4 2022, 13:42:51) [MSC v.1916 64 bit (AMD64)]\n",
    "# pandas 1.5.3\n",
    "# numpy 1.26.2\n",
    "# matplotlib 3.8.2"
   ]
  },
  {
   "cell_type": "markdown",
   "metadata": {},
   "source": [
    "### 0. Define available Subjects\n"
   ]
  },
  {
   "cell_type": "code",
   "execution_count": null,
   "metadata": {},
   "outputs": [],
   "source": [
    "import lfpecog_analysis.movement_psd_analysis as movePSD\n",
    "import lfpecog_features.feats_helper_funcs as ftHelpers\n",
    "import lfpecog_analysis.prep_movement_psd_analysis as prepMovePSD\n",
    "\n",
    "import lfpecog_features.get_ssd_data as ssd\n",
    "import lfpecog_analysis.ft_processing_helpers as ftProc\n"
   ]
  },
  {
   "cell_type": "code",
   "execution_count": null,
   "metadata": {},
   "outputs": [],
   "source": [
    "FT_VERSION='v6'\n",
    "SETTINGS = utilsFiles.load_ft_ext_cfg(FT_VERSION=FT_VERSION)\n",
    "\n",
    "main_data_path = os.path.join(get_project_path('data'),\n",
    "                              'merged_sub_data',\n",
    "                              SETTINGS[\"DATA_VERSION\"])\n",
    "\n",
    "SUBS = utilsFiles.get_avail_ssd_subs(DATA_VERSION=SETTINGS[\"DATA_VERSION\"],\n",
    "                                     FT_VERSION=FT_VERSION)\n",
    "print(len(SUBS))\n"
   ]
  },
  {
   "cell_type": "markdown",
   "metadata": {},
   "source": [
    "## 1. Spectral analysis - split on movement-task-dyskinesia"
   ]
  },
  {
   "cell_type": "code",
   "execution_count": null,
   "metadata": {},
   "outputs": [],
   "source": [
    "sub = '019'\n",
    "\n",
    "sub_data_path = os.path.join(get_project_path('data'),\n",
    "                             'merged_sub_data',\n",
    "                             SETTINGS[\"DATA_VERSION\"],\n",
    "                             f'sub-{sub}')\n",
    "fname = (f'{sub}_mergedData_{SETTINGS[\"DATA_VERSION\"]}'\n",
    "        '_acc_left.P')  # side does not matter for already detected bool labels\n",
    "\n",
    "# load Acc-detected movement labels\n",
    "accl = load_class_pickle(os.path.join(sub_data_path, fname))\n",
    "accl = correct_acc_class(accl)\n",
    "\n",
    "fname = (f'{sub}_mergedData_{SETTINGS[\"DATA_VERSION\"]}'\n",
    "        '_acc_right.P')  # side does not matter for already detected bool labels\n",
    "\n",
    "# load Acc-detected movement labels\n",
    "accr = load_class_pickle(os.path.join(sub_data_path, fname))\n",
    "accr = correct_acc_class(accr)\n",
    "\n"
   ]
  },
  {
   "cell_type": "code",
   "execution_count": null,
   "metadata": {},
   "outputs": [],
   "source": [
    "print(accl.data.shape, accl.fs, accl.colnames)\n",
    "print(accr.data.shape, accr.fs, accr.colnames)"
   ]
  },
  {
   "cell_type": "code",
   "execution_count": null,
   "metadata": {},
   "outputs": [],
   "source": [
    "\n",
    "# call from feats_extract_multivar.py\n",
    "ssd_sub = ssd.get_subject_SSDs(\n",
    "    sub=sub,\n",
    "    incl_stn=True,\n",
    "    incl_ecog=False,\n",
    "    ft_setting_fname='ftExtr_spectral_v6.json',)"
   ]
  },
  {
   "cell_type": "code",
   "execution_count": null,
   "metadata": {},
   "outputs": [],
   "source": [
    "# # get boolean arrays for movement labels corresponding to ephys\n",
    "# ephys_arr = ssd_sub.lfp_left.lo_beta\n",
    "# ephys_wintimes = np.array(ssd_sub.lfp_left.times)\n",
    "# ephys_fs = ssd_sub.lfp_left.fs\n",
    "# WINLEN_SEC = 10\n",
    "\n",
    "# # create timestamps for every ephys sample in 2d array (2048 Hz)\n",
    "# ephys_times2d = np.array([\n",
    "#     np.arange(t, t + WINLEN_SEC, 1 / ephys_fs)\n",
    "#     for t in ephys_wintimes\n",
    "# ])\n",
    "# nan_arr = np.isnan(ephys_arr)\n",
    "\n",
    "# # get movement bools based on acc data (512 Hz)\n",
    "# MOVE_BOOLS = {'no_move': accl.data[:, -1],\n",
    "#               'any_move': np.sum(accl.data[:, -5:-1], axis=1) > 0,\n",
    "#               'left_tap': accl.data[:, -5],\n",
    "#               'left_allmove': (accl.data[:, -5] + accl.data[:, -3]) > 0,\n",
    "#               'right_tap': accl.data[:, -4],\n",
    "#               'right_allmove': (accl.data[:, -4] + accl.data[:, -2]) > 0}\n",
    "# TASK = accl.data[:, 4]"
   ]
  },
  {
   "cell_type": "code",
   "execution_count": null,
   "metadata": {},
   "outputs": [],
   "source": [
    "# CAT = False\n",
    "# cdrs = ftProc.find_select_nearest_CDRS_for_ephys(\n",
    "#     sub=sub, side='bilat',  \n",
    "#     ft_times=ephys_wintimes / 60,\n",
    "#     INCL_CORE_CDRS=True,\n",
    "#     cdrs_rater='Patricia',\n",
    "# )\n",
    " \n",
    "# if CAT:\n",
    "#     cdrs = ftProc.categorical_CDRS(cdrs,\n",
    "#                             cutoff_mildModerate=3.5,\n",
    "#                             cutoff_moderateSevere=7.5,)"
   ]
  },
  {
   "cell_type": "code",
   "execution_count": null,
   "metadata": {},
   "outputs": [],
   "source": [
    "# importlib.reload(prepMovePSD)\n",
    "\n",
    "# cdrs = ftProc.find_select_nearest_CDRS_for_ephys(\n",
    "#     sub=sub, side='bilat',  \n",
    "#     ft_times=ephys_wintimes / 60,\n",
    "#     INCL_CORE_CDRS=True,\n",
    "#     cdrs_rater='Patricia',\n",
    "# )\n",
    "# # cdrs = ftProc.categorical_CDRS(cdrs,\n",
    "# #                             cutoff_mildModerate=3.5,\n",
    "# #                             cutoff_moderateSevere=7.5,)\n",
    "\n",
    "# mask_times = prepMovePSD.get_mask_timings(\n",
    "#     orig_labels=cdrs,\n",
    "#     orig_times=ephys_wintimes,\n",
    "#     MASK='LID')\n",
    "\n",
    "# # currently codes: rest=0, tap=1, free=2\n",
    "# lid_mask = prepMovePSD.create_ephys_mask(\n",
    "#     ephys_time_arr=ephys_times2d,\n",
    "#     ephys_win_times=ephys_wintimes,\n",
    "#     mask_times=mask_times,\n",
    "#     MASK='LID',\n",
    "# )"
   ]
  },
  {
   "cell_type": "code",
   "execution_count": null,
   "metadata": {},
   "outputs": [],
   "source": [
    "import lfpecog_analysis.psd_analysis_classes as psdClass\n",
    "import lfpecog_analysis.specific_ephys_selection as ephySel\n",
    "\n",
    "import lfpecog_plotting.plot_descriptive_SSD_PSDs as plot_ssd_PSDs\n",
    "import lfpecog_plotting.plot_move_spec_psd as plot_specPsd\n",
    "import lfpecog_analysis.prep_stats_movLidspecPsd as prep_specStats\n",
    "import lfpecog_analysis.psd_lid_stats as psd_Stats\n",
    "\n",
    "import lfpecog_features.bursts_funcs as bursts_funcs"
   ]
  },
  {
   "cell_type": "code",
   "execution_count": null,
   "metadata": {},
   "outputs": [],
   "source": [
    "import lfpecog_predict.prepare_predict_arrays as predArrays\n"
   ]
  },
  {
   "cell_type": "code",
   "execution_count": null,
   "metadata": {},
   "outputs": [],
   "source": [
    "importlib.reload(ephySel)\n",
    "importlib.reload(prepMovePSD)\n",
    "importlib.reload(psdClass)\n",
    "importlib.reload(ssd)\n",
    "\n",
    "# # get single subClass (incl original 3d data, always creates new)\n",
    "# test = psdClass.PSD_vs_Move_sub(sub='014')\n",
    "\n",
    "# use existing\n",
    "sub = '017'\n",
    "data_path = 'D://Research/CHARITE/projects/dyskinesia_neurophys/data/'\n",
    "picklepath = os.path.join(\n",
    "    data_path,\n",
    "    'windowed_data_classes_10s_0.5overlap',\n",
    "    'selected_ephys_classes_all'\n",
    ")\n",
    "picklename = f'ephys_selections_{sub}.P'\n",
    "\n",
    "sub_class = load_class_pickle(\n",
    "    file_to_load=os.path.join(picklepath,\n",
    "                                picklename),\n",
    "    convert_float_np64=True\n",
    ")"
   ]
  },
  {
   "cell_type": "markdown",
   "metadata": {},
   "source": [
    "Check MASKs with ACC comparison"
   ]
  },
  {
   "cell_type": "code",
   "execution_count": null,
   "metadata": {},
   "outputs": [],
   "source": [
    "importlib.reload(prepMovePSD)\n",
    "\n",
    "move_masks, task_mask, lid_masks = prepMovePSD.create_ephys_masks(sub='012', verbose=True)"
   ]
  },
  {
   "cell_type": "code",
   "execution_count": null,
   "metadata": {},
   "outputs": [],
   "source": [
    "for MOV_TYPE in move_masks.keys():\n",
    "    match_sum = np.sum(np.logical_and(\n",
    "        move_masks[MOV_TYPE] == 1,\n",
    "        task_mask == 2\n",
    "    ))\n",
    "    print(f'{MOV_TYPE} during FREE: {match_sum / 2048} seconds')\n"
   ]
  },
  {
   "cell_type": "code",
   "execution_count": null,
   "metadata": {},
   "outputs": [],
   "source": [
    "accl = accDerivs.get_raw_acc_traces(sub='012', side='left', data_version='v4.0')\n",
    "print(accl.colnames)"
   ]
  },
  {
   "cell_type": "code",
   "execution_count": null,
   "metadata": {},
   "outputs": [],
   "source": []
  },
  {
   "cell_type": "markdown",
   "metadata": {},
   "source": [
    "#### Check and Plot extracted PSD data"
   ]
  },
  {
   "cell_type": "markdown",
   "metadata": {},
   "source": [
    "Add STATS for PSD plotting"
   ]
  },
  {
   "cell_type": "code",
   "execution_count": null,
   "metadata": {},
   "outputs": [],
   "source": [
    "# CREATE AND/OR PLOT SIGNIFICANCIES PER SELECTION (binary / linear)\n",
    "importlib.reload(psd_Stats)\n",
    "importlib.reload(psdClass)\n",
    "importlib.reload(plot_specPsd)\n",
    "importlib.reload(prep_specStats)\n",
    "\n",
    "STATS_VERSION = '2Hz'\n",
    "\n",
    "# prep_specStats.get_stats_REST_psds(\n",
    "#     STAT_DATA_EXT_PATH = True,\n",
    "#     STAT_LID_COMPARE = 'categs',\n",
    "#     STATS_VERSION=STATS_VERSION,\n",
    "#     PLOT_STATS=True,\n",
    "#     MERGE_STNs=True,\n",
    "#     STAT_PER_LID_CAT=True,\n",
    "# )\n",
    "\n",
    "\n",
    "# DEBUG ALTERNATIVE BASELINING FOR INVOLUNT (exclude no LID subs)\n",
    "\n",
    "prep_specStats.get_stats_MOVE_psds(\n",
    "    STAT_DATA_EXT_PATH = True,\n",
    "    STAT_LID_COMPARE = 'categs',\n",
    "    STATS_VERSION=STATS_VERSION,\n",
    "    PLOT_STATS=True,\n",
    "    STAT_PER_LID_CAT=True,\n",
    "    SKIP_MOVES=['FREE'],  # FREEMOVE; FREENOMOVE; TAP; INVOLUNT\n",
    "    MERGE_DYSK_SIDES=True,\n",
    "    ALPHA=.01,\n",
    "    ALT_BASELINE=True\n",
    ")\n"
   ]
  },
  {
   "cell_type": "code",
   "execution_count": null,
   "metadata": {},
   "outputs": [],
   "source": [
    "FIG_PATH = os.path.join(get_project_path('figures'),\n",
    "                        'ft_exploration',\n",
    "                        'data_v4.0_ft_v6',\n",
    "                        'PSDs_state_specific')\n",
    "\n",
    "cond_colors = {\n",
    "    'nolid': 'green',\n",
    "    'nolidbelow30': 'limegreen',\n",
    "    'nolidover30': 'darkgreen',\n",
    "    'alllid': 'blue', 'mildlid': 'orange',\n",
    "    'moderatelid': 'red', 'severelid': 'purple',\n",
    "}"
   ]
  },
  {
   "cell_type": "markdown",
   "metadata": {},
   "source": [
    "Import 1-sec PSDs (rest-tap-dysk)\n"
   ]
  },
  {
   "cell_type": "code",
   "execution_count": null,
   "metadata": {},
   "outputs": [],
   "source": [
    "importlib.reload(ephySel)\n",
    "importlib.reload(psdClass)\n",
    "\n",
    "RETURN_PSD_1sec = True\n",
    "\n",
    "(\n",
    "    PSDs_1s, BLs_1s\n",
    ") = psdClass.get_allSpecStates_Psds(\n",
    "    RETURN_PSD_1sec=RETURN_PSD_1sec,\n",
    "    incl_free=False,\n",
    ")\n",
    "\n",
    "\n"
   ]
  },
  {
   "cell_type": "markdown",
   "metadata": {},
   "source": [
    "Import 1-sec PSDs (free)"
   ]
  },
  {
   "cell_type": "code",
   "execution_count": null,
   "metadata": {},
   "outputs": [],
   "source": [
    "importlib.reload(psdClass)\n",
    "\n",
    "RETURN_PSD_1sec = True\n",
    "\n",
    "# TODO: INCLUDE ALTEARNTIVE BASELINING FOR FREE\n",
    "# in plotting, but also still in STATS CREATION\n",
    "\n",
    "(\n",
    "    PSDs_free, BLs_free\n",
    ") = psdClass.get_allSpecStates_Psds(\n",
    "    RETURN_PSD_1sec=RETURN_PSD_1sec,\n",
    "    incl_lidmove=False,\n",
    "    incl_rest=False,\n",
    "    incl_tap=False,\n",
    ")\n"
   ]
  },
  {
   "cell_type": "markdown",
   "metadata": {},
   "source": [
    "Plot REST or MOVEMENTS: Voluntary (TAP) / Involuntary (LID) versus CONTRA and IPSI-LATERAL Ephys\n",
    "\n",
    "- movement selection has millisecond resolution"
   ]
  },
  {
   "cell_type": "code",
   "execution_count": null,
   "metadata": {},
   "outputs": [],
   "source": [
    "importlib.reload(plot_ssd_PSDs)\n",
    "importlib.reload(plot_specPsd)\n",
    "importlib.reload(psdClass)\n",
    "importlib.reload(ephySel)\n",
    "importlib.reload(prep_specStats)\n",
    "\n",
    "# PLOT DYSKINESIA STATES\n",
    "\n",
    "%matplotlib inline\n",
    "# %matplotlib qt\n",
    "INCL_STATS = True\n",
    "ALT_BASELINE = True\n",
    "\n",
    "STATS_VERSION='2Hz'\n",
    "\n",
    "for PLOT_SEL in ['REST', 'TAP', 'INVOLUNT', 'FREE']:\n",
    "    # select state selection to plot\n",
    "    if PLOT_SEL not in ['TAP', 'INVOLUNT']:\n",
    "        print(f'\\n...SKIP {PLOT_SEL}')\n",
    "        continue\n",
    "    print(f'PLOT {PLOT_SEL}, (incl STATs: {INCL_STATS})')\n",
    "    \n",
    "    # select matching PSD dict\n",
    "    if PLOT_SEL == 'FREE':\n",
    "        PSD_DICT = PSDs_free\n",
    "        BL_DICT = BLs_free\n",
    "    else:\n",
    "        PSD_DICT = PSDs_1s\n",
    "        BL_DICT = BLs_1s\n",
    "\n",
    "    plot_specPsd.prep_and_plot_moveSpecPsd(\n",
    "        PLOT_CONDITION=PLOT_SEL,\n",
    "        PSD_DICT=PSD_DICT,\n",
    "        BASELINE=BL_DICT,\n",
    "        SAVE_PLOT=True,\n",
    "        SHOW_PLOT=False,\n",
    "        INCL_STATS=True,\n",
    "        ALPHA=.01,\n",
    "        ALT_MOVELID_BASELINE=ALT_BASELINE,\n",
    "        STATS_VERSION=STATS_VERSION,\n",
    "        STAT_PER_LID_CAT=True,\n",
    "        STAT_LID_COMPARE='categs',\n",
    "        MERGE_REST_STNS=True,\n",
    "        MERGED_DYSK=True,\n",
    "        ADD_TO_FIG_NAME='3001_altBL_a01_'\n",
    "    )\n"
   ]
  },
  {
   "cell_type": "code",
   "execution_count": null,
   "metadata": {},
   "outputs": [],
   "source": []
  },
  {
   "cell_type": "markdown",
   "metadata": {},
   "source": [
    "### ### NOTES on DETAILED DATA SELECTION ### # \n",
    "\n",
    "- To Do:\n",
    "    - plot unilat-dyskinesia in IPSI and CONTRA hemisphere (STN and ECoG)\n"
   ]
  },
  {
   "cell_type": "code",
   "execution_count": null,
   "metadata": {},
   "outputs": [],
   "source": []
  },
  {
   "cell_type": "markdown",
   "metadata": {},
   "source": [
    "# older scripts\n",
    "\n",
    "tap overviews plotted in movement_psd_analysis.plot_overview_tap_detection"
   ]
  },
  {
   "cell_type": "markdown",
   "metadata": {},
   "source": [
    "### 1a. Load pickled acc-data (and plot Taps)\n"
   ]
  },
  {
   "cell_type": "markdown",
   "metadata": {},
   "source": [
    "### 1b. Load SSD data"
   ]
  },
  {
   "cell_type": "code",
   "execution_count": null,
   "metadata": {},
   "outputs": [],
   "source": []
  },
  {
   "cell_type": "markdown",
   "metadata": {},
   "source": [
    "load dataclass with features, labels, and acc"
   ]
  },
  {
   "cell_type": "code",
   "execution_count": null,
   "metadata": {},
   "outputs": [],
   "source": [
    "\n",
    "# importlib.reload(ftProc)\n",
    "\n",
    "# class created in ftProc, FeatLidClass()\n",
    "# mean-RMS standardly zscored\n",
    "import lfpecog_analysis.ft_processing_helpers as ftProc\n",
    "\n",
    "featLabPath = os.path.join(utilsFiles.get_project_path('data'),\n",
    "                           'prediction_data',\n",
    "                           'featLabelClasses')\n",
    "feats6 = utilsFiles.load_class_pickle(\n",
    "    os.path.join(featLabPath, 'featLabels_ftv6_Cdrs_StnOnly.P'),\n",
    "    convert_float_np64=True\n",
    ")"
   ]
  },
  {
   "cell_type": "markdown",
   "metadata": {},
   "source": [
    "### 2. Explore ACC-activity analysis"
   ]
  },
  {
   "cell_type": "code",
   "execution_count": null,
   "metadata": {},
   "outputs": [],
   "source": [
    "clrs = list(plotHelp.get_colors('PaulTol').values())"
   ]
  },
  {
   "cell_type": "code",
   "execution_count": null,
   "metadata": {},
   "outputs": [],
   "source": [
    "importlib.reload(accDerivs)"
   ]
  },
  {
   "cell_type": "code",
   "execution_count": null,
   "metadata": {},
   "outputs": [],
   "source": [
    "# raw_rms = load_matching_acc_rms(sub='008', RMS_ZSCORE=True,\n",
    "#                             FT_VERSION=feats6.FT_VERSION,\n",
    "#                             DATA_VERSION=feats6.DATA_VERSION)\n",
    "\n",
    "dat = accDerivs.get_raw_acc_traces(sub='008', side='left',\n",
    "                        data_version=feats6.DATA_VERSION)"
   ]
  },
  {
   "cell_type": "code",
   "execution_count": null,
   "metadata": {},
   "outputs": [],
   "source": [
    "# PLOT RAW-ACC VS FEAT-RMS AND TASK\n",
    "\n",
    "sub = '008'\n",
    "\n",
    "FS=16  # fontsize\n",
    "\n",
    "# sub = \n",
    "# get rms per 10 seconds\n",
    "rms = feats6.ACC_RMS[sub]\n",
    "rms_t = feats6.FEATS[sub].index.values  # is in minutes\n",
    "\n",
    "# raw_rms = load_matching_acc_rms(sub=sub, RMS_ZSCORE=False,\n",
    "#                             FT_VERSION=feats6.FT_VERSION,\n",
    "#                             DATA_VERSION=feats6.DATA_VERSION)\n",
    "    \n",
    "fig, ax = plt.subplots(1,1, figsize=(8, 4))\n",
    "\n",
    "# plot signal vector magnitude\n",
    "for side, col in zip(['left', 'right'],\n",
    "                     ['blue', 'orangered']):\n",
    "    dat = get_raw_acc_traces(sub=sub, side=side,\n",
    "                             data_version=feats6.DATA_VERSION)\n",
    "    acc_axes = ['ACC_' in c for c in dat.colnames]\n",
    "    svm = movePrep.signalvectormagn(dat.data[:, acc_axes])\n",
    "    ax.scatter(dat.times / 60, svm, facecolor='w', alpha=.3,\n",
    "                edgecolor=col, s=20, label=f'raw ACC-{side}')\n",
    "    \n",
    "ax.set_ylabel('raw ACC-SVM (a.u.)', size=FS,\n",
    "              color='k',weight='bold',)\n",
    "\n",
    "ax2 = ax.twinx()\n",
    "\n",
    "# plot windowed RMS\n",
    "ax2.scatter(rms_t, rms, s=50,\n",
    "            alpha=.5, color='darkorange',\n",
    "            label='mean ACC-RMS')\n",
    "ax2.set_ylabel('Windowed ACC-RMS\\nz-scored (a.u.)',\n",
    "               size=FS, color='darkorange',\n",
    "               weight='bold',)\n",
    "\n",
    "# shade tasks\n",
    "for i_task, task in enumerate(['rest', 'tap', 'free']):\n",
    "    task_sel = dat.data[:, task_col] == task\n",
    "    ax.fill_between(x=(dat.times/60).astype(np.float64),\n",
    "                    where=task_sel,\n",
    "                    y1=0, y2=7e-6,\n",
    "                    alpha=.3,\n",
    "                    color=clrs[i_task*2],\n",
    "                    # hatch='//',  facecolor='w',\n",
    "                    label=task)\n",
    "\n",
    "plt.title(f'Movement overview during experiment, sub-{sub}',\n",
    "          size=FS, weight='bold', y=1.08,)\n",
    "\n",
    "ax.legend(ncol=3, loc='upper center',\n",
    "          frameon=False, fontsize=FS-4,\n",
    "          bbox_to_anchor=(.5, 1.05))\n",
    "\n",
    "for AX in [ax, ax2]:\n",
    "    AX.tick_params(axis='both', size=FS, labelsize=FS)\n",
    "    AX.spines['top'].set_visible(False)\n",
    "    # AX.spines['right'].set_visible(False)\n",
    "\n",
    "plt.tight_layout()\n",
    "\n",
    "plt.savefig(os.path.join(get_project_path('figures'),\n",
    "                         'protocol',\n",
    "                         f'movement_ex_{sub}'),\n",
    "            dpi=300, facecolor='w',)\n",
    "\n",
    "plt.close()"
   ]
  },
  {
   "cell_type": "code",
   "execution_count": null,
   "metadata": {},
   "outputs": [],
   "source": []
  },
  {
   "cell_type": "code",
   "execution_count": null,
   "metadata": {},
   "outputs": [],
   "source": [
    "def load_matching_acc_rms(sub, FT_VERSION,\n",
    "                          DATA_VERSION,\n",
    "                          ACC_SIDE='mean',\n",
    "                          RMS_ZSCORE = False,\n",
    "                          WIN_LEN_sec=10,\n",
    "                          WIN_OVERLAP=0.5):\n",
    "    \"\"\"\n",
    "    duplicate of in-class function in FeatLidClass,\n",
    "    use to get non-zscored-RMS\n",
    "    \"\"\"\n",
    "\n",
    "    acc_rms_path = os.path.join(utilsFiles.get_project_path('results'),\n",
    "                                'features',\n",
    "                                f'SSD_feats_broad_{FT_VERSION}',\n",
    "                                DATA_VERSION,\n",
    "                                f'windows_{WIN_LEN_sec}s_'\n",
    "                                f'{WIN_OVERLAP}overlap')\n",
    "\n",
    "\n",
    "    rms_fname = f'windowed_ACC_RMS_{sub}.json'\n",
    "    rms_fpath = os.path.join(acc_rms_path, rms_fname)\n",
    "\n",
    "    if rms_fname in os.listdir(acc_rms_path):\n",
    "        with open(rms_fpath, 'r') as f:\n",
    "            sub_rms = json.load(f)\n",
    "        \n",
    "        if ACC_SIDE == 'mean':\n",
    "            rms = np.array(sub_rms['left']) + np.array(sub_rms['right'])\n",
    "        else: rms = sub_rms[ACC_SIDE]\n",
    "\n",
    "        if RMS_ZSCORE: rms = (rms - np.mean(rms)) / np.std(rms)\n",
    "\n",
    "    else:\n",
    "        rms = accDerivs.get_acc_rms_for_windows(\n",
    "            sub=sub, acc_side=ACC_SIDE, Z_SCORE=RMS_ZSCORE,\n",
    "            featClass=feats6, SAVE_RMS=True,)\n",
    "    \n",
    "    return rms"
   ]
  },
  {
   "cell_type": "code",
   "execution_count": null,
   "metadata": {},
   "outputs": [],
   "source": [
    "rms = load_matching_acc_rms(sub='103', FT_VERSION='v6',\n",
    "                            DATA_VERSION='v4.0',)"
   ]
  },
  {
   "cell_type": "code",
   "execution_count": null,
   "metadata": {},
   "outputs": [],
   "source": [
    "rms.shape"
   ]
  },
  {
   "cell_type": "markdown",
   "metadata": {},
   "source": [
    "### 3. Explore Movement vs PSD analysis"
   ]
  },
  {
   "cell_type": "code",
   "execution_count": null,
   "metadata": {},
   "outputs": [],
   "source": [
    "FT_VERSION='v6'\n",
    "DATA_VERSION = 'v4.0'\n",
    "main_data_path = os.path.join(get_project_path('data'),\n",
    "                              'merged_sub_data',\n",
    "                              DATA_VERSION)\n",
    "\n",
    "SUBS = load_ssd_fts.get_avail_ssd_subs(DATA_VERSION=DATA_VERSION,\n",
    "                                       FT_VERSION=FT_VERSION)\n",
    "print(len(SUBS))"
   ]
  },
  {
   "cell_type": "code",
   "execution_count": null,
   "metadata": {},
   "outputs": [],
   "source": [
    "importlib.reload(prepTapPSD)\n",
    "\n",
    "for sub in SUBS:\n",
    "    \n",
    "    print(f'start sub-{sub}')\n",
    "    prepTapPSD.create_sub_movement_psds(\n",
    "        sub=sub,\n",
    "        data_version=DATA_VERSION,\n",
    "        ft_version=FT_VERSION,\n",
    "        states_to_save=['tap',])\n"
   ]
  },
  {
   "cell_type": "code",
   "execution_count": null,
   "metadata": {},
   "outputs": [],
   "source": [
    "def unpack_list_of_lists(lists_to_unpack):\n",
    "\n",
    "    new_list = [i for j in lists_to_unpack for i in j]\n",
    "\n",
    "    return new_list"
   ]
  },
  {
   "cell_type": "code",
   "execution_count": null,
   "metadata": {},
   "outputs": [],
   "source": [
    "colors = list(plotHelp.get_colors().values())"
   ]
  },
  {
   "cell_type": "code",
   "execution_count": null,
   "metadata": {},
   "outputs": [],
   "source": [
    "importlib.reload(movePSD)\n",
    "\n",
    "# psd_rest, psd_tap, tap_f = movePSD.load_movement_psds()\n",
    "state_psds, tap_f = movePSD.load_movement_psds()\n"
   ]
  },
  {
   "cell_type": "code",
   "execution_count": null,
   "metadata": {},
   "outputs": [],
   "source": [
    "state_psds.keys()"
   ]
  },
  {
   "cell_type": "code",
   "execution_count": null,
   "metadata": {},
   "outputs": [],
   "source": [
    "importlib.reload(movePSD)\n",
    "\n",
    "\n",
    "movePSD.plotPSD_rest_vs_tap(PSDs=state_psds,\n",
    "                           freqs=tap_f,\n",
    "                           data_version=data_version,\n",
    "                           n_subs_incl=17,\n",
    "                           fig_name='STN_PSDs_Tap_vs_Rest_vs_Free'\n",
    "                        )"
   ]
  },
  {
   "cell_type": "markdown",
   "metadata": {},
   "source": [
    "#### 1b) Import processed dataclass per subject, optionally merge ACC-data into EPHYS-df"
   ]
  },
  {
   "cell_type": "code",
   "execution_count": null,
   "metadata": {},
   "outputs": [],
   "source": [
    "# # Import subjectData Classes with alligned preprocessed Data\n",
    "# importlib.reload(read_data)\n",
    "# importlib.reload(add_moveStates)\n",
    "# importlib.reload(findTap)\n",
    "\n",
    "# incl_accStates = True\n",
    "\n",
    "# subData = {}\n",
    "\n",
    "# for sub in ['012', '014']:\n",
    "\n",
    "#     print(f'start {sub}')\n",
    "#     # if sub == '008': continue\n",
    "\n",
    "#     subData[sub] = read_data.subjectData(\n",
    "#         sub=sub,\n",
    "#         data_version='v2.3',\n",
    "#         project_path=projectpath,\n",
    "#     )\n",
    "\n",
    "#     if incl_accStates:\n",
    "        \n",
    "#         accStates = run_tap_detect.runTapDetection(subData[sub])\n",
    "\n",
    "#         for group in subData[sub].dtypes:\n",
    "\n",
    "#             if 'lfp' or 'ecog' in group:\n",
    "\n",
    "#                 print(f'adding acc-states for {sub}: {group}')\n",
    "#                 newdf = add_moveStates.add_detected_acc_states(\n",
    "#                     df=getattr(subData[sub], group).data,\n",
    "#                     detectedMoves=accStates,\n",
    "#                 )\n",
    "#                 getattr(subData[sub], group).data = newdf"
   ]
  },
  {
   "cell_type": "markdown",
   "metadata": {},
   "source": [
    "### 2) Develop and Visualise Movement State Detection\n"
   ]
  },
  {
   "cell_type": "markdown",
   "metadata": {},
   "source": [
    "#### Run single Acc-State Detections\n"
   ]
  },
  {
   "cell_type": "code",
   "execution_count": null,
   "metadata": {},
   "outputs": [],
   "source": [
    "importlib.reload(run_tap_detect)\n",
    "importlib.reload(movePrep)\n",
    "importlib.reload(findTap)\n",
    "\n",
    "taplists = {}\n",
    "for sub in ['012',  '014']:  # '008', '013',\n",
    "    print(sub)\n",
    "    taplists[sub] = run_tap_detect.runTapDetection(subData[sub])"
   ]
  },
  {
   "cell_type": "markdown",
   "metadata": {},
   "source": [
    "#### Visualise Performance of Tap/Move-detection"
   ]
  },
  {
   "cell_type": "code",
   "execution_count": null,
   "metadata": {},
   "outputs": [],
   "source": [
    "\n",
    "fonts=20\n",
    "\n",
    "for sub in list(subData.keys()):\n",
    "\n",
    "    for x0, x1 in zip(\n",
    "        # [9, 42],\n",
    "        # [10, 43]\n",
    "        [5, 37,],\n",
    "        [15, 42]\n",
    "    ):\n",
    "\n",
    "        fig, axes = plt.subplots(2, 1, figsize=(16, 8))\n",
    "\n",
    "        for s, side in enumerate(['left', 'right']):\n",
    "\n",
    "            acc_df = getattr(subData[sub], f'acc_{side}').data  # per side\n",
    "            fs = getattr(subData[sub], f'acc_{side}').fs\n",
    "\n",
    "            ax = movePrep.find_main_axis(\n",
    "                acc_df.iloc[:, 1:4].values\n",
    "            )\n",
    "            svm = movePrep.signalvectormagn(\n",
    "                acc_df.iloc[:, 1:4].values\n",
    "            )\n",
    "\n",
    "            axes[s].plot(\n",
    "                acc_df['dopa_time'] / 60,\n",
    "                acc_df.iloc[:, ax + 1],\n",
    "                alpha=.4, label='uni-axis'\n",
    "            )\n",
    "            axes[s].plot(\n",
    "                acc_df['dopa_time'] / 60,\n",
    "                movePrep.signalvectormagn(\n",
    "                    acc_df.iloc[:, 1:4].values\n",
    "                ), alpha=.4, label='svm', c='r', ls='dotted',\n",
    "            )\n",
    "\n",
    "            axes[s].scatter(\n",
    "                np.array([l[0] for l in taplists2[sub][f'{side}_tap_t']]) / 60,\n",
    "                [.65e-6] * len(taplists2[sub][f'{side}_tap_t']),\n",
    "                s=50, color='g', label='tap-start',\n",
    "            )\n",
    "            axes[s].scatter(\n",
    "                np.array([l[-1] for l in taplists2[sub][f'{side}_tap_t']]) / 60,\n",
    "                [.6e-6] * len(taplists2[sub][f'{side}_tap_t']),\n",
    "                s=50, color='r', label='tap-end'\n",
    "            )\n",
    "            axes[s].scatter(\n",
    "                np.array([m[0] for m in taplists2[sub][f'{side}_move_t']]) / 60,\n",
    "                [.55e-6] * len(taplists2[sub][f'{side}_move_t']),\n",
    "                s=50, color='orange', label='move-start'\n",
    "            )\n",
    "            axes[s].scatter(\n",
    "                np.array([m[1] for m in taplists2[sub][f'{side}_move_t']]) / 60,\n",
    "                [.5e-6] * len(taplists2[sub][f'{side}_move_t']),\n",
    "                s=50, color='purple', label='move-end'\n",
    "            )\n",
    "\n",
    "            axes[s].set_xlim(x0, x1)\n",
    "            axes[s].set_ylim(-1e-6, 1e-6)\n",
    "            axes[s].set_ylabel(\n",
    "                f'Acceleration\\n{side.upper()}'\n",
    "                    '\\n(g, m/s/s)',\n",
    "                size=fonts\n",
    "            )\n",
    "            axes[s].tick_params(labelsize=fonts - 4)\n",
    "\n",
    "        axes[s].set_xlabel('Time (minutes to L-Dopa intake)', size=fonts)\n",
    "\n",
    "\n",
    "        plt.suptitle(\n",
    "            f'Subject {sub} -  bilateral '\n",
    "            'Movement detection',\n",
    "            x=.1, y=.96, ha='left',\n",
    "            size=fonts+4\n",
    "        )\n",
    "        # remove duplicate legend labels\n",
    "        handles, labels = plotHelp.remove_duplicate_legend(\n",
    "            plt.gca().get_legend_handles_labels()\n",
    "        )\n",
    "\n",
    "        fig.legend(\n",
    "            handles, labels,\n",
    "            frameon=False, fontsize=fonts - 4, ncol=3,\n",
    "            loc='center left', bbox_to_anchor = [.55, .95])\n",
    "        \n",
    "        plt.tight_layout()\n",
    "\n",
    "        # plt.savefig(os.path.join(\n",
    "        #     fig_dir, 'tapping_detection',\n",
    "        #     f'sub{sub}_moveDetect_newBorders_min{x0}_{x1}'\n",
    "        # ), dpi=150, facecolor='w',)\n",
    "\n",
    "        plt.close()"
   ]
  },
  {
   "cell_type": "code",
   "execution_count": null,
   "metadata": {},
   "outputs": [],
   "source": []
  }
 ],
 "metadata": {
  "kernelspec": {
   "display_name": "Python 3.9.0 ('ecog_dysk')",
   "language": "python",
   "name": "python3"
  },
  "language_info": {
   "codemirror_mode": {
    "name": "ipython",
    "version": 3
   },
   "file_extension": ".py",
   "mimetype": "text/x-python",
   "name": "python",
   "nbconvert_exporter": "python",
   "pygments_lexer": "ipython3",
   "version": "3.9.0"
  },
  "orig_nbformat": 4,
  "vscode": {
   "interpreter": {
    "hash": "2b948574b4cc10c9dd8fa8cab55862e7a8500229b4c7ca6593391d5001a62fb2"
   }
  }
 },
 "nbformat": 4,
 "nbformat_minor": 2
}
