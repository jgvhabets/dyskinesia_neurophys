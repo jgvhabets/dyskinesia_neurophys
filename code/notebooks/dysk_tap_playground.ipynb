{
 "cells": [
  {
   "cell_type": "markdown",
   "metadata": {},
   "source": [
    "# Analyze movement based on Accelerometer Data"
   ]
  },
  {
   "cell_type": "code",
   "execution_count": null,
   "metadata": {},
   "outputs": [],
   "source": [
    "# Importing Python and external packages\n",
    "import os\n",
    "import sys\n",
    "import importlib\n",
    "import json\n",
    "import csv\n",
    "from dataclasses import dataclass, field, fields\n",
    "from collections import namedtuple\n",
    "from itertools import compress, product\n",
    "import pandas as pd\n",
    "import numpy as np\n",
    "\n",
    "\n",
    "import matplotlib.pyplot as plt\n",
    "from  matplotlib import __version__ as plt_version\n",
    "from scipy import signal, stats\n",
    "\n",
    "# import datetime as dt\n",
    "# #mne\n",
    "# import mne_bids\n",
    "# import mne\n"
   ]
  },
  {
   "cell_type": "code",
   "execution_count": null,
   "metadata": {},
   "outputs": [],
   "source": [
    "def get_project_path_in_notebook(\n",
    "    subfolder: str = '',\n",
    "):\n",
    "    \"\"\"\n",
    "    Finds path of projectfolder from Notebook.\n",
    "    Start running this once to correctly find\n",
    "    other modules/functions\n",
    "    \"\"\"\n",
    "    path = os.getcwd()\n",
    "\n",
    "    while path[-20:] != 'dyskinesia_neurophys':\n",
    "\n",
    "        path = os.path.dirname(path)\n",
    "    \n",
    "    return path"
   ]
  },
  {
   "cell_type": "code",
   "execution_count": null,
   "metadata": {},
   "outputs": [],
   "source": [
    "# define local storage directories\n",
    "projectpath = get_project_path_in_notebook()\n",
    "codepath = os.path.join(projectpath, 'code')\n"
   ]
  },
  {
   "cell_type": "code",
   "execution_count": null,
   "metadata": {},
   "outputs": [],
   "source": [
    "os.chdir(codepath)\n",
    "\n",
    "# own functions\n",
    "import lfpecog_features.moveDetection_preprocess as movePrep\n",
    "import lfpecog_features.moveDetection_run as run_tap_detect\n",
    "import lfpecog_features.moveDetection_pausedTapFinder as findTap\n",
    "\n",
    "import lfpecog_analysis.load_SSD_features as load_ssd_fts\n",
    "import lfpecog_analysis.get_acc_task_derivs as accDerivs\n",
    "\n",
    "import utils.utils_fileManagement as utilsFiles\n",
    "from utils.utils_fileManagement import (get_project_path,\n",
    "                                        load_class_pickle,\n",
    "                                        save_class_pickle,\n",
    "                                        mergedData,\n",
    "                                        correct_acc_class)\n",
    "import lfpecog_preproc.preproc_import_scores_annotations as importClin\n",
    "import lfpecog_plotting.plotHelpers as plotHelp"
   ]
  },
  {
   "cell_type": "code",
   "execution_count": null,
   "metadata": {},
   "outputs": [],
   "source": [
    "# check some package versions for documentation and reproducability\n",
    "print('Python sys', sys.version)\n",
    "print('pandas', pd.__version__)\n",
    "print('numpy', np.__version__)\n",
    "print('matplotlib', plt_version)\n",
    "# Python sys 3.9.0 (default, Nov 15 2020, 08:30:55) [MSC v.1916 64 bit (AMD64)]\n",
    "# pandas 1.4.4\n",
    "# numpy 1.23.3\n",
    "# matplotlib 3.5.3\n",
    "\n",
    "# STATS developed with:\n",
    "# Python sys 3.10.8 (main, Nov  4 2022, 13:42:51) [MSC v.1916 64 bit (AMD64)]\n",
    "# pandas 1.5.3\n",
    "# numpy 1.26.2\n",
    "# matplotlib 3.8.2"
   ]
  },
  {
   "cell_type": "markdown",
   "metadata": {},
   "source": [
    "### 0. Define available Subjects\n"
   ]
  },
  {
   "cell_type": "code",
   "execution_count": null,
   "metadata": {},
   "outputs": [],
   "source": [
    "import lfpecog_analysis.movement_psd_analysis as movePSD\n",
    "import lfpecog_features.feats_helper_funcs as ftHelpers\n",
    "import lfpecog_analysis.prep_movement_psd_analysis as prepMovePSD\n",
    "\n",
    "import lfpecog_features.get_ssd_data as ssd\n",
    "import lfpecog_analysis.ft_processing_helpers as ftProc\n"
   ]
  },
  {
   "cell_type": "code",
   "execution_count": null,
   "metadata": {},
   "outputs": [],
   "source": [
    "FT_VERSION='v6'\n",
    "SETTINGS = utilsFiles.load_ft_ext_cfg(FT_VERSION=FT_VERSION)\n",
    "\n",
    "main_data_path = os.path.join(get_project_path('data'),\n",
    "                              'merged_sub_data',\n",
    "                              SETTINGS[\"DATA_VERSION\"])\n",
    "\n",
    "SUBS = utilsFiles.get_avail_ssd_subs(DATA_VERSION=SETTINGS[\"DATA_VERSION\"],\n",
    "                                     FT_VERSION=FT_VERSION)\n",
    "print(len(SUBS))\n"
   ]
  },
  {
   "cell_type": "markdown",
   "metadata": {},
   "source": [
    "## 1. Spectral analysis - PSDs per movement-task-dyskinesia\n",
    "\n",
    "\n",
    "- To Do:\n",
    "    - plot unilat-dyskinesia in IPSI and CONTRA hemisphere (STN and ECoG)"
   ]
  },
  {
   "cell_type": "code",
   "execution_count": null,
   "metadata": {},
   "outputs": [],
   "source": [
    "sub = '019'\n",
    "\n",
    "sub_data_path = os.path.join(get_project_path('data'),\n",
    "                             'merged_sub_data',\n",
    "                             SETTINGS[\"DATA_VERSION\"],\n",
    "                             f'sub-{sub}')\n",
    "fname = (f'{sub}_mergedData_{SETTINGS[\"DATA_VERSION\"]}'\n",
    "        '_acc_left.P')  # side does not matter for already detected bool labels\n",
    "\n",
    "# load Acc-detected movement labels\n",
    "accl = load_class_pickle(os.path.join(sub_data_path, fname))\n",
    "accl = correct_acc_class(accl)\n",
    "\n",
    "fname = (f'{sub}_mergedData_{SETTINGS[\"DATA_VERSION\"]}'\n",
    "        '_acc_right.P')  # side does not matter for already detected bool labels\n",
    "\n",
    "# load Acc-detected movement labels\n",
    "accr = load_class_pickle(os.path.join(sub_data_path, fname))\n",
    "accr = correct_acc_class(accr)\n",
    "\n"
   ]
  },
  {
   "cell_type": "code",
   "execution_count": null,
   "metadata": {},
   "outputs": [],
   "source": [
    "print(accl.data.shape, accl.fs, accl.colnames)\n",
    "print(accr.data.shape, accr.fs, accr.colnames)"
   ]
  },
  {
   "cell_type": "code",
   "execution_count": null,
   "metadata": {},
   "outputs": [],
   "source": [
    "\n",
    "# call from feats_extract_multivar.py\n",
    "ssd_sub = ssd.get_subject_SSDs(\n",
    "    sub=sub,\n",
    "    incl_stn=True,\n",
    "    incl_ecog=False,\n",
    "    ft_setting_fname='ftExtr_spectral_v6.json',)"
   ]
  },
  {
   "cell_type": "code",
   "execution_count": null,
   "metadata": {},
   "outputs": [],
   "source": [
    "# # get boolean arrays for movement labels corresponding to ephys\n",
    "# ephys_arr = ssd_sub.lfp_left.lo_beta\n",
    "# ephys_wintimes = np.array(ssd_sub.lfp_left.times)\n",
    "# ephys_fs = ssd_sub.lfp_left.fs\n",
    "# WINLEN_SEC = 10\n",
    "\n",
    "# # create timestamps for every ephys sample in 2d array (2048 Hz)\n",
    "# ephys_times2d = np.array([\n",
    "#     np.arange(t, t + WINLEN_SEC, 1 / ephys_fs)\n",
    "#     for t in ephys_wintimes\n",
    "# ])\n",
    "# nan_arr = np.isnan(ephys_arr)\n",
    "\n",
    "# # get movement bools based on acc data (512 Hz)\n",
    "# MOVE_BOOLS = {'no_move': accl.data[:, -1],\n",
    "#               'any_move': np.sum(accl.data[:, -5:-1], axis=1) > 0,\n",
    "#               'left_tap': accl.data[:, -5],\n",
    "#               'left_allmove': (accl.data[:, -5] + accl.data[:, -3]) > 0,\n",
    "#               'right_tap': accl.data[:, -4],\n",
    "#               'right_allmove': (accl.data[:, -4] + accl.data[:, -2]) > 0}\n",
    "# TASK = accl.data[:, 4]"
   ]
  },
  {
   "cell_type": "code",
   "execution_count": null,
   "metadata": {},
   "outputs": [],
   "source": [
    "# CAT = False\n",
    "# cdrs = ftProc.find_select_nearest_CDRS_for_ephys(\n",
    "#     sub=sub, side='bilat',  \n",
    "#     ft_times=ephys_wintimes / 60,\n",
    "#     INCL_CORE_CDRS=True,\n",
    "#     cdrs_rater='Patricia',\n",
    "# )\n",
    " \n",
    "# if CAT:\n",
    "#     cdrs = ftProc.categorical_CDRS(cdrs,\n",
    "#                             cutoff_mildModerate=3.5,\n",
    "#                             cutoff_moderateSevere=7.5,)"
   ]
  },
  {
   "cell_type": "code",
   "execution_count": null,
   "metadata": {},
   "outputs": [],
   "source": [
    "# importlib.reload(prepMovePSD)\n",
    "\n",
    "# cdrs = ftProc.find_select_nearest_CDRS_for_ephys(\n",
    "#     sub=sub, side='bilat',  \n",
    "#     ft_times=ephys_wintimes / 60,\n",
    "#     INCL_CORE_CDRS=True,\n",
    "#     cdrs_rater='Patricia',\n",
    "# )\n",
    "# # cdrs = ftProc.categorical_CDRS(cdrs,\n",
    "# #                             cutoff_mildModerate=3.5,\n",
    "# #                             cutoff_moderateSevere=7.5,)\n",
    "\n",
    "# mask_times = prepMovePSD.get_mask_timings(\n",
    "#     orig_labels=cdrs,\n",
    "#     orig_times=ephys_wintimes,\n",
    "#     MASK='LID')\n",
    "\n",
    "# # currently codes: rest=0, tap=1, free=2\n",
    "# lid_mask = prepMovePSD.create_ephys_mask(\n",
    "#     ephys_time_arr=ephys_times2d,\n",
    "#     ephys_win_times=ephys_wintimes,\n",
    "#     mask_times=mask_times,\n",
    "#     MASK='LID',\n",
    "# )"
   ]
  },
  {
   "cell_type": "code",
   "execution_count": null,
   "metadata": {},
   "outputs": [],
   "source": [
    "import lfpecog_analysis.psd_analysis_classes as psdClass\n",
    "import lfpecog_analysis.specific_ephys_selection as ephySel\n",
    "\n",
    "import lfpecog_plotting.plot_descriptive_SSD_PSDs as plot_ssd_PSDs\n",
    "import lfpecog_plotting.plot_move_spec_psd as plot_specPsd\n",
    "import lfpecog_analysis.prep_stats_movLidspecPsd as prep_specStats\n",
    "import lfpecog_analysis.psd_lid_stats as psd_Stats\n",
    "\n",
    "import lfpecog_features.bursts_funcs as bursts_funcs\n",
    "import lfpecog_predict.prepare_predict_arrays as predArrays\n"
   ]
  },
  {
   "cell_type": "code",
   "execution_count": null,
   "metadata": {},
   "outputs": [],
   "source": [
    "importlib.reload(ephySel)\n",
    "importlib.reload(prepMovePSD)\n",
    "importlib.reload(psdClass)\n",
    "importlib.reload(ssd)\n",
    "\n",
    "# # get single subClass (incl original 3d data, always creates new)\n",
    "# test = psdClass.PSD_vs_Move_sub(sub='014')\n",
    "\n",
    "# TODO: CHECK SUB 016 LFPR bl\n",
    "\n",
    "# use existing\n",
    "sub = '017'\n",
    "data_path = 'D://Research/CHARITE/projects/dyskinesia_neurophys/data/'\n",
    "picklepath = os.path.join(\n",
    "    data_path,\n",
    "    'windowed_data_classes_10s_0.5overlap',\n",
    "    'selected_ephys_classes_all'\n",
    ")\n",
    "picklename = f'ephys_selections_{sub}.P'\n",
    "\n",
    "sub_class = load_class_pickle(\n",
    "    file_to_load=os.path.join(picklepath,\n",
    "                                picklename),\n",
    "    convert_float_np64=True\n",
    ")"
   ]
  },
  {
   "cell_type": "markdown",
   "metadata": {},
   "source": [
    "Check MASKs with ACC comparison"
   ]
  },
  {
   "cell_type": "code",
   "execution_count": null,
   "metadata": {},
   "outputs": [],
   "source": [
    "importlib.reload(prepMovePSD)\n",
    "\n",
    "move_masks, task_mask, lid_masks = prepMovePSD.create_ephys_masks(sub='012', verbose=True)"
   ]
  },
  {
   "cell_type": "code",
   "execution_count": null,
   "metadata": {},
   "outputs": [],
   "source": [
    "for MOV_TYPE in move_masks.keys():\n",
    "    match_sum = np.sum(np.logical_and(\n",
    "        move_masks[MOV_TYPE] == 1,\n",
    "        task_mask == 2\n",
    "    ))\n",
    "    print(f'{MOV_TYPE} during FREE: {match_sum / 2048} seconds')\n"
   ]
  },
  {
   "cell_type": "code",
   "execution_count": null,
   "metadata": {},
   "outputs": [],
   "source": [
    "accl = accDerivs.get_raw_acc_traces(sub='012', side='left', data_version='v4.0')\n",
    "print(accl.colnames)"
   ]
  },
  {
   "cell_type": "code",
   "execution_count": null,
   "metadata": {},
   "outputs": [],
   "source": []
  },
  {
   "cell_type": "markdown",
   "metadata": {},
   "source": [
    "#### Check and Plot extracted PSD data"
   ]
  },
  {
   "cell_type": "markdown",
   "metadata": {},
   "source": [
    "Add STATS for PSD plotting"
   ]
  },
  {
   "cell_type": "code",
   "execution_count": null,
   "metadata": {},
   "outputs": [],
   "source": [
    "# CREATE AND/OR PLOT SIGNIFICANCIES PER SELECTION (binary / linear)\n",
    "importlib.reload(psd_Stats)\n",
    "importlib.reload(psdClass)\n",
    "importlib.reload(plot_specPsd)\n",
    "importlib.reload(prep_specStats)\n",
    "\n",
    "STATS_VERSION = '2Hz'\n",
    "\n",
    "# prep_specStats.get_stats_REST_psds(\n",
    "#     STAT_DATA_EXT_PATH = True,\n",
    "#     STAT_LID_COMPARE = 'categs',\n",
    "#     STATS_VERSION=STATS_VERSION,\n",
    "#     ALPHA=.01,\n",
    "#     PLOT_STATS=True,\n",
    "#     MERGE_STNs=True,\n",
    "#     STAT_PER_LID_CAT=True,\n",
    "# )\n",
    "\n",
    "\n",
    "\n",
    "prep_specStats.get_stats_MOVE_psds(\n",
    "    STAT_DATA_EXT_PATH=True,\n",
    "    STAT_LID_COMPARE='categs',\n",
    "    STATS_VERSION=STATS_VERSION,\n",
    "    PLOT_STATS=True,\n",
    "    STAT_PER_LID_CAT=True,\n",
    "    SKIP_MOVES=['FREEMOVE', 'FREENOMOVE'],  # FREEMOVE; FREENOMOVE; TAP; INVOLUNT\n",
    "    MERGE_DYSK_SIDES=True,\n",
    "    ALPHA=.01,\n",
    "    ALT_BASELINE=False,\n",
    "    REST_BASELINE=True,\n",
    "    REST_u30_BASE=True,\n",
    ")\n"
   ]
  },
  {
   "cell_type": "code",
   "execution_count": null,
   "metadata": {},
   "outputs": [],
   "source": [
    "FIG_PATH = os.path.join(get_project_path('figures'),\n",
    "                        'ft_exploration',\n",
    "                        'data_v4.0_ft_v6',\n",
    "                        'PSDs_state_specific')\n",
    "\n",
    "cond_colors = {\n",
    "    'nolid': 'green',\n",
    "    'nolidbelow30': 'limegreen',\n",
    "    'nolidover30': 'darkgreen',\n",
    "    'alllid': 'blue', 'mildlid': 'orange',\n",
    "    'moderatelid': 'red', 'severelid': 'purple',\n",
    "}"
   ]
  },
  {
   "cell_type": "markdown",
   "metadata": {},
   "source": [
    "Import 1-sec PSDs (rest-tap-dysk)\n"
   ]
  },
  {
   "cell_type": "code",
   "execution_count": null,
   "metadata": {},
   "outputs": [],
   "source": [
    "importlib.reload(ephySel)\n",
    "importlib.reload(psdClass)\n",
    "\n",
    "RETURN_PSD_1sec = True\n",
    "\n",
    "(\n",
    "    PSDs_1s, BLs_1s\n",
    ") = psdClass.get_allSpecStates_Psds(\n",
    "    RETURN_PSD_1sec=RETURN_PSD_1sec,\n",
    "    incl_free=False,\n",
    "    FEATURE='POWER',\n",
    ")\n"
   ]
  },
  {
   "cell_type": "markdown",
   "metadata": {},
   "source": [
    "Import 1-sec PSDs (free)"
   ]
  },
  {
   "cell_type": "code",
   "execution_count": null,
   "metadata": {},
   "outputs": [],
   "source": [
    "importlib.reload(psdClass)\n",
    "\n",
    "RETURN_PSD_1sec = True\n",
    "\n",
    "# TODO: INCLUDE ALTEARNTIVE BASELINING FOR FREE\n",
    "# in plotting, but also still in STATS CREATION\n",
    "\n",
    "(\n",
    "    PSDs_free, BLs_free\n",
    ") = psdClass.get_allSpecStates_Psds(\n",
    "    RETURN_PSD_1sec=RETURN_PSD_1sec,\n",
    "    incl_lidmove=False,\n",
    "    incl_rest=False,\n",
    "    incl_tap=False,\n",
    ")\n"
   ]
  },
  {
   "cell_type": "markdown",
   "metadata": {},
   "source": [
    "Plot REST or MOVEMENTS: Voluntary (TAP) / Involuntary (LID) versus CONTRA and IPSI-LATERAL Ephys\n",
    "\n",
    "- movement selection has millisecond resolution"
   ]
  },
  {
   "cell_type": "code",
   "execution_count": null,
   "metadata": {},
   "outputs": [],
   "source": [
    "importlib.reload(plot_ssd_PSDs)\n",
    "importlib.reload(plot_specPsd)\n",
    "importlib.reload(psdClass)\n",
    "importlib.reload(ephySel)\n",
    "importlib.reload(prep_specStats)\n",
    "\n",
    "# PLOT DYSKINESIA STATES\n",
    "\n",
    "%matplotlib inline\n",
    "# %matplotlib qt\n",
    "INCL_STATS = True\n",
    "ALT_BASELINE = False\n",
    "REST_u30_BASELINE = True\n",
    "ALPHA=.01\n",
    "ADD_FIGNAME = '0227_a01_'\n",
    "\n",
    "STATS_VERSION='2Hz'\n",
    "\n",
    "for PLOT_SEL in ['REST', 'TAP', 'INVOLUNT', ]:  # 'FREE'\n",
    "    \n",
    "    # select state selection to plot\n",
    "    print(f'PLOT {PLOT_SEL}, (incl STATs: {INCL_STATS})')\n",
    "    \n",
    "    # select matching PSD dict\n",
    "    if PLOT_SEL == 'FREE':\n",
    "        PSD_DICT = PSDs_free\n",
    "        BL_DICT = BLs_free\n",
    "    else:\n",
    "        PSD_DICT = PSDs_1s\n",
    "        BL_DICT = BLs_1s\n",
    "\n",
    "    plot_specPsd.prep_and_plot_moveSpecPsd(\n",
    "        PLOT_CONDITION=PLOT_SEL,\n",
    "        PSD_DICT=PSD_DICT,\n",
    "        BASELINE=BL_DICT,\n",
    "        SAVE_PLOT=True,\n",
    "        SHOW_PLOT=False,\n",
    "        INCL_STATS=True,\n",
    "        ALPHA=ALPHA,\n",
    "        ALT_MOVELID_BASELINE=ALT_BASELINE,\n",
    "        REST_u30_BASELINE=REST_u30_BASELINE,\n",
    "        STATS_VERSION=STATS_VERSION,\n",
    "        STAT_PER_LID_CAT=True,\n",
    "        STAT_LID_COMPARE='categs',\n",
    "        MERGE_REST_STNS=True,\n",
    "        MERGED_DYSK=True,\n",
    "        ADD_TO_FIG_NAME=ADD_FIGNAME,\n",
    "    )\n"
   ]
  },
  {
   "cell_type": "code",
   "execution_count": null,
   "metadata": {},
   "outputs": [],
   "source": [
    "vars(PSDs_1s['tapright_moderatelid']).keys()"
   ]
  },
  {
   "cell_type": "code",
   "execution_count": null,
   "metadata": {},
   "outputs": [],
   "source": [
    "PSDs_1s.keys()"
   ]
  },
  {
   "cell_type": "markdown",
   "metadata": {},
   "source": [
    "#### Plot REST AND MOVEMENT"
   ]
  },
  {
   "cell_type": "code",
   "execution_count": null,
   "metadata": {},
   "outputs": [],
   "source": [
    "import lfpecog_plotting.plot_psd_restvsmove as plotRestMovePsds"
   ]
  },
  {
   "cell_type": "markdown",
   "metadata": {},
   "source": [
    "Spectral Powers"
   ]
  },
  {
   "cell_type": "code",
   "execution_count": null,
   "metadata": {},
   "outputs": [],
   "source": [
    "importlib.reload(ephySel)\n",
    "importlib.reload(psdClass)\n",
    "\n",
    "RETURN_PSD_1sec = True\n",
    "\n",
    "(\n",
    "    PSDs_1s, BLs_1s\n",
    ") = psdClass.get_allSpecStates_Psds(\n",
    "    RETURN_PSD_1sec=RETURN_PSD_1sec,\n",
    "    incl_free=False,\n",
    "    FEATURE='POWER',\n",
    ")"
   ]
  },
  {
   "cell_type": "code",
   "execution_count": null,
   "metadata": {},
   "outputs": [],
   "source": [
    "import lfpecog_features.feats_spectral_helpers as specHelp"
   ]
  },
  {
   "cell_type": "code",
   "execution_count": null,
   "metadata": {},
   "outputs": [],
   "source": [
    "importlib.reload(specHelp)\n",
    "\n",
    "peak_df = specHelp.get_indiv_band_peaks(SRC='ecog')\n",
    "\n",
    "peak_df.loc['(109): all']['narrow_gamma']"
   ]
  },
  {
   "cell_type": "code",
   "execution_count": null,
   "metadata": {},
   "outputs": [],
   "source": [
    "def peak_shift_gamma(\n",
    "    gamma_peak, f_arr, value_arr\n",
    "):\n",
    "    # define shift\n",
    "    fshift = 75 - fpeak\n",
    "\n",
    "    # blank irrelevant freqs\n",
    "    nansel = [f >= 35 and f < 60 for f in f_arr]\n",
    "    value_arr[nansel] = [np.nan] * sum(nansel)\n",
    "    newvalues = value_arr.copy()\n",
    "\n",
    "    # gamma select and blank all new gamma values\n",
    "    f_sel = [f >= 60 and f <= 90 for f in f_arr]\n",
    "    newvalues[f_sel] = [np.nan] * sum(f_sel)\n",
    "\n",
    "    # loop over all original gamma freqs and values\n",
    "    for og_f, og_p in zip(f_arr[f_sel], value_arr[f_sel]):\n",
    "        # calculate new imaginary freqs\n",
    "        new_f = og_f + fshift\n",
    "        if np.logical_and(new_f >= 60, new_f < 90):\n",
    "            # if new freq is within gamma range to visualize\n",
    "            i_new = np.where(f_arr == new_f)[0][0]\n",
    "            # assign orig freq-value to new-freq index\n",
    "            newvalues[i_new] = og_p\n",
    "    \n",
    "    return newvalues\n",
    "\n",
    "\n",
    "# f = np.arange(0, 90)\n",
    "# p = np.arange(100, 190).astype(float)\n",
    "# nansel = [f >= 35 and f < 60 for f in f]\n",
    "# p[nansel] = [np.nan] * sum(nansel)\n",
    "# pnew = p.copy()\n",
    "# plt.plot(f, p, c='k')\n",
    "\n",
    "# f_sel = [f >= 60 and f <= 90 for f in f]\n",
    "\n",
    "# plt.plot(f[f_sel], p[f_sel], lw=5, alpha=.5,)\n",
    "\n",
    "# fpeak = 85\n",
    "# fshift = 75 - fpeak\n",
    "\n",
    "# pnew[f_sel] = [np.nan] * sum(f_sel)\n",
    "\n",
    "# for og_f, og_p in zip(f[f_sel], p[f_sel]):\n",
    "#     new_f = og_f + fshift\n",
    "#     if np.logical_and(new_f >= 60, new_f < 90):\n",
    "#         i_new = np.where(f == new_f)[0][0]\n",
    "#         pnew[i_new] = og_p\n",
    "#         print(f'added {og_p} at idx: {i_new}, corr to f={og_f}')\n"
   ]
  },
  {
   "cell_type": "code",
   "execution_count": null,
   "metadata": {},
   "outputs": [],
   "source": [
    "importlib.reload(specHelp)\n",
    "importlib.reload(plotRestMovePsds)\n",
    "\n",
    "importlib.reload(psdClass)\n",
    "importlib.reload(ephySel)\n",
    "importlib.reload(prep_specStats)\n",
    "\n",
    "# PLOT DYSKINESIA STATES\n",
    "\n",
    "%matplotlib inline\n",
    "# %matplotlib qt\n",
    "SOURCE = 'lfp'\n",
    "IPSI_CONTRA_SPLIT = 'StnEcog4'\n",
    "INCL_STATS = False\n",
    "ALPHA=.01\n",
    "ADD_FIGNAME = '0308_STNECOG4_offZ_smooth2_gShift_'\n",
    "STATS_VERSION='4Hz'\n",
    "\n",
    "# PSD dicts\n",
    "PSD_DICT = PSDs_1s\n",
    "BL_DICT = BLs_1s\n",
    "\n",
    "\n",
    "plotRestMovePsds.prep_and_plot_restvsmove(\n",
    "    PLOT_ALL_LINES=False,\n",
    "    FEATURE='PSD',\n",
    "    SOURCE=SOURCE,\n",
    "    MOVESIDES_SPLITTED=IPSI_CONTRA_SPLIT,\n",
    "    PSD_DICT=PSD_DICT,\n",
    "    BASELINE=BL_DICT,\n",
    "    BASE_METHOD='OFF_zscore',  # 'OFF_zscore, perc_spectral, OFF_perc_change\n",
    "    SMOOTH_WIN=2,\n",
    "    MIN_SUBS_FOR_MEAN=3,\n",
    "    PEAK_SHIFT_GAMMA=True,\n",
    "    SAVE_PLOT=True,\n",
    "    SHOW_PLOT=False,\n",
    "    INCL_STATS=INCL_STATS,\n",
    "    STATS_VERSION=STATS_VERSION,\n",
    "    ADD_TO_FIG_NAME=ADD_FIGNAME,\n",
    ")"
   ]
  },
  {
   "cell_type": "markdown",
   "metadata": {},
   "source": [
    "Coherences"
   ]
  },
  {
   "cell_type": "code",
   "execution_count": null,
   "metadata": {},
   "outputs": [],
   "source": [
    "importlib.reload(ephySel)\n",
    "importlib.reload(psdClass)\n",
    "\n",
    "COH_SRC = 'STNs'\n",
    "\n",
    "RETURN_PSD_1sec = True\n",
    "COHs_1s, COH_BL = {}, {}\n",
    "\n",
    "for coh_ft in ['SQCOH', 'ICOH']:\n",
    "    (\n",
    "        COHs_1s[coh_ft], COH_BL[coh_ft]\n",
    "    ) = psdClass.get_allSpecStates_Psds(\n",
    "        RETURN_PSD_1sec=RETURN_PSD_1sec,\n",
    "        incl_free=False,\n",
    "        FEATURE=f'COH_{COH_SRC}',\n",
    "        COH_TYPE=coh_ft\n",
    "    )\n"
   ]
  },
  {
   "cell_type": "code",
   "execution_count": null,
   "metadata": {},
   "outputs": [],
   "source": [
    "importlib.reload(plotRestMovePsds)\n",
    "\n",
    "importlib.reload(psdClass)\n",
    "importlib.reload(ephySel)\n",
    "importlib.reload(prep_specStats)\n",
    "\n",
    "# PLOT DYSKINESIA STATES\n",
    "\n",
    "%matplotlib inline\n",
    "# %matplotlib qt\n",
    "IPSI_CONTRA_SPLIT = False\n",
    "INCL_STATS = True\n",
    "ALPHA=.01\n",
    "ADD_FIGNAME = '0228_'\n",
    "STATS_VERSION='4Hz'\n",
    "\n",
    "\n",
    "# COHERENCE dicts\n",
    "COH_TYPE = 'SQCOH'\n",
    "PSD_DICT = COHs_1s[COH_TYPE]\n",
    "BL_DICT = COH_BL[COH_TYPE]\n",
    "\n",
    "plotRestMovePsds.prep_and_plot_restvsmove(\n",
    "    FEATURE=COH_TYPE,\n",
    "    SOURCE=COH_SRC,\n",
    "    MOVESIDES_SPLITTED=IPSI_CONTRA_SPLIT,\n",
    "    PSD_DICT=PSD_DICT,\n",
    "    BASELINE=BL_DICT,\n",
    "    SAVE_PLOT=True,\n",
    "    SHOW_PLOT=False,\n",
    "    INCL_STATS=INCL_STATS,\n",
    "    STATS_VERSION=STATS_VERSION,\n",
    "    ADD_TO_FIG_NAME=ADD_FIGNAME,\n",
    ")\n"
   ]
  },
  {
   "cell_type": "code",
   "execution_count": null,
   "metadata": {},
   "outputs": [],
   "source": []
  },
  {
   "cell_type": "code",
   "execution_count": null,
   "metadata": {},
   "outputs": [],
   "source": []
  },
  {
   "cell_type": "markdown",
   "metadata": {},
   "source": [
    "## 2. Boxplots of movement selections"
   ]
  },
  {
   "cell_type": "markdown",
   "metadata": {},
   "source": [
    "### 2 A) PSD visualization 1-SEC with boxplot"
   ]
  },
  {
   "cell_type": "code",
   "execution_count": null,
   "metadata": {},
   "outputs": [],
   "source": [
    "import lfpecog_features.feats_spectral_features as specFeats"
   ]
  },
  {
   "cell_type": "code",
   "execution_count": null,
   "metadata": {},
   "outputs": [],
   "source": [
    "importlib.reload(specFeats)\n",
    "importlib.reload(ephySel)\n",
    "importlib.reload(psdClass)\n",
    "\n",
    "RETURN_PSD_1sec = True\n",
    "COH_FEAT = 'COH_STNs'  # 'COH_STNECOG'\n",
    "COH_TYPE = 'icoh'  # 'COH_STNECOG'\n",
    "\n",
    "(\n",
    "    sqCOHs, sqCOH_BL\n",
    ") = psdClass.get_allSpecStates_Psds(\n",
    "    FEATURE=COH_FEAT,\n",
    "    COH_TYPE='sqcoh',\n",
    "    RETURN_PSD_1sec=RETURN_PSD_1sec,\n",
    "    incl_free=False,\n",
    "    verbose=True,\n",
    ")\n",
    "\n",
    "\n",
    "(\n",
    "    iCOHs, iCOH_BL\n",
    ") = psdClass.get_allSpecStates_Psds(\n",
    "    FEATURE=COH_FEAT,\n",
    "    COH_TYPE='icoh',\n",
    "    RETURN_PSD_1sec=RETURN_PSD_1sec,\n",
    "    incl_free=False,\n",
    "    verbose=True,\n",
    ")\n",
    "\n"
   ]
  },
  {
   "cell_type": "code",
   "execution_count": null,
   "metadata": {},
   "outputs": [],
   "source": [
    "for sub in iCOHs['rest_nolidbelow30'].loaded_subs:\n",
    "    coh_values = getattr(iCOHs['rest_nolidbelow30'],\n",
    "                        f'STNs_{sub}_rest_nolidbelow30')\n",
    "    mean_coh = np.mean(coh_values, axis=0)\n",
    "    plt.plot(sqCOHs['rest_nolidbelow30'].freqs, mean_coh,)\n",
    "    \n",
    "    # if mean_coh[0] < .3: print(sub, coh_values.shape)"
   ]
  },
  {
   "cell_type": "code",
   "execution_count": null,
   "metadata": {},
   "outputs": [],
   "source": [
    "for sub in sqCOHs['rest_nolidbelow30'].loaded_subs:\n",
    "    coh_values = getattr(sqCOHs['rest_nolidbelow30'],\n",
    "                        f'STNs_{sub}_rest_nolidbelow30')\n",
    "    mean_coh = np.mean(coh_values, axis=0)\n",
    "    plt.plot(sqCOHs['rest_nolidbelow30'].freqs, mean_coh,)\n",
    "    \n",
    "    if mean_coh[0] < .3: print(sub, coh_values.shape)"
   ]
  },
  {
   "cell_type": "code",
   "execution_count": null,
   "metadata": {},
   "outputs": [],
   "source": [
    "importlib.reload(psdClass)\n",
    "\n",
    "BL_arrs = psdClass.get_baseline_arr_dict(BLs_1s=BLs_1s)"
   ]
  },
  {
   "cell_type": "code",
   "execution_count": null,
   "metadata": {},
   "outputs": [],
   "source": [
    "lid_states = ['nolidbelow30', 'nolidover30', 'nolid',\n",
    "              'mildlid', 'moderatelid', 'severelid']\n"
   ]
  },
  {
   "cell_type": "markdown",
   "metadata": {},
   "source": [
    "Get and save indiv peak frequencies"
   ]
  },
  {
   "cell_type": "code",
   "execution_count": null,
   "metadata": {},
   "outputs": [],
   "source": [
    "importlib.reload(ftHelpers)\n",
    "\n",
    "# save indiv peak data frame as excel for readable output\n",
    "SRC = 'ecog'  # ecog\n",
    "\n",
    "peak_xcl = os.path.join(get_project_path('results'),\n",
    "                        'features', 'SSD_feats_broad_v6', 'v4.0',\n",
    "                        f'indiv_peak_df_{SRC}.xlsx')\n",
    "\n",
    "# calculate indiv peak freqs for different clinical states\n",
    "PEAK_DICT = {\n",
    "    'rest': ftHelpers.get_indiv_peak_freqs(psd_dict=PSDs_1s, STATE='rest', SOURCE_SEL=SRC,),\n",
    "    'dysk': ftHelpers.get_indiv_peak_freqs(psd_dict=PSDs_1s, STATE='dyskmove', SOURCE_SEL=SRC,),\n",
    "    'tap': ftHelpers.get_indiv_peak_freqs(psd_dict=PSDs_1s, STATE='tap', SOURCE_SEL=SRC,),\n",
    "    'all': ftHelpers.get_indiv_peak_freqs(psd_dict=PSDs_1s, STATE='all', SOURCE_SEL=SRC,)\n",
    "}\n",
    "\n",
    "peak_df = pd.DataFrame(columns=['lo_beta', 'hi_beta', 'narrow_gamma'])\n",
    "\n",
    "for sub in sorted(SUBS):\n",
    "    \n",
    "    peak_df.loc[f'SUB-{sub}'] = [np.nan] * 3\n",
    "    \n",
    "    for s in PEAK_DICT.keys():\n",
    "        # print('\\t', s, PEAK_DICT[s][sub])\n",
    "        peaks = PEAK_DICT[s][sub]\n",
    "        if len(peaks) == 0:\n",
    "            peak_df.loc[f'({sub}): {s}'] = [np.nan] * 3\n",
    "            continue\n",
    "        peak_df.loc[f'({sub}): {s}'] = [peaks[c] for c in peak_df.keys()]\n",
    "    \n",
    "peak_df.to_excel(peak_xcl)"
   ]
  },
  {
   "cell_type": "code",
   "execution_count": null,
   "metadata": {},
   "outputs": [],
   "source": []
  },
  {
   "cell_type": "code",
   "execution_count": null,
   "metadata": {},
   "outputs": [],
   "source": [
    "import lfpecog_plotting.plot_move_spec_boxes as plotSpecBoxes"
   ]
  },
  {
   "cell_type": "markdown",
   "metadata": {},
   "source": [
    "#### Plot Boxes between for Spectral changes for Rest OR Movement (vs. LID)\n",
    "\n",
    "TODO:\n",
    "- plot ipsi vs contra dysk (lfp and ecog separately), incl rest and movement due to sample sizes"
   ]
  },
  {
   "cell_type": "code",
   "execution_count": null,
   "metadata": {},
   "outputs": [],
   "source": [
    "importlib.reload(psd_Stats)\n",
    "importlib.reload(psdClass)\n",
    "importlib.reload(plotSpecBoxes)\n",
    "\n",
    "%matplotlib inline\n",
    "\n",
    "# STATE_SEL = 'lfp'\n",
    "# STATE_SEL = 'movement'\n",
    "# SOURCE_SEL = 'rest'\n",
    "EPOCH_LEN = 1\n",
    "LOG=False\n",
    "\n",
    "for STATE_SEL, SOURCE_SEL in product(\n",
    "    ['rest', 'movement'], ['lfp', 'ecog']\n",
    "):\n",
    "    # if not (STATE_SEL == 'movement' and SOURCE_SEL == 'lfp'): continue\n",
    "\n",
    "    psd_box, ids_box = plotSpecBoxes.calc_fband_boxlists(\n",
    "        psd_dict=PSDs_1s, baselines=BLs_1s,\n",
    "        STATE_SEL=STATE_SEL,\n",
    "        MEAN_EPOCH=EPOCH_LEN,  # take mean averages as input for (in the end LMM)\n",
    "        SRC_SEL=SOURCE_SEL,\n",
    "        verbose=False,\n",
    "    )\n",
    "    FIG_END = f'_epoch{EPOCH_LEN}'\n",
    "    # if LOG: FIG_END += '_log'\n",
    "    plotSpecBoxes.plot_moveSpec_boxplots(\n",
    "        psd_box=psd_box,\n",
    "        ids_box=ids_box,\n",
    "        STATE_SEL=STATE_SEL,\n",
    "        SOURCE_SEL=SOURCE_SEL,\n",
    "        ADD_SUB_DOTS=True,\n",
    "        ADD_LMM_COEF=True,\n",
    "        FIG_SAVE=True,\n",
    "        fig_name_start=f'2302sq_',\n",
    "        fig_add_end=FIG_END,\n",
    "        SQUEEZE_FIG=True,\n",
    "    )\n"
   ]
  },
  {
   "cell_type": "markdown",
   "metadata": {},
   "source": [
    "#### Plot Violins between Voluntary and Involuntary Movement (vs. LID)"
   ]
  },
  {
   "cell_type": "code",
   "execution_count": null,
   "metadata": {},
   "outputs": [],
   "source": [
    "importlib.reload(plotSpecBoxes)\n",
    "\n",
    "psd_box, ids_box, movetypes = plotSpecBoxes.calc_fband_boxlists(\n",
    "    psd_dict=PSDs_1s, baselines=BLs_1s,\n",
    "    STATE_SEL='dyskmove',  # movement\n",
    "    SPLIT_MOVEMENT=False,\n",
    "    SPLIT_CONTRAIPSI=True,\n",
    "    MEAN_EPOCH=EPOCH_LEN,  # take mean averages as input for (in the end LMM)\n",
    "    SRC_SEL='lfp',\n",
    "    verbose=False,\n",
    ")"
   ]
  },
  {
   "cell_type": "code",
   "execution_count": null,
   "metadata": {},
   "outputs": [],
   "source": [
    "importlib.reload(plotSpecBoxes)\n",
    "\n",
    "# TODO: FIX UNILAT IPSI CONTRA\n",
    "\n",
    "SOURCE = 'lfp'  # lfp ecog\n",
    "EPOCH_LEN = 1\n",
    "\n",
    "psd_box, ids_box, movetypes = plotSpecBoxes.calc_fband_boxlists(\n",
    "    psd_dict=PSDs_1s, baselines=BLs_1s,\n",
    "    STATE_SEL='dyskmove',  # movement\n",
    "    SPLIT_MOVEMENT=False,\n",
    "    SPLIT_CONTRAIPSI=True,\n",
    "    MEAN_EPOCH=EPOCH_LEN,  # take mean averages as input for (in the end LMM)\n",
    "    SRC_SEL=SOURCE,\n",
    "    verbose=True,\n",
    ")\n",
    "\n",
    "plotSpecBoxes.plot_moveSplit_violins(\n",
    "    psd_box=psd_box,\n",
    "    ids_box=ids_box,\n",
    "    movetypes=movetypes,\n",
    "    SOURCE_SEL=SOURCE,\n",
    "    ADD_SUB_DOTS=False,\n",
    "    ADD_STAT='LMM',  # 'LMM', 'MWU', False\n",
    "    FIG_SAVE=True,\n",
    "    fig_name_start=f'2602_epoch{EPOCH_LEN}_onlyDysk',\n",
    ")"
   ]
  },
  {
   "cell_type": "markdown",
   "metadata": {},
   "source": [
    "### 2 B) Coherence visualization, 1 sec epochs for selected movement/rest"
   ]
  },
  {
   "cell_type": "code",
   "execution_count": null,
   "metadata": {},
   "outputs": [],
   "source": [
    "vars(PSDs_1s['rest_mildlid']).keys()"
   ]
  },
  {
   "cell_type": "markdown",
   "metadata": {},
   "source": [
    "### 2 C) load dataclass with 10 SEC-features, labels, and acc"
   ]
  },
  {
   "cell_type": "code",
   "execution_count": null,
   "metadata": {},
   "outputs": [],
   "source": [
    "\n",
    "# importlib.reload(ftProc)\n",
    "\n",
    "# class created in ftProc, FeatLidClass()\n",
    "# mean-RMS standardly zscored\n",
    "import lfpecog_analysis.ft_processing_helpers as ftProc\n",
    "\n",
    "featLabPath = os.path.join(utilsFiles.get_project_path('data'),\n",
    "                           'prediction_data',\n",
    "                           'featLabelClasses')\n",
    "feats6 = utilsFiles.load_class_pickle(\n",
    "    os.path.join(featLabPath, 'featLabels_ftv6_Cdrs_StnOnly.P'),\n",
    "    convert_float_np64=True\n",
    ")"
   ]
  },
  {
   "cell_type": "code",
   "execution_count": null,
   "metadata": {},
   "outputs": [],
   "source": [
    "clrs = list(plotHelp.get_colors('PaulTol').values())"
   ]
  },
  {
   "cell_type": "code",
   "execution_count": null,
   "metadata": {},
   "outputs": [],
   "source": []
  },
  {
   "cell_type": "markdown",
   "metadata": {},
   "source": [
    "### bis) Develop and Visualise Movement State Detection\n"
   ]
  },
  {
   "cell_type": "markdown",
   "metadata": {},
   "source": [
    "#### Run single Acc-State Detections\n"
   ]
  },
  {
   "cell_type": "code",
   "execution_count": null,
   "metadata": {},
   "outputs": [],
   "source": [
    "importlib.reload(run_tap_detect)\n",
    "importlib.reload(movePrep)\n",
    "importlib.reload(findTap)\n",
    "\n",
    "taplists = {}\n",
    "for sub in ['012',  '014']:  # '008', '013',\n",
    "    print(sub)\n",
    "    taplists[sub] = run_tap_detect.runTapDetection(subData[sub])"
   ]
  },
  {
   "cell_type": "markdown",
   "metadata": {},
   "source": [
    "#### Visualise Performance of Tap/Move-detection"
   ]
  },
  {
   "cell_type": "code",
   "execution_count": null,
   "metadata": {},
   "outputs": [],
   "source": [
    "\n",
    "fonts=20\n",
    "\n",
    "for sub in list(subData.keys()):\n",
    "\n",
    "    for x0, x1 in zip(\n",
    "        # [9, 42],\n",
    "        # [10, 43]\n",
    "        [5, 37,],\n",
    "        [15, 42]\n",
    "    ):\n",
    "\n",
    "        fig, axes = plt.subplots(2, 1, figsize=(16, 8))\n",
    "\n",
    "        for s, side in enumerate(['left', 'right']):\n",
    "\n",
    "            acc_df = getattr(subData[sub], f'acc_{side}').data  # per side\n",
    "            fs = getattr(subData[sub], f'acc_{side}').fs\n",
    "\n",
    "            ax = movePrep.find_main_axis(\n",
    "                acc_df.iloc[:, 1:4].values\n",
    "            )\n",
    "            svm = movePrep.signalvectormagn(\n",
    "                acc_df.iloc[:, 1:4].values\n",
    "            )\n",
    "\n",
    "            axes[s].plot(\n",
    "                acc_df['dopa_time'] / 60,\n",
    "                acc_df.iloc[:, ax + 1],\n",
    "                alpha=.4, label='uni-axis'\n",
    "            )\n",
    "            axes[s].plot(\n",
    "                acc_df['dopa_time'] / 60,\n",
    "                movePrep.signalvectormagn(\n",
    "                    acc_df.iloc[:, 1:4].values\n",
    "                ), alpha=.4, label='svm', c='r', ls='dotted',\n",
    "            )\n",
    "\n",
    "            axes[s].scatter(\n",
    "                np.array([l[0] for l in taplists2[sub][f'{side}_tap_t']]) / 60,\n",
    "                [.65e-6] * len(taplists2[sub][f'{side}_tap_t']),\n",
    "                s=50, color='g', label='tap-start',\n",
    "            )\n",
    "            axes[s].scatter(\n",
    "                np.array([l[-1] for l in taplists2[sub][f'{side}_tap_t']]) / 60,\n",
    "                [.6e-6] * len(taplists2[sub][f'{side}_tap_t']),\n",
    "                s=50, color='r', label='tap-end'\n",
    "            )\n",
    "            axes[s].scatter(\n",
    "                np.array([m[0] for m in taplists2[sub][f'{side}_move_t']]) / 60,\n",
    "                [.55e-6] * len(taplists2[sub][f'{side}_move_t']),\n",
    "                s=50, color='orange', label='move-start'\n",
    "            )\n",
    "            axes[s].scatter(\n",
    "                np.array([m[1] for m in taplists2[sub][f'{side}_move_t']]) / 60,\n",
    "                [.5e-6] * len(taplists2[sub][f'{side}_move_t']),\n",
    "                s=50, color='purple', label='move-end'\n",
    "            )\n",
    "\n",
    "            axes[s].set_xlim(x0, x1)\n",
    "            axes[s].set_ylim(-1e-6, 1e-6)\n",
    "            axes[s].set_ylabel(\n",
    "                f'Acceleration\\n{side.upper()}'\n",
    "                    '\\n(g, m/s/s)',\n",
    "                size=fonts\n",
    "            )\n",
    "            axes[s].tick_params(labelsize=fonts - 4)\n",
    "\n",
    "        axes[s].set_xlabel('Time (minutes to L-Dopa intake)', size=fonts)\n",
    "\n",
    "\n",
    "        plt.suptitle(\n",
    "            f'Subject {sub} -  bilateral '\n",
    "            'Movement detection',\n",
    "            x=.1, y=.96, ha='left',\n",
    "            size=fonts+4\n",
    "        )\n",
    "        # remove duplicate legend labels\n",
    "        handles, labels = plotHelp.remove_duplicate_legend(\n",
    "            plt.gca().get_legend_handles_labels()\n",
    "        )\n",
    "\n",
    "        fig.legend(\n",
    "            handles, labels,\n",
    "            frameon=False, fontsize=fonts - 4, ncol=3,\n",
    "            loc='center left', bbox_to_anchor = [.55, .95])\n",
    "        \n",
    "        plt.tight_layout()\n",
    "\n",
    "        # plt.savefig(os.path.join(\n",
    "        #     fig_dir, 'tapping_detection',\n",
    "        #     f'sub{sub}_moveDetect_newBorders_min{x0}_{x1}'\n",
    "        # ), dpi=150, facecolor='w',)\n",
    "\n",
    "        plt.close()"
   ]
  },
  {
   "cell_type": "code",
   "execution_count": null,
   "metadata": {},
   "outputs": [],
   "source": []
  }
 ],
 "metadata": {
  "kernelspec": {
   "display_name": "Python 3.9.0 ('ecog_dysk')",
   "language": "python",
   "name": "python3"
  },
  "language_info": {
   "codemirror_mode": {
    "name": "ipython",
    "version": 3
   },
   "file_extension": ".py",
   "mimetype": "text/x-python",
   "name": "python",
   "nbconvert_exporter": "python",
   "pygments_lexer": "ipython3",
   "version": "3.9.0"
  },
  "orig_nbformat": 4,
  "vscode": {
   "interpreter": {
    "hash": "2b948574b4cc10c9dd8fa8cab55862e7a8500229b4c7ca6593391d5001a62fb2"
   }
  }
 },
 "nbformat": 4,
 "nbformat_minor": 2
}
