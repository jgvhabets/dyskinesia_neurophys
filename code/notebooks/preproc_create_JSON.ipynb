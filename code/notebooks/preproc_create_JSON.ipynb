{
 "cells": [
  {
   "cell_type": "markdown",
   "metadata": {},
   "source": [
    "## Manual creation of JSON setting files\n",
    "\n",
    "In case manual adjustment of JSONs leads to json.load error: write new JSON file with exact same content via json.dump"
   ]
  },
  {
   "cell_type": "code",
   "execution_count": 1,
   "metadata": {},
   "outputs": [],
   "source": [
    "import json\n",
    "import os"
   ]
  },
  {
   "cell_type": "code",
   "execution_count": 2,
   "metadata": {},
   "outputs": [],
   "source": [
    "if os.getcwd()[-10:] == '_neurophys':\n",
    "    \n",
    "    proj_path = os.getcwd()\n",
    "\n",
    "else:\n",
    "\n",
    "    path = os.getcwd()\n",
    "\n",
    "    for i in range(5):\n",
    "\n",
    "        path = os.path.dirname(path)\n",
    "\n",
    "        if path[-10:] == '_neurophys':\n",
    "        \n",
    "            proj_path = path\n",
    "            \n",
    "            break\n",
    "\n",
    "json_path = os.path.join(\n",
    "    proj_path, 'data/preprocess_jsons'\n",
    ")"
   ]
  },
  {
   "cell_type": "markdown",
   "metadata": {},
   "source": [
    "#### Fill JSON content\n",
    "\n",
    "Create dict with json-content with variable name jsondump"
   ]
  },
  {
   "cell_type": "code",
   "execution_count": 18,
   "metadata": {},
   "outputs": [],
   "source": [
    "# jsondump = {\n",
    "#     \"sub\": \"013\",\n",
    "#     \"ses\": \"EcogLfpMedOn03\",\n",
    "#     \"dopa_intake_time\": \"10:55\",\n",
    "#     \"acq_exclude\": [],\n",
    "#     \"tasks_exclude\": [\"Free\"],\n",
    "#     \"data_include\": [\n",
    "#       \"lfp_left\",\n",
    "#       \"lfp_right\",\n",
    "#       \"ecog_left\",\n",
    "#       \"acc_left\",\n",
    "#       \"acc_right\"\n",
    "#     ],\n",
    "#     \"lead_type\": \"MT_SS\",\n",
    "#     \"raw_path\": \"/Users/jeroenhabets/OneDrive - Charite\\u0301 - Universita\\u0308tsmedizin Berlin/BIDS_Berlin_ECOG_LFP/rawdata\"\n",
    "# }\n"
   ]
  },
  {
   "cell_type": "code",
   "execution_count": 3,
   "metadata": {},
   "outputs": [],
   "source": [
    "jsondump = {\n",
    "    \"subs_include\": [\"014\"],\n",
    "    \"data_include\": [\n",
    "      \"lfp_left\",\n",
    "      \"lfp_right\",\n",
    "      \"ecog_left\",\n",
    "      \"acc_left\",\n",
    "      \"acc_right\"\n",
    "    ],\n",
    "    \"project_path\": \"/Users/jeroenhabets/Research/CHARITE/projects/dyskinesia_neurophys\",\n",
    "    \"data_version\": \"v2.1\"\n",
    "}\n"
   ]
  },
  {
   "cell_type": "markdown",
   "metadata": {},
   "source": [
    "#### Define Filename\n",
    "\n",
    "Often ' preprocSettings_vX.X.json ' or ' runInfo_00X.json '"
   ]
  },
  {
   "cell_type": "code",
   "execution_count": 4,
   "metadata": {},
   "outputs": [],
   "source": [
    "# json_fname = 'runInfo_013.json'\n",
    "json_fname = 'create_dopaTimed_v0.json'"
   ]
  },
  {
   "cell_type": "code",
   "execution_count": 5,
   "metadata": {},
   "outputs": [],
   "source": [
    "f = os.path.join(json_path, json_fname)\n",
    "\n",
    "with open (f, 'w') as jsonfile:\n",
    "\n",
    "    json.dump(jsondump, jsonfile, indent=4)"
   ]
  }
 ],
 "metadata": {
  "interpreter": {
   "hash": "3215b98ba4c40f90b358cffaa32696e7bfbdbe38275c45cfefc4b84b3a964fcf"
  },
  "kernelspec": {
   "display_name": "Python 3.9.7 ('ecog_dysk')",
   "language": "python",
   "name": "python3"
  },
  "language_info": {
   "codemirror_mode": {
    "name": "ipython",
    "version": 3
   },
   "file_extension": ".py",
   "mimetype": "text/x-python",
   "name": "python",
   "nbconvert_exporter": "python",
   "pygments_lexer": "ipython3",
   "version": "3.9.7"
  },
  "orig_nbformat": 4
 },
 "nbformat": 4,
 "nbformat_minor": 2
}
