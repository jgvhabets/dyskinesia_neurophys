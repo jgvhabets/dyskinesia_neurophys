{
 "cells": [
  {
   "cell_type": "markdown",
   "metadata": {},
   "source": [
    "## Tapping Playground\n",
    "\n",
    "This notebooks investigates optimal hand- and fingertapping algorithms as part of the \n",
    "ReTune-Dyskinesia project.\n",
    "\n"
   ]
  },
  {
   "cell_type": "markdown",
   "metadata": {},
   "source": [
    "### 0. Loading packages and functions, defining paths\n",
    "\n"
   ]
  },
  {
   "cell_type": "code",
   "execution_count": 1,
   "metadata": {},
   "outputs": [],
   "source": [
    "# Importing Python and external packages\n",
    "import os\n",
    "import sys\n",
    "import importlib\n",
    "import pandas as pd\n",
    "import numpy as np\n",
    "import sklearn as sk\n",
    "import scipy\n",
    "import matplotlib.pyplot as plt\n",
    "import seaborn as sns\n",
    "from scipy import signal\n",
    "from scipy import stats\n",
    "from array import array\n",
    "import datetime\n",
    "import h5py\n",
    "from dataclasses import  dataclass, field"
   ]
  },
  {
   "cell_type": "code",
   "execution_count": 2,
   "metadata": {},
   "outputs": [
    {
     "name": "stdout",
     "output_type": "stream",
     "text": [
      "Python sys 3.9.7 (default, Sep 16 2021, 08:50:36) \n",
      "[Clang 10.0.0 ]\n",
      "pandas 1.3.4\n",
      "numpy 1.20.3\n",
      "sci-py 1.7.1\n",
      "sci-kit learn 1.0.1\n"
     ]
    }
   ],
   "source": [
    "# check some package versions for documentation and reproducability\n",
    "print('Python sys', sys.version)\n",
    "print('pandas', pd.__version__)\n",
    "print('numpy', np.__version__)\n",
    "# print('mne_bids', mne_bids.__version__)\n",
    "# print('mne', mne.__version__)\n",
    "print('sci-py', scipy.__version__)\n",
    "print('sci-kit learn', sk.__version__)\n",
    "## FEB 2022:\n",
    "# Python sys 3.9.7 (default, Sep 16 2021, 08:50:36) \n",
    "# [Clang 10.0.0 ]\n",
    "# pandas 1.3.4\n",
    "# numpy 1.20.3\n",
    "# mne_bids 0.9\n",
    "# mne 0.24.1\n",
    "# sci-py 1.7.1\n",
    "# sci-kit learn 1.0.1"
   ]
  },
  {
   "cell_type": "code",
   "execution_count": 3,
   "metadata": {},
   "outputs": [
    {
     "data": {
      "text/plain": [
       "'/Users/jeroenhabets/Research/CHARITE/projects/dyskinesia_neurophys'"
      ]
     },
     "execution_count": 3,
     "metadata": {},
     "output_type": "execute_result"
    }
   ],
   "source": [
    "# define local storage directories\n",
    "projectpath = '/Users/jeroenhabets/Research/CHARITE/projects/dyskinesia_neurophys'\n",
    "codepath = os.path.join(projectpath, 'code')\n",
    "pynmd_path = os.path.join(codepath, 'py_neuromodulation')\n",
    "rawdatapath = '/Users/jeroenhabets/OneDrive - Charité - Universitätsmedizin Berlin/BIDS_Berlin_ECOG_LFP/rawdata'\n",
    "proc_data_path = os.path.join(projectpath, 'data/preprocess')\n",
    "# change working directory to project-code folder\n",
    "os.chdir(projectpath)\n",
    "temp_save = os.path.join(projectpath, 'figures/TEMP')\n",
    "os.getcwd()"
   ]
  },
  {
   "cell_type": "code",
   "execution_count": 81,
   "metadata": {},
   "outputs": [],
   "source": [
    "os.chdir(codepath)\n",
    "# own data preprocessing functions\n",
    "import lfpecog_preproc.preproc_data_management as dataMng\n",
    "# own data exploration functions\n",
    "import lfpecog_features.feats_read_data as read_data\n",
    "import lfpecog_features.handTap_detect as handTap_detect\n",
    "import lfpecog_features.handTap_detect2 as tap\n",
    "\n",
    "import lfpecog_preproc.preproc_resample as resample\n",
    "\n",
    "os.chdir(projectpath)\n",
    "\n",
    "\n"
   ]
  },
  {
   "cell_type": "markdown",
   "metadata": {},
   "source": [
    "## ACC CHECK Johannes"
   ]
  },
  {
   "cell_type": "code",
   "execution_count": 11,
   "metadata": {},
   "outputs": [],
   "source": [
    "@dataclass(init=True, repr=True, )\n",
    "class accData:\n",
    "    \"\"\"\n",
    "    Store Acc data\n",
    "    \"\"\"\n",
    "    # give at initiation\n",
    "    OnFile: str = field(default_factory=str)\n",
    "    OffFile: str = field(default_factory=str)\n",
    "    # create after initiation\n",
    "    On=[]\n",
    "    Off=[]\n",
    "\n",
    "    def __post_init__(self,):\n",
    "        self.On = scipy.io.loadmat(self.OnFile)\n",
    "        self.Off = scipy.io.loadmat(self.OffFile)\n"
   ]
  },
  {
   "cell_type": "code",
   "execution_count": 45,
   "metadata": {},
   "outputs": [
    {
     "name": "stdout",
     "output_type": "stream",
     "text": [
      "cfg ['callinfo', 'channel', 'checkpath', 'frequency', 'latency', 'nanmean', 'outputfilepresent', 'previous', 'progress', 'select', 'tolerance', 'toolbox', 'trackmeminfo', 'tracktimeinfo', 'trials', 'version'] \n",
      "\n",
      "fsample [array([4000.])] \n",
      "\n",
      "hdr ['Fs', 'chantype', 'chanunit', 'label', 'nChans', 'nSamples', 'nSamplesPre', 'nTrials'] \n",
      "\n",
      "label [array([<HDF5 object reference>], dtype=object)] \n",
      "\n",
      "sampleinfo [array([831097.]), array([959097.])] \n",
      "\n",
      "time [array([<HDF5 object reference>], dtype=object)] \n",
      "\n",
      "trial [array([<HDF5 object reference>], dtype=object)] \n",
      "\n"
     ]
    }
   ],
   "source": [
    "for key in list(acc['tAccStimTap']):\n",
    "    print(key, (list(acc['tAccStimTap'][key])), '\\n')"
   ]
  },
  {
   "cell_type": "code",
   "execution_count": 47,
   "metadata": {},
   "outputs": [
    {
     "data": {
      "text/plain": [
       "[array([<HDF5 object reference>], dtype=object)]"
      ]
     },
     "execution_count": 47,
     "metadata": {},
     "output_type": "execute_result"
    }
   ],
   "source": [
    "list(acc['tAccStimTap']['trial'])"
   ]
  },
  {
   "cell_type": "code",
   "execution_count": 26,
   "metadata": {},
   "outputs": [],
   "source": [
    "import fieldtrip2mne as f2m\n",
    "import mne"
   ]
  },
  {
   "cell_type": "code",
   "execution_count": 213,
   "metadata": {},
   "outputs": [],
   "source": [
    "dlFolder = '/Users/jeroenhabets/Downloads'\n",
    "matfiles = [f for f in os.listdir(dlFolder) if f[-3:] == 'mat']\n",
    "# print(matfiles)\n",
    "\n",
    "for f in matfiles:\n",
    "    if '540AE' in f:\n",
    "        if 'On' in f: f_40on = os.path.join(dlFolder, f)\n",
    "        if 'Off' in f: f_40off = os.path.join(dlFolder, f)\n",
    "\n",
    "    if '537BI' in f:\n",
    "        if 'On' in f: f_37on = os.path.join(dlFolder, f)\n",
    "        if 'Off' in f: f_37off = os.path.join(dlFolder, f)\n",
    "\n",
    "# try: \n",
    "#     acc = scipy.io.loadmat(onF)\n",
    "# except NotImplementedError:\n",
    "#     acc = h5py.File(onF, 'a')\n",
    "\n",
    "\n",
    "# acc = acc.T\n",
    "# svm = np.sqrt(acc[0, :]**2 + acc[1, :]**2 + acc[2, :]**2)\n",
    "# acc = np.vstack((acc, svm))\n",
    "# print(acc.shape)\n",
    "fs = 250\n"
   ]
  },
  {
   "cell_type": "code",
   "execution_count": 217,
   "metadata": {},
   "outputs": [],
   "source": [
    "dlFolder = '/Users/jeroenhabets/Downloads'\n",
    "csvfiles = [f for f in os.listdir(dlFolder) if f[-3:] == 'csv']\n",
    "\n",
    "for f in csvfiles:\n",
    "    if '540AE' in f:\n",
    "        if 'On' in f: f_40on = os.path.join(dlFolder, f)\n",
    "        if 'Off' in f: f_40off = os.path.join(dlFolder, f)\n",
    "\n",
    "    if '537BI' in f:\n",
    "        if 'On' in f: f_37on = os.path.join(dlFolder, f)\n",
    "        if 'Off' in f: f_37off = os.path.join(dlFolder, f)\n",
    "\n",
    "\n",
    "file = open(f_40on, 'rb')\n",
    "acc40on = np.loadtxt(file,delimiter = \",\")\n",
    "file = open(f_37off, 'rb')\n",
    "acc37off = np.loadtxt(file,delimiter = \",\")"
   ]
  },
  {
   "cell_type": "code",
   "execution_count": 224,
   "metadata": {},
   "outputs": [],
   "source": [
    "importlib.reload(resample)\n",
    "\n",
    "or_fs = 4000\n",
    "\n",
    "acc40on = signal.resample(\n",
    "    acc40on,\n",
    "    (acc40on.shape[0] // (or_fs // fs)),\n",
    ")\n",
    "\n",
    "acc37off = signal.resample(\n",
    "    acc37off,\n",
    "    (acc37off.shape[0] // (or_fs // fs)),\n",
    ")"
   ]
  },
  {
   "cell_type": "code",
   "execution_count": 257,
   "metadata": {},
   "outputs": [
    {
     "data": {
      "image/png": "[encoded data removed]",
      "text/plain": [
       "<Figure size 864x432 with 1 Axes>"
      ]
     },
     "metadata": {
      "needs_background": "light"
     },
     "output_type": "display_data"
    }
   ],
   "source": [
    "fig, ax = plt.subplots(1, 1, figsize=(12, 6))\n",
    "ax.plot(-acc37off)\n",
    "ax.set_xlim(0, 1000)\n",
    "plt.show()"
   ]
  },
  {
   "cell_type": "code",
   "execution_count": 205,
   "metadata": {},
   "outputs": [],
   "source": [
    "importlib.reload(tap)\n",
    "taps40on = tap.tapDetector(\n",
    "    x=acc40on, y=acc40on, z=acc40on, task='continuous', fs=250,\n",
    ")"
   ]
  },
  {
   "cell_type": "code",
   "execution_count": 299,
   "metadata": {},
   "outputs": [
    {
     "data": {
      "image/png": "[encoded data removed]",
      "text/plain": [
       "<Figure size 864x432 with 1 Axes>"
      ]
     },
     "metadata": {
      "needs_background": "light"
     },
     "output_type": "display_data"
    }
   ],
   "source": [
    "# Find peaks to help movement detection\n",
    "\n",
    "sig=acc40on * 1e-6\n",
    "fs=250\n",
    "settings = {\n",
    "    'continuous': {\n",
    "        'peak_dist': 0.1,\n",
    "    },\n",
    "    'paused': {\n",
    "        'peak_dist': .5,\n",
    "    }\n",
    "}\n",
    "task = 'continuous'\n",
    "smallPos = signal.find_peaks(\n",
    "    sig,\n",
    "    # height=(np.max(sig) * .1, np.max(sig) * .6),  # first value is min, second is max\n",
    "    height=(-np.max(sig) * .5, np.max(sig) * .1),\n",
    "    distance=fs * settings[task]['peak_dist'],\n",
    "    # prominence=np.max(sig) * .1,\n",
    "    # wlen=fs * settings[task]['peak_dist'],\n",
    ")\n",
    "largePos = signal.find_peaks(\n",
    "    sig,\n",
    "    height=np.max(sig) * .3,\n",
    "    distance=fs * settings[task]['peak_dist'],  # 1 s\n",
    ")\n",
    "smallNeg = signal.find_peaks(\n",
    "    -1 * sig,  # convert pos/neg for negative peaks\n",
    "    height=(-.5e-7, abs(np.min(sig)) * .5),\n",
    "    distance=fs * settings[task]['peak_dist'] * .5,\n",
    "    prominence=abs(np.min(sig)) * .05,\n",
    "    # wlen=40,\n",
    ")\n",
    "largeNeg = signal.find_peaks(\n",
    "    -1 * sig,\n",
    "    height=abs(np.min(sig)) * .4,  # first value is min, second is max\n",
    "    distance=fs * settings[task]['peak_dist'],\n",
    "    # prominence=np.min(yEpoch) * .1,\n",
    "    # wlen=40,\n",
    ")\n",
    "\n",
    "fig, ax = plt.subplots(1, 1, figsize=(12, 6))\n",
    "\n",
    "ax.plot(sig, label='y', alpha=.8, c='green')\n",
    "\n",
    "peaklabel = ['lowPos', 'highPos', 'lowNeg', 'highNeg']\n",
    "col_pms = [\n",
    "    {'color': 'blue',},\n",
    "    {'color': 'none', 'edgecolor': 'cyan'},\n",
    "    {'color': 'orange'},\n",
    "    {'edgecolor': 'red', 'facecolor': 'none',}\n",
    "]\n",
    "peakcol = ['blue', 'green', 'orange', 'red']\n",
    "\n",
    "for p, peaks in enumerate([smallPos, largePos, smallNeg, largeNeg]):\n",
    "    ax.scatter(\n",
    "        peaks[0],\n",
    "        sig[peaks[0]],\n",
    "        label=peaklabel[p],\n",
    "        s=50,\n",
    "        **col_pms[p],\n",
    "    )\n",
    "\n",
    "for tapi in taps40on[1]:\n",
    "    ax.fill_betweenx(\n",
    "        y=np.linspace(-4e-6, 4e-6, 5),\n",
    "        x1=tapi[0] * 250,\n",
    "        x2=tapi[-1] * 250,\n",
    "        alpha=.3,)\n",
    "\n",
    "# ax.axhline(np.max(sig) * .5, label='.5 * MAX')\n",
    "xticks = np.linspace(0, sig.shape[0], 17)\n",
    "ax.set_xticks(xticks)\n",
    "ax.set_xticklabels(xticks / fs)\n",
    "ax.set_xlabel('Time after L-Dopa Intake (seconds)')\n",
    "# ax.axhline(1e-7, label='THR pos', c='green', alpha=.3)\n",
    "# ax.axhline(-1e-7, label='THR neg', c='r', alpha=.3) \n",
    "ax.axhline(-np.median(sig), label='neg median')\n",
    "ax.axhline(np.median(sig), label='median', ls='dotted')\n",
    "ax.axhline(\n",
    "    np.max(sig) * .5,\n",
    "    label='peak thr pos', c='green', alpha=.3)\n",
    "ax.axhline(\n",
    "    np.min(sig) * .3,\n",
    "    label='peak thr neg', c='r', alpha=.3,\n",
    ")\n",
    "ax.legend(ncol=6)\n",
    "ax.set_xlim(0, 750)\n",
    "\n",
    "ax.plot(np.diff(sig), c='b', ls='dotted', alpha=.5,)\n",
    "plt.show()\n"
   ]
  },
  {
   "cell_type": "code",
   "execution_count": 314,
   "metadata": {},
   "outputs": [
    {
     "data": {
      "text/plain": [
       "True"
      ]
     },
     "execution_count": 314,
     "metadata": {},
     "output_type": "execute_result"
    }
   ],
   "source": [
    "# 4308, 4271\n",
    "np.logical_and(\n",
    "    any(sigdf[4300 : 4320] < -1e-6),\n",
    "    any(sigdf[4300 : 4320] > 1e-6)\n",
    ")"
   ]
  },
  {
   "cell_type": "code",
   "execution_count": 451,
   "metadata": {},
   "outputs": [
    {
     "data": {
      "image/png": "[encoded data removed]",
      "text/plain": [
       "<Figure size 1152x576 with 1 Axes>"
      ]
     },
     "metadata": {
      "needs_background": "light"
     },
     "output_type": "display_data"
    }
   ],
   "source": [
    "# sig = -acc37off * 1e-6\n",
    "sig = acc40on * 1e-6\n",
    "\n",
    "\n",
    "sigdf = np.diff(sig)\n",
    "posThr = np.mean(sig)\n",
    "negThr = -np.mean(sig)\n",
    "# smallPos = signal.find_peaks(\n",
    "#     sig,\n",
    "#     # height=(np.max(sig) * .1, np.max(sig) * .6),  # first value is min, second is max\n",
    "#     height=(-np.max(sig) * .5, np.max(sig) * .1),\n",
    "#     distance=fs * settings[task]['peak_dist'],\n",
    "#     # prominence=np.max(sig) * .1,\n",
    "#     # wlen=fs * settings[task]['peak_dist'],\n",
    "# )\n",
    "# largePos = signal.find_peaks(\n",
    "#     sig,\n",
    "#     height=np.max(sig) * .3,\n",
    "#     distance=fs * settings[task]['peak_dist'],  # 1 s\n",
    "# )\n",
    "# find relevant positive peaks\n",
    "posPeaks = signal.find_peaks(\n",
    "    sig,\n",
    "    height=(posThr, np.max(sig)),\n",
    "    distance=fs * .05,  # settings[task]['peak_dist']\n",
    ")[0]\n",
    "# select Pos-peaks with surrounding >> Pos and Neg Diff\n",
    "endPeaks = [np.logical_or(\n",
    "    any(sigdf[i -3:i + 3] < np.percentile(sig, 10)),  #np.percentile(sig, 90) * .5)\n",
    "    any(sigdf[i -3:i + 3] > np.percentile(sig, 90))\n",
    ") for i in posPeaks]\n",
    "endPeaks = posPeaks[endPeaks]\n",
    "# delete endPeaks from posPeaks\n",
    "for i in endPeaks:\n",
    "    idel = np.where(posPeaks == i)\n",
    "    posPeaks = np.delete(posPeaks, idel)\n",
    "# delete endPeaks which are too close after each other\n",
    "# by starting with std False before np.diff, the diff-scores\n",
    "# represent the distance to the previous peak\n",
    "tooclose = endPeaks[np.append(\n",
    "    np.array(False), np.diff(endPeaks) < (fs / 6))]\n",
    "for p in tooclose:\n",
    "    i = np.where(endPeaks == p)\n",
    "    endPeaks = np.delete(endPeaks, i)\n",
    "    posPeaks = np.append(posPeaks, p)\n",
    "\n",
    "smallNeg = signal.find_peaks(\n",
    "    -1 * sig,  # convert pos/neg for negative peaks\n",
    "    height=(-.5e-7, abs(np.min(sig)) * .5),\n",
    "    distance=fs * settings[task]['peak_dist'] * .5,\n",
    "    prominence=abs(np.min(sig)) * .05,\n",
    "    # wlen=40,\n",
    ")[0]\n",
    "\n",
    "largeNeg = signal.find_peaks(\n",
    "    -1 * sig,\n",
    "    height=abs(np.min(sig)) * .4,  # first value is min, second is max\n",
    "    distance=fs * settings[task]['peak_dist'],\n",
    "    # prominence=np.min(yEpoch) * .1,\n",
    "    # wlen=40,\n",
    ")[0]\n",
    "\n",
    "fig, ax =plt.subplots(1,1, figsize=(16, 8))\n",
    "ax.axhline(np.mean(sig), label='posThr', c='orange', ls='dashed')\n",
    "ax.axhline(-np.mean(sig), label='negThr', ls='dashed', c='r')\n",
    "ax.axhline(np.percentile(sigdf, 75), label='Diff 75p', c='orange', ls='solid', alpha=.5,)\n",
    "ax.axhline(np.percentile(sigdf, 25), label='Diff 25p', ls='solid', c='r', alpha=.5,)\n",
    "\n",
    "# ax.axhline(np.percentile(sig, 90), label='PERC-90', c='orange', ls='dotted')\n",
    "# ax.axhline(np.percentile(sig, 10), label='PERC-10', c='red', ls='dotted')\n",
    "\n",
    "ax.plot(sig, c='b', alpha=.4)\n",
    "ax.plot(np.diff(sig), c='green', ls='dotted', alpha=.8)\n",
    "\n",
    "peaklabel = ['Pos', 'EndPos', 'lowNeg', 'highNeg']\n",
    "for p, peaks in enumerate([posPeaks, endPeaks, smallNeg, largeNeg]):\n",
    "    ax.scatter(\n",
    "        peaks,\n",
    "        sig[peaks],\n",
    "        label=peaklabel[p],\n",
    "        s=50,\n",
    "        **col_pms[p],\n",
    "    )\n",
    "\n",
    "ax.set_xlim(2000, 3000)\n",
    "plt.legend(ncol=4)\n",
    "\n",
    "plt.show()\n"
   ]
  },
  {
   "cell_type": "code",
   "execution_count": 436,
   "metadata": {},
   "outputs": [
    {
     "name": "stdout",
     "output_type": "stream",
     "text": [
      "40on:\n",
      "\n",
      "Variation acc: 9.158406671094944\n",
      "Variation diff: -6790.047554944627\n",
      "\n",
      "37off:\n",
      "\n",
      "Variation acc: 2.2714890805772376\n",
      "Variation diff: 15292.591926845476\n",
      "\n"
     ]
    }
   ],
   "source": [
    "for dat, pt in zip(\n",
    "    [acc40on, -acc37off], ['40on', '37off']):\n",
    "    print(f'{pt}:\\n')\n",
    "    print(f'Variation acc: {stats.variation(dat)}')\n",
    "    print(f'Variation diff: {stats.variation(np.diff(dat))}')\n",
    "    print()"
   ]
  },
  {
   "cell_type": "markdown",
   "metadata": {},
   "source": [
    "## ACC CHECK BARBARA"
   ]
  },
  {
   "cell_type": "code",
   "execution_count": 286,
   "metadata": {},
   "outputs": [
    {
     "name": "stdout",
     "output_type": "stream",
     "text": [
      "['jeroenmatex.mat', 'ffraradspmeeg_Sub-015_12mfu_MOnSoff_BStr_FTRU_LSTN-20220125T132039.mat']\n",
      "(4, 240313)\n"
     ]
    }
   ],
   "source": [
    "dlFolder = '/Users/jeroenhabets/Downloads'\n",
    "matfiles = [f for f in os.listdir(dlFolder) if f[-3:] == 'mat']\n",
    "print(matfiles)\n",
    "\n",
    "acc = scipy.io.loadmat(os.path.join(dlFolder, matfiles[0]))['jeroen']  # Fs 250 Hz\n",
    "acc = acc.T\n",
    "svm = np.sqrt(acc[0, :]**2 + acc[1, :]**2 + acc[2, :]**2)\n",
    "acc = np.vstack((acc, svm))\n",
    "print(acc.shape)\n",
    "fs = 250\n"
   ]
  },
  {
   "cell_type": "markdown",
   "metadata": {},
   "source": [
    "#### Descriptives"
   ]
  },
  {
   "cell_type": "code",
   "execution_count": 287,
   "metadata": {},
   "outputs": [
    {
     "name": "stdout",
     "output_type": "stream",
     "text": [
      "AXIS: X\n",
      "Coef of Variation axis 0: 321381.59409897134\n",
      "Median axis 0: 0.00013248369214124978\n",
      "Mean axis 0: 8.256683701341091e-07\n",
      "Std dev axis 0: 0.2653546169907995\n",
      "\n",
      "AXIS: Y\n",
      "Coef of Variation axis 1: -370494.9105419953\n",
      "Median axis 1: 7.643438584636897e-05\n",
      "Mean axis 1: -1.7842968783443504e-06\n",
      "Std dev axis 1: 0.6610729123225516\n",
      "\n",
      "AXIS: Z\n",
      "Coef of Variation axis 2: -1484214.2117369594\n",
      "Median axis 2: -2.061223085547681e-06\n",
      "Mean axis 2: -2.2165861141118768e-07\n",
      "Std dev axis 2: 0.3289888612103649\n",
      "\n",
      "AXIS: SVM\n",
      "Coef of Variation axis 3: 2.389134896541549\n",
      "Median axis 3: 0.010657566797215568\n",
      "Mean axis 3: 0.3029538785770867\n",
      "Std dev axis 3: 0.723797683351129\n",
      "\n"
     ]
    }
   ],
   "source": [
    "names = ['X', 'Y', 'Z', 'SVM']\n",
    "for i in [0, 1, 2, 3]:\n",
    "    print(f'AXIS: {names[i]}')\n",
    "    print(f'Coef of Variation axis {i}: {stats.variation(acc[i, :])}')\n",
    "    print(f'Median axis {i}: {np.median(acc[i, :])}')\n",
    "    print(f'Mean axis {i}: {np.mean(acc[i, :])}')\n",
    "    print(f'Std dev axis {i}: {np.std(acc[i, :])}\\n')"
   ]
  },
  {
   "cell_type": "markdown",
   "metadata": {},
   "source": [
    "#### Peak Detection Epochs 0 and 1"
   ]
  },
  {
   "cell_type": "code",
   "execution_count": 522,
   "metadata": {},
   "outputs": [
    {
     "name": "stdout",
     "output_type": "stream",
     "text": [
      "[-3.89066702]\n",
      "[-2.20191675]\n",
      "[1.03659394]\n",
      "[0.55430773]\n",
      "[0.15000268]\n",
      "[-0.29024918]\n",
      "[0.23309027]\n",
      "[0.21614496]\n",
      "[0.17710242]\n",
      "[0.0300526]\n"
     ]
    }
   ],
   "source": [
    "for i in range(10):\n",
    "        print(np.diff([epoch1[3956 + i], epoch1[3956 + i + 1]]))"
   ]
  },
  {
   "cell_type": "code",
   "execution_count": 649,
   "metadata": {},
   "outputs": [
    {
     "name": "stdout",
     "output_type": "stream",
     "text": [
      "artfeacts 27\n",
      "75\n",
      "90\n",
      "70\n"
     ]
    },
    {
     "data": {
      "text/plain": [
       "'\\nPOTENTIAL PARAMETERS:\\nImpact moment: artefact\\nFastest moment UP: crossing zero-line between first green peak after artefact and yellow through \\nFastest moment DOWN: crossing zero-line between last yellow trough and artefact\\n\\nFull tap: start after artefact: green peak -> two good yellow troughs -> green peak or artefact\\n\\n'"
      ]
     },
     "execution_count": 649,
     "metadata": {},
     "output_type": "execute_result"
    }
   ],
   "source": [
    "fig, ax = plt.subplots(1, 1, figsize=(16,6))\n",
    "clrs=['green', 'orange', 'cyan']\n",
    "dirs=[1, -1]\n",
    "epoch1 = acc[1, fs * 50:fs * 75]\n",
    "svm1 = acc[3, fs * 50:fs * 75]\n",
    "\n",
    "states = np.zeros((len(epoch1)))\n",
    "\n",
    "ax.plot(epoch1)\n",
    "ax.plot(svm1, color='r', alpha=.2)\n",
    "\n",
    "# find artefacts\n",
    "art_i=[]\n",
    "artf = signal.find_peaks(\n",
    "    epoch1,\n",
    "    # height=np.max(epoch1) * .5,\n",
    "    width=(1, 5),\n",
    "    rel_height=.3,\n",
    "    distance=fs * 0.2,  # 10 ms\n",
    "    prominence=np.max(epoch1) * .5,\n",
    "    wlen=25,\n",
    ")\n",
    "print('artfeacts',len(artf[0]))\n",
    "# for i in artf[0]:  # incl only sharp artf (slope > .5 max)\n",
    "#     if  epoch1[i] - epoch1[i + 1] > np.max(epoch1) * .3:\n",
    "#         art_i.append(i)\n",
    "\n",
    "highPos = signal.find_peaks(\n",
    "    epoch1,\n",
    "    height=np.max(epoch1) * .15,\n",
    "    # width=5,\n",
    "    # rel_height=.01,\n",
    "    # distance=fs * 0.01,  # 10 ms\n",
    "    prominence=np.max(epoch1) * .15,\n",
    "    # wlen=25,\n",
    ")\n",
    "lowPos = signal.find_peaks(\n",
    "    epoch1,\n",
    "    height=(-np.max(epoch1) * .3, np.max(epoch1) * .2),\n",
    "    # width=5,\n",
    "    # rel_height=.1,\n",
    "    # distance=fs * 0.01,  # 10 ms\n",
    "    prominence=np.max(epoch1) * .05,\n",
    "    # wlen=40,\n",
    ")\n",
    "peaksNeg = signal.find_peaks(\n",
    "    -1 * epoch1,\n",
    "    # height=np.max(epoch1) * .10,\n",
    "    width=5,\n",
    "    distance=fs * 0.01,  # 10 ms\n",
    "    prominence=np.max(epoch1) * .1,\n",
    "    # wlen=40,\n",
    ")\n",
    "\n",
    "# set states (artf, peak, trough) in one array\n",
    "for i in np.arange(len(states)):\n",
    "    if i in artf[0]: states[i] = 4\n",
    "    elif i in highPos[0]: states[i] = 2\n",
    "    elif i in lowPos[0]: states[i] = 1\n",
    "    elif i in peaksNeg[0]: states[i] = -1\n",
    "\n",
    "for p, peaks in enumerate([highPos, peaksNeg, lowPos]):\n",
    "    ax.scatter(\n",
    "        peaks[0],\n",
    "        # peaks[1]['peak_heights'] * dirs[p],\n",
    "        epoch1[peaks[0]],\n",
    "        color=clrs[p],\n",
    "    )\n",
    "    print(len(peaks[0]))\n",
    "ax.scatter(artf[0], epoch1[artf[0]], edgecolor='red', )\n",
    "\n",
    "# ax[0].plot(states, c='k')\n",
    "\n",
    "# smth = pd.Series(epoch1).rolling(\n",
    "#     window=3).median()\n",
    "# ax[1].plot(smth)\n",
    "\n",
    "# peaksPos = signal.find_peaks(\n",
    "#     smth,\n",
    "#     # height=np.max(smth) * .3,\n",
    "#     width=5,\n",
    "#     distance=fs * 0.01,  # 10 ms\n",
    "#     prominence=np.max(epoch1) * .1,\n",
    "#     # wlen=40,\n",
    "# )\n",
    "# peaksNeg = signal.find_peaks(\n",
    "#     -1 * smth,\n",
    "#     # height=np.max(smth) * .3,\n",
    "#     width=5,\n",
    "#     distance=fs * 0.005,  # 10 ms\n",
    "#     prominence=np.max(epoch1) * .1,\n",
    "#     height=0,\n",
    "#     # wlen=40,\n",
    "# )\n",
    "# for p, peaks in enumerate([peaksPos, peaksNeg]):\n",
    "#     ax[1].scatter(\n",
    "#         peaks[0],\n",
    "#         # peaks[1]['peak_heights'] * dirs[p],  # prominences\n",
    "#         smth[peaks[0]],  # \n",
    "#         color=clrs[p],\n",
    "#     )\n",
    "\n",
    "upThr = np.max(epoch1) * .1\n",
    "phase='pause1'\n",
    "taps_i = []\n",
    "tap_ind = [np.nan] * 6\n",
    "legendDown=False\n",
    "legendUp=False\n",
    "# [startUp, fastestUp, highestUp, startDown, fastestDown, closeDown]\n",
    "for i in np.arange(2770, len(states) - 1):\n",
    "\n",
    "    if phase == 'decDown1':\n",
    "        if np.logical_or(\n",
    "            states[i] == 4,\n",
    "            np.logical_and(\n",
    "                states[i] == 2,\n",
    "                epoch1[i] > np.max(epoch1) * .3\n",
    "            )\n",
    "        ):\n",
    "            phase='closingTap'\n",
    "    \n",
    "    elif phase == 'closingTap':\n",
    "        if np.diff([epoch1[i], epoch1[i + 1]]) > 0:\n",
    "            # if slope goes up again after big impact peak\n",
    "            tap_ind[5] = i\n",
    "            try:\n",
    "                if not legendDown:\n",
    "                    ax.fill_betweenx(\n",
    "                        y=np.arange(-2, 4),\n",
    "                        x1=tap_ind[3], x2=tap_ind[5],\n",
    "                        alpha=.3, facecolor='w', hatch='//',\n",
    "                        edgecolor='gray',\n",
    "                        label='Down movement',\n",
    "                    )\n",
    "                    legendDown=True\n",
    "                else:\n",
    "                    ax.fill_betweenx(\n",
    "                        y=np.arange(-2, 4),\n",
    "                        x1=tap_ind[3], x2=tap_ind[5],\n",
    "                        alpha=.3, facecolor='w', hatch='//',\n",
    "                        edgecolor='gray',\n",
    "                    )\n",
    "                \n",
    "            except:\n",
    "                print(f'No full tap registered yet: {tap_ind}')\n",
    "            taps_i.append(tap_ind)  # stire finished tap\n",
    "            tap_ind = [np.nan] * 6  # set next tap_ind to nan\n",
    "            phase = 'pause1'\n",
    "\n",
    "    elif phase == 'pause1':\n",
    "        if np.logical_and(\n",
    "            epoch1[i] > upThr,\n",
    "            np.diff([epoch1[i], epoch1[i + 1]]) > np.max(epoch1) * .03  # was 0.05 adjusted it as tryout for smaller peaks\n",
    "        ):  # if not > upThr -> stays pause\n",
    "            phase = 'upAcc1'  # up1 is before up-acc-peak\n",
    "            tap_ind[0] = i  # START MOVE UP\n",
    "            # print('start UP', i, phase)\n",
    "\n",
    "    elif phase == 'upAcc1':  # acc-up before acc-peak\n",
    "        if np.logical_or(states[i] == 2, states[i] == 4):\n",
    "            # print('acc up peak found', i)\n",
    "            phase = 'upAcc2'  # after peak\n",
    "        # elif epoch1[i] > 0:  # obsolete?\n",
    "        #     continue\n",
    "            \n",
    "    elif phase == 'upAcc2':  # acc-up after acc-peak\n",
    "\n",
    "        if np.logical_or(states[i] == 2, states[i] == 4):  # new 'start' of move up\n",
    "            # current one may be false, replace\n",
    "            phase = 'upAcc1'  # up1 is before up-acc-peak\n",
    "            tap_ind[0] = i  # START MOVE UP\n",
    "            # print('start UP correct', i)\n",
    "        elif epoch1[i] < np.min(epoch1) * .1:  # end upAcc if negative and dropping down\n",
    "            tap_ind[1] = i  # fastest Up\n",
    "            phase = 'upDec1'  # deceller UpMove, before neg-peak\n",
    "            # print('end up, fastest point, new phase:', phase, i)\n",
    "            continue\n",
    "        \n",
    "    elif phase == 'upDec1':  # add if value is neg?\n",
    "        # print('dec Up active', i)\n",
    "        if np.diff([epoch1[i], epoch1[i + 1]]) > 0:\n",
    "            phase = 'upDec2'  # after neg peak\n",
    "            continue\n",
    "\n",
    "    elif phase == 'upDec2':  # after (low) pos peak\n",
    "        if np.logical_or(\n",
    "            np.logical_or(states[i] == 1, states[i] == 2),\n",
    "            epoch1[i - 1] > 0\n",
    "        ):  # small peak or across zero-line\n",
    "            tap_ind[2] = i  # END of Up movement (highest point)\n",
    "            phase='pause2'\n",
    "            if not legendUp:\n",
    "                ax.fill_betweenx(\n",
    "                    y=np.arange(-2, 4),\n",
    "                    x1=tap_ind[0], x2=tap_ind[2],\n",
    "                    alpha=.2,\n",
    "                )\n",
    "                legendUp= True\n",
    "            else:\n",
    "                ax.fill_betweenx(\n",
    "                    y=np.arange(-2, 4),\n",
    "                    x1=tap_ind[0], x2=tap_ind[2],\n",
    "                    alpha=.2,\n",
    "                )\n",
    "        \n",
    "    elif phase == 'pause2':\n",
    "        if np.diff([epoch1[i], epoch1[i + 1]]) < np.min(epoch1) * .05:\n",
    "            phase='accDown1'  # start of down\n",
    "            tap_ind[3] = i\n",
    "            # print('down started', i)\n",
    "        \n",
    "    elif phase == 'accDown1':\n",
    "        if states[i] == -1:  # neg peak\n",
    "            phase = 'accDown2'\n",
    "            # print('neg down acc peak', i)\n",
    "    \n",
    "    elif phase == 'accDown2':\n",
    "        if epoch1[i] > 0:  # end of acc down\n",
    "            tap_ind[4] = i  # fastest point Down\n",
    "            phase = 'decDown1'\n",
    "            # if zero-crossing is some point as impact peak\n",
    "            if np.logical_or(states[i] == 4, states[i] == 2):\n",
    "                phase = 'closingTap'\n",
    "\n",
    "\n",
    "\n",
    "     \n",
    "ax.axhline(0, color='gray', alpha=.5)       \n",
    "x1=2700\n",
    "x2=3500\n",
    "ax.legend(frameon=False)\n",
    "ax.set_xlim(x1, x2)\n",
    "ax.set_ylabel('Acc (m/s/s)')\n",
    "ax.set_xlabel('Time (samples, 250 Hz)')\n",
    "for s in ['right', 'top']:\n",
    "    ax.spines[s].set_visible(False)\n",
    "\n",
    "fname = f'Perc_fingerTap_Test_i{x1}_{x2}'\n",
    "# plt.savefig(\n",
    "#     os.path.join(temp_save, 'ACC', 'fingertapping', fname),\n",
    "#     dpi=150, facecolor='w',\n",
    "#     )\n",
    "plt.close()\n",
    "# plt.show()\n",
    "\n",
    "'''\n",
    "POTENTIAL PARAMETERS:\n",
    "Impact moment: artefact\n",
    "Fastest moment UP: crossing zero-line between first green peak after artefact and yellow through \n",
    "Fastest moment DOWN: crossing zero-line between last yellow trough and artefact\n",
    "\n",
    "Full tap: start after artefact: green peak -> two good yellow troughs -> green peak or artefact\n",
    "\n",
    "'''\n"
   ]
  },
  {
   "cell_type": "code",
   "execution_count": 628,
   "metadata": {},
   "outputs": [
    {
     "data": {
      "text/plain": [
       "False"
      ]
     },
     "execution_count": 628,
     "metadata": {},
     "output_type": "execute_result"
    },
    {
     "data": {
      "image/png": "[encoded data removed]",
      "text/plain": [
       "<Figure size 432x288 with 1 Axes>"
      ]
     },
     "metadata": {
      "needs_background": "light"
     },
     "output_type": "display_data"
    }
   ],
   "source": [
    "plt.plot(epoch1[3950:4050])\n",
    "plt.scatter(28, epoch1[3978])\n",
    "np.diff(epoch1[3956:3958])[0] > np.max(epoch1) * .05"
   ]
  },
  {
   "cell_type": "markdown",
   "metadata": {},
   "source": [
    "### 1. Patient-Run Definition and Data Loading"
   ]
  },
  {
   "cell_type": "markdown",
   "metadata": {},
   "source": [
    "#### Print available runs for subject and settings-version"
   ]
  },
  {
   "cell_type": "code",
   "execution_count": 10,
   "metadata": {},
   "outputs": [
    {
     "name": "stdout",
     "output_type": "stream",
     "text": [
      "\n",
      "### SHOW RUNS ###\n",
      "For subject 008, in preproc-version v2.0_Mar22 are available:\n",
      "\n",
      "LFP_LEFT:\n",
      "['008', 'EcogLfpMedOn02', 'Rest', 'StimOffDopa00']\n",
      "['008', 'EcogLfpMedOn02', 'SelfpacedHandTapL', 'StimOffDopa60']\n",
      "['008', 'EcogLfpMedOn02', 'Rest', 'StimOffDopa10']\n",
      "['008', 'EcogLfpMedOn02', 'Rest', 'StimOffDopa30']\n",
      "['008', 'EcogLfpMedOn02', 'SelfpacedHandTapL', 'StimOffDopa35']\n",
      "['008', 'EcogLfpMedOn02', 'Rest', 'StimOffDopa50']\n",
      "['008', 'EcogLfpMedOn02', 'SelfpacedHandTapL', 'StimOffDopa15']\n",
      "['008', 'EcogLfpMedOn02', 'Free', 'StimOffDopa55']\n",
      "['008', 'EcogLfpMedOn02', 'Free', 'StimOffDopa20']\n",
      "\n",
      "LFP_RIGHT:\n",
      "['008', 'EcogLfpMedOn02', 'Rest', 'StimOffDopa30']\n",
      "['008', 'EcogLfpMedOn02', 'SelfpacedHandTapL', 'StimOffDopa35']\n",
      "['008', 'EcogLfpMedOn02', 'Rest', 'StimOffDopa00']\n",
      "['008', 'EcogLfpMedOn02', 'Free', 'StimOffDopa55']\n",
      "['008', 'EcogLfpMedOn02', 'Free', 'StimOffDopa20']\n",
      "['008', 'EcogLfpMedOn02', 'SelfpacedHandTapL', 'StimOffDopa60']\n",
      "['008', 'EcogLfpMedOn02', 'SelfpacedHandTapL', 'StimOffDopa15']\n",
      "['008', 'EcogLfpMedOn02', 'Rest', 'StimOffDopa10']\n",
      "['008', 'EcogLfpMedOn02', 'Rest', 'StimOffDopa50']\n",
      "\n",
      "ECOG:\n",
      "['008', 'EcogLfpMedOn02', 'SelfpacedHandTapL', 'StimOffDopa35']\n",
      "['008', 'EcogLfpMedOn02', 'Rest', 'StimOffDopa10']\n",
      "['008', 'EcogLfpMedOn02', 'SelfpacedHandTapL', 'StimOffDopa60']\n",
      "['008', 'EcogLfpMedOn02', 'Free', 'StimOffDopa55']\n",
      "['008', 'EcogLfpMedOn02', 'Rest', 'StimOffDopa30']\n",
      "['008', 'EcogLfpMedOn02', 'SelfpacedHandTapL', 'StimOffDopa15']\n",
      "['008', 'EcogLfpMedOn02', 'Rest', 'StimOffDopa00']\n",
      "['008', 'EcogLfpMedOn02', 'Free', 'StimOffDopa20']\n",
      "['008', 'EcogLfpMedOn02', 'Rest', 'StimOffDopa50']\n",
      "\n",
      "ACC_LEFT:\n",
      "['008', 'EcogLfpMedOn02', 'Free', 'StimOffDopa55']\n",
      "['008', 'EcogLfpMedOn02', 'Free', 'StimOffDopa20']\n",
      "['008', 'EcogLfpMedOn02', 'Rest', 'StimOffDopa30']\n",
      "['008', 'EcogLfpMedOn02', 'Rest', 'StimOffDopa10']\n",
      "['008', 'EcogLfpMedOn02', 'SelfpacedHandTapL', 'StimOffDopa60']\n",
      "['008', 'EcogLfpMedOn02', 'Rest', 'StimOffDopa00']\n",
      "['008', 'EcogLfpMedOn02', 'SelfpacedHandTapL', 'StimOffDopa15']\n",
      "['008', 'EcogLfpMedOn02', 'Rest', 'StimOffDopa50']\n",
      "['008', 'EcogLfpMedOn02', 'SelfpacedHandTapL', 'StimOffDopa35']\n",
      "\n",
      "ACC_RIGHT:\n",
      "['008', 'EcogLfpMedOn02', 'SelfpacedHandTapL', 'StimOffDopa35']\n",
      "['008', 'EcogLfpMedOn02', 'Rest', 'StimOffDopa00']\n",
      "['008', 'EcogLfpMedOn02', 'Rest', 'StimOffDopa30']\n",
      "['008', 'EcogLfpMedOn02', 'Rest', 'StimOffDopa10']\n",
      "['008', 'EcogLfpMedOn02', 'Rest', 'StimOffDopa50']\n",
      "['008', 'EcogLfpMedOn02', 'Free', 'StimOffDopa55']\n",
      "['008', 'EcogLfpMedOn02', 'Free', 'StimOffDopa20']\n",
      "['008', 'EcogLfpMedOn02', 'SelfpacedHandTapL', 'StimOffDopa60']\n",
      "['008', 'EcogLfpMedOn02', 'SelfpacedHandTapL', 'StimOffDopa15']\n",
      "\n"
     ]
    }
   ],
   "source": [
    "# Explore available preprocessed runs\n",
    "sub='008'\n",
    "version='v2.0_Mar22'\n",
    "\n",
    "importlib.reload(read_data)\n",
    "read_data.show_runs(\n",
    "    sub=sub,\n",
    "    version=version,\n",
    "    project_path=projectpath,\n",
    ")"
   ]
  },
  {
   "cell_type": "markdown",
   "metadata": {},
   "source": [
    "#### Select and Load in runs to explore\n",
    "\n",
    "\n",
    "Not defining task, acquisition or group results in selecting all available options"
   ]
  },
  {
   "cell_type": "code",
   "execution_count": 11,
   "metadata": {},
   "outputs": [
    {
     "name": "stdout",
     "output_type": "stream",
     "text": [
      "['008_EcogLfpMedOn02_Rest_StimOffDopa00_1_v2.0_MAR22_LFP_LEFT_PREPROC_data.npy', '008_EcogLfpMedOn02_SelfpacedHandTapL_StimOffDopa60_1_v2.0_MAR22_LFP_LEFT_PREPROC_data.npy', '008_EcogLfpMedOn02_Rest_StimOffDopa30_1_v2.0_MAR22_LFP_RIGHT_PREPROC_data.npy', '008_EcogLfpMedOn02_SelfpacedHandTapL_StimOffDopa35_1_v2.0_MAR22_ECOG_PREPROC_data.npy', '008_EcogLfpMedOn02_Rest_StimOffDopa10_1_v2.0_MAR22_LFP_LEFT_PREPROC_data.npy', '008_EcogLfpMedOn02_SelfpacedHandTapL_StimOffDopa35_1_v2.0_MAR22_ACC_RIGHT_PREPROC_data.npy', '008_EcogLfpMedOn02_Rest_StimOffDopa30_1_v2.0_MAR22_LFP_LEFT_PREPROC_data.npy', '008_EcogLfpMedOn02_Rest_StimOffDopa00_1_v2.0_MAR22_ACC_RIGHT_PREPROC_data.npy', '008_EcogLfpMedOn02_Rest_StimOffDopa10_1_v2.0_MAR22_ECOG_PREPROC_data.npy', '008_EcogLfpMedOn02_SelfpacedHandTapL_StimOffDopa35_1_v2.0_MAR22_LFP_LEFT_PREPROC_data.npy', '008_EcogLfpMedOn02_Rest_StimOffDopa30_1_v2.0_MAR22_ACC_RIGHT_PREPROC_data.npy', '008_EcogLfpMedOn02_Rest_StimOffDopa50_1_v2.0_MAR22_LFP_LEFT_PREPROC_data.npy', '008_EcogLfpMedOn02_SelfpacedHandTapL_StimOffDopa35_1_v2.0_MAR22_LFP_RIGHT_PREPROC_data.npy', '008_EcogLfpMedOn02_SelfpacedHandTapL_StimOffDopa15_1_v2.0_MAR22_LFP_LEFT_PREPROC_data.npy', '008_EcogLfpMedOn02_Rest_StimOffDopa00_1_v2.0_MAR22_LFP_RIGHT_PREPROC_data.npy', '008_EcogLfpMedOn02_SelfpacedHandTapL_StimOffDopa60_1_v2.0_MAR22_ECOG_PREPROC_data.npy', '008_EcogLfpMedOn02_Rest_StimOffDopa10_1_v2.0_MAR22_ACC_RIGHT_PREPROC_data.npy', '008_EcogLfpMedOn02_Rest_StimOffDopa30_1_v2.0_MAR22_ACC_LEFT_PREPROC_data.npy', '008_EcogLfpMedOn02_Rest_StimOffDopa30_1_v2.0_MAR22_ECOG_PREPROC_data.npy', '008_EcogLfpMedOn02_Rest_StimOffDopa50_1_v2.0_MAR22_ACC_RIGHT_PREPROC_data.npy', '008_EcogLfpMedOn02_Rest_StimOffDopa10_1_v2.0_MAR22_ACC_LEFT_PREPROC_data.npy', '008_EcogLfpMedOn02_SelfpacedHandTapL_StimOffDopa60_1_v2.0_MAR22_LFP_RIGHT_PREPROC_data.npy', '008_EcogLfpMedOn02_SelfpacedHandTapL_StimOffDopa15_1_v2.0_MAR22_ECOG_PREPROC_data.npy', '008_EcogLfpMedOn02_SelfpacedHandTapL_StimOffDopa60_1_v2.0_MAR22_ACC_LEFT_PREPROC_data.npy', '008_EcogLfpMedOn02_Rest_StimOffDopa00_1_v2.0_MAR22_ECOG_PREPROC_data.npy', '008_EcogLfpMedOn02_Rest_StimOffDopa00_1_v2.0_MAR22_ACC_LEFT_PREPROC_data.npy', '008_EcogLfpMedOn02_SelfpacedHandTapL_StimOffDopa15_1_v2.0_MAR22_LFP_RIGHT_PREPROC_data.npy', '008_EcogLfpMedOn02_SelfpacedHandTapL_StimOffDopa15_1_v2.0_MAR22_ACC_LEFT_PREPROC_data.npy', '008_EcogLfpMedOn02_Rest_StimOffDopa10_1_v2.0_MAR22_LFP_RIGHT_PREPROC_data.npy', '008_EcogLfpMedOn02_Rest_StimOffDopa50_1_v2.0_MAR22_LFP_RIGHT_PREPROC_data.npy', '008_EcogLfpMedOn02_Rest_StimOffDopa50_1_v2.0_MAR22_ECOG_PREPROC_data.npy', '008_EcogLfpMedOn02_Rest_StimOffDopa50_1_v2.0_MAR22_ACC_LEFT_PREPROC_data.npy', '008_EcogLfpMedOn02_SelfpacedHandTapL_StimOffDopa60_1_v2.0_MAR22_ACC_RIGHT_PREPROC_data.npy', '008_EcogLfpMedOn02_SelfpacedHandTapL_StimOffDopa15_1_v2.0_MAR22_ACC_RIGHT_PREPROC_data.npy', '008_EcogLfpMedOn02_SelfpacedHandTapL_StimOffDopa35_1_v2.0_MAR22_ACC_LEFT_PREPROC_data.npy']\n"
     ]
    }
   ],
   "source": [
    "# Select runs to explore/ ft-extract\n",
    "importlib.reload(read_data)\n",
    "fsel, groups, fdir = read_data.select_runs(\n",
    "    sub=sub,\n",
    "    version=version,\n",
    "    project_path=projectpath,\n",
    "    sess_incl=['EcogLfpMedOn02'],\n",
    "    tasks_incl=['SelfpacedHandTapL', 'Rest'],\n",
    "    # acqs_incl=[\n",
    "    # #     'StimOffDopa00',\n",
    "    #     'StimOffDopa15',\n",
    "    #     # 'StimOffDopa35',\n",
    "    # #     'StimOffDopa50',\n",
    "    # ],\n",
    "    # groups_incl=['LFP_RIGHT', 'LFP_LEFT', 'ECOG'],  # if not given, all groups are included\n",
    ")\n",
    "# print and check selected runs\n",
    "print(fsel)"
   ]
  },
  {
   "cell_type": "code",
   "execution_count": 12,
   "metadata": {},
   "outputs": [],
   "source": [
    "# Create dataclass per session\n",
    "# session-dataclass wil contain dict with dataclasses containing\n",
    "# data per run\n",
    "importlib.reload(read_data)\n",
    "SUB08 = read_data.SessionData(fsel, fdir)\n"
   ]
  },
  {
   "cell_type": "code",
   "execution_count": null,
   "metadata": {},
   "outputs": [],
   "source": [
    "'''\n",
    "PM: CREATE CLASS WITH WINDOWED FEATURES (EVERY 0.5 / 1 SEC, WITH 50% OVERLAP)\n",
    "\n",
    "- WINDOWING BASED ON CURRENT SAMPLE-FREQ OF DATATYPE\n",
    "- IN FT EXTRACTION PROCESS: ADDITIONAL FILTERING BEFORE WINDOWING!\n",
    "- ADD CLASS WITH VIDEO-BASED EVENT RECOGNITION\n",
    "    - dysk occurence:\n",
    "        - coded for bodypart\n",
    "        - coded for severity?\n",
    "    - normal movement?\n",
    "'''"
   ]
  },
  {
   "cell_type": "markdown",
   "metadata": {},
   "source": [
    "#### Manual Video-Movement Annotation"
   ]
  },
  {
   "cell_type": "code",
   "execution_count": 37,
   "metadata": {},
   "outputs": [],
   "source": [
    "# annotate observed taps in video, integers are seconds\n",
    "# from video start\n",
    "# CAVE: orignal Video-starttime is hour in front\n",
    "# values here are corrected one hour backwards (12->11)\n",
    "# Still the video-time seems to be +/- 3 minutes behind\n",
    "# the acc-neurophys-time\n",
    "taptimes_video = {\n",
    "    'SelfpacedHandTapL_StimOffDopa15': {\n",
    "        'left': [\n",
    "            1154, 1160, 1164, 1169, 1174, 1180, 1185,\n",
    "            1191, 1195, 1201, 1207, 1226, 1238, 1243,\n",
    "            1248, 1253\n",
    "        ],\n",
    "        'right':[\n",
    "            1260, 1264, 1270, 1275, 1281, 1290, 1298,\n",
    "            1303, 1308, 1313, 1320, 1324, 1332, 1339,\n",
    "            1345\n",
    "        ],\n",
    "        'starttime': '2021-11-15 11:29' \n",
    "        # original 11:26 but corrected for mismatching times\n",
    "    },\n",
    "    'SelfpacedHandTapL_StimOffDopa35': {\n",
    "        'left': [\n",
    "            878, 883, 888, 893, 898, 903, 908, 915,\n",
    "            919, 926, 933, 946, 951, 957, 963, 970,\n",
    "            976, 984\n",
    "        ],\n",
    "        'right':[\n",
    "            1000, 1006, 1011, 1017, 1024, 1028, 1035,\n",
    "            1041, 1054, 1060, 1081, 1089, 1097, 1103,\n",
    "            1108\n",
    "        ],\n",
    "        'starttime': '2021-11-15 11:51:01'\n",
    "        # original 11:48 but corrected for mismatching times\n",
    "    },\n",
    "    'SelfpacedHandTapL_StimOffDopa60': {\n",
    "        'left': [\n",
    "            641, 647, 652, 657, 662, 666, 671, 676,\n",
    "            682, 686, 692, 697, 703, 708, 713, 719,\n",
    "        ],\n",
    "        'right':[\n",
    "            726, 730, 734, 740, 746, 751, 756, 761,\n",
    "            768, 773, 779, 784, 792, 797, 801\n",
    "        ],\n",
    "        'starttime': '2021-11-15 12:22:59'  # video S1290007\n",
    "        # original 12:20 but corrected for mismatching times\n",
    "    }\n",
    "}\n",
    "# add timedelta in seconds to start-time of video\n",
    "# CAVE videostarttime is on MINUTE-RESOLUTION\n",
    "# thus will be SECONDS OF FROM ACC-TIMESTAMP\n",
    "for run in taptimes_video:\n",
    "    starttime = pd.Timestamp(taptimes_video[run]['starttime'])\n",
    "    for side in ['left', 'right']:\n",
    "        taptimes_video[run][f'{side}_stamps'] = []\n",
    "        for sec in taptimes_video[run][side]:\n",
    "            delta = pd.Timedelta(sec, 'sec')\n",
    "            taptimes_video[run][f'{side}_stamps'].append(\n",
    "                starttime + delta)\n",
    "\n",
    "# Save annotation dict\n",
    "# deriv_dir = os.path.join(\n",
    "#     projectpath, 'data', 'analysis_derivatives', 'sub-008', 'taps'\n",
    "# )\n",
    "# dict_name = f'008_video_ann_tapruns'\n",
    "# np.save(os.path.join(deriv_dir, dict_name),\n",
    "#         taptimes_video)\n",
    "\n",
    "# # Load annotation dict\n",
    "# video_taps = np.load(os.path.join(deriv_dir, f'{dict_name}.npy'),\n",
    "#                      allow_pickle=True).item()\n"
   ]
  },
  {
   "cell_type": "markdown",
   "metadata": {},
   "source": [
    "#### Automated Acc-based Tap detection incl. plotting"
   ]
  },
  {
   "cell_type": "code",
   "execution_count": 13,
   "metadata": {},
   "outputs": [
    {
     "data": {
      "text/plain": [
       "['Rest_StimOffDopa00',\n",
       " 'SelfpacedHandTapL_StimOffDopa60',\n",
       " 'Rest_StimOffDopa30',\n",
       " 'SelfpacedHandTapL_StimOffDopa35',\n",
       " 'Rest_StimOffDopa10',\n",
       " 'Rest_StimOffDopa50',\n",
       " 'SelfpacedHandTapL_StimOffDopa15']"
      ]
     },
     "execution_count": 13,
     "metadata": {},
     "output_type": "execute_result"
    }
   ],
   "source": [
    "SUB08.runs_incl"
   ]
  },
  {
   "cell_type": "code",
   "execution_count": 15,
   "metadata": {},
   "outputs": [
    {
     "data": {
      "text/plain": [
       "<module 'lfpecog_features.handTap_detect2' from '/Users/jeroenhabets/Research/CHARITE/projects/dyskinesia_neurophys/code/lfpecog_features/handTap_detect2.py'>"
      ]
     },
     "execution_count": 15,
     "metadata": {},
     "output_type": "execute_result"
    }
   ],
   "source": [
    "importlib.reload(handTap_detect)\n",
    "importlib.reload(handTap_detect2)\n"
   ]
  },
  {
   "cell_type": "code",
   "execution_count": 23,
   "metadata": {},
   "outputs": [
    {
     "name": "stdout",
     "output_type": "stream",
     "text": [
      "max variation (2) and RMS (0) are not in same axis\n",
      "1\n"
     ]
    }
   ],
   "source": [
    "maxVar = np.argmax(stats.variation(SUB08.runs['SelfpacedHandTapL_StimOffDopa60'].acc_right_arr[:, :].T))\n",
    "maxRMS = np.argmax(sum((SUB08.runs['SelfpacedHandTapL_StimOffDopa60'].acc_right_arr[:, :].T) ** 2))\n",
    "if maxVar == maxRMS:\n",
    "    mainAxis = maxVar\n",
    "else:\n",
    "    print(f'max variation ({maxVar}) and RMS ({maxRMS}) are not in same axis')\n",
    "\n",
    "print(mainAxis)"
   ]
  },
  {
   "cell_type": "code",
   "execution_count": 54,
   "metadata": {},
   "outputs": [
    {
     "data": {
      "text/plain": [
       "['Rest_StimOffDopa00',\n",
       " 'SelfpacedHandTapL_StimOffDopa60',\n",
       " 'Rest_StimOffDopa30',\n",
       " 'SelfpacedHandTapL_StimOffDopa35',\n",
       " 'Rest_StimOffDopa10',\n",
       " 'Rest_StimOffDopa50',\n",
       " 'SelfpacedHandTapL_StimOffDopa15']"
      ]
     },
     "execution_count": 54,
     "metadata": {},
     "output_type": "execute_result"
    }
   ],
   "source": [
    "SUB08.runs_incl"
   ]
  },
  {
   "cell_type": "code",
   "execution_count": 228,
   "metadata": {},
   "outputs": [
    {
     "data": {
      "text/plain": [
       "1"
      ]
     },
     "execution_count": 228,
     "metadata": {},
     "output_type": "execute_result"
    }
   ],
   "source": [
    "np.argmax([stats.variation(d) for d in [xEpoch, yEpoch, zEpoch]])"
   ]
  },
  {
   "cell_type": "code",
   "execution_count": 221,
   "metadata": {},
   "outputs": [
    {
     "data": {
      "text/plain": [
       "array([0.00000e+00, 5.00000e-03, 1.00000e-02, ..., 1.96340e+02,\n",
       "       1.96345e+02, 1.96350e+02])"
      ]
     },
     "execution_count": 221,
     "metadata": {},
     "output_type": "execute_result"
    }
   ],
   "source": [
    "# for run in runs:\n",
    "tapDetector(\n",
    "    fs = SUB08.runs[run].acc_left_Fs,\n",
    "    x = SUB08.runs[run].acc_right_arr[1, :],\n",
    "    y = SUB08.runs[run].acc_right_arr[2, :],\n",
    "    z = SUB08.runs[run].acc_right_arr[3, :],\n",
    ")"
   ]
  },
  {
   "cell_type": "code",
   "execution_count": 220,
   "metadata": {},
   "outputs": [
    {
     "name": "stdout",
     "output_type": "stream",
     "text": [
      "start Rest_StimOffDopa00\n",
      "\n",
      "Chosen Axis is ACC_R_Y\n",
      "LFP_L_0_1\n",
      "LFP_L_1_2\n",
      "LFP_L_2_3\n",
      "LFP_L_3_4\n",
      "ECOG_L_1\n",
      "ECOG_L_2\n",
      "ECOG_L_3\n",
      "ECOG_L_4\n",
      "ECOG_L_5\n",
      "ECOG_L_6\n",
      "LFP_R_0_1\n",
      "LFP_R_1_2\n",
      "LFP_R_2_3\n",
      "LFP_R_3_4\n",
      "LFP_R_4_5\n",
      "start SelfpacedHandTapL_StimOffDopa60\n",
      "\n",
      "Chosen Axis is ACC_R_Y\n",
      "LFP_L_0_1\n",
      "LFP_L_1_2\n",
      "LFP_L_2_3\n",
      "LFP_L_3_4\n",
      "ECOG_L_1\n",
      "ECOG_L_2\n",
      "ECOG_L_3\n",
      "ECOG_L_4\n",
      "ECOG_L_5\n",
      "ECOG_L_6\n",
      "LFP_R_0_1\n",
      "LFP_R_1_2\n",
      "LFP_R_2_3\n",
      "LFP_R_3_4\n",
      "LFP_R_4_5\n",
      "start Rest_StimOffDopa30\n",
      "\n",
      "Chosen Axis is ACC_R_Y\n",
      "LFP_L_0_1\n",
      "LFP_L_1_2\n",
      "LFP_L_2_3\n",
      "LFP_L_3_4\n",
      "ECOG_L_1\n",
      "ECOG_L_2\n",
      "ECOG_L_3\n",
      "ECOG_L_4\n",
      "ECOG_L_5\n",
      "ECOG_L_6\n",
      "LFP_R_0_1\n",
      "LFP_R_1_2\n",
      "LFP_R_2_3\n",
      "LFP_R_3_4\n",
      "LFP_R_4_5\n",
      "start SelfpacedHandTapL_StimOffDopa35\n",
      "\n",
      "Chosen Axis is ACC_R_Y\n",
      "LFP_L_0_1\n",
      "LFP_L_1_2\n",
      "LFP_L_2_3\n",
      "LFP_L_3_4\n",
      "ECOG_L_1\n",
      "ECOG_L_2\n",
      "ECOG_L_3\n",
      "ECOG_L_4\n",
      "ECOG_L_5\n",
      "ECOG_L_6\n",
      "LFP_R_0_1\n",
      "LFP_R_1_2\n",
      "LFP_R_2_3\n",
      "LFP_R_3_4\n",
      "LFP_R_4_5\n",
      "start Rest_StimOffDopa10\n",
      "Axis with most Variance does not have most RMS\n",
      "\n",
      "Chosen Axis is ACC_R_Z\n",
      "LFP_L_0_1\n",
      "LFP_L_1_2\n",
      "LFP_L_2_3\n",
      "LFP_L_3_4\n",
      "ECOG_L_1\n",
      "ECOG_L_2\n",
      "ECOG_L_3\n",
      "ECOG_L_4\n",
      "ECOG_L_5\n",
      "ECOG_L_6\n",
      "LFP_R_0_1\n",
      "LFP_R_1_2\n",
      "LFP_R_2_3\n",
      "LFP_R_3_4\n",
      "LFP_R_4_5\n",
      "start Rest_StimOffDopa50\n",
      "Axis with most Variance does not have most RMS\n",
      "\n",
      "Chosen Axis is ACC_R_Y\n",
      "LFP_L_0_1\n",
      "LFP_L_1_2\n",
      "LFP_L_2_3\n",
      "LFP_L_3_4\n",
      "ECOG_L_1\n",
      "ECOG_L_2\n",
      "ECOG_L_3\n",
      "ECOG_L_4\n",
      "ECOG_L_5\n",
      "ECOG_L_6\n",
      "LFP_R_0_1\n",
      "LFP_R_1_2\n",
      "LFP_R_2_3\n",
      "LFP_R_3_4\n",
      "LFP_R_4_5\n",
      "start SelfpacedHandTapL_StimOffDopa15\n",
      "\n",
      "Chosen Axis is ACC_R_Y\n",
      "LFP_L_0_1\n",
      "LFP_L_1_2\n",
      "LFP_L_2_3\n",
      "LFP_L_3_4\n",
      "ECOG_L_1\n",
      "ECOG_L_2\n",
      "ECOG_L_3\n",
      "ECOG_L_4\n",
      "ECOG_L_5\n",
      "ECOG_L_6\n",
      "LFP_R_2_3\n",
      "LFP_R_3_4\n",
      "LFP_R_4_5\n"
     ]
    }
   ],
   "source": [
    "### FINGERTAP DETECTOR\n",
    "\n",
    "### INCLUDE BILATERALITY FOR ACCELEROMETER\n",
    "# run = 'SelfpacedHandTapL_StimOffDopa60'\n",
    "\n",
    "to_plot = False\n",
    "to_save = False\n",
    "\n",
    "for run in SUB08.runs_incl:\n",
    "    # if run[-2:] in ['00',]: continue\n",
    "    print(f'start {run}')\n",
    "    fs = SUB08.runs[run].acc_left_Fs\n",
    "    timeStamps = SUB08.runs[run].acc_right_arr[0, :]\n",
    "    xEpoch = SUB08.runs[run].acc_right_arr[1, :]\n",
    "    yEpoch = SUB08.runs[run].acc_right_arr[2, :]\n",
    "    zEpoch = SUB08.runs[run].acc_right_arr[3, :]\n",
    "\n",
    "    # Determine axis of interest (most up-down movement)\n",
    "    maxVar = np.argmax(stats.variation(SUB08.runs[run].acc_right_arr[1:, :].T))\n",
    "    maxRMS = np.argmax(sum((SUB08.runs[run].acc_right_arr[1:, :].T) ** 2))\n",
    "    mainAxis = maxVar\n",
    "    if maxVar != maxRMS: print('Axis with most Variance does not have most RMS')\n",
    "    nameAx = SUB08.runs[run].acc_right_names[mainAxis + 1]\n",
    "    print(f'\\nChosen Axis is {nameAx}')\n",
    "    # couple acc-axis to use to mainAxis\n",
    "\n",
    "    # Peak detections\n",
    "    smallPos = signal.find_peaks(\n",
    "        yEpoch,\n",
    "        height=(np.max(yEpoch) * .1, np.max(yEpoch) * .6),  # first value is min, second is max\n",
    "        distance=fs * .2,  # 1 s\n",
    "        prominence=np.max(yEpoch) * .1,\n",
    "        wlen=fs * .5,\n",
    "\n",
    "    )\n",
    "    largePos = signal.find_peaks(\n",
    "        yEpoch,\n",
    "        height=np.max(yEpoch) * .5,\n",
    "        distance=fs,  # 1 s\n",
    "    )\n",
    "    smallNeg = signal.find_peaks(\n",
    "        -1 * yEpoch,\n",
    "        height=(-.5e-7, abs(np.min(yEpoch)) * .4),  # was: (abs(np.min(yEpoch)) * .05, abs(np min(yEpoch)) * .4)\n",
    "        distance=fs * 0.2,  # 10 ms\n",
    "        prominence=abs(np.min(yEpoch)) * .05,\n",
    "        # wlen=40,\n",
    "    )\n",
    "    largeNeg = signal.find_peaks(\n",
    "        -1 * yEpoch,\n",
    "        height=abs(np.min(yEpoch)) * .4,  # first value is min, second is max\n",
    "        distance=fs * .5,  # 10 ms\n",
    "        # prominence=np.min(yEpoch) * .1,\n",
    "        # wlen=40,\n",
    "    )\n",
    "\n",
    "    # handTap timing detect\n",
    "    posThr = .5e-7  # adjust to person or tasks??!!\n",
    "    negThr = -.5e-7\n",
    "    tapTimes = []  # list to store timeStamps of tap\n",
    "    moveTimes = []  # alternative list for movements\n",
    "    restTimes = []  # list to sore rest-timestamps\n",
    "    tapi = []  # list to store indices of tap\n",
    "    movei = []  # list to store indices of other move\n",
    "    resti = []  # list to store indices of rest\n",
    "    resttemp = []  # list to temporarily collect rest-indices\n",
    "    tempi = []  # for during detection process\n",
    "    state = 'lowRest'\n",
    "    for n, y in enumerate(yEpoch):\n",
    "\n",
    "        if state == 'otherMov':\n",
    "            if np.logical_and(\n",
    "                y > posThr,\n",
    "                any([Y in smallPos[0] for Y in range(n, n + int(fs * .2))])\n",
    "            ):  # from other Movement into tap-begin\n",
    "                tempi = []  # start new index list\n",
    "                state='upAcc1'\n",
    "                tempi.append(n)  # START TIME Tap-UP\n",
    "                continue\n",
    "\n",
    "            try:\n",
    "                next10 = sum([negThr < Y < posThr for Y in yEpoch[range(\n",
    "                    n, n + int(fs * .2)\n",
    "                )]])\n",
    "                if next10 > (fs * .2) * .8:  # if 8 out of next-10 y-values are inactive\n",
    "                    tempi.append(n)  # END of OTHER MOVE\n",
    "                    if (tempi[-1] - tempi[0]) > fs * .1:\n",
    "                        movei.append(tempi)\n",
    "                    tempi = []\n",
    "                    state = 'lowRest'\n",
    "            except IndexError:\n",
    "                # print('end of timeseries')\n",
    "                continue\n",
    "\n",
    "        elif state == 'lowRest':\n",
    "            if np.logical_and(\n",
    "                y > posThr,\n",
    "                any([Y in smallPos[0] for Y in range(n, n + int(fs * .2))])\n",
    "            ):\n",
    "\n",
    "                if resttemp:  # close and store active rest period\n",
    "                    resttemp.append(n)  # Add second and last rest-ind\n",
    "                    if (resttemp[1] - resttemp[0]) > fs:  # if rest > 1 sec\n",
    "                        resti.append(resttemp)  # add finished rest-indices\n",
    "                    resttemp = []  # reset resttemp list\n",
    "                \n",
    "                state='upAcc1'\n",
    "                tempi.append(n)  # START TIME Tap-UP\n",
    "\n",
    "            elif np.logical_or(\n",
    "                    np.logical_or(n in smallPos[0], n in smallNeg[0]),\n",
    "                    ~ (negThr < y < posThr)\n",
    "            ):\n",
    "\n",
    "                if resttemp:  # close and store active rest period\n",
    "                    resttemp.append(n)  # Add second and last rest-ind\n",
    "                    if (resttemp[1] - resttemp[0]) > fs:  # if rest > 1 sec\n",
    "                        resti.append(resttemp)  # add finished rest-indices\n",
    "                    resttemp = []  # reset resttemp list\n",
    "\n",
    "                state = 'otherMov'\n",
    "                tempi.append(n)  # START TIME Othermovement\n",
    "            \n",
    "            else:  # lowRest stays lowRest\n",
    "                if not resttemp:  # if rest-temp list is empty\n",
    "                    resttemp.append(n)  # start of rest period\n",
    "                \n",
    "        elif state == 'upAcc1':\n",
    "            if n in smallPos[0]:\n",
    "                state='upAcc2'  # after acc-peak, movement still accelerating\n",
    "                # print('peakpos1', n)\n",
    "        elif state == 'upAcc2':\n",
    "            if y < 0:   #negThr < y < posThr:\n",
    "                state='upDec1'\n",
    "        elif state=='upDec1':\n",
    "            if n - tempi[0] > (fs * 2):  # if movement-up takes > 2 sec\n",
    "                state = 'otherMov'  # reset to start-state\n",
    "                movei.append(tempi)  # was untoggled?\n",
    "                tempi = []  # was untoggled?\n",
    "            elif n in smallNeg[0]:\n",
    "                state='upDec2'\n",
    "                # print('peakneg1', n)\n",
    "        elif state == 'upDec2':\n",
    "            if y > 0:  #negThr < y < posThr:\n",
    "                state='highRest'\n",
    "                tempi.append(n)  # end of Up\n",
    "                # print('endUP', n)\n",
    "        elif state == 'highRest':\n",
    "            if n - tempi[1] > (fs * 2):  # if highrest takes > 2 sec\n",
    "                state = 'otherMov'  # reset to start-state\n",
    "                movei.append(tempi)  # was untoggled?\n",
    "                tempi = []  # was untoggled?\n",
    "            elif np.logical_and(\n",
    "                y < negThr,\n",
    "                any([Y in largeNeg[0] for Y in range(n, n + int(fs * .2))])\n",
    "            ):\n",
    "                state='downAcc1'\n",
    "                tempi.append(n)  # start of Tap-DOWN\n",
    "\n",
    "        elif state == 'downAcc1':\n",
    "            if n in largeNeg[0]:\n",
    "                state='downAcc2'\n",
    "            elif n - tempi[2] > (fs * 2):  # if down-move takes > 2 sec\n",
    "                state = 'otherMov'  # reset to start-state\n",
    "                movei.append(tempi)  # newly added\n",
    "                tempi = []  # newly added\n",
    "\n",
    "        elif state == 'downAcc2':\n",
    "            if np.logical_or(\n",
    "                negThr < y < posThr,\n",
    "                y > posThr\n",
    "            ):\n",
    "                state='downDec1'\n",
    "            elif n - tempi[2] > (fs * 2):  # if down-move takes > 2 sec\n",
    "                state = 'otherMov'  # reset to start-state\n",
    "                movei.append(tempi)  # newly added\n",
    "                tempi = []  # newly added\n",
    "                \n",
    "        elif state=='downDec1':\n",
    "            if n in largePos[0]:\n",
    "                state='downDec2'\n",
    "            elif n - tempi[2] > (fs * 2):  # if down-move takes > 2 sec\n",
    "                state = 'otherMov'  # reset to start-state\n",
    "                movei.append(tempi)  # newly added\n",
    "                tempi = []  # newly added\n",
    "                \n",
    "        elif state == 'downDec2':\n",
    "            if negThr < y < posThr:\n",
    "                state='lowRest'\n",
    "                tempi.append(n)  # end of DOWN\n",
    "                tapi.append(tempi)\n",
    "                tempi = []\n",
    "\n",
    "    # remove otherMovements directly after tap\n",
    "    if tapi and movei:  # only when both exist\n",
    "        endTaps = [tap[-1] for tap in tapi]\n",
    "        movei_sel = []\n",
    "        for tap in movei:\n",
    "            if min([abs(tap[0] - end) for end in endTaps]) > (.25 * fs):\n",
    "                movei_sel.append(tap)\n",
    "        movei = movei_sel\n",
    "\n",
    "    # convert detected indices-lists into timestamps\n",
    "    for tap in tapi: tapTimes.append(timeStamps[tap])\n",
    "    for tap in movei: moveTimes.append(timeStamps[tap])\n",
    "    for tap in resti: restTimes.append(timeStamps[tap])\n",
    "\n",
    "    ### Saving Rest Blocks\n",
    "    for neusource in ['lfp_left', 'ecog', 'lfp_right']:\n",
    "        SelAndSave_Restblocks(\n",
    "            neu_data = getattr(SUB08.runs[run], f'{neusource}_arr'),\n",
    "            fs = getattr(SUB08.runs[run], f'{neusource}_Fs'),\n",
    "            neu_names = getattr(SUB08.runs[run], f'{neusource}_names'),\n",
    "            restTimes=restTimes,\n",
    "            runname=run[-6:], neu_ch_incl=['ECOG_L_1', 'LFP_L_3_4']\n",
    "        )\n",
    "\n",
    "    ### PLOTTING ###\n",
    "    if to_plot:\n",
    "        fig, ax = plt.subplots(1, 1, figsize=(12, 6))\n",
    "\n",
    "        ax.plot(xEpoch, label='x', alpha=.5, c='blue')\n",
    "        ax.plot(yEpoch, label='y', alpha=.8, c='green')\n",
    "        ax.plot(zEpoch, label='z', alpha=.5, c='orange')\n",
    "        # plot vertical lines at tap-moments\n",
    "        for t, tap in enumerate(tapi):\n",
    "            if t == 0:\n",
    "                ax.axvline(tap[0], c='green', ls='dotted', alpha=.5, label='start UP')\n",
    "                ax.axvline(tap[1], c='green', ls='solid', alpha=.5, label='end UP')\n",
    "                ax.axvline(tap[2], c='purple', ls='dotted', alpha=.5, label='start DOWN')\n",
    "                ax.axvline(tap[3], c='purple', ls='solid', alpha=.5, label='end DOWN')\n",
    "            else:\n",
    "                ax.axvline(tap[0], c='green', ls='dotted', alpha=.5,)\n",
    "                ax.axvline(tap[1], c='green', ls='solid', alpha=.5,)\n",
    "                ax.axvline(tap[2], c='purple', ls='dotted', alpha=.5,)\n",
    "                ax.axvline(tap[3], c='purple', ls='solid', alpha=.5,)\n",
    "\n",
    "        peaklabel = ['lowPos', 'highPos', 'lowNeg', 'highNeg']\n",
    "        peakcol = ['lightgreen', 'green', 'orange', 'r']\n",
    "        for p, peaks in enumerate([smallPos, largePos, smallNeg, largeNeg]):\n",
    "            ax.scatter(\n",
    "                peaks[0],\n",
    "                yEpoch[peaks[0]],\n",
    "                label=peaklabel[p],\n",
    "                color=peakcol[p],\n",
    "                s=50,\n",
    "            )\n",
    "        \n",
    "        for mov in movei:  # check saved otherMovements\n",
    "            ax.axvline(mov[0], color='gray', lw=1, ls='dotted')\n",
    "            ax.axvline(mov[-1], color='gray', lw=1)\n",
    "\n",
    "        # ax.axhline(-.5e-7)\n",
    "        ax.axhline(posThr)\n",
    "        ax.axhline(0, c='gray', lw=.5,)\n",
    "        # determine what to show\n",
    "        ax.set_ylim(-2.5e-6, 2.5e-6)\n",
    "        # ax.set_xlim(istart, istop)\n",
    "        ax.set_xlim(0, 30000)\n",
    "        # ax.set_xticks(np.arange(18600, 20001, 200))\n",
    "        # ax.set_xticklabels(np.arange(18600, 20001, 200) // 200)\n",
    "\n",
    "        ax.set_ylabel('Raw Acceleration (m/s/s)', size=14)\n",
    "        ax.set_xlabel('Time (s)', size=14)\n",
    "\n",
    "        ax.set_title(run)\n",
    "\n",
    "        # ax.legend(frameon=False, fontsize=14, loc='upper right')\n",
    "        ax.spines['top'].set_visible(False)\n",
    "        ax.spines['right'].set_visible(False)\n",
    "\n",
    "        # Plot Rest-moments\n",
    "        for idx in resti:\n",
    "            ax.fill_betweenx(\n",
    "                y=np.linspace(-3e-6, 3e-6, 5), x1=idx[0], x2=idx[1],\n",
    "                color='blue', alpha=.1,)\n",
    "\n",
    "        if to_save:\n",
    "            plt.savefig(\n",
    "                os.path.join(temp_save, 'ACC', f'mountFingerTap_sub08_{run[-6:]}'),\n",
    "                dpi=300, facecolor='w',\n",
    "            )\n",
    "        plt.close()\n",
    "\n",
    "        print(f'{run} finisihed')"
   ]
  },
  {
   "cell_type": "code",
   "execution_count": 231,
   "metadata": {},
   "outputs": [
    {
     "data": {
      "text/plain": [
       "[array([2.61 , 3.285]),\n",
       " array([76.12, 76.7 ]),\n",
       " array([104.665, 105.51 ]),\n",
       " array([108.38, 109.03]),\n",
       " array([112.94, 113.82]),\n",
       " array([138.12, 138.46]),\n",
       " array([140.69 , 141.625]),\n",
       " array([153.67 , 153.835]),\n",
       " array([181.02 , 181.835])]"
      ]
     },
     "execution_count": 231,
     "metadata": {},
     "output_type": "execute_result"
    }
   ],
   "source": [
    "moveTimes"
   ]
  },
  {
   "cell_type": "code",
   "execution_count": 64,
   "metadata": {},
   "outputs": [],
   "source": [
    "tempdir = ('/Users/jeroenhabets/Research/CHARITE/projects/'\n",
    "    'dyskinesia_neurophys/data/analysis_derivatives/sub-008/May03')\n"
   ]
  },
  {
   "cell_type": "code",
   "execution_count": 219,
   "metadata": {},
   "outputs": [],
   "source": [
    "def SelAndSave_Restblocks(\n",
    "    neu_data, fs, neu_names, restTimes, runname, winlen=1024,\n",
    "    neu_ch_incl=[],\n",
    "):\n",
    "    for neu_chi in np.arange(1, neu_data.shape[0]):\n",
    "        neudat = neu_data[neu_chi, :]\n",
    "        neuTimes = neu_data[0, :]\n",
    "        neu_ch = neu_names[neu_chi]  # channel name\n",
    "        print(neu_ch)\n",
    "        if neu_ch_incl:\n",
    "            if neu_ch not in neu_ch_incl: continue\n",
    "\n",
    "        tempdat = np.zeros((1, winlen))\n",
    "        rowTimes = []  # list to store times corresponding to data rows\n",
    "\n",
    "        for n, timeIdx in enumerate(restTimes[1:-1]):  # skip first and last\n",
    "            neuInd1 = np.where(neuTimes == timeIdx[0])[0][0]\n",
    "            neuInd2 = np.where(neuTimes == timeIdx[1])[0][0]\n",
    "            dat_sel = neudat[neuInd1:neuInd2]\n",
    "            n_wins = len(dat_sel) // winlen\n",
    "            dat_sel = np.reshape(\n",
    "                dat_sel[:n_wins * winlen],\n",
    "                (n_wins, winlen),\n",
    "                order='C',  # fills row after row\n",
    "            )\n",
    "            tempdat = np.vstack([tempdat, dat_sel])\n",
    "            for i in np.arange(n_wins):\n",
    "                rowTimes.append(timeIdx[0] + (i * winlen / fs))\n",
    "\n",
    "        rowTimes = np.round(rowTimes, 3)  # round .019999 values\n",
    "        tempdat = tempdat[1:, :]  # exclude first row of zeros\n",
    "\n",
    "        # saving data array\n",
    "        fname = f'{runname}_{neu_ch}_win{winlen}'\n",
    "        # np.save(os.path.join(\n",
    "        #     tempdir, 'restblocks', f'restBlocks_sub08_{fname}'), tempdat)\n",
    "        # save list of rowtimes\n",
    "        np.save(os.path.join(\n",
    "            tempdir, 'restblocks', f'restTimes_sub08_{fname}'), rowTimes)\n",
    "\n",
    "\n",
    "    # return tempdat, rowTimes"
   ]
  },
  {
   "cell_type": "code",
   "execution_count": 179,
   "metadata": {},
   "outputs": [],
   "source": [
    "import csv"
   ]
  },
  {
   "cell_type": "code",
   "execution_count": 201,
   "metadata": {},
   "outputs": [
    {
     "data": {
      "text/plain": [
       "array([[ 3,  1,  1,  1],\n",
       "       [-4,  1,  1,  1],\n",
       "       [ 1,  1,  1,  1]])"
      ]
     },
     "execution_count": 201,
     "metadata": {},
     "output_type": "execute_result"
    }
   ],
   "source": [
    "a[[1,2,0], :]"
   ]
  },
  {
   "cell_type": "code",
   "execution_count": 206,
   "metadata": {},
   "outputs": [
    {
     "data": {
      "text/plain": [
       "array([[-4,  1,  1,  1],\n",
       "       [ 1,  1,  1,  1],\n",
       "       [ 3,  1,  1,  1]])"
      ]
     },
     "execution_count": 206,
     "metadata": {},
     "output_type": "execute_result"
    }
   ],
   "source": [
    "a = np.array([\n",
    "    [1,1,1,1],\n",
    "    [3,1,1,1],\n",
    "    [-4,1,1,1],\n",
    "])\n",
    "s = np.argsort(a[:, 0], )\n",
    "a[s]"
   ]
  },
  {
   "cell_type": "code",
   "execution_count": 165,
   "metadata": {},
   "outputs": [],
   "source": [
    "neusource = 'lfp_left'\n",
    "_, _ = SelAndSave_Restblocks(\n",
    "    neu_data = getattr(SUB08.runs[run], f'{neusource}_arr'),\n",
    "    fs = getattr(SUB08.runs[run], f'{neusource}_Fs'),\n",
    "    neu_names = getattr(SUB08.runs[run], f'{neusource}_names'),\n",
    "    restTimes=restTimes,\n",
    "    runname=run[-6:],\n",
    ")"
   ]
  },
  {
   "cell_type": "code",
   "execution_count": 171,
   "metadata": {},
   "outputs": [],
   "source": [
    "f, psd = signal.welch(neudat[:1024], fs=800)"
   ]
  },
  {
   "cell_type": "code",
   "execution_count": 178,
   "metadata": {},
   "outputs": [
    {
     "data": {
      "text/plain": [
       "numpy.float64"
      ]
     },
     "execution_count": 178,
     "metadata": {},
     "output_type": "execute_result"
    }
   ],
   "source": [
    "type(neudat[10])"
   ]
  },
  {
   "cell_type": "markdown",
   "metadata": {},
   "source": [
    "### OLD HANDTAP DETECT"
   ]
  },
  {
   "cell_type": "code",
   "execution_count": 272,
   "metadata": {},
   "outputs": [
    {
     "name": "stdout",
     "output_type": "stream",
     "text": [
      "\n",
      "Start Rest_StimOffDopa00\n",
      "\n",
      "Start SelfpacedHandTapL_StimOffDopa60\n",
      "\n",
      "Start Rest_StimOffDopa30\n",
      "\n",
      "Start SelfpacedHandTapL_StimOffDopa35\n",
      "\n",
      "Start Rest_StimOffDopa10\n",
      "\n",
      "Start Rest_StimOffDopa50\n",
      "\n",
      "Start SelfpacedHandTapL_StimOffDopa15\n"
     ]
    }
   ],
   "source": [
    "importlib.reload(handTap_detect)\n",
    "# define file with manual video-annotations\n",
    "tap_ann_file = os.path.join(\n",
    "    projectpath, 'data', 'analysis_derivatives', 'sub-008',\n",
    "    'taps', '008_video_ann_tapruns.npy')\n",
    "# run function\n",
    "blocks = handTap_detect.handTapDetector(\n",
    "    SubClass=SUB08,\n",
    "    check_plots=False,\n",
    "    # check_plots=False,\n",
    "    runs_excl=[\n",
    "#         'Rest_StimOffDopa00', 'Rest_StimOffDopa30',\n",
    "#  'SelfpacedHandTapL_StimOffDopa35',\n",
    "#  'Rest_StimOffDopa10',\n",
    "#  'Rest_StimOffDopa50',\n",
    "#  'SelfpacedHandTapL_StimOffDopa15'\n",
    "    ],\n",
    "    plotdir=os.path.join(temp_save, 'ACC'),\n",
    "    plot_annot=tap_ann_file,\n",
    "    buffsec=.05,\n",
    "    TAPthr=2e-7,\n",
    "    MOVthr=1e-7,\n",
    "    savedir=os.path.join(\n",
    "        projectpath, f'data/preprocess/sub-{sub}/'\n",
    "        f'/acc/acc_taps_sub{sub}'),\n",
    ")"
   ]
  },
  {
   "cell_type": "code",
   "execution_count": 267,
   "metadata": {},
   "outputs": [
    {
     "name": "stdout",
     "output_type": "stream",
     "text": [
      "SelfpacedHandTapL_StimOffDopa15\n",
      "[130, 124, 116, 130, 110, 94, 76, 111, 76, 79, 77, 99, 87, 84, 87, 91]\n",
      "[137, 168, 116, 137, 126, 128, 95, 113, 114, 122, 118, 120, 116, 120, 92]\n",
      "SelfpacedHandTapL_StimOffDopa35\n",
      "[107, 111, 102, 82, 84, 88, 78, 99, 103, 166, 119, 60, 99, 113]\n",
      "[128, 178, 122, 97, 129, 100, 110, 116, 118, 171, 66, 101, 188, 156, 131, 123, 167]\n",
      "SelfpacedHandTapL_StimOffDopa60\n",
      "[162, 130, 116, 105, 116, 115, 109, 94, 117, 137, 114, 100, 116, 74, 112]\n",
      "[165, 165, 138, 149, 118, 139, 132, 132, 127, 123, 116, 175, 121, 146, 142]\n"
     ]
    }
   ],
   "source": [
    "for run in [\n",
    "    'SelfpacedHandTapL_StimOffDopa15',\n",
    "    'SelfpacedHandTapL_StimOffDopa35',\n",
    "    'SelfpacedHandTapL_StimOffDopa60'\n",
    "]:\n",
    "    print(run)\n",
    "    for side in ['left', 'right']:\n",
    "        print([len(blocks[run][side]['Taps'][k]) for k in\n",
    "            blocks[run][side]['Taps']])"
   ]
  },
  {
   "cell_type": "code",
   "execution_count": 177,
   "metadata": {},
   "outputs": [
    {
     "data": {
      "text/plain": [
       "array([27.775, 33.   , 35.   ])"
      ]
     },
     "execution_count": 177,
     "metadata": {},
     "output_type": "execute_result"
    }
   ],
   "source": [
    "a = np.array([5555 , 6600, 7000])\n",
    "a / 200"
   ]
  },
  {
   "cell_type": "code",
   "execution_count": 263,
   "metadata": {},
   "outputs": [],
   "source": [
    "# Plot figures to check identified acticity blocks per block\n",
    "\n",
    "blockdict = blocks\n",
    "for run in [\n",
    "    'SelfpacedHandTapL_StimOffDopa15',\n",
    "    'SelfpacedHandTapL_StimOffDopa35',\n",
    "    'SelfpacedHandTapL_StimOffDopa60'\n",
    "]:\n",
    "    nrows=20\n",
    "    thr = 5e-7\n",
    "    fig, axes = plt.subplots(nrows, 2, figsize=(16,12),\n",
    "        sharey='row',)\n",
    "    # axes = axes.flatten()\n",
    "    ls = {'left': 'solid', 'right': 'dotted'}\n",
    "    state='Taps'\n",
    "    xdiff = 100\n",
    "\n",
    "    for s, accside in enumerate(['left', 'right']):\n",
    "        runclass = SUB08.runs[run]\n",
    "        acc_svm = np.sqrt(\n",
    "            getattr(runclass, f'acc_{accside}_arr')[1, :]**2 +\n",
    "            getattr(runclass, f'acc_{accside}_arr')[2, :]**2 +\n",
    "            getattr(runclass, f'acc_{accside}_arr')[3, :]**2\n",
    "        )\n",
    "\n",
    "        for b in np.arange(nrows):\n",
    "            try:\n",
    "                acc0 = int(blockdict[run][accside][state][b][0] * 200)\n",
    "            except KeyError:\n",
    "                for sp in ['left', 'right', 'top', 'bottom']:\n",
    "                    axes[b, s].spines[sp].set_visible(False)\n",
    "                axes[b, s].set_ylabel(f'{b}', size=14)\n",
    "                axes[b, s].set_xticks([])\n",
    "                axes[b, s].set_yticks([])\n",
    "                continue\n",
    "            acc1 = int(blockdict[run][accside][state][b][-1] * 200)\n",
    "            axes[b, s].plot(acc_svm[acc0 - xdiff:acc1 + xdiff],\n",
    "                alpha=.5, label=accside)\n",
    "            axes[b, s].axvline(x=xdiff)\n",
    "            axes[b, s].axvline(x=xdiff + acc1 - acc0)\n",
    "            axes[b, s].set_yticklabels([])\n",
    "            if s == 0: axes[b, s].set_ylabel(f'{b}', size=14)\n",
    "            for a in ['right', 'top']:\n",
    "                axes[b, s].spines[a].set_visible(False)\n",
    "        axes[0, s].set_title(f'{accside.upper()}', size=14)\n",
    "\n",
    "    plt.suptitle(run, color='gray', size=14)\n",
    "    plt.tight_layout(h_pad=0.0, w_pad=0.0)\n",
    "    fig.savefig(os.path.join(\n",
    "        temp_save, 'ACC',\n",
    "        f'single_{state}_sub08_{run[-6:]}_LR_v4'\n",
    "    ), dpi=150, facecolor='w',)\n",
    "    plt.close()\n",
    "\n",
    "    #### TODO:\n",
    "    ### New Tap detection:\n",
    "    ## USE Y-axis\n",
    "    ## SEARCH for double sinusoid for one tap (+ - - +)\n",
    "    #   one sinusoid (+ -) is raising hand\n",
    "    #   one sinusoid (- +) is lowering hand\n",
    "    # PM: use impact-artifact as backup-tap detection\n",
    "    # - SPLIT THRESHOLDS FOR TAP DETECT VS DYSK/ELSE DETECT\n",
    "    # - ANNOTATE VIDEO WITH DYSKINETIC MOVEMENTS TO CHECK NEW ALGORITHM"
   ]
  },
  {
   "cell_type": "code",
   "execution_count": null,
   "metadata": {},
   "outputs": [],
   "source": [
    "'''\n",
    "IMPORTANT: CHECK VIDEO - TMSi TIME DIFF\n",
    "# second left-mov (tap) in video at 19:19\n",
    "# -> video Timestamp('2021-11-15 11:45:20')\n",
    "# -> acc from 2021-11-15 11:48:19.395000 \n",
    "#           to 2021-11-15 11:48:20.300000\n",
    "\n",
    "# first right-mov (dysk) in video at 19:14\n",
    "#  -> video Timestamp('2021-11-15 11:47:00')\n",
    "#  -> acc from 2021-11-15 11:48:14.505000\n",
    "#           to 2021-11-15 11:48:16.040000\n",
    "\n",
    "# Rest recording starts in video at 12:52\n",
    "# -> video first movements right between 13:00 +/- 00:02:\n",
    "#   stamp is 11:26:00 + 00:13:00 -> 11:39:00 +/- 00:02\n",
    "# IN ACC: 11:42:00 +/- 00:02\n",
    "# ERGO: For Rest10, Tapping15: ACC-time is 03:00 ahead of Video"
   ]
  },
  {
   "cell_type": "markdown",
   "metadata": {},
   "source": [
    "## TODO / Finish:\n",
    "- PREPROC: INCLUDE TIME (t) and TimeSTAMPS (ts) to arrays\n",
    "- PREPROC: downssample to higher freq for short term analyssi\n",
    "- differentiation in algorithm between dyskinetic movement and tap\n",
    "- test algorithm on different Subjects\n",
    "\n"
   ]
  }
 ],
 "metadata": {
  "interpreter": {
   "hash": "3215b98ba4c40f90b358cffaa32696e7bfbdbe38275c45cfefc4b84b3a964fcf"
  },
  "kernelspec": {
   "display_name": "Python 3.9.7 64-bit ('ecog_dysk': conda)",
   "language": "python",
   "name": "python3"
  },
  "language_info": {
   "codemirror_mode": {
    "name": "ipython",
    "version": 3
   },
   "file_extension": ".py",
   "mimetype": "text/x-python",
   "name": "python",
   "nbconvert_exporter": "python",
   "pygments_lexer": "ipython3",
   "version": "3.9.7"
  },
  "orig_nbformat": 4
 },
 "nbformat": 4,
 "nbformat_minor": 2
}
