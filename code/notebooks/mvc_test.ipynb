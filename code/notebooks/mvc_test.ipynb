{
 "cells": [
  {
   "cell_type": "code",
   "execution_count": 24,
   "metadata": {},
   "outputs": [],
   "source": [
    "import numpy as np\n",
    "import sys\n",
    "import os"
   ]
  },
  {
   "cell_type": "code",
   "execution_count": 25,
   "metadata": {},
   "outputs": [],
   "source": [
    "def get_project_path_in_notebook(\n",
    "    subfolder: str = '',\n",
    "):\n",
    "    \"\"\"\n",
    "    Finds path of projectfolder from Notebook.\n",
    "    Start running this once to correctly find\n",
    "    other modules/functions\n",
    "    \"\"\"\n",
    "    path = os.getcwd()\n",
    "\n",
    "    while path[-20:] != 'dyskinesia_neurophys':\n",
    "\n",
    "        path = os.path.dirname(path)\n",
    "    \n",
    "    return path"
   ]
  },
  {
   "cell_type": "code",
   "execution_count": 26,
   "metadata": {},
   "outputs": [],
   "source": [
    "# define local storage directories\n",
    "projectpath = get_project_path_in_notebook()\n",
    "codepath = os.path.join(projectpath, 'code')"
   ]
  },
  {
   "cell_type": "code",
   "execution_count": 27,
   "metadata": {},
   "outputs": [],
   "source": [
    "# README: conda install xarray\n",
    "# run (from fork-repo): pip install --proxy=http://proxy.charite.de:8080 -e .\n",
    "sys.path.append(os.path.join(codepath, 'mne-connectivity'))"
   ]
  },
  {
   "cell_type": "code",
   "execution_count": 28,
   "metadata": {},
   "outputs": [],
   "source": [
    "from mne_connectivity import (\n",
    "    multivar_seed_target_indices,\n",
    "    multivar_spectral_connectivity_epochs\n",
    ")"
   ]
  },
  {
   "cell_type": "markdown",
   "metadata": {},
   "source": [
    "### Load Data as MNE-Epochs"
   ]
  },
  {
   "cell_type": "code",
   "execution_count": null,
   "metadata": {},
   "outputs": [],
   "source": [
    "import utils.utils_windowing as utilsWindows\n"
   ]
  },
  {
   "cell_type": "code",
   "execution_count": null,
   "metadata": {},
   "outputs": [],
   "source": [
    "importlib.reload(utilsWindows)\n",
    "mne_epochArr_list = utilsWindows.create_mne_epochs(\n",
    "    epoched_windows=epoched_window_list,\n",
    "    fs=windows12.fs,\n",
    "    ch_names=windows12.keys,\n",
    "    pick_only_ephys = True,\n",
    ")"
   ]
  },
  {
   "cell_type": "code",
   "execution_count": 23,
   "metadata": {},
   "outputs": [
    {
     "data": {
      "text/plain": [
       "<function mne_connectivity.spectral.epochs_multivar.multivar_spectral_connectivity_epochs(data, indices, names=None, method='mic', sfreq=6.283185307179586, mode='multitaper', tmin=None, tmax=None, fmin=None, fmax=inf, fskip=0, faverage=False, cwt_freqs=None, mt_bandwidth=None, mt_adaptive=False, mt_low_bias=True, cwt_n_cycles=7, n_seed_components=None, n_target_components=None, gc_n_lags=20, block_size=1000, n_jobs=1, verbose=None)>"
      ]
     },
     "execution_count": 23,
     "metadata": {},
     "output_type": "execute_result"
    }
   ],
   "source": [
    "multivar_spectral_connectivity_epochs"
   ]
  }
 ],
 "metadata": {
  "kernelspec": {
   "display_name": "Python 3.9.15 ('mne_mvc')",
   "language": "python",
   "name": "python3"
  },
  "language_info": {
   "codemirror_mode": {
    "name": "ipython",
    "version": 3
   },
   "file_extension": ".py",
   "mimetype": "text/x-python",
   "name": "python",
   "nbconvert_exporter": "python",
   "pygments_lexer": "ipython3",
   "version": "3.9.15"
  },
  "orig_nbformat": 4,
  "vscode": {
   "interpreter": {
    "hash": "d73a56401423433b084e8ac70308fed9a2a6c6198c6631d1eeee8f490b456cfa"
   }
  }
 },
 "nbformat": 4,
 "nbformat_minor": 2
}
