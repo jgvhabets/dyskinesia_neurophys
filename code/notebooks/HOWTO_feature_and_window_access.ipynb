{
 "cells": [
  {
   "attachments": {},
   "cell_type": "markdown",
   "metadata": {},
   "source": [
    "# Examples on how to access prepared windows and features"
   ]
  },
  {
   "attachments": {},
   "cell_type": "markdown",
   "metadata": {},
   "source": [
    "### 0) Load packages and functions"
   ]
  },
  {
   "cell_type": "code",
   "execution_count": 9,
   "metadata": {},
   "outputs": [],
   "source": [
    "# Importing Python and external packages\n",
    "import os\n",
    "import sys\n",
    "import importlib\n",
    "import json\n",
    "import csv\n",
    "from dataclasses import dataclass, field, fields\n",
    "from itertools import compress\n",
    "import pandas as pd\n",
    "import numpy as np\n",
    "from itertools import product\n",
    "\n",
    "import matplotlib.pyplot as plt\n"
   ]
  },
  {
   "cell_type": "code",
   "execution_count": 10,
   "metadata": {},
   "outputs": [],
   "source": [
    "def get_project_path_in_notebook(\n",
    "    subfolder=False,\n",
    "):\n",
    "    \"\"\"\n",
    "    Finds path of projectfolder from Notebook.\n",
    "    Start running this once to correctly find\n",
    "    other modules/functions\n",
    "    \"\"\"\n",
    "    path = os.getcwd()\n",
    "\n",
    "    while path[-20:] != 'dyskinesia_neurophys':\n",
    "\n",
    "        path = os.path.dirname(path)\n",
    "    \n",
    "    if isinstance(subfolder, str):\n",
    "        if os.path.exists(os.path.join(path,\n",
    "                                       subfolder)):\n",
    "            path = os.path.join(path, subfolder)\n",
    "    \n",
    "    return path"
   ]
  },
  {
   "cell_type": "code",
   "execution_count": 11,
   "metadata": {},
   "outputs": [
    {
     "name": "stdout",
     "output_type": "stream",
     "text": [
      "c:\\code\\dyskinesia_neurophys\\code\n",
      "utils\n",
      "ftproc\n",
      "load ssd\n"
     ]
    }
   ],
   "source": [
    "# define local storage directories\n",
    "codepath = get_project_path_in_notebook('code')\n",
    "print(codepath)\n",
    "os.chdir(codepath)\n",
    "\n",
    "# own utility functions\n",
    "import utils.utils_fileManagement as utilsFiles\n",
    "print('utils')\n",
    "# own data exploration functions\n",
    "# import lfpecog_features.feats_read_proc_data as read_data\n",
    "# import lfpecog_preproc.preproc_import_scores_annotations as importClin\n",
    "import lfpecog_analysis.ft_processing_helpers as ftProc\n",
    "print('ftproc')\n",
    "# import lfpecog_analysis.import_ephys_results as importResults\n",
    "# import lfpecog_analysis.stats_fts_lid_corrs as ftLidCorr\n",
    "import lfpecog_analysis.load_SSD_features as load_ssdFts\n",
    "print('load ssd')\n",
    "# import lfpecog_features.feats_helper_funcs as ftHelp\n",
    "from lfpecog_features.get_ssd_data import get_subject_SSDs\n",
    "import lfpecog_predict.prepare_predict_arrays as prep_pred_arrs\n",
    "\n",
    "# from lfpecog_plotting.plotHelpers import get_colors\n",
    "# import lfpecog_plotting.plotHelpers as pltHelp\n",
    "# import lfpecog_plotting.plot_FreqCorr as plotFtCorrs\n",
    "# import lfpecog_plotting.plot_SSD_feat_descriptives as plot_ssd_descr"
   ]
  },
  {
   "attachments": {},
   "cell_type": "markdown",
   "metadata": {},
   "source": [
    "### 0) Define settings"
   ]
  },
  {
   "cell_type": "code",
   "execution_count": 17,
   "metadata": {},
   "outputs": [],
   "source": [
    "# ft v6 (data v4.0) is most recent, WITHOUT TAP-MOVEMENT EXCLUSION\n",
    "DATA_VERSION = 'v4.0'    # v4.0: new artef-rem, no reref; v3.0 multiple re-ref\n",
    "FT_VERSION = 'v6'\n",
    "# INCL_PSD_FTS=['mean_psd', 'variation']\n",
    "IGNORE_PTS = ['011', '104', '106']  # aborted protocol, poor quality\n",
    "\n",
    "CDRS_RATER = 'Jeroen'\n",
    "ANALYSIS_SIDE = 'BILAT'\n",
    "INCL_CORE_CDRS = True\n",
    "CATEGORICAL_CDRS = False\n",
    "\n",
    "MILD_CDRS = 4  # cut off for dyskinesia categorization\n",
    "SEV_CDRS = 8  # cut off for dyskinesia categorization"
   ]
  },
  {
   "cell_type": "code",
   "execution_count": 18,
   "metadata": {},
   "outputs": [
    {
     "name": "stdout",
     "output_type": "stream",
     "text": [
      "SUBS: n=21 (['017', '107', '012', '020', '110', '022', '008', '102', '016', '109', '108', '014', '019', '010', '009', '013', '023', '105', '021', '101', '103'])\n"
     ]
    }
   ],
   "source": [
    "importlib.reload(utilsFiles)\n",
    "\n",
    "# get all available subs with features\n",
    "SUBS = utilsFiles.get_avail_ssd_subs(DATA_VERSION=DATA_VERSION,\n",
    "                                     FT_VERSION=FT_VERSION,\n",
    "                                     IGNORE_PTS=IGNORE_PTS,\n",
    "                                     USER='timon')\n",
    "print(f'SUBS: n={len(SUBS)} ({SUBS})')  # should be 21\n"
   ]
  },
  {
   "attachments": {},
   "cell_type": "markdown",
   "metadata": {},
   "source": [
    "## 1) Import neural features and clinical labels\n",
    "\n",
    "- For predictions with ECoG-depending features: exclude moments of UNILATERAL dyskinesia IPSILATERAL to ECoG hemisphere"
   ]
  },
  {
   "cell_type": "markdown",
   "metadata": {},
   "source": [
    "Get DataClass containing FEATS and CDRS-LABELS"
   ]
  },
  {
   "cell_type": "code",
   "execution_count": 19,
   "metadata": {},
   "outputs": [],
   "source": [
    "import lfpecog_analysis.get_acc_task_derivs as accDerivs"
   ]
  },
  {
   "cell_type": "code",
   "execution_count": null,
   "metadata": {},
   "outputs": [],
   "source": [
    "# # CREATE FeatureClass containing all features\n",
    "# importlib.reload(utilsFiles)\n",
    "# importlib.reload(accDerivs)\n",
    "# importlib.reload(ftProc)\n",
    "# importlib.reload(importClin)\n",
    "# importlib.reload(load_ssdFts)\n",
    "# importlib.reload(ftLidCorr)\n",
    "\n",
    "\n",
    "# FT_VERSION = 'v6'\n",
    "# INCL_CORE_CDRS = True\n",
    "# CATEG_CDRS = False  # if False, full CDRS spectrum is used\n",
    "# MILD_CDRS = 5  # cut off for dyskinesia categorization\n",
    "# SEV_CDRS = 10  # cut off for dyskinesia categorization\n",
    "\n",
    "# FeatLid = ftProc.FeatLidClass(\n",
    "#     FT_VERSION=FT_VERSION,\n",
    "#     INCL_ECOG=True,\n",
    "#     INCL_ACC_RMS=True,\n",
    "#     CATEGORICAL_CDRS=CATEG_CDRS,\n",
    "#     CORR_TARGET='CDRS',  # target for correlation dataframe (not relevant)\n",
    "#     cutMild=MILD_CDRS, cutSevere=SEV_CDRS,\n",
    "#     TO_CALC_CORR=True,\n",
    "# )\n"
   ]
  },
  {
   "cell_type": "code",
   "execution_count": null,
   "metadata": {},
   "outputs": [],
   "source": [
    "# # SAVE FeatLabelClass as pickle\n",
    "\n",
    "# featLabPath = os.path.join(utilsFiles.get_project_path('data'),\n",
    "#                            'prediction_data',\n",
    "#                            'featLabelClasses')\n",
    "# className = f'featLabels_ft{FT_VERSION}'\n",
    "# if FeatLid.CORR_TARGET == 'LID': className += '_Lid'\n",
    "# elif FeatLid.CATEGORICAL_CDRS == True: className += '_CatCdrs'\n",
    "# else: className += '_Cdrs'\n",
    "\n",
    "# if FeatLid.INCL_ECOG: className += '_Ecog'\n",
    "# else: className += '_StnOnly'\n",
    "\n",
    "# utilsFiles.save_class_pickle(class_to_save=FeatLid,\n",
    "#                              path=featLabPath,\n",
    "#                              filename=className)"
   ]
  },
  {
   "cell_type": "code",
   "execution_count": 20,
   "metadata": {},
   "outputs": [],
   "source": [
    "import lfpecog_analysis.stats_fts_lid_corrs as ft_stats"
   ]
  },
  {
   "cell_type": "code",
   "execution_count": 37,
   "metadata": {},
   "outputs": [
    {
     "name": "stdout",
     "output_type": "stream",
     "text": [
      "... pickle loading: D:\\dyskinesia_project\\data\\prediction_data\\featLabelClasses\\featLabels_ftv6_Cdrs_StnOnly.P\n"
     ]
    }
   ],
   "source": [
    "# LOAD existing classes with features and labels\n",
    "INCL_ECOG = False  # if True, STN-only patients are NOT included\n",
    "MILD_CDRS = 4  # cut off for dyskinesia categorization\n",
    "SEV_CDRS = 8  # cut off for dyskinesia categorization\n",
    "\n",
    "if INCL_ECOG: ecog_ext = '_Ecog'\n",
    "else: ecog_ext = '_StnOnly'\n",
    "\n",
    "# define path where pickle is saved\n",
    "featLabPath = os.path.join(\n",
    "    utilsFiles.get_project_path('data', USER='timon'),\n",
    "    'prediction_data', 'featLabelClasses'\n",
    ")\n",
    "\n",
    "predData = utilsFiles.load_class_pickle(\n",
    "    os.path.join(featLabPath,\n",
    "                 f'featLabels_ft{FT_VERSION}_'\n",
    "                 f'Cdrs{ecog_ext}.P'),\n",
    "    convert_float_np64=True\n",
    ")\n",
    "# MERGE GAMMA1-2-3 FEATURES\n",
    "for sub in predData.FEATS:\n",
    "    predData.FEATS[sub] = ft_stats.replace_gammas_for_maxGamma(predData.FEATS[sub])\n"
   ]
  },
  {
   "cell_type": "markdown",
   "metadata": {},
   "source": [
    "#### Explore data\n",
    "\n",
    "- Subject info\n",
    "    - 0XX: subjects with ECoG\n",
    "    - 1XX: subject WITHOUT ECoG\n",
    "\n",
    "- Class info\n",
    "    - stored in class FeatLidClass()\n",
    "    - class definition in lfpecog_analysis.ft_processing_helpers\n",
    "    - \n",
    "\n",
    "- FEATS: feature dict, sorted on subject\n",
    "    - FEATS['022] contains dataframe with features per 10-sec window, 50% overlap\n",
    "    - FEATS['022].index are timestamps for windows\n",
    "    - FEATS['022].keys() are feature names\n",
    "    -\n",
    "\n",
    "- FT_LABELS: dyskinesia-label dict, sorted on subject\n",
    "    - FEATS['022] contains array with dyskinesia labels, corresponding to FEATS\n",
    "    - contains full CDRS scales\n",
    "\n"
   ]
  },
  {
   "cell_type": "code",
   "execution_count": 38,
   "metadata": {},
   "outputs": [
    {
     "name": "stdout",
     "output_type": "stream",
     "text": [
      "dict_keys(['FT_VERSION', 'CDRS_RATER', 'ANALYSIS_SIDE', 'INCL_STN', 'INCL_ECOG', 'EXCL_IPSI_ECOG', 'INCL_CORE_CDRS', 'INCL_PSD_FTS', 'INCL_ACC_RMS', 'IGNORE_PTS', 'CATEGORICAL_CDRS', 'cutMild', 'cutSevere', 'WIN_LEN_sec', 'WIN_OVERLAP_part', 'TO_CALC_CORR', 'CORR_TARGET', 'DATA_VERSION', 'SUBS', 'FEATS', 'FT_LABELS', 'ACC_RMS', 'corrs', 'stat_df'])\n"
     ]
    }
   ],
   "source": [
    "# Class attributes\n",
    "print(vars(predData).keys())\n",
    "\n"
   ]
  },
  {
   "cell_type": "code",
   "execution_count": 39,
   "metadata": {},
   "outputs": [
    {
     "name": "stdout",
     "output_type": "stream",
     "text": [
      "feat dict FEATS, sorted by patient:\n",
      "sub 022 FEATS df SHAPE: (580, 28)\n",
      "Window timestamps: Float64Index([-0.5833333333333334, -0.5, -0.4166666666666667,\n",
      "              -0.3333333333333333, -0.25],\n",
      "             dtype='float64')\n",
      "Feature names: Index(['lfp_left_delta_mean_psd', 'lfp_left_delta_variation',\n",
      "       'lfp_left_alpha_mean_psd', 'lfp_left_alpha_variation',\n",
      "       'lfp_left_lo_beta_mean_psd'],\n",
      "      dtype='object')\n"
     ]
    }
   ],
   "source": [
    "ex_sub = '022'\n",
    "# FEATURE dict \n",
    "print(f'feat dict FEATS, sorted by patient:')\n",
    "print(f'sub {ex_sub} FEATS df SHAPE: {predData.FEATS[ex_sub].shape}')\n",
    "print(f'Window timestamps: {predData.FEATS[ex_sub].index[:5]}')\n",
    "print(f'Feature names: {predData.FEATS[ex_sub].keys()[:5]}')\n",
    "# predData.FEATS['022']  # dataframe with features, index = dopa_time in minutes\n",
    "\n"
   ]
  },
  {
   "cell_type": "code",
   "execution_count": 40,
   "metadata": {},
   "outputs": [
    {
     "name": "stdout",
     "output_type": "stream",
     "text": [
      "feat dict FT_LABELS, sorted by patient:\n",
      "dict_keys(['012', '103', '016', '101', '019', '008', '013', '010', '110', '022', '107', '102', '109', '021', '017', '023', '009', '020', '014', '105', '108'])\n",
      "sub 022 FT_LABELS arr SHAPE: (580,)\n"
     ]
    }
   ],
   "source": [
    "# Dyskinesia label dict\n",
    "print(f'feat dict FT_LABELS, sorted by patient:')\n",
    "print(predData.FT_LABELS.keys())\n",
    "print(f'sub {ex_sub} FT_LABELS arr SHAPE: {predData.FT_LABELS[ex_sub].shape}')\n",
    "\n",
    "orig_cdrs = predData.FT_LABELS[ex_sub].copy()\n",
    "\n",
    "# to convert to categories\n",
    "# categorized outcome:\n",
    "# 0: none,\n",
    "# 1: mild,\n",
    "# 2: moderate,\n",
    "# 3: severe\n",
    "cat_cdrs = ftProc.categorical_CDRS(\n",
    "    orig_cdrs, preLID_separate=False,\n",
    "    preLID_minutes=0,\n",
    "    cutoff_mildModerate=MILD_CDRS,\n",
    "    cutoff_moderateSevere=SEV_CDRS\n",
    ")\n"
   ]
  },
  {
   "cell_type": "code",
   "execution_count": 29,
   "metadata": {},
   "outputs": [
    {
     "name": "stdout",
     "output_type": "stream",
     "text": [
      "feat dict ACC_RMS, sorted by patient:\n",
      "dict_keys(['012', '016', '019', '008', '013', '010', '022', '021', '017', '023', '009', '020', '014'])\n",
      "sub 022 FT_LABELS arr SHAPE: (580,)\n"
     ]
    }
   ],
   "source": [
    "# RMS ACC movement dict  #### update jeroen\n",
    "print(f'feat dict ACC_RMS, sorted by patient:')\n",
    "print(predData.ACC_RMS.keys())\n",
    "print(f'sub {ex_sub} FT_LABELS arr SHAPE: {predData.ACC_RMS[ex_sub].shape}')\n",
    "\n",
    "rms_sub = predData.ACC_RMS[ex_sub].copy()\n",
    "\n"
   ]
  },
  {
   "cell_type": "markdown",
   "metadata": {},
   "source": [
    "#### create prediction arrays based on imported features and labels"
   ]
  },
  {
   "cell_type": "code",
   "execution_count": 41,
   "metadata": {},
   "outputs": [
    {
     "name": "stdout",
     "output_type": "stream",
     "text": [
      "\tfor sub-012, added X-shape: (803, 28)\n",
      "\tfor sub-103, added X-shape: (650, 28)\n",
      "\tfor sub-016, added X-shape: (679, 28)\n",
      "\tfor sub-101, added X-shape: (705, 28)\n",
      "\tfor sub-019, added X-shape: (927, 28)\n",
      "\tfor sub-008, added X-shape: (545, 28)\n",
      "\tfor sub-013, added X-shape: (659, 28)\n",
      "\tfor sub-010, added X-shape: (670, 28)\n",
      "\tfor sub-110, added X-shape: (700, 28)\n",
      "\tfor sub-022, added X-shape: (580, 28)\n",
      "\tfor sub-107, added X-shape: (779, 28)\n",
      "\tfor sub-102, added X-shape: (676, 28)\n",
      "\tfor sub-109, added X-shape: (545, 28)\n",
      "\tfor sub-021, added X-shape: (526, 28)\n",
      "\tfor sub-017, added X-shape: (549, 28)\n",
      "\tfor sub-023, added X-shape: (549, 28)\n",
      "\tfor sub-009, added X-shape: (768, 28)\n",
      "\tfor sub-020, added X-shape: (420, 28)\n",
      "\tfor sub-014, added X-shape: (519, 28)\n",
      "\tfor sub-105, added X-shape: (629, 28)\n",
      "\tfor sub-108, added X-shape: (539, 28)\n",
      "012 803\n",
      "removed rows n=148\n",
      "(13269, 28) (13269,) (13269,) (13269,) (13269,)\n",
      "out of n=13269 samples, n=6806 are Dyskinesia (51.3 %)\n",
      "Subjects (n=21) included: ['008' '009' '010' '012' '013' '014' '016' '017' '019' '020' '021' '022'\n",
      " '023' '101' '102' '103' '105' '107' '108' '109' '110']\n"
     ]
    }
   ],
   "source": [
    "# Create arrays per subject based on features and labels\n",
    "importlib.reload(prep_pred_arrs)\n",
    "\n",
    "(X_total, y_total_binary,\n",
    " y_total_scale, sub_ids_total,\n",
    " ft_times_total, ft_names) = prep_pred_arrs.get_group_arrays_for_prediction(\n",
    "    feat_dict=predData.FEATS,\n",
    "    label_dict=predData.FT_LABELS,\n",
    "    TO_PLOT = False)\n",
    "\n",
    "# Merge subject-arrays to one group array for prediction\n",
    "(X_all, y_all_binary,\n",
    " y_all_scale, sub_ids,\n",
    " ft_times_all) = prep_pred_arrs.merge_group_arrays(X_total=X_total,\n",
    "                                    y_total_binary=y_total_binary,\n",
    "                                    y_total_scale=y_total_scale,\n",
    "                                    sub_ids_total=sub_ids_total,\n",
    "                                    ft_times_total=ft_times_total)\n",
    "\n",
    "# add categorical CDRS labels\n",
    "y_all_categ = ftProc.categorical_CDRS(\n",
    "    y_all_scale, preLID_separate=False,\n",
    "    preLID_minutes=0,\n",
    "    cutoff_mildModerate=MILD_CDRS,\n",
    "    cutoff_moderateSevere=SEV_CDRS\n",
    ")\n",
    "\n",
    "print(f'Subjects (n={len(np.unique(sub_ids))}) included: {np.unique(sub_ids)}')"
   ]
  },
  {
   "cell_type": "code",
   "execution_count": 45,
   "metadata": {},
   "outputs": [
    {
     "data": {
      "text/plain": [
       "array([0., 1., 2., 3.])"
      ]
     },
     "execution_count": 45,
     "metadata": {},
     "output_type": "execute_result"
    }
   ],
   "source": [
    "np.unique(y_all_scale)\n",
    "\n",
    "\n",
    "np.unique(y_all_scale)\n"
   ]
  },
  {
   "cell_type": "markdown",
   "metadata": {},
   "source": [
    "## 2) Import epoched SSD-data\n",
    "\n",
    "- Class info\n",
    "    - stored in class get_subject_SSDs(), (defined in lfpecog_features.get_ssd_data)\n",
    "    - contains lfp_left, lfp_right (ecog_right/ecog_left): class SSD_bands_windowed()\n",
    "\n",
    "- lfp_left, lfp_right, ecog_right\n",
    "    - stored in class SSD_bands_windowed(), (defined in lfpecog_features.get_ssd_data)\n",
    "    - contains:\n",
    "        - delta (IS THETA!!)\n",
    "        - alpha\n",
    "        - lo_beta\n",
    "        - hi_beta\n",
    "        - gamma1\n",
    "        - gamma2\n",
    "        - gamma3\n",
    "\n",
    "- e.g. lo_beta is array with timeseries: windows x samples (720, 20480)"
   ]
  },
  {
   "cell_type": "code",
   "execution_count": 31,
   "metadata": {},
   "outputs": [],
   "source": [
    "import lfpecog_features.get_ssd_data as ssd\n",
    "import lfpecog_analysis.get_SSD_timefreqs as ssd_TimeFreq\n",
    "import lfpecog_plotting.plot_timeFreqs_ssd_psds as plot_ssd_TFs"
   ]
  },
  {
   "cell_type": "code",
   "execution_count": 36,
   "metadata": {},
   "outputs": [
    {
     "ename": "KeyboardInterrupt",
     "evalue": "",
     "output_type": "error",
     "traceback": [
      "\u001b[1;31m---------------------------------------------------------------------------\u001b[0m",
      "\u001b[1;31mKeyboardInterrupt\u001b[0m                         Traceback (most recent call last)",
      "\u001b[1;32mc:\\code\\dyskinesia_neurophys\\code\\notebooks\\HOWTO_feature_and_window_access.ipynb Cell 25\u001b[0m line \u001b[0;36m1\n\u001b[0;32m      <a href='vscode-notebook-cell:/c%3A/code/dyskinesia_neurophys/code/notebooks/HOWTO_feature_and_window_access.ipynb#X34sZmlsZQ%3D%3D?line=4'>5</a>\u001b[0m \u001b[39m# import dataclass containing SSD data\u001b[39;00m\n\u001b[0;32m      <a href='vscode-notebook-cell:/c%3A/code/dyskinesia_neurophys/code/notebooks/HOWTO_feature_and_window_access.ipynb#X34sZmlsZQ%3D%3D?line=6'>7</a>\u001b[0m ft_setting_path \u001b[39m=\u001b[39m os\u001b[39m.\u001b[39mpath\u001b[39m.\u001b[39mjoin(\n\u001b[0;32m      <a href='vscode-notebook-cell:/c%3A/code/dyskinesia_neurophys/code/notebooks/HOWTO_feature_and_window_access.ipynb#X34sZmlsZQ%3D%3D?line=7'>8</a>\u001b[0m     utilsFiles\u001b[39m.\u001b[39mget_project_path(\u001b[39m'\u001b[39m\u001b[39mdata\u001b[39m\u001b[39m'\u001b[39m, USER\u001b[39m=\u001b[39m\u001b[39m'\u001b[39m\u001b[39mtimon\u001b[39m\u001b[39m'\u001b[39m),\n\u001b[0;32m      <a href='vscode-notebook-cell:/c%3A/code/dyskinesia_neurophys/code/notebooks/HOWTO_feature_and_window_access.ipynb#X34sZmlsZQ%3D%3D?line=8'>9</a>\u001b[0m     \u001b[39m'\u001b[39m\u001b[39mmeta_info\u001b[39m\u001b[39m'\u001b[39m\n\u001b[0;32m     <a href='vscode-notebook-cell:/c%3A/code/dyskinesia_neurophys/code/notebooks/HOWTO_feature_and_window_access.ipynb#X34sZmlsZQ%3D%3D?line=9'>10</a>\u001b[0m )\n\u001b[1;32m---> <a href='vscode-notebook-cell:/c%3A/code/dyskinesia_neurophys/code/notebooks/HOWTO_feature_and_window_access.ipynb#X34sZmlsZQ%3D%3D?line=11'>12</a>\u001b[0m ssdSub \u001b[39m=\u001b[39m ssd\u001b[39m.\u001b[39;49mget_subject_SSDs(sub\u001b[39m=\u001b[39;49mex_sub,\n\u001b[0;32m     <a href='vscode-notebook-cell:/c%3A/code/dyskinesia_neurophys/code/notebooks/HOWTO_feature_and_window_access.ipynb#X34sZmlsZQ%3D%3D?line=12'>13</a>\u001b[0m                              incl_stn\u001b[39m=\u001b[39;49m\u001b[39mTrue\u001b[39;49;00m,\n\u001b[0;32m     <a href='vscode-notebook-cell:/c%3A/code/dyskinesia_neurophys/code/notebooks/HOWTO_feature_and_window_access.ipynb#X34sZmlsZQ%3D%3D?line=13'>14</a>\u001b[0m                              incl_ecog\u001b[39m=\u001b[39;49m\u001b[39mTrue\u001b[39;49;00m,\n\u001b[0;32m     <a href='vscode-notebook-cell:/c%3A/code/dyskinesia_neurophys/code/notebooks/HOWTO_feature_and_window_access.ipynb#X34sZmlsZQ%3D%3D?line=14'>15</a>\u001b[0m                              ft_setting_fname\u001b[39m=\u001b[39;49m\u001b[39mf\u001b[39;49m\u001b[39m'\u001b[39;49m\u001b[39mftExtr_spectral_\u001b[39;49m\u001b[39m{\u001b[39;49;00mFT_VERSION\u001b[39m}\u001b[39;49;00m\u001b[39m.json\u001b[39;49m\u001b[39m'\u001b[39;49m,\n\u001b[0;32m     <a href='vscode-notebook-cell:/c%3A/code/dyskinesia_neurophys/code/notebooks/HOWTO_feature_and_window_access.ipynb#X34sZmlsZQ%3D%3D?line=15'>16</a>\u001b[0m                              ft_setting_path\u001b[39m=\u001b[39;49mft_setting_path,\n\u001b[0;32m     <a href='vscode-notebook-cell:/c%3A/code/dyskinesia_neurophys/code/notebooks/HOWTO_feature_and_window_access.ipynb#X34sZmlsZQ%3D%3D?line=16'>17</a>\u001b[0m                              USER\u001b[39m=\u001b[39;49m\u001b[39m'\u001b[39;49m\u001b[39mtimon\u001b[39;49m\u001b[39m'\u001b[39;49m,\n\u001b[0;32m     <a href='vscode-notebook-cell:/c%3A/code/dyskinesia_neurophys/code/notebooks/HOWTO_feature_and_window_access.ipynb#X34sZmlsZQ%3D%3D?line=17'>18</a>\u001b[0m                              )\n",
      "File \u001b[1;32m<string>:10\u001b[0m, in \u001b[0;36m__init__\u001b[1;34m(self, sub, settings, ft_setting_fname, ft_setting_path, incl_ecog, incl_stn, USER)\u001b[0m\n",
      "File \u001b[1;32mc:\\code\\dyskinesia_neurophys\\code\\lfpecog_features\\get_ssd_data.py:322\u001b[0m, in \u001b[0;36mget_subject_SSDs.__post_init__\u001b[1;34m(self)\u001b[0m\n\u001b[0;32m    320\u001b[0m \u001b[39mself\u001b[39m\u001b[39m.\u001b[39mephys_sources \u001b[39m=\u001b[39m []\n\u001b[0;32m    321\u001b[0m \u001b[39mif\u001b[39;00m \u001b[39mself\u001b[39m\u001b[39m.\u001b[39mincl_ecog:\n\u001b[1;32m--> 322\u001b[0m     ecog_side \u001b[39m=\u001b[39m get_ecog_side(\u001b[39mself\u001b[39;49m\u001b[39m.\u001b[39;49msub)\n\u001b[0;32m    323\u001b[0m     \u001b[39mif\u001b[39;00m ecog_side:\n\u001b[0;32m    324\u001b[0m         \u001b[39mself\u001b[39m\u001b[39m.\u001b[39mephys_sources\u001b[39m.\u001b[39mappend(\u001b[39mf\u001b[39m\u001b[39m'\u001b[39m\u001b[39mecog_\u001b[39m\u001b[39m{\u001b[39;00mecog_side\u001b[39m}\u001b[39;00m\u001b[39m'\u001b[39m)\n",
      "File \u001b[1;32mc:\\code\\dyskinesia_neurophys\\code\\lfpecog_preproc\\preproc_import_scores_annotations.py:263\u001b[0m, in \u001b[0;36mget_ecog_side\u001b[1;34m(sub)\u001b[0m\n\u001b[0;32m    261\u001b[0m \u001b[39mdef\u001b[39;00m \u001b[39mget_ecog_side\u001b[39m(sub):\n\u001b[1;32m--> 263\u001b[0m     data_path \u001b[39m=\u001b[39m get_onedrive_path(\u001b[39m'\u001b[39;49m\u001b[39mdata\u001b[39;49m\u001b[39m'\u001b[39;49m)\n\u001b[0;32m    264\u001b[0m     f \u001b[39m=\u001b[39m \u001b[39m'\u001b[39m\u001b[39mrecording_mainfile.xlsx\u001b[39m\u001b[39m'\u001b[39m\n\u001b[0;32m    266\u001b[0m     xldat \u001b[39m=\u001b[39m read_excel(os\u001b[39m.\u001b[39mpath\u001b[39m.\u001b[39mjoin(data_path, f),\n\u001b[0;32m    267\u001b[0m                       sheet_name\u001b[39m=\u001b[39m\u001b[39m'\u001b[39m\u001b[39mrecording_info\u001b[39m\u001b[39m'\u001b[39m,)\n",
      "File \u001b[1;32mc:\\code\\dyskinesia_neurophys\\code\\utils\\utils_fileManagement.py:75\u001b[0m, in \u001b[0;36mget_onedrive_path\u001b[1;34m(folder)\u001b[0m\n\u001b[0;32m     69\u001b[0m     \u001b[39mraise\u001b[39;00m \u001b[39mValueError\u001b[39;00m(\n\u001b[0;32m     70\u001b[0m         \u001b[39mf\u001b[39m\u001b[39m'\u001b[39m\u001b[39mgiven folder: \u001b[39m\u001b[39m{\u001b[39;00mfolder\u001b[39m}\u001b[39;00m\u001b[39m is incorrect, \u001b[39m\u001b[39m'\u001b[39m\n\u001b[0;32m     71\u001b[0m         \u001b[39mf\u001b[39m\u001b[39m'\u001b[39m\u001b[39mshould be \u001b[39m\u001b[39m{\u001b[39;00mfolder_options\u001b[39m}\u001b[39;00m\u001b[39m'\u001b[39m)\n\u001b[0;32m     73\u001b[0m path \u001b[39m=\u001b[39m getcwd()\n\u001b[1;32m---> 75\u001b[0m \u001b[39mwhile\u001b[39;00m dirname(path)[\u001b[39m-\u001b[39m\u001b[39m5\u001b[39m:]\u001b[39m.\u001b[39mlower() \u001b[39m!=\u001b[39m \u001b[39m'\u001b[39m\u001b[39musers\u001b[39m\u001b[39m'\u001b[39m:\n\u001b[0;32m     76\u001b[0m     path \u001b[39m=\u001b[39m dirname(path)\n\u001b[0;32m     77\u001b[0m \u001b[39m# path is now Users/username\u001b[39;00m\n",
      "File \u001b[1;32mc:\\Users\\ICN_admin\\Anaconda3\\envs\\pynm-test\\lib\\ntpath.py:249\u001b[0m, in \u001b[0;36mdirname\u001b[1;34m(p)\u001b[0m\n\u001b[0;32m    247\u001b[0m \u001b[39mdef\u001b[39;00m \u001b[39mdirname\u001b[39m(p):\n\u001b[0;32m    248\u001b[0m \u001b[39m    \u001b[39m\u001b[39m\"\"\"Returns the directory component of a pathname\"\"\"\u001b[39;00m\n\u001b[1;32m--> 249\u001b[0m     \u001b[39mreturn\u001b[39;00m split(p)[\u001b[39m0\u001b[39m]\n",
      "File \u001b[1;32mc:\\Users\\ICN_admin\\Anaconda3\\envs\\pynm-test\\lib\\ntpath.py:213\u001b[0m, in \u001b[0;36msplit\u001b[1;34m(p)\u001b[0m\n\u001b[0;32m    211\u001b[0m p \u001b[39m=\u001b[39m os\u001b[39m.\u001b[39mfspath(p)\n\u001b[0;32m    212\u001b[0m seps \u001b[39m=\u001b[39m _get_bothseps(p)\n\u001b[1;32m--> 213\u001b[0m d, p \u001b[39m=\u001b[39m splitdrive(p)\n\u001b[0;32m    214\u001b[0m \u001b[39m# set i to index beyond p's last slash\u001b[39;00m\n\u001b[0;32m    215\u001b[0m i \u001b[39m=\u001b[39m \u001b[39mlen\u001b[39m(p)\n",
      "File \u001b[1;32mc:\\Users\\ICN_admin\\Anaconda3\\envs\\pynm-test\\lib\\ntpath.py:171\u001b[0m, in \u001b[0;36msplitdrive\u001b[1;34m(p)\u001b[0m\n\u001b[0;32m    169\u001b[0m p \u001b[39m=\u001b[39m os\u001b[39m.\u001b[39mfspath(p)\n\u001b[0;32m    170\u001b[0m \u001b[39mif\u001b[39;00m \u001b[39mlen\u001b[39m(p) \u001b[39m>\u001b[39m\u001b[39m=\u001b[39m \u001b[39m2\u001b[39m:\n\u001b[1;32m--> 171\u001b[0m     \u001b[39mif\u001b[39;00m \u001b[39misinstance\u001b[39m(p, \u001b[39mbytes\u001b[39m):\n\u001b[0;32m    172\u001b[0m         sep \u001b[39m=\u001b[39m \u001b[39mb\u001b[39m\u001b[39m'\u001b[39m\u001b[39m\\\\\u001b[39;00m\u001b[39m'\u001b[39m\n\u001b[0;32m    173\u001b[0m         altsep \u001b[39m=\u001b[39m \u001b[39mb\u001b[39m\u001b[39m'\u001b[39m\u001b[39m/\u001b[39m\u001b[39m'\u001b[39m\n",
      "\u001b[1;31mKeyboardInterrupt\u001b[0m: "
     ]
    }
   ],
   "source": [
    "import lfpecog_features.get_ssd_data as ssd\n",
    "\n",
    "\n",
    "ex_sub = '022'\n",
    "# import dataclass containing SSD data\n",
    "\n",
    "ft_setting_path = os.path.join(\n",
    "    utilsFiles.get_project_path('data', USER='timon'),\n",
    "    'meta_info'\n",
    ")\n",
    "\n",
    "ssdSub = ssd.get_subject_SSDs(sub=ex_sub,\n",
    "                             incl_stn=True,\n",
    "                             incl_ecog=True,\n",
    "                             ft_setting_fname=f'ftExtr_spectral_{FT_VERSION}.json',\n",
    "                             ft_setting_path=ft_setting_path,\n",
    "                             USER='timon',\n",
    "                             )\n"
   ]
  },
  {
   "cell_type": "code",
   "execution_count": 68,
   "metadata": {},
   "outputs": [
    {
     "data": {
      "text/plain": [
       "(720, 20480)"
      ]
     },
     "execution_count": 68,
     "metadata": {},
     "output_type": "execute_result"
    }
   ],
   "source": [
    "ssdSub.ecog_right.alpha.shape\n"
   ]
  },
  {
   "cell_type": "code",
   "execution_count": null,
   "metadata": {},
   "outputs": [],
   "source": []
  },
  {
   "cell_type": "code",
   "execution_count": null,
   "metadata": {},
   "outputs": [],
   "source": []
  }
 ],
 "metadata": {
  "kernelspec": {
   "display_name": "ecog_dysk",
   "language": "python",
   "name": "python3"
  },
  "language_info": {
   "codemirror_mode": {
    "name": "ipython",
    "version": 3
   },
   "file_extension": ".py",
   "mimetype": "text/x-python",
   "name": "python",
   "nbconvert_exporter": "python",
   "pygments_lexer": "ipython3",
   "version": "3.10.12"
  },
  "orig_nbformat": 4,
  "vscode": {
   "interpreter": {
    "hash": "2b948574b4cc10c9dd8fa8cab55862e7a8500229b4c7ca6593391d5001a62fb2"
   }
  }
 },
 "nbformat": 4,
 "nbformat_minor": 2
}
