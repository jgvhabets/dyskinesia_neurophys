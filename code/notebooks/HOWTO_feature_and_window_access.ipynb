{
 "cells": [
  {
   "attachments": {},
   "cell_type": "markdown",
   "metadata": {},
   "source": [
    "# Examples on how to access prepared windows and features"
   ]
  },
  {
   "attachments": {},
   "cell_type": "markdown",
   "metadata": {},
   "source": [
    "### 0) Load packages and functions"
   ]
  },
  {
   "cell_type": "code",
   "execution_count": 1,
   "metadata": {},
   "outputs": [],
   "source": [
    "# Importing Python and external packages\n",
    "import os\n",
    "import sys\n",
    "import importlib\n",
    "import json\n",
    "import csv\n",
    "from dataclasses import dataclass, field, fields\n",
    "from itertools import compress\n",
    "import pandas as pd\n",
    "import numpy as np\n",
    "from itertools import product\n",
    "\n",
    "import matplotlib.pyplot as plt\n"
   ]
  },
  {
   "cell_type": "code",
   "execution_count": 4,
   "metadata": {},
   "outputs": [],
   "source": [
    "def get_project_path_in_notebook(\n",
    "    subfolder=False,\n",
    "):\n",
    "    \"\"\"\n",
    "    Finds path of projectfolder from Notebook.\n",
    "    Start running this once to correctly find\n",
    "    other modules/functions\n",
    "    \"\"\"\n",
    "    path = os.getcwd()\n",
    "\n",
    "    while path[-20:] != 'dyskinesia_neurophys':\n",
    "\n",
    "        path = os.path.dirname(path)\n",
    "    \n",
    "    if isinstance(subfolder, str):\n",
    "        if os.path.exists(os.path.join(path,\n",
    "                                       subfolder)):\n",
    "            path = os.path.join(path, subfolder)\n",
    "    \n",
    "    return path"
   ]
  },
  {
   "cell_type": "code",
   "execution_count": 9,
   "metadata": {},
   "outputs": [],
   "source": [
    "# define local storage directories\n",
    "codepath = get_project_path_in_notebook('code')\n",
    "os.chdir(codepath)\n",
    "\n",
    "# own utility functions\n",
    "import utils.utils_fileManagement as utilsFiles\n",
    "# own data exploration functions\n",
    "import lfpecog_features.feats_read_proc_data as read_data\n",
    "import lfpecog_preproc.preproc_import_scores_annotations as importClin\n",
    "import lfpecog_analysis.ft_processing_helpers as ftProc\n",
    "import lfpecog_analysis.import_ephys_results as importResults\n",
    "import lfpecog_analysis.stats_fts_lid_corrs as ftLidCorr\n",
    "import lfpecog_analysis.load_SSD_features as load_ssdFts\n",
    "import lfpecog_analysis.ft_processing_helpers as ftProc\n",
    "import lfpecog_features.feats_helper_funcs as ftHelp\n",
    "from lfpecog_features.get_ssd_data import get_subject_SSDs\n",
    "import lfpecog_predict.prepare_predict_arrays as prep_pred_arrs\n",
    "\n",
    "from lfpecog_plotting.plotHelpers import get_colors\n",
    "import lfpecog_plotting.plotHelpers as pltHelp\n",
    "import lfpecog_plotting.plot_FreqCorr as plotFtCorrs\n",
    "import lfpecog_plotting.plot_SSD_feat_descriptives as plot_ssd_descr"
   ]
  },
  {
   "attachments": {},
   "cell_type": "markdown",
   "metadata": {},
   "source": [
    "### 0) Define settings"
   ]
  },
  {
   "cell_type": "code",
   "execution_count": 33,
   "metadata": {},
   "outputs": [],
   "source": [
    "# ft v6 (data v4.0) is most recent, WITHOUT TAP-MOVEMENT EXCLUSION\n",
    "DATA_VERSION = 'v4.0'    # v4.0: new artef-rem, no reref; v3.0 multiple re-ref\n",
    "FT_VERSION = 'v6'\n",
    "INCL_PSD_FTS=['mean_psd', 'variation']\n",
    "IGNORE_PTS = ['011', '104', '106']  # aborted protocol, poor quality\n",
    "\n",
    "CDRS_RATER = 'Jeroen'\n",
    "ANALYSIS_SIDE = 'BILAT'\n",
    "INCL_CORE_CDRS = True\n",
    "CATEGORICAL_CDRS = False\n",
    "\n",
    "MILD_CDRS = 5  # cut off for dyskinesia categorization\n",
    "SEV_CDRS = 10  # cut off for dyskinesia categorization"
   ]
  },
  {
   "cell_type": "code",
   "execution_count": 11,
   "metadata": {},
   "outputs": [
    {
     "name": "stdout",
     "output_type": "stream",
     "text": [
      "SUBS: n=21 (['110', '101', '016', '023', '017', '022', '012', '008', '103', '013', '108', '014', '105', '102', '019', '010', '009', '021', '020', '107', '109'])\n"
     ]
    }
   ],
   "source": [
    "# get all available subs with features\n",
    "SUBS = utilsFiles.get_avail_ssd_subs(DATA_VERSION=DATA_VERSION,\n",
    "                                     FT_VERSION=FT_VERSION,\n",
    "                                     IGNORE_PTS=IGNORE_PTS)\n",
    "print(f'SUBS: n={len(SUBS)} ({SUBS})')  # should be 21\n"
   ]
  },
  {
   "attachments": {},
   "cell_type": "markdown",
   "metadata": {},
   "source": [
    "## 1) Import neural features and clinical labels\n",
    "\n",
    "- For predictions with ECoG-depending features: exclude moments of UNILATERAL dyskinesia IPSILATERAL to ECoG hemisphere"
   ]
  },
  {
   "cell_type": "code",
   "execution_count": null,
   "metadata": {},
   "outputs": [],
   "source": [
    "# importlib.reload(load_ssdFts)\n",
    "\n",
    "# # use as single ft example to debug/develop\n",
    "# sub_fts = load_ssdFts.ssdFeatures(\n",
    "#     sub_list=['023'],\n",
    "#     settings_json=f'ftExtr_spectral_{FT_VERSION}.json',\n",
    "#     data_version=DATA_VERSION,\n",
    "# )"
   ]
  },
  {
   "cell_type": "markdown",
   "metadata": {},
   "source": [
    "Get DataClass containing FEATS and CDRS-LABELS"
   ]
  },
  {
   "cell_type": "code",
   "execution_count": null,
   "metadata": {},
   "outputs": [],
   "source": [
    "import lfpecog_analysis.get_acc_task_derivs as accDerivs"
   ]
  },
  {
   "cell_type": "code",
   "execution_count": null,
   "metadata": {},
   "outputs": [],
   "source": [
    "# # CREATE FeatureClass containing all features\n",
    "# importlib.reload(utilsFiles)\n",
    "# importlib.reload(accDerivs)\n",
    "# importlib.reload(ftProc)\n",
    "# importlib.reload(importClin)\n",
    "# importlib.reload(load_ssdFts)\n",
    "# importlib.reload(ftLidCorr)\n",
    "\n",
    "\n",
    "# FT_VERSION = 'v6'\n",
    "# INCL_CORE_CDRS = True\n",
    "# CATEG_CDRS = False  # if False, full CDRS spectrum is used\n",
    "# MILD_CDRS = 5  # cut off for dyskinesia categorization\n",
    "# SEV_CDRS = 10  # cut off for dyskinesia categorization\n",
    "\n",
    "# FeatLid = ftProc.FeatLidClass(\n",
    "#     FT_VERSION=FT_VERSION,\n",
    "#     INCL_ECOG=True,\n",
    "#     INCL_ACC_RMS=True,\n",
    "#     CATEGORICAL_CDRS=CATEG_CDRS,\n",
    "#     CORR_TARGET='CDRS',  # target for correlation dataframe (not relevant)\n",
    "#     cutMild=MILD_CDRS, cutSevere=SEV_CDRS,\n",
    "#     TO_CALC_CORR=True,\n",
    "# )\n"
   ]
  },
  {
   "cell_type": "code",
   "execution_count": null,
   "metadata": {},
   "outputs": [],
   "source": [
    "# # SAVE FeatLabelClass as pickle\n",
    "\n",
    "# featLabPath = os.path.join(utilsFiles.get_project_path('data'),\n",
    "#                            'prediction_data',\n",
    "#                            'featLabelClasses')\n",
    "# className = f'featLabels_ft{FT_VERSION}'\n",
    "# if FeatLid.CORR_TARGET == 'LID': className += '_Lid'\n",
    "# elif FeatLid.CATEGORICAL_CDRS == True: className += '_CatCdrs'\n",
    "# else: className += '_Cdrs'\n",
    "\n",
    "# if FeatLid.INCL_ECOG: className += '_Ecog'\n",
    "# else: className += '_StnOnly'\n",
    "\n",
    "# utilsFiles.save_class_pickle(class_to_save=FeatLid,\n",
    "#                              path=featLabPath,\n",
    "#                              filename=className)"
   ]
  },
  {
   "cell_type": "code",
   "execution_count": null,
   "metadata": {},
   "outputs": [],
   "source": [
    "import lfpecog_analysis.stats_fts_lid_corrs as ft_stats"
   ]
  },
  {
   "cell_type": "code",
   "execution_count": 103,
   "metadata": {},
   "outputs": [
    {
     "name": "stdout",
     "output_type": "stream",
     "text": [
      "... pickle loading: c:\\Users\\habetsj\\Research\\projects\\dyskinesia_neurophys\\data\\prediction_data\\featLabelClasses\\featLabels_ftv6_Cdrs_Ecog.P\n"
     ]
    }
   ],
   "source": [
    "# LOAD existing classes with features and labels\n",
    "INCL_ECOG = True  # if True, STN-only patients are NOT included\n",
    "MILD_CDRS = 4  # cut off for dyskinesia categorization\n",
    "SEV_CDRS = 8  # cut off for dyskinesia categorization\n",
    "\n",
    "if INCL_ECOG: ecog_ext = '_Ecog'\n",
    "else: ecog_ext = '_StnOnly'\n",
    "\n",
    "# define path where pickle is saved\n",
    "featLabPath = os.path.join(\n",
    "    utilsFiles.get_project_path('data'),\n",
    "    'prediction_data', 'featLabelClasses'\n",
    ")\n",
    "\n",
    "predData = utilsFiles.load_class_pickle(\n",
    "    os.path.join(featLabPath,\n",
    "                 f'featLabels_ft{FT_VERSION}_'\n",
    "                 f'Cdrs{ecog_ext}.P'),\n",
    "    convert_float_np64=True\n",
    ")\n",
    "# MERGE GAMMA1-2-3 FEATURES\n",
    "for sub in predData.FEATS:\n",
    "    predData.FEATS[sub] = ft_stats.replace_gammas_for_maxGamma(predData.FEATS[sub])\n"
   ]
  },
  {
   "cell_type": "markdown",
   "metadata": {},
   "source": [
    "#### Explore data\n",
    "\n",
    "- Subject info\n",
    "    - 0XX: subjects with ECoG\n",
    "    - 1XX: subject WITHOUT ECoG\n",
    "\n",
    "- Class info\n",
    "    - stored in class FeatLidClass()\n",
    "    - class definition in lfpecog_analysis.ft_processing_helpers\n",
    "    - \n",
    "\n",
    "- FEATS: feature dict, sorted on subject\n",
    "    - FEATS['022] contains dataframe with features per 10-sec window, 50% overlap\n",
    "    - FEATS['022].index are timestamps for windows\n",
    "    - FEATS['022].keys() are feature names\n",
    "    -\n",
    "\n",
    "- FT_LABELS: dyskinesia-label dict, sorted on subject\n",
    "    - FEATS['022] contains array with dyskinesia labels, corresponding to FEATS\n",
    "    - contains full CDRS scales\n",
    "\n"
   ]
  },
  {
   "cell_type": "code",
   "execution_count": 90,
   "metadata": {},
   "outputs": [
    {
     "name": "stdout",
     "output_type": "stream",
     "text": [
      "dict_keys(['FT_VERSION', 'CDRS_RATER', 'ANALYSIS_SIDE', 'INCL_STN', 'INCL_ECOG', 'EXCL_IPSI_ECOG', 'INCL_CORE_CDRS', 'INCL_PSD_FTS', 'INCL_ACC_RMS', 'IGNORE_PTS', 'CATEGORICAL_CDRS', 'cutMild', 'cutSevere', 'WIN_LEN_sec', 'WIN_OVERLAP_part', 'TO_CALC_CORR', 'CORR_TARGET', 'DATA_VERSION', 'SUBS', 'FEATS', 'FT_LABELS', 'ACC_RMS', 'corrs', 'stat_df'])\n"
     ]
    }
   ],
   "source": [
    "# Class attributes\n",
    "print(vars(predData).keys())\n",
    "\n"
   ]
  },
  {
   "cell_type": "code",
   "execution_count": 91,
   "metadata": {},
   "outputs": [
    {
     "name": "stdout",
     "output_type": "stream",
     "text": [
      "feat dict FEATS, sorted by patient:\n",
      "sub 022 FEATS df SHAPE: (580, 70)\n",
      "Window timestamps: Float64Index([-0.5833333333333334, -0.5, -0.4166666666666667,\n",
      "              -0.3333333333333333, -0.25],\n",
      "             dtype='float64')\n",
      "Feature names: Index(['ecog_right_delta_mean_psd', 'ecog_right_delta_variation',\n",
      "       'ecog_right_alpha_mean_psd', 'ecog_right_alpha_variation',\n",
      "       'ecog_right_lo_beta_mean_psd'],\n",
      "      dtype='object')\n"
     ]
    }
   ],
   "source": [
    "ex_sub = '022'\n",
    "# FEATURE dict \n",
    "print(f'feat dict FEATS, sorted by patient:')\n",
    "print(f'sub {ex_sub} FEATS df SHAPE: {predData.FEATS[ex_sub].shape}')\n",
    "print(f'Window timestamps: {predData.FEATS[ex_sub].index[:5]}')\n",
    "print(f'Feature names: {predData.FEATS[ex_sub].keys()[:5]}')\n",
    "# predData.FEATS['022']  # dataframe with features, index = dopa_time in minutes\n",
    "\n"
   ]
  },
  {
   "cell_type": "code",
   "execution_count": 93,
   "metadata": {},
   "outputs": [
    {
     "name": "stdout",
     "output_type": "stream",
     "text": [
      "feat dict FT_LABELS, sorted by patient:\n",
      "dict_keys(['012', '016', '019', '008', '013', '010', '022', '021', '017', '023', '009', '020', '014'])\n",
      "sub 022 FT_LABELS arr SHAPE: (580,)\n"
     ]
    }
   ],
   "source": [
    "# Dyskinesia label dict\n",
    "print(f'feat dict FT_LABELS, sorted by patient:')\n",
    "print(predData.FT_LABELS.keys())\n",
    "print(f'sub {ex_sub} FT_LABELS arr SHAPE: {predData.FT_LABELS[ex_sub].shape}')\n",
    "\n",
    "orig_cdrs = predData.FT_LABELS[ex_sub].copy()\n",
    "\n",
    "# to convert to categories\n",
    "# categorized outcome:\n",
    "# 0: none,\n",
    "# 1: mild,\n",
    "# 2: moderate,\n",
    "# 3: severe\n",
    "cat_cdrs = ftProc.categorical_CDRS(\n",
    "    orig_cdrs, preLID_separate=False,\n",
    "    preLID_minutes=0,\n",
    "    cutoff_mildModerate=MILD_CDRS,\n",
    "    cutoff_moderateSevere=SEV_CDRS\n",
    ")\n"
   ]
  },
  {
   "cell_type": "code",
   "execution_count": 94,
   "metadata": {},
   "outputs": [
    {
     "name": "stdout",
     "output_type": "stream",
     "text": [
      "feat dict FT_LABELS, sorted by patient:\n",
      "dict_keys(['012', '016', '019', '008', '013', '010', '022', '021', '017', '023', '009', '020', '014'])\n",
      "sub 022 FT_LABELS arr SHAPE: (580,)\n"
     ]
    }
   ],
   "source": [
    "# RMS ACC movement dict\n",
    "print(f'feat dict FT_LABELS, sorted by patient:')\n",
    "print(predData.FT_LABELS.keys())\n",
    "print(f'sub {ex_sub} FT_LABELS arr SHAPE: {predData.FT_LABELS[ex_sub].shape}')\n",
    "\n",
    "orig_cdrs = predData.FT_LABELS[ex_sub].copy()\n",
    "\n",
    "# to convert to categories\n",
    "# categorized outcome:\n",
    "# 0: none,\n",
    "# 1: mild,\n",
    "# 2: moderate,\n",
    "# 3: severe\n",
    "cat_cdrs = ftProc.categorical_CDRS(\n",
    "    orig_cdrs, preLID_separate=False,\n",
    "    preLID_minutes=0,\n",
    "    cutoff_mildModerate=MILD_CDRS,\n",
    "    cutoff_moderateSevere=SEV_CDRS\n",
    ")"
   ]
  },
  {
   "cell_type": "markdown",
   "metadata": {},
   "source": [
    "#### create prediction arrays based on imported features and labels"
   ]
  },
  {
   "cell_type": "code",
   "execution_count": 95,
   "metadata": {},
   "outputs": [
    {
     "name": "stdout",
     "output_type": "stream",
     "text": [
      "\tfor sub-012, added X-shape: (803, 70)\n",
      "\tfor sub-016, added X-shape: (679, 70)\n",
      "\tfor sub-019, added X-shape: (927, 70)\n",
      "\tfor sub-008, added X-shape: (545, 70)\n",
      "\tfor sub-013, added X-shape: (659, 70)\n",
      "\tfor sub-010, added X-shape: (670, 70)\n",
      "\tfor sub-022, added X-shape: (580, 70)\n",
      "\tfor sub-021, added X-shape: (526, 70)\n",
      "\tfor sub-017, added X-shape: (549, 70)\n",
      "\tfor sub-023, added X-shape: (549, 70)\n",
      "\tfor sub-009, added X-shape: (768, 70)\n",
      "\tfor sub-020, added X-shape: (420, 70)\n",
      "\tfor sub-014, added X-shape: (519, 70)\n",
      "012 803\n",
      "removed rows n=86\n",
      "(8108, 70) (8108,) (8108,) (8108,) (8108,)\n",
      "out of n=8108 samples, n=4282 are Dyskinesia (52.8 %)\n",
      "Subjects (n=13) included: ['008' '009' '010' '012' '013' '014' '016' '017' '019' '020' '021' '022'\n",
      " '023']\n"
     ]
    }
   ],
   "source": [
    "# Create arrays per subject based on features and labels\n",
    "importlib.reload(prep_pred_arrs)\n",
    "\n",
    "(X_total, y_total_binary,\n",
    " y_total_scale, sub_ids_total,\n",
    " ft_times_total, ft_names) = prep_pred_arrs.get_group_arrays_for_prediction(\n",
    "    feat_dict=predData.FEATS,\n",
    "    label_dict=predData.FT_LABELS,\n",
    "    TO_PLOT = False)\n",
    "\n",
    "# Merge subject-arrays to one group array for prediction\n",
    "(X_all, y_all_binary,\n",
    " y_all_scale, sub_ids,\n",
    " ft_times_all) = prep_pred_arrs.merge_group_arrays(X_total=X_total,\n",
    "                                    y_total_binary=y_total_binary,\n",
    "                                    y_total_scale=y_total_scale,\n",
    "                                    sub_ids_total=sub_ids_total,\n",
    "                                    ft_times_total=ft_times_total)\n",
    "\n",
    "\n",
    "print(f'Subjects (n={len(np.unique(sub_ids))}) included: {np.unique(sub_ids)}')"
   ]
  },
  {
   "cell_type": "markdown",
   "metadata": {},
   "source": [
    "## 2) Import epoched SSD-data\n",
    "\n",
    "- Class info\n",
    "    - stored in class get_subject_SSDs(), (defined in lfpecog_features.get_ssd_data)\n",
    "    - contains lfp_left, lfp_right (ecog_right/ecog_left): class SSD_bands_windowed()\n",
    "\n",
    "- lfp_left, lfp_right, ecog_right\n",
    "    - stored in class SSD_bands_windowed(), (defined in lfpecog_features.get_ssd_data)\n",
    "    - contains:\n",
    "        - delta (IS THETA!!)\n",
    "        - alpha\n",
    "        - lo_beta\n",
    "        - hi_beta\n",
    "        - gamma1\n",
    "        - gamma2\n",
    "        - gamma3\n",
    "\n",
    "- e.g. lo_beta is array with timeseries: windows x samples (720, 20480)"
   ]
  },
  {
   "cell_type": "code",
   "execution_count": 45,
   "metadata": {},
   "outputs": [],
   "source": [
    "import lfpecog_features.get_ssd_data as ssd\n",
    "import lfpecog_analysis.get_SSD_timefreqs as ssd_TimeFreq\n",
    "import lfpecog_plotting.plot_timeFreqs_ssd_psds as plot_ssd_TFs"
   ]
  },
  {
   "cell_type": "code",
   "execution_count": 46,
   "metadata": {},
   "outputs": [
    {
     "name": "stdout",
     "output_type": "stream",
     "text": [
      "...loading windowed ssd c:\\Users\\habetsj\\Research\\projects\\dyskinesia_neurophys\\data\\windowed_data_classes_10s_0.5overlap\\v4.0\\sub-022\\broadSSD_windowedBands_022_ecog_right_v6.json c:\\Users\\habetsj\\Research\\projects\\dyskinesia_neurophys\\data\\windowed_data_classes_10s_0.5overlap\\v4.0\\sub-022\\broadSSD_windowedBands_022_ecog_right_v6.npy\n",
      "\t...loaded SSD windowed-data and meta-info for ecog_right of sub-022\n",
      "...loading windowed ssd c:\\Users\\habetsj\\Research\\projects\\dyskinesia_neurophys\\data\\windowed_data_classes_10s_0.5overlap\\v4.0\\sub-022\\broadSSD_windowedBands_022_lfp_left_v6.json c:\\Users\\habetsj\\Research\\projects\\dyskinesia_neurophys\\data\\windowed_data_classes_10s_0.5overlap\\v4.0\\sub-022\\broadSSD_windowedBands_022_lfp_left_v6.npy\n",
      "\t...loaded SSD windowed-data and meta-info for lfp_left of sub-022\n",
      "...loading windowed ssd c:\\Users\\habetsj\\Research\\projects\\dyskinesia_neurophys\\data\\windowed_data_classes_10s_0.5overlap\\v4.0\\sub-022\\broadSSD_windowedBands_022_lfp_right_v6.json c:\\Users\\habetsj\\Research\\projects\\dyskinesia_neurophys\\data\\windowed_data_classes_10s_0.5overlap\\v4.0\\sub-022\\broadSSD_windowedBands_022_lfp_right_v6.npy\n",
      "\t...loaded SSD windowed-data and meta-info for lfp_right of sub-022\n"
     ]
    }
   ],
   "source": [
    "ex_sub = '022'\n",
    "# import dataclass containing SSD data\n",
    "ssdSub = ssd.get_subject_SSDs(sub=ex_sub,\n",
    "                             incl_stn=True,\n",
    "                             incl_ecog=True,\n",
    "                             ft_setting_fname=f'ftExtr_spectral_{FT_VERSION}.json',\n",
    "                            #  ft_setting_path='INSERT OWN PATH WITH SETTING JSON',\n",
    "                             )\n"
   ]
  },
  {
   "cell_type": "code",
   "execution_count": 68,
   "metadata": {},
   "outputs": [
    {
     "data": {
      "text/plain": [
       "(720, 20480)"
      ]
     },
     "execution_count": 68,
     "metadata": {},
     "output_type": "execute_result"
    }
   ],
   "source": [
    "ssdSub.ecog_right.alpha.shape\n"
   ]
  },
  {
   "cell_type": "code",
   "execution_count": null,
   "metadata": {},
   "outputs": [],
   "source": []
  },
  {
   "cell_type": "code",
   "execution_count": null,
   "metadata": {},
   "outputs": [],
   "source": []
  }
 ],
 "metadata": {
  "kernelspec": {
   "display_name": "ecog_dysk",
   "language": "python",
   "name": "python3"
  },
  "language_info": {
   "codemirror_mode": {
    "name": "ipython",
    "version": 3
   },
   "file_extension": ".py",
   "mimetype": "text/x-python",
   "name": "python",
   "nbconvert_exporter": "python",
   "pygments_lexer": "ipython3",
   "version": "3.9.0"
  },
  "orig_nbformat": 4,
  "vscode": {
   "interpreter": {
    "hash": "2b948574b4cc10c9dd8fa8cab55862e7a8500229b4c7ca6593391d5001a62fb2"
   }
  }
 },
 "nbformat": 4,
 "nbformat_minor": 2
}
