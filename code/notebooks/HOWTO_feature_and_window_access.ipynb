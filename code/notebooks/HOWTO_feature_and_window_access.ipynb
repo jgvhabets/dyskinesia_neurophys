{
 "cells": [
  {
   "attachments": {},
   "cell_type": "markdown",
   "metadata": {},
   "source": [
    "# Examples on how to access prepared windows and features"
   ]
  },
  {
   "attachments": {},
   "cell_type": "markdown",
   "metadata": {},
   "source": [
    "### 0) Load packages and functions"
   ]
  },
  {
   "cell_type": "code",
   "execution_count": null,
   "metadata": {},
   "outputs": [],
   "source": [
    "# Importing Python and external packages\n",
    "import os\n",
    "import sys\n",
    "import json\n",
    "import importlib\n",
    "import pandas as pd\n",
    "import numpy as np\n",
    "\n",
    "import matplotlib.pyplot as plt\n"
   ]
  },
  {
   "cell_type": "code",
   "execution_count": null,
   "metadata": {},
   "outputs": [],
   "source": [
    "def get_project_path_in_notebook(\n",
    "    subfolder=False,\n",
    "):\n",
    "    \"\"\"\n",
    "    Finds path of projectfolder from Notebook.\n",
    "    Start running this once to correctly find\n",
    "    other modules/functions\n",
    "    \"\"\"\n",
    "    path = os.getcwd()\n",
    "\n",
    "    while path[-20:] != 'dyskinesia_neurophys':\n",
    "\n",
    "        path = os.path.dirname(path)\n",
    "    \n",
    "    if isinstance(subfolder, str):\n",
    "        if os.path.exists(os.path.join(path,\n",
    "                                       subfolder)):\n",
    "            path = os.path.join(path, subfolder)\n",
    "    \n",
    "    return path"
   ]
  },
  {
   "cell_type": "code",
   "execution_count": null,
   "metadata": {},
   "outputs": [],
   "source": [
    "# define local storage directories\n",
    "codepath = get_project_path_in_notebook('code')\n",
    "print(codepath)\n",
    "os.chdir(codepath)\n",
    "\n",
    "# own functions\n",
    "import utils.utils_fileManagement as utilsFiles\n",
    "import lfpecog_analysis.ft_processing_helpers as ftProc\n",
    "import lfpecog_analysis.load_SSD_features as load_ssdFts\n",
    "from lfpecog_features.get_ssd_data import get_subject_SSDs\n",
    "import lfpecog_predict.prepare_predict_arrays as prep_pred_arrs\n",
    "import lfpecog_analysis.get_acc_task_derivs as accDerivs\n",
    "import lfpecog_analysis.stats_fts_lid_corrs as ft_stats"
   ]
  },
  {
   "attachments": {},
   "cell_type": "markdown",
   "metadata": {},
   "source": [
    "### 0) Define settings"
   ]
  },
  {
   "cell_type": "code",
   "execution_count": null,
   "metadata": {},
   "outputs": [],
   "source": [
    "USER='jeroen'\n",
    "\n",
    "# ft v6 (data v4.0) is most recent, WITHOUT TAP-MOVEMENT EXCLUSION\n",
    "DATA_VERSION = 'v4.0'    # v4.0: new artef-rem, no reref; v3.0 multiple re-ref\n",
    "FT_VERSION = 'v8'\n",
    "# INCL_PSD_FTS=['mean_psd', 'variation']\n",
    "IGNORE_PTS = ['011', '104', '106']  # aborted protocol, poor quality\n",
    "\n",
    "CDRS_RATER = 'Patricia'\n",
    "ANALYSIS_SIDE = 'BILAT'\n",
    "INCL_CORE_CDRS = True\n",
    "CATEGORICAL_CDRS = False\n",
    "\n",
    "MILD_CDRS = 4  # cut off for dyskinesia categorization\n",
    "SEV_CDRS = 8  # cut off for dyskinesia categorization"
   ]
  },
  {
   "cell_type": "code",
   "execution_count": null,
   "metadata": {},
   "outputs": [],
   "source": [
    "importlib.reload(utilsFiles)\n",
    "\n",
    "# get all available subs with features\n",
    "SUBS = utilsFiles.get_avail_ssd_subs(DATA_VERSION=DATA_VERSION,\n",
    "                                     FT_VERSION=FT_VERSION,\n",
    "                                     IGNORE_PTS=IGNORE_PTS,\n",
    "                                     USER=USER)\n",
    "print(f'SUBS: n={len(SUBS)} ({SUBS})')  # should be 21\n"
   ]
  },
  {
   "attachments": {},
   "cell_type": "markdown",
   "metadata": {},
   "source": [
    "## 1) Import neural features and clinical labels\n",
    "\n",
    "- For predictions with ECoG-depending features: exclude moments of UNILATERAL dyskinesia IPSILATERAL to ECoG hemisphere"
   ]
  },
  {
   "cell_type": "markdown",
   "metadata": {},
   "source": [
    "Get DataClass containing FEATS and CDRS-LABELS"
   ]
  },
  {
   "cell_type": "code",
   "execution_count": null,
   "metadata": {},
   "outputs": [],
   "source": [
    "# # CREATE FeatureClass containing all features\n",
    "# importlib.reload(utilsFiles)\n",
    "# importlib.reload(accDerivs)\n",
    "# importlib.reload(ftProc)\n",
    "# importlib.reload(load_ssdFts)\n",
    "\n",
    "\n",
    "# FT_VERSION = 'v8'\n",
    "# INCL_CORE_CDRS = True\n",
    "# CATEG_CDRS = False  # if False, full CDRS spectrum is used\n",
    "# MILD_CDRS = 3.5  # cut off for dyskinesia categorization\n",
    "# SEV_CDRS = 7.5  # cut off for dyskinesia categorization\n",
    "\n",
    "# FeatLid = ftProc.FeatLidClass(\n",
    "#     FT_VERSION=FT_VERSION,\n",
    "#     CDRS_RATER='Patricia',\n",
    "#     INCL_ECOG=False,\n",
    "#     INCL_ACC_RMS=True,\n",
    "#     CATEGORICAL_CDRS=CATEG_CDRS,\n",
    "#     CORR_TARGET='CDRS',  # target for correlation dataframe (not relevant)\n",
    "#     cutMild=MILD_CDRS, cutSevere=SEV_CDRS,\n",
    "#     TO_CALC_CORR=False,\n",
    "# )\n"
   ]
  },
  {
   "cell_type": "code",
   "execution_count": null,
   "metadata": {},
   "outputs": [],
   "source": [
    "# # SAVE FeatLabelClass as pickle\n",
    "\n",
    "# featLabPath = os.path.join(utilsFiles.get_project_path('data'),\n",
    "#                            'prediction_data',\n",
    "#                            'featLabelClasses')\n",
    "# className = f'featLabels_inclAcc_ft{FT_VERSION}'\n",
    "# if FeatLid.CORR_TARGET == 'LID': className += '_Lid'\n",
    "# elif FeatLid.CATEGORICAL_CDRS == True: className += '_CatCdrs'\n",
    "# else: className += '_Cdrs'\n",
    "\n",
    "# if FeatLid.INCL_ECOG: className += '_Ecog'\n",
    "# else: className += '_StnOnly'\n",
    "\n",
    "# utilsFiles.save_class_pickle(class_to_save=FeatLid,\n",
    "#                              path=featLabPath,\n",
    "#                              filename=className)"
   ]
  },
  {
   "cell_type": "code",
   "execution_count": null,
   "metadata": {},
   "outputs": [],
   "source": []
  },
  {
   "cell_type": "code",
   "execution_count": null,
   "metadata": {},
   "outputs": [],
   "source": [
    "importlib.reload(ft_stats)\n",
    "\n",
    "featLabPath = os.path.join(utilsFiles.get_project_path('data'),\n",
    "                           'prediction_data',\n",
    "                           'featLabelClasses')\n",
    "\n",
    "# LOAD existing classes with features and labels\n",
    "INCL_ACC = True\n",
    "INCL_ECOG = False  # if True, STN-only patients are NOT included\n",
    "MILD_CDRS = 4  # cut off for dyskinesia categorization\n",
    "SEV_CDRS = 8  # cut off for dyskinesia categorization\n",
    "\n",
    "if INCL_ECOG: ecog_ext = '_Ecog'\n",
    "else: ecog_ext = '_StnOnly'\n",
    "\n",
    "# define path where pickle is saved\n",
    "featLabPath = os.path.join(\n",
    "    utilsFiles.get_project_path('data', USER=USER),\n",
    "    'prediction_data', 'featLabelClasses'\n",
    ")\n",
    "filename = f'featLabels_ft{FT_VERSION}_Cdrs{ecog_ext}.P'\n",
    "if INCL_ACC: filename = filename.replace('featLabels', 'featLabels_inclAcc')\n",
    "predData = utilsFiles.load_class_pickle(\n",
    "    os.path.join(featLabPath, filename),\n",
    "    convert_float_np64=True\n",
    ")\n",
    "# MERGE GAMMA1-2-3 FEATURES\n",
    "for sub in predData.FEATS:\n",
    "    predData.FEATS[sub] = ft_stats.replace_gammas_for_meanGamma(predData.FEATS[sub])\n"
   ]
  },
  {
   "cell_type": "code",
   "execution_count": null,
   "metadata": {},
   "outputs": [],
   "source": [
    "# # Load v6 to get ACC-values\n",
    "\n",
    "# featLabPath = os.path.join(utilsFiles.get_project_path('data'),\n",
    "#                            'prediction_data',\n",
    "#                            'featLabelClasses')\n",
    "\n",
    "# INCL_ECOG_acc = INCL_ECOG  # if True, STN-only patients are NOT included\n",
    "\n",
    "# if INCL_ECOG_acc: ecog_acc = '_Ecog'\n",
    "# else: ecog_acc = '_StnOnly'\n",
    "\n",
    "# AccData = utilsFiles.load_class_pickle(\n",
    "#     os.path.join(featLabPath,\n",
    "#                  f'featLabels_ftv6_'\n",
    "#                  f'Cdrs{ecog_acc}.P'),\n",
    "#     convert_float_np64=True\n",
    "# )"
   ]
  },
  {
   "cell_type": "markdown",
   "metadata": {},
   "source": [
    "#### Explore data\n",
    "\n",
    "- Subject info\n",
    "    - 0XX: subjects with ECoG\n",
    "    - 1XX: subject WITHOUT ECoG\n",
    "\n",
    "- Class info\n",
    "    - stored in class FeatLidClass()\n",
    "    - class definition in lfpecog_analysis.ft_processing_helpers\n",
    "    - \n",
    "\n",
    "- FEATS: feature dict, sorted on subject\n",
    "    - FEATS['022] contains dataframe with features per 10-sec window, 50% overlap\n",
    "    - FEATS['022].index are timestamps for windows\n",
    "    - FEATS['022].keys() are feature names\n",
    "    -\n",
    "\n",
    "- FT_LABELS: dyskinesia-label dict, sorted on subject\n",
    "    - FEATS['022] contains array with dyskinesia labels, corresponding to FEATS\n",
    "    - contains full CDRS scales\n",
    "    - \n",
    "\n",
    "- ACC_RMS: mean (L + R) 10-sec (z-scored) root mean squares of vector magnitude of acc-data\n",
    "    - FEATS['022] contains array with RMS values, corresponding to FEATS\n",
    "    - average rms values are z-scored within every patient, movement cut off was -0.5 \n",
    "\n"
   ]
  },
  {
   "cell_type": "code",
   "execution_count": null,
   "metadata": {},
   "outputs": [],
   "source": [
    "# Class attributes\n",
    "print(vars(predData).keys())"
   ]
  },
  {
   "cell_type": "code",
   "execution_count": null,
   "metadata": {},
   "outputs": [],
   "source": [
    "ex_sub = '022'\n",
    "# FEATURE dict \n",
    "print(f'feat dict FEATS, sorted by patient:')\n",
    "print(f'sub {ex_sub} FEATS df SHAPE: {predData.FEATS[ex_sub].shape}')\n",
    "print(f'Window timestamps: {predData.FEATS[ex_sub].index[:5]}')\n",
    "print(f'Feature names: {predData.FEATS[ex_sub].keys()[:5]}')\n",
    "# predData.FEATS['022']  # dataframe with features, index = dopa_time in minutes\n",
    "\n",
    "print(f'Feature names: {predData.FEATS[ex_sub].keys()}')\n"
   ]
  },
  {
   "cell_type": "code",
   "execution_count": null,
   "metadata": {},
   "outputs": [],
   "source": [
    "# Dyskinesia label dict\n",
    "print(f'feat dict FT_LABELS, sorted by patient:')\n",
    "print(predData.FT_LABELS.keys())\n",
    "print(f'sub {ex_sub} FT_LABELS arr SHAPE: {predData.FT_LABELS[ex_sub].shape}')\n",
    "\n",
    "orig_cdrs = predData.FT_LABELS[ex_sub].copy()\n",
    "\n",
    "# to convert to categories\n",
    "# categorized outcome:\n",
    "# 0: none,\n",
    "# 1: mild,\n",
    "# 2: moderate,\n",
    "# 3: severe\n",
    "cat_cdrs = ftProc.categorical_CDRS(\n",
    "    orig_cdrs, preLID_separate=False,\n",
    "    preLID_minutes=0,\n",
    "    cutoff_mildModerate=MILD_CDRS,\n",
    "    cutoff_moderateSevere=SEV_CDRS\n",
    ")\n"
   ]
  },
  {
   "cell_type": "code",
   "execution_count": null,
   "metadata": {},
   "outputs": [],
   "source": [
    "# # Check RMS-ACC-v6 with FEATS-v8\n",
    "\n",
    "# for sub in predData.FEATS.keys():\n",
    "# # print(f'feat dict ACC_RMS, sorted by patient:')\n",
    "# # print(AccData.ACC_RMS.keys())\n",
    "# # print(f'sub {ex_sub} FT_LABELS arr SHAPE: {AccData.ACC_RMS[ex_sub].shape}')\n",
    "# # rms_sub = AccData.ACC_RMS[ex_sub].copy()\n",
    "\n",
    "#     print(f'sub-{sub} FEATS  SHAPE: {predData.FEATS[sub].shape}')\n",
    "#     print(f'sub-{sub} ACC arr SHAPE: {AccData.ACC_RMS[sub].shape}')\n",
    "\n",
    "#     plt.plot(AccData.ACC_RMS[sub], alpha=.3,)\n",
    "\n",
    "# plt.show()\n",
    "\n"
   ]
  },
  {
   "cell_type": "markdown",
   "metadata": {},
   "source": [
    "#### create prediction arrays based on imported features and labels\n",
    "\n",
    "- creates:\n",
    "    - X (features),\n",
    "    - y (labels),\n",
    "    - sub_ids.\n",
    "- does not create:\n",
    "    - parallel movement (RMS) yet (can be done parallel to y creation)"
   ]
  },
  {
   "cell_type": "code",
   "execution_count": null,
   "metadata": {},
   "outputs": [],
   "source": [
    "# acc_rms = []\n",
    "\n",
    "# for sub in predData.FEATS.keys():\n",
    "#     acc_rms.extend(AccData.ACC_RMS[sub])\n",
    "\n",
    "# acc_rms = np.array(acc_rms)\n",
    "# print(acc_rms.shape)"
   ]
  },
  {
   "cell_type": "code",
   "execution_count": null,
   "metadata": {},
   "outputs": [],
   "source": [
    "# Create arrays per subject based on features and labels\n",
    "importlib.reload(prep_pred_arrs)\n",
    "\n",
    "(X_total, y_total_binary,\n",
    " y_total_scale, sub_ids_total,\n",
    " ft_times_total, ft_names, acc_total) = prep_pred_arrs.get_group_arrays_for_prediction(\n",
    "    feat_dict=predData.FEATS,\n",
    "    label_dict=predData.FT_LABELS,\n",
    "    acc_dict=predData.ACC_RMS,\n",
    "    TO_PLOT = False)\n",
    "print(f'group arrays made (n={len(X_total)}), to do: merging...')\n",
    "# Merge subject-arrays to one group array for prediction\n",
    "(\n",
    "    X_all, y_all_binary, y_all_scale,\n",
    "    sub_ids, ft_times_all, acc_rms\n",
    ") = prep_pred_arrs.merge_group_arrays(\n",
    "    X_total=X_total,\n",
    "    y_total_binary=y_total_binary,\n",
    "    y_total_scale=y_total_scale,\n",
    "    sub_ids_total=sub_ids_total,\n",
    "    ft_times_total=ft_times_total,\n",
    "    ext_acc_arr=acc_total,  # False or array acc_rms\n",
    ")\n",
    "print('group arrays merged')\n",
    "\n",
    "# add categorical CDRS labels\n",
    "y_all_categ = ftProc.categorical_CDRS(\n",
    "    y_all_scale, preLID_separate=False,\n",
    "    preLID_minutes=0,\n",
    "    cutoff_mildModerate=MILD_CDRS,\n",
    "    cutoff_moderateSevere=SEV_CDRS\n",
    ")\n",
    "\n",
    "print(f'Subjects (n={len(np.unique(sub_ids))}) included: {np.unique(sub_ids)}')"
   ]
  },
  {
   "cell_type": "code",
   "execution_count": null,
   "metadata": {},
   "outputs": [],
   "source": [
    "import pickle"
   ]
  },
  {
   "cell_type": "code",
   "execution_count": null,
   "metadata": {},
   "outputs": [],
   "source": [
    "###### Save FEATS for Timon\n",
    " \n",
    "dict_data = {\n",
    "    \"X_all\" : X_all,\n",
    "    \"y_all_binary\" : y_all_binary,\n",
    "    \"y_all_categ\" : y_all_categ,\n",
    "    \"y_all_scale\" : y_all_scale,\n",
    "    \"sub_ids\" : sub_ids,\n",
    "    \"ft_times_all\" : ft_times_all,\n",
    "    \"ft_names\" : ft_names,\n",
    "    \"ACC_RMS\" : acc_rms\n",
    "}\n",
    " \n",
    "with open(\n",
    "    os.path.join(utilsFiles.get_project_path('data'),\n",
    "                 'prediction_data',\n",
    "                 \"X_cross_val_data_STN_acc_v8.pickle\"),\n",
    "    \"wb\"\n",
    ") as f:\n",
    "    pickle.dump(dict_data, f)\n",
    "\n",
    "# Save ACC Movement arrays\n",
    "\n",
    "##### Prepare ACC RMS full array\n",
    "\n",
    "\n",
    "# dict_acc = {\"ACC_RMS\" : acc_rms,\n",
    "#             \"sub_ids\" : sub_ids,\n",
    "#             \"ft_times_all\" : ft_times_all\n",
    "#             }\n",
    " \n",
    "# with open(\n",
    "#     os.path.join(utilsFiles.get_project_path('data'),\n",
    "#                  'prediction_data',\n",
    "#                  \"ACC_dataPlus_STN.pickle\"),\n",
    "#     \"wb\"\n",
    "# ) as f:\n",
    "#     pickle.dump(dict_acc, f)"
   ]
  },
  {
   "cell_type": "markdown",
   "metadata": {},
   "source": [
    "## 2) Import epoched raw- or SSDed-data\n"
   ]
  },
  {
   "cell_type": "markdown",
   "metadata": {},
   "source": [
    "\n",
    "#### A) SSD import\n",
    "\n",
    "- SSD Class info\n",
    "    - stored in class get_subject_SSDs(), (defined in lfpecog_features.get_ssd_data)\n",
    "    - contains lfp_left, lfp_right (ecog_right/ecog_left): class SSD_bands_windowed()\n",
    "\n",
    "    - lfp_left, lfp_right, ecog_right\n",
    "        - stored in class SSD_bands_windowed(), (defined in lfpecog_features.get_ssd_data)\n",
    "        - contains:\n",
    "            - times: list of start-window times for all timeseries-array rows\n",
    "            - fs (Hz)\n",
    "            - settings (dict) with all extraction settings\n",
    "            - delta (IS THETA!!)\n",
    "            - alpha\n",
    "            - lo_beta\n",
    "            - hi_beta\n",
    "            - gamma1\n",
    "            - gamma2\n",
    "            - gamma3\n",
    "\n",
    "    - e.g. lo_beta is array with timeseries: windows x samples (720, 20480)"
   ]
  },
  {
   "cell_type": "code",
   "execution_count": null,
   "metadata": {},
   "outputs": [],
   "source": [
    "import lfpecog_features.get_ssd_data as ssd\n",
    "import lfpecog_analysis.get_SSD_timefreqs as ssd_TimeFreq\n",
    "import lfpecog_plotting.plot_timeFreqs_ssd_psds as plot_ssd_TFs"
   ]
  },
  {
   "cell_type": "code",
   "execution_count": null,
   "metadata": {},
   "outputs": [],
   "source": [
    "importlib.reload(ssd)\n",
    "\n",
    "ex_sub = '022'\n",
    "# import dataclass containing SSD data\n",
    "\n",
    "ssdSub = ssd.get_subject_SSDs(sub=ex_sub,\n",
    "                             incl_stn=True,\n",
    "                             incl_ecog=True,\n",
    "                             ft_setting_fname=f'ftExtr_spectral_{FT_VERSION}.json',\n",
    "                             USER=USER,)\n"
   ]
  },
  {
   "cell_type": "code",
   "execution_count": null,
   "metadata": {},
   "outputs": [],
   "source": [
    "print(f'length of timestamps: {np.array(ssdSub.ecog_right.times).shape}')\n",
    "print(f'shape of ALPHA timeseries (windows x samples): {ssdSub.ecog_right.alpha.shape}')\n",
    "# settings contains (dict) all feature extraction settings\n",
    "print(f'sampling freq: {ssdSub.ecog_right.fs}, window length: '\n",
    "      f'{ssdSub.ecog_right.settings[\"WIN_LEN_sec\"]} sec')"
   ]
  },
  {
   "cell_type": "markdown",
   "metadata": {},
   "source": [
    "\n",
    "#### B) Raw windows import\n",
    "\n",
    "- windowed Class info\n",
    "    - stores ONE DATATYPE (LFP L/R / ECOG), for ONE subject\n",
    "    - stored in class windowedData(), (defined in utils.utils_windowing)\n",
    "    - contains:\n",
    "        - data: array, 3-dimens.: n-windows, n-samples, n-channels\n",
    "            NOTE: WINDOWS CAN STILL CONTAIN NANs\n",
    "        - fs: int\n",
    "        - keys: list (n-channels), contains dopa_time, ephys-channels,\n",
    "            task, and movement derivatives\n",
    "        - win_starttimes: list of winstart-times IN SECONDS (dopa_time)\n",
    "        "
   ]
  },
  {
   "cell_type": "code",
   "execution_count": null,
   "metadata": {},
   "outputs": [],
   "source": [
    "importlib.reload(utilsFiles)\n",
    "\n",
    "USER = 'jeroen'\n",
    "FT_VERSION = 'v6'\n",
    "\n",
    "# load ft extraction settings\n",
    "SETTINGS = utilsFiles.load_ft_ext_cfg(FT_VERSION=FT_VERSION,\n",
    "                                      USER=USER)\n",
    "\n",
    "# get available subs\n",
    "SUBS = SETTINGS['TOTAL_SUBS']\n",
    "\n",
    "# define \n",
    "ephys_sources = ['lfp_right', 'lfp_left', 'ecog_left', 'ecog_right']\n",
    "use_stored_windows = True\n",
    "\n",
    "sub = '022'\n",
    "\n",
    "\n",
    "windows_path = os.path.join(\n",
    "    utilsFiles.get_project_path('data', USER=USER),\n",
    "    'windowed_data_classes_'\n",
    "    f'{SETTINGS[\"WIN_LEN_sec\"]}s_'\n",
    "    f'{SETTINGS[\"WIN_OVERLAP_part\"]}overlap',\n",
    "    SETTINGS['DATA_VERSION'],\n",
    "    f'sub-{sub}')"
   ]
  },
  {
   "cell_type": "code",
   "execution_count": null,
   "metadata": {},
   "outputs": [],
   "source": [
    "windows = {}\n",
    "for dType in ephys_sources[:1]:\n",
    "    print(f'\\tstart {dType}')\n",
    "    # define path for windows of dType\n",
    "    dType_fname = (f'sub-{sub}_windows_'\n",
    "                   f'{SETTINGS[\"WIN_LEN_sec\"]}s_'\n",
    "                   f'{SETTINGS[\"DATA_VERSION\"]}_{dType}.P')\n",
    "    dType_win_path = os.path.join(windows_path, dType_fname)\n",
    "\n",
    "    # check if windows are already available\n",
    "    if np.logical_and(use_stored_windows,\n",
    "                      os.path.exists(dType_win_path)):\n",
    "        print(f'load data from {windows_path}....')\n",
    "        wins = utilsFiles.load_class_pickle(dType_win_path)\n",
    "        print(f'\\tWINDOWS LOADED from {dType_fname} in {windows_path}')\n",
    "\n",
    "        # add to dict\n",
    "        windows[dType] = wins\n",
    "    else:\n",
    "        print(f'data not found for sub-{sub}, {dType}')"
   ]
  },
  {
   "cell_type": "markdown",
   "metadata": {},
   "source": [
    "Load matching Dyskinesia scores to time array"
   ]
  },
  {
   "cell_type": "code",
   "execution_count": null,
   "metadata": {},
   "outputs": [],
   "source": [
    "\n",
    "sub = '022'\n",
    "# times of interest (in seconds)\n",
    "time_arr = np.array(windows['lfp_right'].win_starttimes)\n",
    "\n",
    "# get dyskinesia scores CONTRALATERAL to ECoG\n",
    "# note that function needs time in MINUTES\n",
    "sub_cdrs = ftProc.find_select_nearest_CDRS_for_ephys(\n",
    "    sub=sub,\n",
    "    ft_times=time_arr / 60,  # convert to minutes\n",
    "    side='contralat ecog', \n",
    "    INCL_CORE_CDRS=False,\n",
    "    cdrs_rater='Jeroen',\n",
    ")\n",
    "\n",
    "# get dyskinesia scores BILATERAL SUM incl. CORE\n",
    "# note that function needs time in MINUTES\n",
    "sub_cdrs = ftProc.find_select_nearest_CDRS_for_ephys(\n",
    "    sub=sub,\n",
    "    ft_times=time_arr / 60,  # convert to minutes\n",
    "    side='bilat', \n",
    "    INCL_CORE_CDRS=True,\n",
    "    cdrs_rater='Jeroen',\n",
    ")"
   ]
  },
  {
   "cell_type": "code",
   "execution_count": null,
   "metadata": {},
   "outputs": [],
   "source": [
    "# example\n",
    "print(f'data shape: {wins.data.shape} (sfreq: {wins.fs} Hz)')\n",
    "print(f'corresponding times of window start: {len(wins.win_starttimes)}')\n",
    "print(f'corresponding channel keys: {len(wins.keys)}')\n",
    "\n",
    "print(f'corresponding dyskinesia scores: {len(sub_cdrs)}')"
   ]
  }
 ],
 "metadata": {
  "kernelspec": {
   "display_name": "ecog_dysk",
   "language": "python",
   "name": "python3"
  },
  "language_info": {
   "codemirror_mode": {
    "name": "ipython",
    "version": 3
   },
   "file_extension": ".py",
   "mimetype": "text/x-python",
   "name": "python",
   "nbconvert_exporter": "python",
   "pygments_lexer": "ipython3",
   "version": "3.9.0"
  },
  "orig_nbformat": 4,
  "vscode": {
   "interpreter": {
    "hash": "2b948574b4cc10c9dd8fa8cab55862e7a8500229b4c7ca6593391d5001a62fb2"
   }
  }
 },
 "nbformat": 4,
 "nbformat_minor": 2
}
