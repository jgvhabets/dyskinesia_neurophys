{
 "cells": [
  {
   "attachments": {},
   "cell_type": "markdown",
   "metadata": {},
   "source": [
    "# Examples on how to access prepared windows and features"
   ]
  },
  {
   "attachments": {},
   "cell_type": "markdown",
   "metadata": {},
   "source": [
    "### 0) Load packages and functions"
   ]
  },
  {
   "cell_type": "code",
   "execution_count": 34,
   "metadata": {},
   "outputs": [],
   "source": [
    "# Importing Python and external packages\n",
    "import os\n",
    "import sys\n",
    "import json\n",
    "import importlib\n",
    "import pandas as pd\n",
    "import numpy as np\n",
    "\n",
    "import matplotlib.pyplot as plt\n"
   ]
  },
  {
   "cell_type": "code",
   "execution_count": 2,
   "metadata": {},
   "outputs": [],
   "source": [
    "def get_project_path_in_notebook(\n",
    "    subfolder=False,\n",
    "):\n",
    "    \"\"\"\n",
    "    Finds path of projectfolder from Notebook.\n",
    "    Start running this once to correctly find\n",
    "    other modules/functions\n",
    "    \"\"\"\n",
    "    path = os.getcwd()\n",
    "\n",
    "    while path[-20:] != 'dyskinesia_neurophys':\n",
    "\n",
    "        path = os.path.dirname(path)\n",
    "    \n",
    "    if isinstance(subfolder, str):\n",
    "        if os.path.exists(os.path.join(path,\n",
    "                                       subfolder)):\n",
    "            path = os.path.join(path, subfolder)\n",
    "    \n",
    "    return path"
   ]
  },
  {
   "cell_type": "code",
   "execution_count": 11,
   "metadata": {},
   "outputs": [
    {
     "name": "stdout",
     "output_type": "stream",
     "text": [
      "c:\\Users\\habetsj\\Research\\projects\\dyskinesia_neurophys\\code\n"
     ]
    }
   ],
   "source": [
    "# define local storage directories\n",
    "codepath = get_project_path_in_notebook('code')\n",
    "print(codepath)\n",
    "os.chdir(codepath)\n",
    "\n",
    "# own functions\n",
    "import utils.utils_fileManagement as utilsFiles\n",
    "import lfpecog_analysis.ft_processing_helpers as ftProc\n",
    "import lfpecog_analysis.load_SSD_features as load_ssdFts\n",
    "from lfpecog_features.get_ssd_data import get_subject_SSDs\n",
    "import lfpecog_predict.prepare_predict_arrays as prep_pred_arrs\n",
    "import lfpecog_analysis.get_acc_task_derivs as accDerivs\n",
    "import lfpecog_analysis.stats_fts_lid_corrs as ft_stats"
   ]
  },
  {
   "attachments": {},
   "cell_type": "markdown",
   "metadata": {},
   "source": [
    "### 0) Define settings"
   ]
  },
  {
   "cell_type": "code",
   "execution_count": 7,
   "metadata": {},
   "outputs": [],
   "source": [
    "USER='jeroen'\n",
    "\n",
    "# ft v6 (data v4.0) is most recent, WITHOUT TAP-MOVEMENT EXCLUSION\n",
    "DATA_VERSION = 'v4.0'    # v4.0: new artef-rem, no reref; v3.0 multiple re-ref\n",
    "FT_VERSION = 'v6'\n",
    "# INCL_PSD_FTS=['mean_psd', 'variation']\n",
    "IGNORE_PTS = ['011', '104', '106']  # aborted protocol, poor quality\n",
    "\n",
    "CDRS_RATER = 'Jeroen'\n",
    "ANALYSIS_SIDE = 'BILAT'\n",
    "INCL_CORE_CDRS = True\n",
    "CATEGORICAL_CDRS = False\n",
    "\n",
    "MILD_CDRS = 4  # cut off for dyskinesia categorization\n",
    "SEV_CDRS = 8  # cut off for dyskinesia categorization"
   ]
  },
  {
   "cell_type": "code",
   "execution_count": 8,
   "metadata": {},
   "outputs": [
    {
     "name": "stdout",
     "output_type": "stream",
     "text": [
      "SUBS: n=21 (['107', '108', '019', '012', '110', '016', '109', '010', '017', '102', '101', '013', '103', '009', '014', '105', '020', '021', '023', '008', '022'])\n"
     ]
    }
   ],
   "source": [
    "importlib.reload(utilsFiles)\n",
    "\n",
    "# get all available subs with features\n",
    "SUBS = utilsFiles.get_avail_ssd_subs(DATA_VERSION=DATA_VERSION,\n",
    "                                     FT_VERSION=FT_VERSION,\n",
    "                                     IGNORE_PTS=IGNORE_PTS,\n",
    "                                     USER=USER)\n",
    "print(f'SUBS: n={len(SUBS)} ({SUBS})')  # should be 21\n"
   ]
  },
  {
   "attachments": {},
   "cell_type": "markdown",
   "metadata": {},
   "source": [
    "## 1) Import neural features and clinical labels\n",
    "\n",
    "- For predictions with ECoG-depending features: exclude moments of UNILATERAL dyskinesia IPSILATERAL to ECoG hemisphere"
   ]
  },
  {
   "cell_type": "markdown",
   "metadata": {},
   "source": [
    "Get DataClass containing FEATS and CDRS-LABELS"
   ]
  },
  {
   "cell_type": "code",
   "execution_count": null,
   "metadata": {},
   "outputs": [],
   "source": [
    "# # CREATE FeatureClass containing all features\n",
    "# importlib.reload(utilsFiles)\n",
    "# importlib.reload(accDerivs)\n",
    "# importlib.reload(ftProc)\n",
    "# importlib.reload(importClin)\n",
    "# importlib.reload(load_ssdFts)\n",
    "# importlib.reload(ftLidCorr)\n",
    "\n",
    "\n",
    "# FT_VERSION = 'v6'\n",
    "# INCL_CORE_CDRS = True\n",
    "# CATEG_CDRS = False  # if False, full CDRS spectrum is used\n",
    "# MILD_CDRS = 5  # cut off for dyskinesia categorization\n",
    "# SEV_CDRS = 10  # cut off for dyskinesia categorization\n",
    "\n",
    "# FeatLid = ftProc.FeatLidClass(\n",
    "#     FT_VERSION=FT_VERSION,\n",
    "#     INCL_ECOG=True,\n",
    "#     INCL_ACC_RMS=True,\n",
    "#     CATEGORICAL_CDRS=CATEG_CDRS,\n",
    "#     CORR_TARGET='CDRS',  # target for correlation dataframe (not relevant)\n",
    "#     cutMild=MILD_CDRS, cutSevere=SEV_CDRS,\n",
    "#     TO_CALC_CORR=True,\n",
    "# )\n"
   ]
  },
  {
   "cell_type": "code",
   "execution_count": null,
   "metadata": {},
   "outputs": [],
   "source": [
    "# # SAVE FeatLabelClass as pickle\n",
    "\n",
    "# featLabPath = os.path.join(utilsFiles.get_project_path('data'),\n",
    "#                            'prediction_data',\n",
    "#                            'featLabelClasses')\n",
    "# className = f'featLabels_ft{FT_VERSION}'\n",
    "# if FeatLid.CORR_TARGET == 'LID': className += '_Lid'\n",
    "# elif FeatLid.CATEGORICAL_CDRS == True: className += '_CatCdrs'\n",
    "# else: className += '_Cdrs'\n",
    "\n",
    "# if FeatLid.INCL_ECOG: className += '_Ecog'\n",
    "# else: className += '_StnOnly'\n",
    "\n",
    "# utilsFiles.save_class_pickle(class_to_save=FeatLid,\n",
    "#                              path=featLabPath,\n",
    "#                              filename=className)"
   ]
  },
  {
   "cell_type": "code",
   "execution_count": 10,
   "metadata": {},
   "outputs": [],
   "source": []
  },
  {
   "cell_type": "code",
   "execution_count": 12,
   "metadata": {},
   "outputs": [
    {
     "name": "stdout",
     "output_type": "stream",
     "text": [
      "... pickle loading: c:\\Users\\habetsj\\Research\\projects\\dyskinesia_neurophys\\data\\prediction_data\\featLabelClasses\\featLabels_ftv6_Cdrs_StnOnly.P\n"
     ]
    }
   ],
   "source": [
    "# LOAD existing classes with features and labels\n",
    "INCL_ECOG = False  # if True, STN-only patients are NOT included\n",
    "MILD_CDRS = 4  # cut off for dyskinesia categorization\n",
    "SEV_CDRS = 8  # cut off for dyskinesia categorization\n",
    "\n",
    "if INCL_ECOG: ecog_ext = '_Ecog'\n",
    "else: ecog_ext = '_StnOnly'\n",
    "\n",
    "# define path where pickle is saved\n",
    "featLabPath = os.path.join(\n",
    "    utilsFiles.get_project_path('data', USER=USER),\n",
    "    'prediction_data', 'featLabelClasses'\n",
    ")\n",
    "\n",
    "predData = utilsFiles.load_class_pickle(\n",
    "    os.path.join(featLabPath,\n",
    "                 f'featLabels_ft{FT_VERSION}_'\n",
    "                 f'Cdrs{ecog_ext}.P'),\n",
    "    convert_float_np64=True\n",
    ")\n",
    "# MERGE GAMMA1-2-3 FEATURES\n",
    "for sub in predData.FEATS:\n",
    "    predData.FEATS[sub] = ft_stats.replace_gammas_for_maxGamma(predData.FEATS[sub])\n"
   ]
  },
  {
   "cell_type": "markdown",
   "metadata": {},
   "source": [
    "#### Explore data\n",
    "\n",
    "- Subject info\n",
    "    - 0XX: subjects with ECoG\n",
    "    - 1XX: subject WITHOUT ECoG\n",
    "\n",
    "- Class info\n",
    "    - stored in class FeatLidClass()\n",
    "    - class definition in lfpecog_analysis.ft_processing_helpers\n",
    "    - \n",
    "\n",
    "- FEATS: feature dict, sorted on subject\n",
    "    - FEATS['022] contains dataframe with features per 10-sec window, 50% overlap\n",
    "    - FEATS['022].index are timestamps for windows\n",
    "    - FEATS['022].keys() are feature names\n",
    "    -\n",
    "\n",
    "- FT_LABELS: dyskinesia-label dict, sorted on subject\n",
    "    - FEATS['022] contains array with dyskinesia labels, corresponding to FEATS\n",
    "    - contains full CDRS scales\n",
    "    - \n",
    "\n",
    "- ACC_RMS: mean (L + R) 10-sec (z-scored) root mean squares of vector magnitude of acc-data\n",
    "    - FEATS['022] contains array with RMS values, corresponding to FEATS\n",
    "    - average rms values are z-scored within every patient, movement cut off was -0.5 \n",
    "\n"
   ]
  },
  {
   "cell_type": "code",
   "execution_count": 57,
   "metadata": {},
   "outputs": [
    {
     "name": "stdout",
     "output_type": "stream",
     "text": [
      "dict_keys(['FT_VERSION', 'CDRS_RATER', 'ANALYSIS_SIDE', 'INCL_STN', 'INCL_ECOG', 'EXCL_IPSI_ECOG', 'INCL_CORE_CDRS', 'INCL_PSD_FTS', 'INCL_ACC_RMS', 'IGNORE_PTS', 'CATEGORICAL_CDRS', 'cutMild', 'cutSevere', 'WIN_LEN_sec', 'WIN_OVERLAP_part', 'TO_CALC_CORR', 'CORR_TARGET', 'DATA_VERSION', 'SUBS', 'FEATS', 'FT_LABELS', 'ACC_RMS', 'corrs', 'stat_df'])\n"
     ]
    }
   ],
   "source": [
    "# Class attributes\n",
    "print(vars(predData).keys())"
   ]
  },
  {
   "cell_type": "code",
   "execution_count": 14,
   "metadata": {},
   "outputs": [
    {
     "name": "stdout",
     "output_type": "stream",
     "text": [
      "feat dict FEATS, sorted by patient:\n",
      "sub 022 FEATS df SHAPE: (580, 28)\n",
      "Window timestamps: Float64Index([-0.5833333333333334, -0.5, -0.4166666666666667,\n",
      "              -0.3333333333333333, -0.25],\n",
      "             dtype='float64')\n",
      "Feature names: Index(['lfp_left_delta_mean_psd', 'lfp_left_delta_variation',\n",
      "       'lfp_left_alpha_mean_psd', 'lfp_left_alpha_variation',\n",
      "       'lfp_left_lo_beta_mean_psd'],\n",
      "      dtype='object')\n"
     ]
    }
   ],
   "source": [
    "ex_sub = '022'\n",
    "# FEATURE dict \n",
    "print(f'feat dict FEATS, sorted by patient:')\n",
    "print(f'sub {ex_sub} FEATS df SHAPE: {predData.FEATS[ex_sub].shape}')\n",
    "print(f'Window timestamps: {predData.FEATS[ex_sub].index[:5]}')\n",
    "print(f'Feature names: {predData.FEATS[ex_sub].keys()[:5]}')\n",
    "# predData.FEATS['022']  # dataframe with features, index = dopa_time in minutes\n",
    "\n"
   ]
  },
  {
   "cell_type": "code",
   "execution_count": 15,
   "metadata": {},
   "outputs": [
    {
     "name": "stdout",
     "output_type": "stream",
     "text": [
      "feat dict FT_LABELS, sorted by patient:\n",
      "dict_keys(['012', '103', '016', '101', '019', '008', '013', '010', '110', '022', '107', '102', '109', '021', '017', '023', '009', '020', '014', '105', '108'])\n",
      "sub 022 FT_LABELS arr SHAPE: (580,)\n"
     ]
    }
   ],
   "source": [
    "# Dyskinesia label dict\n",
    "print(f'feat dict FT_LABELS, sorted by patient:')\n",
    "print(predData.FT_LABELS.keys())\n",
    "print(f'sub {ex_sub} FT_LABELS arr SHAPE: {predData.FT_LABELS[ex_sub].shape}')\n",
    "\n",
    "orig_cdrs = predData.FT_LABELS[ex_sub].copy()\n",
    "\n",
    "# to convert to categories\n",
    "# categorized outcome:\n",
    "# 0: none,\n",
    "# 1: mild,\n",
    "# 2: moderate,\n",
    "# 3: severe\n",
    "cat_cdrs = ftProc.categorical_CDRS(\n",
    "    orig_cdrs, preLID_separate=False,\n",
    "    preLID_minutes=0,\n",
    "    cutoff_mildModerate=MILD_CDRS,\n",
    "    cutoff_moderateSevere=SEV_CDRS\n",
    ")\n"
   ]
  },
  {
   "cell_type": "code",
   "execution_count": 29,
   "metadata": {},
   "outputs": [
    {
     "name": "stdout",
     "output_type": "stream",
     "text": [
      "feat dict ACC_RMS, sorted by patient:\n",
      "dict_keys(['012', '016', '019', '008', '013', '010', '022', '021', '017', '023', '009', '020', '014'])\n",
      "sub 022 FT_LABELS arr SHAPE: (580,)\n"
     ]
    }
   ],
   "source": [
    "# RMS ACC movement dict  #### update jeroen\n",
    "print(f'feat dict ACC_RMS, sorted by patient:')\n",
    "print(predData.ACC_RMS.keys())\n",
    "print(f'sub {ex_sub} FT_LABELS arr SHAPE: {predData.ACC_RMS[ex_sub].shape}')\n",
    "\n",
    "rms_sub = predData.ACC_RMS[ex_sub].copy()\n",
    "\n"
   ]
  },
  {
   "cell_type": "markdown",
   "metadata": {},
   "source": [
    "#### create prediction arrays based on imported features and labels\n",
    "\n",
    "- creates:\n",
    "    - X (features),\n",
    "    - y (labels),\n",
    "    - sub_ids.\n",
    "- does not create:\n",
    "    - parallel movement (RMS) yet (can be done parallel to y creation)"
   ]
  },
  {
   "cell_type": "code",
   "execution_count": 16,
   "metadata": {},
   "outputs": [
    {
     "name": "stdout",
     "output_type": "stream",
     "text": [
      "\tfor sub-012, added X-shape: (803, 28)\n",
      "\tfor sub-103, added X-shape: (650, 28)\n",
      "\tfor sub-016, added X-shape: (679, 28)\n",
      "\tfor sub-101, added X-shape: (705, 28)\n",
      "\tfor sub-019, added X-shape: (927, 28)\n",
      "\tfor sub-008, added X-shape: (545, 28)\n",
      "\tfor sub-013, added X-shape: (659, 28)\n",
      "\tfor sub-010, added X-shape: (670, 28)\n",
      "\tfor sub-110, added X-shape: (700, 28)\n",
      "\tfor sub-022, added X-shape: (580, 28)\n",
      "\tfor sub-107, added X-shape: (779, 28)\n",
      "\tfor sub-102, added X-shape: (676, 28)\n",
      "\tfor sub-109, added X-shape: (545, 28)\n",
      "\tfor sub-021, added X-shape: (526, 28)\n",
      "\tfor sub-017, added X-shape: (549, 28)\n",
      "\tfor sub-023, added X-shape: (549, 28)\n",
      "\tfor sub-009, added X-shape: (768, 28)\n",
      "\tfor sub-020, added X-shape: (420, 28)\n",
      "\tfor sub-014, added X-shape: (519, 28)\n",
      "\tfor sub-105, added X-shape: (629, 28)\n",
      "\tfor sub-108, added X-shape: (539, 28)\n",
      "012 803\n",
      "removed rows n=148\n",
      "(13269, 28) (13269,) (13269,) (13269,) (13269,)\n",
      "out of n=13269 samples, n=6806 are Dyskinesia (51.3 %)\n",
      "Subjects (n=21) included: ['008' '009' '010' '012' '013' '014' '016' '017' '019' '020' '021' '022'\n",
      " '023' '101' '102' '103' '105' '107' '108' '109' '110']\n"
     ]
    }
   ],
   "source": [
    "# Create arrays per subject based on features and labels\n",
    "importlib.reload(prep_pred_arrs)\n",
    "\n",
    "(X_total, y_total_binary,\n",
    " y_total_scale, sub_ids_total,\n",
    " ft_times_total, ft_names) = prep_pred_arrs.get_group_arrays_for_prediction(\n",
    "    feat_dict=predData.FEATS,\n",
    "    label_dict=predData.FT_LABELS,\n",
    "    TO_PLOT = False)\n",
    "\n",
    "# Merge subject-arrays to one group array for prediction\n",
    "(X_all, y_all_binary,\n",
    " y_all_scale, sub_ids,\n",
    " ft_times_all) = prep_pred_arrs.merge_group_arrays(X_total=X_total,\n",
    "                                    y_total_binary=y_total_binary,\n",
    "                                    y_total_scale=y_total_scale,\n",
    "                                    sub_ids_total=sub_ids_total,\n",
    "                                    ft_times_total=ft_times_total)\n",
    "\n",
    "# add categorical CDRS labels\n",
    "y_all_categ = ftProc.categorical_CDRS(\n",
    "    y_all_scale, preLID_separate=False,\n",
    "    preLID_minutes=0,\n",
    "    cutoff_mildModerate=MILD_CDRS,\n",
    "    cutoff_moderateSevere=SEV_CDRS\n",
    ")\n",
    "\n",
    "print(f'Subjects (n={len(np.unique(sub_ids))}) included: {np.unique(sub_ids)}')"
   ]
  },
  {
   "cell_type": "markdown",
   "metadata": {},
   "source": [
    "## 2) Import epoched raw- or SSDed-data\n"
   ]
  },
  {
   "cell_type": "markdown",
   "metadata": {},
   "source": [
    "\n",
    "#### A) SSD import\n",
    "\n",
    "- SSD Class info\n",
    "    - stored in class get_subject_SSDs(), (defined in lfpecog_features.get_ssd_data)\n",
    "    - contains lfp_left, lfp_right (ecog_right/ecog_left): class SSD_bands_windowed()\n",
    "\n",
    "    - lfp_left, lfp_right, ecog_right\n",
    "        - stored in class SSD_bands_windowed(), (defined in lfpecog_features.get_ssd_data)\n",
    "        - contains:\n",
    "            - times: list of start-window times for all timeseries-array rows\n",
    "            - fs (Hz)\n",
    "            - settings (dict) with all extraction settings\n",
    "            - delta (IS THETA!!)\n",
    "            - alpha\n",
    "            - lo_beta\n",
    "            - hi_beta\n",
    "            - gamma1\n",
    "            - gamma2\n",
    "            - gamma3\n",
    "\n",
    "    - e.g. lo_beta is array with timeseries: windows x samples (720, 20480)"
   ]
  },
  {
   "cell_type": "code",
   "execution_count": 17,
   "metadata": {},
   "outputs": [],
   "source": [
    "import lfpecog_features.get_ssd_data as ssd\n",
    "import lfpecog_analysis.get_SSD_timefreqs as ssd_TimeFreq\n",
    "import lfpecog_plotting.plot_timeFreqs_ssd_psds as plot_ssd_TFs"
   ]
  },
  {
   "cell_type": "code",
   "execution_count": 19,
   "metadata": {},
   "outputs": [
    {
     "name": "stdout",
     "output_type": "stream",
     "text": [
      "loop loop\n",
      "...loading windowed ssd c:\\Users\\habetsj\\Research\\projects\\dyskinesia_neurophys\\data\\windowed_data_classes_10s_0.5overlap\\v4.0\\sub-022\\broadSSD_windowedBands_022_ecog_right_v6.json c:\\Users\\habetsj\\Research\\projects\\dyskinesia_neurophys\\data\\windowed_data_classes_10s_0.5overlap\\v4.0\\sub-022\\broadSSD_windowedBands_022_ecog_right_v6.npy\n",
      "\t...loaded SSD windowed-data and meta-info for ecog_right of sub-022\n",
      "...loading windowed ssd c:\\Users\\habetsj\\Research\\projects\\dyskinesia_neurophys\\data\\windowed_data_classes_10s_0.5overlap\\v4.0\\sub-022\\broadSSD_windowedBands_022_lfp_left_v6.json c:\\Users\\habetsj\\Research\\projects\\dyskinesia_neurophys\\data\\windowed_data_classes_10s_0.5overlap\\v4.0\\sub-022\\broadSSD_windowedBands_022_lfp_left_v6.npy\n",
      "\t...loaded SSD windowed-data and meta-info for lfp_left of sub-022\n",
      "...loading windowed ssd c:\\Users\\habetsj\\Research\\projects\\dyskinesia_neurophys\\data\\windowed_data_classes_10s_0.5overlap\\v4.0\\sub-022\\broadSSD_windowedBands_022_lfp_right_v6.json c:\\Users\\habetsj\\Research\\projects\\dyskinesia_neurophys\\data\\windowed_data_classes_10s_0.5overlap\\v4.0\\sub-022\\broadSSD_windowedBands_022_lfp_right_v6.npy\n",
      "\t...loaded SSD windowed-data and meta-info for lfp_right of sub-022\n"
     ]
    }
   ],
   "source": [
    "importlib.reload(ssd)\n",
    "\n",
    "ex_sub = '022'\n",
    "# import dataclass containing SSD data\n",
    "\n",
    "ssdSub = ssd.get_subject_SSDs(sub=ex_sub,\n",
    "                             incl_stn=True,\n",
    "                             incl_ecog=True,\n",
    "                             ft_setting_fname=f'ftExtr_spectral_{FT_VERSION}.json',\n",
    "                             USER=USER,)\n"
   ]
  },
  {
   "cell_type": "code",
   "execution_count": 33,
   "metadata": {},
   "outputs": [
    {
     "name": "stdout",
     "output_type": "stream",
     "text": [
      "length of timestamps: (720,)\n",
      "shape of ALPHA timeseries (windows x samples): (720, 20480)\n",
      "sampling freq: 2048, window length: 10 sec\n"
     ]
    }
   ],
   "source": [
    "print(f'length of timestamps: {np.array(ssdSub.ecog_right.times).shape}')\n",
    "print(f'shape of ALPHA timeseries (windows x samples): {ssdSub.ecog_right.alpha.shape}')\n",
    "# settings contains (dict) all feature extraction settings\n",
    "print(f'sampling freq: {ssdSub.ecog_right.fs}, window length: '\n",
    "      f'{ssdSub.ecog_right.settings[\"WIN_LEN_sec\"]} sec')"
   ]
  },
  {
   "cell_type": "markdown",
   "metadata": {},
   "source": [
    "\n",
    "#### B) Raw windows import\n",
    "\n",
    "- windowed Class info\n",
    "    - stores ONE DATATYPE (LFP L/R / ECOG), for ONE subject\n",
    "    - stored in class windowedData(), (defined in utils.utils_windowing)\n",
    "    - contains:\n",
    "        - data: array, 3-dimens.: n-windows, n-samples, n-channels\n",
    "            NOTE: WINDOWS CAN STILL CONTAIN NANs\n",
    "        - fs: int\n",
    "        - keys: list (n-channels), contains dopa_time, ephys-channels,\n",
    "            task, and movement derivatives\n",
    "        - win_starttimes: list of winstart-times IN SECONDS (dopa_time)\n",
    "        "
   ]
  },
  {
   "cell_type": "code",
   "execution_count": 61,
   "metadata": {},
   "outputs": [],
   "source": [
    "importlib.reload(utilsFiles)\n",
    "\n",
    "USER = 'jeroen'\n",
    "FT_VERSION = 'v6'\n",
    "\n",
    "# load ft extraction settings\n",
    "SETTINGS = utilsFiles.load_ft_ext_cfg(FT_VERSION=FT_VERSION,\n",
    "                                      USER=USER)\n",
    "\n",
    "# get available subs\n",
    "SUBS = SETTINGS['TOTAL_SUBS']\n",
    "\n",
    "# define \n",
    "ephys_sources = ['lfp_right', 'lfp_left', 'ecog_left', 'ecog_right']\n",
    "use_stored_windows = True\n",
    "\n",
    "sub = '108'\n",
    "\n",
    "\n",
    "windows_path = os.path.join(\n",
    "    utilsFiles.get_project_path('data', USER=USER),\n",
    "    'windowed_data_classes_'\n",
    "    f'{SETTINGS[\"WIN_LEN_sec\"]}s_'\n",
    "    f'{SETTINGS[\"WIN_OVERLAP_part\"]}overlap',\n",
    "    SETTINGS['DATA_VERSION'],\n",
    "    f'sub-{sub}')"
   ]
  },
  {
   "cell_type": "code",
   "execution_count": 66,
   "metadata": {},
   "outputs": [
    {
     "name": "stdout",
     "output_type": "stream",
     "text": [
      "\tstart ecog_left\n",
      "data not found for sub-108, ecog_left\n",
      "\tstart ecog_right\n",
      "data not found for sub-108, ecog_right\n"
     ]
    }
   ],
   "source": [
    "windows = {}\n",
    "for dType in ephys_sources:\n",
    "    print(f'\\tstart {dType}')\n",
    "    # define path for windows of dType\n",
    "    dType_fname = (f'sub-{sub}_windows_'\n",
    "                   f'{SETTINGS[\"WIN_LEN_sec\"]}s_'\n",
    "                   f'{SETTINGS[\"DATA_VERSION\"]}_{dType}.P')\n",
    "    dType_win_path = os.path.join(windows_path, dType_fname)\n",
    "\n",
    "    # check if windows are already available\n",
    "    if np.logical_and(use_stored_windows,\n",
    "                      os.path.exists(dType_win_path)):\n",
    "        print(f'load data from {windows_path}....')\n",
    "        wins = utilsFiles.load_class_pickle(dType_win_path)\n",
    "        print(f'\\tWINDOWS LOADED from {dType_fname} in {windows_path}')\n",
    "\n",
    "        # add to dict\n",
    "        windows[dType] = wins\n",
    "    else:\n",
    "        print(f'data not found for sub-{sub}, {dType}')"
   ]
  },
  {
   "cell_type": "code",
   "execution_count": 69,
   "metadata": {},
   "outputs": [
    {
     "name": "stdout",
     "output_type": "stream",
     "text": [
      "data shape: (539, 20480, 15) (sfreq: 2048 Hz)\n",
      "corresponding times of window start: 539\n",
      "corresponding channel keys: 15\n"
     ]
    }
   ],
   "source": [
    "# example\n",
    "print(f'data shape: {wins.data.shape} (sfreq: {wins.fs} Hz)')\n",
    "print(f'corresponding times of window start: {len(wins.win_starttimes)}')\n",
    "print(f'corresponding channel keys: {len(wins.keys)}')"
   ]
  }
 ],
 "metadata": {
  "kernelspec": {
   "display_name": "ecog_dysk",
   "language": "python",
   "name": "python3"
  },
  "language_info": {
   "codemirror_mode": {
    "name": "ipython",
    "version": 3
   },
   "file_extension": ".py",
   "mimetype": "text/x-python",
   "name": "python",
   "nbconvert_exporter": "python",
   "pygments_lexer": "ipython3",
   "version": "3.10.12"
  },
  "orig_nbformat": 4,
  "vscode": {
   "interpreter": {
    "hash": "2b948574b4cc10c9dd8fa8cab55862e7a8500229b4c7ca6593391d5001a62fb2"
   }
  }
 },
 "nbformat": 4,
 "nbformat_minor": 2
}
