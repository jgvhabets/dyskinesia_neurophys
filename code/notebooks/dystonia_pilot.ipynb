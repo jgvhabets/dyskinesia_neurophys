{
 "cells": [
  {
   "cell_type": "code",
   "execution_count": 1,
   "metadata": {},
   "outputs": [],
   "source": [
    "### Importing public functions\n",
    "import os\n",
    "import sys\n",
    "import importlib\n",
    "import json\n",
    "import csv\n",
    "from dataclasses import dataclass, field, fields\n",
    "from typing import Any\n",
    "from itertools import compress, product\n",
    "from array import array\n",
    "import datetime as dt\n",
    "import time\n",
    "\n",
    "\n",
    "import pandas as pd\n",
    "import numpy as np\n",
    "\n",
    "import sklearn as sk\n",
    "\n",
    "import scipy\n",
    "from scipy.ndimage import uniform_filter1d\n",
    "\n",
    "import matplotlib.pyplot as plt\n",
    "\n",
    "# import seaborn as sns\n",
    "\n",
    "from scipy import signal\n",
    "\n",
    "# import ghostipy as gsp\n",
    "# from pacpy.pac import plv\n",
    "\n",
    "# from scipy import fftpack, stats\n",
    "# #mne\n",
    "# import mne_bids\n",
    "# import mne\n"
   ]
  },
  {
   "cell_type": "code",
   "execution_count": 6,
   "metadata": {},
   "outputs": [],
   "source": [
    "def get_project_path_in_notebook(\n",
    "    subfolder: str = '',\n",
    "):\n",
    "    \"\"\"\n",
    "    Finds path of projectfolder from Notebook.\n",
    "    Start running this once to correctly find\n",
    "    other modules/functions\n",
    "    \"\"\"\n",
    "    path = os.getcwd()\n",
    "\n",
    "    while path[-20:] != 'dyskinesia_neurophys':\n",
    "\n",
    "        path = os.path.dirname(path)\n",
    "    \n",
    "    return path"
   ]
  },
  {
   "cell_type": "code",
   "execution_count": 7,
   "metadata": {},
   "outputs": [],
   "source": [
    "# define local storage directories\n",
    "projectpath = get_project_path_in_notebook()\n",
    "codepath = os.path.join(projectpath, 'code')\n",
    "figpath = os.path.join(projectpath, 'figures')\n",
    "datapath = os.path.join(projectpath, 'data')\n"
   ]
  },
  {
   "cell_type": "code",
   "execution_count": 25,
   "metadata": {},
   "outputs": [],
   "source": [
    "# import own functions\n",
    "os.chdir(codepath)\n",
    "\n",
    "import utils.utils_fileManagement as fileMng\n",
    "import lfpecog_preproc.preproc_data_management as dataMng\n",
    "import utils.utils_tmsi_poly5reader as read_poly5"
   ]
  },
  {
   "cell_type": "code",
   "execution_count": 137,
   "metadata": {},
   "outputs": [],
   "source": [
    "def reref_neighbor_subtract(data, chnames):\n",
    "    \"\"\"\n",
    "    Bipolar Rereferenceing against neighbouring contact\n",
    "    \n",
    "    Input:\n",
    "        - data: 2d array [n-channels, n-samples]\n",
    "        - chnames\n",
    "    \n",
    "    Returns:\n",
    "        - new data [n-channels - 1, n-samples]\n",
    "        - new channel names\n",
    "    \n",
    "    \"\"\"\n",
    "\n",
    "    data_out = []\n",
    "    chnames_out = []\n",
    "\n",
    "    for side in ['L', 'R']:\n",
    "\n",
    "        side_chs = [ch for ch in chnames if f'LFP{side}' in ch]\n",
    "\n",
    "        for i in range(len(side_chs) - 1):\n",
    "\n",
    "            ch1, ch2 = side_chs[i], side_chs[i + 1]\n",
    "\n",
    "            ich1 = np.where([ch == ch1 for ch in chnames])[0][0]\n",
    "            ich2 = np.where([ch == ch2 for ch in chnames])[0][0]\n",
    "\n",
    "            data_out.append(data[ich1] - data[ich2])\n",
    "            chnames_out.append(f'LFP_{side}_0{ch1[4]}0{ch2[4]}')\n",
    "\n",
    "    data_out = np.array(data_out)\n",
    "\n",
    "    return data_out, chnames_out\n"
   ]
  },
  {
   "attachments": {},
   "cell_type": "markdown",
   "metadata": {},
   "source": [
    "#### find data"
   ]
  },
  {
   "cell_type": "code",
   "execution_count": 23,
   "metadata": {},
   "outputs": [],
   "source": [
    "onedrive = os.path.abspath(\n",
    "    os.path.join(fileMng.get_onedrive_path('onedrive'),\n",
    "    os.pardir))\n",
    "datadir = os.path.join(onedrive, 'Dokumente', 'data', 'dyst_pilot')\n",
    "\n",
    "files = [f for f in os.listdir(datadir) if f[-5:] == 'Poly5']"
   ]
  },
  {
   "cell_type": "code",
   "execution_count": 36,
   "metadata": {},
   "outputs": [
    {
     "data": {
      "text/plain": [
       "['554NE65_MedOff02_Rest_StimOff_01-20221212T151318.DATA.Poly5',\n",
       " '554NE65_MedOff02_Rest_StimOff_02-20221212T151828.DATA.Poly5']"
      ]
     },
     "execution_count": 36,
     "metadata": {},
     "output_type": "execute_result"
    }
   ],
   "source": [
    "files"
   ]
  },
  {
   "cell_type": "code",
   "execution_count": 38,
   "metadata": {},
   "outputs": [
    {
     "name": "stdout",
     "output_type": "stream",
     "text": [
      "Reading file  c:\\Users\\habetsj\\OneDrive - Charité - Universitätsmedizin Berlin\\Dokumente\\data\\dyst_pilot\\554NE65_MedOff02_Rest_StimOff_01-20221212T151318.DATA.Poly5\n",
      "\t Number of samples:  1073760 \n",
      "\t Number of channels:  34 \n",
      "\t Sample rate: 4000 Hz\n",
      "Done reading data.\n",
      "Reading file  c:\\Users\\habetsj\\OneDrive - Charité - Universitätsmedizin Berlin\\Dokumente\\data\\dyst_pilot\\554NE65_MedOff02_Rest_StimOff_02-20221212T151828.DATA.Poly5\n",
      "\t Number of samples:  861120 \n",
      "\t Number of channels:  34 \n",
      "\t Sample rate: 4000 Hz\n",
      "Done reading data.\n"
     ]
    }
   ],
   "source": [
    "rest01 = os.path.join(datadir, files[0])\n",
    "rest01 = read_poly5.Poly5Reader(rest01)\n",
    "\n",
    "rest02 = os.path.join(datadir, files[1])\n",
    "rest02 = read_poly5.Poly5Reader(rest02)"
   ]
  },
  {
   "cell_type": "code",
   "execution_count": 43,
   "metadata": {},
   "outputs": [
    {
     "name": "stdout",
     "output_type": "stream",
     "text": [
      "Creating RawArray with float64 data, n_channels=34, n_times=1073760\n",
      "    Range : 0 ... 1073759 =      0.000 ...   268.440 secs\n",
      "Ready.\n"
     ]
    },
    {
     "name": "stderr",
     "output_type": "stream",
     "text": [
      "c:\\Users\\habetsj\\Research\\projects\\dyskinesia_neurophys\\code\\utils\\utils_tmsi_poly5reader.py:94: RuntimeWarning: Channel names are not unique, found duplicates for: {'X', 'Y', 'ISO aux', 'Z'}. Applying running numbers for duplicates.\n",
      "  info = mne.create_info(ch_names=labels, sfreq=fs, ch_types=types_clean)\n",
      "c:\\Users\\habetsj\\Research\\projects\\dyskinesia_neurophys\\code\\utils\\utils_tmsi_poly5reader.py:94: RuntimeWarning: Channel names are not unique, found duplicates for: {'X', 'Y', 'ISO aux', 'Z'}. Applying running numbers for duplicates.\n",
      "  info = mne.create_info(ch_names=labels, sfreq=fs, ch_types=types_clean)\n"
     ]
    },
    {
     "name": "stdout",
     "output_type": "stream",
     "text": [
      "Creating RawArray with float64 data, n_channels=34, n_times=861120\n",
      "    Range : 0 ... 861119 =      0.000 ...   215.280 secs\n",
      "Ready.\n"
     ]
    }
   ],
   "source": [
    "data01 = rest01.read_data_MNE()\n",
    "data02 = rest02.read_data_MNE()"
   ]
  },
  {
   "cell_type": "code",
   "execution_count": 75,
   "metadata": {},
   "outputs": [],
   "source": [
    "from lfpecog_preproc import (\n",
    "    preproc_filters,\n",
    "    preproc_resample,\n",
    "    preproc_reref\n",
    ")"
   ]
  },
  {
   "cell_type": "code",
   "execution_count": 83,
   "metadata": {},
   "outputs": [
    {
     "data": {
      "text/plain": [
       "<module 'lfpecog_preproc.preproc_resample' from 'c:\\\\Users\\\\habetsj\\\\Research\\\\projects\\\\dyskinesia_neurophys\\\\code\\\\lfpecog_preproc\\\\preproc_resample.py'>"
      ]
     },
     "execution_count": 83,
     "metadata": {},
     "output_type": "execute_result"
    }
   ],
   "source": [
    "importlib.reload(preproc_resample)"
   ]
  },
  {
   "cell_type": "code",
   "execution_count": 139,
   "metadata": {},
   "outputs": [
    {
     "name": "stdout",
     "output_type": "stream",
     "text": [
      "(14, 536880)\n",
      "(14, 430560)\n"
     ]
    }
   ],
   "source": [
    "ephys_data, ephys_ch = {}, {}\n",
    "fs = int(data01.info['sfreq'])\n",
    "fs_new = 2000\n",
    "\n",
    "for temp, n in zip([data01, data02], ['01', '02']):\n",
    "\n",
    "    ephys_ch_sel = ['LFP' in ch for ch in temp.ch_names]\n",
    "\n",
    "    ephys_data[n] = temp.get_data()[ephys_ch_sel]\n",
    "    ephys_ch[n] = list(compress(temp.ch_names, ephys_ch_sel))\n",
    "    \n",
    "    # bandpass filter\n",
    "    ephys_data[n] = preproc_filters.bp_filter(\n",
    "        ephys_data[n], n_timeRows=0, Fs=fs, \n",
    "        l_freq=2, h_freq=98, \n",
    "    )\n",
    "    # notch filter\n",
    "    ephys_data[n] = preproc_filters.notch_filter(\n",
    "        ephys_data[n], n_timeRows=0, Fs=fs, \n",
    "        transBW=10, notchW=4, \n",
    "    )\n",
    "    # resample\n",
    "    ephys_data[n] = preproc_resample.resample(\n",
    "        ephys_data[n], n_timeRows=0,\n",
    "        Fs_orig=fs, Fs_new=fs_new, \n",
    "    )\n",
    "    # rereference against neighbor\n",
    "    ephys_data[n], ephys_ch[n] = reref_neighbor_subtract(\n",
    "        ephys_data[n], ephys_ch[n])\n",
    "    print( ephys_data[n].shape)"
   ]
  },
  {
   "cell_type": "code",
   "execution_count": 142,
   "metadata": {},
   "outputs": [],
   "source": [
    "fig, axes = plt.subplots(2, 2, figsize=(18, 12))\n",
    "\n",
    "for i_rest, n in enumerate(['01', '02']):\n",
    "\n",
    "    for i_side, side in enumerate(['L', 'R']):\n",
    "\n",
    "        for i_ch, ch in enumerate(ephys_ch[n]):\n",
    "\n",
    "            if f'_{side}_' not in ch: continue\n",
    "\n",
    "            f, psx = signal.welch(\n",
    "                ephys_data[n][i_ch, 10 * fs_new:-10 * fs_new],\n",
    "                fs=fs_new, nfft=int(fs_new / 2),\n",
    "            )\n",
    "            axes[i_rest, i_side].plot(f, psx, label=f'{ch}')\n",
    "\n",
    "\n",
    "        axes[i_rest, i_side].legend(frameon=False)\n",
    "        axes[i_rest, i_side].set_xlim(0, 50)\n",
    "        axes[i_rest, i_side].set_title(f'Rest {n} - {side}')\n",
    "plt.close()"
   ]
  }
 ],
 "metadata": {
  "kernelspec": {
   "display_name": "ecog_dysk",
   "language": "python",
   "name": "python3"
  },
  "language_info": {
   "codemirror_mode": {
    "name": "ipython",
    "version": 3
   },
   "file_extension": ".py",
   "mimetype": "text/x-python",
   "name": "python",
   "nbconvert_exporter": "python",
   "pygments_lexer": "ipython3",
   "version": "3.9.0"
  },
  "orig_nbformat": 4,
  "vscode": {
   "interpreter": {
    "hash": "2b948574b4cc10c9dd8fa8cab55862e7a8500229b4c7ca6593391d5001a62fb2"
   }
  }
 },
 "nbformat": 4,
 "nbformat_minor": 2
}
