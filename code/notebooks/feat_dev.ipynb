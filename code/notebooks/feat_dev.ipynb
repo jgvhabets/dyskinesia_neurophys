{
 "cells": [
  {
   "attachments": {},
   "cell_type": "markdown",
   "metadata": {},
   "source": [
    "## Feature Development Extraction: Neurophysiology [dyskinesia project]\n",
    "\n",
    "\n",
    "\n",
    "\n",
    "<b> Content </b>\n",
    "\n",
    "\n",
    "<b> Aperiodic estimates </b>\n",
    "Relevant literature:\n",
    "- Periodic and a-periodic components relevance and interaction, different reasons (per + a-per) for signal changes observed within a specific bandwidth. Aperiodic component (complicated) vs exponent (1/f) (Donoghue, ..., Shestyuk & Voytek, Nature Neurosc 2020 : https://www.nature.com/articles/s41593-020-00744-x)\n",
    "- cycle-by-cycle features: bycycle toolbox (Cole & Voytek, J of Neurophys 2019, https://journals.physiology.org/doi/full/10.1152/jn.00273.2019)\n",
    "- aperiodic component, PD severity, and cortico-subcortico-activity, Bush & Zou, Richardson, bioRxiv 2023 https://www.biorxiv.org/content/10.1101/2023.02.08.527719v1?rss=1\n",
    "\n",
    "<b> Periodic component analysis: </b> \n",
    "- Try Wavelet Dceomposition vs Welch (tapered) Spectral Decomposition\n",
    "\n",
    "\n",
    "\n"
   ]
  },
  {
   "attachments": {},
   "cell_type": "markdown",
   "metadata": {},
   "source": [
    "### 0. Loading packages and functions, defining paths\n",
    "\n"
   ]
  },
  {
   "cell_type": "code",
   "execution_count": null,
   "metadata": {},
   "outputs": [],
   "source": [
    "# Importing Python and external packages\n",
    "import os\n",
    "import sys\n",
    "import importlib\n",
    "import json\n",
    "import csv\n",
    "from dataclasses import dataclass, field, fields\n",
    "from collections import namedtuple\n",
    "from typing import Any\n",
    "from itertools import compress\n",
    "from pathlib import Path\n",
    "import pandas as pd\n",
    "import numpy as np\n",
    "import sklearn as sk\n",
    "from scipy.stats import pearsonr, mannwhitneyu\n",
    "\n",
    "import matplotlib.pyplot as plt\n",
    "from  matplotlib import __version__ as plt_version\n",
    "from scipy import signal, stats\n",
    "# from array import array\n",
    "# import datetime as dt\n",
    "# #mne\n",
    "# import mne_bids\n",
    "# import mne\n"
   ]
  },
  {
   "cell_type": "code",
   "execution_count": null,
   "metadata": {},
   "outputs": [],
   "source": [
    "# check some package versions for documentation and reproducability\n",
    "print('Python sys', sys.version)\n",
    "print('pandas', pd.__version__)\n",
    "print('numpy', np.__version__)\n",
    "# print('mne_bids', mne_bids.__version__)\n",
    "# print('mne', mne.__version__)\n",
    "# print('sci-py', scipy.__version__)\n",
    "print('sci-kit learn', sk.__version__)\n",
    "print('matplotlib', plt_version)\n",
    "## FEB 2022:\n",
    "# Python sys 3.9.7 (default, Sep 16 2021, 08:50:36) \n",
    "# [Clang 10.0.0 ]\n",
    "# pandas 1.3.4\n",
    "# numpy 1.20.3\n",
    "# mne_bids 0.9\n",
    "# mne 0.24.1\n",
    "# sci-py 1.7.1\n",
    "# sci-kit learn 1.0.1"
   ]
  },
  {
   "cell_type": "code",
   "execution_count": null,
   "metadata": {},
   "outputs": [],
   "source": [
    "def get_project_path_in_notebook(\n",
    "    subfolder: str = '',\n",
    "):\n",
    "    \"\"\"\n",
    "    Finds path of projectfolder from Notebook.\n",
    "    Start running this once to correctly find\n",
    "    other modules/functions\n",
    "    \"\"\"\n",
    "    path = os.getcwd()\n",
    "\n",
    "    while path[-20:] != 'dyskinesia_neurophys':\n",
    "\n",
    "        path = os.path.dirname(path)\n",
    "    \n",
    "    return path"
   ]
  },
  {
   "cell_type": "code",
   "execution_count": null,
   "metadata": {},
   "outputs": [],
   "source": [
    "# define local storage directories\n",
    "projectpath = get_project_path_in_notebook()\n",
    "codepath = os.path.join(projectpath, 'code')\n",
    "figpath = os.path.join(projectpath, 'figures')\n",
    "datapath = os.path.join(projectpath, 'data')"
   ]
  },
  {
   "cell_type": "code",
   "execution_count": null,
   "metadata": {},
   "outputs": [],
   "source": [
    "os.chdir(codepath)\n",
    "# own utility functions\n",
    "import utils.utils_fileManagement as utilsFiles\n",
    "import utils.utils_windowing as utilsWindows\n",
    "from utils.utils_fileManagement import (get_project_path,\n",
    "                                        load_class_pickle,\n",
    "                                        save_class_pickle,\n",
    "                                        mergedData,\n",
    "                                        correct_acc_class)\n",
    "# own data preprocessing functions\n",
    "import lfpecog_preproc.preproc_data_management as dataMng\n",
    "import lfpecog_preproc.preproc_filters as fltrs\n",
    "# own data exploration functions\n",
    "import lfpecog_features.feats_read_proc_data as read_data\n",
    "import lfpecog_features.feats_spectral_baseline as specBase\n",
    "import lfpecog_features.feats_spectral_features as spectral\n",
    "import lfpecog_features.feats_spectral_helpers as specHelp\n",
    "import lfpecog_features.feats_helper_funcs as ftHelp\n",
    "\n",
    "import lfpecog_preproc.preproc_import_scores_annotations as importClin\n",
    "import lfpecog_analysis.import_ephys_results as importResults\n",
    "# import lfpecog_analysis.get_acc_derivs as accDerivs\n",
    "\n",
    "\n",
    "import lfpecog_plotting.plotHelpers as plotHelp"
   ]
  },
  {
   "cell_type": "code",
   "execution_count": null,
   "metadata": {},
   "outputs": [],
   "source": [
    "colors = list(plotHelp.get_colors().values())"
   ]
  },
  {
   "attachments": {},
   "cell_type": "markdown",
   "metadata": {},
   "source": [
    "Check and Plot CDRS scores from both raters"
   ]
  },
  {
   "cell_type": "code",
   "execution_count": null,
   "metadata": {},
   "outputs": [],
   "source": [
    "import traces\n",
    "import datetime as dt"
   ]
  },
  {
   "cell_type": "code",
   "execution_count": null,
   "metadata": {},
   "outputs": [],
   "source": [
    "max_scores_bilat = []\n",
    "max_scores_ecoglat = []\n",
    "rater='Patricia'\n",
    "\n",
    "for s in ['008', '009', '010', '012',\n",
    "             '013', '014', '016', '017']:\n",
    "\n",
    "    t, scores = importClin.get_cdrs_specific(\n",
    "        sub=s, rater=rater, side='both')\n",
    "    max_scores_bilat.append(np.nanmax(scores))\n",
    "\n",
    "    t, scores = importClin.get_cdrs_specific(\n",
    "        sub=s, rater=rater, side='contra ecog')\n",
    "    max_scores_ecoglat.append(np.nanmax(scores))\n",
    "\n",
    "print('BILATERAL', max_scores_bilat, np.mean(max_scores_bilat))\n",
    "print('ECoG lat.', max_scores_ecoglat, np.mean(max_scores_ecoglat))"
   ]
  },
  {
   "cell_type": "code",
   "execution_count": null,
   "metadata": {},
   "outputs": [],
   "source": [
    "importlib.reload(importClin)\n",
    "# CHECK CLINICAL RATINGS\n",
    "subs_incl = ['008', '009', '010', '012',\n",
    "             '013', '014', '016']\n",
    "\n",
    "clrs = colors\n",
    "styles = ['solid', 'dotted']\n",
    "fig, axes = plt.subplots(1,1, figsize=(12, 6))\n",
    "\n",
    "for i_sub, sub in enumerate(subs_incl):\n",
    "    reg_t, reg_scores = {}, {}\n",
    "    for i_r, rater in enumerate(['Patricia', 'Jeroen']):\n",
    "        t, scores = importClin.get_cdrs_specific(sub=sub, rater=rater)\n",
    "        axes.plot(t, scores,  # [0]\n",
    "                color=clrs[i_sub], ls=styles[i_r], lw=3, label=f'{sub} ({rater})')\n",
    "\n",
    "        # regularize scores\n",
    "        reg_t[i_r], reg_scores[i_r] = importClin.get_cdrs_specific(\n",
    "            sub=sub, rater=rater, regularize=True,)\n",
    "        # axes[1].plot(reg_t[i_r], reg_scores[i_r],\n",
    "        #         color=clrs[i_sub], ls=styles[i_r], lw=3, )\n",
    "    \n",
    "    # calculate correlations\n",
    "    # only take minutes present in both scores\n",
    "    t_start = max([reg_t[i_r][0] for i_r in [0, 1]])\n",
    "    t_stop = min([reg_t[i_r][-1] for i_r in [0, 1]])\n",
    "    sel0 = [time >= t_start and time <= t_stop for time in reg_t[0]]\n",
    "    sel1 = [time >= t_start and time <= t_stop for time in reg_t[1]]\n",
    "    \n",
    "    print(sub, pearsonr(reg_scores[0][sel0], reg_scores[1][sel1]))\n",
    "\n",
    "# axes[0].set_title('Inserted scores per timepoint', size=14)\n",
    "# axes[1].set_title('Interpolated scores (per 1 minute)', size=14)\n",
    "handles, labels = axes.get_legend_handles_labels()\n",
    "plt.legend(handles, labels, ncol=5, bbox_to_anchor=(.5, -.25),\n",
    "               loc='upper center', fontsize=14,)\n",
    "# for ax in axes:\n",
    "axes.set_ylabel('CDRS score', fontsize=14)\n",
    "axes.set_xlabel('Time (minutes vs LDOPA-intake)', fontsize=14)\n",
    "axes.tick_params(axis='both', labelsize=14, size=14)\n",
    "\n",
    "plt.tight_layout()\n",
    "# figname = 'CDRS_scores_2rater_interpolation'\n",
    "# plt.savefig(os.path.join(figpath, 'clinical_scores', figname), dpi=150,\n",
    "#             facecolor='w',)\n",
    "# figname = 'CDRS_scores_2raters'\n",
    "# plt.savefig(os.path.join(figpath, 'clinical_scores', figname), dpi=150,\n",
    "#             facecolor='w',)\n",
    "plt.close()\n",
    "\n",
    "\n"
   ]
  },
  {
   "attachments": {},
   "cell_type": "markdown",
   "metadata": {},
   "source": [
    "### 1. Load preprocessed and merged Sub-Data"
   ]
  },
  {
   "attachments": {},
   "cell_type": "markdown",
   "metadata": {},
   "source": [
    "#### load ACC pickles"
   ]
  },
  {
   "cell_type": "code",
   "execution_count": null,
   "metadata": {},
   "outputs": [],
   "source": [
    "subs_to_plot = [\n",
    "    '008', \n",
    "    # '009', '010', '012', \n",
    "    # '013', '014', '016'\n",
    "]\n",
    "\n",
    "data_version = 'v4.0'\n",
    "mins_recording = []\n",
    "\n",
    "for sub in subs_to_plot:\n",
    "    # load Acc-detected movement labels\n",
    "    acc = load_class_pickle(os.path.join(\n",
    "        get_project_path('data'),\n",
    "        'merged_sub_data', data_version, f'sub-{sub}',\n",
    "        f'{sub}_mergedData_{data_version}_accLeft.P'\n",
    "    ))\n",
    "    # acc = correct_acc_class(acc)\n",
    "\n",
    "    # mins_recording.append(acc.data.shape[0] / acc.fs / 60)"
   ]
  },
  {
   "attachments": {},
   "cell_type": "markdown",
   "metadata": {},
   "source": [
    "#### load ephys pickle"
   ]
  },
  {
   "attachments": {},
   "cell_type": "markdown",
   "metadata": {},
   "source": [
    "WINDOWED DATA"
   ]
  },
  {
   "cell_type": "code",
   "execution_count": null,
   "metadata": {},
   "outputs": [],
   "source": [
    "subs_to_plot = [\n",
    "    # '008', '009', '010', '012', \n",
    "    # '013', '014',\n",
    "    '012',\n",
    "]\n",
    "task = 'rest'\n",
    "data_version = 'v3.0'\n",
    "mins_recording = []\n",
    "\n",
    "# for sub in subs_to_plot:\n",
    "#     # load Acc-detected movement labels\n",
    "#     data = load_class_pickle(os.path.join(\n",
    "#         get_project_path('data'), 'windowed_data_classes_60s',\n",
    "#         data_version, f'sub-{sub}', task,\n",
    "#         f'{sub}_mneEpochs_{task}_{data_version}_win60s_overlap0.5.P'\n",
    "#     ))\n",
    "#     # acc = correct_acc_class(acc)\n"
   ]
  },
  {
   "cell_type": "code",
   "execution_count": null,
   "metadata": {},
   "outputs": [],
   "source": [
    "data.list_mne_objects[0].times.shape\n",
    "\n",
    "data.list_mne_objects[0].ch_names\n",
    "\n",
    "data.list_mne_objects[0].get_data().shape"
   ]
  },
  {
   "attachments": {},
   "cell_type": "markdown",
   "metadata": {},
   "source": [
    "MERGED DATA per DATATYPE (source)\n"
   ]
  },
  {
   "cell_type": "code",
   "execution_count": null,
   "metadata": {},
   "outputs": [],
   "source": [
    "subs_incl = [\n",
    "    '013', \n",
    "    # '009', '010', '012', \n",
    "    # '013', '014',\n",
    "    # '012',\n",
    "]\n",
    "# task = 'rest'\n",
    "data_version = 'v3.0'\n",
    "\n",
    "# for sub in subs_incl:\n",
    "#     # load merged data class\n",
    "#     data = load_class_pickle(os.path.join(\n",
    "#         get_project_path('data'), 'merged_sub_data',\n",
    "#         data_version,\n",
    "#         f'{sub}_mergedDataClass_{data_version}.P'\n",
    "#     ))"
   ]
  },
  {
   "cell_type": "code",
   "execution_count": null,
   "metadata": {},
   "outputs": [],
   "source": [
    "sub = '012'\n",
    "dat = {}\n",
    "dType = 'lfp_left'\n",
    "dat[dType] = load_class_pickle(os.path.join(\n",
    "        get_project_path('data'), 'merged_sub_data',\n",
    "        data_version, f'sub-{sub}',\n",
    "        f'{sub}_mergedData_{data_version}_{dType}.P'\n",
    "    ))"
   ]
  },
  {
   "attachments": {},
   "cell_type": "markdown",
   "metadata": {},
   "source": [
    "Load windows"
   ]
  },
  {
   "cell_type": "code",
   "execution_count": null,
   "metadata": {},
   "outputs": [],
   "source": [
    "ephys_sources = ['lfp_left', ]  #'lfp_right', 'ecog_left', 'ecog_right']\n",
    "use_stored_windows = True\n",
    "\n",
    "sub = '019'\n",
    "json_path = os.path.join(utilsFiles.get_onedrive_path('data'),\n",
    "                     'featureExtraction_jsons',\n",
    "                     'ftExtr_spectral_v4.json')\n",
    "with open(json_path, 'r') as json_data:\n",
    "    SETTINGS = json.load(json_data)\n",
    "\n",
    "windows_path = os.path.join(utilsFiles.get_project_path('data'),\n",
    "                    'windowed_data_classes_'\n",
    "                    f'{SETTINGS[\"WIN_LEN_sec\"]}s_'\n",
    "                    f'{SETTINGS[\"WIN_OVERLAP_part\"]}overlap',\n",
    "                    SETTINGS['DATA_VERSION'],\n",
    "                    f'sub-{sub}')"
   ]
  },
  {
   "cell_type": "code",
   "execution_count": null,
   "metadata": {},
   "outputs": [],
   "source": [
    "for dType in ephys_sources:\n",
    "    print(f'\\tstart {dType}')\n",
    "    # define path for windows of dType\n",
    "    dType_fname = (f'sub-{sub}_windows_'\n",
    "                    f'{SETTINGS[\"WIN_LEN_sec\"]}s_'\n",
    "                    f'{SETTINGS[\"DATA_VERSION\"]}_{dType}.P')\n",
    "    dType_win_path = os.path.join(windows_path, dType_fname)\n",
    "    \n",
    "    # check if windows are already available\n",
    "    if np.logical_and(use_stored_windows,\n",
    "                        os.path.exists(dType_win_path)):\n",
    "        print(f'load data from {windows_path}....')\n",
    "        windows = utilsFiles.load_class_pickle(dType_win_path)\n",
    "        print(f'\\tWINDOWS LOADED from {dType_fname} in {windows_path}')"
   ]
  },
  {
   "cell_type": "code",
   "execution_count": null,
   "metadata": {},
   "outputs": [],
   "source": [
    "len(windows.data)"
   ]
  },
  {
   "attachments": {},
   "cell_type": "markdown",
   "metadata": {},
   "source": [
    "### Plot ssd'd Spectral Descriptives"
   ]
  },
  {
   "cell_type": "code",
   "execution_count": null,
   "metadata": {},
   "outputs": [],
   "source": [
    "import lfpecog_features.get_ssd_data as ssd\n",
    "import lfpecog_analysis.ft_processing_helpers as ftProc\n",
    "import lfpecog_analysis.get_SSD_timefreqs as ssd_TimeFreq"
   ]
  },
  {
   "cell_type": "code",
   "execution_count": null,
   "metadata": {},
   "outputs": [],
   "source": [
    "def get_avail_ssd_subs(\n",
    "    DATA_VERSION, IGNORE_PTS=[],\n",
    "    INCL_STN_ONLY_PTS=True,\n",
    "    WIN_LEN=10, WIN_OVERLAP=.5,\n",
    "    SSD_BROAD=True, \n",
    "):\n",
    "# get all available subs with features\n",
    "\n",
    "    ssd_folder = 'SSD_feats'\n",
    "    if SSD_BROAD: ssd_folder += '_broad'\n",
    "    ssd_path = os.path.join(get_project_path('results'), 'features',\n",
    "                            ssd_folder, DATA_VERSION,\n",
    "                            f'windows_{WIN_LEN}s_'\n",
    "                            f'{WIN_OVERLAP}overlap')\n",
    "    SUBS = list(set([name.split('_')[1]\n",
    "                    for name in os.listdir(ssd_path)]))\n",
    "\n",
    "    # remove ignore patients and e.g. STN onlys\n",
    "    remove_subs = []\n",
    "    if not INCL_STN_ONLY_PTS:\n",
    "        for sub in SUBS:\n",
    "            if sub.startswith('1'): remove_subs.append(sub)\n",
    "\n",
    "    for sub in IGNORE_PTS + remove_subs:\n",
    "        if sub in SUBS: SUBS.remove(sub)\n",
    "\n",
    "    return SUBS"
   ]
  },
  {
   "cell_type": "markdown",
   "metadata": {},
   "source": [
    "Plot SSD construction overview"
   ]
  },
  {
   "cell_type": "code",
   "execution_count": null,
   "metadata": {},
   "outputs": [],
   "source": [
    "### PLOT VISUAL SSD OVERVIEW\n",
    "\n",
    "# # loop over defined frequency bands\n",
    "# for bw in SETTINGS['SPECTRAL_BANDS']:\n",
    "#     f_range = SETTINGS['SPECTRAL_BANDS'][bw]\n",
    "    # check whether to perform SSD\n",
    "    # (ssd_filt_data,\n",
    "    #     ssd_pattern,\n",
    "    #     ssd_eigvals\n",
    "    # ) = ssd.get_SSD_component(\n",
    "    #     data_2d=win_dat.T,\n",
    "    #     fband_interest=f_range,\n",
    "    #     s_rate=windows.fs,\n",
    "    #     use_freqBand_filtered=True,\n",
    "    #     return_comp_n=0,\n",
    "    # )\n",
    "\n",
    "#     f, psd = signal.welch(ssd_filt_data, axis=-1,\n",
    "#                     nperseg=windows.fs, fs=windows.fs)\n",
    "#     plt.plot(f, psd, label=bw)\n",
    "\n",
    "        \n",
    "\n",
    "# plt.xlim(0, 100)\n",
    "# plt.title(f'WINDOW # {i_w} - {dType.upper()}')\n",
    "# plt.legend()\n",
    "# plt.show()"
   ]
  },
  {
   "cell_type": "code",
   "execution_count": null,
   "metadata": {},
   "outputs": [],
   "source": [
    "new_subs = ['107', '020', '108', '109', '017', '019', '021', '105',]\n",
    "print(len(new_subs))"
   ]
  },
  {
   "attachments": {},
   "cell_type": "markdown",
   "metadata": {},
   "source": [
    "#### SSD time freq plotting\n"
   ]
  },
  {
   "cell_type": "code",
   "execution_count": null,
   "metadata": {},
   "outputs": [],
   "source": [
    "# get windowed bands of different dtypes per sub\n",
    "importlib.reload(ftHelp)\n",
    "importlib.reload(ssd)\n",
    "importlib.reload(ssd_TimeFreq)\n",
    "\n",
    "sub = '016'\n",
    "\n",
    "# call from feats_extract_multivar.py\n",
    "ssd_subClass = ssd.get_subject_SSDs(\n",
    "    sub=sub,\n",
    "    incl_stn=True,\n",
    "    incl_ecog=True,\n",
    "    ft_setting_fname='ftExtr_spectral_v4.json',)\n",
    "\n",
    "\n"
   ]
  },
  {
   "cell_type": "code",
   "execution_count": null,
   "metadata": {},
   "outputs": [],
   "source": [
    "def get_timeFreq_xticks(x_times):\n",
    "    \"\"\"\n",
    "    Input:\n",
    "        - xticks given in seconds\n",
    "    \n",
    "    Returns:\n",
    "        - xticks\n",
    "        - xticklabels (in minutes)\n",
    "    \"\"\"\n",
    "    # define first and last tick rounded on 10 minutes\n",
    "    first_xtick = np.ceil((x_times / 60 / 10)[0]) * 10\n",
    "    last_xtick = np.floor((x_times / 60 / 10)[-1]) * 10\n",
    "    # get ticklabels in 10 minute spacing\n",
    "    xticklabels = np.arange(first_xtick, last_xtick+1, 10).astype(int)\n",
    "    # find nearest indices in x_times for created labels\n",
    "    xticks = np.array([np.argmin(abs(x_times/60 - t)) for t in xticklabels])\n",
    "    # drop ticks and labels if they are too close (visually overwrite each other)\n",
    "    drop_close_ticks = np.append(np.array([False]), np.diff(xticks) < 150)\n",
    "    # drop too close ticks, labels\n",
    "    xticklabels = xticklabels[~drop_close_ticks]\n",
    "    xticks = xticks[~drop_close_ticks]\n",
    "\n",
    "    return xticks, xticklabels"
   ]
  },
  {
   "cell_type": "code",
   "execution_count": null,
   "metadata": {},
   "outputs": [],
   "source": [
    "import lfpecog_plotting.plot_timeFreqs_ssd_psds as plot_ssd_TFs"
   ]
  },
  {
   "cell_type": "code",
   "execution_count": 15,
   "metadata": {},
   "outputs": [],
   "source": [
    "WIN_LEN=10\n",
    "WIN_OVERLAP=0.5\n",
    "DATA_VERSION='v4.0'\n",
    "FT_VERSION='v4'\n",
    "SSD_BROAD=True\n",
    "INCL_STN_ONLY_PTS=True\n",
    "IGNORE_PTS=['011',]"
   ]
  },
  {
   "cell_type": "code",
   "execution_count": null,
   "metadata": {},
   "outputs": [],
   "source": [
    "importlib.reload(ftProc)\n",
    "importlib.reload(importClin)\n",
    "importlib.reload(ssd_TimeFreq)\n",
    "importlib.reload(plot_ssd_TFs)\n",
    "\n",
    "# CONVERT ONLY STNS!!!!!\n",
    "SUBS = get_avail_ssd_subs(DATA_VERSION=DATA_VERSION)\n",
    "print(SUBS)\n",
    "\n",
    "for sub in SUBS:\n",
    "    # if sub not in new_subs: continue\n",
    "    # if sub in ['017', '019']: continue\n",
    "    try:\n",
    "        print(f'PLOT SUB-{sub}')\n",
    "        plot_ssd_TFs.plot_indiv_ssd_timefreq_allSources(sub,\n",
    "                                                        SAVE_PLOT=True)\n",
    "    except:\n",
    "        print(f'sub {sub} error')"
   ]
  },
  {
   "attachments": {},
   "cell_type": "markdown",
   "metadata": {},
   "source": [
    "#### SSD PSD plotting"
   ]
  },
  {
   "cell_type": "code",
   "execution_count": 21,
   "metadata": {},
   "outputs": [],
   "source": [
    "import lfpecog_plotting.plot_descriptive_SSD_PSDs as plot_PSDs"
   ]
  },
  {
   "cell_type": "code",
   "execution_count": 22,
   "metadata": {},
   "outputs": [],
   "source": [
    "WIN_LEN=10\n",
    "WIN_OVERLAP=0.5\n",
    "DATA_VERSION='v4.0'\n",
    "FT_VERSION='v4'\n",
    "SSD_BROAD=True\n",
    "INCL_STN_ONLY_PTS=True\n",
    "IGNORE_PTS=['011', '017', '106']"
   ]
  },
  {
   "cell_type": "code",
   "execution_count": 23,
   "metadata": {},
   "outputs": [
    {
     "name": "stdout",
     "output_type": "stream",
     "text": [
      "['014', '013', '103', '008', '107', '020', '012', '108', '019', '109', '017', '010', '016', '105', '101', '102', '009', '021']\n",
      "18\n"
     ]
    }
   ],
   "source": [
    "SUBS = get_avail_ssd_subs(DATA_VERSION=DATA_VERSION)\n",
    "print(SUBS)\n",
    "print(len(SUBS))"
   ]
  },
  {
   "cell_type": "code",
   "execution_count": 24,
   "metadata": {},
   "outputs": [
    {
     "name": "stdout",
     "output_type": "stream",
     "text": [
      "load existing powers for sub-014 (SSD_PSD_014.json)\n",
      "...loaded subject-014 Time-Frequency data\n",
      "load existing powers for sub-013 (SSD_PSD_013.json)\n",
      "...loaded subject-013 Time-Frequency data\n",
      "load existing powers for sub-103 (SSD_PSD_103.json)\n",
      "...loaded subject-103 Time-Frequency data\n",
      "load existing powers for sub-008 (SSD_PSD_008.json)\n",
      "...loaded subject-008 Time-Frequency data\n",
      "load existing powers for sub-107 (SSD_PSD_107.json)\n",
      "...loaded subject-107 Time-Frequency data\n",
      "load existing powers for sub-020 (SSD_PSD_020.json)\n",
      "...loaded subject-020 Time-Frequency data\n",
      "load existing powers for sub-012 (SSD_PSD_012.json)\n",
      "...loaded subject-012 Time-Frequency data\n",
      "load existing powers for sub-108 (SSD_PSD_108.json)\n",
      "...loaded subject-108 Time-Frequency data\n",
      "load existing powers for sub-019 (SSD_PSD_019.json)\n",
      "...loaded subject-019 Time-Frequency data\n",
      "load existing powers for sub-109 (SSD_PSD_109.json)\n",
      "...loaded subject-109 Time-Frequency data\n",
      "load existing powers for sub-017 (SSD_PSD_017.json)\n",
      "...loaded subject-017 Time-Frequency data\n",
      "load existing powers for sub-010 (SSD_PSD_010.json)\n",
      "...loaded subject-010 Time-Frequency data\n",
      "load existing powers for sub-016 (SSD_PSD_016.json)\n",
      "...loaded subject-016 Time-Frequency data\n",
      "load existing powers for sub-105 (SSD_PSD_105.json)\n",
      "...loaded subject-105 Time-Frequency data\n",
      "load existing powers for sub-101 (SSD_PSD_101.json)\n",
      "...loaded subject-101 Time-Frequency data\n",
      "load existing powers for sub-102 (SSD_PSD_102.json)\n",
      "...loaded subject-102 Time-Frequency data\n",
      "load existing powers for sub-009 (SSD_PSD_009.json)\n",
      "...loaded subject-009 Time-Frequency data\n",
      "load existing powers for sub-021 (SSD_PSD_021.json)\n",
      "...loaded subject-021 Time-Frequency data\n"
     ]
    }
   ],
   "source": [
    "importlib.reload(ssd_TimeFreq)\n",
    "\n",
    "\n",
    "TFs = ssd_TimeFreq.get_all_ssd_timeFreqs(SUBS=SUBS)\n"
   ]
  },
  {
   "cell_type": "code",
   "execution_count": null,
   "metadata": {},
   "outputs": [],
   "source": [
    "# '016' : check why short peak of CDRS 3 at beginning of LID?\n",
    "# check new SSD PSDs for 017 and 019\n",
    "# noisy data 106"
   ]
  },
  {
   "attachments": {},
   "cell_type": "markdown",
   "metadata": {},
   "source": [
    "Plot Group Results: non-LID / LID versus Dopa-Time"
   ]
  },
  {
   "cell_type": "code",
   "execution_count": 26,
   "metadata": {},
   "outputs": [
    {
     "name": "stdout",
     "output_type": "stream",
     "text": [
      "check sub-014\n",
      "check sub-013\n",
      "check sub-103\n",
      "check sub-008\n",
      "check sub-107\n",
      "sub-107 not included, no CDRS scores\n",
      "check sub-020\n",
      "check sub-012\n",
      "check sub-108\n",
      "sub-108 not included, no CDRS scores\n",
      "check sub-019\n",
      "check sub-109\n",
      "check sub-017\n",
      "kip sub-017\n",
      "check sub-010\n",
      "check sub-016\n",
      "check sub-105\n",
      "sub-105 not included, no CDRS scores\n",
      "check sub-101\n",
      "check sub-102\n",
      "check sub-009\n",
      "check sub-021\n"
     ]
    }
   ],
   "source": [
    "# make groups with and without occurence of LID\n",
    "subs_LID = []\n",
    "subs_noLID = []\n",
    "\n",
    "for sub in SUBS:\n",
    "    print(f'check sub-{sub}')\n",
    "    if sub in IGNORE_PTS:\n",
    "        \n",
    "        print(f'skip sub-{sub}')\n",
    "        continue\n",
    "    try:\n",
    "        max_score = max(ftProc.get_cdrs_specific(sub=sub,\n",
    "                                                rater='Jeroen',\n",
    "                                                side='both')[1])\n",
    "        if max_score > 0: subs_LID.append(sub)\n",
    "        else: subs_noLID.append(sub)\n",
    "    except ValueError:\n",
    "        print(f'sub-{sub} not included, no CDRS scores')"
   ]
  },
  {
   "cell_type": "code",
   "execution_count": 27,
   "metadata": {},
   "outputs": [
    {
     "data": {
      "text/plain": [
       "['109', '101']"
      ]
     },
     "execution_count": 27,
     "metadata": {},
     "output_type": "execute_result"
    }
   ],
   "source": [
    "subs_noLID"
   ]
  },
  {
   "cell_type": "code",
   "execution_count": 29,
   "metadata": {},
   "outputs": [
    {
     "name": "stdout",
     "output_type": "stream",
     "text": [
      "STN, t=15 (1) is n=4\n",
      "STN, t=30 (2) is n=4\n",
      "STN, t=45 (3) is n=4\n",
      "STN, t=60 (4) is n=4\n",
      "STN, t=75 (5) is n=0\n",
      "STN, t=15 (1) is n=24\n",
      "STN, t=30 (2) is n=24\n",
      "STN, t=45 (3) is n=24\n",
      "STN, t=60 (4) is n=22\n",
      "STN, t=75 (5) is n=10\n"
     ]
    }
   ],
   "source": [
    "importlib.reload(plot_PSDs)\n",
    "\n",
    "# PM, needs: TFs = ssd_TimeFreq.get_all_ssd_timeFreqs(SUBS=SUBS)\n",
    "\n",
    "SAVE=True\n",
    "SHOW=False\n",
    "\n",
    "STN_or_ECOG='STN'\n",
    "ZSCORE_FREQS=False\n",
    "SMOOTH_FREQS=8\n",
    "LOG_POWER=False\n",
    "BASELINE_CORRECT=True\n",
    "\n",
    "n_subs_incl = len(subs_LID) + len(subs_noLID)\n",
    "\n",
    "fig_name = f'1408_{STN_or_ECOG}_PSDs_noLID_LID_vs_DopaTime_n{n_subs_incl}'\n",
    "if BASELINE_CORRECT: fig_name += '_blCorrPrc'\n",
    "if ZSCORE_FREQS: fig_name += '_Z'\n",
    "if LOG_POWER: fig_name += '_log'\n",
    "if SMOOTH_FREQS > 0: fig_name += f'_smooth{SMOOTH_FREQS}'\n",
    "\n",
    "\n",
    "\n",
    "\n",
    "# plot_PSD_vs_DopaTime(TFs['008']['lfp_left'])\n",
    "fig, axes = plt.subplots(1, 2, figsize=(16, 8))\n",
    "fsize=20\n",
    "\n",
    "# if None returned, dont use axes[0] to collect returned output\n",
    "if STN_or_ECOG == 'STN': ax_title = 'Bilateral STNs w/o Dyskinesia'\n",
    "elif STN_or_ECOG == 'ECOG': ax_title = 'ECoG w/o Dyskinesia'\n",
    "axes[0] = plot_PSDs.plot_PSD_vs_DopaTime(\n",
    "    TFs, sel_subs=subs_noLID,\n",
    "    STN_or_ECOG=STN_or_ECOG,\n",
    "    BASELINE_CORRECT=BASELINE_CORRECT,\n",
    "    ZSCORE_FREQS=ZSCORE_FREQS,\n",
    "    LOG_POWER=LOG_POWER,\n",
    "    SMOOTH_PLOT_FREQS=SMOOTH_FREQS,\n",
    "    plt_ax_to_return=axes[0], fsize=fsize, BREAK_X_AX=True,\n",
    "    ax_title=ax_title\n",
    ")\n",
    "\n",
    "\n",
    "if STN_or_ECOG == 'STN': ax_title = 'Bilateral STNs with Dyskinesia'\n",
    "elif STN_or_ECOG == 'ECOG': ax_title = 'ECoG with Dyskinesia'\n",
    "axes[1] = plot_PSDs.plot_PSD_vs_DopaTime(\n",
    "    TFs, sel_subs=subs_LID,\n",
    "    STN_or_ECOG=STN_or_ECOG,\n",
    "    LOG_POWER=LOG_POWER,\n",
    "    SMOOTH_PLOT_FREQS=SMOOTH_FREQS,\n",
    "    BASELINE_CORRECT=BASELINE_CORRECT,\n",
    "    ZSCORE_FREQS=ZSCORE_FREQS,\n",
    "    plt_ax_to_return=axes[1], fsize=fsize, BREAK_X_AX=True,\n",
    "    ax_title=ax_title\n",
    ")\n",
    "\n",
    "\n",
    "\n",
    "\n",
    "# equalize axes\n",
    "ymin = min([min(ax.get_ylim()) for ax in axes])\n",
    "ymax = max([max(ax.get_ylim()) for ax in axes])\n",
    "for ax in axes: ax.set_ylim(ymin, ymax)\n",
    "\n",
    "for ax in axes: ax.tick_params(axis='both', size=fsize,\n",
    "                               labelsize=fsize)\n",
    "plt.tight_layout()\n",
    "\n",
    "if SAVE:\n",
    "    plt.savefig(os.path.join(get_project_path('figures'), 'ft_exploration',\n",
    "                         DATA_VERSION, 'descr_PSDs', fig_name),\n",
    "                facecolor='w', dpi=300,)\n",
    "if SHOW: plt.show()\n",
    "else: plt.close()\n",
    "\n"
   ]
  },
  {
   "attachments": {},
   "cell_type": "markdown",
   "metadata": {},
   "source": [
    "Plot LID-Group Results: Laterality of LID in STN and ECoG"
   ]
  },
  {
   "cell_type": "markdown",
   "metadata": {},
   "source": [
    "Plot SEVERITY AND LATERALITY OF STN-changes during DYSKINESIA"
   ]
  },
  {
   "cell_type": "code",
   "execution_count": null,
   "metadata": {},
   "outputs": [],
   "source": []
  },
  {
   "cell_type": "code",
   "execution_count": 295,
   "metadata": {},
   "outputs": [
    {
     "name": "stdout",
     "output_type": "stream",
     "text": [
      "start plotting 1608_2_STN_PSDs_SCALE_LID_n12_blCorr_smooth8_GAMMA_SIGN\n",
      "014 match (87, 2400) (2400,)\n",
      "013 match (87, 2699) (2699,)\n",
      "103 match (87, 1739) (1739,)\n",
      "008 match (87, 2174) (2174,)\n",
      "020 match (87, 2485) (2485,)\n",
      "012 match (87, 3760) (3760,)\n",
      "019 match (87, 2543) (2543,)\n",
      "010 match (87, 3083) (3083,)\n",
      "016 match (87, 873) (873,)\n",
      "102 match (87, 2791) (2791,)\n",
      "009 match (87, 2450) (2450,)\n",
      "021 match (87, 685) (685,)\n",
      "dict_keys(['match', 'nonmatch', 'bi'])\n",
      "match categories: [1.0, 2.0, 3.0]\n",
      "{'all_match': {}}\n",
      "nonmatch categories: [1.0, 2.0, 3.0]\n",
      "{'all_match': {1.0: [[-0.16874750216742557, 0.22378533468403092, 4.786800983410214, 5.513186351074091, 0.3781574056404033, 11.381218050240406, 9.548583297292746, -0.006107179295878861, -6.56897442495641, -19.072534398561665, -18.562096052824263, -17.194722037687157, -11.748385415731176, -0.9634298160151199, -2.703432851307539, -7.5499643051152505, -1.2337668689895072, -11.526131075048502, -13.74835166614056, -4.227520404024296, -7.131823998650411, -0.4089893201225968, 1.2100075072116399, 2.613673178212237, -5.691217853494955, -4.084231260766735, -1.838991558913649, 4.677645814460637, 2.6403713509421713, 0.9157082989431902, 4.314225115287367, 12.390342803584216, 11.842865016016939, 2.7928118175438175, 9.754196869920682, 13.555798632802274, 11.024447215482352, 9.492327880706702, 3.154301843614459, 2.6956395514256655, 7.405144692071623, 9.96589276047865, 10.956904292408675, 9.401778067928177, -1.8966418103671667, -57.26792064386361, -97.3027446788906, -79.55252009862552, 1.7811551576842803, 1.079647017191081, -1.0688102676281979, -0.510638730431159, -0.8184099465725028, -4.488943191663057, 0.9716438879846084, 1.1176817878434635, -4.082381368189605, -4.365900470637202, -2.243841536235093, -3.9980540760609107, -5.948959103587656, -3.7204838651269743, -8.84600444746725, -9.617104678833586, -4.037337304963887, -5.479010512134399, -1.9527166939003977, -1.1563697808937279, 1.3412628436965712, 5.472391197034514, 6.248015462659253, -3.486016308823782, -3.7838969651368792, 1.4974134706190723, 2.2476144184089835, -0.2934756347520138, 0.8288080235054882, -4.280507600842269, -0.15793310994677257, 0.8303087289778617, -2.1688558904722117, -1.329395096832781, -5.168987332581568, -7.605223979763695, -9.57562615097919, -6.186791447323467, -8.816815299230129], [-38.88024157119538, -21.74070560460157, 14.941899629134959, 55.23197083616493, 25.181401579803385, -1.6817641814424866, -9.235629062691576, -4.623800060672864, -30.030361006834926, -46.837207220419664, -55.68977406117385, -58.6236646984839, -60.82189246338044, -56.09306116613077, -45.5780161725473, -35.80093451328379, -29.961662933954074, -32.018824490616836, -31.1127300330923, -22.182921269073592, -17.723248581975167, -28.09853132327164, -38.00562217560495, -41.2232313598459, -47.3486894549995, -50.815600997955556, -40.68776274406972, -29.586270318250495, -18.447848347439137, -8.57909794152157, -1.0022317105489869, 1.3539168383769393, -7.0932194895600915, -3.000858997679281, -3.388629066715302, -8.118598028826646, -13.914933299567823, -17.426025575221725, -22.40127136819877, -16.307925195254168, -14.615739971635739, -12.251421676960025, -15.594703833128914, -6.445885772316321, -9.394744274418358, -79.41757745951159, -93.99043894622599, -89.6977003973227, -2.0380988690351547, -4.865339252050632, 6.757649618038103, 1.2960005069694125, 3.2880684897650094, 9.32407060021825, 2.5030602598740255, 4.86611047831957, 1.0383781441253845, 5.203518797105824, 4.756242719634942, 0.689217713888752, 0.7003381377387958, 6.281138198509005, 1.760614828168462, -2.5159266035461103, -0.9867651642870932, 1.478233002753618, 0.6757320934296432, 0.47482150310949295, 2.2337230182539325, -0.16483471859749022, -0.5468087242017584, 5.944739092010206, 3.9028954735747803, -1.5560708807242842, 4.110007430651966, -2.8732123352783594, 5.048861329985721, 6.2930831717923965, 5.5804715695172185, 6.49404576405076, 1.9524523669699165, 3.907233714743563, 1.8092690132811624, -1.6754528049500128, 1.0334232796351275, 2.1167372115415373, 2.2495486919708467], [2.4011591071928384, 19.36661327106674, 11.983685549173344, 12.42077261345324, 8.652871740099744, -2.0518983128858737, 2.9835075811966236, 2.2904906074549465, 6.15930215946486, 3.632885428873013, 1.313467831233514, 2.2958694491556275, 1.9834240382632047, -10.766465965617517, -6.504839205380984, -8.833852091369769, -9.472048664029954, -10.170619322219952, -8.239582862617898, -7.951700376153696, -11.769808499066244, -12.63510801569746, -15.642625234475732, -24.041731154321106, -21.553927353359562, -19.775689348116654, -14.660869331299406, -6.19485200798592, -4.488816266675176, -18.246657514276045, -11.694900557300516, -7.1725092281688605, -6.540734697181513, -4.705515741539777, -8.721014074539106, -6.239437781543021, -7.788917453937268, -7.4028528617497384, -14.121710411473087, -14.802982298495587, -5.397804454631727, -6.248212119436669, -4.2677421806061595, -2.9413992747322393, -2.274217567601886, -6.656662708136992, -31.26752473622239, -9.438460323984492, 5.1974763830157915, 0.12479040557718511, 4.264093294230064, -0.7895097048558505, 6.087388085463024, 10.805192791711516, 6.300431454901505, 6.246122100308135, 3.332602692284445, 0.46704489049637443, -0.830301921466677, 0.5758972457363617, 2.432324821979328, 2.591215718906024, 5.5335609485365795, 0.056242802477259005, 3.4391927697711635, 7.518536970144579, 8.085789837754003, 11.536331169772291, 9.740107021100126, 3.673777782548003, 3.2117927335979437, 6.905570853589838, 1.4110083271955458, 1.104851685298782, 1.4860514579562614, 4.609135310291832, -2.654033535425727, 2.179385239939519, 2.134662870035303, 1.128454917877011, 3.7873689186252237, -2.5509085834600684, 2.913335239628186, 5.459861628687707, 1.8203701269420047, 0.12237715278342778, -1.5170563716392726], [13.741843541220025, 12.159283388513122, 15.99682757579056, 16.80843503865034, 14.790218616589565, -6.530303843199809, -9.384710231551999, -9.459470546628818, 73.52864321213384, 29.08305024720366, 0.7579430208621698, -30.043317363414236, -50.40248000827773, -55.32419126701027, -57.666297162123634, -46.83493980814216, -43.890104206403606, -30.741350428751147, -26.076576720399142, -23.09435625628133, -19.4109445787055, -27.607754109191468, -41.97336025014712, -46.57810575285354, -49.092574036663166, -41.48983250522014, -21.342093085375343, -9.652611430915638, -1.8158819314407553, 12.193997766936382, 10.459875299048472, 8.70605075398402, 8.325550367974323, 10.453813889802527, 9.969980912115695, 0.6360683237372102, 4.869240054176538, 7.805922666976464, 19.050408777071915, 10.855375035370079, 1.603325960462555, 8.587583122581254, 22.771065867585925, 11.263328823972708, 11.49395144888973, 37.6178574607782, 39.26800679061615, 5.303815745468323, -7.078938109161784, -10.662520291919595, -10.207441188236647, -10.039024299894617, -12.136929345231795, -17.74508960615549, -19.618331812230355, -17.266579550034585, -18.313688571602743, -21.341414974482163, -17.58637029949303, -16.965215160310144, -14.956431673812236, -11.105265824993978, -17.44714358057618, -22.965937333786012, -20.837539588714563, -19.433746281449928, -11.854739741092288, -19.400792248482286, -14.583174823062425, -18.003378086581424, -20.291300714325093, -7.5657186276691615, -9.903604418946061, -5.99492698209463, -8.910216872413637, 0.02757502389953047, 33.904338904265124, 92.78405618545821, 187.72343996838478, 216.56836061310872, 246.02933843457308, 128.18735173680858, 57.15929632989999, 16.95403552782225, -4.678083698752062, -14.429592863557527, -16.281964528791182], [15.557767348403237, 20.105509194643805, 41.906731203217106, 102.94275866509746, 116.2377420044226, 66.71993790735365, 29.36798853149871, 15.55822822741167, 31.132643400339937, 13.049286561738615, 0.11254834034690502, -15.175932696317254, -21.344370128997703, -30.727060882706205, -44.71597899205628, -50.73630113142632, -46.50125182993384, -31.305194206641563, -5.526691833783894, 33.320817528201616, 95.27534564938934, 139.11709414956027, 142.12623448313315, 112.08836380854497, 67.10581371375953, 22.84236624024371, -8.331507157911352, -31.51041278027144, -41.468858219476765, -47.01822774259182, -52.46165927224129, -53.36559105830422, -51.88052161038669, -50.40158470071383, -49.999996754173075, -50.574925452622175, -51.354832509469176, -51.682801764754984, -54.97099083128833, -59.57236200489563, -59.34709259086286, -57.76875107036008, -60.121404540826774, -62.53362170360981, -58.62750557871937, -52.603254085970455, 132.5275646500869, 27.55511043512902, -11.841680045617961, -5.639835858240267, 0.2696766562223867, -7.012000409476469, -1.1178271403004358, -3.4250457215016565, -14.434934197553522, -10.880773628200398, -4.037713909880496, -4.217149070353889, -10.318546651097266, -10.943105072647262, -8.352074525564086, -5.753671960389568, -7.7333321690258, -1.0172064025606666, -4.178895906214651, -5.342436022781107, 0.8733998164345742, 15.4213238886691, 11.087352350730049, 11.379382126059511, -3.1363913645204136, -3.6996157092853825, 2.59498164490113, -0.9993618388748657, 1.0920091146382547, -0.5721038531488676, -1.8630788134400973, 7.182685343870683, 3.3188804248425448, -2.234346723399409, 3.460484914571792, 5.8011075457756816, 5.748920664789411, 3.5917581537532315, 0.8951877770322634, -0.906984684041491, -1.5055569597494463], [-13.58222085695572, -18.245312359002757, -11.752195716420383, -3.889915185989757, -1.5955666840243572, -3.342612999495145, -2.8886988038848935, -5.160265384941122, 14.754910239239901, 17.641000062358277, -1.362124468251864, -9.332861964517718, -8.551863021810307, -0.7668173183231376, -6.843970821692114, -9.727001790111796, 6.370361906405829, 4.866810529520948, 0.0683980387075671, 1.8772039193404766, 5.219877890758224, -0.8682287877475257, -2.896827188593388, -3.590755062364972, -8.431171749746252, -1.1598617912025866, 3.2503611750721415, 9.381022699586444, 7.352693634569945, 8.317136778875158, 6.310348205868517, -5.681348689775865, -6.720693690423761, 10.66701942407066, 2.201935603470448, 0.756909908802575, 3.764195617229007, 7.187509129776619, 3.350756822322453, -3.4529385075351025, -7.688187643387518, 5.154041782956765, 4.006710664812839, -4.8462264385333595, 10.393625993020366, 10.714121169996787, -16.536690520056833, -6.621284120553887, -4.991072178515269, 4.858217122497708, 11.28810852615268, -3.969262521866507, -5.8314308892837, -0.9184902955108005, -11.54023426270247, -8.131597855189025, 3.730482985473254, 0.23409985376139447, -3.1208350904111537, -4.114230755156166, 2.2747429156385666, 8.191832523853067, 9.866475987522104, 8.781940487063498, 9.411091748543786, 1.4009123354239597, 3.895023834947863, 7.699376317604021, 14.514712440542358, -3.990251549314714, -8.928056127219158, -4.061527140715866, -1.806411032160244, -2.1554117844252882, -2.2406299019900295, -0.7968934739644453, -8.554199214329596, 0.11360834286944005, 17.420476022046437, 13.585046522039313, -4.194567469054186, -5.618440563427789, -8.817881753254133, -2.1841480730446907, 8.525299389182365, 7.637184245815503, 1.9052550721997277], [45.30290702416318, 46.11016302576074, 41.22933771874611, 32.03437750427916, 43.515785233880145, 29.171668357326542, -5.026537701573347, -58.27059335803394, -67.3383432462639, -36.32283717333592, -12.407771099370876, -3.395854292407848, -1.7926770400674124, -9.14826903920854, -16.27707473215784, -19.84063596960706, 4.608079353396958, 1.9895383188430587, -0.16829713405266228, -2.7480216166285256, 2.8412035127886464, 3.7908903761418964, -1.1133724097010589, -0.15498649389311875, 6.373285471942601, 5.792741300765962, 9.00251347586291, 15.019252101340571, 17.98666078033697, 17.742650931169326, 18.402795543271665, 19.13488684235044, 21.578816146926066, 28.99782980393028, 31.61286526486039, 28.635108723273035, 23.197465868785002, 27.66687721197461, 36.63923428077454, 33.182386877773915, 38.78113528206921, 54.58111610178001, 96.71969109712226, 141.787584310361, 170.07970977278285, 203.67165841749122, 162.41126864671608, 199.51485261812329, 173.48555819471952, 166.67047865947168, 76.41906769223844, 20.88660810491198, 8.713896002030605, 4.469020890612884, 8.688028640909286, 8.683379836223198, 8.450796552446405, 6.74467832680494, 8.216688301302472, 8.026652436601978, 5.1515109917838116, 1.8035673450663787, 0.07698174116693082, 6.761372093291578, 11.53886930903445, 5.310013089387349, 0.07195942826084564, 4.899437787928651, 2.863297297661983, 5.070917831031043, -4.9609476166188164, -8.943106511653621, -4.472280656641214, -2.166030659889208, 4.519495809895804, 10.144498130429117, 4.3386814683355475, 2.097664313452535, 6.897368432348004, 1.970035655864089, -0.11220303767368746, 2.5603252902980875, -2.850997557100818, 1.8596992315822978, 6.268400335864785, 6.2605549867221875, 4.81682260763777], [68.58526184830025, 21.663166815619956, -11.081815137177307, -21.342690848599496, -7.9991278276129005, -5.5489845694954205, 0.6543286661073217, -5.10138528122971, -13.054839375861189, -13.420141797851329, -8.657292693717354, -7.818244821762437, -8.36550883551843, -2.3979857841914707, -4.044468331653575, -7.172145737145552, 3.236595885905713, 2.8339970713999945, 1.4382251737208314, 2.4443561811048773, 3.47310664806847, 3.8574821825892593, 0.2915418288866071, -0.7640683509783766, -5.164811625255376, -4.001656965636827, 2.5626332558846645, -2.653607431778987, -4.172129432429967, 0.6850937398037488, -3.334820182706333, 2.7962821912827858, 9.185223000970534, 6.4306632565880655, -7.780067993055957, -4.280413615793967, 10.609164829057864, 7.067548454940631, -6.2594286167530795, 8.881886209662078, 17.186434036263453, 7.672333819930922, 0.495987479275484, 0.4308414786653083, 7.335188361102392, 13.103386543645994, 19.965611345188485, 2.546379579553057, -0.9846394417912838, -5.457648007757178, -2.088589492780729, -9.986914599735432, -2.5625745479892292, 3.179577281150612, 2.8559710286008193, -6.622846172044429, -2.927987854276147, -6.6911600704298175, -2.925722196053127, -5.160702463328893, -1.6057882780047015, 2.0231799102502244, -0.2255129866527318, 0.2858855536913984, -0.6151531964120539, 0.30544708371278767, -0.5518771573756232, -2.0671111640194497, -3.1071422699774947, -5.993972277849455, 0.047426918806043376, 4.382766618165463, 4.879531720487957, -0.3160101763673481, 0.022432225436785615, -2.8104062150899307, 2.2286615094496356, 4.252013625075005, 0.27689120387164085, 2.6562471161587315, -1.1357802997455697, 3.6525463624062606, -0.4408628600053742, -0.5997352653712098, -2.8133238856825016, 5.113268767769795, 4.796556224901452], [203.02800964625885, 89.67968081814168, 9.902305328227405, -23.273987481456597, 2.5177201796168975, -1.2449479935381935, -5.469864002707115, -10.912215899694894, -54.2207383680602, -45.89775389947436, -32.969030542431845, -30.973962613332844, -37.799195312177666, -43.722925849456054, -39.64983863604595, -40.814050660338395, -54.79456744218083, -51.27472621642526, -35.27257800433827, -23.552676820797373, -2.7855716460619617, 22.67768493486346, 25.47521479857352, 29.082524443857473, 36.51602877773053, 29.349627737299294, 27.441485067761782, 35.72163987897633, 33.51587639542094, 29.192177058621827, 34.46219359295449, 39.08691070859137, 33.839815968264396, 31.291882272944505, 33.334286968250986, 31.76340131627479, 29.19019738739319, 27.446404356470765, 25.68885877208454, 36.16964624892086, 32.61347364187192, 32.51684373502146, 42.461313383532534, 38.54936072607466, 31.461570375196867, 37.97269904428162, -31.909304342882045, -9.28679018969603, -11.403159771607557, -8.892897817883822, -8.90404561783036, -5.870334565879304, -4.832914578437722, -2.434468338272431, -10.520077595008026, -5.690027413734193, -2.797801841049816, -10.461729502100988, -13.358410454416111, -14.813136344064578, -12.96664103902619, -5.615562158568106, -6.575467656604184, -10.145619872135901, -12.57092283485603, -11.758479899262719, -11.934040385706004, -6.83526823833801, -6.703240391935707, -7.666324173568566, -6.47789917074039, -4.515244132235532, -11.686497253293775, -15.933151509769578, -8.824519058569148, -6.152404162667919, -6.809845624932014, -10.164192718945456, -6.153230217985102, -9.127894651311472, -8.427801196395434, -6.468032943502097, -12.173171661971804, -7.627909886041449, -2.8294086121295394, -5.409467433288054, -8.059321191722816], [14.421119529539428, 13.554199146991456, 11.146888817636363, 9.331222615061396, -0.8273245691085732, -10.023833835794871, -3.5931335038848875, 10.721031381366851, 38.920439755336545, 28.31742862653194, 24.529291520212254, 4.123830408473205, -22.575183214366554, -39.005007466272794, -52.1285879830494, -55.455619895043185, -57.58383544740339, -52.59408216375077, -43.422426994891346, -40.67494541806823, -33.56504166621348, -28.219981706705234, -34.344115751137274, -31.10430888652413, -24.86680633432094, -26.069457558155257, -26.60913954262086, -31.002256607215177, -25.14592065260568, -0.7998692989136857, 15.277730068945042, 34.4134814001186, 51.50875689368157, 82.15334651700216, 81.06300545177955, 69.31627325186683, 76.18136827902998, 75.22880892034404, 79.45858691279443, 71.15006935184496, 79.9549834207766, 82.25890645145361, 74.44666767641021, 75.42096419942541, 62.353751979298146, 57.15447391928821, -34.65036792605614, -14.412453431015148, 0.07674165727511914, 8.576140729427223, 3.7619373478973888, 3.563156496882448, 1.3034039690700414, 6.0631153775896625, 3.890679696184321, 7.270895879620978, -0.6925598982258532, -7.218349854222714, -6.47926449603655, 5.179978303383952, 5.554581954035732, 1.2553783709568829, 2.1478825655543066, 8.01578062916748, 7.343440462643001, 2.872274663782971, 9.352260143012101, 7.976146504635888, 10.243589959229915, 5.769624573575614, -2.7613511142514784, 3.063444388266518, 14.644092450356174, 19.143511044728527, 62.58584300757539, 100.100381847443, 102.12920594086974, 63.848776883135706, 35.847087070675, 13.243530383439126, 6.892100286379753, 0.7215941889693687, -3.3347354488415513, -0.44267324439542, -2.208256091983891, -3.295965375741668, -6.125273480111661]], 2.0: [[41.13133225567751, 44.50117699798985, 20.957386557118895, 10.249549727734962, 9.82363896257785, -9.029549635968854, -2.5741402685174317, -5.090963732866478, 83.04206021718468, 33.55243230321041, 2.4532464251930794, -25.852962137429824, -44.722625102232016, -54.25918107343074, -55.33391460044874, -45.976809184576304, -45.88148199025815, -33.97052014196232, -26.663190428729155, -19.943696687214157, -13.762925731390435, -20.129807957886545, -26.11599404188271, -35.171317001400745, -39.27628010143451, -30.763716362617345, -12.15463777772193, -0.9881427068401523, -0.9245419566062714, 11.341019288530271, 16.612852208517886, 18.2473860806674, 22.077457548237035, 7.0031157869381095, 21.00253400751285, 14.212442764946323, 6.976160572672256, 8.52872439522914, 22.088799888338478, 13.37061600765655, 1.454206213060744, 3.377623447273623, 9.48241688580863, 3.58651305843856, 9.8097842502135, 37.50742536285636, 66.65075842736799, 15.900877224325633, -13.0842465465452, -7.8411174913048445, -10.648915463893998, -14.881515678581108, -11.358432723628235, -11.622745572551393, -18.72767122765535, -17.95816120862265, -21.474051447162356, -16.072687024205166, -16.35134627259577, -27.598860288876647, -22.992867674331496, -15.231909759710884, -19.34735633400123, -22.77184875916279, -20.756366867583353, -12.127510255079573, -14.689827385412931, -22.299684516512162, -16.792550955926302, -14.690518902501312, -17.596653204556226, -13.21576040632638, -16.459133773813438, -8.071945765614641, 1.9326246310310886, 30.11915452279404, 109.02086727523883, 250.659124906496, 276.81417699078173, 177.8525713175447, 111.5175579899326, 44.70601569268786, 14.068873372528067, -4.580662528762057, -16.7712515690784, -19.954407894812533, -25.248652270328808], [58.205638359300906, 50.61001209496332, 49.21925682469987, 140.30983210823075, 252.18960630224515, 114.92962552748152, 32.492672676101805, 12.884826321731616, 21.75995185298288, -2.310714001135857, -17.11296971734822, -30.727232903064568, -33.3596170832416, -42.490837955359964, -52.488919581802115, -61.50221888920216, -53.259485095657446, -40.64249107311523, -27.14852011186757, 1.1065539945209937, 65.10206139689618, 99.1646688918062, 84.2262185768924, 60.28927480052072, 32.37031131938902, 12.351935995917783, -17.064708845688216, -35.78097731985928, -42.88024641705353, -45.52244083014316, -44.38549237712913, -42.184625718785504, -45.27648486316346, -44.492084014288544, -39.34619513431531, -41.834352247220934, -38.227812557479254, -33.986512722013565, -45.97622487486564, -45.367413308128604, -46.512843960779186, -45.1173632250186, -40.248080158931664, -49.76965200562207, -52.026918501957496, -46.373048356656135, 75.40092620504164, 8.004430925177969, -17.328313918089357, -21.384835157383474, -14.905763280701962, -27.99346762430807, -16.917396098993827, -15.116651065470393, -23.468544249046918, -18.31629379605916, -17.748175541393387, -28.465392428883884, -32.79939456292646, -32.438762158658854, -15.880329348174532, -16.635123049907428, -22.153877877724966, -14.785283748746473, -10.596087127718592, -10.783725106892588, -2.9770769306378466, 0.2575212592243798, -7.120917188754575, -11.170831765985472, -12.3609476452807, -6.049876675342749, -11.391870043260182, -7.349474669365212, -10.366138488121981, -16.917559702201586, -18.062902553815192, -6.040281006659224, -5.516118767660646, -10.998064815628036, -6.789939983636896, 3.8061140337268458, 2.52698231430756, -7.47938828421478, -3.132039550758423, 4.371593882492523, 4.253137796898527], [39.60940554360584, 35.60377816348941, 32.9235912733923, 1.162000379562142, 8.446106145633978, -2.5120827990149723, -15.570851111321781, -17.145672761166065, -56.713626468666675, -45.15502016653966, -31.268846073882173, -31.365685094605862, -34.32185814383885, -37.18712403391416, -36.885137454828424, -41.352868927156564, -54.80056595330819, -49.689302304413644, -38.918398670541414, -29.28800221658096, -9.057572496303804, 15.713393769584073, 21.930393380848333, 21.24625827487638, 24.40718078454282, 27.94525467446879, 37.61060606119404, 41.72930219030241, 32.574505354541024, 23.394237463400664, 41.868358946758875, 46.4493969024563, 45.64831400101295, 49.06869123831073, 52.399878915725594, 57.46914192229414, 32.413710077585826, 31.388403131717936, 45.24730597059757, 47.67659668042315, 35.916343916146815, 36.12125371712785, 43.955740376966844, 48.33075813074102, 55.94614998927927, 29.688843805734518, -21.413555713005465, -8.090601630342, -4.54814112139466, -4.954077166577968, -10.891675354855542, -15.630479227746886, -10.54708349527357, -5.117321148076857, -12.104466523150444, -12.392191612374305, -2.643204967494871, -1.0464666190781355, 3.8353553038283716, 1.5325787568106517, -0.7695847768016049, -4.466357311206011, -6.72763041147287, -5.698518004773897, -3.5187587038906933, 0.2214349135888873, 1.3153523137325531, -5.787383936087677, -6.135162338448487, -4.499488106532143, -7.332209423667151, -10.370041410125713, -7.712849602812651, -11.48572984968777, -10.769781645737671, 0.948346658672571, -8.920696233488277, -14.633942226415611, -10.897284882855791, -4.432929946779599, -8.709487310545775, -4.609967724695462, -9.162244540224043, -8.15801006925474, -3.8537181356170893, -6.766859040991205, -0.9545373693002146]], 3.0: []}}\n",
      "bi categories: [1.0, 2.0, 3.0]\n",
      "{'all_match': {1.0: [[-10.010610652742741, -3.7945991297107544, 3.75600058327219, 0.7066773387251881, -2.0365487604882597, 6.51878434689036, 8.356646991336321, 3.4847423804237616, -19.360335646635072, -17.998007633829438, -12.448479626876985, -5.204896133649961, -3.672568196086315, 2.1112896673236548, 8.497346658575317, 11.729132034229735, 6.73054882922566, -7.644479835008466, -9.177683343336092, 0.546621033655339, 0.42786152905221875, -2.0665035935630613, 2.4533530350512534, 3.3904631830507674, -5.045222265995275, -8.55505276586554, -6.551882716420569, 3.9739353597980225, 5.108486235368571, -0.5321200016121418, 0.20640681042979847, 10.555981135235877, 9.534652780368571, 1.4112646758419156, 3.5012916599339374, 10.219870015267702, 8.581933572323832, 2.3505123119042666, -4.663477171149221, -5.67655804646113, -0.6323618192002582, 2.357000748782817, 0.6724977249335412, -1.4122674790526495, -4.565195099774382, -83.6414103432106, -96.4209063082765, -69.38438882861028, 2.8562919249047707, -0.25534868818969686, 2.4191576235808645, -1.3828495396929819, 6.239746099286108, -0.8023465006934597, -3.591826608375217, 1.9771351977104736, 0.7987347477517953, 2.890623264610857, 0.7119202993953564, -3.113106464184167, -8.734900509047382, -3.5786370956160702, 0.4107490021094684, 4.082942052973777, 4.329814734446117, 5.0166170600588345, -0.6109132491521673, -2.2903077690818976, 6.3650979344698735, 6.0020003114060785, 1.038553339334632, 5.775967438185243, 6.17179177816743, -0.9200975762842055, 1.2203293395651211, 3.408894451207276, -1.8364960181358931, -4.463708688162313, -2.9021039400861546, 2.2158278216512852, 0.7780671051106058, 3.6154367392517615, -1.1135663277537118, -3.0603640507060255, -5.039114100928256, 3.042052805423353, -1.596575903304733], [19.464939213370567, 54.50804025838368, 105.30381430487981, 114.82543344550515, 30.047235401717316, 9.454413468252342, 5.116630363848732, 2.688290249348834, 17.37225653273771, -16.979232161454537, -34.02641316301838, -38.764252995014225, -46.656723014374585, -50.68911087629745, -42.98794558748364, -27.261499569750196, -1.8747101744152297, 7.468547489633283, 16.359075833048873, 25.555588827532866, 25.327975009221625, 4.529831359139966, -2.7474940147245714, -15.225519033170684, -24.173455663298544, -40.220065201968715, -42.12940920908966, -23.86795854000171, -3.5509479551389314, 22.468805759701638, 34.897799371311244, 38.24482395899339, 45.282963189977245, 28.246746296697843, 25.74332753571163, 33.22566535996665, 32.227123398501604, 28.459151758590256, 25.256469231520995, 14.143006752762307, 9.01657630360767, 12.245902585998715, 12.634894134135058, 17.548902436714485, 16.648057022124892, -63.06159501681803, -85.52846899752342, -75.6180834569621, 6.177592450368439, 7.877157585516099, 8.460625053534647, -7.344864272088955, -8.499779911057775, 7.019154389595839, 9.436497602245117, 7.2513908612456195, 1.7470994564784255, 2.8119652283056986, 9.348198135426621, 11.482210151728905, 10.643878615485567, 9.971811661855897, 9.574129665246536, 9.264897648451626, 13.854628426095116, 7.133218276552879, 4.13855242887475, 4.883619779324809, 10.40431346061797, 15.391285611216968, 3.0460454762185227, -1.7677210425091543, 4.734664490128574, 10.390270588149985, 7.086093058279601, 3.38608284117244, 8.067426651225503, 16.625859743292484, 25.44254966242899, 20.133772071603797, 10.034385572604238, 1.2810264689682176, 2.7578718379083536, 9.377841511186585, -5.097609609465893, -3.9111601401126643, 1.6537937844168804], [7.6152303251034015, 20.99773764543461, 9.89938669663553, 2.3788052720760593, 7.592203370449779, 7.346100420746773, 10.4144150179147, 4.395531311679739, 0.8551942357594248, 5.19741657123612, -3.4018493421282456, 5.143950807152146, -3.518512273019859, -15.764699277816202, -22.80646386925021, -25.978497232423, -17.99536127396351, -13.900454369785711, -15.37685598064055, -15.134819675504927, -18.899683608364022, -20.404142377877573, -19.23513878006019, -17.49238455745997, -16.993216326309046, -9.239049345000328, -6.126830927377283, -0.9704120449941539, -2.2679230600934583, -1.8979134120423777, -1.937795177833291, -0.27262077603841256, 3.690463315965895, 10.933349034729265, 21.463190639085738, 16.08918107781524, 11.07915989459569, 21.063960939608407, 16.642039452333712, 12.355010623924176, 9.658079658050859, 5.616361022332464, 9.773206955314029, 7.50367386353313, 12.920671289494157, 51.28184738055352, -30.234730888437134, -19.843911520796002, -2.916179787655135, 1.9990027933352885, -0.252174181452945, -4.622097102260819, -7.659227243516899, -7.022027169802146, 1.332079519503092, 2.6047102184100486, 0.9178053051624786, -2.739378162921102, -5.688257535882713, -3.7248838240911146, -1.1021281948434145, -3.8140716024336863, 0.20204260769515486, 7.55448444999429, -1.188445214909459, -3.0811182340668446, -0.05152483129667889, 0.38542494261082216, -3.0730782935718253, -3.4987182517694464, 2.7186703945421553, 2.6822309412251477, -1.649690388208984, -4.9598948716787, -3.9360279276024035, -2.7472386331686978, -1.3195860956160903, -3.944864180972279, 0.6133861981087665, 11.010937715500953, 11.429506375710547, 6.729896716435779, -1.7249940096439427, -0.04610010465325885, 2.8429987748047596, -1.2970512814487867, -0.960638719703511], [-33.504007143281314, -17.672499704227082, -1.9600627952567153, 21.170530467897514, -1.384948070436983, -30.466667928722707, -30.986334671410138, -19.479297665145218, 49.45462622370731, 16.811495296008978, -3.508289885641732, -29.494430835911388, -47.59102580416555, -54.38977127489007, -55.42312280609587, -52.27510892169926, -51.67598061935642, -43.487494555350686, -36.82327788448328, -32.6431991498475, -34.120738930487704, -31.845557580164634, -24.514571056645572, -29.084799648048577, -29.734521807766722, -22.19436321004186, -2.7848502061869076, -2.630687229894154, 2.6059061158258676, 25.200482757900073, 34.9590405296626, 36.500321137891376, 67.21106084429057, 71.79349355160258, 53.37286298451707, 51.0530086225615, 47.69208945491158, 40.56865855070654, 22.009034703279767, 32.66498822880892, 39.79887559624938, 32.80514499834334, 43.333472176879425, 32.97739653735485, 33.81632624804132, 132.39408117829163, -19.761244177899258, -15.322789245669306, -16.491539849295794, -15.41101630424428, -8.043741586769174, -10.731763774552984, -2.174877044569486, -0.8020277750336584, 1.9246661210339688, -0.21396415130606505, -0.37188238234221865, -7.518238704135123, -9.166900566027085, -6.707946405573193, -14.77329927830244, -3.385264976547987, -5.287394203821781, -5.261638820352658, -5.236172450916281, -4.0446011670021615, -6.753312530177323, -11.62940864838324, -7.726322411023082, -3.859003591187405, -14.11149368803061, -17.953655999764937, -4.1259297256418, 7.1925101874891375, 0.9549069197167116, 5.367624631937133, 13.998823898425266, 23.56910007208256, 76.65402505938886, 111.934676201068, 179.116093555902, 214.7321474103736, 199.81527567631684, 100.96182733960252, 43.51969826861581, 11.579089517767393, 6.247273049806402], [-3.431853844175279, 5.341291460835205, 8.994485377323329, 35.25411095928539, 24.464969940185018, 12.47126282368043, 0.9217252354856659, -6.329431655258645, -10.020313990957346, -11.1276310353876, -15.709952501513976, -15.513250839153761, -11.251812022425117, -16.779542410761195, -20.632139256831483, -16.992840923315864, 8.036559133147957, 30.02468693306848, 31.896317171545014, 29.93191123375265, 43.73553296551156, 45.61584621000993, 32.458824281910985, 21.21319955434247, 11.576683455273852, 1.8344956157841585, -9.12545121218834, -16.540073908370847, -19.15378307422663, -23.192980531597755, -24.199499888721675, -19.99948409507379, -16.670756729833393, -20.79406899912716, -19.041263303429293, -13.984381323426048, -23.70324502062796, -22.054406655125337, -20.454542149539122, -21.075994010830136, -25.074124863765245, -21.564760755531374, -19.985655631782226, -20.623442248784094, -23.440343879560487, -33.17163557768647, 134.73428292088218, 86.54676381278112, -1.7570285614221515, -1.6939491879275312, 4.625902317171957, 4.409286405178919, 4.069035464731302, 8.542268292538937, 10.446300741892253, 8.394971738013274, 11.807071583374846, 16.135837556960656, 17.688438975020407, 9.80489757151894, 4.3241420970318085, -2.4810667905945434, -1.7651992730872548, -7.162288906931713, -7.053760650082243, -4.640681805650674, -2.7561816833626867, -5.178893328084294, -0.14444556960313668, -0.2389328336432435, -3.6138513208731315, 0.7439350002301963, -0.9109615465422898, -2.776932303666694, 0.1203238971210539, -2.9660938848548546, -6.522619206900539, -8.441909764108486, -6.4734107246166115, -2.633916385743422, -2.9926755284746096, -1.0006918439060222, -9.073913082551439, -8.101749970047868, -6.413163869870093, -3.217568306936784, -2.3481256538652673], [3.9802957342076533, -6.124245997620756, -10.967752880356167, -6.037859522777021, -4.840146295667017, -11.51977396678575, -10.755667337875344, -23.216501775448048, -9.85546782350404, -3.844633067772922, -17.61501240666518, -21.695212766152892, -21.321534887229472, -15.075666604033866, -12.947424272529654, -9.302521791679395, 6.949233398346546, 12.106954748167382, 11.600447940887536, 1.7053496983485277, -2.914909743136742, -11.682779353797184, -6.6992976978323435, -10.05584556052009, -12.818403032767634, 2.314795085542808, 2.0701984652651957, 2.468404144833676, 6.4854765704966955, 15.567641761588124, 16.66875869803938, 20.871559754095852, 19.546546890604784, 10.759997795373186, 8.889555742271101, 7.990342944091328, 11.154888843022876, 8.546919240876717, 15.87842678681404, 13.118913012462535, 10.842303935528745, 13.361893281116732, 13.858117018187578, -0.25145534214396736, 2.0366536596363893, -1.5409244680319274, -14.724199867561621, -9.430877156671455, 9.381818477631679, -2.3917795945547193, -7.7803503296959535, -2.023395212388955, -1.4980242840939613, 4.595286456891633, -5.00983371327843, -5.154834293834873, -12.472866498900272, -3.5603553048299803, 7.949283827776873, 8.061821786918468, 7.65126188509926, -3.3328911262772203, 6.388653177840017, 1.5352570479720176, 9.62968793186682, 5.474269036092545, 4.796650160322671, 6.3190066894156125, 6.964805059466989, 5.600838281666669, 9.149198848574807, 7.298647449796366, 6.698228900200162, 12.730791841719777, 9.852533845166358, -2.3218891386343605, 6.405463678329257, -1.1139488608350347, 3.0610476761940273, 5.163374275169786, 0.4393419112758472, -2.2900068646818212, 3.4644080629628213, 4.236112459888897, 3.9800688566694005, 6.4389356003791365, 5.088011561408296], [43.93414501520155, 42.84149782537799, 27.727287994591247, 16.66653989168778, 86.78747153499238, 57.60820016559459, 0.9210527034657695, -58.16074495949706, -69.86201387198697, -37.118203506486154, -9.470158921189334, -4.2394638091400605, -3.9053568355785684, -12.87197732073286, -25.327791225943475, -34.448935200374834, -48.24952309839387, -45.93064703184774, -49.76574103449294, -51.45392754801858, -43.165381223682495, -35.466118453947246, -22.938489889717083, -14.015959368682571, -5.21996610202394, 12.604413423083901, 25.931276529976248, 32.798395340852956, 34.46700164233023, 22.61214770337888, 8.63121223151316, 16.29557699562597, 15.447409722042805, 15.581845647661119, 25.66189149003819, 36.44914487685926, 37.44067702873679, 38.574234110222, 35.515027622574, 31.914035699580396, 37.13692370949237, 58.187199359787044, 87.5486212143586, 132.73337868637128, 125.84621323374611, 125.37901715480456, 179.79321063336775, 219.81408163633733, 177.12441315162246, 123.88540402528636, 56.827983422341056, 20.131549180302898, 10.27091930109581, 7.477027850853476, 8.765496498372748, 12.254578671451691, 12.795748352191872, 6.859144613383547, -0.3358675212993113, 6.752793969217942, 9.741129194790206, 8.20002346999678, 2.7459183522654755, 5.000285638865863, 4.589904779875174, 11.233920872958505, 9.74400104985897, 7.104697593634454, -1.0385943420432415, -8.018934507396423, -11.596722294889442, -11.504379693530154, -3.83456060835004, -2.245863368497993, 2.841388279286785, 6.126830916909953, -0.3449237565384841, 0.04439022666387151, 3.1469019775426856, 6.483844511782097, 7.705498821401766, 6.23165489606306, -1.4864364698550174, -2.2121488056024075, -3.0960518308999903, 0.6324595376300418, 0.4368107888575484], [-5.926847377108665, -0.07394226774283484, -3.024172001741139, -6.1676457906519815, -0.35172627945985596, 0.3216273722822545, 3.365412941372168, 2.725794576288094, -5.477074286669825, 2.1560437668923567, 6.853251608003287, 10.887648460769325, 8.335579389859472, 4.0270722445709515, 1.5842078315124895, -7.148454987714464, 0.919720485395008, -7.324079814191466, -2.9622397739116004, -4.989789166213949, -4.299363134521679, -3.741612224924483, -3.3871405962623005, -5.027205466020589, 10.305224636711618, -3.7292199973164473, 5.954170183242242, 7.063377395741, -2.5642056310796724, 4.9723214291561835, 5.397674195503847, 3.9674117968169367, 6.5944035097010145, 8.547248123829945, 2.752657869471635, -2.984588610701686, -1.0940740696734774, 4.070824596591578, 8.405945752028888, 3.8315359041914236, -2.6652808803679537, 1.2165660712932598, -1.9813696773198504, 1.0191904935954494, -1.8772093104929035, -0.25232648787833434, 25.126407404124596, 7.507926208423754, 3.4742436252249846, 2.1762670477852115, -0.07100211734700466, -0.1636886636814319, 8.625584604330307, 7.243051080151547, 8.153591833246681, 4.0857043730913745, 3.4240547175984237, 3.354588332968553, 4.027069000151273, 0.09218235438162646, 6.631285424066247, 7.166285644319221, -0.8402698465156903, -2.3458997806813815, -2.948222284203007, -7.7572671384516925, 2.039971997421013, -0.3791709449176172, -4.302416609907137, -1.1369278501040132, -5.9826212572896935, 0.45472440035030065, -4.077214941401099, -5.513048347991966, -1.6274184152248807, 5.083879827143927, 3.3890052229121843, 2.219537843450696, -0.4076702989865662, -0.23969484423054266, 13.579064045555619, 7.655548638758192, 8.727010006334107, 3.2483508416948164, -6.517171380785269, 1.447391913404633, -1.8119492047539771], [167.60593052068702, 63.74293314028036, 14.183031222818476, -4.525632599185385, 43.27829551304965, 12.67214856189802, -18.798953774523568, -43.20899875650348, -54.95208606595698, -46.21211455942514, -37.671830502610156, -36.245708024887016, -36.49911946562327, -25.973854524375906, -19.019071863798352, -16.617823218283874, -29.50304466822106, -24.41273511050399, -16.78321486418065, -12.565232844448998, 2.7989135633487945, 24.963933430061285, 40.075658311024036, 51.18238156664733, 34.5198918067538, 34.75276139192652, 48.547228562333096, 52.00766664347991, 52.70501294265023, 49.00589922187882, 45.842227342507115, 43.78802928414031, 36.50286675280704, 44.17826042596617, 51.55394552020175, 48.136340198970714, 52.27801840310428, 47.944690546945154, 50.491465820767104, 58.70321071399067, 57.289304622411784, 64.22499758652562, 54.288718808077995, 66.18670289143034, 62.32414473026466, 58.43656778102536, -12.476862799812611, -7.810780165105971, -1.2978299542428515, -2.7740336037051376, -9.75604468056875, -6.5513098887974515, 1.872689554898665, 0.10390039324783228, -4.168297191374823, 1.5551549903335102, -3.056818666880252, -1.7118418076797826, -2.0807522370430207, -6.117614938241306, -12.49549440426323, -10.834893005989455, -6.782312058385363, 1.0202716579949616, -9.96526645041781, -9.739865186137337, -8.916632835907869, -10.03143860699596, -10.081574249964467, -14.862304493315326, -8.672774281697524, -13.169814794020343, -14.339933327887888, -11.791689562913515, -10.12981640376669, -10.959364905602257, -12.967490722304822, -11.76942000084776, -13.047122519365104, -11.7445993065617, -8.617899524427136, -10.70276788376795, -9.965232310150526, -14.696035016461458, -13.403684336914862, -11.227766287379676, -14.282635617667363], [19.429586646119606, 24.159085095809623, 15.78564247657193, 7.089110999911802, 2.5980712393281156, -13.249856181874822, -10.47915375343358, -6.688246952727921, 4.453072780609611, -4.458574934052216, -4.44764499872189, -8.820678704209744, -15.854798563179513, -29.01462167192278, -37.85730327670719, -43.18086007559195, -27.656969670695187, -23.251308115878274, -19.035909515134485, -23.8491983213082, -20.82015397648868, -18.21450372208431, -15.010482706566314, -20.215580527760878, -36.21725818203737, -43.45801144095907, -48.119510540586404, -48.32624219011926, -33.812645651273705, -23.100671539735792, -7.33000929921548, 29.771724633237607, 63.379025989610625, 54.35478900486947, 67.6603442500366, 53.421376873329464, 71.16464582412564, 52.02089111766613, 48.617345560890826, 37.105968298734346, 22.969275712982576, 33.89874316210265, 24.081247809384415, 30.484960211571188, 39.20569240490659, 36.339473024491085, -7.165555907569315, 5.8818967749086495, 0.7607465301395347, 5.154190587514898, 6.095579285172911, 3.921742663798364, 0.6698327368346937, 3.26362727397825, 10.853780996382214, 14.424597272471502, 4.489260825214945, 3.5773919359314457, 0.9563762422036031, -0.5820739731445919, 0.5003716303435753, 1.6294676087664755, 5.174435466783923, -3.186913406179379, -1.4900210129742641, 0.9805759632335762, 4.573157745630117, -0.6970562230331493, -1.4084958357837676, 0.05574040551996319, 6.193577713946819, -1.774187135931047, -1.1265086350862317, 1.611638193039724, 6.719098353213535, -1.1746817036284267, -6.086046443752343, -4.472156544818233, -1.4574656447234946, 8.92744214554161, 5.032666235395434, 1.728437314251674, 4.633871675750044, 5.394222686844808, 7.324954814429086, -1.628304086872185, -2.0916105239369354]], 2.0: [[4.9670700968276496, 10.321064853391858, 9.132605218937453, 18.3239384158054, -2.8471357492632317, -20.375778805593715, -18.004994752190363, -19.81299465695536, 67.74657569067284, 39.28538093142522, 23.10162208283742, -12.235478667498167, -42.14378258599315, -52.04422236834794, -49.22111325670232, -43.80099898858214, -57.07849124565132, -42.5388842518937, -28.859471041281626, -30.07131516930006, -23.215439964280584, -11.0963920697672, 9.37353969308338, 26.308288839762277, 27.56653848855466, 34.16267543417492, 54.90175959093391, 46.914367381017094, 48.81138738877983, 59.410567599603056, 73.9579396838641, 78.63551353498079, 94.73562942726461, 87.38720718419944, 72.57210620930692, 88.82997138671456, 94.11056954866262, 79.15482044421591, 61.65623726097911, 68.58367061536067, 76.97517654158148, 54.18091950585673, 60.79337380124682, 65.93630081542531, 55.96488426472375, 99.08553234169302, -30.28420311175722, -23.827014756745296, -24.136912966111005, -17.7861346036541, -20.051980398734152, -22.60464895550209, -14.103026914076269, -10.26153577362741, -12.848119552800776, -14.755000830192207, -19.667265038168587, -19.175204465258393, -17.77806021272326, -13.909038850071786, -25.644460924630124, -16.927711530553104, -11.745774404593135, -7.556543614905445, -10.587715206804278, -18.43272698455506, -15.154428656678673, -12.324414782465466, -8.293550049814092, -6.604624992310073, -17.514038784897565, -13.419543673771505, -1.6640283668255595, 5.675865780741133, 8.928338925475897, 34.65649066761362, 75.67392019119124, 141.14276951667392, 308.64028559130736, 392.1671888986769, 328.0413197913766, 205.35815136981532, 110.50400670262461, 38.7596066638258, 6.880287823570484, -12.803228285168016, -15.367193475146124], [93.09189568411819, 68.80383876576177, 8.146455730682337, 23.706707229138637, 65.83986790425742, 42.06107650337562, 0.8011786766971525, -19.96101298588252, -28.487528373702165, -30.602352208382378, -24.938462649056518, -24.872414965511773, -21.78969080585555, -20.924468443211367, -25.212166034443012, -28.718846729408433, -0.9390005994963112, 15.957832159186596, 14.738819121367616, 26.16388392920462, 59.347289655989385, 46.1534304638967, 15.032477137832648, 6.991057912749174, -0.6618407950000996, -10.315845917031691, -21.482604817918354, -32.90701777431857, -32.21301704453043, -26.692615235009185, -26.290869329626375, -16.725264060627985, -27.103624611455402, -34.19937488790657, -31.92246461306067, -20.201282751287604, -20.23586454831904, -24.86526795572452, -23.489030696990252, -22.4741731451632, -22.86417672314708, -21.295319529183647, -29.986475748737057, -25.779498123707917, -25.80590432471279, -31.9016970332203, 45.0790295188402, 24.74194637848776, -15.823311640590296, -13.041406190311589, -10.88189847164588, -20.932992277658823, -18.623729846127315, -17.26537143071074, -14.243261543380168, -9.96251213915421, 2.998729427111904, 3.9765965506940932, -3.7127219110319576, -11.075415640401529, -12.90810939128931, -21.992382386468677, -16.090573511242464, -12.832266759662275, -9.603031807123081, -11.875272288320538, -4.987353305964648, -2.242670316278218, -7.153400809388392, -8.442291784855014, -7.986341943948368, -7.332624111837329, -11.388704568695506, -4.617763654106704, -1.196179915513145, -13.612834503870758, -18.763256291085266, -12.556895815520994, -5.382862647805723, -0.6784327290840507, -0.4259968844976684, -7.753748195731521, -6.464303362249442, -5.50707218304387, -13.96643049181002, -10.387883337536021, -6.374098680919432], [27.92204582671754, 27.111282581145346, 29.711488034471223, 17.40212052246335, 36.21879162985622, 11.798082099585706, -8.770583881998814, -33.607548267108925, -49.37127831125021, -43.74767406867065, -39.42531580575852, -33.746368090767085, -31.012978227284442, -24.684075539109767, -7.6561025829962, -4.657854785293234, -19.89503581523965, -18.980783143763244, -12.298029299478436, -4.145977097557192, 7.853372775019543, 19.92049530681448, 46.735658041840914, 51.37948005577208, 72.98771801364032, 75.51641831072465, 80.0015850349759, 71.42399251537206, 57.60520210053205, 39.52028899433607, 23.895389844404665, 25.73869918024171, 34.84334250016177, 24.101405052344965, 22.907053880656694, 28.369667700464014, 30.82534883624353, 39.35155182827448, 52.53528355770556, 55.63804371906319, 40.56765005909495, 42.88188182984926, 48.3413962492796, 32.81126880721094, 31.601922558663563, 46.042876116970405, -13.763170758736864, -9.201091207471444, -1.8681669678506845, 12.998583422326021, 0.03720214958465154, -2.4863508217960044, 0.3131689276933036, 14.138193982307698, 4.406020027224067, 4.174978972199081, 4.070332982781564, 8.731189406603026, 1.2275395442260733, 1.4996157842847924, 5.385497614328334, -1.8722106634847164, -4.757687825311441, 7.1395097273268915, 3.418811348730096, 1.4118272367591378, 1.5068263963349486, -0.5862647649401561, -5.552664845307133, -1.1906822694129782, 8.208510326154183, -0.29536359776521054, -6.311545167891914, -4.642402704663211, -11.392542508842237, -12.096182637880739, -7.38941098812195, -1.5478593555301319, 8.424839583235524, 4.93984127939843, 1.6860760221814004, -2.908748269051795, -8.157688851749555, -6.5881434128661915, 0.024004437342967283, -5.359885470648687, -11.96834892642387]], 3.0: []}}\n",
      "Unexpected exception formatting exception. Falling back to standard exception\n"
     ]
    },
    {
     "name": "stderr",
     "output_type": "stream",
     "text": [
      "Traceback (most recent call last):\n",
      "  File \"c:\\Users\\habetsj\\Research\\projects\\dyskinesia_neurophys\\code\\lfpecog_plotting\\plot_descriptive_SSD_PSDs.py\", line 641, in plot_STN_PSD_vs_LID\n",
      "    temp_subs = subs_incl[side][cat] + subs_incl[f'bi_{side}'][cat]\n",
      "KeyError: 'all_match'\n",
      "\n",
      "During handling of the above exception, another exception occurred:\n",
      "\n",
      "Traceback (most recent call last):\n",
      "  File \"c:\\Users\\habetsj\\Research\\projects\\dyskinesia_neurophys\\code\\lfpecog_plotting\\plot_descriptive_SSD_PSDs.py\", line 644, in plot_STN_PSD_vs_LID\n",
      "    try: n_subs_incl['all_match'][cat] = len(np.unique(subs_incl[side][cat]))\n",
      "KeyError: 'all_match'\n",
      "\n",
      "During handling of the above exception, another exception occurred:\n",
      "\n",
      "Traceback (most recent call last):\n",
      "  File \"c:\\Users\\habetsj\\Anaconda3\\envs\\ecog_dysk\\lib\\site-packages\\IPython\\core\\interactiveshell.py\", line 3433, in run_code\n",
      "    exec(code_obj, self.user_global_ns, self.user_ns)\n",
      "  File \"C:\\Users\\habetsj\\AppData\\Local\\Temp\\ipykernel_20916\\4011077642.py\", line 26, in <module>\n",
      "    stn_stats = plot_PSDs.plot_STN_PSD_vs_LID(\n",
      "  File \"c:\\Users\\habetsj\\Research\\projects\\dyskinesia_neurophys\\code\\lfpecog_plotting\\plot_descriptive_SSD_PSDs.py\", line 645, in plot_STN_PSD_vs_LID\n",
      "    except: n_subs_incl['all_match'][cat] = len(np.unique(subs_incl[f'bi_{side}'][cat]))\n",
      "KeyError: 'bi_all_match'\n",
      "\n",
      "During handling of the above exception, another exception occurred:\n",
      "\n",
      "Traceback (most recent call last):\n",
      "  File \"c:\\Users\\habetsj\\Anaconda3\\envs\\ecog_dysk\\lib\\site-packages\\IPython\\core\\interactiveshell.py\", line 2052, in showtraceback\n",
      "    stb = self.InteractiveTB.structured_traceback(\n",
      "  File \"c:\\Users\\habetsj\\Anaconda3\\envs\\ecog_dysk\\lib\\site-packages\\IPython\\core\\ultratb.py\", line 1112, in structured_traceback\n",
      "    return FormattedTB.structured_traceback(\n",
      "  File \"c:\\Users\\habetsj\\Anaconda3\\envs\\ecog_dysk\\lib\\site-packages\\IPython\\core\\ultratb.py\", line 1006, in structured_traceback\n",
      "    return VerboseTB.structured_traceback(\n",
      "  File \"c:\\Users\\habetsj\\Anaconda3\\envs\\ecog_dysk\\lib\\site-packages\\IPython\\core\\ultratb.py\", line 859, in structured_traceback\n",
      "    formatted_exception = self.format_exception_as_a_whole(etype, evalue, etb, number_of_lines_of_context,\n",
      "  File \"c:\\Users\\habetsj\\Anaconda3\\envs\\ecog_dysk\\lib\\site-packages\\IPython\\core\\ultratb.py\", line 812, in format_exception_as_a_whole\n",
      "    frames.append(self.format_record(r))\n",
      "  File \"c:\\Users\\habetsj\\Anaconda3\\envs\\ecog_dysk\\lib\\site-packages\\IPython\\core\\ultratb.py\", line 730, in format_record\n",
      "    result += ''.join(_format_traceback_lines(frame_info.lines, Colors, self.has_colors, lvals))\n",
      "  File \"c:\\Users\\habetsj\\Anaconda3\\envs\\ecog_dysk\\lib\\site-packages\\stack_data\\utils.py\", line 145, in cached_property_wrapper\n",
      "    value = obj.__dict__[self.func.__name__] = self.func(obj)\n",
      "  File \"c:\\Users\\habetsj\\Anaconda3\\envs\\ecog_dysk\\lib\\site-packages\\stack_data\\core.py\", line 698, in lines\n",
      "    pieces = self.included_pieces\n",
      "  File \"c:\\Users\\habetsj\\Anaconda3\\envs\\ecog_dysk\\lib\\site-packages\\stack_data\\utils.py\", line 145, in cached_property_wrapper\n",
      "    value = obj.__dict__[self.func.__name__] = self.func(obj)\n",
      "  File \"c:\\Users\\habetsj\\Anaconda3\\envs\\ecog_dysk\\lib\\site-packages\\stack_data\\core.py\", line 649, in included_pieces\n",
      "    pos = scope_pieces.index(self.executing_piece)\n",
      "  File \"c:\\Users\\habetsj\\Anaconda3\\envs\\ecog_dysk\\lib\\site-packages\\stack_data\\utils.py\", line 145, in cached_property_wrapper\n",
      "    value = obj.__dict__[self.func.__name__] = self.func(obj)\n",
      "  File \"c:\\Users\\habetsj\\Anaconda3\\envs\\ecog_dysk\\lib\\site-packages\\stack_data\\core.py\", line 628, in executing_piece\n",
      "    return only(\n",
      "  File \"c:\\Users\\habetsj\\Anaconda3\\envs\\ecog_dysk\\lib\\site-packages\\executing\\executing.py\", line 164, in only\n",
      "    raise NotOneValueFound('Expected one value, found 0')\n",
      "executing.executing.NotOneValueFound: Expected one value, found 0\n"
     ]
    }
   ],
   "source": [
    "importlib.reload(plot_PSDs)\n",
    "\n",
    "# PM, needs: TFs = ssd_TimeFreq.get_all_ssd_timeFreqs(SUBS=SUBS)\n",
    "\n",
    "# 'LAT_UNI' , 'LAT_BILAT', 'SCALE', 'LAT_ALL_SCALE'\n",
    "LAT_or_SCALE = 'SCALE'\n",
    "\n",
    "SMOOTH_FREQS=8\n",
    "LOG_POWER=False\n",
    "BASELINE_CORRECT=True\n",
    "ZSCORE_FREQS=False\n",
    "SHOW_GAMMA = True\n",
    "SHOW_SIGN = True\n",
    "# fig, axes = plt.subplots(1, 2, figsize=(12, 6))\n",
    "fig_name = f'1608_2_STN_PSDs_{LAT_or_SCALE}_LID_n{len(subs_LID)}'\n",
    "\n",
    "if BASELINE_CORRECT: fig_name += '_blCorr'\n",
    "if LOG_POWER: fig_name += '_log'\n",
    "if ZSCORE_FREQS: fig_name += '_Z'\n",
    "if SMOOTH_FREQS > 0: fig_name += f'_smooth{SMOOTH_FREQS}'\n",
    "if SINGLE_LINE: fig_name += '_lines'\n",
    "if SHOW_GAMMA: fig_name += '_GAMMA'\n",
    "if SHOW_SIGN: fig_name += '_SIGN'\n",
    "fsize=14\n",
    "\n",
    "stn_stats = plot_PSDs.plot_STN_PSD_vs_LID(\n",
    "    TFs, sel_subs=subs_LID,\n",
    "    CDRS_RATER='Jeroen',\n",
    "    LAT_or_SCALE=LAT_or_SCALE,\n",
    "    LOG_POWER=LOG_POWER,\n",
    "    BASELINE_CORRECT=BASELINE_CORRECT,\n",
    "    SMOOTH_PLOT_FREQS=SMOOTH_FREQS,\n",
    "    ZSCORE_FREQS=ZSCORE_FREQS,\n",
    "    plt_ax_to_return=False,\n",
    "    fsize=fsize,\n",
    "    BREAK_X_AX=True,\n",
    "    fig_name=fig_name,\n",
    "    CALC_FREQ_CORR=False,\n",
    "    SHOW_ONLY_GAMMA=SHOW_GAMMA,\n",
    "    SHOW_SIGN=SHOW_SIGN,\n",
    "    PROCESS_STATS=False,\n",
    "    PLOT_ONLY_MATCH=True\n",
    ")\n"
   ]
  },
  {
   "cell_type": "code",
   "execution_count": 256,
   "metadata": {},
   "outputs": [],
   "source": [
    "import lfpecog_analysis.psd_lid_stats as psdLID_stats"
   ]
  },
  {
   "cell_type": "code",
   "execution_count": null,
   "metadata": {},
   "outputs": [],
   "source": [
    "store_path = os.path.join(get_project_path('results'), 'stats', 'LMM_noLID_vs_LID')\n"
   ]
  },
  {
   "cell_type": "code",
   "execution_count": 266,
   "metadata": {},
   "outputs": [
    {
     "name": "stdout",
     "output_type": "stream",
     "text": [
      "START 4 Hz\n",
      "START 5 Hz\n"
     ]
    },
    {
     "name": "stderr",
     "output_type": "stream",
     "text": [
      "c:\\Users\\habetsj\\Anaconda3\\envs\\ecog_dysk\\lib\\site-packages\\statsmodels\\regression\\mixed_linear_model.py:1635: UserWarning: Random effects covariance is singular\n",
      "  warnings.warn(msg)\n",
      "c:\\Users\\habetsj\\Anaconda3\\envs\\ecog_dysk\\lib\\site-packages\\statsmodels\\regression\\mixed_linear_model.py:2055: UserWarning: The random effects covariance matrix is singular.\n",
      "  warnings.warn(_warn_cov_sing)\n",
      "c:\\Users\\habetsj\\Anaconda3\\envs\\ecog_dysk\\lib\\site-packages\\statsmodels\\regression\\mixed_linear_model.py:2238: ConvergenceWarning: The MLE may be on the boundary of the parameter space.\n",
      "  warnings.warn(msg, ConvergenceWarning)\n",
      "c:\\Users\\habetsj\\Anaconda3\\envs\\ecog_dysk\\lib\\site-packages\\statsmodels\\regression\\mixed_linear_model.py:2246: UserWarning: The random effects covariance matrix is singular.\n",
      "  warnings.warn(_warn_cov_sing)\n",
      "c:\\Users\\habetsj\\Anaconda3\\envs\\ecog_dysk\\lib\\site-packages\\statsmodels\\regression\\mixed_linear_model.py:2262: ConvergenceWarning: The Hessian matrix at the estimated parameter values is not positive definite.\n",
      "  warnings.warn(msg, ConvergenceWarning)\n",
      "c:\\Users\\habetsj\\Anaconda3\\envs\\ecog_dysk\\lib\\site-packages\\statsmodels\\regression\\mixed_linear_model.py:1635: UserWarning: Random effects covariance is singular\n",
      "  warnings.warn(msg)\n",
      "c:\\Users\\habetsj\\Anaconda3\\envs\\ecog_dysk\\lib\\site-packages\\statsmodels\\regression\\mixed_linear_model.py:2055: UserWarning: The random effects covariance matrix is singular.\n",
      "  warnings.warn(_warn_cov_sing)\n",
      "c:\\Users\\habetsj\\Anaconda3\\envs\\ecog_dysk\\lib\\site-packages\\statsmodels\\regression\\mixed_linear_model.py:2238: ConvergenceWarning: The MLE may be on the boundary of the parameter space.\n",
      "  warnings.warn(msg, ConvergenceWarning)\n",
      "c:\\Users\\habetsj\\Anaconda3\\envs\\ecog_dysk\\lib\\site-packages\\statsmodels\\regression\\mixed_linear_model.py:2246: UserWarning: The random effects covariance matrix is singular.\n",
      "  warnings.warn(_warn_cov_sing)\n",
      "c:\\Users\\habetsj\\Anaconda3\\envs\\ecog_dysk\\lib\\site-packages\\statsmodels\\regression\\mixed_linear_model.py:2262: ConvergenceWarning: The Hessian matrix at the estimated parameter values is not positive definite.\n",
      "  warnings.warn(msg, ConvergenceWarning)\n"
     ]
    },
    {
     "name": "stdout",
     "output_type": "stream",
     "text": [
      "START 6 Hz\n",
      "START 7 Hz\n"
     ]
    },
    {
     "name": "stderr",
     "output_type": "stream",
     "text": [
      "c:\\Users\\habetsj\\Anaconda3\\envs\\ecog_dysk\\lib\\site-packages\\statsmodels\\regression\\mixed_linear_model.py:1635: UserWarning: Random effects covariance is singular\n",
      "  warnings.warn(msg)\n",
      "c:\\Users\\habetsj\\Anaconda3\\envs\\ecog_dysk\\lib\\site-packages\\statsmodels\\regression\\mixed_linear_model.py:2055: UserWarning: The random effects covariance matrix is singular.\n",
      "  warnings.warn(_warn_cov_sing)\n",
      "c:\\Users\\habetsj\\Anaconda3\\envs\\ecog_dysk\\lib\\site-packages\\statsmodels\\regression\\mixed_linear_model.py:2238: ConvergenceWarning: The MLE may be on the boundary of the parameter space.\n",
      "  warnings.warn(msg, ConvergenceWarning)\n",
      "c:\\Users\\habetsj\\Anaconda3\\envs\\ecog_dysk\\lib\\site-packages\\statsmodels\\regression\\mixed_linear_model.py:2246: UserWarning: The random effects covariance matrix is singular.\n",
      "  warnings.warn(_warn_cov_sing)\n",
      "c:\\Users\\habetsj\\Anaconda3\\envs\\ecog_dysk\\lib\\site-packages\\statsmodels\\regression\\mixed_linear_model.py:2262: ConvergenceWarning: The Hessian matrix at the estimated parameter values is not positive definite.\n",
      "  warnings.warn(msg, ConvergenceWarning)\n",
      "c:\\Users\\habetsj\\Anaconda3\\envs\\ecog_dysk\\lib\\site-packages\\statsmodels\\regression\\mixed_linear_model.py:1635: UserWarning: Random effects covariance is singular\n",
      "  warnings.warn(msg)\n",
      "c:\\Users\\habetsj\\Anaconda3\\envs\\ecog_dysk\\lib\\site-packages\\statsmodels\\regression\\mixed_linear_model.py:2055: UserWarning: The random effects covariance matrix is singular.\n",
      "  warnings.warn(_warn_cov_sing)\n",
      "c:\\Users\\habetsj\\Anaconda3\\envs\\ecog_dysk\\lib\\site-packages\\statsmodels\\regression\\mixed_linear_model.py:2238: ConvergenceWarning: The MLE may be on the boundary of the parameter space.\n",
      "  warnings.warn(msg, ConvergenceWarning)\n",
      "c:\\Users\\habetsj\\Anaconda3\\envs\\ecog_dysk\\lib\\site-packages\\statsmodels\\regression\\mixed_linear_model.py:2246: UserWarning: The random effects covariance matrix is singular.\n",
      "  warnings.warn(_warn_cov_sing)\n",
      "c:\\Users\\habetsj\\Anaconda3\\envs\\ecog_dysk\\lib\\site-packages\\statsmodels\\regression\\mixed_linear_model.py:2262: ConvergenceWarning: The Hessian matrix at the estimated parameter values is not positive definite.\n",
      "  warnings.warn(msg, ConvergenceWarning)\n"
     ]
    },
    {
     "name": "stdout",
     "output_type": "stream",
     "text": [
      "START 8 Hz\n",
      "START 9 Hz\n"
     ]
    },
    {
     "name": "stderr",
     "output_type": "stream",
     "text": [
      "c:\\Users\\habetsj\\Anaconda3\\envs\\ecog_dysk\\lib\\site-packages\\statsmodels\\regression\\mixed_linear_model.py:1635: UserWarning: Random effects covariance is singular\n",
      "  warnings.warn(msg)\n",
      "c:\\Users\\habetsj\\Anaconda3\\envs\\ecog_dysk\\lib\\site-packages\\statsmodels\\regression\\mixed_linear_model.py:2055: UserWarning: The random effects covariance matrix is singular.\n",
      "  warnings.warn(_warn_cov_sing)\n",
      "c:\\Users\\habetsj\\Anaconda3\\envs\\ecog_dysk\\lib\\site-packages\\statsmodels\\regression\\mixed_linear_model.py:2238: ConvergenceWarning: The MLE may be on the boundary of the parameter space.\n",
      "  warnings.warn(msg, ConvergenceWarning)\n",
      "c:\\Users\\habetsj\\Anaconda3\\envs\\ecog_dysk\\lib\\site-packages\\statsmodels\\regression\\mixed_linear_model.py:2246: UserWarning: The random effects covariance matrix is singular.\n",
      "  warnings.warn(_warn_cov_sing)\n",
      "c:\\Users\\habetsj\\Anaconda3\\envs\\ecog_dysk\\lib\\site-packages\\statsmodels\\regression\\mixed_linear_model.py:2262: ConvergenceWarning: The Hessian matrix at the estimated parameter values is not positive definite.\n",
      "  warnings.warn(msg, ConvergenceWarning)\n",
      "c:\\Users\\habetsj\\Anaconda3\\envs\\ecog_dysk\\lib\\site-packages\\statsmodels\\regression\\mixed_linear_model.py:1635: UserWarning: Random effects covariance is singular\n",
      "  warnings.warn(msg)\n",
      "c:\\Users\\habetsj\\Anaconda3\\envs\\ecog_dysk\\lib\\site-packages\\statsmodels\\regression\\mixed_linear_model.py:2055: UserWarning: The random effects covariance matrix is singular.\n",
      "  warnings.warn(_warn_cov_sing)\n",
      "c:\\Users\\habetsj\\Anaconda3\\envs\\ecog_dysk\\lib\\site-packages\\statsmodels\\regression\\mixed_linear_model.py:2238: ConvergenceWarning: The MLE may be on the boundary of the parameter space.\n",
      "  warnings.warn(msg, ConvergenceWarning)\n",
      "c:\\Users\\habetsj\\Anaconda3\\envs\\ecog_dysk\\lib\\site-packages\\statsmodels\\regression\\mixed_linear_model.py:2246: UserWarning: The random effects covariance matrix is singular.\n",
      "  warnings.warn(_warn_cov_sing)\n",
      "c:\\Users\\habetsj\\Anaconda3\\envs\\ecog_dysk\\lib\\site-packages\\statsmodels\\regression\\mixed_linear_model.py:2262: ConvergenceWarning: The Hessian matrix at the estimated parameter values is not positive definite.\n",
      "  warnings.warn(msg, ConvergenceWarning)\n"
     ]
    },
    {
     "name": "stdout",
     "output_type": "stream",
     "text": [
      "START 10 Hz\n"
     ]
    },
    {
     "name": "stderr",
     "output_type": "stream",
     "text": [
      "c:\\Users\\habetsj\\Anaconda3\\envs\\ecog_dysk\\lib\\site-packages\\statsmodels\\regression\\mixed_linear_model.py:1635: UserWarning: Random effects covariance is singular\n",
      "  warnings.warn(msg)\n",
      "c:\\Users\\habetsj\\Anaconda3\\envs\\ecog_dysk\\lib\\site-packages\\statsmodels\\regression\\mixed_linear_model.py:2238: ConvergenceWarning: The MLE may be on the boundary of the parameter space.\n",
      "  warnings.warn(msg, ConvergenceWarning)\n",
      "c:\\Users\\habetsj\\Anaconda3\\envs\\ecog_dysk\\lib\\site-packages\\statsmodels\\regression\\mixed_linear_model.py:1635: UserWarning: Random effects covariance is singular\n",
      "  warnings.warn(msg)\n",
      "c:\\Users\\habetsj\\Anaconda3\\envs\\ecog_dysk\\lib\\site-packages\\statsmodels\\regression\\mixed_linear_model.py:2055: UserWarning: The random effects covariance matrix is singular.\n",
      "  warnings.warn(_warn_cov_sing)\n",
      "c:\\Users\\habetsj\\Anaconda3\\envs\\ecog_dysk\\lib\\site-packages\\statsmodels\\regression\\mixed_linear_model.py:2238: ConvergenceWarning: The MLE may be on the boundary of the parameter space.\n",
      "  warnings.warn(msg, ConvergenceWarning)\n",
      "c:\\Users\\habetsj\\Anaconda3\\envs\\ecog_dysk\\lib\\site-packages\\statsmodels\\regression\\mixed_linear_model.py:2246: UserWarning: The random effects covariance matrix is singular.\n",
      "  warnings.warn(_warn_cov_sing)\n",
      "c:\\Users\\habetsj\\Anaconda3\\envs\\ecog_dysk\\lib\\site-packages\\statsmodels\\regression\\mixed_linear_model.py:2262: ConvergenceWarning: The Hessian matrix at the estimated parameter values is not positive definite.\n",
      "  warnings.warn(msg, ConvergenceWarning)\n"
     ]
    },
    {
     "name": "stdout",
     "output_type": "stream",
     "text": [
      "START 11 Hz\n",
      "START 12 Hz\n"
     ]
    },
    {
     "name": "stderr",
     "output_type": "stream",
     "text": [
      "c:\\Users\\habetsj\\Anaconda3\\envs\\ecog_dysk\\lib\\site-packages\\statsmodels\\regression\\mixed_linear_model.py:1635: UserWarning: Random effects covariance is singular\n",
      "  warnings.warn(msg)\n",
      "c:\\Users\\habetsj\\Anaconda3\\envs\\ecog_dysk\\lib\\site-packages\\statsmodels\\regression\\mixed_linear_model.py:2238: ConvergenceWarning: The MLE may be on the boundary of the parameter space.\n",
      "  warnings.warn(msg, ConvergenceWarning)\n"
     ]
    },
    {
     "name": "stdout",
     "output_type": "stream",
     "text": [
      "START 13 Hz\n",
      "START 14 Hz\n"
     ]
    },
    {
     "name": "stderr",
     "output_type": "stream",
     "text": [
      "c:\\Users\\habetsj\\Anaconda3\\envs\\ecog_dysk\\lib\\site-packages\\statsmodels\\regression\\mixed_linear_model.py:1635: UserWarning: Random effects covariance is singular\n",
      "  warnings.warn(msg)\n",
      "c:\\Users\\habetsj\\Anaconda3\\envs\\ecog_dysk\\lib\\site-packages\\statsmodels\\regression\\mixed_linear_model.py:2055: UserWarning: The random effects covariance matrix is singular.\n",
      "  warnings.warn(_warn_cov_sing)\n",
      "c:\\Users\\habetsj\\Anaconda3\\envs\\ecog_dysk\\lib\\site-packages\\statsmodels\\regression\\mixed_linear_model.py:2238: ConvergenceWarning: The MLE may be on the boundary of the parameter space.\n",
      "  warnings.warn(msg, ConvergenceWarning)\n",
      "c:\\Users\\habetsj\\Anaconda3\\envs\\ecog_dysk\\lib\\site-packages\\statsmodels\\regression\\mixed_linear_model.py:2246: UserWarning: The random effects covariance matrix is singular.\n",
      "  warnings.warn(_warn_cov_sing)\n",
      "c:\\Users\\habetsj\\Anaconda3\\envs\\ecog_dysk\\lib\\site-packages\\statsmodels\\regression\\mixed_linear_model.py:2262: ConvergenceWarning: The Hessian matrix at the estimated parameter values is not positive definite.\n",
      "  warnings.warn(msg, ConvergenceWarning)\n",
      "c:\\Users\\habetsj\\Anaconda3\\envs\\ecog_dysk\\lib\\site-packages\\statsmodels\\regression\\mixed_linear_model.py:1635: UserWarning: Random effects covariance is singular\n",
      "  warnings.warn(msg)\n",
      "c:\\Users\\habetsj\\Anaconda3\\envs\\ecog_dysk\\lib\\site-packages\\statsmodels\\regression\\mixed_linear_model.py:2055: UserWarning: The random effects covariance matrix is singular.\n",
      "  warnings.warn(_warn_cov_sing)\n",
      "c:\\Users\\habetsj\\Anaconda3\\envs\\ecog_dysk\\lib\\site-packages\\statsmodels\\regression\\mixed_linear_model.py:2238: ConvergenceWarning: The MLE may be on the boundary of the parameter space.\n",
      "  warnings.warn(msg, ConvergenceWarning)\n",
      "c:\\Users\\habetsj\\Anaconda3\\envs\\ecog_dysk\\lib\\site-packages\\statsmodels\\regression\\mixed_linear_model.py:2246: UserWarning: The random effects covariance matrix is singular.\n",
      "  warnings.warn(_warn_cov_sing)\n",
      "c:\\Users\\habetsj\\Anaconda3\\envs\\ecog_dysk\\lib\\site-packages\\statsmodels\\regression\\mixed_linear_model.py:2262: ConvergenceWarning: The Hessian matrix at the estimated parameter values is not positive definite.\n",
      "  warnings.warn(msg, ConvergenceWarning)\n"
     ]
    },
    {
     "name": "stdout",
     "output_type": "stream",
     "text": [
      "START 15 Hz\n",
      "START 16 Hz\n"
     ]
    },
    {
     "name": "stderr",
     "output_type": "stream",
     "text": [
      "c:\\Users\\habetsj\\Anaconda3\\envs\\ecog_dysk\\lib\\site-packages\\statsmodels\\regression\\mixed_linear_model.py:1635: UserWarning: Random effects covariance is singular\n",
      "  warnings.warn(msg)\n",
      "c:\\Users\\habetsj\\Anaconda3\\envs\\ecog_dysk\\lib\\site-packages\\statsmodels\\regression\\mixed_linear_model.py:2055: UserWarning: The random effects covariance matrix is singular.\n",
      "  warnings.warn(_warn_cov_sing)\n",
      "c:\\Users\\habetsj\\Anaconda3\\envs\\ecog_dysk\\lib\\site-packages\\statsmodels\\regression\\mixed_linear_model.py:2238: ConvergenceWarning: The MLE may be on the boundary of the parameter space.\n",
      "  warnings.warn(msg, ConvergenceWarning)\n",
      "c:\\Users\\habetsj\\Anaconda3\\envs\\ecog_dysk\\lib\\site-packages\\statsmodels\\regression\\mixed_linear_model.py:2246: UserWarning: The random effects covariance matrix is singular.\n",
      "  warnings.warn(_warn_cov_sing)\n",
      "c:\\Users\\habetsj\\Anaconda3\\envs\\ecog_dysk\\lib\\site-packages\\statsmodels\\regression\\mixed_linear_model.py:2262: ConvergenceWarning: The Hessian matrix at the estimated parameter values is not positive definite.\n",
      "  warnings.warn(msg, ConvergenceWarning)\n",
      "c:\\Users\\habetsj\\Anaconda3\\envs\\ecog_dysk\\lib\\site-packages\\statsmodels\\regression\\mixed_linear_model.py:1635: UserWarning: Random effects covariance is singular\n",
      "  warnings.warn(msg)\n",
      "c:\\Users\\habetsj\\Anaconda3\\envs\\ecog_dysk\\lib\\site-packages\\statsmodels\\regression\\mixed_linear_model.py:2055: UserWarning: The random effects covariance matrix is singular.\n",
      "  warnings.warn(_warn_cov_sing)\n",
      "c:\\Users\\habetsj\\Anaconda3\\envs\\ecog_dysk\\lib\\site-packages\\statsmodels\\regression\\mixed_linear_model.py:2238: ConvergenceWarning: The MLE may be on the boundary of the parameter space.\n",
      "  warnings.warn(msg, ConvergenceWarning)\n",
      "c:\\Users\\habetsj\\Anaconda3\\envs\\ecog_dysk\\lib\\site-packages\\statsmodels\\regression\\mixed_linear_model.py:2246: UserWarning: The random effects covariance matrix is singular.\n",
      "  warnings.warn(_warn_cov_sing)\n",
      "c:\\Users\\habetsj\\Anaconda3\\envs\\ecog_dysk\\lib\\site-packages\\statsmodels\\regression\\mixed_linear_model.py:2262: ConvergenceWarning: The Hessian matrix at the estimated parameter values is not positive definite.\n",
      "  warnings.warn(msg, ConvergenceWarning)\n"
     ]
    },
    {
     "name": "stdout",
     "output_type": "stream",
     "text": [
      "START 17 Hz\n",
      "START 18 Hz\n"
     ]
    },
    {
     "name": "stderr",
     "output_type": "stream",
     "text": [
      "c:\\Users\\habetsj\\Anaconda3\\envs\\ecog_dysk\\lib\\site-packages\\statsmodels\\regression\\mixed_linear_model.py:1635: UserWarning: Random effects covariance is singular\n",
      "  warnings.warn(msg)\n",
      "c:\\Users\\habetsj\\Anaconda3\\envs\\ecog_dysk\\lib\\site-packages\\statsmodels\\regression\\mixed_linear_model.py:2055: UserWarning: The random effects covariance matrix is singular.\n",
      "  warnings.warn(_warn_cov_sing)\n",
      "c:\\Users\\habetsj\\Anaconda3\\envs\\ecog_dysk\\lib\\site-packages\\statsmodels\\regression\\mixed_linear_model.py:2238: ConvergenceWarning: The MLE may be on the boundary of the parameter space.\n",
      "  warnings.warn(msg, ConvergenceWarning)\n",
      "c:\\Users\\habetsj\\Anaconda3\\envs\\ecog_dysk\\lib\\site-packages\\statsmodels\\regression\\mixed_linear_model.py:2246: UserWarning: The random effects covariance matrix is singular.\n",
      "  warnings.warn(_warn_cov_sing)\n",
      "c:\\Users\\habetsj\\Anaconda3\\envs\\ecog_dysk\\lib\\site-packages\\statsmodels\\regression\\mixed_linear_model.py:2262: ConvergenceWarning: The Hessian matrix at the estimated parameter values is not positive definite.\n",
      "  warnings.warn(msg, ConvergenceWarning)\n",
      "c:\\Users\\habetsj\\Anaconda3\\envs\\ecog_dysk\\lib\\site-packages\\statsmodels\\regression\\mixed_linear_model.py:1635: UserWarning: Random effects covariance is singular\n",
      "  warnings.warn(msg)\n",
      "c:\\Users\\habetsj\\Anaconda3\\envs\\ecog_dysk\\lib\\site-packages\\statsmodels\\regression\\mixed_linear_model.py:2055: UserWarning: The random effects covariance matrix is singular.\n",
      "  warnings.warn(_warn_cov_sing)\n",
      "c:\\Users\\habetsj\\Anaconda3\\envs\\ecog_dysk\\lib\\site-packages\\statsmodels\\regression\\mixed_linear_model.py:2238: ConvergenceWarning: The MLE may be on the boundary of the parameter space.\n",
      "  warnings.warn(msg, ConvergenceWarning)\n",
      "c:\\Users\\habetsj\\Anaconda3\\envs\\ecog_dysk\\lib\\site-packages\\statsmodels\\regression\\mixed_linear_model.py:2246: UserWarning: The random effects covariance matrix is singular.\n",
      "  warnings.warn(_warn_cov_sing)\n",
      "c:\\Users\\habetsj\\Anaconda3\\envs\\ecog_dysk\\lib\\site-packages\\statsmodels\\regression\\mixed_linear_model.py:2262: ConvergenceWarning: The Hessian matrix at the estimated parameter values is not positive definite.\n",
      "  warnings.warn(msg, ConvergenceWarning)\n"
     ]
    },
    {
     "name": "stdout",
     "output_type": "stream",
     "text": [
      "START 19 Hz\n",
      "START 20 Hz\n"
     ]
    },
    {
     "name": "stderr",
     "output_type": "stream",
     "text": [
      "c:\\Users\\habetsj\\Anaconda3\\envs\\ecog_dysk\\lib\\site-packages\\statsmodels\\regression\\mixed_linear_model.py:1635: UserWarning: Random effects covariance is singular\n",
      "  warnings.warn(msg)\n",
      "c:\\Users\\habetsj\\Anaconda3\\envs\\ecog_dysk\\lib\\site-packages\\statsmodels\\regression\\mixed_linear_model.py:2055: UserWarning: The random effects covariance matrix is singular.\n",
      "  warnings.warn(_warn_cov_sing)\n",
      "c:\\Users\\habetsj\\Anaconda3\\envs\\ecog_dysk\\lib\\site-packages\\statsmodels\\regression\\mixed_linear_model.py:2238: ConvergenceWarning: The MLE may be on the boundary of the parameter space.\n",
      "  warnings.warn(msg, ConvergenceWarning)\n",
      "c:\\Users\\habetsj\\Anaconda3\\envs\\ecog_dysk\\lib\\site-packages\\statsmodels\\regression\\mixed_linear_model.py:2246: UserWarning: The random effects covariance matrix is singular.\n",
      "  warnings.warn(_warn_cov_sing)\n",
      "c:\\Users\\habetsj\\Anaconda3\\envs\\ecog_dysk\\lib\\site-packages\\statsmodels\\regression\\mixed_linear_model.py:2262: ConvergenceWarning: The Hessian matrix at the estimated parameter values is not positive definite.\n",
      "  warnings.warn(msg, ConvergenceWarning)\n",
      "c:\\Users\\habetsj\\Anaconda3\\envs\\ecog_dysk\\lib\\site-packages\\statsmodels\\regression\\mixed_linear_model.py:1635: UserWarning: Random effects covariance is singular\n",
      "  warnings.warn(msg)\n",
      "c:\\Users\\habetsj\\Anaconda3\\envs\\ecog_dysk\\lib\\site-packages\\statsmodels\\regression\\mixed_linear_model.py:2238: ConvergenceWarning: The MLE may be on the boundary of the parameter space.\n",
      "  warnings.warn(msg, ConvergenceWarning)\n",
      "c:\\Users\\habetsj\\Anaconda3\\envs\\ecog_dysk\\lib\\site-packages\\statsmodels\\regression\\mixed_linear_model.py:1635: UserWarning: Random effects covariance is singular\n",
      "  warnings.warn(msg)\n",
      "c:\\Users\\habetsj\\Anaconda3\\envs\\ecog_dysk\\lib\\site-packages\\statsmodels\\regression\\mixed_linear_model.py:2055: UserWarning: The random effects covariance matrix is singular.\n",
      "  warnings.warn(_warn_cov_sing)\n",
      "c:\\Users\\habetsj\\Anaconda3\\envs\\ecog_dysk\\lib\\site-packages\\statsmodels\\regression\\mixed_linear_model.py:2238: ConvergenceWarning: The MLE may be on the boundary of the parameter space.\n",
      "  warnings.warn(msg, ConvergenceWarning)\n",
      "c:\\Users\\habetsj\\Anaconda3\\envs\\ecog_dysk\\lib\\site-packages\\statsmodels\\regression\\mixed_linear_model.py:2246: UserWarning: The random effects covariance matrix is singular.\n",
      "  warnings.warn(_warn_cov_sing)\n",
      "c:\\Users\\habetsj\\Anaconda3\\envs\\ecog_dysk\\lib\\site-packages\\statsmodels\\regression\\mixed_linear_model.py:2262: ConvergenceWarning: The Hessian matrix at the estimated parameter values is not positive definite.\n",
      "  warnings.warn(msg, ConvergenceWarning)\n"
     ]
    },
    {
     "name": "stdout",
     "output_type": "stream",
     "text": [
      "START 21 Hz\n",
      "START 22 Hz\n"
     ]
    },
    {
     "name": "stderr",
     "output_type": "stream",
     "text": [
      "c:\\Users\\habetsj\\Anaconda3\\envs\\ecog_dysk\\lib\\site-packages\\statsmodels\\regression\\mixed_linear_model.py:1635: UserWarning: Random effects covariance is singular\n",
      "  warnings.warn(msg)\n",
      "c:\\Users\\habetsj\\Anaconda3\\envs\\ecog_dysk\\lib\\site-packages\\statsmodels\\regression\\mixed_linear_model.py:2055: UserWarning: The random effects covariance matrix is singular.\n",
      "  warnings.warn(_warn_cov_sing)\n",
      "c:\\Users\\habetsj\\Anaconda3\\envs\\ecog_dysk\\lib\\site-packages\\statsmodels\\regression\\mixed_linear_model.py:2238: ConvergenceWarning: The MLE may be on the boundary of the parameter space.\n",
      "  warnings.warn(msg, ConvergenceWarning)\n",
      "c:\\Users\\habetsj\\Anaconda3\\envs\\ecog_dysk\\lib\\site-packages\\statsmodels\\regression\\mixed_linear_model.py:2246: UserWarning: The random effects covariance matrix is singular.\n",
      "  warnings.warn(_warn_cov_sing)\n",
      "c:\\Users\\habetsj\\Anaconda3\\envs\\ecog_dysk\\lib\\site-packages\\statsmodels\\regression\\mixed_linear_model.py:2262: ConvergenceWarning: The Hessian matrix at the estimated parameter values is not positive definite.\n",
      "  warnings.warn(msg, ConvergenceWarning)\n",
      "c:\\Users\\habetsj\\Anaconda3\\envs\\ecog_dysk\\lib\\site-packages\\statsmodels\\regression\\mixed_linear_model.py:1635: UserWarning: Random effects covariance is singular\n",
      "  warnings.warn(msg)\n",
      "c:\\Users\\habetsj\\Anaconda3\\envs\\ecog_dysk\\lib\\site-packages\\statsmodels\\regression\\mixed_linear_model.py:2055: UserWarning: The random effects covariance matrix is singular.\n",
      "  warnings.warn(_warn_cov_sing)\n",
      "c:\\Users\\habetsj\\Anaconda3\\envs\\ecog_dysk\\lib\\site-packages\\statsmodels\\regression\\mixed_linear_model.py:2238: ConvergenceWarning: The MLE may be on the boundary of the parameter space.\n",
      "  warnings.warn(msg, ConvergenceWarning)\n",
      "c:\\Users\\habetsj\\Anaconda3\\envs\\ecog_dysk\\lib\\site-packages\\statsmodels\\regression\\mixed_linear_model.py:2246: UserWarning: The random effects covariance matrix is singular.\n",
      "  warnings.warn(_warn_cov_sing)\n",
      "c:\\Users\\habetsj\\Anaconda3\\envs\\ecog_dysk\\lib\\site-packages\\statsmodels\\regression\\mixed_linear_model.py:2262: ConvergenceWarning: The Hessian matrix at the estimated parameter values is not positive definite.\n",
      "  warnings.warn(msg, ConvergenceWarning)\n"
     ]
    },
    {
     "name": "stdout",
     "output_type": "stream",
     "text": [
      "START 23 Hz\n",
      "START 24 Hz\n"
     ]
    },
    {
     "name": "stderr",
     "output_type": "stream",
     "text": [
      "c:\\Users\\habetsj\\Anaconda3\\envs\\ecog_dysk\\lib\\site-packages\\statsmodels\\regression\\mixed_linear_model.py:1635: UserWarning: Random effects covariance is singular\n",
      "  warnings.warn(msg)\n",
      "c:\\Users\\habetsj\\Anaconda3\\envs\\ecog_dysk\\lib\\site-packages\\statsmodels\\regression\\mixed_linear_model.py:2055: UserWarning: The random effects covariance matrix is singular.\n",
      "  warnings.warn(_warn_cov_sing)\n",
      "c:\\Users\\habetsj\\Anaconda3\\envs\\ecog_dysk\\lib\\site-packages\\statsmodels\\regression\\mixed_linear_model.py:2238: ConvergenceWarning: The MLE may be on the boundary of the parameter space.\n",
      "  warnings.warn(msg, ConvergenceWarning)\n",
      "c:\\Users\\habetsj\\Anaconda3\\envs\\ecog_dysk\\lib\\site-packages\\statsmodels\\regression\\mixed_linear_model.py:2246: UserWarning: The random effects covariance matrix is singular.\n",
      "  warnings.warn(_warn_cov_sing)\n",
      "c:\\Users\\habetsj\\Anaconda3\\envs\\ecog_dysk\\lib\\site-packages\\statsmodels\\regression\\mixed_linear_model.py:2262: ConvergenceWarning: The Hessian matrix at the estimated parameter values is not positive definite.\n",
      "  warnings.warn(msg, ConvergenceWarning)\n",
      "c:\\Users\\habetsj\\Anaconda3\\envs\\ecog_dysk\\lib\\site-packages\\statsmodels\\regression\\mixed_linear_model.py:1635: UserWarning: Random effects covariance is singular\n",
      "  warnings.warn(msg)\n",
      "c:\\Users\\habetsj\\Anaconda3\\envs\\ecog_dysk\\lib\\site-packages\\statsmodels\\regression\\mixed_linear_model.py:2055: UserWarning: The random effects covariance matrix is singular.\n",
      "  warnings.warn(_warn_cov_sing)\n",
      "c:\\Users\\habetsj\\Anaconda3\\envs\\ecog_dysk\\lib\\site-packages\\statsmodels\\regression\\mixed_linear_model.py:2238: ConvergenceWarning: The MLE may be on the boundary of the parameter space.\n",
      "  warnings.warn(msg, ConvergenceWarning)\n",
      "c:\\Users\\habetsj\\Anaconda3\\envs\\ecog_dysk\\lib\\site-packages\\statsmodels\\regression\\mixed_linear_model.py:2246: UserWarning: The random effects covariance matrix is singular.\n",
      "  warnings.warn(_warn_cov_sing)\n",
      "c:\\Users\\habetsj\\Anaconda3\\envs\\ecog_dysk\\lib\\site-packages\\statsmodels\\regression\\mixed_linear_model.py:2262: ConvergenceWarning: The Hessian matrix at the estimated parameter values is not positive definite.\n",
      "  warnings.warn(msg, ConvergenceWarning)\n"
     ]
    },
    {
     "name": "stdout",
     "output_type": "stream",
     "text": [
      "START 25 Hz\n",
      "START 26 Hz\n"
     ]
    },
    {
     "name": "stderr",
     "output_type": "stream",
     "text": [
      "c:\\Users\\habetsj\\Anaconda3\\envs\\ecog_dysk\\lib\\site-packages\\statsmodels\\regression\\mixed_linear_model.py:1635: UserWarning: Random effects covariance is singular\n",
      "  warnings.warn(msg)\n",
      "c:\\Users\\habetsj\\Anaconda3\\envs\\ecog_dysk\\lib\\site-packages\\statsmodels\\regression\\mixed_linear_model.py:2055: UserWarning: The random effects covariance matrix is singular.\n",
      "  warnings.warn(_warn_cov_sing)\n",
      "c:\\Users\\habetsj\\Anaconda3\\envs\\ecog_dysk\\lib\\site-packages\\statsmodels\\regression\\mixed_linear_model.py:2238: ConvergenceWarning: The MLE may be on the boundary of the parameter space.\n",
      "  warnings.warn(msg, ConvergenceWarning)\n",
      "c:\\Users\\habetsj\\Anaconda3\\envs\\ecog_dysk\\lib\\site-packages\\statsmodels\\regression\\mixed_linear_model.py:2246: UserWarning: The random effects covariance matrix is singular.\n",
      "  warnings.warn(_warn_cov_sing)\n",
      "c:\\Users\\habetsj\\Anaconda3\\envs\\ecog_dysk\\lib\\site-packages\\statsmodels\\regression\\mixed_linear_model.py:2262: ConvergenceWarning: The Hessian matrix at the estimated parameter values is not positive definite.\n",
      "  warnings.warn(msg, ConvergenceWarning)\n",
      "c:\\Users\\habetsj\\Anaconda3\\envs\\ecog_dysk\\lib\\site-packages\\statsmodels\\regression\\mixed_linear_model.py:1635: UserWarning: Random effects covariance is singular\n",
      "  warnings.warn(msg)\n",
      "c:\\Users\\habetsj\\Anaconda3\\envs\\ecog_dysk\\lib\\site-packages\\statsmodels\\regression\\mixed_linear_model.py:2055: UserWarning: The random effects covariance matrix is singular.\n",
      "  warnings.warn(_warn_cov_sing)\n",
      "c:\\Users\\habetsj\\Anaconda3\\envs\\ecog_dysk\\lib\\site-packages\\statsmodels\\regression\\mixed_linear_model.py:2238: ConvergenceWarning: The MLE may be on the boundary of the parameter space.\n",
      "  warnings.warn(msg, ConvergenceWarning)\n",
      "c:\\Users\\habetsj\\Anaconda3\\envs\\ecog_dysk\\lib\\site-packages\\statsmodels\\regression\\mixed_linear_model.py:2246: UserWarning: The random effects covariance matrix is singular.\n",
      "  warnings.warn(_warn_cov_sing)\n",
      "c:\\Users\\habetsj\\Anaconda3\\envs\\ecog_dysk\\lib\\site-packages\\statsmodels\\regression\\mixed_linear_model.py:2262: ConvergenceWarning: The Hessian matrix at the estimated parameter values is not positive definite.\n",
      "  warnings.warn(msg, ConvergenceWarning)\n"
     ]
    },
    {
     "name": "stdout",
     "output_type": "stream",
     "text": [
      "START 27 Hz\n",
      "START 28 Hz\n"
     ]
    },
    {
     "name": "stderr",
     "output_type": "stream",
     "text": [
      "c:\\Users\\habetsj\\Anaconda3\\envs\\ecog_dysk\\lib\\site-packages\\statsmodels\\regression\\mixed_linear_model.py:1635: UserWarning: Random effects covariance is singular\n",
      "  warnings.warn(msg)\n",
      "c:\\Users\\habetsj\\Anaconda3\\envs\\ecog_dysk\\lib\\site-packages\\statsmodels\\regression\\mixed_linear_model.py:2055: UserWarning: The random effects covariance matrix is singular.\n",
      "  warnings.warn(_warn_cov_sing)\n",
      "c:\\Users\\habetsj\\Anaconda3\\envs\\ecog_dysk\\lib\\site-packages\\statsmodels\\regression\\mixed_linear_model.py:2238: ConvergenceWarning: The MLE may be on the boundary of the parameter space.\n",
      "  warnings.warn(msg, ConvergenceWarning)\n",
      "c:\\Users\\habetsj\\Anaconda3\\envs\\ecog_dysk\\lib\\site-packages\\statsmodels\\regression\\mixed_linear_model.py:2246: UserWarning: The random effects covariance matrix is singular.\n",
      "  warnings.warn(_warn_cov_sing)\n",
      "c:\\Users\\habetsj\\Anaconda3\\envs\\ecog_dysk\\lib\\site-packages\\statsmodels\\regression\\mixed_linear_model.py:2262: ConvergenceWarning: The Hessian matrix at the estimated parameter values is not positive definite.\n",
      "  warnings.warn(msg, ConvergenceWarning)\n",
      "c:\\Users\\habetsj\\Anaconda3\\envs\\ecog_dysk\\lib\\site-packages\\statsmodels\\regression\\mixed_linear_model.py:1635: UserWarning: Random effects covariance is singular\n",
      "  warnings.warn(msg)\n",
      "c:\\Users\\habetsj\\Anaconda3\\envs\\ecog_dysk\\lib\\site-packages\\statsmodels\\regression\\mixed_linear_model.py:2055: UserWarning: The random effects covariance matrix is singular.\n",
      "  warnings.warn(_warn_cov_sing)\n",
      "c:\\Users\\habetsj\\Anaconda3\\envs\\ecog_dysk\\lib\\site-packages\\statsmodels\\regression\\mixed_linear_model.py:2238: ConvergenceWarning: The MLE may be on the boundary of the parameter space.\n",
      "  warnings.warn(msg, ConvergenceWarning)\n",
      "c:\\Users\\habetsj\\Anaconda3\\envs\\ecog_dysk\\lib\\site-packages\\statsmodels\\regression\\mixed_linear_model.py:2246: UserWarning: The random effects covariance matrix is singular.\n",
      "  warnings.warn(_warn_cov_sing)\n",
      "c:\\Users\\habetsj\\Anaconda3\\envs\\ecog_dysk\\lib\\site-packages\\statsmodels\\regression\\mixed_linear_model.py:2262: ConvergenceWarning: The Hessian matrix at the estimated parameter values is not positive definite.\n",
      "  warnings.warn(msg, ConvergenceWarning)\n"
     ]
    },
    {
     "name": "stdout",
     "output_type": "stream",
     "text": [
      "START 29 Hz\n",
      "START 30 Hz\n"
     ]
    },
    {
     "name": "stderr",
     "output_type": "stream",
     "text": [
      "c:\\Users\\habetsj\\Anaconda3\\envs\\ecog_dysk\\lib\\site-packages\\statsmodels\\regression\\mixed_linear_model.py:1635: UserWarning: Random effects covariance is singular\n",
      "  warnings.warn(msg)\n",
      "c:\\Users\\habetsj\\Anaconda3\\envs\\ecog_dysk\\lib\\site-packages\\statsmodels\\regression\\mixed_linear_model.py:2055: UserWarning: The random effects covariance matrix is singular.\n",
      "  warnings.warn(_warn_cov_sing)\n",
      "c:\\Users\\habetsj\\Anaconda3\\envs\\ecog_dysk\\lib\\site-packages\\statsmodels\\regression\\mixed_linear_model.py:2238: ConvergenceWarning: The MLE may be on the boundary of the parameter space.\n",
      "  warnings.warn(msg, ConvergenceWarning)\n",
      "c:\\Users\\habetsj\\Anaconda3\\envs\\ecog_dysk\\lib\\site-packages\\statsmodels\\regression\\mixed_linear_model.py:2246: UserWarning: The random effects covariance matrix is singular.\n",
      "  warnings.warn(_warn_cov_sing)\n",
      "c:\\Users\\habetsj\\Anaconda3\\envs\\ecog_dysk\\lib\\site-packages\\statsmodels\\regression\\mixed_linear_model.py:2262: ConvergenceWarning: The Hessian matrix at the estimated parameter values is not positive definite.\n",
      "  warnings.warn(msg, ConvergenceWarning)\n",
      "c:\\Users\\habetsj\\Anaconda3\\envs\\ecog_dysk\\lib\\site-packages\\statsmodels\\regression\\mixed_linear_model.py:1635: UserWarning: Random effects covariance is singular\n",
      "  warnings.warn(msg)\n",
      "c:\\Users\\habetsj\\Anaconda3\\envs\\ecog_dysk\\lib\\site-packages\\statsmodels\\regression\\mixed_linear_model.py:2055: UserWarning: The random effects covariance matrix is singular.\n",
      "  warnings.warn(_warn_cov_sing)\n",
      "c:\\Users\\habetsj\\Anaconda3\\envs\\ecog_dysk\\lib\\site-packages\\statsmodels\\regression\\mixed_linear_model.py:2238: ConvergenceWarning: The MLE may be on the boundary of the parameter space.\n",
      "  warnings.warn(msg, ConvergenceWarning)\n",
      "c:\\Users\\habetsj\\Anaconda3\\envs\\ecog_dysk\\lib\\site-packages\\statsmodels\\regression\\mixed_linear_model.py:2246: UserWarning: The random effects covariance matrix is singular.\n",
      "  warnings.warn(_warn_cov_sing)\n",
      "c:\\Users\\habetsj\\Anaconda3\\envs\\ecog_dysk\\lib\\site-packages\\statsmodels\\regression\\mixed_linear_model.py:2262: ConvergenceWarning: The Hessian matrix at the estimated parameter values is not positive definite.\n",
      "  warnings.warn(msg, ConvergenceWarning)\n"
     ]
    },
    {
     "name": "stdout",
     "output_type": "stream",
     "text": [
      "START 31 Hz\n",
      "START 32 Hz\n"
     ]
    },
    {
     "name": "stderr",
     "output_type": "stream",
     "text": [
      "c:\\Users\\habetsj\\Anaconda3\\envs\\ecog_dysk\\lib\\site-packages\\statsmodels\\regression\\mixed_linear_model.py:1635: UserWarning: Random effects covariance is singular\n",
      "  warnings.warn(msg)\n",
      "c:\\Users\\habetsj\\Anaconda3\\envs\\ecog_dysk\\lib\\site-packages\\statsmodels\\regression\\mixed_linear_model.py:2055: UserWarning: The random effects covariance matrix is singular.\n",
      "  warnings.warn(_warn_cov_sing)\n",
      "c:\\Users\\habetsj\\Anaconda3\\envs\\ecog_dysk\\lib\\site-packages\\statsmodels\\regression\\mixed_linear_model.py:2238: ConvergenceWarning: The MLE may be on the boundary of the parameter space.\n",
      "  warnings.warn(msg, ConvergenceWarning)\n",
      "c:\\Users\\habetsj\\Anaconda3\\envs\\ecog_dysk\\lib\\site-packages\\statsmodels\\regression\\mixed_linear_model.py:2246: UserWarning: The random effects covariance matrix is singular.\n",
      "  warnings.warn(_warn_cov_sing)\n",
      "c:\\Users\\habetsj\\Anaconda3\\envs\\ecog_dysk\\lib\\site-packages\\statsmodels\\regression\\mixed_linear_model.py:2262: ConvergenceWarning: The Hessian matrix at the estimated parameter values is not positive definite.\n",
      "  warnings.warn(msg, ConvergenceWarning)\n",
      "c:\\Users\\habetsj\\Anaconda3\\envs\\ecog_dysk\\lib\\site-packages\\statsmodels\\regression\\mixed_linear_model.py:1635: UserWarning: Random effects covariance is singular\n",
      "  warnings.warn(msg)\n"
     ]
    },
    {
     "name": "stdout",
     "output_type": "stream",
     "text": [
      "START 33 Hz\n"
     ]
    },
    {
     "name": "stderr",
     "output_type": "stream",
     "text": [
      "c:\\Users\\habetsj\\Anaconda3\\envs\\ecog_dysk\\lib\\site-packages\\statsmodels\\regression\\mixed_linear_model.py:2238: ConvergenceWarning: The MLE may be on the boundary of the parameter space.\n",
      "  warnings.warn(msg, ConvergenceWarning)\n",
      "c:\\Users\\habetsj\\Anaconda3\\envs\\ecog_dysk\\lib\\site-packages\\statsmodels\\regression\\mixed_linear_model.py:1635: UserWarning: Random effects covariance is singular\n",
      "  warnings.warn(msg)\n",
      "c:\\Users\\habetsj\\Anaconda3\\envs\\ecog_dysk\\lib\\site-packages\\statsmodels\\regression\\mixed_linear_model.py:2055: UserWarning: The random effects covariance matrix is singular.\n",
      "  warnings.warn(_warn_cov_sing)\n",
      "c:\\Users\\habetsj\\Anaconda3\\envs\\ecog_dysk\\lib\\site-packages\\statsmodels\\regression\\mixed_linear_model.py:2238: ConvergenceWarning: The MLE may be on the boundary of the parameter space.\n",
      "  warnings.warn(msg, ConvergenceWarning)\n",
      "c:\\Users\\habetsj\\Anaconda3\\envs\\ecog_dysk\\lib\\site-packages\\statsmodels\\regression\\mixed_linear_model.py:2246: UserWarning: The random effects covariance matrix is singular.\n",
      "  warnings.warn(_warn_cov_sing)\n",
      "c:\\Users\\habetsj\\Anaconda3\\envs\\ecog_dysk\\lib\\site-packages\\statsmodels\\regression\\mixed_linear_model.py:2262: ConvergenceWarning: The Hessian matrix at the estimated parameter values is not positive definite.\n",
      "  warnings.warn(msg, ConvergenceWarning)\n"
     ]
    },
    {
     "name": "stdout",
     "output_type": "stream",
     "text": [
      "START 34 Hz\n",
      "START 35 Hz\n"
     ]
    },
    {
     "name": "stderr",
     "output_type": "stream",
     "text": [
      "c:\\Users\\habetsj\\Anaconda3\\envs\\ecog_dysk\\lib\\site-packages\\statsmodels\\regression\\mixed_linear_model.py:1635: UserWarning: Random effects covariance is singular\n",
      "  warnings.warn(msg)\n",
      "c:\\Users\\habetsj\\Anaconda3\\envs\\ecog_dysk\\lib\\site-packages\\statsmodels\\regression\\mixed_linear_model.py:2238: ConvergenceWarning: The MLE may be on the boundary of the parameter space.\n",
      "  warnings.warn(msg, ConvergenceWarning)\n"
     ]
    },
    {
     "name": "stdout",
     "output_type": "stream",
     "text": [
      "START 36 Hz\n",
      "START 37 Hz\n",
      "START 38 Hz\n",
      "START 39 Hz\n",
      "START 40 Hz\n",
      "START 41 Hz\n",
      "START 42 Hz\n",
      "START 43 Hz\n",
      "START 44 Hz\n",
      "START 45 Hz\n",
      "START 46 Hz\n",
      "START 47 Hz\n",
      "START 48 Hz\n",
      "START 49 Hz\n",
      "START 50 Hz\n",
      "START 51 Hz\n",
      "START 52 Hz\n",
      "START 53 Hz\n",
      "START 54 Hz\n",
      "START 55 Hz\n",
      "START 56 Hz\n",
      "START 57 Hz\n",
      "START 58 Hz\n",
      "START 59 Hz\n",
      "START 60 Hz\n",
      "START 61 Hz\n"
     ]
    },
    {
     "name": "stderr",
     "output_type": "stream",
     "text": [
      "c:\\Users\\habetsj\\Anaconda3\\envs\\ecog_dysk\\lib\\site-packages\\statsmodels\\regression\\mixed_linear_model.py:1635: UserWarning: Random effects covariance is singular\n",
      "  warnings.warn(msg)\n",
      "c:\\Users\\habetsj\\Anaconda3\\envs\\ecog_dysk\\lib\\site-packages\\statsmodels\\regression\\mixed_linear_model.py:2055: UserWarning: The random effects covariance matrix is singular.\n",
      "  warnings.warn(_warn_cov_sing)\n",
      "c:\\Users\\habetsj\\Anaconda3\\envs\\ecog_dysk\\lib\\site-packages\\statsmodels\\regression\\mixed_linear_model.py:2238: ConvergenceWarning: The MLE may be on the boundary of the parameter space.\n",
      "  warnings.warn(msg, ConvergenceWarning)\n",
      "c:\\Users\\habetsj\\Anaconda3\\envs\\ecog_dysk\\lib\\site-packages\\statsmodels\\regression\\mixed_linear_model.py:2246: UserWarning: The random effects covariance matrix is singular.\n",
      "  warnings.warn(_warn_cov_sing)\n",
      "c:\\Users\\habetsj\\Anaconda3\\envs\\ecog_dysk\\lib\\site-packages\\statsmodels\\regression\\mixed_linear_model.py:2262: ConvergenceWarning: The Hessian matrix at the estimated parameter values is not positive definite.\n",
      "  warnings.warn(msg, ConvergenceWarning)\n",
      "c:\\Users\\habetsj\\Anaconda3\\envs\\ecog_dysk\\lib\\site-packages\\statsmodels\\regression\\mixed_linear_model.py:1635: UserWarning: Random effects covariance is singular\n",
      "  warnings.warn(msg)\n",
      "c:\\Users\\habetsj\\Anaconda3\\envs\\ecog_dysk\\lib\\site-packages\\statsmodels\\regression\\mixed_linear_model.py:2055: UserWarning: The random effects covariance matrix is singular.\n",
      "  warnings.warn(_warn_cov_sing)\n",
      "c:\\Users\\habetsj\\Anaconda3\\envs\\ecog_dysk\\lib\\site-packages\\statsmodels\\regression\\mixed_linear_model.py:2238: ConvergenceWarning: The MLE may be on the boundary of the parameter space.\n",
      "  warnings.warn(msg, ConvergenceWarning)\n",
      "c:\\Users\\habetsj\\Anaconda3\\envs\\ecog_dysk\\lib\\site-packages\\statsmodels\\regression\\mixed_linear_model.py:2246: UserWarning: The random effects covariance matrix is singular.\n",
      "  warnings.warn(_warn_cov_sing)\n",
      "c:\\Users\\habetsj\\Anaconda3\\envs\\ecog_dysk\\lib\\site-packages\\statsmodels\\regression\\mixed_linear_model.py:2262: ConvergenceWarning: The Hessian matrix at the estimated parameter values is not positive definite.\n",
      "  warnings.warn(msg, ConvergenceWarning)\n"
     ]
    },
    {
     "name": "stdout",
     "output_type": "stream",
     "text": [
      "START 62 Hz\n",
      "START 63 Hz\n"
     ]
    },
    {
     "name": "stderr",
     "output_type": "stream",
     "text": [
      "c:\\Users\\habetsj\\Anaconda3\\envs\\ecog_dysk\\lib\\site-packages\\statsmodels\\regression\\mixed_linear_model.py:1635: UserWarning: Random effects covariance is singular\n",
      "  warnings.warn(msg)\n",
      "c:\\Users\\habetsj\\Anaconda3\\envs\\ecog_dysk\\lib\\site-packages\\statsmodels\\regression\\mixed_linear_model.py:2055: UserWarning: The random effects covariance matrix is singular.\n",
      "  warnings.warn(_warn_cov_sing)\n",
      "c:\\Users\\habetsj\\Anaconda3\\envs\\ecog_dysk\\lib\\site-packages\\statsmodels\\regression\\mixed_linear_model.py:2238: ConvergenceWarning: The MLE may be on the boundary of the parameter space.\n",
      "  warnings.warn(msg, ConvergenceWarning)\n",
      "c:\\Users\\habetsj\\Anaconda3\\envs\\ecog_dysk\\lib\\site-packages\\statsmodels\\regression\\mixed_linear_model.py:2246: UserWarning: The random effects covariance matrix is singular.\n",
      "  warnings.warn(_warn_cov_sing)\n",
      "c:\\Users\\habetsj\\Anaconda3\\envs\\ecog_dysk\\lib\\site-packages\\statsmodels\\regression\\mixed_linear_model.py:2262: ConvergenceWarning: The Hessian matrix at the estimated parameter values is not positive definite.\n",
      "  warnings.warn(msg, ConvergenceWarning)\n",
      "c:\\Users\\habetsj\\Anaconda3\\envs\\ecog_dysk\\lib\\site-packages\\statsmodels\\regression\\mixed_linear_model.py:1635: UserWarning: Random effects covariance is singular\n",
      "  warnings.warn(msg)\n",
      "c:\\Users\\habetsj\\Anaconda3\\envs\\ecog_dysk\\lib\\site-packages\\statsmodels\\regression\\mixed_linear_model.py:2055: UserWarning: The random effects covariance matrix is singular.\n",
      "  warnings.warn(_warn_cov_sing)\n",
      "c:\\Users\\habetsj\\Anaconda3\\envs\\ecog_dysk\\lib\\site-packages\\statsmodels\\regression\\mixed_linear_model.py:2238: ConvergenceWarning: The MLE may be on the boundary of the parameter space.\n",
      "  warnings.warn(msg, ConvergenceWarning)\n",
      "c:\\Users\\habetsj\\Anaconda3\\envs\\ecog_dysk\\lib\\site-packages\\statsmodels\\regression\\mixed_linear_model.py:2246: UserWarning: The random effects covariance matrix is singular.\n",
      "  warnings.warn(_warn_cov_sing)\n",
      "c:\\Users\\habetsj\\Anaconda3\\envs\\ecog_dysk\\lib\\site-packages\\statsmodels\\regression\\mixed_linear_model.py:2262: ConvergenceWarning: The Hessian matrix at the estimated parameter values is not positive definite.\n",
      "  warnings.warn(msg, ConvergenceWarning)\n"
     ]
    },
    {
     "name": "stdout",
     "output_type": "stream",
     "text": [
      "START 64 Hz\n",
      "START 65 Hz\n"
     ]
    },
    {
     "name": "stderr",
     "output_type": "stream",
     "text": [
      "c:\\Users\\habetsj\\Anaconda3\\envs\\ecog_dysk\\lib\\site-packages\\statsmodels\\regression\\mixed_linear_model.py:1635: UserWarning: Random effects covariance is singular\n",
      "  warnings.warn(msg)\n",
      "c:\\Users\\habetsj\\Anaconda3\\envs\\ecog_dysk\\lib\\site-packages\\statsmodels\\regression\\mixed_linear_model.py:2055: UserWarning: The random effects covariance matrix is singular.\n",
      "  warnings.warn(_warn_cov_sing)\n",
      "c:\\Users\\habetsj\\Anaconda3\\envs\\ecog_dysk\\lib\\site-packages\\statsmodels\\regression\\mixed_linear_model.py:2238: ConvergenceWarning: The MLE may be on the boundary of the parameter space.\n",
      "  warnings.warn(msg, ConvergenceWarning)\n",
      "c:\\Users\\habetsj\\Anaconda3\\envs\\ecog_dysk\\lib\\site-packages\\statsmodels\\regression\\mixed_linear_model.py:2246: UserWarning: The random effects covariance matrix is singular.\n",
      "  warnings.warn(_warn_cov_sing)\n",
      "c:\\Users\\habetsj\\Anaconda3\\envs\\ecog_dysk\\lib\\site-packages\\statsmodels\\regression\\mixed_linear_model.py:2262: ConvergenceWarning: The Hessian matrix at the estimated parameter values is not positive definite.\n",
      "  warnings.warn(msg, ConvergenceWarning)\n",
      "c:\\Users\\habetsj\\Anaconda3\\envs\\ecog_dysk\\lib\\site-packages\\statsmodels\\regression\\mixed_linear_model.py:1635: UserWarning: Random effects covariance is singular\n",
      "  warnings.warn(msg)\n",
      "c:\\Users\\habetsj\\Anaconda3\\envs\\ecog_dysk\\lib\\site-packages\\statsmodels\\regression\\mixed_linear_model.py:2055: UserWarning: The random effects covariance matrix is singular.\n",
      "  warnings.warn(_warn_cov_sing)\n",
      "c:\\Users\\habetsj\\Anaconda3\\envs\\ecog_dysk\\lib\\site-packages\\statsmodels\\regression\\mixed_linear_model.py:2238: ConvergenceWarning: The MLE may be on the boundary of the parameter space.\n",
      "  warnings.warn(msg, ConvergenceWarning)\n",
      "c:\\Users\\habetsj\\Anaconda3\\envs\\ecog_dysk\\lib\\site-packages\\statsmodels\\regression\\mixed_linear_model.py:2246: UserWarning: The random effects covariance matrix is singular.\n",
      "  warnings.warn(_warn_cov_sing)\n",
      "c:\\Users\\habetsj\\Anaconda3\\envs\\ecog_dysk\\lib\\site-packages\\statsmodels\\regression\\mixed_linear_model.py:2262: ConvergenceWarning: The Hessian matrix at the estimated parameter values is not positive definite.\n",
      "  warnings.warn(msg, ConvergenceWarning)\n"
     ]
    },
    {
     "name": "stdout",
     "output_type": "stream",
     "text": [
      "START 66 Hz\n"
     ]
    },
    {
     "name": "stderr",
     "output_type": "stream",
     "text": [
      "c:\\Users\\habetsj\\Anaconda3\\envs\\ecog_dysk\\lib\\site-packages\\statsmodels\\regression\\mixed_linear_model.py:1635: UserWarning: Random effects covariance is singular\n",
      "  warnings.warn(msg)\n",
      "c:\\Users\\habetsj\\Anaconda3\\envs\\ecog_dysk\\lib\\site-packages\\statsmodels\\regression\\mixed_linear_model.py:2238: ConvergenceWarning: The MLE may be on the boundary of the parameter space.\n",
      "  warnings.warn(msg, ConvergenceWarning)\n",
      "c:\\Users\\habetsj\\Anaconda3\\envs\\ecog_dysk\\lib\\site-packages\\statsmodels\\regression\\mixed_linear_model.py:1635: UserWarning: Random effects covariance is singular\n",
      "  warnings.warn(msg)\n",
      "c:\\Users\\habetsj\\Anaconda3\\envs\\ecog_dysk\\lib\\site-packages\\statsmodels\\regression\\mixed_linear_model.py:2055: UserWarning: The random effects covariance matrix is singular.\n",
      "  warnings.warn(_warn_cov_sing)\n",
      "c:\\Users\\habetsj\\Anaconda3\\envs\\ecog_dysk\\lib\\site-packages\\statsmodels\\regression\\mixed_linear_model.py:2238: ConvergenceWarning: The MLE may be on the boundary of the parameter space.\n",
      "  warnings.warn(msg, ConvergenceWarning)\n",
      "c:\\Users\\habetsj\\Anaconda3\\envs\\ecog_dysk\\lib\\site-packages\\statsmodels\\regression\\mixed_linear_model.py:2246: UserWarning: The random effects covariance matrix is singular.\n",
      "  warnings.warn(_warn_cov_sing)\n",
      "c:\\Users\\habetsj\\Anaconda3\\envs\\ecog_dysk\\lib\\site-packages\\statsmodels\\regression\\mixed_linear_model.py:2262: ConvergenceWarning: The Hessian matrix at the estimated parameter values is not positive definite.\n",
      "  warnings.warn(msg, ConvergenceWarning)\n"
     ]
    },
    {
     "name": "stdout",
     "output_type": "stream",
     "text": [
      "START 67 Hz\n",
      "START 68 Hz\n"
     ]
    },
    {
     "name": "stderr",
     "output_type": "stream",
     "text": [
      "c:\\Users\\habetsj\\Anaconda3\\envs\\ecog_dysk\\lib\\site-packages\\statsmodels\\regression\\mixed_linear_model.py:1635: UserWarning: Random effects covariance is singular\n",
      "  warnings.warn(msg)\n",
      "c:\\Users\\habetsj\\Anaconda3\\envs\\ecog_dysk\\lib\\site-packages\\statsmodels\\regression\\mixed_linear_model.py:2055: UserWarning: The random effects covariance matrix is singular.\n",
      "  warnings.warn(_warn_cov_sing)\n",
      "c:\\Users\\habetsj\\Anaconda3\\envs\\ecog_dysk\\lib\\site-packages\\statsmodels\\regression\\mixed_linear_model.py:2238: ConvergenceWarning: The MLE may be on the boundary of the parameter space.\n",
      "  warnings.warn(msg, ConvergenceWarning)\n",
      "c:\\Users\\habetsj\\Anaconda3\\envs\\ecog_dysk\\lib\\site-packages\\statsmodels\\regression\\mixed_linear_model.py:2246: UserWarning: The random effects covariance matrix is singular.\n",
      "  warnings.warn(_warn_cov_sing)\n",
      "c:\\Users\\habetsj\\Anaconda3\\envs\\ecog_dysk\\lib\\site-packages\\statsmodels\\regression\\mixed_linear_model.py:2262: ConvergenceWarning: The Hessian matrix at the estimated parameter values is not positive definite.\n",
      "  warnings.warn(msg, ConvergenceWarning)\n",
      "c:\\Users\\habetsj\\Anaconda3\\envs\\ecog_dysk\\lib\\site-packages\\statsmodels\\regression\\mixed_linear_model.py:1635: UserWarning: Random effects covariance is singular\n",
      "  warnings.warn(msg)\n",
      "c:\\Users\\habetsj\\Anaconda3\\envs\\ecog_dysk\\lib\\site-packages\\statsmodels\\regression\\mixed_linear_model.py:2055: UserWarning: The random effects covariance matrix is singular.\n",
      "  warnings.warn(_warn_cov_sing)\n",
      "c:\\Users\\habetsj\\Anaconda3\\envs\\ecog_dysk\\lib\\site-packages\\statsmodels\\regression\\mixed_linear_model.py:2238: ConvergenceWarning: The MLE may be on the boundary of the parameter space.\n",
      "  warnings.warn(msg, ConvergenceWarning)\n",
      "c:\\Users\\habetsj\\Anaconda3\\envs\\ecog_dysk\\lib\\site-packages\\statsmodels\\regression\\mixed_linear_model.py:2246: UserWarning: The random effects covariance matrix is singular.\n",
      "  warnings.warn(_warn_cov_sing)\n",
      "c:\\Users\\habetsj\\Anaconda3\\envs\\ecog_dysk\\lib\\site-packages\\statsmodels\\regression\\mixed_linear_model.py:2262: ConvergenceWarning: The Hessian matrix at the estimated parameter values is not positive definite.\n",
      "  warnings.warn(msg, ConvergenceWarning)\n"
     ]
    },
    {
     "name": "stdout",
     "output_type": "stream",
     "text": [
      "START 69 Hz\n",
      "START 70 Hz\n"
     ]
    },
    {
     "name": "stderr",
     "output_type": "stream",
     "text": [
      "c:\\Users\\habetsj\\Anaconda3\\envs\\ecog_dysk\\lib\\site-packages\\statsmodels\\regression\\mixed_linear_model.py:1635: UserWarning: Random effects covariance is singular\n",
      "  warnings.warn(msg)\n",
      "c:\\Users\\habetsj\\Anaconda3\\envs\\ecog_dysk\\lib\\site-packages\\statsmodels\\regression\\mixed_linear_model.py:2055: UserWarning: The random effects covariance matrix is singular.\n",
      "  warnings.warn(_warn_cov_sing)\n",
      "c:\\Users\\habetsj\\Anaconda3\\envs\\ecog_dysk\\lib\\site-packages\\statsmodels\\regression\\mixed_linear_model.py:2238: ConvergenceWarning: The MLE may be on the boundary of the parameter space.\n",
      "  warnings.warn(msg, ConvergenceWarning)\n",
      "c:\\Users\\habetsj\\Anaconda3\\envs\\ecog_dysk\\lib\\site-packages\\statsmodels\\regression\\mixed_linear_model.py:2246: UserWarning: The random effects covariance matrix is singular.\n",
      "  warnings.warn(_warn_cov_sing)\n",
      "c:\\Users\\habetsj\\Anaconda3\\envs\\ecog_dysk\\lib\\site-packages\\statsmodels\\regression\\mixed_linear_model.py:2262: ConvergenceWarning: The Hessian matrix at the estimated parameter values is not positive definite.\n",
      "  warnings.warn(msg, ConvergenceWarning)\n",
      "c:\\Users\\habetsj\\Anaconda3\\envs\\ecog_dysk\\lib\\site-packages\\statsmodels\\regression\\mixed_linear_model.py:1635: UserWarning: Random effects covariance is singular\n",
      "  warnings.warn(msg)\n",
      "c:\\Users\\habetsj\\Anaconda3\\envs\\ecog_dysk\\lib\\site-packages\\statsmodels\\regression\\mixed_linear_model.py:2055: UserWarning: The random effects covariance matrix is singular.\n",
      "  warnings.warn(_warn_cov_sing)\n",
      "c:\\Users\\habetsj\\Anaconda3\\envs\\ecog_dysk\\lib\\site-packages\\statsmodels\\regression\\mixed_linear_model.py:2238: ConvergenceWarning: The MLE may be on the boundary of the parameter space.\n",
      "  warnings.warn(msg, ConvergenceWarning)\n",
      "c:\\Users\\habetsj\\Anaconda3\\envs\\ecog_dysk\\lib\\site-packages\\statsmodels\\regression\\mixed_linear_model.py:2246: UserWarning: The random effects covariance matrix is singular.\n",
      "  warnings.warn(_warn_cov_sing)\n",
      "c:\\Users\\habetsj\\Anaconda3\\envs\\ecog_dysk\\lib\\site-packages\\statsmodels\\regression\\mixed_linear_model.py:2262: ConvergenceWarning: The Hessian matrix at the estimated parameter values is not positive definite.\n",
      "  warnings.warn(msg, ConvergenceWarning)\n"
     ]
    },
    {
     "name": "stdout",
     "output_type": "stream",
     "text": [
      "START 71 Hz\n",
      "START 72 Hz\n"
     ]
    },
    {
     "name": "stderr",
     "output_type": "stream",
     "text": [
      "c:\\Users\\habetsj\\Anaconda3\\envs\\ecog_dysk\\lib\\site-packages\\statsmodels\\regression\\mixed_linear_model.py:1635: UserWarning: Random effects covariance is singular\n",
      "  warnings.warn(msg)\n",
      "c:\\Users\\habetsj\\Anaconda3\\envs\\ecog_dysk\\lib\\site-packages\\statsmodels\\regression\\mixed_linear_model.py:2055: UserWarning: The random effects covariance matrix is singular.\n",
      "  warnings.warn(_warn_cov_sing)\n",
      "c:\\Users\\habetsj\\Anaconda3\\envs\\ecog_dysk\\lib\\site-packages\\statsmodels\\regression\\mixed_linear_model.py:2238: ConvergenceWarning: The MLE may be on the boundary of the parameter space.\n",
      "  warnings.warn(msg, ConvergenceWarning)\n",
      "c:\\Users\\habetsj\\Anaconda3\\envs\\ecog_dysk\\lib\\site-packages\\statsmodels\\regression\\mixed_linear_model.py:2246: UserWarning: The random effects covariance matrix is singular.\n",
      "  warnings.warn(_warn_cov_sing)\n",
      "c:\\Users\\habetsj\\Anaconda3\\envs\\ecog_dysk\\lib\\site-packages\\statsmodels\\regression\\mixed_linear_model.py:2262: ConvergenceWarning: The Hessian matrix at the estimated parameter values is not positive definite.\n",
      "  warnings.warn(msg, ConvergenceWarning)\n",
      "c:\\Users\\habetsj\\Anaconda3\\envs\\ecog_dysk\\lib\\site-packages\\statsmodels\\regression\\mixed_linear_model.py:1635: UserWarning: Random effects covariance is singular\n",
      "  warnings.warn(msg)\n",
      "c:\\Users\\habetsj\\Anaconda3\\envs\\ecog_dysk\\lib\\site-packages\\statsmodels\\regression\\mixed_linear_model.py:2055: UserWarning: The random effects covariance matrix is singular.\n",
      "  warnings.warn(_warn_cov_sing)\n",
      "c:\\Users\\habetsj\\Anaconda3\\envs\\ecog_dysk\\lib\\site-packages\\statsmodels\\regression\\mixed_linear_model.py:2238: ConvergenceWarning: The MLE may be on the boundary of the parameter space.\n",
      "  warnings.warn(msg, ConvergenceWarning)\n",
      "c:\\Users\\habetsj\\Anaconda3\\envs\\ecog_dysk\\lib\\site-packages\\statsmodels\\regression\\mixed_linear_model.py:2246: UserWarning: The random effects covariance matrix is singular.\n",
      "  warnings.warn(_warn_cov_sing)\n",
      "c:\\Users\\habetsj\\Anaconda3\\envs\\ecog_dysk\\lib\\site-packages\\statsmodels\\regression\\mixed_linear_model.py:2262: ConvergenceWarning: The Hessian matrix at the estimated parameter values is not positive definite.\n",
      "  warnings.warn(msg, ConvergenceWarning)\n"
     ]
    },
    {
     "name": "stdout",
     "output_type": "stream",
     "text": [
      "START 73 Hz\n",
      "START 74 Hz\n"
     ]
    },
    {
     "name": "stderr",
     "output_type": "stream",
     "text": [
      "c:\\Users\\habetsj\\Anaconda3\\envs\\ecog_dysk\\lib\\site-packages\\statsmodels\\regression\\mixed_linear_model.py:1635: UserWarning: Random effects covariance is singular\n",
      "  warnings.warn(msg)\n",
      "c:\\Users\\habetsj\\Anaconda3\\envs\\ecog_dysk\\lib\\site-packages\\statsmodels\\regression\\mixed_linear_model.py:2055: UserWarning: The random effects covariance matrix is singular.\n",
      "  warnings.warn(_warn_cov_sing)\n",
      "c:\\Users\\habetsj\\Anaconda3\\envs\\ecog_dysk\\lib\\site-packages\\statsmodels\\regression\\mixed_linear_model.py:2238: ConvergenceWarning: The MLE may be on the boundary of the parameter space.\n",
      "  warnings.warn(msg, ConvergenceWarning)\n",
      "c:\\Users\\habetsj\\Anaconda3\\envs\\ecog_dysk\\lib\\site-packages\\statsmodels\\regression\\mixed_linear_model.py:2246: UserWarning: The random effects covariance matrix is singular.\n",
      "  warnings.warn(_warn_cov_sing)\n",
      "c:\\Users\\habetsj\\Anaconda3\\envs\\ecog_dysk\\lib\\site-packages\\statsmodels\\regression\\mixed_linear_model.py:2262: ConvergenceWarning: The Hessian matrix at the estimated parameter values is not positive definite.\n",
      "  warnings.warn(msg, ConvergenceWarning)\n",
      "c:\\Users\\habetsj\\Anaconda3\\envs\\ecog_dysk\\lib\\site-packages\\statsmodels\\regression\\mixed_linear_model.py:1635: UserWarning: Random effects covariance is singular\n",
      "  warnings.warn(msg)\n",
      "c:\\Users\\habetsj\\Anaconda3\\envs\\ecog_dysk\\lib\\site-packages\\statsmodels\\regression\\mixed_linear_model.py:2055: UserWarning: The random effects covariance matrix is singular.\n",
      "  warnings.warn(_warn_cov_sing)\n",
      "c:\\Users\\habetsj\\Anaconda3\\envs\\ecog_dysk\\lib\\site-packages\\statsmodels\\regression\\mixed_linear_model.py:2238: ConvergenceWarning: The MLE may be on the boundary of the parameter space.\n",
      "  warnings.warn(msg, ConvergenceWarning)\n",
      "c:\\Users\\habetsj\\Anaconda3\\envs\\ecog_dysk\\lib\\site-packages\\statsmodels\\regression\\mixed_linear_model.py:2246: UserWarning: The random effects covariance matrix is singular.\n",
      "  warnings.warn(_warn_cov_sing)\n",
      "c:\\Users\\habetsj\\Anaconda3\\envs\\ecog_dysk\\lib\\site-packages\\statsmodels\\regression\\mixed_linear_model.py:2262: ConvergenceWarning: The Hessian matrix at the estimated parameter values is not positive definite.\n",
      "  warnings.warn(msg, ConvergenceWarning)\n"
     ]
    },
    {
     "name": "stdout",
     "output_type": "stream",
     "text": [
      "START 75 Hz\n",
      "START 76 Hz\n"
     ]
    },
    {
     "name": "stderr",
     "output_type": "stream",
     "text": [
      "c:\\Users\\habetsj\\Anaconda3\\envs\\ecog_dysk\\lib\\site-packages\\statsmodels\\regression\\mixed_linear_model.py:1635: UserWarning: Random effects covariance is singular\n",
      "  warnings.warn(msg)\n",
      "c:\\Users\\habetsj\\Anaconda3\\envs\\ecog_dysk\\lib\\site-packages\\statsmodels\\regression\\mixed_linear_model.py:2055: UserWarning: The random effects covariance matrix is singular.\n",
      "  warnings.warn(_warn_cov_sing)\n",
      "c:\\Users\\habetsj\\Anaconda3\\envs\\ecog_dysk\\lib\\site-packages\\statsmodels\\regression\\mixed_linear_model.py:2238: ConvergenceWarning: The MLE may be on the boundary of the parameter space.\n",
      "  warnings.warn(msg, ConvergenceWarning)\n",
      "c:\\Users\\habetsj\\Anaconda3\\envs\\ecog_dysk\\lib\\site-packages\\statsmodels\\regression\\mixed_linear_model.py:2246: UserWarning: The random effects covariance matrix is singular.\n",
      "  warnings.warn(_warn_cov_sing)\n",
      "c:\\Users\\habetsj\\Anaconda3\\envs\\ecog_dysk\\lib\\site-packages\\statsmodels\\regression\\mixed_linear_model.py:2262: ConvergenceWarning: The Hessian matrix at the estimated parameter values is not positive definite.\n",
      "  warnings.warn(msg, ConvergenceWarning)\n",
      "c:\\Users\\habetsj\\Anaconda3\\envs\\ecog_dysk\\lib\\site-packages\\statsmodels\\regression\\mixed_linear_model.py:1635: UserWarning: Random effects covariance is singular\n",
      "  warnings.warn(msg)\n",
      "c:\\Users\\habetsj\\Anaconda3\\envs\\ecog_dysk\\lib\\site-packages\\statsmodels\\regression\\mixed_linear_model.py:2055: UserWarning: The random effects covariance matrix is singular.\n",
      "  warnings.warn(_warn_cov_sing)\n",
      "c:\\Users\\habetsj\\Anaconda3\\envs\\ecog_dysk\\lib\\site-packages\\statsmodels\\regression\\mixed_linear_model.py:2238: ConvergenceWarning: The MLE may be on the boundary of the parameter space.\n",
      "  warnings.warn(msg, ConvergenceWarning)\n",
      "c:\\Users\\habetsj\\Anaconda3\\envs\\ecog_dysk\\lib\\site-packages\\statsmodels\\regression\\mixed_linear_model.py:2246: UserWarning: The random effects covariance matrix is singular.\n",
      "  warnings.warn(_warn_cov_sing)\n",
      "c:\\Users\\habetsj\\Anaconda3\\envs\\ecog_dysk\\lib\\site-packages\\statsmodels\\regression\\mixed_linear_model.py:2262: ConvergenceWarning: The Hessian matrix at the estimated parameter values is not positive definite.\n",
      "  warnings.warn(msg, ConvergenceWarning)\n"
     ]
    },
    {
     "name": "stdout",
     "output_type": "stream",
     "text": [
      "START 77 Hz\n",
      "START 78 Hz\n"
     ]
    },
    {
     "name": "stderr",
     "output_type": "stream",
     "text": [
      "c:\\Users\\habetsj\\Anaconda3\\envs\\ecog_dysk\\lib\\site-packages\\statsmodels\\regression\\mixed_linear_model.py:1635: UserWarning: Random effects covariance is singular\n",
      "  warnings.warn(msg)\n",
      "c:\\Users\\habetsj\\Anaconda3\\envs\\ecog_dysk\\lib\\site-packages\\statsmodels\\regression\\mixed_linear_model.py:2055: UserWarning: The random effects covariance matrix is singular.\n",
      "  warnings.warn(_warn_cov_sing)\n",
      "c:\\Users\\habetsj\\Anaconda3\\envs\\ecog_dysk\\lib\\site-packages\\statsmodels\\regression\\mixed_linear_model.py:2238: ConvergenceWarning: The MLE may be on the boundary of the parameter space.\n",
      "  warnings.warn(msg, ConvergenceWarning)\n",
      "c:\\Users\\habetsj\\Anaconda3\\envs\\ecog_dysk\\lib\\site-packages\\statsmodels\\regression\\mixed_linear_model.py:2246: UserWarning: The random effects covariance matrix is singular.\n",
      "  warnings.warn(_warn_cov_sing)\n",
      "c:\\Users\\habetsj\\Anaconda3\\envs\\ecog_dysk\\lib\\site-packages\\statsmodels\\regression\\mixed_linear_model.py:2262: ConvergenceWarning: The Hessian matrix at the estimated parameter values is not positive definite.\n",
      "  warnings.warn(msg, ConvergenceWarning)\n",
      "c:\\Users\\habetsj\\Anaconda3\\envs\\ecog_dysk\\lib\\site-packages\\statsmodels\\regression\\mixed_linear_model.py:1635: UserWarning: Random effects covariance is singular\n",
      "  warnings.warn(msg)\n",
      "c:\\Users\\habetsj\\Anaconda3\\envs\\ecog_dysk\\lib\\site-packages\\statsmodels\\regression\\mixed_linear_model.py:2055: UserWarning: The random effects covariance matrix is singular.\n",
      "  warnings.warn(_warn_cov_sing)\n",
      "c:\\Users\\habetsj\\Anaconda3\\envs\\ecog_dysk\\lib\\site-packages\\statsmodels\\regression\\mixed_linear_model.py:2238: ConvergenceWarning: The MLE may be on the boundary of the parameter space.\n",
      "  warnings.warn(msg, ConvergenceWarning)\n",
      "c:\\Users\\habetsj\\Anaconda3\\envs\\ecog_dysk\\lib\\site-packages\\statsmodels\\regression\\mixed_linear_model.py:2246: UserWarning: The random effects covariance matrix is singular.\n",
      "  warnings.warn(_warn_cov_sing)\n",
      "c:\\Users\\habetsj\\Anaconda3\\envs\\ecog_dysk\\lib\\site-packages\\statsmodels\\regression\\mixed_linear_model.py:2262: ConvergenceWarning: The Hessian matrix at the estimated parameter values is not positive definite.\n",
      "  warnings.warn(msg, ConvergenceWarning)\n"
     ]
    },
    {
     "name": "stdout",
     "output_type": "stream",
     "text": [
      "START 79 Hz\n",
      "START 80 Hz\n"
     ]
    },
    {
     "name": "stderr",
     "output_type": "stream",
     "text": [
      "c:\\Users\\habetsj\\Anaconda3\\envs\\ecog_dysk\\lib\\site-packages\\statsmodels\\regression\\mixed_linear_model.py:1635: UserWarning: Random effects covariance is singular\n",
      "  warnings.warn(msg)\n",
      "c:\\Users\\habetsj\\Anaconda3\\envs\\ecog_dysk\\lib\\site-packages\\statsmodels\\regression\\mixed_linear_model.py:2238: ConvergenceWarning: The MLE may be on the boundary of the parameter space.\n",
      "  warnings.warn(msg, ConvergenceWarning)\n"
     ]
    },
    {
     "name": "stdout",
     "output_type": "stream",
     "text": [
      "START 81 Hz\n",
      "START 82 Hz\n"
     ]
    },
    {
     "name": "stderr",
     "output_type": "stream",
     "text": [
      "c:\\Users\\habetsj\\Anaconda3\\envs\\ecog_dysk\\lib\\site-packages\\statsmodels\\regression\\mixed_linear_model.py:1635: UserWarning: Random effects covariance is singular\n",
      "  warnings.warn(msg)\n",
      "c:\\Users\\habetsj\\Anaconda3\\envs\\ecog_dysk\\lib\\site-packages\\statsmodels\\regression\\mixed_linear_model.py:2055: UserWarning: The random effects covariance matrix is singular.\n",
      "  warnings.warn(_warn_cov_sing)\n",
      "c:\\Users\\habetsj\\Anaconda3\\envs\\ecog_dysk\\lib\\site-packages\\statsmodels\\regression\\mixed_linear_model.py:2238: ConvergenceWarning: The MLE may be on the boundary of the parameter space.\n",
      "  warnings.warn(msg, ConvergenceWarning)\n",
      "c:\\Users\\habetsj\\Anaconda3\\envs\\ecog_dysk\\lib\\site-packages\\statsmodels\\regression\\mixed_linear_model.py:2246: UserWarning: The random effects covariance matrix is singular.\n",
      "  warnings.warn(_warn_cov_sing)\n",
      "c:\\Users\\habetsj\\Anaconda3\\envs\\ecog_dysk\\lib\\site-packages\\statsmodels\\regression\\mixed_linear_model.py:2262: ConvergenceWarning: The Hessian matrix at the estimated parameter values is not positive definite.\n",
      "  warnings.warn(msg, ConvergenceWarning)\n",
      "c:\\Users\\habetsj\\Anaconda3\\envs\\ecog_dysk\\lib\\site-packages\\statsmodels\\regression\\mixed_linear_model.py:1635: UserWarning: Random effects covariance is singular\n",
      "  warnings.warn(msg)\n",
      "c:\\Users\\habetsj\\Anaconda3\\envs\\ecog_dysk\\lib\\site-packages\\statsmodels\\regression\\mixed_linear_model.py:2055: UserWarning: The random effects covariance matrix is singular.\n",
      "  warnings.warn(_warn_cov_sing)\n",
      "c:\\Users\\habetsj\\Anaconda3\\envs\\ecog_dysk\\lib\\site-packages\\statsmodels\\regression\\mixed_linear_model.py:2238: ConvergenceWarning: The MLE may be on the boundary of the parameter space.\n",
      "  warnings.warn(msg, ConvergenceWarning)\n",
      "c:\\Users\\habetsj\\Anaconda3\\envs\\ecog_dysk\\lib\\site-packages\\statsmodels\\regression\\mixed_linear_model.py:2246: UserWarning: The random effects covariance matrix is singular.\n",
      "  warnings.warn(_warn_cov_sing)\n",
      "c:\\Users\\habetsj\\Anaconda3\\envs\\ecog_dysk\\lib\\site-packages\\statsmodels\\regression\\mixed_linear_model.py:2262: ConvergenceWarning: The Hessian matrix at the estimated parameter values is not positive definite.\n",
      "  warnings.warn(msg, ConvergenceWarning)\n"
     ]
    },
    {
     "name": "stdout",
     "output_type": "stream",
     "text": [
      "START 83 Hz\n",
      "START 84 Hz\n"
     ]
    },
    {
     "name": "stderr",
     "output_type": "stream",
     "text": [
      "c:\\Users\\habetsj\\Anaconda3\\envs\\ecog_dysk\\lib\\site-packages\\statsmodels\\regression\\mixed_linear_model.py:1635: UserWarning: Random effects covariance is singular\n",
      "  warnings.warn(msg)\n",
      "c:\\Users\\habetsj\\Anaconda3\\envs\\ecog_dysk\\lib\\site-packages\\statsmodels\\regression\\mixed_linear_model.py:2055: UserWarning: The random effects covariance matrix is singular.\n",
      "  warnings.warn(_warn_cov_sing)\n",
      "c:\\Users\\habetsj\\Anaconda3\\envs\\ecog_dysk\\lib\\site-packages\\statsmodels\\regression\\mixed_linear_model.py:2238: ConvergenceWarning: The MLE may be on the boundary of the parameter space.\n",
      "  warnings.warn(msg, ConvergenceWarning)\n",
      "c:\\Users\\habetsj\\Anaconda3\\envs\\ecog_dysk\\lib\\site-packages\\statsmodels\\regression\\mixed_linear_model.py:2246: UserWarning: The random effects covariance matrix is singular.\n",
      "  warnings.warn(_warn_cov_sing)\n",
      "c:\\Users\\habetsj\\Anaconda3\\envs\\ecog_dysk\\lib\\site-packages\\statsmodels\\regression\\mixed_linear_model.py:2262: ConvergenceWarning: The Hessian matrix at the estimated parameter values is not positive definite.\n",
      "  warnings.warn(msg, ConvergenceWarning)\n",
      "c:\\Users\\habetsj\\Anaconda3\\envs\\ecog_dysk\\lib\\site-packages\\statsmodels\\regression\\mixed_linear_model.py:1635: UserWarning: Random effects covariance is singular\n",
      "  warnings.warn(msg)\n",
      "c:\\Users\\habetsj\\Anaconda3\\envs\\ecog_dysk\\lib\\site-packages\\statsmodels\\regression\\mixed_linear_model.py:2055: UserWarning: The random effects covariance matrix is singular.\n",
      "  warnings.warn(_warn_cov_sing)\n",
      "c:\\Users\\habetsj\\Anaconda3\\envs\\ecog_dysk\\lib\\site-packages\\statsmodels\\regression\\mixed_linear_model.py:2238: ConvergenceWarning: The MLE may be on the boundary of the parameter space.\n",
      "  warnings.warn(msg, ConvergenceWarning)\n",
      "c:\\Users\\habetsj\\Anaconda3\\envs\\ecog_dysk\\lib\\site-packages\\statsmodels\\regression\\mixed_linear_model.py:2246: UserWarning: The random effects covariance matrix is singular.\n",
      "  warnings.warn(_warn_cov_sing)\n",
      "c:\\Users\\habetsj\\Anaconda3\\envs\\ecog_dysk\\lib\\site-packages\\statsmodels\\regression\\mixed_linear_model.py:2262: ConvergenceWarning: The Hessian matrix at the estimated parameter values is not positive definite.\n",
      "  warnings.warn(msg, ConvergenceWarning)\n"
     ]
    },
    {
     "name": "stdout",
     "output_type": "stream",
     "text": [
      "START 85 Hz\n",
      "START 86 Hz\n"
     ]
    },
    {
     "name": "stderr",
     "output_type": "stream",
     "text": [
      "c:\\Users\\habetsj\\Anaconda3\\envs\\ecog_dysk\\lib\\site-packages\\statsmodels\\regression\\mixed_linear_model.py:1635: UserWarning: Random effects covariance is singular\n",
      "  warnings.warn(msg)\n",
      "c:\\Users\\habetsj\\Anaconda3\\envs\\ecog_dysk\\lib\\site-packages\\statsmodels\\regression\\mixed_linear_model.py:2055: UserWarning: The random effects covariance matrix is singular.\n",
      "  warnings.warn(_warn_cov_sing)\n",
      "c:\\Users\\habetsj\\Anaconda3\\envs\\ecog_dysk\\lib\\site-packages\\statsmodels\\regression\\mixed_linear_model.py:2238: ConvergenceWarning: The MLE may be on the boundary of the parameter space.\n",
      "  warnings.warn(msg, ConvergenceWarning)\n",
      "c:\\Users\\habetsj\\Anaconda3\\envs\\ecog_dysk\\lib\\site-packages\\statsmodels\\regression\\mixed_linear_model.py:2246: UserWarning: The random effects covariance matrix is singular.\n",
      "  warnings.warn(_warn_cov_sing)\n",
      "c:\\Users\\habetsj\\Anaconda3\\envs\\ecog_dysk\\lib\\site-packages\\statsmodels\\regression\\mixed_linear_model.py:2262: ConvergenceWarning: The Hessian matrix at the estimated parameter values is not positive definite.\n",
      "  warnings.warn(msg, ConvergenceWarning)\n",
      "c:\\Users\\habetsj\\Anaconda3\\envs\\ecog_dysk\\lib\\site-packages\\statsmodels\\regression\\mixed_linear_model.py:1635: UserWarning: Random effects covariance is singular\n",
      "  warnings.warn(msg)\n",
      "c:\\Users\\habetsj\\Anaconda3\\envs\\ecog_dysk\\lib\\site-packages\\statsmodels\\regression\\mixed_linear_model.py:2055: UserWarning: The random effects covariance matrix is singular.\n",
      "  warnings.warn(_warn_cov_sing)\n",
      "c:\\Users\\habetsj\\Anaconda3\\envs\\ecog_dysk\\lib\\site-packages\\statsmodels\\regression\\mixed_linear_model.py:2238: ConvergenceWarning: The MLE may be on the boundary of the parameter space.\n",
      "  warnings.warn(msg, ConvergenceWarning)\n",
      "c:\\Users\\habetsj\\Anaconda3\\envs\\ecog_dysk\\lib\\site-packages\\statsmodels\\regression\\mixed_linear_model.py:2246: UserWarning: The random effects covariance matrix is singular.\n",
      "  warnings.warn(_warn_cov_sing)\n",
      "c:\\Users\\habetsj\\Anaconda3\\envs\\ecog_dysk\\lib\\site-packages\\statsmodels\\regression\\mixed_linear_model.py:2262: ConvergenceWarning: The Hessian matrix at the estimated parameter values is not positive definite.\n",
      "  warnings.warn(msg, ConvergenceWarning)\n"
     ]
    },
    {
     "name": "stdout",
     "output_type": "stream",
     "text": [
      "START 87 Hz\n",
      "START 88 Hz\n"
     ]
    },
    {
     "name": "stderr",
     "output_type": "stream",
     "text": [
      "c:\\Users\\habetsj\\Anaconda3\\envs\\ecog_dysk\\lib\\site-packages\\statsmodels\\regression\\mixed_linear_model.py:1635: UserWarning: Random effects covariance is singular\n",
      "  warnings.warn(msg)\n",
      "c:\\Users\\habetsj\\Anaconda3\\envs\\ecog_dysk\\lib\\site-packages\\statsmodels\\regression\\mixed_linear_model.py:2055: UserWarning: The random effects covariance matrix is singular.\n",
      "  warnings.warn(_warn_cov_sing)\n",
      "c:\\Users\\habetsj\\Anaconda3\\envs\\ecog_dysk\\lib\\site-packages\\statsmodels\\regression\\mixed_linear_model.py:2238: ConvergenceWarning: The MLE may be on the boundary of the parameter space.\n",
      "  warnings.warn(msg, ConvergenceWarning)\n",
      "c:\\Users\\habetsj\\Anaconda3\\envs\\ecog_dysk\\lib\\site-packages\\statsmodels\\regression\\mixed_linear_model.py:2246: UserWarning: The random effects covariance matrix is singular.\n",
      "  warnings.warn(_warn_cov_sing)\n",
      "c:\\Users\\habetsj\\Anaconda3\\envs\\ecog_dysk\\lib\\site-packages\\statsmodels\\regression\\mixed_linear_model.py:2262: ConvergenceWarning: The Hessian matrix at the estimated parameter values is not positive definite.\n",
      "  warnings.warn(msg, ConvergenceWarning)\n",
      "c:\\Users\\habetsj\\Anaconda3\\envs\\ecog_dysk\\lib\\site-packages\\statsmodels\\regression\\mixed_linear_model.py:1635: UserWarning: Random effects covariance is singular\n",
      "  warnings.warn(msg)\n",
      "c:\\Users\\habetsj\\Anaconda3\\envs\\ecog_dysk\\lib\\site-packages\\statsmodels\\regression\\mixed_linear_model.py:2055: UserWarning: The random effects covariance matrix is singular.\n",
      "  warnings.warn(_warn_cov_sing)\n",
      "c:\\Users\\habetsj\\Anaconda3\\envs\\ecog_dysk\\lib\\site-packages\\statsmodels\\regression\\mixed_linear_model.py:2238: ConvergenceWarning: The MLE may be on the boundary of the parameter space.\n",
      "  warnings.warn(msg, ConvergenceWarning)\n",
      "c:\\Users\\habetsj\\Anaconda3\\envs\\ecog_dysk\\lib\\site-packages\\statsmodels\\regression\\mixed_linear_model.py:2246: UserWarning: The random effects covariance matrix is singular.\n",
      "  warnings.warn(_warn_cov_sing)\n",
      "c:\\Users\\habetsj\\Anaconda3\\envs\\ecog_dysk\\lib\\site-packages\\statsmodels\\regression\\mixed_linear_model.py:2262: ConvergenceWarning: The Hessian matrix at the estimated parameter values is not positive definite.\n",
      "  warnings.warn(msg, ConvergenceWarning)\n"
     ]
    },
    {
     "name": "stdout",
     "output_type": "stream",
     "text": [
      "START 89 Hz\n",
      "START 90 Hz\n"
     ]
    },
    {
     "name": "stderr",
     "output_type": "stream",
     "text": [
      "c:\\Users\\habetsj\\Anaconda3\\envs\\ecog_dysk\\lib\\site-packages\\statsmodels\\regression\\mixed_linear_model.py:1635: UserWarning: Random effects covariance is singular\n",
      "  warnings.warn(msg)\n",
      "c:\\Users\\habetsj\\Anaconda3\\envs\\ecog_dysk\\lib\\site-packages\\statsmodels\\regression\\mixed_linear_model.py:2055: UserWarning: The random effects covariance matrix is singular.\n",
      "  warnings.warn(_warn_cov_sing)\n",
      "c:\\Users\\habetsj\\Anaconda3\\envs\\ecog_dysk\\lib\\site-packages\\statsmodels\\regression\\mixed_linear_model.py:2238: ConvergenceWarning: The MLE may be on the boundary of the parameter space.\n",
      "  warnings.warn(msg, ConvergenceWarning)\n",
      "c:\\Users\\habetsj\\Anaconda3\\envs\\ecog_dysk\\lib\\site-packages\\statsmodels\\regression\\mixed_linear_model.py:2246: UserWarning: The random effects covariance matrix is singular.\n",
      "  warnings.warn(_warn_cov_sing)\n",
      "c:\\Users\\habetsj\\Anaconda3\\envs\\ecog_dysk\\lib\\site-packages\\statsmodels\\regression\\mixed_linear_model.py:2262: ConvergenceWarning: The Hessian matrix at the estimated parameter values is not positive definite.\n",
      "  warnings.warn(msg, ConvergenceWarning)\n",
      "c:\\Users\\habetsj\\Anaconda3\\envs\\ecog_dysk\\lib\\site-packages\\statsmodels\\regression\\mixed_linear_model.py:1635: UserWarning: Random effects covariance is singular\n",
      "  warnings.warn(msg)\n",
      "c:\\Users\\habetsj\\Anaconda3\\envs\\ecog_dysk\\lib\\site-packages\\statsmodels\\regression\\mixed_linear_model.py:2055: UserWarning: The random effects covariance matrix is singular.\n",
      "  warnings.warn(_warn_cov_sing)\n",
      "c:\\Users\\habetsj\\Anaconda3\\envs\\ecog_dysk\\lib\\site-packages\\statsmodels\\regression\\mixed_linear_model.py:2238: ConvergenceWarning: The MLE may be on the boundary of the parameter space.\n",
      "  warnings.warn(msg, ConvergenceWarning)\n",
      "c:\\Users\\habetsj\\Anaconda3\\envs\\ecog_dysk\\lib\\site-packages\\statsmodels\\regression\\mixed_linear_model.py:2246: UserWarning: The random effects covariance matrix is singular.\n",
      "  warnings.warn(_warn_cov_sing)\n",
      "c:\\Users\\habetsj\\Anaconda3\\envs\\ecog_dysk\\lib\\site-packages\\statsmodels\\regression\\mixed_linear_model.py:2262: ConvergenceWarning: The Hessian matrix at the estimated parameter values is not positive definite.\n",
      "  warnings.warn(msg, ConvergenceWarning)\n"
     ]
    }
   ],
   "source": [
    "importlib.reload(psdLID_stats)\n",
    "\n",
    "\n",
    "plist = psdLID_stats.get_binary_p_perHz(return_ps=True)"
   ]
  },
  {
   "cell_type": "markdown",
   "metadata": {},
   "source": [
    "Plot SEVERITY AND LATERALITY OF ECoG-changes during DYSKINESIA"
   ]
  },
  {
   "cell_type": "code",
   "execution_count": 77,
   "metadata": {},
   "outputs": [
    {
     "name": "stderr",
     "output_type": "stream",
     "text": [
      "c:\\Users\\habetsj\\Research\\projects\\dyskinesia_neurophys\\code\\lfpecog_plotting\\plot_descriptive_SSD_PSDs.py:705: RuntimeWarning: Mean of empty slice\n",
      "  PSD[k] = [np.nanmean(PSD[k][np.logical_and(idx > (i_v - s_win),\n"
     ]
    }
   ],
   "source": [
    "importlib.reload(plot_PSDs)\n",
    "\n",
    "# PM, needs: TFs = ssd_TimeFreq.get_all_ssd_timeFreqs(SUBS=SUBS)\n",
    "\n",
    "# 'LAT_UNI' , 'LAT_BILAT', 'SCALE', 'LAT_ALL_SCALE'\n",
    "LAT_or_SCALE = 'LAT_ALL_SCALE'\n",
    "SAVE_PLOT = True\n",
    "SHOW_PLOT = False\n",
    "\n",
    "SMOOTH_FREQS=8\n",
    "LOG_POWER=False\n",
    "BASELINE_CORRECT=True\n",
    "ZSCORE_FREQS=False\n",
    "SINGLE_LINE= False\n",
    "SHOW_GAMMA = True\n",
    "\n",
    "fig_name = f'1508_ECoG_PSDs_LID_{LAT_or_SCALE}_n{len(subs_LID)}'\n",
    "\n",
    "if BASELINE_CORRECT: fig_name += '_blCorr'\n",
    "if LOG_POWER: fig_name += '_log'\n",
    "if ZSCORE_FREQS: fig_name += '_Z'\n",
    "if SMOOTH_FREQS > 0: fig_name += f'_smooth{SMOOTH_FREQS}'\n",
    "if SINGLE_LINE: fig_name += '_lines'\n",
    "if SHOW_GAMMA: fig_name += '_GAMMA'\n",
    "\n",
    "fsize=14\n",
    "\n",
    "plot_PSDs.plot_ECOG_PSD_vs_LID(\n",
    "    TFs, sel_subs=subs_LID,\n",
    "    LAT_or_SCALE=LAT_or_SCALE,\n",
    "    LOG_POWER=LOG_POWER,\n",
    "    BASELINE_CORRECT=BASELINE_CORRECT,\n",
    "    SMOOTH_PLOT_FREQS=SMOOTH_FREQS,\n",
    "    ZSCORE_FREQS=ZSCORE_FREQS,\n",
    "    plt_ax_to_return=False,\n",
    "    fsize=fsize,\n",
    "    BREAK_X_AX=True,\n",
    "    fig_name=fig_name,\n",
    "    single_sub_lines=SINGLE_LINE,\n",
    "    SHOW_ONLY_GAMMA=SHOW_GAMMA,\n",
    ")"
   ]
  },
  {
   "cell_type": "markdown",
   "metadata": {},
   "source": [
    "Plot LATERALITY during UNILATERAL dyskinesia"
   ]
  },
  {
   "cell_type": "code",
   "execution_count": null,
   "metadata": {},
   "outputs": [],
   "source": [
    "importlib.reload(plot_PSDs)\n",
    "\n",
    "\n",
    "SAVE_PLOT = True\n",
    "SHOW_PLOT = False\n",
    "\n",
    "SMOOTH_FREQS=8\n",
    "LOG_POWER=False\n",
    "BASELINE_CORRECT=True\n",
    "ZSCORE_FREQS=False\n",
    "CDRS_RATER = 'Jeroen'\n",
    "\n",
    "fig_name = f'LATERALITY_STNandECOG_PSDs_unilatLID_n{len(SUBS)}'\n",
    "if BASELINE_CORRECT: fig_name += '_blCorr'\n",
    "if LOG_POWER: fig_name += '_log'\n",
    "if ZSCORE_FREQS: fig_name += '_Z'\n",
    "if SMOOTH_FREQS > 0: fig_name += f'_smooth{SMOOTH_FREQS}'\n",
    "\n",
    "\n",
    "\n",
    "fig, axes = plt.subplots(1, 2, figsize=(12, 6))\n",
    "\n",
    "fsize=14\n",
    "\n",
    "plot_PSDs.plot_STN_PSD_vs_LID(\n",
    "    TFs, sel_subs=subs_LID,\n",
    "    LAT_or_SCALE='LAT_UNI',  # LAT_UNI\n",
    "    CDRS_RATER=CDRS_RATER,\n",
    "    LOG_POWER=LOG_POWER,\n",
    "    BASELINE_CORRECT=BASELINE_CORRECT,\n",
    "    SMOOTH_PLOT_FREQS=SMOOTH_FREQS,\n",
    "    ZSCORE_FREQS=ZSCORE_FREQS,\n",
    "    plt_ax_to_return=axes[0],\n",
    "    fsize=fsize,\n",
    "    BREAK_X_AX=True,\n",
    ")\n",
    "plot_PSDs.plot_ECOG_PSD_vs_LID(\n",
    "    TFs, sel_subs=subs_LID,\n",
    "    LAT_or_SCALE='LAT_UNI',\n",
    "    CDRS_RATER=CDRS_RATER,\n",
    "    LOG_POWER=LOG_POWER,\n",
    "    BASELINE_CORRECT=BASELINE_CORRECT,\n",
    "    SMOOTH_PLOT_FREQS=SMOOTH_FREQS,\n",
    "    ZSCORE_FREQS=ZSCORE_FREQS,\n",
    "    plt_ax_to_return=axes[1],\n",
    "    fsize=fsize,\n",
    "    BREAK_X_AX=True,\n",
    ")\n",
    "\n",
    "# equalize axes\n",
    "ymin = min([min(ax.get_ylim()) for ax in axes])\n",
    "ymax = max([max(ax.get_ylim()) for ax in axes])\n",
    "for ax in axes: ax.set_ylim(ymin, ymax)\n",
    "\n",
    "for ax in axes: ax.tick_params(axis='both', size=fsize,\n",
    "                               labelsize=fsize)\n",
    "plt.tight_layout()\n",
    "\n",
    "if SAVE_PLOT:\n",
    "    plt.savefig(os.path.join(get_project_path('figures'), 'ft_exploration',\n",
    "                         DATA_VERSION, 'descr_PSDs', fig_name),\n",
    "                facecolor='w', dpi=300,)\n",
    "if SHOW_PLOT: plt.show()\n",
    "else: plt.close()"
   ]
  },
  {
   "attachments": {},
   "cell_type": "markdown",
   "metadata": {},
   "source": [
    "Plot PSDs versus categorical CDRS severity"
   ]
  },
  {
   "cell_type": "code",
   "execution_count": 36,
   "metadata": {},
   "outputs": [
    {
     "name": "stdout",
     "output_type": "stream",
     "text": [
      "start plotting 1408_STN_PSD_CDRS_scaling_n14_blCorr_smooth8\n"
     ]
    },
    {
     "name": "stderr",
     "output_type": "stream",
     "text": [
      "c:\\Users\\habetsj\\Research\\projects\\dyskinesia_neurophys\\code\\lfpecog_plotting\\plot_descriptive_SSD_PSDs.py:628: RuntimeWarning: Mean of empty slice\n",
      "  n_subs_cat = psds.shape[0]\n"
     ]
    }
   ],
   "source": [
    "\"\"\"\n",
    "STN SCALING shows only-contra; only-ipsilateral; merged-bilateral\n",
    "\"\"\"\n",
    "\n",
    "# importlib.reload(ftProc)\n",
    "importlib.reload(plot_PSDs)\n",
    "\n",
    "fig_name = f'1408_STN_PSD_CDRS_scaling_n{len(subs_LID + subs_noLID)}'\n",
    "\n",
    "SAVE_PLOT = True\n",
    "SHOW_PLOT = False\n",
    "\n",
    "SMOOTH_FREQS=8\n",
    "LOG_POWER=False\n",
    "BASELINE_CORRECT=True\n",
    "ZSCORE_FREQS=False\n",
    "fsize=14\n",
    "\n",
    "if BASELINE_CORRECT: fig_name += '_blCorr'\n",
    "if LOG_POWER: fig_name += '_log'\n",
    "if ZSCORE_FREQS: fig_name += '_Z'\n",
    "if SMOOTH_FREQS > 0: fig_name += f'_smooth{SMOOTH_FREQS}'\n",
    "\n",
    "# plot internally due to difficulties of returning multiple axes\n",
    "plot_PSDs.plot_STN_PSD_vs_LID(\n",
    "    TFs, sel_subs=subs_LID,\n",
    "    LAT_or_SCALE='SCALE',\n",
    "    LOG_POWER=LOG_POWER,\n",
    "    BASELINE_CORRECT=BASELINE_CORRECT,\n",
    "    SMOOTH_PLOT_FREQS=SMOOTH_FREQS,\n",
    "    ZSCORE_FREQS=ZSCORE_FREQS,\n",
    "    # plt_ax_to_return=axes,\n",
    "    fsize=fsize,\n",
    "    BREAK_X_AX=True,\n",
    "    fig_name=fig_name,\n",
    "    SINGLE_SUB_LINES=False,\n",
    ")\n"
   ]
  },
  {
   "cell_type": "code",
   "execution_count": 37,
   "metadata": {},
   "outputs": [
    {
     "name": "stderr",
     "output_type": "stream",
     "text": [
      "c:\\Users\\habetsj\\Research\\projects\\dyskinesia_neurophys\\code\\lfpecog_plotting\\plot_descriptive_SSD_PSDs.py:628: RuntimeWarning: Mean of empty slice\n",
      "  n_subs_cat = psds.shape[0]\n"
     ]
    }
   ],
   "source": [
    "\"\"\"\n",
    "ECoG SCALE shows unilateral scaling and merged-bilateral scaling\n",
    "\"\"\"\n",
    "\n",
    "\n",
    "# importlib.reload(ftProc)\n",
    "importlib.reload(plot_PSDs)\n",
    "\n",
    "\n",
    "SAVE_PLOT = True\n",
    "SHOW_PLOT = False\n",
    "\n",
    "SMOOTH_FREQS=8\n",
    "LOG_POWER=False\n",
    "BASELINE_CORRECT=True\n",
    "ZSCORE_FREQS=False\n",
    "fsize=14\n",
    "fig_name = f'1408_ECOG_PSD_CDRS_scaling_n{len(subs_LID + subs_noLID)}'\n",
    "\n",
    "if BASELINE_CORRECT: fig_name += '_blCorr'\n",
    "if LOG_POWER: fig_name += '_log'\n",
    "if ZSCORE_FREQS: fig_name += '_Z'\n",
    "if SMOOTH_FREQS > 0: fig_name += f'_smooth{SMOOTH_FREQS}'\n",
    "\n",
    "# plot internally due to difficulties of returning multiple axes\n",
    "plot_PSDs.plot_ECOG_PSD_vs_LID(\n",
    "    TFs, sel_subs=subs_LID,\n",
    "    LAT_or_SCALE='SCALE',\n",
    "    LOG_POWER=LOG_POWER,\n",
    "    BASELINE_CORRECT=BASELINE_CORRECT,\n",
    "    SMOOTH_PLOT_FREQS=SMOOTH_FREQS,\n",
    "    ZSCORE_FREQS=ZSCORE_FREQS,\n",
    "    # plt_ax_to_return=axes,\n",
    "    fsize=fsize,\n",
    "    BREAK_X_AX=True,\n",
    "    fig_name=fig_name,\n",
    "    # SINGLE_SUB_LINES=False,\n",
    ")"
   ]
  },
  {
   "cell_type": "markdown",
   "metadata": {},
   "source": [
    "#### Plot Frequency-Correlation Plots\n"
   ]
  },
  {
   "cell_type": "code",
   "execution_count": null,
   "metadata": {},
   "outputs": [],
   "source": [
    "importlib.reload(plot_PSDs)\n",
    "\n",
    "# PM, needs: TFs = ssd_TimeFreq.get_all_ssd_timeFreqs(SUBS=SUBS)\n",
    "# TODO: PLOT FREQ-CORR FOR OTHER DATA\n",
    "\n",
    "LAT_or_SCALE = 'LAT_BILAT'\n",
    "CALC_FREQ_CORR = True\n",
    "\n",
    "SMOOTH_FREQS=8\n",
    "LOG_POWER=False\n",
    "BASELINE_CORRECT=True\n",
    "ZSCORE_FREQS=False\n",
    "\n",
    "fig_name = f'1508_FREQCORR_STN_PSDs_{LAT_or_SCALE}_LID_n{len(SUBS)}'\n",
    "\n",
    "if BASELINE_CORRECT: fig_name += '_blCorr'\n",
    "if LOG_POWER: fig_name += '_log'\n",
    "if ZSCORE_FREQS: fig_name += '_Z'\n",
    "if SMOOTH_FREQS > 0: fig_name += f'_smooth{SMOOTH_FREQS}'\n",
    "\n",
    "fsize=14\n",
    "\n",
    "FrqCor = plot_PSDs.plot_STN_PSD_vs_LID(\n",
    "    TFs, sel_subs=subs_LID,\n",
    "    LAT_or_SCALE=LAT_or_SCALE,\n",
    "    LOG_POWER=LOG_POWER,\n",
    "    BASELINE_CORRECT=BASELINE_CORRECT,\n",
    "    SMOOTH_PLOT_FREQS=SMOOTH_FREQS,\n",
    "    ZSCORE_FREQS=ZSCORE_FREQS,\n",
    "    plt_ax_to_return=False,\n",
    "    fsize=fsize,\n",
    "    BREAK_X_AX=True,\n",
    "    fig_name=fig_name,\n",
    "    CALC_FREQ_CORR=CALC_FREQ_CORR,\n",
    ")"
   ]
  },
  {
   "cell_type": "code",
   "execution_count": null,
   "metadata": {},
   "outputs": [],
   "source": [
    "import lfpecog_plotting.plot_FreqCorr as plt_FreqCorr"
   ]
  },
  {
   "cell_type": "code",
   "execution_count": null,
   "metadata": {},
   "outputs": [],
   "source": [
    "importlib.reload(plt_FreqCorr)\n",
    "\n",
    "# calculate Rs\n",
    "FreqCorrs_results, freqs = plt_FreqCorr.calculate_Rs_FreqCorr(\n",
    "    FreqCorr_dict=FrqCor, mean_per_score=True,)\n",
    "\n",
    "# Plot mean Rs per state\n",
    "plt_FreqCorr.plot_FreqCorr(\n",
    "    FreqCorrs_results, freqs,\n",
    "    save_dir=os.path.join(get_project_path('figures'),\n",
    "                          'ft_exploration',\n",
    "                          DATA_VERSION,\n",
    "                          'FreqCorrPlots'),\n",
    "    fig_name='FreqCorr_STN_bilat_CDRS_meanSubScore')"
   ]
  },
  {
   "cell_type": "code",
   "execution_count": null,
   "metadata": {},
   "outputs": [],
   "source": []
  },
  {
   "attachments": {},
   "cell_type": "markdown",
   "metadata": {},
   "source": [
    "#### Check SSD extraction"
   ]
  },
  {
   "cell_type": "code",
   "execution_count": null,
   "metadata": {},
   "outputs": [],
   "source": [
    "# replicate SSD extraction\n",
    "\n",
    "importlib.reload(ssd)\n",
    "# loop over windows\n",
    "\n",
    "for i_w, win_dat in enumerate(windows.data[:5]):\n",
    "    win_dat = win_dat.astype(np.float64)    \n",
    "    # select only rows without missing\n",
    "    nan_rows = np.array([pd.isna(win_dat[:, i]).any()\n",
    "                for i in range(win_dat.shape[-1])])\n",
    "    win_dat = win_dat[:, ~nan_rows]\n",
    "    win_chnames = list(compress(windows.keys, ~nan_rows))\n",
    "    win_time = windows.win_starttimes[i_w]\n",
    "    \n",
    "    ssds = ssd.SSD_bands_per_window(\n",
    "        data=win_dat.T, s_rate=windows.fs,\n",
    "        freq_bands_incl=SETTINGS['SPECTRAL_BANDS'],\n",
    "    )\n",
    " \n",
    "\n"
   ]
  },
  {
   "attachments": {},
   "cell_type": "markdown",
   "metadata": {},
   "source": [
    "Phase features to add:\n",
    "- local PAC from De Hempt (ECoG) (beta-phase, gamma-ampl)\n",
    "    - EEGLAB ASYMM PAC\n",
    "    - check calculation via entropy of amplitudes per bin\n",
    "    - or MI-inde\n",
    "- phase-phase: CHECK CAGNAN BURST WORK\n",
    "    - connectivity phase differences from Swann et al (phase-coherence) (angle STN versus angle ECoG, compare with imaginary-coherence)"
   ]
  },
  {
   "cell_type": "code",
   "execution_count": null,
   "metadata": {},
   "outputs": [],
   "source": [
    "import lfpecog_plotting.phase_plotting as phaseplot"
   ]
  },
  {
   "cell_type": "code",
   "execution_count": null,
   "metadata": {},
   "outputs": [],
   "source": [
    "importlib.reload(phaseplot)\n",
    "\n",
    "### phase difference\n",
    "# plt.figure(figsize=(12, 4))\n",
    "# get both signals\n",
    "sig1 = ssds.lo_beta.copy()\n",
    "sig2 = ssd0.lo_beta.copy()\n",
    "# convert to analytic signal\n",
    "a1 = signal.hilbert(x=sig1,)\n",
    "a2 = signal.hilbert(x=sig2,)\n",
    "# get phase from analytical signal, convert from pi to degree\n",
    "rad1 = np.angle(a1)\n",
    "deg1 = np.rad2deg(rad1)\n",
    "rad2 = np.angle(a2)\n",
    "deg2 = np.rad2deg(rad2)\n",
    "# get difference, convert all to positive degrees (-90 -> +270)\n",
    "rad_diff = rad1 - rad2\n",
    "deg_diff = deg1 - deg2\n",
    "mask_deg = deg_diff < 0  # bool-array, 0 for values >= 0\n",
    "mask_rad = rad_diff < 0\n",
    "corr_rad = np.array([2 * np.pi] * len(rad_diff)) * mask_rad  # corr array is set 0 for pos diff-values\n",
    "rad_diff += corr_rad\n",
    "corr_deg = np.array([360] * len(deg_diff)) * mask_deg  # corr array is set 0 for pos diff-values\n",
    "deg_diff += corr_deg\n",
    "plt.plot(rad_diff, label='corr', alpha=.8, ls='dotted')\n",
    "plt.xlim(0, 5000)\n",
    "plt.show()\n",
    "\n",
    "plt.figure(figsize=(12, 4))\n",
    "plt.plot(sig1)\n",
    "plt.plot(sig2)\n",
    "plt.xlim(0, 5000)\n",
    "plt.show()\n",
    "\n",
    "phaseplot.plot_rose_axis(radians=rad_diff)"
   ]
  },
  {
   "cell_type": "code",
   "execution_count": null,
   "metadata": {},
   "outputs": [],
   "source": [
    "sig_phase = ssd_014.ecog_right.lo_beta[10].copy()\n",
    "sig_ampl = ssd_014.ecog_right.broad_gamma[10].copy()\n",
    "# sig = ssds.lo_beta.copy()\n",
    "\n",
    "a_phase = signal.hilbert(x=sig_phase,)\n",
    "a_ampl = signal.hilbert(x=sig_ampl,)\n",
    "phase = np.angle(a_phase)\n",
    "phase_deg = np.rad2deg(phase)  #phase * (180 / np.pi)\n",
    "ampl = abs(a_ampl)\n",
    "plt.plot(phase)\n",
    "plt.plot(ampl)\n",
    "plt.xlim(0, 1000)\n",
    "plt.yticks([-np.pi, 0, np.pi],\n",
    "           labels=['-180', '0', '+180'],)\n",
    "plt.ylabel('Phase (degree)')\n",
    "plt.xlabel('time (samples)')\n",
    "plt.show()\n",
    "\n"
   ]
  },
  {
   "attachments": {},
   "cell_type": "markdown",
   "metadata": {},
   "source": [
    "### Calculate PAC"
   ]
  },
  {
   "cell_type": "code",
   "execution_count": null,
   "metadata": {},
   "outputs": [],
   "source": [
    "from tensorpac import Pac\n",
    "import lfpecog_features.feats_phase_amp_coupling as fts_pac\n",
    "import lfpecog_features.extract_ssd_features as ssdFts\n"
   ]
  },
  {
   "cell_type": "code",
   "execution_count": null,
   "metadata": {},
   "outputs": [],
   "source": [
    "SETTINGS = utilsFiles.load_ft_ext_cfg(cfg_fname='ftExtr_spectral_v1.json')"
   ]
  },
  {
   "cell_type": "code",
   "execution_count": null,
   "metadata": {},
   "outputs": [],
   "source": [
    "importlib.reload(phase_fts)\n",
    "\n",
    "pac_values = fts_pac.calculate_PAC_matrix(\n",
    "    sig_pha=ssd_014.ecog_right.lo_beta,\n",
    "    sig_amp=ssd_014.ecog_right.narrow_gamma,\n",
    "    window_times=ssd_014.ecog_right.times,\n",
    "    fs=ssd_014.ecog_right.fs,\n",
    "    freq_range_pha=SETTINGS['SPECTRAL_BANDS']['lo_beta'],\n",
    "    freq_range_amp=SETTINGS['SPECTRAL_BANDS']['narrow_gamma']\n",
    ")"
   ]
  },
  {
   "cell_type": "code",
   "execution_count": null,
   "metadata": {},
   "outputs": [],
   "source": []
  },
  {
   "attachments": {},
   "cell_type": "markdown",
   "metadata": {},
   "source": [
    "### Develop phase-difference values"
   ]
  },
  {
   "cell_type": "code",
   "execution_count": null,
   "metadata": {},
   "outputs": [],
   "source": [
    "phase_deg = phase * (180 / np.pi)\n",
    "\n",
    "phase_bins = {}\n",
    "for bin_start in np.arange(-180, 180, 20):\n",
    "    bin_sel = np.logical_and(phase_deg > bin_start,\n",
    "                             phase_deg<(bin_start+20))\n",
    "    ampl_sel = ampl[bin_sel]\n",
    "\n",
    "    phase_bins[bin_start] = ampl_sel"
   ]
  },
  {
   "cell_type": "code",
   "execution_count": null,
   "metadata": {},
   "outputs": [],
   "source": [
    "for bin in phase_bins:\n",
    "    amps = phase_bins[bin]\n",
    "    plt.hist(amps,alpha=.3)\n",
    "    ent = stats.entropy(amps)\n",
    "    plt.title(f'{bin} degree: entropy {ent}')\n",
    "    plt.close()"
   ]
  },
  {
   "attachments": {},
   "cell_type": "markdown",
   "metadata": {},
   "source": [
    "#### SSD with meet toolbox (https://github.com/neurophysics/meet)"
   ]
  },
  {
   "cell_type": "code",
   "execution_count": null,
   "metadata": {},
   "outputs": [],
   "source": [
    "import meet.meet as meet"
   ]
  },
  {
   "cell_type": "code",
   "execution_count": null,
   "metadata": {},
   "outputs": [],
   "source": [
    "# get data\n",
    "i_win = 5\n",
    "win_dat = data.list_mne_objects[i_win].get_data()  # epochs x channels x times\n",
    "ch_names = data.list_mne_objects[i_win].ch_names\n",
    "fs = data.info['sfreq']\n",
    "nperseg = 1024\n",
    "bw_ranges = {   'alpha': [8, 12],\n",
    "                'lo_beta': [12, 20],\n",
    "                'hi_beta': [20, 35],\n",
    "                'beta': [12, 35],\n",
    "                'midgamma': [60, 90]}\n"
   ]
  },
  {
   "cell_type": "code",
   "execution_count": null,
   "metadata": {},
   "outputs": [],
   "source": [
    "from lfpecog_features import feats_SSD as ssd"
   ]
  },
  {
   "cell_type": "code",
   "execution_count": null,
   "metadata": {},
   "outputs": [],
   "source": [
    "# test and plot SSD functionality\n",
    "\n",
    "importlib.reload(ssd)\n",
    "\n",
    "SOURCE_SEL = 'ECOG'\n",
    "F_BAND_SEL = 'midgamma'\n",
    "epoch_i = 50\n",
    "plt.close()\n",
    "# select 2d data of one source (n-channels x n-samples)\n",
    "ch_sel = [n.startswith(SOURCE_SEL) for n in ch_names]\n",
    "epoch_dat = win_dat[epoch_i, ch_sel, :]\n",
    "\n",
    "fig, axes = plt.subplots(3, 1, figsize=(8,8))\n",
    "\n",
    "for F_BAND_SEL in ['lo_beta', 'hi_beta', 'beta', 'midgamma']:\n",
    "    ssd_filt_data, ssd_pattern, ssd_eigvals = ssd.get_SSD_component(\n",
    "        data_2d=epoch_dat,\n",
    "        fband_interest=bw_ranges[F_BAND_SEL],\n",
    "        s_rate=fs,\n",
    "        use_freqBand_filtered=True,\n",
    "        return_comp_n=0,\n",
    "    )\n",
    "    f, psd = signal.welch(ssd_filt_data, axis=-1, nperseg=fs, fs=fs)\n",
    "\n",
    "    axes[0].plot(ssd_filt_data, label=F_BAND_SEL)\n",
    "    axes[1].plot(f, psd, label=F_BAND_SEL)\n",
    "\n",
    "# psd of origin\n",
    "for i in range(epoch_dat.shape[0]):\n",
    "    f, psd = signal.welch(epoch_dat[i, :], nperseg=fs, fs=fs)\n",
    "    axes[2].plot(f, psd, label=F_BAND_SEL, c='k', alpha=.3,)\n",
    "\n",
    "axes[0].legend(ncol=4)\n",
    "axes[1].legend()\n",
    "axes[0].set_title('SSD filtered bands', fontsize=14, weight='bold',)\n",
    "axes[0].set_ylabel('LFP (a.u.)', fontsize=14,)\n",
    "axes[0].set_xlabel('Time (samples, 2048 Hz)', fontsize=14,)\n",
    "axes[1].set_title('Freq-specific PSD after SSD', fontsize=14, weight='bold',)\n",
    "axes[2].set_title('Original PSDs of channels', fontsize=14, weight='bold',)\n",
    "\n",
    "for ax in [1, 2]:\n",
    "    axes[ax].set_xlim(0, 100)\n",
    "    axes[ax].set_xlabel('Frequency (Hz)', fontsize=14,)\n",
    "    axes[ax].set_ylabel('Power (a.u.)', fontsize=14,)\n",
    "\n",
    "for ax in axes: ax.tick_params(axis='both', labelsize=10)\n",
    "plt.tight_layout()\n",
    "figname = 'SSD_example_timeseries_PSD'\n",
    "# plt.savefig(os.path.join(figpath, 'ft_exploration', 'SSD', figname),\n",
    "#             dpi=300, facecolor='w',)\n",
    "\n",
    "plt.close()\n",
    "\n"
   ]
  },
  {
   "cell_type": "code",
   "execution_count": null,
   "metadata": {},
   "outputs": [],
   "source": [
    "# # plot SSD Components\n",
    "# for i, b in enumerate(SSD_beta):\n",
    "#     plt.plot(b, label=f'ch {i}',\n",
    "#              alpha=(1 - (i * .2)),\n",
    "#              lw=5 - i)\n",
    "# # beta1d = SSD_beta.T @ np.atleast_2d(SSD_eigvals).T  # combined signal, not relevant\n",
    "# # plt.plot(beta1d, label='product', c='k')\n",
    "# plt.legend()\n",
    "# plt.show()"
   ]
  }
 ],
 "metadata": {
  "kernelspec": {
   "display_name": "Python 3.9.0 ('ecog_dysk')",
   "language": "python",
   "name": "python3"
  },
  "language_info": {
   "codemirror_mode": {
    "name": "ipython",
    "version": 3
   },
   "file_extension": ".py",
   "mimetype": "text/x-python",
   "name": "python",
   "nbconvert_exporter": "python",
   "pygments_lexer": "ipython3",
   "version": "3.9.0"
  },
  "orig_nbformat": 4,
  "vscode": {
   "interpreter": {
    "hash": "2b948574b4cc10c9dd8fa8cab55862e7a8500229b4c7ca6593391d5001a62fb2"
   }
  }
 },
 "nbformat": 4,
 "nbformat_minor": 2
}
