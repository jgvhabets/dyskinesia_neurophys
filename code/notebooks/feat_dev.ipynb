{
 "cells": [
  {
   "attachments": {},
   "cell_type": "markdown",
   "metadata": {},
   "source": [
    "## Feature Development Extraction: Neurophysiology [dyskinesia project]\n",
    "\n",
    "\n",
    "\n",
    "\n",
    "<b> Content </b>\n",
    "\n",
    "\n",
    "<b> Aperiodic estimates </b>\n",
    "Relevant literature:\n",
    "- Periodic and a-periodic components relevance and interaction, different reasons (per + a-per) for signal changes observed within a specific bandwidth. Aperiodic component (complicated) vs exponent (1/f) (Donoghue, ..., Shestyuk & Voytek, Nature Neurosc 2020 : https://www.nature.com/articles/s41593-020-00744-x)\n",
    "- cycle-by-cycle features: bycycle toolbox (Cole & Voytek, J of Neurophys 2019, https://journals.physiology.org/doi/full/10.1152/jn.00273.2019)\n",
    "- aperiodic component, PD severity, and cortico-subcortico-activity, Bush & Zou, Richardson, bioRxiv 2023 https://www.biorxiv.org/content/10.1101/2023.02.08.527719v1?rss=1\n",
    "\n",
    "<b> Periodic component analysis: </b> \n",
    "- Try Wavelet Dceomposition vs Welch (tapered) Spectral Decomposition\n",
    "\n",
    "\n",
    "\n"
   ]
  },
  {
   "cell_type": "markdown",
   "metadata": {},
   "source": [
    "### 0. Loading packages and functions, defining paths\n",
    "\n"
   ]
  },
  {
   "cell_type": "code",
   "execution_count": 3,
   "metadata": {},
   "outputs": [],
   "source": [
    "# Importing Python and external packages\n",
    "import os\n",
    "import sys\n",
    "import importlib\n",
    "import json\n",
    "import csv\n",
    "from dataclasses import dataclass, field, fields\n",
    "from collections import namedtuple\n",
    "from typing import Any\n",
    "from itertools import compress\n",
    "from pathlib import Path\n",
    "import pandas as pd\n",
    "import numpy as np\n",
    "import sklearn as sk\n",
    "from scipy.stats import pearsonr, mannwhitneyu\n",
    "\n",
    "import matplotlib.pyplot as plt\n",
    "\n",
    "from scipy import signal, stats\n",
    "from array import array\n",
    "import datetime as dt\n",
    "# #mne\n",
    "# import mne_bids\n",
    "import mne\n"
   ]
  },
  {
   "cell_type": "code",
   "execution_count": 4,
   "metadata": {},
   "outputs": [
    {
     "name": "stdout",
     "output_type": "stream",
     "text": [
      "Python sys 3.9.0 (default, Nov 15 2020, 08:30:55) [MSC v.1916 64 bit (AMD64)]\n",
      "pandas 1.4.4\n",
      "numpy 1.23.3\n",
      "sci-kit learn 1.1.3\n"
     ]
    }
   ],
   "source": [
    "# check some package versions for documentation and reproducability\n",
    "print('Python sys', sys.version)\n",
    "print('pandas', pd.__version__)\n",
    "print('numpy', np.__version__)\n",
    "# print('mne_bids', mne_bids.__version__)\n",
    "# print('mne', mne.__version__)\n",
    "# print('sci-py', scipy.__version__)\n",
    "print('sci-kit learn', sk.__version__)\n",
    "## FEB 2022:\n",
    "# Python sys 3.9.7 (default, Sep 16 2021, 08:50:36) \n",
    "# [Clang 10.0.0 ]\n",
    "# pandas 1.3.4\n",
    "# numpy 1.20.3\n",
    "# mne_bids 0.9\n",
    "# mne 0.24.1\n",
    "# sci-py 1.7.1\n",
    "# sci-kit learn 1.0.1"
   ]
  },
  {
   "cell_type": "code",
   "execution_count": 5,
   "metadata": {},
   "outputs": [],
   "source": [
    "def get_project_path_in_notebook(\n",
    "    subfolder: str = '',\n",
    "):\n",
    "    \"\"\"\n",
    "    Finds path of projectfolder from Notebook.\n",
    "    Start running this once to correctly find\n",
    "    other modules/functions\n",
    "    \"\"\"\n",
    "    path = os.getcwd()\n",
    "\n",
    "    while path[-20:] != 'dyskinesia_neurophys':\n",
    "\n",
    "        path = os.path.dirname(path)\n",
    "    \n",
    "    return path"
   ]
  },
  {
   "cell_type": "code",
   "execution_count": 6,
   "metadata": {},
   "outputs": [],
   "source": [
    "# define local storage directories\n",
    "projectpath = get_project_path_in_notebook()\n",
    "codepath = os.path.join(projectpath, 'code')\n",
    "figpath = os.path.join(projectpath, 'figures')\n",
    "datapath = os.path.join(projectpath, 'data')"
   ]
  },
  {
   "cell_type": "code",
   "execution_count": 7,
   "metadata": {},
   "outputs": [],
   "source": [
    "os.chdir(codepath)\n",
    "# own utility functions\n",
    "import utils.utils_fileManagement as utilsFiles\n",
    "import utils.utils_windowing as utilsWindows\n",
    "# own data preprocessing functions\n",
    "import lfpecog_preproc.preproc_data_management as dataMng\n",
    "import lfpecog_preproc.preproc_filters as fltrs\n",
    "# own data exploration functions\n",
    "import lfpecog_features.feats_read_proc_data as read_data\n",
    "import lfpecog_plotting.expl_plotting as expl_plot\n",
    "import lfpecog_features.feats_spectral_baseline as specBase\n",
    "import lfpecog_features.feats_spectral_features as spectral\n",
    "import lfpecog_features.feats_spectral_helpers as specHelp\n",
    "\n",
    "\n",
    "import lfpecog_preproc.preproc_import_scores_annotations as importClin\n",
    "import lfpecog_analysis.import_ephys_results as importResults\n",
    "import lfpecog_analysis.get_acc_derivs as accDerivs\n",
    "\n",
    "\n",
    "from lfpecog_plotting.plotHelpers import remove_duplicate_legend"
   ]
  },
  {
   "cell_type": "markdown",
   "metadata": {},
   "source": [
    "### 1. Load Merged Sub-Data"
   ]
  },
  {
   "cell_type": "code",
   "execution_count": 8,
   "metadata": {},
   "outputs": [],
   "source": [
    "os.chdir(codepath)\n",
    "\n",
    "from utils.utils_fileManagement import (get_project_path,\n",
    "                                        load_class_pickle,\n",
    "                                        save_class_pickle,\n",
    "                                        mergedData,\n",
    "                                        correct_acc_class)\n"
   ]
  },
  {
   "attachments": {},
   "cell_type": "markdown",
   "metadata": {},
   "source": [
    "load none ephys pickle"
   ]
  },
  {
   "cell_type": "code",
   "execution_count": 206,
   "metadata": {},
   "outputs": [],
   "source": [
    "subs_to_plot = [\n",
    "    '008', '009', '010', '012', \n",
    "    '013', '014', '016']\n",
    "\n",
    "data_version = 'v3.1'\n",
    "mins_recording = []\n",
    "\n",
    "for sub in subs_to_plot:\n",
    "    # load Acc-detected movement labels\n",
    "    acc = load_class_pickle(os.path.join(\n",
    "        get_project_path('data'),\n",
    "        'merged_sub_data', data_version,\n",
    "        f'{sub}_mergedDataClass_{data_version}_noEphys.P'\n",
    "    ))\n",
    "    acc = correct_acc_class(acc)\n",
    "\n",
    "    mins_recording.append(acc.data.shape[0] / acc.fs / 60)"
   ]
  },
  {
   "attachments": {},
   "cell_type": "markdown",
   "metadata": {},
   "source": [
    "load ephys pickle"
   ]
  },
  {
   "cell_type": "code",
   "execution_count": 13,
   "metadata": {},
   "outputs": [],
   "source": [
    "subs_to_plot = [\n",
    "    # '008', '009', '010', '012', \n",
    "    # '013', '014',\n",
    "    '012',\n",
    "]\n",
    "task = 'rest'\n",
    "data_version = 'v3.1'\n",
    "mins_recording = []\n",
    "\n",
    "for sub in subs_to_plot:\n",
    "    # load Acc-detected movement labels\n",
    "    data = load_class_pickle(os.path.join(\n",
    "        get_project_path('data'), 'windowed_data_classes_60s',\n",
    "        data_version, f'sub-{sub}', task,\n",
    "        f'{sub}_mneEpochs_{task}_{data_version}_win60s_overlap0.5.P'\n",
    "    ))\n",
    "    # acc = correct_acc_class(acc)\n"
   ]
  },
  {
   "cell_type": "code",
   "execution_count": 14,
   "metadata": {},
   "outputs": [
    {
     "data": {
      "text/plain": [
       "(112, 32, 1024)"
      ]
     },
     "execution_count": 14,
     "metadata": {},
     "output_type": "execute_result"
    }
   ],
   "source": [
    "data.list_mne_objects[0].times.shape\n",
    "\n",
    "data.list_mne_objects[0].ch_names\n",
    "\n",
    "data.list_mne_objects[0].get_data().shape"
   ]
  },
  {
   "attachments": {},
   "cell_type": "markdown",
   "metadata": {},
   "source": [
    "#### fooof for spectral features\n",
    "\n",
    "for now decided to use knee-models\n",
    "\n",
    "´fm_knee = FOOOF(\n",
    "    peak_width_limits=(.5, 5),\n",
    "    peak_threshold=.5,\n",
    "    aperiodic_mode='knee', # fixed or knee\n",
    "    verbose=False,\n",
    ")`\n",
    "\n",
    "fm_knee.fit(f, pxx, [4, 148])\n",
    "\n",
    "params:\n",
    "- fm_knee.get_results().error  # error of the fit\n",
    "- fm_knee.get_results().r_squared  # r^2 (goodness) of fit\n",
    "- fm_knee.get_results().aperiodic_params  # offset, knee, exponent OR offset, exponent\n",
    "- fm_knee.get_results().peak_params  # 2d array with pro row one peak's [mid-f, power, bandwidth]\n",
    "- fm_knee.get_results().gaussian_params  # 2d array with Gaussian fits of peaks [mid-f, height, sd]\n"
   ]
  },
  {
   "cell_type": "code",
   "execution_count": 22,
   "metadata": {},
   "outputs": [],
   "source": [
    "from fooof import FOOOF\n",
    "\n",
    "\n",
    "fooof_ft_path = os.path.join(\n",
    "    get_project_path('results'),\n",
    "    'features',\n",
    "    'psds',\n",
    "    'fooofed_psds',\n",
    "    f'{data_version}_60sWin_50overlap',\n",
    "    'fooof_per_10sec'\n",
    ")\n",
    "if not os.path.exists(fooof_ft_path): os.makedirs(fooof_ft_path)\n",
    "\n",
    "fooof_fig_dir = os.path.join(fooof_ft_path, 'plot_checks')"
   ]
  },
  {
   "cell_type": "code",
   "execution_count": 63,
   "metadata": {},
   "outputs": [],
   "source": [
    "\n",
    "fs = data.info['sfreq']\n",
    "nperseg = 1024\n",
    "fooof_range = [4, 98]  # wider window -> more accurate, more comp-time\n",
    "bw_ranges = {   'alpha': [8, 12],\n",
    "                'lo_beta': [12, 20],\n",
    "                'hi_beta': [20, 35],\n",
    "                'midgamma': [60, 90]}\n"
   ]
  },
  {
   "cell_type": "code",
   "execution_count": 85,
   "metadata": {},
   "outputs": [
    {
     "name": "stderr",
     "output_type": "stream",
     "text": [
      "c:\\Users\\habetsj\\Anaconda3\\envs\\ecog_dysk\\lib\\site-packages\\fooof\\core\\funcs.py:67: RuntimeWarning: invalid value encountered in log10\n",
      "  ys = ys + offset - np.log10(knee + xs**exp)\n",
      "c:\\Users\\habetsj\\Anaconda3\\envs\\ecog_dysk\\lib\\site-packages\\fooof\\core\\funcs.py:67: RuntimeWarning: invalid value encountered in log10\n",
      "  ys = ys + offset - np.log10(knee + xs**exp)\n",
      "c:\\Users\\habetsj\\Anaconda3\\envs\\ecog_dysk\\lib\\site-packages\\fooof\\core\\funcs.py:67: RuntimeWarning: invalid value encountered in log10\n",
      "  ys = ys + offset - np.log10(knee + xs**exp)\n",
      "c:\\Users\\habetsj\\Anaconda3\\envs\\ecog_dysk\\lib\\site-packages\\fooof\\core\\funcs.py:67: RuntimeWarning: invalid value encountered in log10\n",
      "  ys = ys + offset - np.log10(knee + xs**exp)\n",
      "c:\\Users\\habetsj\\Anaconda3\\envs\\ecog_dysk\\lib\\site-packages\\fooof\\core\\funcs.py:67: RuntimeWarning: invalid value encountered in log10\n",
      "  ys = ys + offset - np.log10(knee + xs**exp)\n"
     ]
    },
    {
     "name": "stdout",
     "output_type": "stream",
     "text": [
      "WIN 4, ALL epochs: mean R2 0.73 +/- 0.14\n"
     ]
    },
    {
     "name": "stderr",
     "output_type": "stream",
     "text": [
      "c:\\Users\\habetsj\\Anaconda3\\envs\\ecog_dysk\\lib\\site-packages\\fooof\\core\\funcs.py:67: RuntimeWarning: invalid value encountered in log10\n",
      "  ys = ys + offset - np.log10(knee + xs**exp)\n",
      "c:\\Users\\habetsj\\Anaconda3\\envs\\ecog_dysk\\lib\\site-packages\\fooof\\core\\funcs.py:67: RuntimeWarning: invalid value encountered in log10\n",
      "  ys = ys + offset - np.log10(knee + xs**exp)\n",
      "c:\\Users\\habetsj\\Anaconda3\\envs\\ecog_dysk\\lib\\site-packages\\fooof\\core\\funcs.py:67: RuntimeWarning: invalid value encountered in log10\n",
      "  ys = ys + offset - np.log10(knee + xs**exp)\n",
      "c:\\Users\\habetsj\\Anaconda3\\envs\\ecog_dysk\\lib\\site-packages\\fooof\\core\\funcs.py:67: RuntimeWarning: invalid value encountered in log10\n",
      "  ys = ys + offset - np.log10(knee + xs**exp)\n",
      "c:\\Users\\habetsj\\Anaconda3\\envs\\ecog_dysk\\lib\\site-packages\\fooof\\core\\funcs.py:67: RuntimeWarning: invalid value encountered in log10\n",
      "  ys = ys + offset - np.log10(knee + xs**exp)\n",
      "c:\\Users\\habetsj\\Anaconda3\\envs\\ecog_dysk\\lib\\site-packages\\fooof\\core\\funcs.py:67: RuntimeWarning: invalid value encountered in log10\n",
      "  ys = ys + offset - np.log10(knee + xs**exp)\n",
      "c:\\Users\\habetsj\\Anaconda3\\envs\\ecog_dysk\\lib\\site-packages\\fooof\\core\\funcs.py:67: RuntimeWarning: invalid value encountered in log10\n",
      "  ys = ys + offset - np.log10(knee + xs**exp)\n",
      "c:\\Users\\habetsj\\Anaconda3\\envs\\ecog_dysk\\lib\\site-packages\\fooof\\core\\funcs.py:67: RuntimeWarning: invalid value encountered in log10\n",
      "  ys = ys + offset - np.log10(knee + xs**exp)\n"
     ]
    },
    {
     "name": "stdout",
     "output_type": "stream",
     "text": [
      "WIN 5, ALL epochs: mean R2 0.71 +/- 0.15\n"
     ]
    },
    {
     "name": "stderr",
     "output_type": "stream",
     "text": [
      "c:\\Users\\habetsj\\Anaconda3\\envs\\ecog_dysk\\lib\\site-packages\\fooof\\core\\funcs.py:67: RuntimeWarning: invalid value encountered in log10\n",
      "  ys = ys + offset - np.log10(knee + xs**exp)\n",
      "c:\\Users\\habetsj\\Anaconda3\\envs\\ecog_dysk\\lib\\site-packages\\fooof\\core\\funcs.py:67: RuntimeWarning: invalid value encountered in log10\n",
      "  ys = ys + offset - np.log10(knee + xs**exp)\n",
      "c:\\Users\\habetsj\\Anaconda3\\envs\\ecog_dysk\\lib\\site-packages\\fooof\\core\\funcs.py:67: RuntimeWarning: invalid value encountered in log10\n",
      "  ys = ys + offset - np.log10(knee + xs**exp)\n",
      "c:\\Users\\habetsj\\Anaconda3\\envs\\ecog_dysk\\lib\\site-packages\\fooof\\core\\funcs.py:67: RuntimeWarning: invalid value encountered in log10\n",
      "  ys = ys + offset - np.log10(knee + xs**exp)\n",
      "c:\\Users\\habetsj\\Anaconda3\\envs\\ecog_dysk\\lib\\site-packages\\fooof\\core\\funcs.py:67: RuntimeWarning: invalid value encountered in log10\n",
      "  ys = ys + offset - np.log10(knee + xs**exp)\n",
      "c:\\Users\\habetsj\\Anaconda3\\envs\\ecog_dysk\\lib\\site-packages\\fooof\\core\\funcs.py:67: RuntimeWarning: invalid value encountered in log10\n",
      "  ys = ys + offset - np.log10(knee + xs**exp)\n"
     ]
    },
    {
     "name": "stdout",
     "output_type": "stream",
     "text": [
      "WIN 6, ALL epochs: mean R2 0.71 +/- 0.15\n"
     ]
    },
    {
     "name": "stderr",
     "output_type": "stream",
     "text": [
      "c:\\Users\\habetsj\\Anaconda3\\envs\\ecog_dysk\\lib\\site-packages\\fooof\\core\\funcs.py:67: RuntimeWarning: invalid value encountered in log10\n",
      "  ys = ys + offset - np.log10(knee + xs**exp)\n",
      "c:\\Users\\habetsj\\Anaconda3\\envs\\ecog_dysk\\lib\\site-packages\\fooof\\core\\funcs.py:67: RuntimeWarning: invalid value encountered in log10\n",
      "  ys = ys + offset - np.log10(knee + xs**exp)\n",
      "c:\\Users\\habetsj\\Anaconda3\\envs\\ecog_dysk\\lib\\site-packages\\fooof\\core\\funcs.py:67: RuntimeWarning: invalid value encountered in log10\n",
      "  ys = ys + offset - np.log10(knee + xs**exp)\n",
      "c:\\Users\\habetsj\\Anaconda3\\envs\\ecog_dysk\\lib\\site-packages\\fooof\\core\\funcs.py:67: RuntimeWarning: invalid value encountered in log10\n",
      "  ys = ys + offset - np.log10(knee + xs**exp)\n",
      "c:\\Users\\habetsj\\Anaconda3\\envs\\ecog_dysk\\lib\\site-packages\\fooof\\core\\funcs.py:67: RuntimeWarning: invalid value encountered in log10\n",
      "  ys = ys + offset - np.log10(knee + xs**exp)\n",
      "c:\\Users\\habetsj\\Anaconda3\\envs\\ecog_dysk\\lib\\site-packages\\fooof\\core\\funcs.py:67: RuntimeWarning: invalid value encountered in log10\n",
      "  ys = ys + offset - np.log10(knee + xs**exp)\n"
     ]
    },
    {
     "name": "stdout",
     "output_type": "stream",
     "text": [
      "WIN 7, ALL epochs: mean R2 0.71 +/- 0.15\n"
     ]
    },
    {
     "name": "stderr",
     "output_type": "stream",
     "text": [
      "c:\\Users\\habetsj\\Anaconda3\\envs\\ecog_dysk\\lib\\site-packages\\fooof\\core\\funcs.py:67: RuntimeWarning: invalid value encountered in log10\n",
      "  ys = ys + offset - np.log10(knee + xs**exp)\n",
      "c:\\Users\\habetsj\\Anaconda3\\envs\\ecog_dysk\\lib\\site-packages\\fooof\\core\\funcs.py:67: RuntimeWarning: invalid value encountered in log10\n",
      "  ys = ys + offset - np.log10(knee + xs**exp)\n",
      "c:\\Users\\habetsj\\Anaconda3\\envs\\ecog_dysk\\lib\\site-packages\\fooof\\core\\funcs.py:67: RuntimeWarning: invalid value encountered in log10\n",
      "  ys = ys + offset - np.log10(knee + xs**exp)\n",
      "c:\\Users\\habetsj\\Anaconda3\\envs\\ecog_dysk\\lib\\site-packages\\fooof\\core\\funcs.py:67: RuntimeWarning: invalid value encountered in log10\n",
      "  ys = ys + offset - np.log10(knee + xs**exp)\n",
      "c:\\Users\\habetsj\\Anaconda3\\envs\\ecog_dysk\\lib\\site-packages\\fooof\\core\\funcs.py:67: RuntimeWarning: invalid value encountered in log10\n",
      "  ys = ys + offset - np.log10(knee + xs**exp)\n",
      "c:\\Users\\habetsj\\Anaconda3\\envs\\ecog_dysk\\lib\\site-packages\\fooof\\core\\funcs.py:67: RuntimeWarning: invalid value encountered in log10\n",
      "  ys = ys + offset - np.log10(knee + xs**exp)\n",
      "c:\\Users\\habetsj\\Anaconda3\\envs\\ecog_dysk\\lib\\site-packages\\fooof\\core\\funcs.py:67: RuntimeWarning: invalid value encountered in log10\n",
      "  ys = ys + offset - np.log10(knee + xs**exp)\n",
      "c:\\Users\\habetsj\\Anaconda3\\envs\\ecog_dysk\\lib\\site-packages\\fooof\\core\\funcs.py:67: RuntimeWarning: invalid value encountered in log10\n",
      "  ys = ys + offset - np.log10(knee + xs**exp)\n",
      "c:\\Users\\habetsj\\Anaconda3\\envs\\ecog_dysk\\lib\\site-packages\\fooof\\core\\funcs.py:67: RuntimeWarning: invalid value encountered in log10\n",
      "  ys = ys + offset - np.log10(knee + xs**exp)\n",
      "c:\\Users\\habetsj\\Anaconda3\\envs\\ecog_dysk\\lib\\site-packages\\fooof\\core\\funcs.py:67: RuntimeWarning: invalid value encountered in log10\n",
      "  ys = ys + offset - np.log10(knee + xs**exp)\n",
      "c:\\Users\\habetsj\\Anaconda3\\envs\\ecog_dysk\\lib\\site-packages\\fooof\\core\\funcs.py:67: RuntimeWarning: invalid value encountered in log10\n",
      "  ys = ys + offset - np.log10(knee + xs**exp)\n",
      "c:\\Users\\habetsj\\Anaconda3\\envs\\ecog_dysk\\lib\\site-packages\\fooof\\core\\funcs.py:67: RuntimeWarning: invalid value encountered in log10\n",
      "  ys = ys + offset - np.log10(knee + xs**exp)\n"
     ]
    },
    {
     "name": "stdout",
     "output_type": "stream",
     "text": [
      "WIN 8, ALL epochs: mean R2 0.69 +/- 0.17\n"
     ]
    },
    {
     "name": "stderr",
     "output_type": "stream",
     "text": [
      "c:\\Users\\habetsj\\Anaconda3\\envs\\ecog_dysk\\lib\\site-packages\\fooof\\core\\funcs.py:67: RuntimeWarning: invalid value encountered in log10\n",
      "  ys = ys + offset - np.log10(knee + xs**exp)\n",
      "c:\\Users\\habetsj\\Anaconda3\\envs\\ecog_dysk\\lib\\site-packages\\fooof\\core\\funcs.py:67: RuntimeWarning: invalid value encountered in log10\n",
      "  ys = ys + offset - np.log10(knee + xs**exp)\n",
      "c:\\Users\\habetsj\\Anaconda3\\envs\\ecog_dysk\\lib\\site-packages\\fooof\\core\\funcs.py:67: RuntimeWarning: invalid value encountered in log10\n",
      "  ys = ys + offset - np.log10(knee + xs**exp)\n",
      "c:\\Users\\habetsj\\Anaconda3\\envs\\ecog_dysk\\lib\\site-packages\\fooof\\core\\funcs.py:67: RuntimeWarning: invalid value encountered in log10\n",
      "  ys = ys + offset - np.log10(knee + xs**exp)\n",
      "c:\\Users\\habetsj\\Anaconda3\\envs\\ecog_dysk\\lib\\site-packages\\fooof\\core\\funcs.py:67: RuntimeWarning: invalid value encountered in log10\n",
      "  ys = ys + offset - np.log10(knee + xs**exp)\n",
      "c:\\Users\\habetsj\\Anaconda3\\envs\\ecog_dysk\\lib\\site-packages\\fooof\\core\\funcs.py:67: RuntimeWarning: invalid value encountered in log10\n",
      "  ys = ys + offset - np.log10(knee + xs**exp)\n",
      "c:\\Users\\habetsj\\Anaconda3\\envs\\ecog_dysk\\lib\\site-packages\\fooof\\core\\funcs.py:67: RuntimeWarning: invalid value encountered in log10\n",
      "  ys = ys + offset - np.log10(knee + xs**exp)\n",
      "c:\\Users\\habetsj\\Anaconda3\\envs\\ecog_dysk\\lib\\site-packages\\fooof\\core\\funcs.py:67: RuntimeWarning: invalid value encountered in log10\n",
      "  ys = ys + offset - np.log10(knee + xs**exp)\n",
      "c:\\Users\\habetsj\\Anaconda3\\envs\\ecog_dysk\\lib\\site-packages\\fooof\\core\\funcs.py:67: RuntimeWarning: invalid value encountered in log10\n",
      "  ys = ys + offset - np.log10(knee + xs**exp)\n",
      "c:\\Users\\habetsj\\Anaconda3\\envs\\ecog_dysk\\lib\\site-packages\\fooof\\core\\funcs.py:67: RuntimeWarning: invalid value encountered in log10\n",
      "  ys = ys + offset - np.log10(knee + xs**exp)\n",
      "c:\\Users\\habetsj\\Anaconda3\\envs\\ecog_dysk\\lib\\site-packages\\fooof\\core\\funcs.py:67: RuntimeWarning: invalid value encountered in log10\n",
      "  ys = ys + offset - np.log10(knee + xs**exp)\n",
      "c:\\Users\\habetsj\\Anaconda3\\envs\\ecog_dysk\\lib\\site-packages\\fooof\\core\\funcs.py:67: RuntimeWarning: invalid value encountered in log10\n",
      "  ys = ys + offset - np.log10(knee + xs**exp)\n"
     ]
    },
    {
     "name": "stdout",
     "output_type": "stream",
     "text": [
      "WIN 9, ALL epochs: mean R2 0.7 +/- 0.18\n"
     ]
    },
    {
     "name": "stderr",
     "output_type": "stream",
     "text": [
      "c:\\Users\\habetsj\\Anaconda3\\envs\\ecog_dysk\\lib\\site-packages\\fooof\\core\\funcs.py:67: RuntimeWarning: invalid value encountered in log10\n",
      "  ys = ys + offset - np.log10(knee + xs**exp)\n",
      "c:\\Users\\habetsj\\Anaconda3\\envs\\ecog_dysk\\lib\\site-packages\\fooof\\core\\funcs.py:67: RuntimeWarning: invalid value encountered in log10\n",
      "  ys = ys + offset - np.log10(knee + xs**exp)\n",
      "c:\\Users\\habetsj\\Anaconda3\\envs\\ecog_dysk\\lib\\site-packages\\fooof\\core\\funcs.py:67: RuntimeWarning: invalid value encountered in log10\n",
      "  ys = ys + offset - np.log10(knee + xs**exp)\n",
      "c:\\Users\\habetsj\\Anaconda3\\envs\\ecog_dysk\\lib\\site-packages\\fooof\\core\\funcs.py:67: RuntimeWarning: invalid value encountered in log10\n",
      "  ys = ys + offset - np.log10(knee + xs**exp)\n",
      "c:\\Users\\habetsj\\Anaconda3\\envs\\ecog_dysk\\lib\\site-packages\\fooof\\core\\funcs.py:67: RuntimeWarning: invalid value encountered in log10\n",
      "  ys = ys + offset - np.log10(knee + xs**exp)\n",
      "c:\\Users\\habetsj\\Anaconda3\\envs\\ecog_dysk\\lib\\site-packages\\fooof\\core\\funcs.py:67: RuntimeWarning: invalid value encountered in log10\n",
      "  ys = ys + offset - np.log10(knee + xs**exp)\n",
      "c:\\Users\\habetsj\\Anaconda3\\envs\\ecog_dysk\\lib\\site-packages\\fooof\\core\\funcs.py:67: RuntimeWarning: invalid value encountered in log10\n",
      "  ys = ys + offset - np.log10(knee + xs**exp)\n",
      "c:\\Users\\habetsj\\Anaconda3\\envs\\ecog_dysk\\lib\\site-packages\\fooof\\core\\funcs.py:67: RuntimeWarning: invalid value encountered in log10\n",
      "  ys = ys + offset - np.log10(knee + xs**exp)\n",
      "c:\\Users\\habetsj\\Anaconda3\\envs\\ecog_dysk\\lib\\site-packages\\fooof\\core\\funcs.py:67: RuntimeWarning: invalid value encountered in log10\n",
      "  ys = ys + offset - np.log10(knee + xs**exp)\n"
     ]
    },
    {
     "name": "stdout",
     "output_type": "stream",
     "text": [
      "WIN 10, ALL epochs: mean R2 0.69 +/- 0.16\n"
     ]
    },
    {
     "name": "stderr",
     "output_type": "stream",
     "text": [
      "c:\\Users\\habetsj\\Anaconda3\\envs\\ecog_dysk\\lib\\site-packages\\fooof\\core\\funcs.py:67: RuntimeWarning: invalid value encountered in log10\n",
      "  ys = ys + offset - np.log10(knee + xs**exp)\n",
      "c:\\Users\\habetsj\\Anaconda3\\envs\\ecog_dysk\\lib\\site-packages\\fooof\\core\\funcs.py:67: RuntimeWarning: invalid value encountered in log10\n",
      "  ys = ys + offset - np.log10(knee + xs**exp)\n",
      "c:\\Users\\habetsj\\Anaconda3\\envs\\ecog_dysk\\lib\\site-packages\\fooof\\core\\funcs.py:67: RuntimeWarning: invalid value encountered in log10\n",
      "  ys = ys + offset - np.log10(knee + xs**exp)\n",
      "c:\\Users\\habetsj\\Anaconda3\\envs\\ecog_dysk\\lib\\site-packages\\fooof\\core\\funcs.py:67: RuntimeWarning: invalid value encountered in log10\n",
      "  ys = ys + offset - np.log10(knee + xs**exp)\n",
      "c:\\Users\\habetsj\\Anaconda3\\envs\\ecog_dysk\\lib\\site-packages\\fooof\\core\\funcs.py:67: RuntimeWarning: invalid value encountered in log10\n",
      "  ys = ys + offset - np.log10(knee + xs**exp)\n",
      "c:\\Users\\habetsj\\Anaconda3\\envs\\ecog_dysk\\lib\\site-packages\\fooof\\core\\funcs.py:67: RuntimeWarning: invalid value encountered in log10\n",
      "  ys = ys + offset - np.log10(knee + xs**exp)\n",
      "c:\\Users\\habetsj\\Anaconda3\\envs\\ecog_dysk\\lib\\site-packages\\fooof\\core\\funcs.py:67: RuntimeWarning: invalid value encountered in log10\n",
      "  ys = ys + offset - np.log10(knee + xs**exp)\n"
     ]
    },
    {
     "name": "stdout",
     "output_type": "stream",
     "text": [
      "WIN 11, ALL epochs: mean R2 0.68 +/- 0.16\n"
     ]
    },
    {
     "name": "stderr",
     "output_type": "stream",
     "text": [
      "c:\\Users\\habetsj\\Anaconda3\\envs\\ecog_dysk\\lib\\site-packages\\fooof\\core\\funcs.py:67: RuntimeWarning: invalid value encountered in log10\n",
      "  ys = ys + offset - np.log10(knee + xs**exp)\n",
      "c:\\Users\\habetsj\\Anaconda3\\envs\\ecog_dysk\\lib\\site-packages\\fooof\\core\\funcs.py:67: RuntimeWarning: invalid value encountered in log10\n",
      "  ys = ys + offset - np.log10(knee + xs**exp)\n",
      "c:\\Users\\habetsj\\Anaconda3\\envs\\ecog_dysk\\lib\\site-packages\\fooof\\core\\funcs.py:67: RuntimeWarning: invalid value encountered in log10\n",
      "  ys = ys + offset - np.log10(knee + xs**exp)\n",
      "c:\\Users\\habetsj\\Anaconda3\\envs\\ecog_dysk\\lib\\site-packages\\fooof\\core\\funcs.py:67: RuntimeWarning: invalid value encountered in log10\n",
      "  ys = ys + offset - np.log10(knee + xs**exp)\n"
     ]
    },
    {
     "name": "stdout",
     "output_type": "stream",
     "text": [
      "WIN 12, ALL epochs: mean R2 0.7 +/- 0.14\n"
     ]
    },
    {
     "name": "stderr",
     "output_type": "stream",
     "text": [
      "c:\\Users\\habetsj\\Anaconda3\\envs\\ecog_dysk\\lib\\site-packages\\fooof\\core\\funcs.py:67: RuntimeWarning: invalid value encountered in log10\n",
      "  ys = ys + offset - np.log10(knee + xs**exp)\n",
      "c:\\Users\\habetsj\\Anaconda3\\envs\\ecog_dysk\\lib\\site-packages\\fooof\\core\\funcs.py:67: RuntimeWarning: invalid value encountered in log10\n",
      "  ys = ys + offset - np.log10(knee + xs**exp)\n",
      "c:\\Users\\habetsj\\Anaconda3\\envs\\ecog_dysk\\lib\\site-packages\\fooof\\core\\funcs.py:67: RuntimeWarning: invalid value encountered in log10\n",
      "  ys = ys + offset - np.log10(knee + xs**exp)\n",
      "c:\\Users\\habetsj\\Anaconda3\\envs\\ecog_dysk\\lib\\site-packages\\fooof\\core\\funcs.py:67: RuntimeWarning: invalid value encountered in log10\n",
      "  ys = ys + offset - np.log10(knee + xs**exp)\n",
      "c:\\Users\\habetsj\\Anaconda3\\envs\\ecog_dysk\\lib\\site-packages\\fooof\\core\\funcs.py:67: RuntimeWarning: invalid value encountered in log10\n",
      "  ys = ys + offset - np.log10(knee + xs**exp)\n",
      "c:\\Users\\habetsj\\Anaconda3\\envs\\ecog_dysk\\lib\\site-packages\\fooof\\core\\funcs.py:67: RuntimeWarning: invalid value encountered in log10\n",
      "  ys = ys + offset - np.log10(knee + xs**exp)\n",
      "c:\\Users\\habetsj\\Anaconda3\\envs\\ecog_dysk\\lib\\site-packages\\fooof\\core\\funcs.py:67: RuntimeWarning: invalid value encountered in log10\n",
      "  ys = ys + offset - np.log10(knee + xs**exp)\n",
      "c:\\Users\\habetsj\\Anaconda3\\envs\\ecog_dysk\\lib\\site-packages\\fooof\\core\\funcs.py:67: RuntimeWarning: invalid value encountered in log10\n",
      "  ys = ys + offset - np.log10(knee + xs**exp)\n"
     ]
    },
    {
     "name": "stdout",
     "output_type": "stream",
     "text": [
      "WIN 13, ALL epochs: mean R2 0.7 +/- 0.14\n"
     ]
    },
    {
     "name": "stderr",
     "output_type": "stream",
     "text": [
      "c:\\Users\\habetsj\\Anaconda3\\envs\\ecog_dysk\\lib\\site-packages\\fooof\\core\\funcs.py:67: RuntimeWarning: invalid value encountered in log10\n",
      "  ys = ys + offset - np.log10(knee + xs**exp)\n",
      "c:\\Users\\habetsj\\Anaconda3\\envs\\ecog_dysk\\lib\\site-packages\\fooof\\core\\funcs.py:67: RuntimeWarning: invalid value encountered in log10\n",
      "  ys = ys + offset - np.log10(knee + xs**exp)\n",
      "c:\\Users\\habetsj\\Anaconda3\\envs\\ecog_dysk\\lib\\site-packages\\fooof\\core\\funcs.py:67: RuntimeWarning: invalid value encountered in log10\n",
      "  ys = ys + offset - np.log10(knee + xs**exp)\n",
      "c:\\Users\\habetsj\\Anaconda3\\envs\\ecog_dysk\\lib\\site-packages\\fooof\\core\\funcs.py:67: RuntimeWarning: invalid value encountered in log10\n",
      "  ys = ys + offset - np.log10(knee + xs**exp)\n",
      "c:\\Users\\habetsj\\Anaconda3\\envs\\ecog_dysk\\lib\\site-packages\\fooof\\core\\funcs.py:67: RuntimeWarning: invalid value encountered in log10\n",
      "  ys = ys + offset - np.log10(knee + xs**exp)\n",
      "c:\\Users\\habetsj\\Anaconda3\\envs\\ecog_dysk\\lib\\site-packages\\fooof\\core\\funcs.py:67: RuntimeWarning: invalid value encountered in log10\n",
      "  ys = ys + offset - np.log10(knee + xs**exp)\n",
      "c:\\Users\\habetsj\\Anaconda3\\envs\\ecog_dysk\\lib\\site-packages\\fooof\\core\\funcs.py:67: RuntimeWarning: invalid value encountered in log10\n",
      "  ys = ys + offset - np.log10(knee + xs**exp)\n",
      "c:\\Users\\habetsj\\Anaconda3\\envs\\ecog_dysk\\lib\\site-packages\\fooof\\core\\funcs.py:67: RuntimeWarning: invalid value encountered in log10\n",
      "  ys = ys + offset - np.log10(knee + xs**exp)\n",
      "c:\\Users\\habetsj\\Anaconda3\\envs\\ecog_dysk\\lib\\site-packages\\fooof\\core\\funcs.py:67: RuntimeWarning: invalid value encountered in log10\n",
      "  ys = ys + offset - np.log10(knee + xs**exp)\n"
     ]
    },
    {
     "name": "stdout",
     "output_type": "stream",
     "text": [
      "WIN 14, ALL epochs: mean R2 0.69 +/- 0.16\n"
     ]
    },
    {
     "name": "stderr",
     "output_type": "stream",
     "text": [
      "c:\\Users\\habetsj\\Anaconda3\\envs\\ecog_dysk\\lib\\site-packages\\fooof\\core\\funcs.py:67: RuntimeWarning: invalid value encountered in log10\n",
      "  ys = ys + offset - np.log10(knee + xs**exp)\n",
      "c:\\Users\\habetsj\\Anaconda3\\envs\\ecog_dysk\\lib\\site-packages\\fooof\\core\\funcs.py:67: RuntimeWarning: invalid value encountered in log10\n",
      "  ys = ys + offset - np.log10(knee + xs**exp)\n",
      "c:\\Users\\habetsj\\Anaconda3\\envs\\ecog_dysk\\lib\\site-packages\\fooof\\core\\funcs.py:67: RuntimeWarning: invalid value encountered in log10\n",
      "  ys = ys + offset - np.log10(knee + xs**exp)\n",
      "c:\\Users\\habetsj\\Anaconda3\\envs\\ecog_dysk\\lib\\site-packages\\fooof\\core\\funcs.py:67: RuntimeWarning: invalid value encountered in log10\n",
      "  ys = ys + offset - np.log10(knee + xs**exp)\n",
      "c:\\Users\\habetsj\\Anaconda3\\envs\\ecog_dysk\\lib\\site-packages\\fooof\\core\\funcs.py:67: RuntimeWarning: invalid value encountered in log10\n",
      "  ys = ys + offset - np.log10(knee + xs**exp)\n",
      "c:\\Users\\habetsj\\Anaconda3\\envs\\ecog_dysk\\lib\\site-packages\\fooof\\core\\funcs.py:67: RuntimeWarning: invalid value encountered in log10\n",
      "  ys = ys + offset - np.log10(knee + xs**exp)\n",
      "c:\\Users\\habetsj\\Anaconda3\\envs\\ecog_dysk\\lib\\site-packages\\fooof\\core\\funcs.py:67: RuntimeWarning: invalid value encountered in log10\n",
      "  ys = ys + offset - np.log10(knee + xs**exp)\n",
      "c:\\Users\\habetsj\\Anaconda3\\envs\\ecog_dysk\\lib\\site-packages\\fooof\\core\\funcs.py:67: RuntimeWarning: invalid value encountered in log10\n",
      "  ys = ys + offset - np.log10(knee + xs**exp)\n",
      "c:\\Users\\habetsj\\Anaconda3\\envs\\ecog_dysk\\lib\\site-packages\\fooof\\core\\funcs.py:67: RuntimeWarning: invalid value encountered in log10\n",
      "  ys = ys + offset - np.log10(knee + xs**exp)\n",
      "c:\\Users\\habetsj\\Anaconda3\\envs\\ecog_dysk\\lib\\site-packages\\fooof\\core\\funcs.py:67: RuntimeWarning: invalid value encountered in log10\n",
      "  ys = ys + offset - np.log10(knee + xs**exp)\n"
     ]
    },
    {
     "name": "stdout",
     "output_type": "stream",
     "text": [
      "WIN 15, ALL epochs: mean R2 0.71 +/- 0.17\n"
     ]
    },
    {
     "name": "stderr",
     "output_type": "stream",
     "text": [
      "c:\\Users\\habetsj\\Anaconda3\\envs\\ecog_dysk\\lib\\site-packages\\fooof\\core\\funcs.py:67: RuntimeWarning: invalid value encountered in log10\n",
      "  ys = ys + offset - np.log10(knee + xs**exp)\n",
      "c:\\Users\\habetsj\\Anaconda3\\envs\\ecog_dysk\\lib\\site-packages\\fooof\\core\\funcs.py:67: RuntimeWarning: invalid value encountered in log10\n",
      "  ys = ys + offset - np.log10(knee + xs**exp)\n",
      "c:\\Users\\habetsj\\Anaconda3\\envs\\ecog_dysk\\lib\\site-packages\\fooof\\core\\funcs.py:67: RuntimeWarning: invalid value encountered in log10\n",
      "  ys = ys + offset - np.log10(knee + xs**exp)\n",
      "c:\\Users\\habetsj\\Anaconda3\\envs\\ecog_dysk\\lib\\site-packages\\fooof\\core\\funcs.py:67: RuntimeWarning: invalid value encountered in log10\n",
      "  ys = ys + offset - np.log10(knee + xs**exp)\n",
      "c:\\Users\\habetsj\\Anaconda3\\envs\\ecog_dysk\\lib\\site-packages\\fooof\\core\\funcs.py:67: RuntimeWarning: invalid value encountered in log10\n",
      "  ys = ys + offset - np.log10(knee + xs**exp)\n",
      "c:\\Users\\habetsj\\Anaconda3\\envs\\ecog_dysk\\lib\\site-packages\\fooof\\core\\funcs.py:67: RuntimeWarning: invalid value encountered in log10\n",
      "  ys = ys + offset - np.log10(knee + xs**exp)\n",
      "c:\\Users\\habetsj\\Anaconda3\\envs\\ecog_dysk\\lib\\site-packages\\fooof\\core\\funcs.py:67: RuntimeWarning: invalid value encountered in log10\n",
      "  ys = ys + offset - np.log10(knee + xs**exp)\n",
      "c:\\Users\\habetsj\\Anaconda3\\envs\\ecog_dysk\\lib\\site-packages\\fooof\\core\\funcs.py:67: RuntimeWarning: invalid value encountered in log10\n",
      "  ys = ys + offset - np.log10(knee + xs**exp)\n",
      "c:\\Users\\habetsj\\Anaconda3\\envs\\ecog_dysk\\lib\\site-packages\\fooof\\core\\funcs.py:67: RuntimeWarning: invalid value encountered in log10\n",
      "  ys = ys + offset - np.log10(knee + xs**exp)\n",
      "c:\\Users\\habetsj\\Anaconda3\\envs\\ecog_dysk\\lib\\site-packages\\fooof\\core\\funcs.py:67: RuntimeWarning: invalid value encountered in log10\n",
      "  ys = ys + offset - np.log10(knee + xs**exp)\n",
      "c:\\Users\\habetsj\\Anaconda3\\envs\\ecog_dysk\\lib\\site-packages\\fooof\\core\\funcs.py:67: RuntimeWarning: invalid value encountered in log10\n",
      "  ys = ys + offset - np.log10(knee + xs**exp)\n",
      "c:\\Users\\habetsj\\Anaconda3\\envs\\ecog_dysk\\lib\\site-packages\\fooof\\core\\funcs.py:67: RuntimeWarning: invalid value encountered in log10\n",
      "  ys = ys + offset - np.log10(knee + xs**exp)\n"
     ]
    },
    {
     "name": "stdout",
     "output_type": "stream",
     "text": [
      "WIN 16, ALL epochs: mean R2 0.71 +/- 0.17\n"
     ]
    },
    {
     "name": "stderr",
     "output_type": "stream",
     "text": [
      "c:\\Users\\habetsj\\Anaconda3\\envs\\ecog_dysk\\lib\\site-packages\\fooof\\core\\funcs.py:67: RuntimeWarning: invalid value encountered in log10\n",
      "  ys = ys + offset - np.log10(knee + xs**exp)\n",
      "c:\\Users\\habetsj\\Anaconda3\\envs\\ecog_dysk\\lib\\site-packages\\fooof\\core\\funcs.py:67: RuntimeWarning: invalid value encountered in log10\n",
      "  ys = ys + offset - np.log10(knee + xs**exp)\n",
      "c:\\Users\\habetsj\\Anaconda3\\envs\\ecog_dysk\\lib\\site-packages\\fooof\\core\\funcs.py:67: RuntimeWarning: invalid value encountered in log10\n",
      "  ys = ys + offset - np.log10(knee + xs**exp)\n",
      "c:\\Users\\habetsj\\Anaconda3\\envs\\ecog_dysk\\lib\\site-packages\\fooof\\core\\funcs.py:67: RuntimeWarning: invalid value encountered in log10\n",
      "  ys = ys + offset - np.log10(knee + xs**exp)\n",
      "c:\\Users\\habetsj\\Anaconda3\\envs\\ecog_dysk\\lib\\site-packages\\fooof\\core\\funcs.py:67: RuntimeWarning: invalid value encountered in log10\n",
      "  ys = ys + offset - np.log10(knee + xs**exp)\n",
      "c:\\Users\\habetsj\\Anaconda3\\envs\\ecog_dysk\\lib\\site-packages\\fooof\\core\\funcs.py:67: RuntimeWarning: invalid value encountered in log10\n",
      "  ys = ys + offset - np.log10(knee + xs**exp)\n",
      "c:\\Users\\habetsj\\Anaconda3\\envs\\ecog_dysk\\lib\\site-packages\\fooof\\core\\funcs.py:67: RuntimeWarning: invalid value encountered in log10\n",
      "  ys = ys + offset - np.log10(knee + xs**exp)\n",
      "c:\\Users\\habetsj\\Anaconda3\\envs\\ecog_dysk\\lib\\site-packages\\fooof\\core\\funcs.py:67: RuntimeWarning: invalid value encountered in log10\n",
      "  ys = ys + offset - np.log10(knee + xs**exp)\n",
      "c:\\Users\\habetsj\\Anaconda3\\envs\\ecog_dysk\\lib\\site-packages\\fooof\\core\\funcs.py:67: RuntimeWarning: invalid value encountered in log10\n",
      "  ys = ys + offset - np.log10(knee + xs**exp)\n"
     ]
    },
    {
     "name": "stdout",
     "output_type": "stream",
     "text": [
      "WIN 17, ALL epochs: mean R2 0.7 +/- 0.16\n"
     ]
    },
    {
     "name": "stderr",
     "output_type": "stream",
     "text": [
      "c:\\Users\\habetsj\\Anaconda3\\envs\\ecog_dysk\\lib\\site-packages\\fooof\\core\\funcs.py:67: RuntimeWarning: invalid value encountered in log10\n",
      "  ys = ys + offset - np.log10(knee + xs**exp)\n",
      "c:\\Users\\habetsj\\Anaconda3\\envs\\ecog_dysk\\lib\\site-packages\\fooof\\core\\funcs.py:67: RuntimeWarning: invalid value encountered in log10\n",
      "  ys = ys + offset - np.log10(knee + xs**exp)\n",
      "c:\\Users\\habetsj\\Anaconda3\\envs\\ecog_dysk\\lib\\site-packages\\fooof\\core\\funcs.py:67: RuntimeWarning: invalid value encountered in log10\n",
      "  ys = ys + offset - np.log10(knee + xs**exp)\n",
      "c:\\Users\\habetsj\\Anaconda3\\envs\\ecog_dysk\\lib\\site-packages\\fooof\\core\\funcs.py:67: RuntimeWarning: invalid value encountered in log10\n",
      "  ys = ys + offset - np.log10(knee + xs**exp)\n",
      "c:\\Users\\habetsj\\Anaconda3\\envs\\ecog_dysk\\lib\\site-packages\\fooof\\core\\funcs.py:67: RuntimeWarning: invalid value encountered in log10\n",
      "  ys = ys + offset - np.log10(knee + xs**exp)\n",
      "c:\\Users\\habetsj\\Anaconda3\\envs\\ecog_dysk\\lib\\site-packages\\fooof\\core\\funcs.py:67: RuntimeWarning: invalid value encountered in log10\n",
      "  ys = ys + offset - np.log10(knee + xs**exp)\n",
      "c:\\Users\\habetsj\\Anaconda3\\envs\\ecog_dysk\\lib\\site-packages\\fooof\\core\\funcs.py:67: RuntimeWarning: invalid value encountered in log10\n",
      "  ys = ys + offset - np.log10(knee + xs**exp)\n"
     ]
    },
    {
     "name": "stdout",
     "output_type": "stream",
     "text": [
      "WIN 18, ALL epochs: mean R2 0.69 +/- 0.16\n"
     ]
    },
    {
     "name": "stderr",
     "output_type": "stream",
     "text": [
      "c:\\Users\\habetsj\\Anaconda3\\envs\\ecog_dysk\\lib\\site-packages\\fooof\\core\\funcs.py:67: RuntimeWarning: invalid value encountered in log10\n",
      "  ys = ys + offset - np.log10(knee + xs**exp)\n"
     ]
    }
   ],
   "source": [
    "importlib.reload(specHelp)\n",
    "importlib.reload(spectral)\n",
    "\n",
    "save_csv = True\n",
    "plot_examples = False\n",
    "\n",
    "n_epochs2merge = 10 / .5  # desired epoch length / current epoch length\n",
    "\n",
    "\n",
    "for i_win in np.arange(len(data.list_mne_objects))[4:]:\n",
    "    # get spectral power value per window (60-sec)\n",
    "    win_dat = data.list_mne_objects[i_win].get_data()  # epochs x channels x times\n",
    "    chnames = data.list_mne_objects[i_win].ch_names\n",
    "\n",
    "    epoch_feats, epoch_feats_lists = {}, {}\n",
    "    fits = {}\n",
    "\n",
    "    for i_ep in np.arange(0, win_dat.shape[0], int(n_epochs2merge)):\n",
    "        # merge epochs\n",
    "        tempdat = win_dat[i_ep, :, :]\n",
    "        for i2 in np.arange(i_ep + 1, i_ep + n_epochs2merge):\n",
    "            try:\n",
    "                tempdat = np.concatenate((tempdat, win_dat[i2, :, :]), axis=1)\n",
    "            except IndexError:  # exceeds end of array bcs of blind + 20\n",
    "                pass\n",
    "\n",
    "        (\n",
    "            epoch_feats[i_ep],\n",
    "            epoch_feats_lists[i_ep],\n",
    "            fits[i_ep]\n",
    "        ) = spectral.get_fooof_fts_per_epoch(\n",
    "            epoch_dat=tempdat,\n",
    "            ch_names=chnames,\n",
    "            fs=fs,\n",
    "            nperseg=nperseg,\n",
    "            max_n_fooof_peaks=8,\n",
    "            fooof_range=fooof_range,\n",
    "            i_e=i_ep, fooof_fig_dir=fooof_fig_dir,\n",
    "            plot_examples=plot_examples,\n",
    "        )\n",
    "\n",
    "    all_fits = []\n",
    "    for i in fits.keys(): all_fits.extend(fits[i])\n",
    "        \n",
    "    print(f'WIN {i_win}, ALL epochs: mean R2 {round(np.mean(all_fits), 2)} +/- {round(np.std(all_fits), 2)}')\n",
    "\n",
    "    fname = f'fooofPowers_{sub}_{task}_win{i_win}.csv'\n",
    "\n",
    "    winfeats = spectral.create_windowFrame_specFeats(\n",
    "        epoch_feats, save_csv=save_csv,\n",
    "        csv_path=fooof_ft_path, csv_fname=fname,\n",
    "        fooof_fits=fits,\n",
    "    )\n"
   ]
  },
  {
   "cell_type": "code",
   "execution_count": 3,
   "metadata": {},
   "outputs": [],
   "source": [
    "fm = FOOOF(\n",
    "    peak_width_limits=(.5, 5),\n",
    "    peak_threshold=.5,\n",
    "    aperiodic_mode='knee',\n",
    "    verbose=False,\n",
    "    max_n_peaks=5,\n",
    ")\n",
    "\n",
    "win_dat = data.list_mne_objects[i_win].get_data()\n",
    "f, pxx = signal.welch(win_dat[5, 2, :], fs=fs, nperseg=nperseg,)\n",
    "pxx = specHelp.correct_notch_throughs(f, pxx, np.arange(50, 1201, 50))\n",
    "\n",
    "fm.report(f, pxx, [4, 98])\n"
   ]
  },
  {
   "attachments": {},
   "cell_type": "markdown",
   "metadata": {},
   "source": [
    "#### PCA from Analytical Signal for Spectral Powers"
   ]
  },
  {
   "cell_type": "code",
   "execution_count": 9,
   "metadata": {},
   "outputs": [],
   "source": [
    "from lfpecog_features.bursts_funcs import get_envelop\n",
    "import lfpecog_features.bursts_funcs as bursts_funcs"
   ]
  },
  {
   "cell_type": "code",
   "execution_count": 10,
   "metadata": {},
   "outputs": [],
   "source": [
    "import lfpecog_features.feats_helper_funcs as ftHelpers\n",
    "\n"
   ]
  },
  {
   "cell_type": "code",
   "execution_count": 9,
   "metadata": {},
   "outputs": [
    {
     "data": {
      "text/plain": [
       "'c:\\\\Users\\\\habetsj\\\\Research\\\\projects\\\\dyskinesia_neurophys\\\\code'"
      ]
     },
     "execution_count": 9,
     "metadata": {},
     "output_type": "execute_result"
    }
   ],
   "source": [
    "os.getcwd()\n"
   ]
  },
  {
   "cell_type": "code",
   "execution_count": 11,
   "metadata": {},
   "outputs": [],
   "source": [
    "import meet.meet as meet"
   ]
  },
  {
   "cell_type": "code",
   "execution_count": 15,
   "metadata": {},
   "outputs": [],
   "source": [
    "# get data\n",
    "i_win = 5\n",
    "win_dat = data.list_mne_objects[i_win].get_data()  # epochs x channels x times\n",
    "ch_names = data.list_mne_objects[i_win].ch_names\n",
    "fs = data.info['sfreq']\n",
    "nperseg = 1024\n",
    "bw_ranges = {   'alpha': [8, 12],\n",
    "                'lo_beta': [12, 20],\n",
    "                'hi_beta': [20, 35],\n",
    "                'midgamma': [60, 90]}\n"
   ]
  },
  {
   "cell_type": "code",
   "execution_count": 307,
   "metadata": {},
   "outputs": [],
   "source": [
    "import lfpecog_features.feats_mv_spectral_envelops as mv_env"
   ]
  },
  {
   "cell_type": "code",
   "execution_count": 308,
   "metadata": {},
   "outputs": [
    {
     "name": "stdout",
     "output_type": "stream",
     "text": [
      "expl variance, alpha: (0.7906253827995472) [0.52119023 0.16507965 0.1043555 ]\n",
      "expl variance, lo_beta: (0.7299881543291034) [0.51072177 0.13718058 0.0820858 ]\n",
      "expl variance, hi_beta: (0.6460783282006736) [0.36343753 0.17905507 0.10358573]\n",
      "expl variance, midgamma: (0.4390815248680841) [0.22017956 0.11366024 0.10524172]\n"
     ]
    }
   ],
   "source": [
    "importlib.reload(bursts_funcs)\n",
    "importlib.reload(ftHelpers)\n",
    "\n",
    "source_sel = 'LFP_R'\n",
    "bw_incl = ['alpha', 'lo_beta', 'hi_beta', 'midgamma']\n",
    "n_comp = 3\n",
    "epoch_i = 12\n",
    "temp_window = np.hstack([win_dat[e, :, :] for e in np.arange(14, 20, 2)])\n",
    "\n",
    "base_window = np.hstack([win_dat[e, :, :] for e in np.arange(0, 10, 2)])\n",
    "\n",
    "\n",
    "fig, axes = plt.subplots(1 + len(bw_incl), 1, figsize=(12, 9))\n",
    "\n",
    "for i, chname in enumerate(ch_names):\n",
    "\n",
    "    if not chname.startswith(source_sel): continue\n",
    "    \n",
    "    sig = temp_window[i, :]\n",
    "    f, px = signal.welch(sig, fs=fs, nperseg=512)\n",
    "    axes[0].plot(f, px, alpha=.3, lw=.5,)\n",
    "    axes[0].set_xlim(1, 98)\n",
    "    axes[0].set_title('PSD of preprocessed channels')\n",
    "\n",
    "    for row, bw in enumerate(bw_incl):\n",
    "        bl_m, bl_sd = mv_env.get_baseline_env_mean_std(base_window, fs=fs, ch_names=ch_names,\n",
    "                             base_source=source_sel.split('_')[0], base_bw=bw)\n",
    "        env = bursts_funcs.get_envelop(sig, bandpass_freqs=bw, fs=fs)\n",
    "        env = ftHelpers.baseline_zscore(env, bl_m, bl_sd)\n",
    "        axes[row + 1].plot(env, lw=.5, alpha=.3)\n",
    "\n",
    "arr_sig = win_dat[epoch_i, :, :]\n",
    "\n",
    "for row, bw in enumerate(bw_incl):\n",
    "\n",
    "    bl_m, bl_sd = mv_env.get_baseline_env_mean_std(base_window, fs=fs, ch_names=ch_names,\n",
    "                             base_source=source_sel.split('_')[0], base_bw=bw)\n",
    "\n",
    "    exp_var, sig_pca = bursts_funcs.get_multichannel_analyticSignal(\n",
    "        dat=temp_window, fs=fs, bw_sel=bw, ch_names=ch_names,\n",
    "        source_sel=source_sel, return_n_comp=n_comp, zscore_env=True,\n",
    "        use_none_abs_Hilb=False, zscore_m=bl_m, zscore_sd=bl_sd,\n",
    "    )\n",
    "    sig_pca = abs(sig_pca)\n",
    "    print(f'expl variance, {bw}: ({sum(exp_var)}) {exp_var}')\n",
    "    comp_rms = np.around(np.sqrt(np.mean(sig_pca ** 2, axis=1)), 3)\n",
    "    comp_cvar = np.around(stats.variation(sig_pca, axis=1), 3)\n",
    "    comp_mean = np.around(np.mean(sig_pca, axis=1), 3)\n",
    "\n",
    "    comp_colors = ['k', 'purple', 'darkblue', 'blue', 'green']\n",
    "    for c in np.arange(n_comp):\n",
    "\n",
    "        axes[row + 1].plot(sig_pca[c], c=comp_colors[c], alpha=.5, label=f'C{c + 1}: m: {comp_mean[c]}, rms: {comp_rms[c]}, coef-var: {comp_cvar[c]}',)\n",
    "\n",
    "    axes[row + 1].legend(ncol=3)\n",
    "    axes[row + 1].set_title(bw)\n",
    "    # axes[row + 1].set_ylim((0, 10))\n",
    "\n",
    "\n",
    "plt.tight_layout()\n",
    "plt.close()\n",
    "\n"
   ]
  },
  {
   "attachments": {},
   "cell_type": "markdown",
   "metadata": {},
   "source": [
    "#### test SSD with meet toolbox"
   ]
  },
  {
   "cell_type": "code",
   "execution_count": 80,
   "metadata": {},
   "outputs": [],
   "source": [
    "source_sel = 'ECOG'\n",
    "ch_sel = [n.startswith(source_sel) for n in ch_names]\n",
    "epoch_i = 50\n",
    "\n",
    "wide_range = np.r_[15, 35]\n",
    "beta_range = np.r_[20, 30]\n",
    "s_rate = fs\n",
    "\n",
    "epoch_dat = win_dat[epoch_i, ch_sel, :]\n",
    "\n",
    "# filter signals for SSD\n",
    "beta_filt = meet.iir.butterworth(epoch_dat, fp=beta_range,\n",
    "                                 fs=np.r_[0.8,1.2]*beta_range, s_rate=s_rate)\n",
    "\n",
    "wide_filt= meet.iir.butterworth(epoch_dat, fp=wide_range,\n",
    "                                 fs=np.r_[0.8,1.2]*wide_range, s_rate=s_rate)\n",
    "flank_filt = meet.iir.butterworth(wide_filt, fs=beta_range,\n",
    "                                 fp=np.r_[0.8,1.2]*beta_range, s_rate=s_rate)\n",
    "\n",
    "# Perform SSD\n",
    "SSD_filter, SSD_eigvals = meet.spatfilt.CSP(beta_filt, flank_filt)\n",
    "SSD_pattern = meet.spatfilt.pattern_from_filter(SSD_filter, beta_filt)\n",
    "#normalize the pattern to have a maximum absolute value of 1\n",
    "SSD_pattern /= np.abs(SSD_pattern).max(-1)[:,np.newaxis]\n",
    "\n",
    "# Apply SSD filter on beta-filtered signals\n",
    "SSD_beta = SSD_filter.T @ beta_filt\n",
    "# Reduce to univariate signal with Eigenvalues\n",
    "SSD_beta_1d = SSD_beta.T @ SSD_eigvals.T\n",
    "\n",
    "\n",
    "\n",
    "# plt.plot(beta_filt[0])\n",
    "# plt.plot(flank_filt[0])\n",
    "# plt.show()\n",
    "# plt.plot(SSD_beta[0])\n",
    "# plt.show()\n",
    "\n",
    "# # plot PSD after SSD\n",
    "# SSD_filtered_data = SSD_filter.T @ epochdat\n",
    "# f, psd = signal.welch(SSD_filtered_data[0], axis=-1, nperseg=s_rate,\n",
    "#                                  fs=s_rate)\n",
    "# plt.plot(f, psd, label='SSD')\n",
    "# plt.xlim(0, 50)\n",
    "# plt.title('SSD full')\n",
    "# plt.show()\n",
    "# # plt re-SSD PSD\n",
    "# f, psd = signal.welch(epochdat[0], axis=-1, nperseg=s_rate,\n",
    "#                                  fs=s_rate)\n",
    "# plt.plot(f, psd, label='normal')\n",
    "# plt.xlim(0, 50)\n",
    "# plt.title('no ssd')\n",
    "# plt.show()\n",
    "\n",
    "# f, psd = signal.welch(SSD_beta[0], axis=-1, nperseg=s_rate,\n",
    "#                                  fs=s_rate)\n",
    "# plt.plot(f, psd, label='SSD only beta')\n",
    "# plt.xlim(0, 50)\n",
    "# plt.title('SSD only beta')\n",
    "# plt.show()\n",
    "\n",
    "\n"
   ]
  },
  {
   "cell_type": "code",
   "execution_count": 79,
   "metadata": {},
   "outputs": [
    {
     "data": {
      "image/png": "[encoded data removed]",
      "text/plain": [
       "<Figure size 640x480 with 1 Axes>"
      ]
     },
     "metadata": {},
     "output_type": "display_data"
    }
   ],
   "source": [
    "beta1d = SSD_beta.T @ np.atleast_2d(SSD_eigvals).T\n",
    "\n",
    "for i, b in enumerate(SSD_beta):\n",
    "    plt.plot(b, label=f'ch {i}', alpha=.5,)\n",
    "plt.plot(beta1d, label='product', c='k')\n",
    "\n",
    "plt.legend()\n",
    "plt.show()"
   ]
  },
  {
   "cell_type": "code",
   "execution_count": 56,
   "metadata": {},
   "outputs": [],
   "source": [
    "import matplotlib as mpl\n"
   ]
  },
  {
   "cell_type": "code",
   "execution_count": 90,
   "metadata": {},
   "outputs": [],
   "source": [
    "\n",
    "ch = 'ECOG_R_05_06'\n",
    "i_ch = np.where([name == ch for name in data.list_mne_objects[0].ch_names])[0][0]\n",
    "ch_wins = data.list_mne_objects[0].get_data()[:, 0, :]\n",
    "fs = data.info['sfreq']\n",
    "nperseg = 1024"
   ]
  },
  {
   "cell_type": "code",
   "execution_count": 240,
   "metadata": {},
   "outputs": [
    {
     "data": {
      "text/plain": [
       "(5, 10240)"
      ]
     },
     "execution_count": 240,
     "metadata": {},
     "output_type": "execute_result"
    }
   ],
   "source": [
    "chs_incl = np.arange(1, 6)\n",
    "\n",
    "for n, i_ch in enumerate(chs_incl):\n",
    "    temp = data.list_mne_objects[0].get_data()[:20:2, i_ch, :].ravel()\n",
    "    temp = temp.reshape(1, len(temp))\n",
    "\n",
    "    if n == 0: multi_arr = temp\n",
    "    else:\n",
    "        multi_arr = np.concatenate([multi_arr, temp], axis=0)    \n",
    "multi_arr.shape"
   ]
  },
  {
   "cell_type": "code",
   "execution_count": 309,
   "metadata": {},
   "outputs": [],
   "source": [
    "\n",
    "ch = 'ECOG_R_05_06'\n",
    "i_ch = np.where([name == ch for name in data.list_mne_objects[0].ch_names])[0][0]\n",
    "ch_wins = data.list_mne_objects[0].get_data()[:, 0, :]\n",
    "fs = data.info['sfreq']\n",
    "nperseg = 1024\n",
    "\n",
    "fig, axes = plt.subplots(1, 3, figsize=(12, 6))\n",
    "x_see = (5, 98)\n",
    "\n",
    "xlabels = [1, 5, 10, 25, 50, 75, 95, 200, 400]\n",
    "\n",
    "for i_win in np.arange(0, 50):\n",
    "\n",
    "    f, Px = signal.welch(\n",
    "        ch_wins[i_win, :], fs=fs, nperseg=nperseg,\n",
    "    )\n",
    "    f[0] = 1\n",
    "    # Px = Px[1:]\n",
    "    axes[0].plot(\n",
    "        f, Px,\n",
    "        alpha=.2, color='k',)\n",
    "    axes[0].set_xlabel('Freq (Hz)')\n",
    "    axes[0].set_ylabel('Power')\n",
    "    axes[0].set_xticks(xlabels)\n",
    "    axes[0].set_xticklabels(xlabels)\n",
    "    axes[0].set_xlim(x_see)\n",
    "\n",
    "    axes[1].plot(\n",
    "        f, np.log(Px),\n",
    "        alpha=.2, color='k',)\n",
    "    axes[1].set_xticks(xlabels)\n",
    "    axes[1].set_xticklabels(xlabels)\n",
    "    axes[1].set_xlabel('Freq (Hz)')\n",
    "    axes[1].set_ylabel('Log-Power')\n",
    "    axes[1].set_xlim(x_see)\n",
    "\n",
    "    axes[2].plot(\n",
    "        np.log(f), np.log(Px),\n",
    "        alpha=.2, color='k',)\n",
    "    axes[2].set_xticks(np.log(xlabels))\n",
    "    axes[2].set_xticklabels(xlabels)\n",
    "    axes[2].set_xlabel('Log-Freq (Hz)')\n",
    "    axes[2].set_ylabel('Log-Power')\n",
    "    axes[2].set_xlim(np.log(x_see))\n",
    "\n",
    "# add mean\n",
    "f_mean, Px_mean = signal.welch(\n",
    "    ch_wins[:, :], fs=fs, nperseg=nperseg,\n",
    "    axis=1,)\n",
    "f_mean[0] = 1\n",
    "Px_mean = np.mean(Px_mean, axis=0)\n",
    "\n",
    "axes[0].plot(\n",
    "        f_mean, Px_mean,\n",
    "        alpha=.4, color='orange', lw=5,)\n",
    "axes[1].plot(\n",
    "        f_mean, np.log(Px_mean),\n",
    "        alpha=.4, color='orange', lw=5,)\n",
    "axes[2].plot(\n",
    "        np.log(f_mean), np.log(Px_mean),\n",
    "        alpha=.4, color='orange', lw=5,)\n",
    "\n",
    "\n",
    "plt.close()"
   ]
  },
  {
   "attachments": {},
   "cell_type": "markdown",
   "metadata": {},
   "source": [
    "SSD on 2D arrays to get info about spatial patterns"
   ]
  },
  {
   "cell_type": "code",
   "execution_count": 241,
   "metadata": {},
   "outputs": [
    {
     "name": "stdout",
     "output_type": "stream",
     "text": [
      "Setting up band-pass filter from 14 - 18 Hz\n",
      "\n",
      "FIR filter parameters\n",
      "---------------------\n",
      "Designing a one-pass, zero-phase, non-causal bandpass filter:\n",
      "- Windowed time-domain design (firwin) method\n",
      "- Hamming window with 0.0194 passband ripple and 53 dB stopband attenuation\n",
      "- Lower passband edge: 14.00\n",
      "- Lower transition bandwidth: 1.00 Hz (-6 dB cutoff frequency: 13.50 Hz)\n",
      "- Upper passband edge: 18.00 Hz\n",
      "- Upper transition bandwidth: 1.00 Hz (-6 dB cutoff frequency: 18.50 Hz)\n",
      "- Filter length: 6759 samples (3.300 sec)\n",
      "\n",
      "Setting up band-pass filter from 10 - 22 Hz\n",
      "\n",
      "FIR filter parameters\n",
      "---------------------\n",
      "Designing a one-pass, zero-phase, non-causal bandpass filter:\n",
      "- Windowed time-domain design (firwin) method\n",
      "- Hamming window with 0.0194 passband ripple and 53 dB stopband attenuation\n",
      "- Lower passband edge: 10.00\n",
      "- Lower transition bandwidth: 1.00 Hz (-6 dB cutoff frequency: 9.50 Hz)\n",
      "- Upper passband edge: 22.00 Hz\n",
      "- Upper transition bandwidth: 1.00 Hz (-6 dB cutoff frequency: 22.50 Hz)\n",
      "- Filter length: 6759 samples (3.300 sec)\n",
      "\n",
      "Computing rank from data with rank=None\n",
      "    Using tolerance 1.3e-14 (2.2e-16 eps * 5 dim * 12  max singular value)\n",
      "    Estimated rank (eeg): 4\n",
      "    EEG: rank 4 computed from 5 data channels with 0 projectors\n",
      "    Setting small EEG eigenvalues to zero (without PCA)\n",
      "Reducing data rank from 5 -> 4\n",
      "Estimating covariance using OAS\n",
      "Done.\n",
      "Computing rank from data with rank=None\n",
      "    Using tolerance 2e-14 (2.2e-16 eps * 5 dim * 18  max singular value)\n",
      "    Estimated rank (eeg): 4\n",
      "    EEG: rank 4 computed from 5 data channels with 0 projectors\n",
      "    Setting small EEG eigenvalues to zero (without PCA)\n",
      "Reducing data rank from 5 -> 4\n",
      "Estimating covariance using OAS\n",
      "Done.\n"
     ]
    },
    {
     "name": "stderr",
     "output_type": "stream",
     "text": [
      "[Parallel(n_jobs=1)]: Using backend SequentialBackend with 1 concurrent workers.\n",
      "[Parallel(n_jobs=1)]: Done   1 out of   1 | elapsed:    0.0s remaining:    0.0s\n",
      "[Parallel(n_jobs=1)]: Done   2 out of   2 | elapsed:    0.0s remaining:    0.0s\n",
      "[Parallel(n_jobs=1)]: Done   3 out of   3 | elapsed:    0.0s remaining:    0.0s\n",
      "[Parallel(n_jobs=1)]: Done   4 out of   4 | elapsed:    0.0s remaining:    0.0s\n",
      "[Parallel(n_jobs=1)]: Done   5 out of   5 | elapsed:    0.0s finished\n",
      "[Parallel(n_jobs=1)]: Using backend SequentialBackend with 1 concurrent workers.\n",
      "[Parallel(n_jobs=1)]: Done   1 out of   1 | elapsed:    0.0s remaining:    0.0s\n",
      "[Parallel(n_jobs=1)]: Done   2 out of   2 | elapsed:    0.0s remaining:    0.0s\n",
      "[Parallel(n_jobs=1)]: Done   3 out of   3 | elapsed:    0.0s remaining:    0.0s\n",
      "[Parallel(n_jobs=1)]: Done   4 out of   4 | elapsed:    0.0s remaining:    0.0s\n",
      "[Parallel(n_jobs=1)]: Done   5 out of   5 | elapsed:    0.0s finished\n",
      "c:\\Users\\habetsj\\Research\\projects\\dyskinesia_neurophys\\code\\lfpecog_features\\feats_spectral_helpers.py:191: RuntimeWarning: No average EEG reference present in info[\"projs\"], covariance may be adversely affected. Consider recomputing covariance using with an average eeg reference projector added.\n",
      "  ssd_obj.fit(array)\n",
      "c:\\Users\\habetsj\\Research\\projects\\dyskinesia_neurophys\\code\\lfpecog_features\\feats_spectral_helpers.py:191: RuntimeWarning: No average EEG reference present in info[\"projs\"], covariance may be adversely affected. Consider recomputing covariance using with an average eeg reference projector added.\n",
      "  ssd_obj.fit(array)\n"
     ]
    },
    {
     "ename": "LinAlgError",
     "evalue": "The leading minor of order 3 of B is not positive definite. The factorization of B could not be completed and no eigenvalues or eigenvectors were computed.",
     "output_type": "error",
     "traceback": [
      "\u001b[1;31m---------------------------------------------------------------------------\u001b[0m",
      "\u001b[1;31mLinAlgError\u001b[0m                               Traceback (most recent call last)",
      "Cell \u001b[1;32mIn [241], line 2\u001b[0m\n\u001b[0;32m      1\u001b[0m \u001b[39m# Perform SSD # 1\u001b[39;00m\n\u001b[1;32m----> 2\u001b[0m ssd_obj, ssd_sources \u001b[39m=\u001b[39m specHelp\u001b[39m.\u001b[39;49mSSD_on_array(\n\u001b[0;32m      3\u001b[0m     array\u001b[39m=\u001b[39;49mmulti_arr, fs\u001b[39m=\u001b[39;49mfs,\n\u001b[0;32m      4\u001b[0m     freqband_to_optim\u001b[39m=\u001b[39;49m(\u001b[39m14\u001b[39;49m, \u001b[39m18\u001b[39;49m)\n\u001b[0;32m      5\u001b[0m )\n",
      "File \u001b[1;32mc:\\Users\\habetsj\\Research\\projects\\dyskinesia_neurophys\\code\\lfpecog_features\\feats_spectral_helpers.py:191\u001b[0m, in \u001b[0;36mSSD_on_array\u001b[1;34m(array, fs, freqband_to_optim)\u001b[0m\n\u001b[0;32m    179\u001b[0m ssd_obj \u001b[39m=\u001b[39m SSD(\n\u001b[0;32m    180\u001b[0m     info\u001b[39m=\u001b[39mmne_info,\n\u001b[0;32m    181\u001b[0m     reg\u001b[39m=\u001b[39m\u001b[39m'\u001b[39m\u001b[39moas\u001b[39m\u001b[39m'\u001b[39m,\n\u001b[1;32m   (...)\u001b[0m\n\u001b[0;32m    188\u001b[0m     n_fft\u001b[39m=\u001b[39m\u001b[39mlen\u001b[39m(array),\n\u001b[0;32m    189\u001b[0m )\n\u001b[0;32m    190\u001b[0m \u001b[39m# perform SSD\u001b[39;00m\n\u001b[1;32m--> 191\u001b[0m ssd_obj\u001b[39m.\u001b[39;49mfit(array)\n\u001b[0;32m    193\u001b[0m ssd_sources \u001b[39m=\u001b[39m ssd_obj\u001b[39m.\u001b[39mtransform(X\u001b[39m=\u001b[39marray)\n\u001b[0;32m    195\u001b[0m \u001b[39mreturn\u001b[39;00m ssd_obj, ssd_sources\n",
      "File \u001b[1;32mc:\\Users\\habetsj\\Anaconda3\\envs\\ecog_dysk\\lib\\site-packages\\mne\\decoding\\ssd.py:180\u001b[0m, in \u001b[0;36mSSD.fit\u001b[1;34m(self, X, y)\u001b[0m\n\u001b[0;32m    173\u001b[0m cov_signal \u001b[39m=\u001b[39m _regularized_covariance(\n\u001b[0;32m    174\u001b[0m     X_signal, reg\u001b[39m=\u001b[39m\u001b[39mself\u001b[39m\u001b[39m.\u001b[39mreg, method_params\u001b[39m=\u001b[39m\u001b[39mself\u001b[39m\u001b[39m.\u001b[39mcov_method_params,\n\u001b[0;32m    175\u001b[0m     rank\u001b[39m=\u001b[39m\u001b[39mself\u001b[39m\u001b[39m.\u001b[39mrank, info\u001b[39m=\u001b[39m\u001b[39mself\u001b[39m\u001b[39m.\u001b[39minfo)\n\u001b[0;32m    176\u001b[0m cov_noise \u001b[39m=\u001b[39m _regularized_covariance(\n\u001b[0;32m    177\u001b[0m     X_noise, reg\u001b[39m=\u001b[39m\u001b[39mself\u001b[39m\u001b[39m.\u001b[39mreg, method_params\u001b[39m=\u001b[39m\u001b[39mself\u001b[39m\u001b[39m.\u001b[39mcov_method_params,\n\u001b[0;32m    178\u001b[0m     rank\u001b[39m=\u001b[39m\u001b[39mself\u001b[39m\u001b[39m.\u001b[39mrank, info\u001b[39m=\u001b[39m\u001b[39mself\u001b[39m\u001b[39m.\u001b[39minfo)\n\u001b[1;32m--> 180\u001b[0m eigvals_, eigvects_ \u001b[39m=\u001b[39m eigh(cov_signal, cov_noise)\n\u001b[0;32m    181\u001b[0m \u001b[39m# sort in descending order\u001b[39;00m\n\u001b[0;32m    182\u001b[0m ix \u001b[39m=\u001b[39m np\u001b[39m.\u001b[39margsort(eigvals_)[::\u001b[39m-\u001b[39m\u001b[39m1\u001b[39m]\n",
      "File \u001b[1;32mc:\\Users\\habetsj\\Anaconda3\\envs\\ecog_dysk\\lib\\site-packages\\scipy\\linalg\\_decomp.py:580\u001b[0m, in \u001b[0;36meigh\u001b[1;34m(a, b, lower, eigvals_only, overwrite_a, overwrite_b, turbo, eigvals, type, check_finite, subset_by_index, subset_by_value, driver)\u001b[0m\n\u001b[0;32m    577\u001b[0m     \u001b[39mraise\u001b[39;00m LinAlgError(\u001b[39m'\u001b[39m\u001b[39mIllegal value in argument \u001b[39m\u001b[39m{}\u001b[39;00m\u001b[39m of internal \u001b[39m\u001b[39m{}\u001b[39;00m\u001b[39m'\u001b[39m\n\u001b[0;32m    578\u001b[0m                       \u001b[39m'\u001b[39m\u001b[39m'\u001b[39m\u001b[39m.\u001b[39mformat(\u001b[39m-\u001b[39minfo, drv\u001b[39m.\u001b[39mtypecode \u001b[39m+\u001b[39m pfx \u001b[39m+\u001b[39m driver))\n\u001b[0;32m    579\u001b[0m \u001b[39melif\u001b[39;00m info \u001b[39m>\u001b[39m n:\n\u001b[1;32m--> 580\u001b[0m     \u001b[39mraise\u001b[39;00m LinAlgError(\u001b[39m'\u001b[39m\u001b[39mThe leading minor of order \u001b[39m\u001b[39m{}\u001b[39;00m\u001b[39m of B is not \u001b[39m\u001b[39m'\u001b[39m\n\u001b[0;32m    581\u001b[0m                       \u001b[39m'\u001b[39m\u001b[39mpositive definite. The factorization of B \u001b[39m\u001b[39m'\u001b[39m\n\u001b[0;32m    582\u001b[0m                       \u001b[39m'\u001b[39m\u001b[39mcould not be completed and no eigenvalues \u001b[39m\u001b[39m'\u001b[39m\n\u001b[0;32m    583\u001b[0m                       \u001b[39m'\u001b[39m\u001b[39mor eigenvectors were computed.\u001b[39m\u001b[39m'\u001b[39m\u001b[39m.\u001b[39mformat(info\u001b[39m-\u001b[39mn))\n\u001b[0;32m    584\u001b[0m \u001b[39melse\u001b[39;00m:\n\u001b[0;32m    585\u001b[0m     drv_err \u001b[39m=\u001b[39m {\u001b[39m'\u001b[39m\u001b[39mev\u001b[39m\u001b[39m'\u001b[39m: \u001b[39m'\u001b[39m\u001b[39mThe algorithm failed to converge; \u001b[39m\u001b[39m{}\u001b[39;00m\u001b[39m \u001b[39m\u001b[39m'\u001b[39m\n\u001b[0;32m    586\u001b[0m                      \u001b[39m'\u001b[39m\u001b[39moff-diagonal elements of an intermediate \u001b[39m\u001b[39m'\u001b[39m\n\u001b[0;32m    587\u001b[0m                      \u001b[39m'\u001b[39m\u001b[39mtridiagonal form did not converge to zero.\u001b[39m\u001b[39m'\u001b[39m,\n\u001b[1;32m   (...)\u001b[0m\n\u001b[0;32m    592\u001b[0m                \u001b[39m'\u001b[39m\u001b[39mevr\u001b[39m\u001b[39m'\u001b[39m: \u001b[39m'\u001b[39m\u001b[39mInternal Error.\u001b[39m\u001b[39m'\u001b[39m\n\u001b[0;32m    593\u001b[0m                }\n",
      "\u001b[1;31mLinAlgError\u001b[0m: The leading minor of order 3 of B is not positive definite. The factorization of B could not be completed and no eigenvalues or eigenvectors were computed."
     ]
    }
   ],
   "source": [
    "# Perform SSD # 1\n",
    "ssd_obj, ssd_sources = specHelp.SSD_on_array(\n",
    "    array=multi_arr, fs=fs,\n",
    "    freqband_to_optim=(14, 18)\n",
    ")\n",
    "\n",
    "# spec_ratio, sorter = ssd_obj.get_spectral_ratio(ssd_sources)"
   ]
  },
  {
   "cell_type": "code",
   "execution_count": 188,
   "metadata": {},
   "outputs": [
    {
     "name": "stdout",
     "output_type": "stream",
     "text": [
      "Setting up band-pass filter from 16 - 20 Hz\n",
      "\n",
      "FIR filter parameters\n",
      "---------------------\n",
      "Designing a one-pass, zero-phase, non-causal bandpass filter:\n",
      "- Windowed time-domain design (firwin) method\n",
      "- Hamming window with 0.0194 passband ripple and 53 dB stopband attenuation\n",
      "- Lower passband edge: 16.00\n",
      "- Lower transition bandwidth: 1.00 Hz (-6 dB cutoff frequency: 15.50 Hz)\n",
      "- Upper passband edge: 20.00 Hz\n",
      "- Upper transition bandwidth: 1.00 Hz (-6 dB cutoff frequency: 20.50 Hz)\n",
      "- Filter length: 6759 samples (3.300 sec)\n",
      "\n",
      "Setting up band-pass filter from 12 - 24 Hz\n",
      "\n",
      "FIR filter parameters\n",
      "---------------------\n",
      "Designing a one-pass, zero-phase, non-causal bandpass filter:\n",
      "- Windowed time-domain design (firwin) method\n",
      "- Hamming window with 0.0194 passband ripple and 53 dB stopband attenuation\n",
      "- Lower passband edge: 12.00\n",
      "- Lower transition bandwidth: 1.00 Hz (-6 dB cutoff frequency: 11.50 Hz)\n",
      "- Upper passband edge: 24.00 Hz\n",
      "- Upper transition bandwidth: 1.00 Hz (-6 dB cutoff frequency: 24.50 Hz)\n",
      "- Filter length: 6759 samples (3.300 sec)\n",
      "\n",
      "Computing rank from data with rank=None\n",
      "    Using tolerance 2.2e-14 (2.2e-16 eps * 1 dim * 98  max singular value)\n",
      "    Estimated rank (eeg): 1\n",
      "    EEG: rank 1 computed from 1 data channel with 0 projectors\n",
      "Reducing data rank from 1 -> 1\n",
      "Estimating covariance using OAS\n",
      "Done.\n",
      "Computing rank from data with rank=None\n",
      "    Using tolerance 3e-14 (2.2e-16 eps * 1 dim * 1.4e+02  max singular value)\n",
      "    Estimated rank (eeg): 1\n",
      "    EEG: rank 1 computed from 1 data channel with 0 projectors\n",
      "Reducing data rank from 1 -> 1\n",
      "Estimating covariance using OAS\n",
      "Done.\n",
      "(1, 10240)\n",
      "Effective window size : 0.500 (s)\n"
     ]
    },
    {
     "name": "stderr",
     "output_type": "stream",
     "text": [
      "[Parallel(n_jobs=1)]: Using backend SequentialBackend with 1 concurrent workers.\n",
      "[Parallel(n_jobs=1)]: Done   1 out of   1 | elapsed:    0.0s remaining:    0.0s\n",
      "[Parallel(n_jobs=1)]: Done   1 out of   1 | elapsed:    0.0s finished\n",
      "[Parallel(n_jobs=1)]: Using backend SequentialBackend with 1 concurrent workers.\n",
      "[Parallel(n_jobs=1)]: Done   1 out of   1 | elapsed:    0.0s remaining:    0.0s\n",
      "[Parallel(n_jobs=1)]: Done   1 out of   1 | elapsed:    0.0s finished\n",
      "[Parallel(n_jobs=1)]: Using backend SequentialBackend with 1 concurrent workers.\n",
      "[Parallel(n_jobs=1)]: Done   1 out of   1 | elapsed:    0.0s remaining:    0.0s\n",
      "[Parallel(n_jobs=1)]: Done   1 out of   1 | elapsed:    0.0s finished\n"
     ]
    },
    {
     "data": {
      "image/png": "[encoded data removed]",
      "text/plain": [
       "<Figure size 2400x800 with 2 Axes>"
      ]
     },
     "metadata": {},
     "output_type": "display_data"
    }
   ],
   "source": [
    "importlib.reload(specHelp)\n",
    "\n",
    "fig, axes = plt.subplots(1, 2, figsize=(24, 8))\n",
    "\n",
    "xlabels = [1, 5, 10, 25, 50, 75, 100, 200, 400]\n",
    "\n",
    "freqs_ssd = (16, 20)\n",
    "longsig = np.ravel(ch_wins[:20:2, :])\n",
    "sig = np.ravel(ch_wins[18:20, :])\n",
    "\n",
    "ssd_sig = longsig\n",
    "\n",
    "f, Px = signal.welch(\n",
    "    ssd_sig, fs=fs, nperseg=nperseg,\n",
    ")\n",
    "f[0] = 1\n",
    "axes[0].plot(\n",
    "        np.log(f), np.log(Px),\n",
    "        alpha=.5, color='k',)\n",
    "axes[0].set_xticks(np.log(xlabels))\n",
    "axes[0].set_xticklabels(xlabels)\n",
    "axes[0].set_xlabel('Log-Freq (Hz)')\n",
    "axes[0].set_ylabel('Log-Power')\n",
    "axes[0].set_xlim(0, np.log(50))\n",
    "\n",
    "axes[0].set_title('Original')\n",
    "\n",
    "# Perform SSD # 1\n",
    "ssd_obj, ssd_sources = specHelp.SSD_on_array(\n",
    "    array=ssd_sig, fs=fs,\n",
    "    freqband_to_optim=freqs_ssd\n",
    ")\n",
    "print(ssd_sources.shape)\n",
    "psd, freqs = mne.time_frequency.psd_array_welch(\n",
    "    ssd_sources, sfreq=fs, n_fft=1024)\n",
    "\n",
    "freqs[0] = 1\n",
    "axes[1].plot(\n",
    "    np.log(freqs), np.log(np.ravel(psd)),\n",
    "    alpha=.5, color='k',)\n",
    "axes[1].set_xticks(np.log(xlabels))\n",
    "axes[1].set_xticklabels(xlabels)\n",
    "axes[1].set_xlabel('Log-Freq (Hz)')\n",
    "axes[1].set_ylabel('Log-Power')\n",
    "axes[1].set_xlim(0, np.log(50))\n",
    "\n",
    "for ax in axes:\n",
    "    ax.fill_betweenx(\n",
    "        y=ax.get_ylim(),\n",
    "        x1=np.log(freqs_ssd[0]), x2=np.log(freqs_ssd[1]),\n",
    "        color='orange', alpha=.2,)\n",
    "axes[1].set_title(f'After SSD on {freqs_ssd} Hz')\n",
    "\n",
    "plt.show()"
   ]
  },
  {
   "cell_type": "markdown",
   "metadata": {},
   "source": [
    "## SPECTRAL features"
   ]
  },
  {
   "attachments": {},
   "cell_type": "markdown",
   "metadata": {},
   "source": [
    "get fooof running\n"
   ]
  },
  {
   "cell_type": "code",
   "execution_count": 243,
   "metadata": {},
   "outputs": [],
   "source": []
  },
  {
   "cell_type": "code",
   "execution_count": 244,
   "metadata": {},
   "outputs": [],
   "source": []
  },
  {
   "cell_type": "code",
   "execution_count": null,
   "metadata": {},
   "outputs": [],
   "source": []
  },
  {
   "cell_type": "code",
   "execution_count": null,
   "metadata": {},
   "outputs": [],
   "source": []
  },
  {
   "cell_type": "code",
   "execution_count": null,
   "metadata": {},
   "outputs": [
    {
     "name": "stdout",
     "output_type": "stream",
     "text": [
      "selected ecog-channel: ECOG_L_1\n",
      "selected stn-channel: LFP_L_0_1\n",
      "Total time UP + DOWN: 0.62 sec\n",
      "Peak frequencies:\n",
      "Beta ([13, 30] Hz) peak: 17.5 Hz\n",
      "Gamma ([60, 90]) peak: 85.8 Hz\n",
      "Local peak heights:\n",
      "Beta: 2.0678798673600234,\n",
      "Gamma: 2.6860669038169434\n"
     ]
    },
    {
     "data": {
      "image/png": "[encoded data removed]",
      "text/plain": [
       "<Figure size 288x288 with 1 Axes>"
      ]
     },
     "metadata": {
      "needs_background": "light"
     },
     "output_type": "display_data"
    }
   ],
   "source": [
    "from fooof import FOOOF\n",
    "fm = FOOOF()\n",
    "\n",
    "# FOOOF peak definition -> MODULE\n",
    "beta_range = [13, 30]\n",
    "gamma_range = [60, 90]\n",
    "fm = FOOOF(\n",
    "    peak_width_limits=(.5, 5),\n",
    "    peak_threshold=.5,\n",
    "    aperiodic_mode='fixed',\n",
    "    verbose=False,\n",
    ")\n",
    "f_range = [3, 90]\n",
    "fm.fit(fx, psd, f_range)\n",
    "beta_f, beta_P, beta_w = get_band_peak_fm(fm, beta_range, select_highest=True)\n",
    "gamma_f, gamma_P, gamma_w = get_band_peak_fm(fm, gamma_range, select_highest=True)\n",
    "print(f'Peak frequencies:\\nBeta ({beta_range} Hz) peak: '\n",
    "    f'{np.round(beta_f, 1)} Hz\\nGamma ({gamma_range}) peak: '\n",
    "    f'{np.round(gamma_f, 1)} Hz')\n",
    "# fm.plot()\n",
    "# creating bandwidth around Gamma-peak\n",
    "gamma_frange_psd = [\n",
    "    np.argmin(abs(fx - (gamma_f - 5))),\n",
    "    np.argmin(abs(fx - gamma_f)),  # gamma peak freq in psd-frqs\n",
    "    np.argmin(abs(fx - (gamma_f + 5)))\n",
    "]  # gamma freq-range [-5 hz, peak Hz, +5 hz]\n",
    "gamma_peak_height = logpsd[gamma_frange_psd[1]] - np.mean([\n",
    "    logpsd[gamma_frange_psd[0]], logpsd[gamma_frange_psd[2]]\n",
    "])\n",
    "# creating bandwidth around Beta-peak\n",
    "beta_frange_psd = [\n",
    "    np.argmin(abs(fx - (beta_f - 5))),\n",
    "    np.argmin(abs(fx - beta_f)),  # gamma peak freq in psd-frqs\n",
    "    np.argmin(abs(fx - (beta_f + 5)))\n",
    "]  # gamma freq-range [-5 hz, peak Hz, +5 hz]\n",
    "beta_peak_height = logpsd[beta_frange_psd[1]] - np.mean([\n",
    "    logpsd[beta_frange_psd[0]], logpsd[beta_frange_psd[2]]\n",
    "])\n",
    "print(f'Local peak heights:\\nBeta: {beta_peak_height},\\n'\n",
    "    f'Gamma: {gamma_peak_height}')\n",
    "\n",
    "### PLOTTING\n",
    "fig, ax  = plt.subplots(1,1, figsize=(4, 4))\n",
    "ax.plot(fx, logpsd)\n",
    "ax.set_xlim(60, 95)\n",
    "\n",
    "ax.scatter(\n",
    "    fx[gamma_frange_psd],\n",
    "    logpsd[gamma_frange_psd]\n",
    ")\n",
    "\n",
    "plt.show()\n",
    "## take psd plots from before\n",
    "## 4d polynominal fit for gamma peak detect (also beta peak)\n",
    "## beta-gamma power around peak\n",
    "## coherence"
   ]
  },
  {
   "cell_type": "markdown",
   "metadata": {},
   "source": [
    "### 2. Explore spectral domain: Try out wavelet"
   ]
  },
  {
   "cell_type": "code",
   "execution_count": 312,
   "metadata": {},
   "outputs": [],
   "source": [
    "# fig, axes = plt.subplots(\n",
    "#     3, 3, figsize=(12, 9),\n",
    "#     sharey='row',\n",
    "#     gridspec_kw={'height_ratios': [4, 4, 1]})\n",
    "# ts=12\n",
    "# # levels with most beta/gamma roughly:\n",
    "# # ECOG 1; LFP_R: 2-3, 4-5; LFP_L: 1-2, 2-3, 3-4\n",
    "# ephy_ch = {'ecog': 1, 'lfp_left': 4, 'lfp_right': 2}\n",
    "# nsegs = 512\n",
    "# halfseg  = nsegs // 2\n",
    "\n",
    "# runpsds = np.zeros((1, halfseg + 1))  # store ephys windows\n",
    "# prepsds = np.zeros((1, halfseg + 1))\n",
    "# postpsds = np.zeros((1, halfseg + 1))\n",
    "# accside = 'right'\n",
    "# # lfpside = 'lfp_left'\n",
    "# ephys_fs = getattr(SUB08.runs[SUB08.runs_incl[0]],\n",
    "#     f'ecog_Fs')\n",
    "# acc_fs = getattr(SUB08.runs[SUB08.runs_incl[0]],\n",
    "#     f'acc_{accside}_Fs')\n",
    "\n",
    "# accsegs = int(nsegs / ephys_fs * acc_fs)\n",
    "# runaccs = np.zeros((1, accsegs))  # store acc windows\n",
    "\n",
    "# clrs = {\n",
    "#     'Before': 'steelblue',\n",
    "#     'During': 'darkgreen',\n",
    "#     'After':'y'\n",
    "# }\n",
    "# fillparams = {\n",
    "#     'Before': {'color': 'none', 'hatch': '//',\n",
    "#             'edgecolor': clrs['Before'],'alpha': .8,},\n",
    "#     'During': {'color': clrs['During'], 'alpha': .1,},\n",
    "#     'After': {'color': 'none', 'hatch': '\\\\',\n",
    "#             'edgecolor': clrs['After'],'alpha': .8,},\n",
    "# }\n",
    "# run = 'SelfpacedHandTapL_StimOffDopa15'\n",
    "# for i in np.arange(10):\n",
    "#     for col, ephys in enumerate([\n",
    "#         'ecog',\n",
    "#         'lfp_left',\n",
    "#         'lfp_right'\n",
    "#     ]):\n",
    "#         RUN = SUB08.runs[run]\n",
    "#         ch = ephy_ch[ephys]\n",
    "#         chname = getattr(RUN,\n",
    "#             f'{ephys}_names')[ch]\n",
    "#         print(f'CH {ch};\\tephy_ch {ephy_ch} -> {chname}')\n",
    "#         # epoch artefact baselines for run\n",
    "#         runmean = np.mean(getattr(RUN,\n",
    "#             f'{ephys}_arr')[ch, :])\n",
    "#         runstd = np.std(getattr(RUN,\n",
    "#             f'{ephys}_arr')[ch, :])\n",
    "#         SD4 = runmean + runstd * 4  # threshold sd4\n",
    "        \n",
    "#         # calculate acc signal vector magn for run\n",
    "#         acc_svm = np.sqrt(\n",
    "#             getattr(RUN, f'acc_{accside}_arr')[1, :]**2 +\n",
    "#             getattr(RUN, f'acc_{accside}_arr')[2, :]**2 +\n",
    "#             getattr(RUN, f'acc_{accside}_arr')[3, :]**2\n",
    "#         )\n",
    "\n",
    "#         i = 7  # SELECT MOV-BLOCK TO PLOT\n",
    "\n",
    "#         print(f'Acc samples block {i}: {len(runblocks[run][accside][i])}')\n",
    "#         # take start (end) in Acc-blocks\n",
    "#         accstart = runblocks[run][f'{accside}'][i][0]\n",
    "#         # find corresponding timestamp in ephys\n",
    "#         ephystart = np.where(getattr(RUN, f'{ephys}_arr')[\n",
    "#             0, :] == accstart)[0][0]\n",
    "#         accend = runblocks[run][f'{accside}'][i][-1]\n",
    "#         ephyend = np.where(getattr(RUN, f'{ephys}_arr')[\n",
    "#             0, :] == accend)[0][0]\n",
    "#         blockacc = acc_svm[\n",
    "#             int(accstart * acc_fs) - accsegs:\n",
    "#             int(accend * acc_fs) + accsegs\n",
    "#         ]  # selects acc for mov block + segm pre/post\n",
    "#         movdat = getattr(RUN, f'{ephys}_arr')[\n",
    "#             ch, ephystart:ephyend]\n",
    "#         predat = getattr(RUN, f'{ephys}_arr')[\n",
    "#             ch, ephystart - nsegs:ephystart]\n",
    "#         postdat = getattr(RUN, f'{ephys}_arr')[\n",
    "#             ch, ephyend:ephyend + nsegs]\n",
    "#         wavdat = getattr(RUN, f'{ephys}_arr')[\n",
    "#             ch, ephystart - nsegs:ephyend + nsegs]\n",
    "#         wavtime = getattr(RUN, f'{ephys}_arr')[\n",
    "#             ch, ephystart - nsegs:ephyend + nsegs]\n",
    "#         # artefact check\n",
    "#         if np.any([\n",
    "#             np.any(movdat > SD4),\n",
    "#             np.any(postdat > SD4),\n",
    "#             np.any(predat > SD4),\n",
    "#         ]):\n",
    "#             print(f'ARTEFACT: Skip block {i} from '\n",
    "#                     f'{ephys} {run}')\n",
    "#             continue  # skip block\n",
    "\n",
    "#         fs, movpsd = signal.welch(\n",
    "#             movdat,\n",
    "#             fs=ephys_fs,\n",
    "#             nperseg=nsegs, noverlap=halfseg,  #axis=1,\n",
    "#         )  # create arr with welch-psd per window in block\n",
    "#         fs, prepsd = signal.welch(\n",
    "#             predat,\n",
    "#             fs=ephys_fs,\n",
    "#             nperseg=nsegs, noverlap=halfseg,\n",
    "#         )\n",
    "#         fs, postpsd = signal.welch(\n",
    "#             postdat,\n",
    "#             fs=ephys_fs,\n",
    "#             nperseg=nsegs, noverlap=halfseg,\n",
    "#         )\n",
    "\n",
    "#         ### Plot PSD of active blocks in Run\n",
    "#         for label, psd_arr in zip(\n",
    "#             ['Before', 'During', 'After'],\n",
    "#             [prepsd, movpsd, postpsd]  # removed 2d-psds\n",
    "#         ):\n",
    "#             axes[0, col].plot(\n",
    "#                 fs, 10 * np.log10(psd_arr), label=f'{label} movement',\n",
    "#                 c=clrs[label],\n",
    "#             )\n",
    "#         axes[0, col].set_xlabel('Freq (Hz)', size=ts,)\n",
    "#         if col == 0:\n",
    "#             axes[0, col].set_ylabel('Power (10 * log10(Vrms/Hz))', size=ts,)\n",
    "#         axes[0, col].set_xlim(0, 90)\n",
    "#         axes[0, col].set_ylim(-200, -90)\n",
    "#         axes[0, col].set_title(f'{ephys.upper()} ({chname})')\n",
    "#         axes[0, col].legend(\n",
    "#             ncol=1, frameon=False, loc='lower left', fontsize=ts,)\n",
    "#         axes[0, col].spines['right'].set_visible(False)\n",
    "#         axes[0, col].spines['top'].set_visible(False)\n",
    "\n",
    "#         ### Wavelet Decomposition\n",
    "#         w = 8  # depth/spaces?\n",
    "#         wav_f = np.linspace(1, ephys_fs / 2, 100)\n",
    "#         widths = (ephys_fs * w) / (2 * wav_f * np.pi)\n",
    "#         wav_t = np.arange(len(wavdat))\n",
    "#         scp_cfs = signal.cwt(\n",
    "#             wavdat, signal.morlet2, widths=widths,\n",
    "#             w=w, dtype='complex128'\n",
    "#         )\n",
    "#         wavpsd = np.abs(scp_cfs)\n",
    "#         logwavpsd = 10 * np.log10(wavpsd)\n",
    "#         ephybase = getattr(newbase, ephys)\n",
    "#         wavbase = 10 * getattr(ephybase, chname).wavlog['psd']\n",
    "#         wavpsd = logwavpsd - wavbase[:, :logwavpsd.shape[1]]  # absolute\n",
    "#         wavpsd = (wavpsd / np.abs(wavbase[:, :logwavpsd.shape[1]])) * 100  # %\n",
    "#         # Plot change vs base of time-spectral wavelet decomp\n",
    "#         im = axes[1, col].pcolormesh(\n",
    "#             wav_t, wav_f, wavpsd,\n",
    "#             cmap='coolwarm',\n",
    "#             # vmin=-5, vmax=5,  # absolute\n",
    "#             vmin=-50, vmax=50,  # percentage\n",
    "#         )\n",
    "#         cbar = fig.colorbar(\n",
    "#             im, ax=axes[1, col], \n",
    "#             location='bottom', pad=.2,)\n",
    "#         cbar.set_label('% PSD change (10 * log10(Vrms/Hz))', size=ts,)\n",
    "#         # Plot details\n",
    "#         # axes[1, col].set_title(f'{ephys} psd change vs baseline')\n",
    "#         axes[1, col].set_ylim(0, 120)\n",
    "#         axes[1, col].set_xlabel('Time (sec)', size=ts,)\n",
    "#         axes[1, col].set_xticks(np.linspace(\n",
    "#             wav_t[0], wav_t[-1], 5\n",
    "#         ))\n",
    "#         axes[1, col].set_xticklabels(np.round(np.linspace(\n",
    "#             ephystart - nsegs, ephyend + nsegs, 5) / ephys_fs, 1),\n",
    "#             size=ts,)\n",
    "#         if col == 0: axes[1, col].set_ylabel('Freq (Hz)', size=ts,)\n",
    "#         # add Acc-line in Time-Freq plot\n",
    "#         axes[1, col].axvline(\n",
    "#             x=wav_t[nsegs], color=clrs['During'], ls='dashed',)\n",
    "#         axes[1, col].axvline(\n",
    "#             x=wav_t[-nsegs], color=clrs['After'], ls='dashed',)\n",
    "\n",
    "#         ### Plot mean signal vector for ACC\n",
    "#         axes[2, col].plot(\n",
    "#             np.arange(\n",
    "#                 (accstart * acc_fs) - accsegs,\n",
    "#                 (accend * acc_fs) + accsegs\n",
    "#             ), blockacc,\n",
    "#             label=f'Acc\\n({accside})',\n",
    "#             c='k', alpha=.7,\n",
    "#         )\n",
    "#         maxsvm = np.max(blockacc)\n",
    "#         axes[2, col].fill_betweenx(\n",
    "#             y=np.linspace(0, maxsvm, 10),\n",
    "#             x1=accstart * acc_fs, x2=accend * acc_fs,\n",
    "#             color=clrs['During'], alpha=.3,\n",
    "#         )\n",
    "#         axes[2, col].fill_betweenx(\n",
    "#             y=np.linspace(0, maxsvm, 10),\n",
    "#             x1=accstart * acc_fs - accsegs,\n",
    "#             x2=accstart * acc_fs,\n",
    "#             color=clrs['Before'], alpha=.3,\n",
    "#         )\n",
    "#         axes[2, col].fill_betweenx(\n",
    "#             y=np.linspace(0, maxsvm, 10),\n",
    "#             x1=accend * acc_fs,\n",
    "#             x2=accend * acc_fs + accsegs,\n",
    "#             color=clrs['After'], alpha=.3,\n",
    "#         )\n",
    "\n",
    "#         xticks = np.linspace(\n",
    "#             (accstart * acc_fs) - accsegs,\n",
    "#             (accend * acc_fs) + accsegs, 5\n",
    "#         )\n",
    "#         axes[2, col].set_xticks(xticks)\n",
    "#         axes[2, col].set_xticklabels(\n",
    "#             np.round(xticks / acc_fs, 1),\n",
    "#             size=ts,)\n",
    "#         axes[2, col].set_xlabel('Time (sec)', size=ts,)\n",
    "#         if col == 0: axes[2, col].set_ylabel(\n",
    "#             'Acc vector\\n(m/s/s)', size=ts,)\n",
    "#         axes[2, col].legend(\n",
    "#             ncol=1, frameon=False, loc='upper right', \n",
    "#             # bbox_to_anchor=(0.8, -.05)\n",
    "#             fontsize=ts,\n",
    "#         )\n",
    "#         axes[2, col].spines['right'].set_visible(False)\n",
    "#         axes[2, col].spines['top'].set_visible(False)\n",
    "\n",
    "\n",
    "#     title = (f'Mean PSDs around movement blocks: {run}')\n",
    "#     plt.suptitle(title, size=16, x=.5, y=.99, c='gray')\n",
    "#     plt.tight_layout(h_pad=.3)\n",
    "#     fname = f'Mean_PSDs_aroundMov_EcogLfps_Ex_Dopa15_{i}_percCh2'\n",
    "#     fig.savefig(os.path.join(temp_save, fname),\n",
    "#         facecolor='white', dpi=150,)\n",
    "#     plt.close()\n",
    "\n",
    "# #\n"
   ]
  },
  {
   "cell_type": "code",
   "execution_count": 311,
   "metadata": {},
   "outputs": [],
   "source": [
    "# '''\n",
    "# Plot BASE 00, then Selfp over time corrected for BASE\n",
    "# '''\n",
    "\n",
    "\n",
    "# plotruns = [\n",
    "#     'SelfpacedHandTapL_StimOffDopa15',\n",
    "#     'SelfpacedHandTapL_StimOffDopa35',\n",
    "#     'SelfpacedHandTapL_StimOffDopa60'\n",
    "# ]\n",
    "# datasource = 'lfp_right'\n",
    "# clrs = {'left': 'k', 'right': 'green'}\n",
    "\n",
    "# fig, axes = plt.subplots(len(plotruns) + 1, 1, figsize=(12, 12))\n",
    "\n",
    "# base = SUB08.runs['Rest_StimOffDopa00']\n",
    "# Fs_lfp = getattr(base, f'{datasource}_Fs')\n",
    "# Fs_acc = base.acc_left_Fs\n",
    "# istart = 60 * Fs_lfp\n",
    "# istop = 120 * Fs_lfp\n",
    "\n",
    "# basestart = 300 * Fs_lfp  # first minute no rest\n",
    "# basestop = 360 * Fs_lfp\n",
    "# basetime = getattr(base, f'{datasource}_arr')[\n",
    "#     0, basestart:basestop]\n",
    "# basesig = getattr(base, f'{datasource}_arr')[\n",
    "#     1, basestart:basestop]\n",
    "\n",
    "# # Plot BASE\n",
    "# w = 8  # depth/spaces?\n",
    "# base_f = np.linspace(1, Fs_lfp / 2, 100)\n",
    "# widts = (Fs_lfp * w) / (2 * base_f * np.pi)\n",
    "# # mor = signal.morlet2(M=100, s=4, w=2)\n",
    "# scp_cfs = signal.cwt(\n",
    "#     basesig, signal.morlet2, widths=widts,\n",
    "#     w=w, dtype='complex128')\n",
    "# scp_psd = np.abs(scp_cfs)\n",
    "# baselogpsd = 10 * np.log10(scp_psd)\n",
    "\n",
    "# im = axes[0].pcolormesh(\n",
    "#     basetime, base_f, baselogpsd,\n",
    "#     cmap='viridis'\n",
    "# )\n",
    "# cbar = fig.colorbar(im, ax=axes[0], )\n",
    "# cbar.set_label('PSD (10 * log10(psd)')\n",
    "# axes[0].set_title('Baseline: Rest direct after Dopa intake')\n",
    "# axes[0].set_ylabel('Freq (Hz)')\n",
    "\n",
    "\n",
    "# # Plot Tap Runs\n",
    "# for ax, run in enumerate(plotruns):\n",
    "#     sig=getattr(SUB08.runs[run],\n",
    "#         f'{datasource}_arr')[1, istart:istop]\n",
    "#     time=getattr(SUB08.runs[run],\n",
    "#         f'{datasource}_arr')[0, istart:istop]\n",
    "\n",
    "#     # SCIPY WAVELET\n",
    "#     scp_cfs = signal.cwt(\n",
    "#         sig, signal.morlet2, widths=widts,\n",
    "#         w=w, dtype='complex128')\n",
    "#     scp_psd = np.abs(scp_cfs)\n",
    "#     logpsd = 10 * np.log10(scp_psd)\n",
    "#     changepsd = ((logpsd - baselogpsd) / baselogpsd) * 100\n",
    "\n",
    "#     im = axes[ax + 1].pcolormesh(\n",
    "#         time, base_f, changepsd,\n",
    "#         cmap='coolwarm', vmin=-25, vmax=25,\n",
    "#     )\n",
    "#     cbar = fig.colorbar(im, ax=axes[ax + 1], )\n",
    "#     cbar.set_label('PSD % change (10 * log10(psd)')\n",
    "\n",
    "#     axes[ax + 1].set_title(f'{run} (% change vs Rest00)')\n",
    "#     axes[ax + 1].set_ylabel('Freq (Hz)')\n",
    "\n",
    "#     if run in runblocks.keys():\n",
    "#         for side in ['left', 'right']:\n",
    "#             for movb in runblocks[run][side]:\n",
    "#                 if movb == 0:\n",
    "#                     axes[ax + 1].fill_between(\n",
    "#                         y1=0,\n",
    "#                         y2=120,\n",
    "#                         x=time,\n",
    "#                         where=np.logical_and(\n",
    "#                             runblocks[run][side][movb][0] < time,\n",
    "#                             time < runblocks[run][side][movb][-1]),\n",
    "#                         color='none', alpha=.5, hatch='/',\n",
    "#                         edgecolor=clrs[side],\n",
    "#                         label = f'FingerTap {side.upper()} (Acc)',\n",
    "#                     )\n",
    "#                 else:\n",
    "#                     axes[ax + 1].fill_between(\n",
    "#                         y1=0,\n",
    "#                         y2=120,\n",
    "#                         x=time,\n",
    "#                         where=np.logical_and(\n",
    "#                             runblocks[run][side][movb][0] < time,\n",
    "#                             time < runblocks[run][side][movb][-1]),\n",
    "#                         color='none', alpha=.5, hatch='/',\n",
    "#                         edgecolor=clrs[side],\n",
    "#                     )\n",
    "#         axes[ax + 1].legend(loc='upper right',\n",
    "#             bbox_to_anchor=(1.1, -.07),\n",
    "#             frameon=False, ncol=2,\n",
    "#         )\n",
    "                \n",
    "\n",
    "# for ax in axes:\n",
    "#     ax.set_ylim(0, 120)\n",
    "#     ax.set_xlabel('Time (sec)')\n",
    "# fname = (f'Spectral changes ({datasource.upper()}) '\n",
    "#          f'vs ACC (1MIN, sub {SUB08.runs[run].sub})')\n",
    "# plt.suptitle(\n",
    "#     fname,\n",
    "#     color='gray', x=.75, y=.97, size=16)\n",
    "# plt.tight_layout(w_pad=.001, h_pad=.5)\n",
    "# plt.savefig(os.path.join(temp_save, fname),\n",
    "#     dpi=150, facecolor='w',)\n",
    "# plt.show()"
   ]
  },
  {
   "cell_type": "code",
   "execution_count": null,
   "metadata": {},
   "outputs": [
    {
     "data": {
      "text/plain": [
       "[Timestamp('2021-11-15 12:33:40'),\n",
       " Timestamp('2021-11-15 12:33:46'),\n",
       " Timestamp('2021-11-15 12:33:51'),\n",
       " Timestamp('2021-11-15 12:33:56'),\n",
       " Timestamp('2021-11-15 12:34:01'),\n",
       " Timestamp('2021-11-15 12:34:05'),\n",
       " Timestamp('2021-11-15 12:34:10'),\n",
       " Timestamp('2021-11-15 12:34:15'),\n",
       " Timestamp('2021-11-15 12:34:21'),\n",
       " Timestamp('2021-11-15 12:34:25'),\n",
       " Timestamp('2021-11-15 12:34:31'),\n",
       " Timestamp('2021-11-15 12:34:36'),\n",
       " Timestamp('2021-11-15 12:34:42'),\n",
       " Timestamp('2021-11-15 12:34:47'),\n",
       " Timestamp('2021-11-15 12:34:52'),\n",
       " Timestamp('2021-11-15 12:34:58')]"
      ]
     },
     "metadata": {},
     "output_type": "display_data"
    }
   ],
   "source": [
    "run = 'SelfpacedHandTapL_StimOffDopa60'\n",
    "side = 'left'\n",
    "taptimes_video[run][f'{side}_stamps']"
   ]
  },
  {
   "cell_type": "code",
   "execution_count": null,
   "metadata": {},
   "outputs": [],
   "source": [
    "['',\n",
    " 'SelfpacedHandTapL_StimOffDopa60',\n",
    " \n",
    " 'SelfpacedHandTapL_StimOffDopa35',\n",
    " 'SelfpacedHandTapL_StimOffDopa15']"
   ]
  },
  {
   "cell_type": "code",
   "execution_count": null,
   "metadata": {},
   "outputs": [],
   "source": [
    "def wavelet_log(time, Fs, sig):\n",
    "    '''\n",
    "    Morlet Wavelet and returns\n",
    "    logged values\n",
    "    Input:\n",
    "        - time: array with timesamples\n",
    "        - Fs: sample freq\n",
    "        - sig: 1d array of time series of interest\n",
    "    Returns:\n",
    "        - time: unchanged time\n",
    "        - freqs: arr of freq bins\n",
    "        - logpsd: calculated log-psd\n",
    "    '''\n",
    "    assert len(time) == len(sig), print(\n",
    "        '\\nERROR: Length of time and signal-array'\n",
    "        ' for wavelet do not match\\n###'\n",
    "    )\n",
    "    w = 8  # define number of depth/spaces\n",
    "    freqs = np.linspace(1, Fs / 2, 100)\n",
    "    widts = (Fs * w) / (2 * freqs * np.pi)\n",
    "    coefs = signal.cwt(  # wavelet coeff's\n",
    "        sig, signal.morlet2, widths=widts,\n",
    "        w=w, dtype='complex128')\n",
    "    psd = np.abs(coefs)\n",
    "    logpsd = np.log10(psd)\n",
    "\n",
    "    return time, freqs, logpsd\n",
    "    "
   ]
  }
 ],
 "metadata": {
  "kernelspec": {
   "display_name": "Python 3.9.0 ('ecog_dysk')",
   "language": "python",
   "name": "python3"
  },
  "language_info": {
   "codemirror_mode": {
    "name": "ipython",
    "version": 3
   },
   "file_extension": ".py",
   "mimetype": "text/x-python",
   "name": "python",
   "nbconvert_exporter": "python",
   "pygments_lexer": "ipython3",
   "version": "3.9.0"
  },
  "orig_nbformat": 4,
  "vscode": {
   "interpreter": {
    "hash": "2b948574b4cc10c9dd8fa8cab55862e7a8500229b4c7ca6593391d5001a62fb2"
   }
  }
 },
 "nbformat": 4,
 "nbformat_minor": 2
}
