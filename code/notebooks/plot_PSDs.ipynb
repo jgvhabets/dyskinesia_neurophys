{
 "cells": [
  {
   "attachments": {},
   "cell_type": "markdown",
   "metadata": {},
   "source": [
    "## Feature Development Extraction: Neurophysiology [dyskinesia project]\n",
    "\n",
    "\n",
    "\n",
    "\n",
    "<b> Content </b>\n",
    "\n",
    "\n",
    "<b> Aperiodic estimates </b>\n",
    "Relevant literature:\n",
    "- Periodic and a-periodic components relevance and interaction, different reasons (per + a-per) for signal changes observed within a specific bandwidth. Aperiodic component (complicated) vs exponent (1/f) (Donoghue, ..., Shestyuk & Voytek, Nature Neurosc 2020 : https://www.nature.com/articles/s41593-020-00744-x)\n",
    "- cycle-by-cycle features: bycycle toolbox (Cole & Voytek, J of Neurophys 2019, https://journals.physiology.org/doi/full/10.1152/jn.00273.2019)\n",
    "- aperiodic component, PD severity, and cortico-subcortico-activity, Bush & Zou, Richardson, bioRxiv 2023 https://www.biorxiv.org/content/10.1101/2023.02.08.527719v1?rss=1\n",
    "\n",
    "<b> Periodic component analysis: </b> \n",
    "- Try Wavelet Dceomposition vs Welch (tapered) Spectral Decomposition\n",
    "\n",
    "\n",
    "\n"
   ]
  },
  {
   "attachments": {},
   "cell_type": "markdown",
   "metadata": {},
   "source": [
    "### 0. Loading packages and functions, defining paths\n",
    "\n"
   ]
  },
  {
   "cell_type": "code",
   "execution_count": null,
   "metadata": {},
   "outputs": [],
   "source": [
    "# Importing Python and external packages\n",
    "import os\n",
    "import sys\n",
    "import importlib\n",
    "import json\n",
    "import pandas as pd\n",
    "import numpy as np\n",
    "import sklearn as sk\n",
    "\n",
    "import matplotlib.pyplot as plt\n",
    "from  matplotlib import __version__ as plt_version\n",
    "\n"
   ]
  },
  {
   "cell_type": "code",
   "execution_count": null,
   "metadata": {},
   "outputs": [],
   "source": [
    "# check some package versions for documentation and reproducability\n",
    "print('Python sys', sys.version)\n",
    "print('pandas', pd.__version__)\n",
    "print('numpy', np.__version__)\n",
    "# print('mne_bids', mne_bids.__version__)\n",
    "# print('mne', mne.__version__)\n",
    "# print('sci-py', scipy.__version__)\n",
    "print('sci-kit learn', sk.__version__)\n",
    "print('matplotlib', plt_version)\n",
    "## FEB 2022:\n",
    "# Python sys 3.9.7 (default, Sep 16 2021, 08:50:36) \n",
    "# [Clang 10.0.0 ]\n",
    "# pandas 1.3.4\n",
    "# numpy 1.20.3\n",
    "# mne_bids 0.9\n",
    "# mne 0.24.1\n",
    "# sci-py 1.7.1\n",
    "# sci-kit learn 1.0.1"
   ]
  },
  {
   "cell_type": "code",
   "execution_count": null,
   "metadata": {},
   "outputs": [],
   "source": [
    "def get_project_path_in_notebook(\n",
    "    subfolder: str = '',\n",
    "):\n",
    "    \"\"\"\n",
    "    Finds path of projectfolder from Notebook.\n",
    "    Start running this once to correctly find\n",
    "    other modules/functions\n",
    "    \"\"\"\n",
    "    path = os.getcwd()\n",
    "\n",
    "    while path[-20:] != 'dyskinesia_neurophys':\n",
    "\n",
    "        path = os.path.dirname(path)\n",
    "    \n",
    "    return path"
   ]
  },
  {
   "cell_type": "code",
   "execution_count": null,
   "metadata": {},
   "outputs": [],
   "source": [
    "# define local storage directories\n",
    "projectpath = get_project_path_in_notebook()\n",
    "codepath = os.path.join(projectpath, 'code')\n",
    "figpath = os.path.join(projectpath, 'figures')\n",
    "datapath = os.path.join(projectpath, 'data')"
   ]
  },
  {
   "cell_type": "code",
   "execution_count": null,
   "metadata": {},
   "outputs": [],
   "source": [
    "os.chdir(codepath)\n",
    "# own utility functions\n",
    "import utils.utils_fileManagement as utilsFiles\n",
    "import utils.utils_windowing as utilsWindows\n",
    "from utils.utils_fileManagement import (get_project_path,\n",
    "                                        load_class_pickle,\n",
    "                                        save_class_pickle,\n",
    "                                        mergedData,\n",
    "                                        correct_acc_class)\n",
    "\n",
    "# own data exploration functions\n",
    "import lfpecog_preproc.preproc_import_scores_annotations as importClin\n",
    "import lfpecog_analysis.ft_processing_helpers as ftProc\n",
    "\n",
    "import lfpecog_plotting.plotHelpers as plotHelp"
   ]
  },
  {
   "attachments": {},
   "cell_type": "markdown",
   "metadata": {},
   "source": [
    "### Plot ssd'd Spectral Descriptives"
   ]
  },
  {
   "attachments": {},
   "cell_type": "markdown",
   "metadata": {},
   "source": [
    "#### SSD time freq plotting\n"
   ]
  },
  {
   "cell_type": "code",
   "execution_count": null,
   "metadata": {},
   "outputs": [],
   "source": [
    "import lfpecog_plotting.plot_timeFreqs_ssd_psds as plot_ssd_TFs"
   ]
  },
  {
   "cell_type": "code",
   "execution_count": null,
   "metadata": {},
   "outputs": [],
   "source": [
    "WIN_LEN=10\n",
    "WIN_OVERLAP=0.5\n",
    "DATA_VERSION='v4.0'\n",
    "FT_VERSION='v6'\n",
    "SSD_BROAD=True\n",
    "INCL_STN_ONLY_PTS=True\n",
    "IGNORE_PTS=['011', '104', '106']"
   ]
  },
  {
   "cell_type": "code",
   "execution_count": null,
   "metadata": {},
   "outputs": [],
   "source": [
    "importlib.reload(ftProc)\n",
    "importlib.reload(importClin)\n",
    "importlib.reload(plot_ssd_TFs)\n",
    "\n",
    "# CONVERT ONLY STNS!!!!!\n",
    "FIG_DATE = '0000'\n",
    "SUBS = utilsFiles.get_avail_ssd_subs(DATA_VERSION=DATA_VERSION,\n",
    "                          FT_VERSION=FT_VERSION,\n",
    "                          IGNORE_PTS=IGNORE_PTS)\n",
    "print(SUBS)\n",
    "\n",
    "for sub in SUBS:\n",
    "    if sub not in ['023',]:\n",
    "        print(f'skip {sub}')\n",
    "        continue\n",
    "    # # try:\n",
    "    print(f'PLOT SUB-{sub}')\n",
    "    plot_ssd_TFs.plot_indiv_ssd_timefreq_allSources(\n",
    "        sub, fig_name_base=f'{FIG_DATE}_ssdTimeFreq',\n",
    "        FT_VERSION=FT_VERSION,\n",
    "        DATA_VERSION=DATA_VERSION,\n",
    "        ZSCORE=False, LOG_POWER=True,\n",
    "        SAVE_PLOT=True)\n",
    "    # except:\n",
    "    #     print(f'sub {sub} error')"
   ]
  },
  {
   "attachments": {},
   "cell_type": "markdown",
   "metadata": {},
   "source": [
    "#### SSD PSD plotting"
   ]
  },
  {
   "cell_type": "code",
   "execution_count": null,
   "metadata": {},
   "outputs": [],
   "source": [
    "\n",
    "import lfpecog_analysis.get_SSD_timefreqs as ssd_TimeFreq\n"
   ]
  },
  {
   "cell_type": "code",
   "execution_count": null,
   "metadata": {},
   "outputs": [],
   "source": [
    "# WIN_LEN=10\n",
    "# WIN_OVERLAP=0.5\n",
    "# DATA_VERSION='v4.2'\n",
    "# FT_VERSION='v7'\n",
    "# SSD_BROAD=True\n",
    "# INCL_STN_ONLY_PTS=True\n",
    "# IGNORE_PTS=['011', '104', '106']"
   ]
  },
  {
   "cell_type": "code",
   "execution_count": null,
   "metadata": {},
   "outputs": [],
   "source": [
    "SUBS = utilsFiles.get_avail_ssd_subs(DATA_VERSION=DATA_VERSION,\n",
    "                          FT_VERSION=FT_VERSION,\n",
    "                          IGNORE_PTS=IGNORE_PTS)\n",
    "print(SUBS)\n",
    "print(len(SUBS))"
   ]
  },
  {
   "cell_type": "code",
   "execution_count": 107,
   "metadata": {},
   "outputs": [
    {
     "name": "stdout",
     "output_type": "stream",
     "text": [
      "load existing powers for sub-023 (fts: v6, SSD_PSD_023.json)\n",
      "...loaded subject-023 Time-Frequency data\n",
      "load existing powers for sub-022 (fts: v6, SSD_PSD_022.json)\n",
      "...loaded subject-022 Time-Frequency data\n",
      "load existing powers for sub-019 (fts: v6, SSD_PSD_019.json)\n",
      "...loaded subject-019 Time-Frequency data\n",
      "load existing powers for sub-108 (fts: v6, SSD_PSD_108.json)\n",
      "...loaded subject-108 Time-Frequency data\n",
      "load existing powers for sub-101 (fts: v6, SSD_PSD_101.json)\n",
      "...loaded subject-101 Time-Frequency data\n",
      "load existing powers for sub-012 (fts: v6, SSD_PSD_012.json)\n",
      "...loaded subject-012 Time-Frequency data\n",
      "load existing powers for sub-009 (fts: v6, SSD_PSD_009.json)\n",
      "...loaded subject-009 Time-Frequency data\n",
      "load existing powers for sub-107 (fts: v6, SSD_PSD_107.json)\n",
      "...loaded subject-107 Time-Frequency data\n",
      "load existing powers for sub-010 (fts: v6, SSD_PSD_010.json)\n",
      "...loaded subject-010 Time-Frequency data\n",
      "load existing powers for sub-021 (fts: v6, SSD_PSD_021.json)\n",
      "...loaded subject-021 Time-Frequency data\n",
      "load existing powers for sub-103 (fts: v6, SSD_PSD_103.json)\n",
      "...loaded subject-103 Time-Frequency data\n",
      "load existing powers for sub-017 (fts: v6, SSD_PSD_017.json)\n",
      "...loaded subject-017 Time-Frequency data\n",
      "load existing powers for sub-102 (fts: v6, SSD_PSD_102.json)\n",
      "...loaded subject-102 Time-Frequency data\n",
      "load existing powers for sub-008 (fts: v6, SSD_PSD_008.json)\n",
      "...loaded subject-008 Time-Frequency data\n",
      "load existing powers for sub-109 (fts: v6, SSD_PSD_109.json)\n",
      "...loaded subject-109 Time-Frequency data\n",
      "load existing powers for sub-110 (fts: v6, SSD_PSD_110.json)\n",
      "...loaded subject-110 Time-Frequency data\n",
      "load existing powers for sub-105 (fts: v6, SSD_PSD_105.json)\n",
      "...loaded subject-105 Time-Frequency data\n",
      "load existing powers for sub-013 (fts: v6, SSD_PSD_013.json)\n",
      "...loaded subject-013 Time-Frequency data\n",
      "load existing powers for sub-020 (fts: v6, SSD_PSD_020.json)\n",
      "...loaded subject-020 Time-Frequency data\n",
      "load existing powers for sub-016 (fts: v6, SSD_PSD_016.json)\n",
      "...loaded subject-016 Time-Frequency data\n",
      "load existing powers for sub-014 (fts: v6, SSD_PSD_014.json)\n",
      "...loaded subject-014 Time-Frequency data\n"
     ]
    }
   ],
   "source": [
    "importlib.reload(ssd_TimeFreq)\n",
    "\n",
    "\n",
    "TFs = ssd_TimeFreq.get_all_ssd_timeFreqs(\n",
    "    SUBS=SUBS, FT_VERSION=FT_VERSION,\n",
    "    DATA_VERSION=DATA_VERSION,\n",
    ")\n"
   ]
  },
  {
   "cell_type": "code",
   "execution_count": null,
   "metadata": {},
   "outputs": [],
   "source": [
    "import lfpecog_analysis.get_acc_task_derivs as accDerivs\n",
    "import lfpecog_plotting.plot_descriptive_SSD_PSDs as plot_PSDs\n",
    "import lfpecog_plotting.plot_COH_spectra as plot_COHs"
   ]
  },
  {
   "cell_type": "code",
   "execution_count": null,
   "metadata": {},
   "outputs": [],
   "source": [
    "importlib.reload(ftProc)\n",
    "\n",
    "importlib.reload(ssd_TimeFreq)\n",
    "importlib.reload(accDerivs)"
   ]
  },
  {
   "cell_type": "markdown",
   "metadata": {},
   "source": [
    "### Plot Coherence Spectra Densities"
   ]
  },
  {
   "cell_type": "markdown",
   "metadata": {},
   "source": [
    "Plot 4 STN-ECoG Coherencies"
   ]
  },
  {
   "cell_type": "code",
   "execution_count": 126,
   "metadata": {},
   "outputs": [
    {
     "name": "stdout",
     "output_type": "stream",
     "text": [
      "... pickle loading: c:\\Users\\habetsj\\Research\\projects\\dyskinesia_neurophys\\data\\prediction_data\\featLabelClasses\\featLabels_ftv6_Cdrs_StnOnly.P\n",
      "10s-feature class loaded for RMS-ACC selection (c:\\Users\\habetsj\\Research\\projects\\dyskinesia_neurophys\\data\\prediction_data\\featLabelClasses\\featLabels_ftv6_Cdrs_StnOnly.P)\n",
      "skip sub-108\n",
      "skip sub-101\n",
      "skip sub-107\n",
      "skip sub-103\n",
      "skip sub-102\n",
      "skip sub-109\n",
      "skip sub-110\n",
      "skip sub-105\n"
     ]
    },
    {
     "name": "stderr",
     "output_type": "stream",
     "text": [
      "c:\\Users\\habetsj\\Research\\projects\\dyskinesia_neurophys\\code\\lfpecog_plotting\\plot_COH_spectra.py:198: RuntimeWarning: Mean of empty slice\n",
      "  idx = np.arange(len(COHs[k]))\n",
      "c:\\Users\\habetsj\\Anaconda3\\envs\\ecog_dysk\\lib\\site-packages\\numpy\\lib\\nanfunctions.py:1878: RuntimeWarning: Degrees of freedom <= 0 for slice.\n",
      "  var = nanvar(a, axis=axis, dtype=dtype, out=out, ddof=ddof,\n",
      "c:\\Users\\habetsj\\Research\\projects\\dyskinesia_neurophys\\code\\lfpecog_plotting\\plot_COH_spectra.py:211: RuntimeWarning: Mean of empty slice\n",
      "  xlabels) = break_x_axis_psds_ticks(coh_freqs, COHs)\n"
     ]
    },
    {
     "name": "stdout",
     "output_type": "stream",
     "text": [
      "... pickle loading: c:\\Users\\habetsj\\Research\\projects\\dyskinesia_neurophys\\data\\prediction_data\\featLabelClasses\\featLabels_ftv6_Cdrs_StnOnly.P\n",
      "10s-feature class loaded for RMS-ACC selection (c:\\Users\\habetsj\\Research\\projects\\dyskinesia_neurophys\\data\\prediction_data\\featLabelClasses\\featLabels_ftv6_Cdrs_StnOnly.P)\n",
      "skip sub-108\n",
      "skip sub-101\n",
      "skip sub-107\n",
      "skip sub-103\n",
      "skip sub-102\n",
      "skip sub-109\n",
      "skip sub-110\n",
      "skip sub-105\n"
     ]
    },
    {
     "name": "stderr",
     "output_type": "stream",
     "text": [
      "c:\\Users\\habetsj\\Research\\projects\\dyskinesia_neurophys\\code\\lfpecog_plotting\\plot_COH_spectra.py:198: RuntimeWarning: Mean of empty slice\n",
      "  idx = np.arange(len(COHs[k]))\n",
      "c:\\Users\\habetsj\\Anaconda3\\envs\\ecog_dysk\\lib\\site-packages\\numpy\\lib\\nanfunctions.py:1878: RuntimeWarning: Degrees of freedom <= 0 for slice.\n",
      "  var = nanvar(a, axis=axis, dtype=dtype, out=out, ddof=ddof,\n",
      "c:\\Users\\habetsj\\Research\\projects\\dyskinesia_neurophys\\code\\lfpecog_plotting\\plot_COH_spectra.py:211: RuntimeWarning: Mean of empty slice\n",
      "  xlabels) = break_x_axis_psds_ticks(coh_freqs, COHs)\n"
     ]
    },
    {
     "name": "stdout",
     "output_type": "stream",
     "text": [
      "... pickle loading: c:\\Users\\habetsj\\Research\\projects\\dyskinesia_neurophys\\data\\prediction_data\\featLabelClasses\\featLabels_ftv6_Cdrs_StnOnly.P\n",
      "10s-feature class loaded for RMS-ACC selection (c:\\Users\\habetsj\\Research\\projects\\dyskinesia_neurophys\\data\\prediction_data\\featLabelClasses\\featLabels_ftv6_Cdrs_StnOnly.P)\n",
      "skip sub-108\n",
      "skip sub-101\n",
      "skip sub-107\n",
      "skip sub-103\n",
      "skip sub-102\n",
      "skip sub-109\n",
      "skip sub-110\n",
      "skip sub-105\n"
     ]
    },
    {
     "name": "stderr",
     "output_type": "stream",
     "text": [
      "c:\\Users\\habetsj\\Research\\projects\\dyskinesia_neurophys\\code\\lfpecog_plotting\\plot_COH_spectra.py:198: RuntimeWarning: Mean of empty slice\n",
      "  idx = np.arange(len(COHs[k]))\n",
      "c:\\Users\\habetsj\\Anaconda3\\envs\\ecog_dysk\\lib\\site-packages\\numpy\\lib\\nanfunctions.py:1878: RuntimeWarning: Degrees of freedom <= 0 for slice.\n",
      "  var = nanvar(a, axis=axis, dtype=dtype, out=out, ddof=ddof,\n",
      "c:\\Users\\habetsj\\Research\\projects\\dyskinesia_neurophys\\code\\lfpecog_plotting\\plot_COH_spectra.py:211: RuntimeWarning: Mean of empty slice\n",
      "  xlabels) = break_x_axis_psds_ticks(coh_freqs, COHs)\n"
     ]
    },
    {
     "name": "stdout",
     "output_type": "stream",
     "text": [
      "... pickle loading: c:\\Users\\habetsj\\Research\\projects\\dyskinesia_neurophys\\data\\prediction_data\\featLabelClasses\\featLabels_ftv6_Cdrs_StnOnly.P\n",
      "10s-feature class loaded for RMS-ACC selection (c:\\Users\\habetsj\\Research\\projects\\dyskinesia_neurophys\\data\\prediction_data\\featLabelClasses\\featLabels_ftv6_Cdrs_StnOnly.P)\n",
      "skip sub-108\n",
      "skip sub-101\n",
      "skip sub-107\n",
      "skip sub-103\n",
      "skip sub-102\n",
      "skip sub-109\n",
      "skip sub-110\n",
      "skip sub-105\n"
     ]
    },
    {
     "name": "stderr",
     "output_type": "stream",
     "text": [
      "c:\\Users\\habetsj\\Research\\projects\\dyskinesia_neurophys\\code\\lfpecog_plotting\\plot_COH_spectra.py:198: RuntimeWarning: Mean of empty slice\n",
      "  idx = np.arange(len(COHs[k]))\n",
      "c:\\Users\\habetsj\\Anaconda3\\envs\\ecog_dysk\\lib\\site-packages\\numpy\\lib\\nanfunctions.py:1878: RuntimeWarning: Degrees of freedom <= 0 for slice.\n",
      "  var = nanvar(a, axis=axis, dtype=dtype, out=out, ddof=ddof,\n",
      "c:\\Users\\habetsj\\Research\\projects\\dyskinesia_neurophys\\code\\lfpecog_plotting\\plot_COH_spectra.py:211: RuntimeWarning: Mean of empty slice\n",
      "  xlabels) = break_x_axis_psds_ticks(coh_freqs, COHs)\n"
     ]
    }
   ],
   "source": [
    "importlib.reload(plot_COHs)\n",
    "\n",
    "FIG_DATE = '1025'\n",
    "CUT_MILD_MOD = 4\n",
    "CUT_MOD_SEV = 8\n",
    "INCL_CORE_CDRS = False\n",
    "SAVE_PLOT = True\n",
    "SHOW_PLOT = False\n",
    "FILE_NAME = (f'{FIG_DATE}_STNECOG_4_COHs'\n",
    "            f'_{CUT_MILD_MOD}mod{CUT_MOD_SEV}sev')\n",
    "if not INCL_CORE_CDRS: FILE_NAME += '_noCore'\n",
    "\n",
    "fig, axes = plt.subplots(2, 2, figsize=(12, 12),\n",
    "                         sharey='row')\n",
    "\n",
    "for i_row, COH_type in enumerate(['sq_coh', 'imag_coh']):\n",
    "    \n",
    "    for i_col, MOV in enumerate(['INCL_MOVE', 'EXCL_MOVE']):\n",
    "\n",
    "        axes[i_row, i_col] = plot_COHs.plot_COH_spectra(\n",
    "            COH_type=COH_type, COH_source='STN_ECOG',\n",
    "            SELECT_ON_ACC_RMS=MOV,\n",
    "            RETURN_AX=True,\n",
    "            given_ax=axes[i_row, i_col],\n",
    "            CUT_MILD_MOD=CUT_MILD_MOD,\n",
    "            CUT_MOD_SEV=CUT_MOD_SEV,\n",
    "            INCL_CORE_CDRS=INCL_CORE_CDRS,\n",
    "        )\n",
    "\n",
    "if SAVE_PLOT:\n",
    "    path = os.path.join(get_project_path('figures'),\n",
    "                'ft_exploration',\n",
    "                f'data_{DATA_VERSION}_ft_{FT_VERSION}',\n",
    "                'descr_COHs')\n",
    "    if not os.path.exists(path): os.makedirs(path)\n",
    "    plt.savefig(os.path.join(path, FILE_NAME),\n",
    "                facecolor='w', dpi=300,)\n",
    "\n",
    "if SHOW_PLOT: plt.show()\n",
    "else: plt.close()"
   ]
  },
  {
   "cell_type": "markdown",
   "metadata": {},
   "source": [
    "Plot 4 STN-STN Coherencies"
   ]
  },
  {
   "cell_type": "code",
   "execution_count": 103,
   "metadata": {},
   "outputs": [
    {
     "name": "stdout",
     "output_type": "stream",
     "text": [
      "... pickle loading: c:\\Users\\habetsj\\Research\\projects\\dyskinesia_neurophys\\data\\prediction_data\\featLabelClasses\\featLabels_ftv6_Cdrs_StnOnly.P\n",
      "10s-feature class loaded for RMS-ACC selection (c:\\Users\\habetsj\\Research\\projects\\dyskinesia_neurophys\\data\\prediction_data\\featLabelClasses\\featLabels_ftv6_Cdrs_StnOnly.P)\n"
     ]
    },
    {
     "name": "stderr",
     "output_type": "stream",
     "text": [
      "c:\\Users\\habetsj\\Research\\projects\\dyskinesia_neurophys\\code\\lfpecog_plotting\\plot_COH_spectra.py:189: RuntimeWarning: Mean of empty slice\n",
      "  if PLOT_STD_ERR: COHs['sd'] = COHs['sd'] / np.sqrt(cohs.shape[0])\n",
      "c:\\Users\\habetsj\\Anaconda3\\envs\\ecog_dysk\\lib\\site-packages\\numpy\\lib\\nanfunctions.py:1878: RuntimeWarning: Degrees of freedom <= 0 for slice.\n",
      "  var = nanvar(a, axis=axis, dtype=dtype, out=out, ddof=ddof,\n",
      "c:\\Users\\habetsj\\Research\\projects\\dyskinesia_neurophys\\code\\lfpecog_plotting\\plot_COH_spectra.py:202: RuntimeWarning: Mean of empty slice\n",
      "  idx < (i_v + s_win))\n"
     ]
    },
    {
     "name": "stdout",
     "output_type": "stream",
     "text": [
      "... pickle loading: c:\\Users\\habetsj\\Research\\projects\\dyskinesia_neurophys\\data\\prediction_data\\featLabelClasses\\featLabels_ftv6_Cdrs_StnOnly.P\n",
      "10s-feature class loaded for RMS-ACC selection (c:\\Users\\habetsj\\Research\\projects\\dyskinesia_neurophys\\data\\prediction_data\\featLabelClasses\\featLabels_ftv6_Cdrs_StnOnly.P)\n"
     ]
    },
    {
     "name": "stderr",
     "output_type": "stream",
     "text": [
      "c:\\Users\\habetsj\\Research\\projects\\dyskinesia_neurophys\\code\\lfpecog_plotting\\plot_COH_spectra.py:189: RuntimeWarning: Mean of empty slice\n",
      "  if PLOT_STD_ERR: COHs['sd'] = COHs['sd'] / np.sqrt(cohs.shape[0])\n",
      "c:\\Users\\habetsj\\Anaconda3\\envs\\ecog_dysk\\lib\\site-packages\\numpy\\lib\\nanfunctions.py:1878: RuntimeWarning: Degrees of freedom <= 0 for slice.\n",
      "  var = nanvar(a, axis=axis, dtype=dtype, out=out, ddof=ddof,\n",
      "c:\\Users\\habetsj\\Research\\projects\\dyskinesia_neurophys\\code\\lfpecog_plotting\\plot_COH_spectra.py:202: RuntimeWarning: Mean of empty slice\n",
      "  idx < (i_v + s_win))\n"
     ]
    },
    {
     "name": "stdout",
     "output_type": "stream",
     "text": [
      "... pickle loading: c:\\Users\\habetsj\\Research\\projects\\dyskinesia_neurophys\\data\\prediction_data\\featLabelClasses\\featLabels_ftv6_Cdrs_StnOnly.P\n",
      "10s-feature class loaded for RMS-ACC selection (c:\\Users\\habetsj\\Research\\projects\\dyskinesia_neurophys\\data\\prediction_data\\featLabelClasses\\featLabels_ftv6_Cdrs_StnOnly.P)\n"
     ]
    },
    {
     "name": "stderr",
     "output_type": "stream",
     "text": [
      "c:\\Users\\habetsj\\Research\\projects\\dyskinesia_neurophys\\code\\lfpecog_plotting\\plot_COH_spectra.py:189: RuntimeWarning: Mean of empty slice\n",
      "  if PLOT_STD_ERR: COHs['sd'] = COHs['sd'] / np.sqrt(cohs.shape[0])\n",
      "c:\\Users\\habetsj\\Anaconda3\\envs\\ecog_dysk\\lib\\site-packages\\numpy\\lib\\nanfunctions.py:1878: RuntimeWarning: Degrees of freedom <= 0 for slice.\n",
      "  var = nanvar(a, axis=axis, dtype=dtype, out=out, ddof=ddof,\n",
      "c:\\Users\\habetsj\\Research\\projects\\dyskinesia_neurophys\\code\\lfpecog_plotting\\plot_COH_spectra.py:202: RuntimeWarning: Mean of empty slice\n",
      "  idx < (i_v + s_win))\n"
     ]
    },
    {
     "name": "stdout",
     "output_type": "stream",
     "text": [
      "... pickle loading: c:\\Users\\habetsj\\Research\\projects\\dyskinesia_neurophys\\data\\prediction_data\\featLabelClasses\\featLabels_ftv6_Cdrs_StnOnly.P\n",
      "10s-feature class loaded for RMS-ACC selection (c:\\Users\\habetsj\\Research\\projects\\dyskinesia_neurophys\\data\\prediction_data\\featLabelClasses\\featLabels_ftv6_Cdrs_StnOnly.P)\n"
     ]
    },
    {
     "name": "stderr",
     "output_type": "stream",
     "text": [
      "c:\\Users\\habetsj\\Research\\projects\\dyskinesia_neurophys\\code\\lfpecog_plotting\\plot_COH_spectra.py:189: RuntimeWarning: Mean of empty slice\n",
      "  if PLOT_STD_ERR: COHs['sd'] = COHs['sd'] / np.sqrt(cohs.shape[0])\n",
      "c:\\Users\\habetsj\\Anaconda3\\envs\\ecog_dysk\\lib\\site-packages\\numpy\\lib\\nanfunctions.py:1878: RuntimeWarning: Degrees of freedom <= 0 for slice.\n",
      "  var = nanvar(a, axis=axis, dtype=dtype, out=out, ddof=ddof,\n",
      "c:\\Users\\habetsj\\Research\\projects\\dyskinesia_neurophys\\code\\lfpecog_plotting\\plot_COH_spectra.py:202: RuntimeWarning: Mean of empty slice\n",
      "  idx < (i_v + s_win))\n"
     ]
    }
   ],
   "source": [
    "## PLOT STN-STN COHERENCES\n",
    "importlib.reload(plot_COHs)\n",
    "\n",
    "SAVE_PLOT = True\n",
    "SHOW_PLOT = False\n",
    "FILE_NAME = '1025_STNSTN_4_COHs'\n",
    "\n",
    "fig, axes = plt.subplots(2, 2, figsize=(12, 12),\n",
    "                         sharey='row')\n",
    "\n",
    "for i_row, COH_type in enumerate(['sq_coh', 'imag_coh']):\n",
    "    \n",
    "    for i_col, MOV in enumerate(['INCL_MOVE', 'EXCL_MOVE']):\n",
    "\n",
    "        axes[i_row, i_col] = plot_COHs.plot_COH_spectra(\n",
    "            COH_type=COH_type, COH_source='STN_STN',\n",
    "            SELECT_ON_ACC_RMS=MOV,\n",
    "            RETURN_AX=True,\n",
    "            given_ax=axes[i_row, i_col]\n",
    "        )\n",
    "\n",
    "if SAVE_PLOT:\n",
    "    path = os.path.join(get_project_path('figures'),\n",
    "                'ft_exploration',\n",
    "                f'data_{DATA_VERSION}_ft_{FT_VERSION}',\n",
    "                'descr_COHs')\n",
    "    if not os.path.exists(path): os.makedirs(path)\n",
    "    plt.savefig(os.path.join(path, FILE_NAME),\n",
    "                facecolor='w', dpi=300,)\n",
    "\n",
    "if SHOW_PLOT: plt.show()\n",
    "else: plt.close()\n"
   ]
  },
  {
   "attachments": {},
   "cell_type": "markdown",
   "metadata": {},
   "source": [
    "##### Plot Group Results: Spectral changes over Time after L-Dopa, non-LID versus LID"
   ]
  },
  {
   "cell_type": "code",
   "execution_count": null,
   "metadata": {},
   "outputs": [],
   "source": [
    "importlib.reload(plot_PSDs)\n",
    "\n",
    "# PM, needs: TFs = ssd_TimeFreq.get_all_ssd_timeFreqs(SUBS=SUBS)\n",
    "\n",
    "SAVE=True\n",
    "SHOW=False\n",
    "\n",
    "SAVE_DATE = '1023'\n",
    "STN_or_ECOG='STN'\n",
    "ZSCORE_FREQS=False\n",
    "SMOOTH_FREQS=6\n",
    "LOG_POWER=False\n",
    "BASELINE_CORRECT=True\n",
    "\n",
    "subs_LID, subs_noLID = ftProc.split_lid_subs(\n",
    "    DATA_VERSION=DATA_VERSION,\n",
    "    FT_VERSION=FT_VERSION\n",
    ")\n",
    "n_subs_incl = len(subs_LID) + len(subs_noLID)\n",
    "\n",
    "fig_name = f'{SAVE_DATE}_{STN_or_ECOG}_PSDs_noLID_LID_vs_DopaTime_n{n_subs_incl}'\n",
    "if BASELINE_CORRECT: fig_name += '_blCorrPrc'\n",
    "if ZSCORE_FREQS: fig_name += '_Z'\n",
    "if LOG_POWER: fig_name += '_log'\n",
    "if SMOOTH_FREQS > 0: fig_name += f'_smooth{SMOOTH_FREQS}'\n",
    "\n",
    "\n",
    "# plot_PSD_vs_DopaTime(TFs['008']['lfp_left'])\n",
    "fig, axes = plt.subplots(1, 2, figsize=(16, 8))\n",
    "fsize=20\n",
    "\n",
    "# if None returned, dont use axes[0] to collect returned output\n",
    "if STN_or_ECOG == 'STN': ax_title = 'Bilateral STNs w/o Dyskinesia'\n",
    "elif STN_or_ECOG == 'ECOG': ax_title = 'ECoG w/o Dyskinesia'\n",
    "axes[0] = plot_PSDs.plot_PSD_vs_DopaTime(\n",
    "    TFs, sel_subs=subs_noLID,\n",
    "    STN_or_ECOG=STN_or_ECOG,\n",
    "    BASELINE_CORRECT=BASELINE_CORRECT,\n",
    "    ZSCORE_FREQS=ZSCORE_FREQS,\n",
    "    LOG_POWER=LOG_POWER,\n",
    "    SMOOTH_PLOT_FREQS=SMOOTH_FREQS,\n",
    "    plt_ax_to_return=axes[0], fsize=fsize, BREAK_X_AX=True,\n",
    "    ax_title=ax_title\n",
    ")\n",
    "\n",
    "if STN_or_ECOG == 'STN': ax_title = 'Bilateral STNs with Dyskinesia'\n",
    "elif STN_or_ECOG == 'ECOG': ax_title = 'ECoG with Dyskinesia'\n",
    "axes[1] = plot_PSDs.plot_PSD_vs_DopaTime(\n",
    "    TFs, sel_subs=subs_LID,\n",
    "    STN_or_ECOG=STN_or_ECOG,\n",
    "    LOG_POWER=LOG_POWER,\n",
    "    SMOOTH_PLOT_FREQS=SMOOTH_FREQS,\n",
    "    BASELINE_CORRECT=BASELINE_CORRECT,\n",
    "    ZSCORE_FREQS=ZSCORE_FREQS,\n",
    "    plt_ax_to_return=axes[1], fsize=fsize, BREAK_X_AX=True,\n",
    "    ax_title=ax_title\n",
    ")\n",
    "\n",
    "\n",
    "# equalize axes\n",
    "ymin = min([min(ax.get_ylim()) for ax in axes])\n",
    "ymax = max([max(ax.get_ylim()) for ax in axes])\n",
    "for ax in axes: ax.set_ylim(ymin, ymax)\n",
    "\n",
    "for ax in axes: ax.tick_params(axis='both', size=fsize,\n",
    "                               labelsize=fsize)\n",
    "plt.tight_layout()\n",
    "\n",
    "if SAVE:\n",
    "    path = os.path.join(get_project_path('figures'),\n",
    "                        'ft_exploration',\n",
    "                        f'data_{DATA_VERSION}_ft_{FT_VERSION}',\n",
    "                        'descr_PSDs')\n",
    "    if not os.path.exists(path): os.makedirs(path)\n",
    "    plt.savefig(os.path.join(path, fig_name),\n",
    "                facecolor='w', dpi=300,)\n",
    "if SHOW: plt.show()\n",
    "else: plt.close()\n",
    "\n"
   ]
  },
  {
   "attachments": {},
   "cell_type": "markdown",
   "metadata": {},
   "source": [
    "##### Plot LID-Group Results: Laterality of LID in STN and ECoG"
   ]
  },
  {
   "cell_type": "markdown",
   "metadata": {},
   "source": [
    "Plot SEVERITY AND LATERALITY OF STN-changes during DYSKINESIA\n",
    "\n",
    "- LAT_UNI: plot laterality of unilateral LID\n",
    "- LAT_BILAT: plot laterality of only bilateral LID\n",
    "- SCALE: combine all uni- and bilateral LID\n",
    "    - PLOT_ONLY_MATCH == True: plot only STN contralateral to LID\n",
    "    - PLOT_ONLY_MATCH == False: plot contra-, ipsi-, and bi-lateral STN-LID\n"
   ]
  },
  {
   "cell_type": "code",
   "execution_count": null,
   "metadata": {},
   "outputs": [],
   "source": [
    "import lfpecog_analysis.psd_lid_stats as psd_stats\n",
    "import lfpecog_analysis.get_acc_task_derivs as accDerivs"
   ]
  },
  {
   "cell_type": "code",
   "execution_count": 110,
   "metadata": {},
   "outputs": [
    {
     "name": "stdout",
     "output_type": "stream",
     "text": [
      "start plotting 1025_STN_PSDs_SCALE_LID_n21_blCorr_smooth8_onlyMatch\n",
      "check sub-023\n",
      "check sub-022\n",
      "check sub-019\n",
      "check sub-108\n",
      "check sub-101\n",
      "check sub-012\n",
      "check sub-009\n",
      "check sub-107\n",
      "check sub-010\n",
      "check sub-021\n",
      "check sub-103\n",
      "check sub-017\n",
      "check sub-102\n",
      "check sub-008\n",
      "check sub-109\n",
      "check sub-110\n",
      "check sub-105\n",
      "check sub-013\n",
      "check sub-020\n",
      "check sub-016\n",
      "check sub-014\n"
     ]
    },
    {
     "ename": "KeyboardInterrupt",
     "evalue": "",
     "output_type": "error",
     "traceback": [
      "\u001b[1;31m---------------------------------------------------------------------------\u001b[0m",
      "\u001b[1;31mKeyboardInterrupt\u001b[0m                         Traceback (most recent call last)",
      "\u001b[1;32mc:\\Users\\habetsj\\Research\\projects\\dyskinesia_neurophys\\code\\notebooks\\plot_PSDs.ipynb Cell 30\u001b[0m in \u001b[0;36m4\n\u001b[0;32m     <a href='vscode-notebook-cell:/c%3A/Users/habetsj/Research/projects/dyskinesia_neurophys/code/notebooks/plot_PSDs.ipynb#X45sZmlsZQ%3D%3D?line=36'>37</a>\u001b[0m \u001b[39mif\u001b[39;00m SELECT_ACC_RMS: fig_name \u001b[39m+\u001b[39m\u001b[39m=\u001b[39m \u001b[39mf\u001b[39m\u001b[39m'\u001b[39m\u001b[39m_\u001b[39m\u001b[39m{\u001b[39;00mSELECT_ACC_RMS\u001b[39m}\u001b[39;00m\u001b[39m'\u001b[39m\n\u001b[0;32m     <a href='vscode-notebook-cell:/c%3A/Users/habetsj/Research/projects/dyskinesia_neurophys/code/notebooks/plot_PSDs.ipynb#X45sZmlsZQ%3D%3D?line=39'>40</a>\u001b[0m fsize\u001b[39m=\u001b[39m\u001b[39m14\u001b[39m\n\u001b[1;32m---> <a href='vscode-notebook-cell:/c%3A/Users/habetsj/Research/projects/dyskinesia_neurophys/code/notebooks/plot_PSDs.ipynb#X45sZmlsZQ%3D%3D?line=41'>42</a>\u001b[0m stn_stats \u001b[39m=\u001b[39m plot_PSDs\u001b[39m.\u001b[39;49mplot_STN_PSD_vs_LID(\n\u001b[0;32m     <a href='vscode-notebook-cell:/c%3A/Users/habetsj/Research/projects/dyskinesia_neurophys/code/notebooks/plot_PSDs.ipynb#X45sZmlsZQ%3D%3D?line=42'>43</a>\u001b[0m     all_timefreqs\u001b[39m=\u001b[39;49mTFs,\n\u001b[0;32m     <a href='vscode-notebook-cell:/c%3A/Users/habetsj/Research/projects/dyskinesia_neurophys/code/notebooks/plot_PSDs.ipynb#X45sZmlsZQ%3D%3D?line=43'>44</a>\u001b[0m     CDRS_RATER\u001b[39m=\u001b[39;49m\u001b[39m'\u001b[39;49m\u001b[39mJeroen\u001b[39;49m\u001b[39m'\u001b[39;49m,\n\u001b[0;32m     <a href='vscode-notebook-cell:/c%3A/Users/habetsj/Research/projects/dyskinesia_neurophys/code/notebooks/plot_PSDs.ipynb#X45sZmlsZQ%3D%3D?line=44'>45</a>\u001b[0m     LAT_or_SCALE\u001b[39m=\u001b[39;49mLAT_or_SCALE,\n\u001b[0;32m     <a href='vscode-notebook-cell:/c%3A/Users/habetsj/Research/projects/dyskinesia_neurophys/code/notebooks/plot_PSDs.ipynb#X45sZmlsZQ%3D%3D?line=45'>46</a>\u001b[0m     SELECT_ON_ACC_RMS\u001b[39m=\u001b[39;49mSELECT_ACC_RMS,\n\u001b[0;32m     <a href='vscode-notebook-cell:/c%3A/Users/habetsj/Research/projects/dyskinesia_neurophys/code/notebooks/plot_PSDs.ipynb#X45sZmlsZQ%3D%3D?line=46'>47</a>\u001b[0m     incl_PRE_LID\u001b[39m=\u001b[39;49mINCL_PRELID,\n\u001b[0;32m     <a href='vscode-notebook-cell:/c%3A/Users/habetsj/Research/projects/dyskinesia_neurophys/code/notebooks/plot_PSDs.ipynb#X45sZmlsZQ%3D%3D?line=47'>48</a>\u001b[0m     PRELID_MIN\u001b[39m=\u001b[39;49mPRELID_MINs,\n\u001b[0;32m     <a href='vscode-notebook-cell:/c%3A/Users/habetsj/Research/projects/dyskinesia_neurophys/code/notebooks/plot_PSDs.ipynb#X45sZmlsZQ%3D%3D?line=48'>49</a>\u001b[0m     LOG_POWER\u001b[39m=\u001b[39;49mLOG_POWER,\n\u001b[0;32m     <a href='vscode-notebook-cell:/c%3A/Users/habetsj/Research/projects/dyskinesia_neurophys/code/notebooks/plot_PSDs.ipynb#X45sZmlsZQ%3D%3D?line=49'>50</a>\u001b[0m     BASELINE_CORRECT\u001b[39m=\u001b[39;49mBASELINE_CORRECT,\n\u001b[0;32m     <a href='vscode-notebook-cell:/c%3A/Users/habetsj/Research/projects/dyskinesia_neurophys/code/notebooks/plot_PSDs.ipynb#X45sZmlsZQ%3D%3D?line=50'>51</a>\u001b[0m     SMOOTH_PLOT_FREQS\u001b[39m=\u001b[39;49mSMOOTH_FREQS,\n\u001b[0;32m     <a href='vscode-notebook-cell:/c%3A/Users/habetsj/Research/projects/dyskinesia_neurophys/code/notebooks/plot_PSDs.ipynb#X45sZmlsZQ%3D%3D?line=51'>52</a>\u001b[0m     ZSCORE_FREQS\u001b[39m=\u001b[39;49mZSCORE_FREQS,\n\u001b[0;32m     <a href='vscode-notebook-cell:/c%3A/Users/habetsj/Research/projects/dyskinesia_neurophys/code/notebooks/plot_PSDs.ipynb#X45sZmlsZQ%3D%3D?line=52'>53</a>\u001b[0m     plt_ax_to_return\u001b[39m=\u001b[39;49m\u001b[39mFalse\u001b[39;49;00m,\n\u001b[0;32m     <a href='vscode-notebook-cell:/c%3A/Users/habetsj/Research/projects/dyskinesia_neurophys/code/notebooks/plot_PSDs.ipynb#X45sZmlsZQ%3D%3D?line=53'>54</a>\u001b[0m     fsize\u001b[39m=\u001b[39;49mfsize,\n\u001b[0;32m     <a href='vscode-notebook-cell:/c%3A/Users/habetsj/Research/projects/dyskinesia_neurophys/code/notebooks/plot_PSDs.ipynb#X45sZmlsZQ%3D%3D?line=54'>55</a>\u001b[0m     BREAK_X_AX\u001b[39m=\u001b[39;49m\u001b[39mTrue\u001b[39;49;00m,\n\u001b[0;32m     <a href='vscode-notebook-cell:/c%3A/Users/habetsj/Research/projects/dyskinesia_neurophys/code/notebooks/plot_PSDs.ipynb#X45sZmlsZQ%3D%3D?line=55'>56</a>\u001b[0m     fig_name\u001b[39m=\u001b[39;49mfig_name,\n\u001b[0;32m     <a href='vscode-notebook-cell:/c%3A/Users/habetsj/Research/projects/dyskinesia_neurophys/code/notebooks/plot_PSDs.ipynb#X45sZmlsZQ%3D%3D?line=56'>57</a>\u001b[0m     RETURN_FREQ_CORR\u001b[39m=\u001b[39;49m\u001b[39mFalse\u001b[39;49;00m,\n\u001b[0;32m     <a href='vscode-notebook-cell:/c%3A/Users/habetsj/Research/projects/dyskinesia_neurophys/code/notebooks/plot_PSDs.ipynb#X45sZmlsZQ%3D%3D?line=57'>58</a>\u001b[0m     SHOW_ONLY_GAMMA\u001b[39m=\u001b[39;49mSHOW_GAMMA,\n\u001b[0;32m     <a href='vscode-notebook-cell:/c%3A/Users/habetsj/Research/projects/dyskinesia_neurophys/code/notebooks/plot_PSDs.ipynb#X45sZmlsZQ%3D%3D?line=58'>59</a>\u001b[0m     SHOW_SIGN\u001b[39m=\u001b[39;49mSHOW_SIGN,\n\u001b[0;32m     <a href='vscode-notebook-cell:/c%3A/Users/habetsj/Research/projects/dyskinesia_neurophys/code/notebooks/plot_PSDs.ipynb#X45sZmlsZQ%3D%3D?line=59'>60</a>\u001b[0m     PROCESS_STATS\u001b[39m=\u001b[39;49m\u001b[39mFalse\u001b[39;49;00m,\n\u001b[0;32m     <a href='vscode-notebook-cell:/c%3A/Users/habetsj/Research/projects/dyskinesia_neurophys/code/notebooks/plot_PSDs.ipynb#X45sZmlsZQ%3D%3D?line=60'>61</a>\u001b[0m     p_SAVED_DATE\u001b[39m=\u001b[39;49mSTAT_DATE,\n\u001b[0;32m     <a href='vscode-notebook-cell:/c%3A/Users/habetsj/Research/projects/dyskinesia_neurophys/code/notebooks/plot_PSDs.ipynb#X45sZmlsZQ%3D%3D?line=61'>62</a>\u001b[0m     PLOT_ONLY_MATCH\u001b[39m=\u001b[39;49mPLOT_ONLY_MATCH,\n\u001b[0;32m     <a href='vscode-notebook-cell:/c%3A/Users/habetsj/Research/projects/dyskinesia_neurophys/code/notebooks/plot_PSDs.ipynb#X45sZmlsZQ%3D%3D?line=62'>63</a>\u001b[0m     DATA_VERSION\u001b[39m=\u001b[39;49mDATA_VERSION,\n\u001b[0;32m     <a href='vscode-notebook-cell:/c%3A/Users/habetsj/Research/projects/dyskinesia_neurophys/code/notebooks/plot_PSDs.ipynb#X45sZmlsZQ%3D%3D?line=63'>64</a>\u001b[0m     FT_VERSION\u001b[39m=\u001b[39;49mFT_VERSION,\n\u001b[0;32m     <a href='vscode-notebook-cell:/c%3A/Users/habetsj/Research/projects/dyskinesia_neurophys/code/notebooks/plot_PSDs.ipynb#X45sZmlsZQ%3D%3D?line=64'>65</a>\u001b[0m )\n",
      "File \u001b[1;32mc:\\Users\\habetsj\\Research\\projects\\dyskinesia_neurophys\\code\\lfpecog_plotting\\plot_descriptive_SSD_PSDs.py:393\u001b[0m, in \u001b[0;36mplot_STN_PSD_vs_LID\u001b[1;34m(all_timefreqs, sel_subs, CDRS_RATER, LAT_or_SCALE, incl_PRE_LID, PRELID_MIN, LOG_POWER, ZSCORE_FREQS, SMOOTH_PLOT_FREQS, BASELINE_CORRECT, SELECT_ON_ACC_RMS, BREAK_X_AX, STD_ERR, plt_ax_to_return, fsize, fig_name, RETURN_FREQ_CORR, SINGLE_SUB_LINES, PLOT_ONLY_MATCH, SHOW_ONLY_GAMMA, SHOW_SIGN, p_SAVED_DATE, PROCESS_STATS, DATA_VERSION, FT_VERSION)\u001b[0m\n\u001b[0;32m    387\u001b[0m \u001b[39m# find matching windows (UNILAT LID) for both LFP PSDs\u001b[39;00m\n\u001b[0;32m    388\u001b[0m \u001b[39m# matching LFP side to LID\u001b[39;00m\n\u001b[0;32m    389\u001b[0m ft_cdrs[\u001b[39m'\u001b[39m\u001b[39mLID\u001b[39m\u001b[39m'\u001b[39m] \u001b[39m=\u001b[39m find_select_nearest_CDRS_for_ephys(\n\u001b[0;32m    390\u001b[0m     sub\u001b[39m=\u001b[39msub, side\u001b[39m=\u001b[39mLID_side, ft_times\u001b[39m=\u001b[39mtf_times[\u001b[39m'\u001b[39m\u001b[39mmatch\u001b[39m\u001b[39m'\u001b[39m],\n\u001b[0;32m    391\u001b[0m     cdrs_rater\u001b[39m=\u001b[39mCDRS_RATER,\n\u001b[0;32m    392\u001b[0m ) \n\u001b[1;32m--> 393\u001b[0m ft_cdrs[\u001b[39m'\u001b[39m\u001b[39mnoLID\u001b[39m\u001b[39m'\u001b[39m] \u001b[39m=\u001b[39m find_select_nearest_CDRS_for_ephys(\n\u001b[0;32m    394\u001b[0m     sub\u001b[39m=\u001b[39;49msub, side\u001b[39m=\u001b[39;49mnoLID_side, ft_times\u001b[39m=\u001b[39;49mtf_times[\u001b[39m'\u001b[39;49m\u001b[39mmatch\u001b[39;49m\u001b[39m'\u001b[39;49m],\n\u001b[0;32m    395\u001b[0m     cdrs_rater\u001b[39m=\u001b[39;49mCDRS_RATER,\n\u001b[0;32m    396\u001b[0m )\n\u001b[0;32m    397\u001b[0m \u001b[39mif\u001b[39;00m LAT_or_SCALE \u001b[39min\u001b[39;00m [\u001b[39m'\u001b[39m\u001b[39mSCALE\u001b[39m\u001b[39m'\u001b[39m, \u001b[39m'\u001b[39m\u001b[39mLAT_BILAT\u001b[39m\u001b[39m'\u001b[39m]:\n\u001b[0;32m    398\u001b[0m     ft_cdrs[\u001b[39m'\u001b[39m\u001b[39mbi\u001b[39m\u001b[39m'\u001b[39m] \u001b[39m=\u001b[39m find_select_nearest_CDRS_for_ephys(\n\u001b[0;32m    399\u001b[0m         sub\u001b[39m=\u001b[39msub, side\u001b[39m=\u001b[39m\u001b[39m'\u001b[39m\u001b[39mboth\u001b[39m\u001b[39m'\u001b[39m, ft_times\u001b[39m=\u001b[39mtf_times[\u001b[39m'\u001b[39m\u001b[39mmatch\u001b[39m\u001b[39m'\u001b[39m],\n\u001b[0;32m    400\u001b[0m         cdrs_rater\u001b[39m=\u001b[39mCDRS_RATER,\n\u001b[0;32m    401\u001b[0m     )\n",
      "File \u001b[1;32mc:\\Users\\habetsj\\Research\\projects\\dyskinesia_neurophys\\code\\lfpecog_analysis\\ft_processing_helpers.py:403\u001b[0m, in \u001b[0;36mfind_select_nearest_CDRS_for_ephys\u001b[1;34m(sub, ft_times, side, cdrs_rater, EXCL_UNILAT_OTHER_SIDE_LID, INCL_CORE_CDRS)\u001b[0m\n\u001b[0;32m    396\u001b[0m             \u001b[39mif\u001b[39;00m ecogside \u001b[39m==\u001b[39m \u001b[39m'\u001b[39m\u001b[39mleft\u001b[39m\u001b[39m'\u001b[39m: side \u001b[39m=\u001b[39m \u001b[39m'\u001b[39m\u001b[39mright\u001b[39m\u001b[39m'\u001b[39m\n\u001b[0;32m    398\u001b[0m \u001b[39m# lid_t_ecog, lid_y_ecog = get_cdrs_specific(\u001b[39;00m\n\u001b[0;32m    399\u001b[0m \u001b[39m#     sub=sub, rater=cdrs_rater, side='contralat ecog',)\u001b[39;00m\n\u001b[0;32m    400\u001b[0m \u001b[39m# lid_t_nonecog, lid_y_nonecog = get_cdrs_specific(\u001b[39;00m\n\u001b[0;32m    401\u001b[0m \u001b[39m#     sub=sub, rater=cdrs_rater, side='ipsilat ecog',)\u001b[39;00m\n\u001b[1;32m--> 403\u001b[0m cdrs_times, cdrs_scores \u001b[39m=\u001b[39m get_cdrs_specific(sub\u001b[39m=\u001b[39;49msub,\n\u001b[0;32m    404\u001b[0m                                             rater\u001b[39m=\u001b[39;49mcdrs_rater,\n\u001b[0;32m    405\u001b[0m                                             side\u001b[39m=\u001b[39;49mside,)\n\u001b[0;32m    407\u001b[0m \u001b[39m# find closest CDRS value for ft-values based on timestamps\u001b[39;00m\n\u001b[0;32m    408\u001b[0m cdrs_idx_fts \u001b[39m=\u001b[39m [np\u001b[39m.\u001b[39margmin(\u001b[39mabs\u001b[39m(t \u001b[39m-\u001b[39m cdrs_times)) \u001b[39mfor\u001b[39;00m t \u001b[39min\u001b[39;00m ft_times]\n",
      "File \u001b[1;32mc:\\Users\\habetsj\\Research\\projects\\dyskinesia_neurophys\\code\\lfpecog_preproc\\preproc_import_scores_annotations.py:300\u001b[0m, in \u001b[0;36mget_cdrs_specific\u001b[1;34m(sub, side, rater, regularize, subs_PK_todo)\u001b[0m\n\u001b[0;32m    297\u001b[0m \u001b[39mif\u001b[39;00m sub \u001b[39min\u001b[39;00m subs_PK_todo:\n\u001b[0;32m    298\u001b[0m     rater \u001b[39m=\u001b[39m \u001b[39m'\u001b[39m\u001b[39mJeroen\u001b[39m\u001b[39m'\u001b[39m\n\u001b[1;32m--> 300\u001b[0m scores \u001b[39m=\u001b[39m read_clinical_scores(sub, rater\u001b[39m=\u001b[39;49mrater)\n\u001b[0;32m    301\u001b[0m times \u001b[39m=\u001b[39m scores[\u001b[39m'\u001b[39m\u001b[39mdopa_time\u001b[39m\u001b[39m'\u001b[39m]\n\u001b[0;32m    303\u001b[0m \u001b[39mif\u001b[39;00m side \u001b[39m==\u001b[39m \u001b[39m'\u001b[39m\u001b[39mboth\u001b[39m\u001b[39m'\u001b[39m:\n\u001b[0;32m    304\u001b[0m     \u001b[39m# take total (EXCL AXIAL SCORES)\u001b[39;00m\n",
      "File \u001b[1;32mc:\\Users\\habetsj\\Research\\projects\\dyskinesia_neurophys\\code\\lfpecog_preproc\\preproc_import_scores_annotations.py:109\u001b[0m, in \u001b[0;36mread_clinical_scores\u001b[1;34m(sub, rater, data_path)\u001b[0m\n\u001b[0;32m    107\u001b[0m \u001b[39mif\u001b[39;00m sub \u001b[39min\u001b[39;00m [\u001b[39m'\u001b[39m\u001b[39m019\u001b[39m\u001b[39m'\u001b[39m]: rater \u001b[39m=\u001b[39m \u001b[39m'\u001b[39m\u001b[39mJeroen\u001b[39m\u001b[39m'\u001b[39m\n\u001b[0;32m    108\u001b[0m scores_fname \u001b[39m=\u001b[39m \u001b[39mf\u001b[39m\u001b[39m'\u001b[39m\u001b[39mDyskinesia_Ratings_\u001b[39m\u001b[39m{\u001b[39;00mrater\u001b[39m}\u001b[39;00m\u001b[39m.xlsx\u001b[39m\u001b[39m'\u001b[39m\n\u001b[1;32m--> 109\u001b[0m scores \u001b[39m=\u001b[39m read_excel(\n\u001b[0;32m    110\u001b[0m     os\u001b[39m.\u001b[39;49mpath\u001b[39m.\u001b[39;49mjoin(data_path, \u001b[39m'\u001b[39;49m\u001b[39mclinical scores\u001b[39;49m\u001b[39m'\u001b[39;49m, scores_fname),\n\u001b[0;32m    111\u001b[0m     sheet_name\u001b[39m=\u001b[39;49m\u001b[39mf\u001b[39;49m\u001b[39m'\u001b[39;49m\u001b[39msub-\u001b[39;49m\u001b[39m{\u001b[39;49;00msub\u001b[39m}\u001b[39;49;00m\u001b[39m'\u001b[39;49m,\n\u001b[0;32m    112\u001b[0m )\n\u001b[0;32m    114\u001b[0m \u001b[39m# delete redundant rows with text-explanation\u001b[39;00m\n\u001b[0;32m    115\u001b[0m row \u001b[39m=\u001b[39m \u001b[39m0\u001b[39m\n",
      "File \u001b[1;32mc:\\Users\\habetsj\\Anaconda3\\envs\\ecog_dysk\\lib\\site-packages\\pandas\\util\\_decorators.py:311\u001b[0m, in \u001b[0;36mdeprecate_nonkeyword_arguments.<locals>.decorate.<locals>.wrapper\u001b[1;34m(*args, **kwargs)\u001b[0m\n\u001b[0;32m    305\u001b[0m \u001b[39mif\u001b[39;00m \u001b[39mlen\u001b[39m(args) \u001b[39m>\u001b[39m num_allow_args:\n\u001b[0;32m    306\u001b[0m     warnings\u001b[39m.\u001b[39mwarn(\n\u001b[0;32m    307\u001b[0m         msg\u001b[39m.\u001b[39mformat(arguments\u001b[39m=\u001b[39marguments),\n\u001b[0;32m    308\u001b[0m         \u001b[39mFutureWarning\u001b[39;00m,\n\u001b[0;32m    309\u001b[0m         stacklevel\u001b[39m=\u001b[39mstacklevel,\n\u001b[0;32m    310\u001b[0m     )\n\u001b[1;32m--> 311\u001b[0m \u001b[39mreturn\u001b[39;00m func(\u001b[39m*\u001b[39margs, \u001b[39m*\u001b[39m\u001b[39m*\u001b[39mkwargs)\n",
      "File \u001b[1;32mc:\\Users\\habetsj\\Anaconda3\\envs\\ecog_dysk\\lib\\site-packages\\pandas\\io\\excel\\_base.py:457\u001b[0m, in \u001b[0;36mread_excel\u001b[1;34m(io, sheet_name, header, names, index_col, usecols, squeeze, dtype, engine, converters, true_values, false_values, skiprows, nrows, na_values, keep_default_na, na_filter, verbose, parse_dates, date_parser, thousands, decimal, comment, skipfooter, convert_float, mangle_dupe_cols, storage_options)\u001b[0m\n\u001b[0;32m    455\u001b[0m \u001b[39mif\u001b[39;00m \u001b[39mnot\u001b[39;00m \u001b[39misinstance\u001b[39m(io, ExcelFile):\n\u001b[0;32m    456\u001b[0m     should_close \u001b[39m=\u001b[39m \u001b[39mTrue\u001b[39;00m\n\u001b[1;32m--> 457\u001b[0m     io \u001b[39m=\u001b[39m ExcelFile(io, storage_options\u001b[39m=\u001b[39;49mstorage_options, engine\u001b[39m=\u001b[39;49mengine)\n\u001b[0;32m    458\u001b[0m \u001b[39melif\u001b[39;00m engine \u001b[39mand\u001b[39;00m engine \u001b[39m!=\u001b[39m io\u001b[39m.\u001b[39mengine:\n\u001b[0;32m    459\u001b[0m     \u001b[39mraise\u001b[39;00m \u001b[39mValueError\u001b[39;00m(\n\u001b[0;32m    460\u001b[0m         \u001b[39m\"\u001b[39m\u001b[39mEngine should not be specified when passing \u001b[39m\u001b[39m\"\u001b[39m\n\u001b[0;32m    461\u001b[0m         \u001b[39m\"\u001b[39m\u001b[39man ExcelFile - ExcelFile already has the engine set\u001b[39m\u001b[39m\"\u001b[39m\n\u001b[0;32m    462\u001b[0m     )\n",
      "File \u001b[1;32mc:\\Users\\habetsj\\Anaconda3\\envs\\ecog_dysk\\lib\\site-packages\\pandas\\io\\excel\\_base.py:1419\u001b[0m, in \u001b[0;36mExcelFile.__init__\u001b[1;34m(self, path_or_buffer, engine, storage_options)\u001b[0m\n\u001b[0;32m   1416\u001b[0m \u001b[39mself\u001b[39m\u001b[39m.\u001b[39mengine \u001b[39m=\u001b[39m engine\n\u001b[0;32m   1417\u001b[0m \u001b[39mself\u001b[39m\u001b[39m.\u001b[39mstorage_options \u001b[39m=\u001b[39m storage_options\n\u001b[1;32m-> 1419\u001b[0m \u001b[39mself\u001b[39m\u001b[39m.\u001b[39m_reader \u001b[39m=\u001b[39m \u001b[39mself\u001b[39;49m\u001b[39m.\u001b[39;49m_engines[engine](\u001b[39mself\u001b[39;49m\u001b[39m.\u001b[39;49m_io, storage_options\u001b[39m=\u001b[39;49mstorage_options)\n",
      "File \u001b[1;32mc:\\Users\\habetsj\\Anaconda3\\envs\\ecog_dysk\\lib\\site-packages\\pandas\\io\\excel\\_openpyxl.py:525\u001b[0m, in \u001b[0;36mOpenpyxlReader.__init__\u001b[1;34m(self, filepath_or_buffer, storage_options)\u001b[0m\n\u001b[0;32m    514\u001b[0m \u001b[39m\"\"\"\u001b[39;00m\n\u001b[0;32m    515\u001b[0m \u001b[39mReader using openpyxl engine.\u001b[39;00m\n\u001b[0;32m    516\u001b[0m \n\u001b[1;32m   (...)\u001b[0m\n\u001b[0;32m    522\u001b[0m \u001b[39m    passed to fsspec for appropriate URLs (see ``_get_filepath_or_buffer``)\u001b[39;00m\n\u001b[0;32m    523\u001b[0m \u001b[39m\"\"\"\u001b[39;00m\n\u001b[0;32m    524\u001b[0m import_optional_dependency(\u001b[39m\"\u001b[39m\u001b[39mopenpyxl\u001b[39m\u001b[39m\"\u001b[39m)\n\u001b[1;32m--> 525\u001b[0m \u001b[39msuper\u001b[39;49m()\u001b[39m.\u001b[39;49m\u001b[39m__init__\u001b[39;49m(filepath_or_buffer, storage_options\u001b[39m=\u001b[39;49mstorage_options)\n",
      "File \u001b[1;32mc:\\Users\\habetsj\\Anaconda3\\envs\\ecog_dysk\\lib\\site-packages\\pandas\\io\\excel\\_base.py:518\u001b[0m, in \u001b[0;36mBaseExcelReader.__init__\u001b[1;34m(self, filepath_or_buffer, storage_options)\u001b[0m\n\u001b[0;32m    516\u001b[0m \u001b[39mself\u001b[39m\u001b[39m.\u001b[39mhandles\u001b[39m.\u001b[39mhandle\u001b[39m.\u001b[39mseek(\u001b[39m0\u001b[39m)\n\u001b[0;32m    517\u001b[0m \u001b[39mtry\u001b[39;00m:\n\u001b[1;32m--> 518\u001b[0m     \u001b[39mself\u001b[39m\u001b[39m.\u001b[39mbook \u001b[39m=\u001b[39m \u001b[39mself\u001b[39;49m\u001b[39m.\u001b[39;49mload_workbook(\u001b[39mself\u001b[39;49m\u001b[39m.\u001b[39;49mhandles\u001b[39m.\u001b[39;49mhandle)\n\u001b[0;32m    519\u001b[0m \u001b[39mexcept\u001b[39;00m \u001b[39mException\u001b[39;00m:\n\u001b[0;32m    520\u001b[0m     \u001b[39mself\u001b[39m\u001b[39m.\u001b[39mclose()\n",
      "File \u001b[1;32mc:\\Users\\habetsj\\Anaconda3\\envs\\ecog_dysk\\lib\\site-packages\\pandas\\io\\excel\\_openpyxl.py:536\u001b[0m, in \u001b[0;36mOpenpyxlReader.load_workbook\u001b[1;34m(self, filepath_or_buffer)\u001b[0m\n\u001b[0;32m    533\u001b[0m \u001b[39mdef\u001b[39;00m \u001b[39mload_workbook\u001b[39m(\u001b[39mself\u001b[39m, filepath_or_buffer: FilePath \u001b[39m|\u001b[39m ReadBuffer[\u001b[39mbytes\u001b[39m]):\n\u001b[0;32m    534\u001b[0m     \u001b[39mfrom\u001b[39;00m \u001b[39mopenpyxl\u001b[39;00m \u001b[39mimport\u001b[39;00m load_workbook\n\u001b[1;32m--> 536\u001b[0m     \u001b[39mreturn\u001b[39;00m load_workbook(\n\u001b[0;32m    537\u001b[0m         filepath_or_buffer, read_only\u001b[39m=\u001b[39;49m\u001b[39mTrue\u001b[39;49;00m, data_only\u001b[39m=\u001b[39;49m\u001b[39mTrue\u001b[39;49;00m, keep_links\u001b[39m=\u001b[39;49m\u001b[39mFalse\u001b[39;49;00m\n\u001b[0;32m    538\u001b[0m     )\n",
      "File \u001b[1;32mc:\\Users\\habetsj\\Anaconda3\\envs\\ecog_dysk\\lib\\site-packages\\openpyxl\\reader\\excel.py:317\u001b[0m, in \u001b[0;36mload_workbook\u001b[1;34m(filename, read_only, keep_vba, data_only, keep_links)\u001b[0m\n\u001b[0;32m    290\u001b[0m \u001b[39m\"\"\"Open the given filename and return the workbook\u001b[39;00m\n\u001b[0;32m    291\u001b[0m \n\u001b[0;32m    292\u001b[0m \u001b[39m:param filename: the path to open or a file-like object\u001b[39;00m\n\u001b[1;32m   (...)\u001b[0m\n\u001b[0;32m    313\u001b[0m \n\u001b[0;32m    314\u001b[0m \u001b[39m\"\"\"\u001b[39;00m\n\u001b[0;32m    315\u001b[0m reader \u001b[39m=\u001b[39m ExcelReader(filename, read_only, keep_vba,\n\u001b[0;32m    316\u001b[0m                     data_only, keep_links)\n\u001b[1;32m--> 317\u001b[0m reader\u001b[39m.\u001b[39;49mread()\n\u001b[0;32m    318\u001b[0m \u001b[39mreturn\u001b[39;00m reader\u001b[39m.\u001b[39mwb\n",
      "File \u001b[1;32mc:\\Users\\habetsj\\Anaconda3\\envs\\ecog_dysk\\lib\\site-packages\\openpyxl\\reader\\excel.py:282\u001b[0m, in \u001b[0;36mExcelReader.read\u001b[1;34m(self)\u001b[0m\n\u001b[0;32m    280\u001b[0m \u001b[39mself\u001b[39m\u001b[39m.\u001b[39mread_theme()\n\u001b[0;32m    281\u001b[0m apply_stylesheet(\u001b[39mself\u001b[39m\u001b[39m.\u001b[39marchive, \u001b[39mself\u001b[39m\u001b[39m.\u001b[39mwb)\n\u001b[1;32m--> 282\u001b[0m \u001b[39mself\u001b[39;49m\u001b[39m.\u001b[39;49mread_worksheets()\n\u001b[0;32m    283\u001b[0m \u001b[39mself\u001b[39m\u001b[39m.\u001b[39mparser\u001b[39m.\u001b[39massign_names()\n\u001b[0;32m    284\u001b[0m \u001b[39mif\u001b[39;00m \u001b[39mnot\u001b[39;00m \u001b[39mself\u001b[39m\u001b[39m.\u001b[39mread_only:\n",
      "File \u001b[1;32mc:\\Users\\habetsj\\Anaconda3\\envs\\ecog_dysk\\lib\\site-packages\\openpyxl\\reader\\excel.py:219\u001b[0m, in \u001b[0;36mExcelReader.read_worksheets\u001b[1;34m(self)\u001b[0m\n\u001b[0;32m    216\u001b[0m     rels \u001b[39m=\u001b[39m get_dependents(\u001b[39mself\u001b[39m\u001b[39m.\u001b[39marchive, rels_path)\n\u001b[0;32m    218\u001b[0m \u001b[39mif\u001b[39;00m \u001b[39mself\u001b[39m\u001b[39m.\u001b[39mread_only:\n\u001b[1;32m--> 219\u001b[0m     ws \u001b[39m=\u001b[39m ReadOnlyWorksheet(\u001b[39mself\u001b[39;49m\u001b[39m.\u001b[39;49mwb, sheet\u001b[39m.\u001b[39;49mname, rel\u001b[39m.\u001b[39;49mtarget, \u001b[39mself\u001b[39;49m\u001b[39m.\u001b[39;49mshared_strings)\n\u001b[0;32m    220\u001b[0m     ws\u001b[39m.\u001b[39msheet_state \u001b[39m=\u001b[39m sheet\u001b[39m.\u001b[39mstate\n\u001b[0;32m    221\u001b[0m     \u001b[39mself\u001b[39m\u001b[39m.\u001b[39mwb\u001b[39m.\u001b[39m_sheets\u001b[39m.\u001b[39mappend(ws)\n",
      "File \u001b[1;32mc:\\Users\\habetsj\\Anaconda3\\envs\\ecog_dysk\\lib\\site-packages\\openpyxl\\worksheet\\_read_only.py:41\u001b[0m, in \u001b[0;36mReadOnlyWorksheet.__init__\u001b[1;34m(self, parent_workbook, title, worksheet_path, shared_strings)\u001b[0m\n\u001b[0;32m     39\u001b[0m \u001b[39mself\u001b[39m\u001b[39m.\u001b[39m_worksheet_path \u001b[39m=\u001b[39m worksheet_path\n\u001b[0;32m     40\u001b[0m \u001b[39mself\u001b[39m\u001b[39m.\u001b[39m_shared_strings \u001b[39m=\u001b[39m shared_strings\n\u001b[1;32m---> 41\u001b[0m \u001b[39mself\u001b[39;49m\u001b[39m.\u001b[39;49m_get_size()\n",
      "File \u001b[1;32mc:\\Users\\habetsj\\Anaconda3\\envs\\ecog_dysk\\lib\\site-packages\\openpyxl\\worksheet\\_read_only.py:47\u001b[0m, in \u001b[0;36mReadOnlyWorksheet._get_size\u001b[1;34m(self)\u001b[0m\n\u001b[0;32m     45\u001b[0m src \u001b[39m=\u001b[39m \u001b[39mself\u001b[39m\u001b[39m.\u001b[39m_get_source()\n\u001b[0;32m     46\u001b[0m parser \u001b[39m=\u001b[39m WorkSheetParser(src, [])\n\u001b[1;32m---> 47\u001b[0m dimensions \u001b[39m=\u001b[39m parser\u001b[39m.\u001b[39;49mparse_dimensions()\n\u001b[0;32m     48\u001b[0m src\u001b[39m.\u001b[39mclose()\n\u001b[0;32m     49\u001b[0m \u001b[39mif\u001b[39;00m dimensions \u001b[39mis\u001b[39;00m \u001b[39mnot\u001b[39;00m \u001b[39mNone\u001b[39;00m:\n",
      "File \u001b[1;32mc:\\Users\\habetsj\\Anaconda3\\envs\\ecog_dysk\\lib\\site-packages\\openpyxl\\worksheet\\_reader.py:166\u001b[0m, in \u001b[0;36mopenpyxl.worksheet._reader.WorkSheetParser.parse_dimensions\u001b[1;34m()\u001b[0m\n",
      "File \u001b[1;32mc:\\Users\\habetsj\\Anaconda3\\envs\\ecog_dysk\\lib\\xml\\etree\\ElementTree.py:1256\u001b[0m, in \u001b[0;36miterparse.<locals>.iterator\u001b[1;34m()\u001b[0m\n\u001b[0;32m   1254\u001b[0m \u001b[39myield from\u001b[39;00m pullparser\u001b[39m.\u001b[39mread_events()\n\u001b[0;32m   1255\u001b[0m \u001b[39m# load event buffer\u001b[39;00m\n\u001b[1;32m-> 1256\u001b[0m data \u001b[39m=\u001b[39m source\u001b[39m.\u001b[39;49mread(\u001b[39m16\u001b[39;49m \u001b[39m*\u001b[39;49m \u001b[39m1024\u001b[39;49m)\n\u001b[0;32m   1257\u001b[0m \u001b[39mif\u001b[39;00m \u001b[39mnot\u001b[39;00m data:\n\u001b[0;32m   1258\u001b[0m     \u001b[39mbreak\u001b[39;00m\n",
      "File \u001b[1;32mc:\\Users\\habetsj\\Anaconda3\\envs\\ecog_dysk\\lib\\zipfile.py:922\u001b[0m, in \u001b[0;36mZipExtFile.read\u001b[1;34m(self, n)\u001b[0m\n\u001b[0;32m    920\u001b[0m \u001b[39mself\u001b[39m\u001b[39m.\u001b[39m_offset \u001b[39m=\u001b[39m \u001b[39m0\u001b[39m\n\u001b[0;32m    921\u001b[0m \u001b[39mwhile\u001b[39;00m n \u001b[39m>\u001b[39m \u001b[39m0\u001b[39m \u001b[39mand\u001b[39;00m \u001b[39mnot\u001b[39;00m \u001b[39mself\u001b[39m\u001b[39m.\u001b[39m_eof:\n\u001b[1;32m--> 922\u001b[0m     data \u001b[39m=\u001b[39m \u001b[39mself\u001b[39;49m\u001b[39m.\u001b[39;49m_read1(n)\n\u001b[0;32m    923\u001b[0m     \u001b[39mif\u001b[39;00m n \u001b[39m<\u001b[39m \u001b[39mlen\u001b[39m(data):\n\u001b[0;32m    924\u001b[0m         \u001b[39mself\u001b[39m\u001b[39m.\u001b[39m_readbuffer \u001b[39m=\u001b[39m data\n",
      "File \u001b[1;32mc:\\Users\\habetsj\\Anaconda3\\envs\\ecog_dysk\\lib\\zipfile.py:1012\u001b[0m, in \u001b[0;36mZipExtFile._read1\u001b[1;34m(self, n)\u001b[0m\n\u001b[0;32m   1010\u001b[0m \u001b[39mif\u001b[39;00m \u001b[39mself\u001b[39m\u001b[39m.\u001b[39m_left \u001b[39m<\u001b[39m\u001b[39m=\u001b[39m \u001b[39m0\u001b[39m:\n\u001b[0;32m   1011\u001b[0m     \u001b[39mself\u001b[39m\u001b[39m.\u001b[39m_eof \u001b[39m=\u001b[39m \u001b[39mTrue\u001b[39;00m\n\u001b[1;32m-> 1012\u001b[0m \u001b[39mself\u001b[39;49m\u001b[39m.\u001b[39;49m_update_crc(data)\n\u001b[0;32m   1013\u001b[0m \u001b[39mreturn\u001b[39;00m data\n",
      "File \u001b[1;32mc:\\Users\\habetsj\\Anaconda3\\envs\\ecog_dysk\\lib\\zipfile.py:937\u001b[0m, in \u001b[0;36mZipExtFile._update_crc\u001b[1;34m(self, newdata)\u001b[0m\n\u001b[0;32m    934\u001b[0m \u001b[39mif\u001b[39;00m \u001b[39mself\u001b[39m\u001b[39m.\u001b[39m_expected_crc \u001b[39mis\u001b[39;00m \u001b[39mNone\u001b[39;00m:\n\u001b[0;32m    935\u001b[0m     \u001b[39m# No need to compute the CRC if we don't have a reference value\u001b[39;00m\n\u001b[0;32m    936\u001b[0m     \u001b[39mreturn\u001b[39;00m\n\u001b[1;32m--> 937\u001b[0m \u001b[39mself\u001b[39m\u001b[39m.\u001b[39m_running_crc \u001b[39m=\u001b[39m crc32(newdata, \u001b[39mself\u001b[39;49m\u001b[39m.\u001b[39;49m_running_crc)\n\u001b[0;32m    938\u001b[0m \u001b[39m# Check the CRC if we're at the end of the file\u001b[39;00m\n\u001b[0;32m    939\u001b[0m \u001b[39mif\u001b[39;00m \u001b[39mself\u001b[39m\u001b[39m.\u001b[39m_eof \u001b[39mand\u001b[39;00m \u001b[39mself\u001b[39m\u001b[39m.\u001b[39m_running_crc \u001b[39m!=\u001b[39m \u001b[39mself\u001b[39m\u001b[39m.\u001b[39m_expected_crc:\n",
      "\u001b[1;31mKeyboardInterrupt\u001b[0m: "
     ]
    }
   ],
   "source": [
    "importlib.reload(ftProc)\n",
    "importlib.reload(accDerivs)\n",
    "importlib.reload(importClin)\n",
    "importlib.reload(plotHelp)\n",
    "# importlib.reload(psd_stats)\n",
    "importlib.reload(plot_PSDs)\n",
    "\n",
    "# PM, needs: TFs = ssd_TimeFreq.get_all_ssd_timeFreqs(SUBS=SUBS)\n",
    "\n",
    "# 'LAT_UNI' , 'LAT_BILAT', 'SCALE', 'LAT_ALL_SCALE'\n",
    "LAT_or_SCALE = 'SCALE'\n",
    "STAT_DATE = '1023'\n",
    "FIG_DATE = '1025'\n",
    "\n",
    "INCL_PRELID = False\n",
    "PRELID_MINs=5\n",
    "SMOOTH_FREQS=8\n",
    "LOG_POWER=False\n",
    "BASELINE_CORRECT=True\n",
    "ZSCORE_FREQS=False\n",
    "SHOW_GAMMA = False\n",
    "SHOW_SIGN = False\n",
    "PLOT_ONLY_MATCH = True\n",
    "SELECT_ACC_RMS= False\n",
    "\n",
    "fig_name = f'{FIG_DATE}_STN_PSDs_{LAT_or_SCALE}_LID_n{len(SUBS)}'\n",
    "\n",
    "if INCL_PRELID: fig_name += f'_inclPre{PRELID_MINs}'\n",
    "if BASELINE_CORRECT: fig_name += '_blCorr'\n",
    "if LOG_POWER: fig_name += '_log'\n",
    "if ZSCORE_FREQS: fig_name += '_Z'\n",
    "if SMOOTH_FREQS > 0: fig_name += f'_smooth{SMOOTH_FREQS}'\n",
    "# if SINGLE_LINE: fig_name += '_lines'\n",
    "if SHOW_GAMMA: fig_name += '_GAMMA'\n",
    "if SHOW_SIGN: fig_name += '_SIGN'\n",
    "if PLOT_ONLY_MATCH: fig_name += '_onlyMatch'\n",
    "if SELECT_ACC_RMS: fig_name += f'_{SELECT_ACC_RMS}'\n",
    "\n",
    "\n",
    "fsize=14\n",
    "\n",
    "stn_stats = plot_PSDs.plot_STN_PSD_vs_LID(\n",
    "    all_timefreqs=TFs,\n",
    "    CDRS_RATER='Jeroen',\n",
    "    LAT_or_SCALE=LAT_or_SCALE,\n",
    "    SELECT_ON_ACC_RMS=SELECT_ACC_RMS,\n",
    "    incl_PRE_LID=INCL_PRELID,\n",
    "    PRELID_MIN=PRELID_MINs,\n",
    "    LOG_POWER=LOG_POWER,\n",
    "    BASELINE_CORRECT=BASELINE_CORRECT,\n",
    "    SMOOTH_PLOT_FREQS=SMOOTH_FREQS,\n",
    "    ZSCORE_FREQS=ZSCORE_FREQS,\n",
    "    plt_ax_to_return=False,\n",
    "    fsize=fsize,\n",
    "    BREAK_X_AX=True,\n",
    "    fig_name=fig_name,\n",
    "    RETURN_FREQ_CORR=False,\n",
    "    SHOW_ONLY_GAMMA=SHOW_GAMMA,\n",
    "    SHOW_SIGN=SHOW_SIGN,\n",
    "    PROCESS_STATS=False,\n",
    "    p_SAVED_DATE=STAT_DATE,\n",
    "    PLOT_ONLY_MATCH=PLOT_ONLY_MATCH,\n",
    "    DATA_VERSION=DATA_VERSION,\n",
    "    FT_VERSION=FT_VERSION,\n",
    ")\n"
   ]
  },
  {
   "cell_type": "markdown",
   "metadata": {},
   "source": [
    "Plot SEVERITY AND LATERALITY OF ECoG-changes during DYSKINESIA"
   ]
  },
  {
   "cell_type": "code",
   "execution_count": 122,
   "metadata": {},
   "outputs": [
    {
     "name": "stdout",
     "output_type": "stream",
     "text": [
      "... pickle loading: c:\\Users\\habetsj\\Research\\projects\\dyskinesia_neurophys\\data\\prediction_data\\featLabelClasses\\featLabels_ftv6_Cdrs_StnOnly.P\n",
      "10s-feature class loaded for RMS-ACC selection (c:\\Users\\habetsj\\Research\\projects\\dyskinesia_neurophys\\data\\prediction_data\\featLabelClasses\\featLabels_ftv6_Cdrs_StnOnly.P)\n"
     ]
    },
    {
     "name": "stderr",
     "output_type": "stream",
     "text": [
      "c:\\Users\\habetsj\\Research\\projects\\dyskinesia_neurophys\\code\\lfpecog_plotting\\plot_descriptive_SSD_PSDs.py:894: RuntimeWarning: Mean of empty slice\n",
      "  PSD[k] = [np.nanmean(PSD[k][np.logical_and(idx > (i_v - s_win),\n"
     ]
    }
   ],
   "source": [
    "importlib.reload(accDerivs)\n",
    "# importlib.reload(psdLID_stats)\n",
    "importlib.reload(plot_PSDs)\n",
    "\n",
    "# PM, needs: TFs = ssd_TimeFreq.get_all_ssd_timeFreqs(SUBS=SUBS)\n",
    "\n",
    "# 'LAT_UNI' , 'LAT_BILAT', 'SCALE', 'LAT_ALL_SCALE'\n",
    "FIG_DATE = '1025'\n",
    "STAT_DATE = '1023'\n",
    "LAT_or_SCALE = 'SCALE'\n",
    "SAVE_PLOT = True\n",
    "SHOW_PLOT = False\n",
    "\n",
    "SMOOTH_FREQS = 8\n",
    "LOG_POWER = False\n",
    "BASELINE_CORRECT = True\n",
    "ZSCORE_FREQS = False\n",
    "SINGLE_LINE = False\n",
    "SHOW_GAMMA = False\n",
    "PLOT_ONLY_MATCH = True\n",
    "SHOW_SIGN = False\n",
    "SELECT_ACC_RMS = 'EXCL_MOVE'\n",
    "\n",
    "fig_name = f'{FIG_DATE}_ECoG_PSDs_LID_{LAT_or_SCALE}_n{len(SUBS)}'\n",
    "\n",
    "if BASELINE_CORRECT: fig_name += '_blCorr'\n",
    "if LOG_POWER: fig_name += '_log'\n",
    "if ZSCORE_FREQS: fig_name += '_Z'\n",
    "if SMOOTH_FREQS > 0: fig_name += f'_smooth{SMOOTH_FREQS}'\n",
    "if SINGLE_LINE: fig_name += '_lines'\n",
    "if SHOW_GAMMA: fig_name += '_GAMMA'\n",
    "if SHOW_SIGN: fig_name += '_SIGN'\n",
    "if PLOT_ONLY_MATCH: fig_name += '_onlyMatch'\n",
    "if SELECT_ACC_RMS: fig_name += f'_{SELECT_ACC_RMS}'\n",
    "\n",
    "fsize=14\n",
    "\n",
    "plot_PSDs.plot_ECOG_PSD_vs_LID(\n",
    "    TFs,\n",
    "    LAT_or_SCALE=LAT_or_SCALE,\n",
    "    LOG_POWER=LOG_POWER,\n",
    "    BASELINE_CORRECT=BASELINE_CORRECT,\n",
    "    SELECT_ON_ACC_RMS=SELECT_ACC_RMS,\n",
    "    SMOOTH_PLOT_FREQS=SMOOTH_FREQS,\n",
    "    ZSCORE_FREQS=ZSCORE_FREQS,\n",
    "    plt_ax_to_return=False,\n",
    "    fsize=fsize,\n",
    "    BREAK_X_AX=True,\n",
    "    fig_name=fig_name,\n",
    "    single_sub_lines=SINGLE_LINE,\n",
    "    PLOT_ONLY_MATCH=PLOT_ONLY_MATCH,\n",
    "    SHOW_ONLY_GAMMA=SHOW_GAMMA,\n",
    "    SHOW_SIGN=SHOW_SIGN,\n",
    "    PROCESS_STATS=False,\n",
    "    p_SAVED_DATE=STAT_DATE,\n",
    "    DATA_VERSION=DATA_VERSION,\n",
    "    FT_VERSION=FT_VERSION,\n",
    ")"
   ]
  },
  {
   "cell_type": "markdown",
   "metadata": {},
   "source": [
    "Plot LATERALITY during UNILATERAL dyskinesia"
   ]
  },
  {
   "cell_type": "code",
   "execution_count": null,
   "metadata": {},
   "outputs": [],
   "source": [
    "importlib.reload(plot_PSDs)\n",
    "\n",
    "\n",
    "SAVE_PLOT = True\n",
    "SHOW_PLOT = False\n",
    "\n",
    "SMOOTH_FREQS=8\n",
    "LOG_POWER=False\n",
    "BASELINE_CORRECT=True\n",
    "ZSCORE_FREQS=False\n",
    "CDRS_RATER = 'Jeroen'\n",
    "\n",
    "fig_name = f'1002_LATERALITY_STNandECOG_PSDs_unilatLID_n{len(SUBS)}'\n",
    "if BASELINE_CORRECT: fig_name += '_blCorr'\n",
    "if LOG_POWER: fig_name += '_log'\n",
    "if ZSCORE_FREQS: fig_name += '_Z'\n",
    "if SMOOTH_FREQS > 0: fig_name += f'_smooth{SMOOTH_FREQS}'\n",
    "\n",
    "\n",
    "\n",
    "fig, axes = plt.subplots(1, 2, figsize=(12, 6))\n",
    "\n",
    "fsize=14\n",
    "\n",
    "plot_PSDs.plot_STN_PSD_vs_LID(\n",
    "    TFs, sel_subs=subs_LID,\n",
    "    LAT_or_SCALE='LAT_UNI',  # LAT_UNI\n",
    "    CDRS_RATER=CDRS_RATER,\n",
    "    LOG_POWER=LOG_POWER,\n",
    "    BASELINE_CORRECT=BASELINE_CORRECT,\n",
    "    SMOOTH_PLOT_FREQS=SMOOTH_FREQS,\n",
    "    ZSCORE_FREQS=ZSCORE_FREQS,\n",
    "    plt_ax_to_return=axes[0],\n",
    "    fsize=fsize,\n",
    "    BREAK_X_AX=True,\n",
    "    DATA_VERSION=DATA_VERSION,\n",
    "    FT_VERSION=FT_VERSION,\n",
    ")\n",
    "plot_PSDs.plot_ECOG_PSD_vs_LID(\n",
    "    TFs, sel_subs=subs_LID,\n",
    "    LAT_or_SCALE='LAT_UNI',\n",
    "    CDRS_RATER=CDRS_RATER,\n",
    "    LOG_POWER=LOG_POWER,\n",
    "    BASELINE_CORRECT=BASELINE_CORRECT,\n",
    "    SMOOTH_PLOT_FREQS=SMOOTH_FREQS,\n",
    "    ZSCORE_FREQS=ZSCORE_FREQS,\n",
    "    plt_ax_to_return=axes[1],\n",
    "    fsize=fsize,\n",
    "    BREAK_X_AX=True,\n",
    "    DATA_VERSION=DATA_VERSION,\n",
    "    FT_VERSION=FT_VERSION,\n",
    ")\n",
    "\n",
    "# equalize axes\n",
    "ymin = min([min(ax.get_ylim()) for ax in axes])\n",
    "ymax = max([max(ax.get_ylim()) for ax in axes])\n",
    "for ax in axes: ax.set_ylim(ymin, ymax)\n",
    "\n",
    "for ax in axes: ax.tick_params(axis='both', size=fsize,\n",
    "                               labelsize=fsize)\n",
    "plt.tight_layout()\n",
    "\n",
    "if SAVE_PLOT:\n",
    "    plt.savefig(os.path.join(get_project_path('figures'),\n",
    "                             'ft_exploration',\n",
    "                             f'data_{DATA_VERSION}_ft_{FT_VERSION}',\n",
    "                             'descr_PSDs', fig_name),\n",
    "                facecolor='w', dpi=300,)\n",
    "if SHOW_PLOT: plt.show()\n",
    "else: plt.close()"
   ]
  },
  {
   "cell_type": "code",
   "execution_count": null,
   "metadata": {},
   "outputs": [],
   "source": []
  },
  {
   "cell_type": "code",
   "execution_count": null,
   "metadata": {},
   "outputs": [],
   "source": []
  }
 ],
 "metadata": {
  "kernelspec": {
   "display_name": "Python 3.9.0 ('ecog_dysk')",
   "language": "python",
   "name": "python3"
  },
  "language_info": {
   "codemirror_mode": {
    "name": "ipython",
    "version": 3
   },
   "file_extension": ".py",
   "mimetype": "text/x-python",
   "name": "python",
   "nbconvert_exporter": "python",
   "pygments_lexer": "ipython3",
   "version": "3.9.0"
  },
  "orig_nbformat": 4,
  "vscode": {
   "interpreter": {
    "hash": "2b948574b4cc10c9dd8fa8cab55862e7a8500229b4c7ca6593391d5001a62fb2"
   }
  }
 },
 "nbformat": 4,
 "nbformat_minor": 2
}
