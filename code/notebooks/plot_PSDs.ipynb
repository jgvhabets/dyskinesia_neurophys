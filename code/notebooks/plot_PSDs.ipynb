{
 "cells": [
  {
   "attachments": {},
   "cell_type": "markdown",
   "metadata": {},
   "source": [
    "## Feature Development Extraction: Neurophysiology [dyskinesia project]\n",
    "\n",
    "\n",
    "\n",
    "\n",
    "<b> Content </b>\n",
    "\n",
    "\n",
    "<b> Aperiodic estimates </b>\n",
    "Relevant literature:\n",
    "- Periodic and a-periodic components relevance and interaction, different reasons (per + a-per) for signal changes observed within a specific bandwidth. Aperiodic component (complicated) vs exponent (1/f) (Donoghue, ..., Shestyuk & Voytek, Nature Neurosc 2020 : https://www.nature.com/articles/s41593-020-00744-x)\n",
    "- cycle-by-cycle features: bycycle toolbox (Cole & Voytek, J of Neurophys 2019, https://journals.physiology.org/doi/full/10.1152/jn.00273.2019)\n",
    "- aperiodic component, PD severity, and cortico-subcortico-activity, Bush & Zou, Richardson, bioRxiv 2023 https://www.biorxiv.org/content/10.1101/2023.02.08.527719v1?rss=1\n",
    "\n",
    "<b> Periodic component analysis: </b> \n",
    "- Try Wavelet Dceomposition vs Welch (tapered) Spectral Decomposition\n",
    "\n",
    "\n",
    "\n"
   ]
  },
  {
   "attachments": {},
   "cell_type": "markdown",
   "metadata": {},
   "source": [
    "### 0. Loading packages and functions, defining paths\n",
    "\n"
   ]
  },
  {
   "cell_type": "code",
   "execution_count": null,
   "metadata": {},
   "outputs": [],
   "source": [
    "# Importing Python and external packages\n",
    "import os\n",
    "import sys\n",
    "import importlib\n",
    "import json\n",
    "import pandas as pd\n",
    "import numpy as np\n",
    "import sklearn as sk\n",
    "from itertools import product, compress\n",
    "\n",
    "import matplotlib.pyplot as plt\n",
    "from  matplotlib import __version__ as plt_version\n",
    "\n"
   ]
  },
  {
   "cell_type": "code",
   "execution_count": null,
   "metadata": {},
   "outputs": [],
   "source": [
    "# check some package versions for documentation and reproducability\n",
    "print('Python sys', sys.version)\n",
    "print('pandas', pd.__version__)\n",
    "print('numpy', np.__version__)\n",
    "# print('mne_bids', mne_bids.__version__)\n",
    "# print('mne', mne.__version__)\n",
    "# print('sci-py', scipy.__version__)\n",
    "print('sci-kit learn', sk.__version__)\n",
    "print('matplotlib', plt_version)\n",
    "## FEB 2022:\n",
    "# Python sys 3.9.7 (default, Sep 16 2021, 08:50:36) \n",
    "# [Clang 10.0.0 ]\n",
    "# pandas 1.3.4\n",
    "# numpy 1.20.3\n",
    "# mne_bids 0.9\n",
    "# mne 0.24.1\n",
    "# sci-py 1.7.1\n",
    "# sci-kit learn 1.0.1"
   ]
  },
  {
   "cell_type": "code",
   "execution_count": null,
   "metadata": {},
   "outputs": [],
   "source": [
    "def get_project_path_in_notebook(\n",
    "    subfolder: str = '',\n",
    "):\n",
    "    \"\"\"\n",
    "    Finds path of projectfolder from Notebook.\n",
    "    Start running this once to correctly find\n",
    "    other modules/functions\n",
    "    \"\"\"\n",
    "    path = os.getcwd()\n",
    "\n",
    "    while path[-20:] != 'dyskinesia_neurophys':\n",
    "\n",
    "        path = os.path.dirname(path)\n",
    "    \n",
    "    return path"
   ]
  },
  {
   "cell_type": "code",
   "execution_count": null,
   "metadata": {},
   "outputs": [],
   "source": [
    "# define local storage directories\n",
    "projectpath = get_project_path_in_notebook()\n",
    "codepath = os.path.join(projectpath, 'code')\n",
    "figpath = os.path.join(projectpath, 'figures')\n",
    "datapath = os.path.join(projectpath, 'data')"
   ]
  },
  {
   "cell_type": "code",
   "execution_count": null,
   "metadata": {},
   "outputs": [],
   "source": [
    "os.chdir(codepath)\n",
    "# own utility functions\n",
    "import utils.utils_fileManagement as utilsFiles\n",
    "import utils.utils_windowing as utilsWindows\n",
    "from utils.utils_fileManagement import (get_project_path,\n",
    "                                        load_class_pickle,\n",
    "                                        save_class_pickle,\n",
    "                                        mergedData,\n",
    "                                        correct_acc_class)\n",
    "\n",
    "# own data exploration functions\n",
    "import lfpecog_preproc.preproc_import_scores_annotations as importClin\n",
    "import lfpecog_analysis.ft_processing_helpers as ftProc\n",
    "\n",
    "import lfpecog_plotting.plotHelpers as plotHelp"
   ]
  },
  {
   "attachments": {},
   "cell_type": "markdown",
   "metadata": {},
   "source": [
    "### Plot ssd'd Spectral Descriptives"
   ]
  },
  {
   "attachments": {},
   "cell_type": "markdown",
   "metadata": {},
   "source": [
    "#### SSD time freq plotting\n"
   ]
  },
  {
   "cell_type": "code",
   "execution_count": null,
   "metadata": {},
   "outputs": [],
   "source": [
    "import lfpecog_plotting.plot_timeFreqs_ssd_psds as plot_ssd_TFs"
   ]
  },
  {
   "cell_type": "code",
   "execution_count": null,
   "metadata": {},
   "outputs": [],
   "source": [
    "WIN_LEN=10\n",
    "WIN_OVERLAP=0.5\n",
    "DATA_VERSION='v4.0'\n",
    "FT_VERSION='v6'\n",
    "SSD_BROAD=True\n",
    "INCL_STN_ONLY_PTS=False\n",
    "IGNORE_PTS=['011', '104', '106']"
   ]
  },
  {
   "cell_type": "code",
   "execution_count": null,
   "metadata": {},
   "outputs": [],
   "source": [
    "importlib.reload(ftProc)\n",
    "importlib.reload(importClin)\n",
    "importlib.reload(plot_ssd_TFs)\n",
    "\n",
    "# CONVERT ONLY STNS!!!!!\n",
    "FIG_DATE = '0202b'\n",
    "SUBS = utilsFiles.get_avail_ssd_subs(DATA_VERSION=DATA_VERSION,\n",
    "                          FT_VERSION=FT_VERSION,\n",
    "                          IGNORE_PTS=IGNORE_PTS)\n",
    "print(SUBS)\n",
    "\n",
    "for sub in SUBS:\n",
    "    if sub not in ['008',]:\n",
    "        print(f'skip {sub}')\n",
    "        continue\n",
    "    \n",
    "    print(f'PLOT SUB-{sub}')\n",
    "    plot_ssd_TFs.plot_indiv_ssd_timefreq_allSources(\n",
    "        sub, fig_name_base=f'{FIG_DATE}_ssdTimeFreq',\n",
    "        FT_VERSION=FT_VERSION,\n",
    "        DATA_VERSION=DATA_VERSION,\n",
    "        ZSCORE=False, LOG_POWER=True,\n",
    "        SAVE_PLOT=True,\n",
    "        FOR_FIG=True,)\n",
    "    # except:\n",
    "    #     print(f'sub {sub} error')"
   ]
  },
  {
   "attachments": {},
   "cell_type": "markdown",
   "metadata": {},
   "source": [
    "#### SSD PSD plotting"
   ]
  },
  {
   "cell_type": "code",
   "execution_count": null,
   "metadata": {},
   "outputs": [],
   "source": [
    "\n",
    "import lfpecog_analysis.get_SSD_timefreqs as ssd_TimeFreq\n",
    "# import lfpecog_analysis.process_connectivity as procConn\n",
    "import lfpecog_analysis.get_acc_task_derivs as accDerivs\n",
    "import lfpecog_plotting.plot_descriptive_SSD_PSDs as plot_PSDs\n",
    "import lfpecog_plotting.plot_COH_spectra as plot_COHs\n",
    "import lfpecog_analysis.psd_analysis_classes as psdAnlClass"
   ]
  },
  {
   "cell_type": "code",
   "execution_count": null,
   "metadata": {},
   "outputs": [],
   "source": [
    "# WIN_LEN=10\n",
    "# WIN_OVERLAP=0.5\n",
    "DATA_VERSION='v4.0'\n",
    "FT_VERSION='v6'\n",
    "# SSD_BROAD=True\n",
    "# INCL_STN_ONLY_PTS=True\n",
    "IGNORE_PTS=['011', '104', '106']"
   ]
  },
  {
   "cell_type": "code",
   "execution_count": null,
   "metadata": {},
   "outputs": [],
   "source": [
    "DATA_VERSION='v4.0'\n",
    "FT_VERSION='v6'\n",
    "# SSD_BROAD=True\n",
    "# INCL_STN_ONLY_PTS=True\n",
    "IGNORE_PTS=['011', '104', '106']\n",
    "\n",
    "SUBS = utilsFiles.get_avail_ssd_subs(DATA_VERSION=DATA_VERSION,\n",
    "                          FT_VERSION=FT_VERSION,\n",
    "                          IGNORE_PTS=IGNORE_PTS)\n",
    "print(SUBS)\n",
    "print(len(SUBS))"
   ]
  },
  {
   "cell_type": "code",
   "execution_count": null,
   "metadata": {},
   "outputs": [],
   "source": [
    "# importlib.reload(procConn)\n",
    "\n",
    "importlib.reload(ssd_TimeFreq)\n",
    "\n",
    "\n",
    "TFs = ssd_TimeFreq.get_all_ssd_timeFreqs(\n",
    "    SUBS=SUBS, FT_VERSION=FT_VERSION,\n",
    "    DATA_VERSION=DATA_VERSION,\n",
    "    GET_CONNECTIVITY=False,  # 'trgc'\n",
    ")\n"
   ]
  },
  {
   "cell_type": "code",
   "execution_count": null,
   "metadata": {},
   "outputs": [],
   "source": [
    "importlib.reload(psdAnlClass)\n",
    "importlib.reload(ssd_TimeFreq)\n",
    "\n",
    "COH_TFs = ssd_TimeFreq.get_all_ssd_timeFreqs(\n",
    "    SUBS=SUBS, COH_SOURCE='STNs',\n",
    "    FEATURE='sqCOH',\n",
    "    FT_VERSION=FT_VERSION,\n",
    "    DATA_VERSION=DATA_VERSION,\n",
    "    GET_CONNECTIVITY=False,  # 'trgc'\n",
    ")\n",
    "\n",
    "# COH_TF = ssd_TimeFreq.get_COH_timeFreq(sub='008', COH_TYPE='sqCOH', FT_VERSION='v6',)"
   ]
  },
  {
   "cell_type": "markdown",
   "metadata": {},
   "source": [
    "Plot 10-second epochs using new (Feb-Mar 24) plotting scripts"
   ]
  },
  {
   "cell_type": "code",
   "execution_count": null,
   "metadata": {},
   "outputs": [],
   "source": [
    "print(f\"shape of .values array: {TFs['012']['lfp_left'].values.shape}\")\n",
    "print(f\"shape of .freqs array: {TFs['012']['lfp_left'].freqs.shape}\")\n",
    "print(f\"shape of .times array: {TFs['012']['lfp_left'].times.shape}\")"
   ]
  },
  {
   "cell_type": "code",
   "execution_count": null,
   "metadata": {},
   "outputs": [],
   "source": [
    "BLs = psdAnlClass.get_selectedEphys(\n",
    "    FEATURE='POWER',\n",
    "    STATE_SEL='baseline',\n",
    "    MIN_SEL_LENGTH=10,\n",
    "    LOAD_PICKLE=True,\n",
    "    USE_EXT_HD=True,\n",
    "    PREVENT_NEW_CREATION=False,\n",
    "    RETURN_PSD_1sec=True,\n",
    "    verbose=False,\n",
    ")"
   ]
  },
  {
   "cell_type": "code",
   "execution_count": null,
   "metadata": {},
   "outputs": [],
   "source": [
    "coh_BLs = psdAnlClass.get_selectedEphys(\n",
    "    FEATURE='COH_STNs',\n",
    "    COH_TYPE='sqCOH',\n",
    "    STATE_SEL='baseline',\n",
    "    MIN_SEL_LENGTH=10,\n",
    "    LOAD_PICKLE=True,\n",
    "    USE_EXT_HD=True,\n",
    "    PREVENT_NEW_CREATION=False,\n",
    "    RETURN_PSD_1sec=True,\n",
    "    verbose=False,\n",
    ")"
   ]
  },
  {
   "cell_type": "code",
   "execution_count": null,
   "metadata": {},
   "outputs": [],
   "source": [
    "import lfpecog_features.feats_spectral_helpers as specHelp\n",
    "import lfpecog_plotting.plot_psd_restvsmove as plotRestMovePsds\n",
    "import lfpecog_plotting.plot_10s_epoch_psds as plot_10sEpochs"
   ]
  },
  {
   "cell_type": "markdown",
   "metadata": {},
   "source": [
    "### Plot STN/ECoG Lateralisation during unilat. Dyskinesia\n",
    "\n",
    "Shows lateralization of subthalamic and cortical changes during unilateral Dyskinesia epochs"
   ]
  },
  {
   "cell_type": "code",
   "execution_count": null,
   "metadata": {},
   "outputs": [],
   "source": [
    "importlib.reload(specHelp)\n",
    "importlib.reload(plotRestMovePsds)\n",
    "importlib.reload(plot_10sEpochs)\n",
    "\n",
    "BASE_METHOD = 'percChange'  # percChange / Z / no\n",
    "\n",
    "### 10-sec PREP has to lead to psd_arrs, psd_freqs, psd_subs\n",
    "plot_10sEpochs.plot_unilatLID_PSD_10s(\n",
    "    TFs=TFs, BLs=BLs,\n",
    "    BASE_METHOD=BASE_METHOD,\n",
    "    FIG_DATE='0311',\n",
    "    SMOOTH_WIN=2,\n",
    "    PEAKSHIFT_GAMMA=False,\n",
    ")\n"
   ]
  },
  {
   "cell_type": "markdown",
   "metadata": {},
   "source": [
    "### Plot full 10sec PSDs per LID-category\n",
    "\n",
    "Plots overall subthalamic and cortical powers and coherences, split over Dyskinesia severity (per 10-sec epochs)"
   ]
  },
  {
   "cell_type": "code",
   "execution_count": null,
   "metadata": {},
   "outputs": [],
   "source": [
    "# Test extraction\n",
    "\n",
    "# importlib.reload(plot_10sEpochs)\n",
    "\n",
    "\n",
    "# (psd_arr,\n",
    "#  ps_freqs,\n",
    "#  sub_arr) = plot_10sEpochs.prep_10sPSDs_lidCategs(\n",
    "#         TFs=COH_TFs, SOURCE='STNs',\n",
    "#         BASELINE=coh_BLs,\n",
    "#         FEATURE='sqCOH',\n",
    "#         IPSI_CONTRA_UNILID=False,\n",
    "#         BASE_METHOD='percChange',\n",
    "#     )"
   ]
  },
  {
   "cell_type": "code",
   "execution_count": null,
   "metadata": {},
   "outputs": [],
   "source": [
    "### Get Power Values\n",
    "\n",
    "importlib.reload(plot_10sEpochs)\n",
    "\n",
    "BASE_METHOD = 'percChange'  # percChange / Z / no\n",
    "\n",
    "### 10-sec PREP has to lead to psd_arrs, psd_freqs, psd_subs\n",
    "psd_arr_dict, ps_freqs_dict, sub_arr_dict = {}, {}, {}\n",
    "\n",
    "for src in ['lfp', 'ecog']:\n",
    "\n",
    "    (psd_arr_dict[src],\n",
    "     ps_freqs_dict[src],\n",
    "     sub_arr_dict[src]) = plot_10sEpochs.prep_10sPSDs_lidCategs(\n",
    "        TFs=TFs, SOURCE=src,\n",
    "        BASELINE=BLs,\n",
    "        FEATURE='POWER',\n",
    "        IPSI_CONTRA_UNILID=False,\n",
    "        BASE_METHOD=BASE_METHOD,\n",
    "    )\n"
   ]
  },
  {
   "cell_type": "code",
   "execution_count": null,
   "metadata": {},
   "outputs": [],
   "source": [
    "importlib.reload(ssd_TimeFreq)\n",
    "importlib.reload(plotRestMovePsds)\n",
    "importlib.reload(plot_10sEpochs)\n",
    "\n",
    "# uses pre calculated PSD values, COH values are calculated within function\n",
    "plot_10sEpochs.plot_overall_PSD_COH(\n",
    "    psd_arr_dict=psd_arr_dict, sub_arr_dict=sub_arr_dict,\n",
    "    ps_freqs_dict=ps_freqs_dict,\n",
    "    BASE_METHOD=BASE_METHOD,\n",
    "    PEAKSHIFT_GAMMA=False,\n",
    "    FIG_DATE='0313',\n",
    "    SMOOTH_WIN=3,\n",
    ")"
   ]
  },
  {
   "cell_type": "markdown",
   "metadata": {},
   "source": [
    "### Plot Coherence Spectra Densities"
   ]
  },
  {
   "cell_type": "markdown",
   "metadata": {},
   "source": [
    "Plot 4 STN-ECoG Coherencies"
   ]
  },
  {
   "cell_type": "code",
   "execution_count": null,
   "metadata": {},
   "outputs": [],
   "source": [
    "importlib.reload(plot_COHs)\n",
    "\n",
    "FIG_DATE = '1025'\n",
    "CUT_MILD_MOD = 4\n",
    "CUT_MOD_SEV = 8\n",
    "INCL_CORE_CDRS = False\n",
    "SAVE_PLOT = True\n",
    "SHOW_PLOT = False\n",
    "FILE_NAME = (f'{FIG_DATE}_STNECOG_4_COHs'\n",
    "            f'_{CUT_MILD_MOD}mod{CUT_MOD_SEV}sev')\n",
    "if not INCL_CORE_CDRS: FILE_NAME += '_noCore'\n",
    "\n",
    "fig, axes = plt.subplots(2, 2, figsize=(12, 12),\n",
    "                         sharey='row')\n",
    "\n",
    "for i_row, COH_type in enumerate(['sq_coh', 'imag_coh']):\n",
    "    \n",
    "    for i_col, MOV in enumerate(['INCL_MOVE', 'EXCL_MOVE']):\n",
    "\n",
    "        axes[i_row, i_col] = plot_COHs.plot_COH_spectra(\n",
    "            COH_type=COH_type, COH_source='STN_ECOG',\n",
    "            SELECT_ON_ACC_RMS=MOV,\n",
    "            RETURN_AX=True,\n",
    "            given_ax=axes[i_row, i_col],\n",
    "            CUT_MILD_MOD=CUT_MILD_MOD,\n",
    "            CUT_MOD_SEV=CUT_MOD_SEV,\n",
    "            INCL_CORE_CDRS=INCL_CORE_CDRS,\n",
    "        )\n",
    "\n",
    "if SAVE_PLOT:\n",
    "    path = os.path.join(get_project_path('figures'),\n",
    "                'ft_exploration',\n",
    "                f'data_{DATA_VERSION}_ft_{FT_VERSION}',\n",
    "                'descr_COHs')\n",
    "    if not os.path.exists(path): os.makedirs(path)\n",
    "    plt.savefig(os.path.join(path, FILE_NAME),\n",
    "                facecolor='w', dpi=300,)\n",
    "\n",
    "if SHOW_PLOT: plt.show()\n",
    "else: plt.close()"
   ]
  },
  {
   "cell_type": "markdown",
   "metadata": {},
   "source": [
    "Plot 4 STN-STN Coherencies"
   ]
  },
  {
   "cell_type": "code",
   "execution_count": null,
   "metadata": {},
   "outputs": [],
   "source": [
    "## PLOT STN-STN COHERENCES\n",
    "importlib.reload(plot_COHs)\n",
    "\n",
    "SAVE_PLOT = True\n",
    "SHOW_PLOT = False\n",
    "FILE_NAME = '1025_STNSTN_4_COHs'\n",
    "\n",
    "fig, axes = plt.subplots(2, 2, figsize=(12, 12),\n",
    "                         sharey='row')\n",
    "\n",
    "for i_row, COH_type in enumerate(['sq_coh', 'imag_coh']):\n",
    "    \n",
    "    for i_col, MOV in enumerate(['INCL_MOVE', 'EXCL_MOVE']):\n",
    "\n",
    "        axes[i_row, i_col] = plot_COHs.plot_COH_spectra(\n",
    "            COH_type=COH_type, COH_source='STN_STN',\n",
    "            SELECT_ON_ACC_RMS=MOV,\n",
    "            RETURN_AX=True,\n",
    "            given_ax=axes[i_row, i_col]\n",
    "        )\n",
    "\n",
    "if SAVE_PLOT:\n",
    "    path = os.path.join(get_project_path('figures'),\n",
    "                'ft_exploration',\n",
    "                f'data_{DATA_VERSION}_ft_{FT_VERSION}',\n",
    "                'descr_COHs')\n",
    "    if not os.path.exists(path): os.makedirs(path)\n",
    "    plt.savefig(os.path.join(path, FILE_NAME),\n",
    "                facecolor='w', dpi=300,)\n",
    "\n",
    "if SHOW_PLOT: plt.show()\n",
    "else: plt.close()\n"
   ]
  },
  {
   "attachments": {},
   "cell_type": "markdown",
   "metadata": {},
   "source": [
    "##### Plot Group Results: Spectral changes over Time after L-Dopa, non-LID versus LID\n",
    "\n",
    "Moved to separate py script (plot_group_metrics_over_time.py)"
   ]
  },
  {
   "attachments": {},
   "cell_type": "markdown",
   "metadata": {},
   "source": [
    "##### Plot LID-Group Results: Laterality of LID in STN and ECoG"
   ]
  },
  {
   "cell_type": "markdown",
   "metadata": {},
   "source": [
    "Plot SEVERITY AND LATERALITY OF STN-changes during DYSKINESIA\n",
    "\n",
    "- LAT_UNI: plot laterality of unilateral LID\n",
    "- LAT_BILAT: plot laterality of only bilateral LID\n",
    "- SCALE: combine all uni- and bilateral LID\n",
    "    - PLOT_ONLY_MATCH == True: plot only STN contralateral to LID\n",
    "    - PLOT_ONLY_MATCH == False: plot contra-, ipsi-, and bi-lateral STN-LID\n"
   ]
  },
  {
   "cell_type": "code",
   "execution_count": null,
   "metadata": {},
   "outputs": [],
   "source": [
    "import lfpecog_analysis.psd_lid_stats as psd_stats\n",
    "import lfpecog_analysis.get_acc_task_derivs as accDerivs"
   ]
  },
  {
   "cell_type": "code",
   "execution_count": null,
   "metadata": {},
   "outputs": [],
   "source": [
    "importlib.reload(ftProc)\n",
    "importlib.reload(accDerivs)\n",
    "importlib.reload(importClin)\n",
    "importlib.reload(plotHelp)\n",
    "# importlib.reload(psd_stats)\n",
    "importlib.reload(plot_PSDs)\n",
    "\n",
    "# PM, needs: TFs = ssd_TimeFreq.get_all_ssd_timeFreqs(SUBS=SUBS)\n",
    "\n",
    "# 'LAT_UNI' , 'LAT_BILAT', 'SCALE', 'LAT_ALL_SCALE'\n",
    "LAT_or_SCALE = 'LAT_UNI'\n",
    "STAT_DATE = '1023'\n",
    "FIG_DATE = '0305'\n",
    "\n",
    "INCL_PRELID = False\n",
    "PRELID_MINs=5\n",
    "SMOOTH_FREQS=8\n",
    "LOG_POWER=False\n",
    "BASELINE_CORRECT=True\n",
    "ZSCORE_FREQS=False\n",
    "SHOW_GAMMA = False\n",
    "SHOW_SIGN = False\n",
    "PLOT_ONLY_MATCH = False\n",
    "SELECT_ACC_RMS= False\n",
    "\n",
    "fig_name = f'{FIG_DATE}_STN_PSDs_{LAT_or_SCALE}_LID_n{len(SUBS)}'\n",
    "\n",
    "if INCL_PRELID: fig_name += f'_inclPre{PRELID_MINs}'\n",
    "if BASELINE_CORRECT: fig_name += '_blCorr'\n",
    "if LOG_POWER: fig_name += '_log'\n",
    "if ZSCORE_FREQS: fig_name += '_Z'\n",
    "if SMOOTH_FREQS > 0: fig_name += f'_smooth{SMOOTH_FREQS}'\n",
    "# if SINGLE_LINE: fig_name += '_lines'\n",
    "if SHOW_GAMMA: fig_name += '_GAMMA'\n",
    "if SHOW_SIGN: fig_name += '_SIGN'\n",
    "if PLOT_ONLY_MATCH: fig_name += '_onlyMatch'\n",
    "if SELECT_ACC_RMS: fig_name += f'_{SELECT_ACC_RMS}'\n",
    "\n",
    "\n",
    "fsize=14\n",
    "\n",
    "stn_stats = plot_PSDs.plot_STN_PSD_vs_LID(\n",
    "    all_timefreqs=TFs,\n",
    "    CDRS_RATER='Patricia',\n",
    "    LAT_or_SCALE=LAT_or_SCALE,\n",
    "    SELECT_ON_ACC_RMS=SELECT_ACC_RMS,\n",
    "    incl_PRE_LID=INCL_PRELID,\n",
    "    PRELID_MIN=PRELID_MINs,\n",
    "    LOG_POWER=LOG_POWER,\n",
    "    BASELINE_CORRECT=BASELINE_CORRECT,\n",
    "    SMOOTH_PLOT_FREQS=SMOOTH_FREQS,\n",
    "    ZSCORE_FREQS=ZSCORE_FREQS,\n",
    "    plt_ax_to_return=False,\n",
    "    fsize=fsize,\n",
    "    BREAK_X_AX=True,\n",
    "    fig_name=fig_name,\n",
    "    RETURN_FREQ_CORR=False,\n",
    "    SHOW_ONLY_GAMMA=SHOW_GAMMA,\n",
    "    SHOW_SIGN=SHOW_SIGN,\n",
    "    PROCESS_STATS=False,\n",
    "    p_SAVED_DATE=STAT_DATE,\n",
    "    PLOT_ONLY_MATCH=PLOT_ONLY_MATCH,\n",
    "    DATA_VERSION=DATA_VERSION,\n",
    "    FT_VERSION=FT_VERSION,\n",
    ")\n"
   ]
  },
  {
   "cell_type": "markdown",
   "metadata": {},
   "source": [
    "Plot SEVERITY AND LATERALITY OF ECoG-changes during DYSKINESIA"
   ]
  },
  {
   "cell_type": "code",
   "execution_count": null,
   "metadata": {},
   "outputs": [],
   "source": [
    "importlib.reload(accDerivs)\n",
    "# importlib.reload(psdLID_stats)\n",
    "importlib.reload(plot_PSDs)\n",
    "\n",
    "# PM, needs: TFs = ssd_TimeFreq.get_all_ssd_timeFreqs(SUBS=SUBS)\n",
    "\n",
    "# 'LAT_UNI' , 'LAT_BILAT', 'SCALE', 'LAT_ALL_SCALE'\n",
    "FIG_DATE = '1025'\n",
    "STAT_DATE = '1023'\n",
    "LAT_or_SCALE = 'SCALE'\n",
    "SAVE_PLOT = True\n",
    "SHOW_PLOT = False\n",
    "\n",
    "SMOOTH_FREQS = 8\n",
    "LOG_POWER = False\n",
    "BASELINE_CORRECT = True\n",
    "ZSCORE_FREQS = False\n",
    "SINGLE_LINE = False\n",
    "SHOW_GAMMA = False\n",
    "PLOT_ONLY_MATCH = True\n",
    "SHOW_SIGN = False\n",
    "SELECT_ACC_RMS = 'EXCL_MOVE'\n",
    "\n",
    "fig_name = f'{FIG_DATE}_ECoG_PSDs_LID_{LAT_or_SCALE}_n{len(SUBS)}'\n",
    "\n",
    "if BASELINE_CORRECT: fig_name += '_blCorr'\n",
    "if LOG_POWER: fig_name += '_log'\n",
    "if ZSCORE_FREQS: fig_name += '_Z'\n",
    "if SMOOTH_FREQS > 0: fig_name += f'_smooth{SMOOTH_FREQS}'\n",
    "if SINGLE_LINE: fig_name += '_lines'\n",
    "if SHOW_GAMMA: fig_name += '_GAMMA'\n",
    "if SHOW_SIGN: fig_name += '_SIGN'\n",
    "if PLOT_ONLY_MATCH: fig_name += '_onlyMatch'\n",
    "if SELECT_ACC_RMS: fig_name += f'_{SELECT_ACC_RMS}'\n",
    "\n",
    "fsize=14\n",
    "\n",
    "plot_PSDs.plot_ECOG_PSD_vs_LID(\n",
    "    TFs,\n",
    "    LAT_or_SCALE=LAT_or_SCALE,\n",
    "    LOG_POWER=LOG_POWER,\n",
    "    BASELINE_CORRECT=BASELINE_CORRECT,\n",
    "    SELECT_ON_ACC_RMS=SELECT_ACC_RMS,\n",
    "    SMOOTH_PLOT_FREQS=SMOOTH_FREQS,\n",
    "    ZSCORE_FREQS=ZSCORE_FREQS,\n",
    "    plt_ax_to_return=False,\n",
    "    fsize=fsize,\n",
    "    BREAK_X_AX=True,\n",
    "    fig_name=fig_name,\n",
    "    single_sub_lines=SINGLE_LINE,\n",
    "    PLOT_ONLY_MATCH=PLOT_ONLY_MATCH,\n",
    "    SHOW_ONLY_GAMMA=SHOW_GAMMA,\n",
    "    SHOW_SIGN=SHOW_SIGN,\n",
    "    PROCESS_STATS=False,\n",
    "    p_SAVED_DATE=STAT_DATE,\n",
    "    DATA_VERSION=DATA_VERSION,\n",
    "    FT_VERSION=FT_VERSION,\n",
    ")"
   ]
  },
  {
   "cell_type": "markdown",
   "metadata": {},
   "source": [
    "Plot LATERALITY during UNILATERAL dyskinesia"
   ]
  },
  {
   "cell_type": "code",
   "execution_count": null,
   "metadata": {},
   "outputs": [],
   "source": [
    "LID_SUBS = [s for s in SUBS if s not in ['101', '109', '017']]\n",
    "print(LID_SUBS)"
   ]
  },
  {
   "cell_type": "code",
   "execution_count": null,
   "metadata": {},
   "outputs": [],
   "source": [
    "importlib.reload(plot_PSDs)\n",
    "\n",
    "\n",
    "SAVE_PLOT = True\n",
    "SHOW_PLOT = False\n",
    "\n",
    "SMOOTH_FREQS=8\n",
    "LOG_POWER=False\n",
    "BASELINE_CORRECT=True\n",
    "ZSCORE_FREQS=False\n",
    "CDRS_RATER = 'Patricia'\n",
    "\n",
    "fig_name = f'0305_LATERALITY_STNandECOG_PSDs_unilatLID_n{len(SUBS)}'\n",
    "if BASELINE_CORRECT: fig_name += '_blCorr'\n",
    "if LOG_POWER: fig_name += '_log'\n",
    "if ZSCORE_FREQS: fig_name += '_Z'\n",
    "if SMOOTH_FREQS > 0: fig_name += f'_smooth{SMOOTH_FREQS}'\n",
    "\n",
    "\n",
    "\n",
    "fig, axes = plt.subplots(1, 2, figsize=(12, 6))\n",
    "\n",
    "fsize=14\n",
    "\n",
    "plot_PSDs.plot_STN_PSD_vs_LID(\n",
    "    TFs, sel_subs=LID_SUBS,\n",
    "    LAT_or_SCALE='LAT_UNI',  # LAT_UNI\n",
    "    CDRS_RATER=CDRS_RATER,\n",
    "    LOG_POWER=LOG_POWER,\n",
    "    BASELINE_CORRECT=BASELINE_CORRECT,\n",
    "    SMOOTH_PLOT_FREQS=SMOOTH_FREQS,\n",
    "    ZSCORE_FREQS=ZSCORE_FREQS,\n",
    "    plt_ax_to_return=axes[0],\n",
    "    fsize=fsize,\n",
    "    BREAK_X_AX=True,\n",
    "    DATA_VERSION=DATA_VERSION,\n",
    "    FT_VERSION=FT_VERSION,\n",
    ")\n",
    "plot_PSDs.plot_ECOG_PSD_vs_LID(\n",
    "    TFs, sel_subs=LID_SUBS,\n",
    "    LAT_or_SCALE='LAT_UNI',\n",
    "    CDRS_RATER=CDRS_RATER,\n",
    "    LOG_POWER=LOG_POWER,\n",
    "    BASELINE_CORRECT=BASELINE_CORRECT,\n",
    "    SMOOTH_PLOT_FREQS=SMOOTH_FREQS,\n",
    "    ZSCORE_FREQS=ZSCORE_FREQS,\n",
    "    plt_ax_to_return=axes[1],\n",
    "    fsize=fsize,\n",
    "    BREAK_X_AX=True,\n",
    "    DATA_VERSION=DATA_VERSION,\n",
    "    FT_VERSION=FT_VERSION,\n",
    ")\n",
    "\n",
    "# equalize axes\n",
    "ymin = min([min(ax.get_ylim()) for ax in axes])\n",
    "ymax = max([max(ax.get_ylim()) for ax in axes])\n",
    "for ax in axes: ax.set_ylim(ymin, ymax)\n",
    "\n",
    "for ax in axes: ax.tick_params(axis='both', size=fsize,\n",
    "                               labelsize=fsize)\n",
    "plt.tight_layout()\n",
    "\n",
    "if SAVE_PLOT:\n",
    "    plt.savefig(os.path.join(get_project_path('figures'),\n",
    "                             'ft_exploration',\n",
    "                             f'data_{DATA_VERSION}_ft_{FT_VERSION}',\n",
    "                             'descr_PSDs', fig_name),\n",
    "                facecolor='w', dpi=300,)\n",
    "if SHOW_PLOT: plt.show()\n",
    "else: plt.close()"
   ]
  },
  {
   "cell_type": "code",
   "execution_count": null,
   "metadata": {},
   "outputs": [],
   "source": []
  },
  {
   "cell_type": "code",
   "execution_count": null,
   "metadata": {},
   "outputs": [],
   "source": []
  }
 ],
 "metadata": {
  "kernelspec": {
   "display_name": "Python 3.9.0 ('ecog_dysk')",
   "language": "python",
   "name": "python3"
  },
  "language_info": {
   "codemirror_mode": {
    "name": "ipython",
    "version": 3
   },
   "file_extension": ".py",
   "mimetype": "text/x-python",
   "name": "python",
   "nbconvert_exporter": "python",
   "pygments_lexer": "ipython3",
   "version": "3.9.0"
  },
  "orig_nbformat": 4,
  "vscode": {
   "interpreter": {
    "hash": "2b948574b4cc10c9dd8fa8cab55862e7a8500229b4c7ca6593391d5001a62fb2"
   }
  }
 },
 "nbformat": 4,
 "nbformat_minor": 2
}
